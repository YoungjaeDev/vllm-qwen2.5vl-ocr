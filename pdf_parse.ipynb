{
 "cells": [
  {
   "cell_type": "code",
   "execution_count": 1,
   "metadata": {},
   "outputs": [],
   "source": [
    "# olmocr python 가상환경 설정"
   ]
  },
  {
   "cell_type": "code",
   "execution_count": 2,
   "metadata": {},
   "outputs": [],
   "source": [
    "# !pip install -q nest_asyncio"
   ]
  },
  {
   "cell_type": "code",
   "execution_count": 3,
   "metadata": {},
   "outputs": [],
   "source": [
    "import nest_asyncio\n",
    "#nest_asyncio는 Jupyter Notebook(ipynb)에서 비동기(async/await) 코드를 실행하기 위해 필요\n",
    "nest_asyncio.apply()"
   ]
  },
  {
   "cell_type": "markdown",
   "metadata": {},
   "source": [
    "## OLMOCR 설치"
   ]
  },
  {
   "cell_type": "code",
   "execution_count": 4,
   "metadata": {},
   "outputs": [],
   "source": [
    "# RestFul서비스를 구축하고 테스트하기 위해 필요\n",
    "# !pip install -Uq olmocr openai ipywidgets "
   ]
  },
  {
   "cell_type": "code",
   "execution_count": 5,
   "metadata": {},
   "outputs": [],
   "source": [
    "# !pip install transformers==4.49.0"
   ]
  },
  {
   "cell_type": "code",
   "execution_count": 6,
   "metadata": {},
   "outputs": [],
   "source": [
    "# !git clone https://github.com/allenai/olmocr.git\n",
    "# %cd olmocr\n",
    "# !pip install -e ."
   ]
  },
  {
   "cell_type": "markdown",
   "metadata": {},
   "source": [
    "## PDF 테스트 파일 설정"
   ]
  },
  {
   "cell_type": "code",
   "execution_count": 7,
   "metadata": {},
   "outputs": [],
   "source": [
    "import asyncio\n",
    "import json\n",
    "from pathlib import Path\n",
    "from tqdm import tqdm\n",
    "import os\n",
    "\n",
    "from pypdf import PdfReader\n",
    "from olmocr.pipeline import build_page_query, build_dolma_document, PageResult\n",
    "from olmocr.prompts import PageResponse\n",
    "\n",
    "from olmocr.version import VERSION\n",
    "from glob import glob\n",
    "\n",
    "from openai import OpenAI\n",
    "client = OpenAI(base_url=\"http://localhost:8000/v1\", api_key=\"token-abc123\", timeout=120)\n",
    "\n",
    "async def process_page(filename, page_num):\n",
    "    query = await build_page_query(filename,\n",
    "                            page=page_num,\n",
    "                            target_longest_image_dim=1024,\n",
    "                            target_anchor_text_len=6000)\n",
    "    \n",
    "    # query['model'] = 'Qwen2.5-VL-7B-Instruct'\n",
    "    query['model'] = 'olmOCR-7B-0225-preview'\n",
    "\n",
    "    # print(query)\n",
    "    response = client.chat.completions.create(**query)\n",
    "\n",
    "    content = response.choices[0].message.content\n",
    "\n",
    "    page_response = PageResponse(\n",
    "        primary_language = \"ko\",\n",
    "        is_rotation_valid = False,\n",
    "        rotation_correction = 0,\n",
    "        is_table = False,\n",
    "        is_diagram = False,\n",
    "        natural_text = content\n",
    "    )\n",
    "\n",
    "    return PageResult(\n",
    "        filename,\n",
    "        page_num,\n",
    "        page_response,\n",
    "        input_tokens=response.usage.prompt_tokens,\n",
    "        output_tokens=response.usage.completion_tokens,\n",
    "        is_fallback=False\n",
    "    )"
   ]
  },
  {
   "cell_type": "code",
   "execution_count": 8,
   "metadata": {},
   "outputs": [],
   "source": [
    "# async def get_content(file_path):\n",
    "#     reader = PdfReader(file_path)\n",
    "#     file_name = Path(file_path).stem\n",
    "#     num_pages = reader.get_num_pages()\n",
    "#     results = []\n",
    "    \n",
    "#     for page_num in trange(1, num_pages + 1):\n",
    "#         result = await process_page(file_path, page_num)\n",
    "        \n",
    "#         results.append(result)\n",
    "        \n",
    "#         print(result.response)\n",
    "        \n",
    "#         print(\"--------------------------------\")\n",
    "#         # 만약 result.response가 JSON 문자열이라면\n",
    "#         if isinstance(result.response.natural_text, str):\n",
    "#             try:\n",
    "#                 response_dict = json.loads(result.response.natural_text)\n",
    "#                 print(f\"Processed: {response_dict['natural_text']}\")\n",
    "#             except json.JSONDecodeError:\n",
    "#                 print(f\"Processed: {result.response.natural_text}\")\n",
    "#         else:\n",
    "#             # PageResponse 객체라면\n",
    "#             print(f\"Processed: {result.response.natural_text}\")\n",
    "            \n",
    "#     print(\"--- Get PDF Results ---\")\n",
    "#     text_parts = []\n",
    "#     for result in results:\n",
    "#         if isinstance(result.response.natural_text, str):\n",
    "#             try:\n",
    "#                 response_dict = json.loads(result.response.natural_text)\n",
    "#                 text_parts.append(response_dict['natural_text'])\n",
    "#             except json.JSONDecodeError:\n",
    "#                 # JSON 파싱에 실패하면 원본 텍스트 추가\n",
    "#                 text_parts.append(result.response.natural_text)\n",
    "#         else:\n",
    "#             text_parts.append(result.response.natural_text)\n",
    "    \n",
    "#     text = \"\\n\".join(text_parts)\n",
    "#     print(text)\n",
    "\n",
    "#     # 텍스트를 마크다운 파일로 저장\n",
    "#     output_folder = Path(\"./results\")\n",
    "#     output_folder.mkdir(exist_ok=True, parents=True)\n",
    "    \n",
    "#     md_path = output_folder.joinpath(file_name).with_suffix(\".md\")\n",
    "#     full_path = md_path.resolve()\n",
    "#     print(f\"마크다운 저장 경로: {full_path}\")\n",
    "#     with open(full_path, \"w\", encoding=\"utf-8\") as file:\n",
    "#         file.write(text)\n",
    "\n",
    "#     # build_dolma_document 부분 주석 처리\n",
    "#     # print(\"--- Build the dolma results ---\")\n",
    "#     # doc = build_dolma_document(file_path, results)\n",
    "#     # pdf_doc = json.dumps(doc, ensure_ascii=False)\n",
    "#     # print(pdf_doc)\n",
    "#     # dolma_path = output_folder.joinpath(file_name).with_suffix(\".results.json\")\n",
    "#     # full_path = dolma_path.resolve()\n",
    "#     # print(full_path)\n",
    "#     # with open(full_path, \"w\", encoding=\"utf-8\") as file:\n",
    "#     #     file.write(pdf_doc + \"\\n\")"
   ]
  },
  {
   "cell_type": "code",
   "execution_count": 9,
   "metadata": {},
   "outputs": [],
   "source": [
    "async def get_content(file_path, single_page=False, page_num=None):\n",
    "    reader = PdfReader(file_path)\n",
    "    file_name = Path(file_path).stem\n",
    "    num_pages = reader.get_num_pages()\n",
    "    results = []\n",
    "    \n",
    "    # 파일명에 대한 폴더 생성\n",
    "    output_folder = Path(\"./results\")\n",
    "    output_folder.mkdir(exist_ok=True, parents=True)\n",
    "    \n",
    "    pdf_folder = output_folder.joinpath(file_name)\n",
    "    \n",
    "    # 폴더가 이미 존재하는지 확인\n",
    "    if pdf_folder.exists() and len(os.listdir(pdf_folder)) == num_pages and not single_page:\n",
    "        print(f\"폴더 '{pdf_folder}'가 이미 존재합니다. 처리를 건너뜁니다.\")\n",
    "        return  # 함수 종료\n",
    "    \n",
    "    pdf_folder.mkdir(exist_ok=True, parents=True)\n",
    "    \n",
    "    page_num = 1 if page_num is None else page_num\n",
    "    pbar = tqdm(total=num_pages if not single_page else 1)\n",
    "    \n",
    "    while page_num <= num_pages:\n",
    "        result = await process_page(file_path, page_num)\n",
    "\n",
    "        print(\"--------------------------------\")\n",
    "        \n",
    "        # 페이지 텍스트 추출\n",
    "        page_text = None\n",
    "        if isinstance(result.response.natural_text, str):\n",
    "            try:\n",
    "                response_dict = json.loads(result.response.natural_text)\n",
    "                page_text = response_dict.get('natural_text')\n",
    "                # print(f\"Processed: {page_text}\")\n",
    "            except json.JSONDecodeError:\n",
    "                print(f\"Error: JSONDecodeError\")                \n",
    "        else:\n",
    "            page_text = result.response.natural_text\n",
    "            # print(f\"Processed: {page_text}\")\n",
    "        \n",
    "        # None이거나 빈 문자열이면 재시도\n",
    "        if page_text is None or page_text == \"\":\n",
    "            print(f\"페이지 {page_num}의 텍스트가 없습니다. 재시도합니다.\")\n",
    "            # 잠시 대기 후 재시도\n",
    "            await asyncio.sleep(1)\n",
    "            continue  # 같은 페이지 다시 시도\n",
    "        \n",
    "        # 성공적으로 텍스트를 얻었으면 결과 저장 및 다음 페이지로\n",
    "        results.append(result)\n",
    "        \n",
    "        # 페이지별 마크다운 파일 저장\n",
    "        page_md_path = pdf_folder.joinpath(f\"page_{page_num}.md\")\n",
    "        with open(page_md_path, \"w\", encoding=\"utf-8\") as file:\n",
    "            file.write(page_text)\n",
    "        \n",
    "        if single_page:\n",
    "            break\n",
    "        \n",
    "        # 다음 페이지로 이동\n",
    "        page_num += 1\n",
    "        pbar.update(1)\n",
    "    \n",
    "    print(\"---End---\")\n",
    "    pbar.close()"
   ]
  },
  {
   "cell_type": "code",
   "execution_count": 10,
   "metadata": {},
   "outputs": [],
   "source": [
    "def main():\n",
    "    file_dir = \"data/건설안전지침/\"\n",
    "        \n",
    "    files = glob(file_dir + \"*.pdf\")\n",
    "    \n",
    "    for file in files:\n",
    "        print(f\"Processing {Path(file).stem}\")\n",
    "        # Run the async event loop\n",
    "        asyncio.run(get_content(file))"
   ]
  },
  {
   "cell_type": "markdown",
   "metadata": {},
   "source": [
    "### 특정 문서 / 페이지 디버깅을 위한 함수"
   ]
  },
  {
   "cell_type": "code",
   "execution_count": 11,
   "metadata": {},
   "outputs": [],
   "source": [
    "# def main():\n",
    "#     files = [\"data/건설안전지침/재사용 가설기자재 성능기준에 관한 지침.pdf\"]\n",
    "    \n",
    "#     for file in files:\n",
    "#         print(f\"Processing {Path(file).stem}\")\n",
    "#         # Run the async event loop\n",
    "        \n",
    "#         for page_num in [23, 25, 28, 30, 33, 37, 42, 43, 44, 45, 48, 49]:\n",
    "#             asyncio.run(get_content(file, single_page=True, page_num=page_num))\n",
    "#         # asyncio.run(get_content(file, single_page=True, page_num=14))"
   ]
  },
  {
   "cell_type": "code",
   "execution_count": null,
   "metadata": {},
   "outputs": [
    {
     "name": "stdout",
     "output_type": "stream",
     "text": [
      "Processing 건설공사의 고소작업대 안전보건작업지침\n",
      "폴더 'results/건설공사의 고소작업대 안전보건작업지침'가 이미 존재합니다. 처리를 건너뜁니다.\n",
      "Processing 취약시기 건설현장 안전작업지침\n",
      "폴더 'results/취약시기 건설현장 안전작업지침'가 이미 존재합니다. 처리를 건너뜁니다.\n",
      "Processing 수직형 추락방망 설치 기술지침\n",
      "폴더 'results/수직형 추락방망 설치 기술지침'가 이미 존재합니다. 처리를 건너뜁니다.\n",
      "Processing 초고층 건축물공사(일반사항) 안전보건작업지침\n",
      "폴더 'results/초고층 건축물공사(일반사항) 안전보건작업지침'가 이미 존재합니다. 처리를 건너뜁니다.\n",
      "Processing 타일(Tile) 공사 안전보건작업 지침\n",
      "폴더 'results/타일(Tile) 공사 안전보건작업 지침'가 이미 존재합니다. 처리를 건너뜁니다.\n",
      "Processing 터널공사(Shield-T.B.M공법) 안전보건작업 지침\n",
      "폴더 'results/터널공사(Shield-T.B.M공법) 안전보건작업 지침'가 이미 존재합니다. 처리를 건너뜁니다.\n",
      "Processing 현수교 주탑시공 안전보건작업지침\n",
      "폴더 'results/현수교 주탑시공 안전보건작업지침'가 이미 존재합니다. 처리를 건너뜁니다.\n",
      "Processing 블록식 보강토 옹벽 공사 안전보건작업 지침\n",
      "폴더 'results/블록식 보강토 옹벽 공사 안전보건작업 지침'가 이미 존재합니다. 처리를 건너뜁니다.\n",
      "Processing 항타기, 항발기 사용 작업계획서 작성지침\n",
      "폴더 'results/항타기, 항발기 사용 작업계획서 작성지침'가 이미 존재합니다. 처리를 건너뜁니다.\n",
      "Processing 조적공사 안전보건작업 기술지침\n",
      "폴더 'results/조적공사 안전보건작업 기술지침'가 이미 존재합니다. 처리를 건너뜁니다.\n",
      "Processing 시스템 동바리 안전작업 지침\n",
      "폴더 'results/시스템 동바리 안전작업 지침'가 이미 존재합니다. 처리를 건너뜁니다.\n",
      "Processing 야간 건설공사 안전보건작업 지침\n",
      "폴더 'results/야간 건설공사 안전보건작업 지침'가 이미 존재합니다. 처리를 건너뜁니다.\n",
      "Processing 관로매설공사(유압식 추진공법) 안전보건작업 지침\n",
      "폴더 'results/관로매설공사(유압식 추진공법) 안전보건작업 지침'가 이미 존재합니다. 처리를 건너뜁니다.\n",
      "Processing 가설구조물의 설계변경 요청 내용, 절차 등에 관한 작성지침\n",
      "폴더 'results/가설구조물의 설계변경 요청 내용, 절차 등에 관한 작성지침'가 이미 존재합니다. 처리를 건너뜁니다.\n",
      "Processing 굴착공사 계측관리 기술지침\n",
      "폴더 'results/굴착공사 계측관리 기술지침'가 이미 존재합니다. 처리를 건너뜁니다.\n",
      "Processing 중소규모 건설업체 본사의 안전보건관리에 관한 지침\n",
      "폴더 'results/중소규모 건설업체 본사의 안전보건관리에 관한 지침'가 이미 존재합니다. 처리를 건너뜁니다.\n",
      "Processing I.L.M 교량공사 안전보건작업 지침\n",
      "폴더 'results/I.L.M 교량공사 안전보건작업 지침'가 이미 존재합니다. 처리를 건너뜁니다.\n",
      "Processing 가공송전선로 철탑 심형기초공사 안전보건작업 지침\n",
      "폴더 'results/가공송전선로 철탑 심형기초공사 안전보건작업 지침'가 이미 존재합니다. 처리를 건너뜁니다.\n",
      "Processing 현수교 교량공사 안전보건작업 지침\n",
      "폴더 'results/현수교 교량공사 안전보건작업 지침'가 이미 존재합니다. 처리를 건너뜁니다.\n",
      "Processing 흙막이공사(Earth Anchor 공법) 안전보건작업 지침\n",
      "폴더 'results/흙막이공사(Earth Anchor 공법) 안전보건작업 지침'가 이미 존재합니다. 처리를 건너뜁니다.\n",
      "Processing 작업의자형 달비계 안전작업 지침\n",
      "폴더 'results/작업의자형 달비계 안전작업 지침'가 이미 존재합니다. 처리를 건너뜁니다.\n",
      "Processing 재사용 가설기자재 성능기준에 관한 지침\n",
      "폴더 'results/재사용 가설기자재 성능기준에 관한 지침'가 이미 존재합니다. 처리를 건너뜁니다.\n",
      "Processing 프리캐스트 콘크리트 건축구조물 조립 안전보건작업 지침\n",
      "폴더 'results/프리캐스트 콘크리트 건축구조물 조립 안전보건작업 지침'가 이미 존재합니다. 처리를 건너뜁니다.\n",
      "Processing 흙막이공사(지하연속벽) 안전보건작업 지침\n",
      "폴더 'results/흙막이공사(지하연속벽) 안전보건작업 지침'가 이미 존재합니다. 처리를 건너뜁니다.\n",
      "Processing 해상 RCD 현장타설 말뚝공사(현수교, 사장교) 안전작업 지침\n",
      "폴더 'results/해상 RCD 현장타설 말뚝공사(현수교, 사장교) 안전작업 지침'가 이미 존재합니다. 처리를 건너뜁니다.\n",
      "Processing 슬립폼(Slip form) 안전작업 지침\n",
      "폴더 'results/슬립폼(Slip form) 안전작업 지침'가 이미 존재합니다. 처리를 건너뜁니다.\n",
      "Processing 낙하물 방호선반 설치 지침\n",
      "폴더 'results/낙하물 방호선반 설치 지침'가 이미 존재합니다. 처리를 건너뜁니다.\n",
      "Processing 시스템폼(RCS폼,ACS폼 중심) 안전작업 지침\n",
      "폴더 'results/시스템폼(RCS폼,ACS폼 중심) 안전작업 지침'가 이미 존재합니다. 처리를 건너뜁니다.\n",
      "Processing 건설현장의 중량물 취급 작업계획서(이동식크레인) 작성지침\n",
      "폴더 'results/건설현장의 중량물 취급 작업계획서(이동식크레인) 작성지침'가 이미 존재합니다. 처리를 건너뜁니다.\n",
      "Processing 밀폐공간의 방수공사 안전보건작업 지침\n",
      "폴더 'results/밀폐공간의 방수공사 안전보건작업 지침'가 이미 존재합니다. 처리를 건너뜁니다.\n",
      "Processing 추락방호망 설치 지침\n",
      "폴더 'results/추락방호망 설치 지침'가 이미 존재합니다. 처리를 건너뜁니다.\n",
      "Processing 탑다운(Top down) 공법 안전작업 지침\n",
      "폴더 'results/탑다운(Top down) 공법 안전작업 지침'가 이미 존재합니다. 처리를 건너뜁니다.\n",
      "Processing 지붕공사 안전보건작업 기술지침\n",
      "폴더 'results/지붕공사 안전보건작업 기술지침'가 이미 존재합니다. 처리를 건너뜁니다.\n",
      "Processing PCT거더 교량공사 안전보건작업지침\n"
     ]
    },
    {
     "name": "stderr",
     "output_type": "stream",
     "text": [
      "  0%|          | 0/32 [00:00<?, ?it/s]INFO:httpx:HTTP Request: POST http://localhost:8000/v1/chat/completions \"HTTP/1.1 200 OK\"\n",
      "  3%|▎         | 1/32 [00:04<02:20,  4.54s/it]"
     ]
    },
    {
     "name": "stdout",
     "output_type": "stream",
     "text": [
      "--------------------------------\n",
      "Processed: PCT거더 교량공사 안전보건작업 지침\n"
     ]
    },
    {
     "name": "stderr",
     "output_type": "stream",
     "text": [
      "INFO:httpx:HTTP Request: POST http://localhost:8000/v1/chat/completions \"HTTP/1.1 200 OK\"\n",
      "  6%|▋         | 2/32 [00:12<03:13,  6.46s/it]"
     ]
    },
    {
     "name": "stdout",
     "output_type": "stream",
     "text": [
      "--------------------------------\n",
      "Processed: 안전보건작업지침의 개요\n",
      "\n",
      "○ 작성자 : 한국안전학회 백신원\n",
      "\n",
      "○ 제·개정 경과\n",
      "\n",
      "- 2013년 9월 건설안전분야 제정위원회 심의(제정)\n",
      "\n",
      "○ 관련규격 및 자료\n",
      "\n",
      "- 최신 교량공학(동명사, 황학주)\n",
      "- 도로교 표준시방서(대한토목학회)\n",
      "- 교량공사(PCT거더공법) 시공자료\n",
      "- KS D ISO 10721-2 : 강구조물-제2부 : 조립 및 가설\n",
      "\n",
      "○ 관련법규 · 규칙 · 고시 등\n",
      "\n",
      "- 산업안전보건기준에 관한 규칙 제379조~제393조\n",
      "\n",
      "○ 작업지침의 적용 및 문의\n",
      "\n",
      "이 작업지침에 대한 의견 또는 문의는 한국산업안전보건공단 홈페이지 안전보건기술지침 소관 분야별 문의처 안내를 참고하시기 바랍니다.\n",
      "\n",
      "공표일자 : 2013년 10월 2일\n",
      "제 정 자 : 한국산업안전보건공단 이사장\n"
     ]
    },
    {
     "name": "stderr",
     "output_type": "stream",
     "text": [
      "INFO:httpx:HTTP Request: POST http://localhost:8000/v1/chat/completions \"HTTP/1.1 200 OK\"\n",
      "  9%|▉         | 3/32 [00:19<03:14,  6.71s/it]"
     ]
    },
    {
     "name": "stdout",
     "output_type": "stream",
     "text": [
      "--------------------------------\n",
      "Processed: PCT거더 교량공사 안전보건작업지침\n",
      "\n",
      "1. 목 적\n",
      "이 지침은 교량의 상부구조물 시공방법중 비교적 중량이 가벼운 PCT거더를 크레인공법과 압출공법으로 시공 시 발생하는 떨어짐, 부딪힘, 무너짐, 감전 등의 재해를 예방하기 위하여 필요한 작업 단계별 안전사항 및 안전시설에 관한 기술적 사항 등을 정함을 목적으로 한다.\n",
      "\n",
      "2. 적용범위\n",
      "이 지침은 교량공사중에서 PCT거더를 제작장에서 1세그먼트씩 제작하고 압출하거나 크레인을 이용하여 교각 및 가설벤트에 거치한 후 상부슬래브 및 격벽을 시공하여 교량의 상부 구조물을 완성하는 PCT거더 공법에 적용한다.\n",
      "\n",
      "3. 용어의 정의\n",
      "(1) 이 지침에서 사용되는 용어의 정의는 다음과 같다.\n"
     ]
    },
    {
     "name": "stderr",
     "output_type": "stream",
     "text": [
      "INFO:httpx:HTTP Request: POST http://localhost:8000/v1/chat/completions \"HTTP/1.1 200 OK\"\n",
      " 12%|█▎        | 4/32 [00:27<03:24,  7.31s/it]"
     ]
    },
    {
     "name": "stdout",
     "output_type": "stream",
     "text": [
      "--------------------------------\n",
      "Processed: “PCT거더교(Prestressed Composite Truss girder bridge)”라 함은 소정의 압축력이 도입된 하현재, 강관으로 만들어진 복부재, 그리고 강콘크리트 합성부재로 형성된 상현재로 구성되는 프리스트레스 복합 트러스 거더형식을 말하며, PCT거더의 종류는 일반적으로 단순거더형 PCT거더와 박스형 PCT거더로 나눌 수 있다. 단순거더형 PCT거더는 기존형식의 합성거더를 대체하는 것을 주 목적으로 고안된 것으로 경간길이 40미터 이하의 크레인에 의해 일괄 가설되는 평면상 직선을 갖는 교량에 주로 적용된다. 박스형 PCT거더는 기존의 강합성박스거더 또는 PSC 박스거더를 대체하기 위하여 고안된 것으로 휨과 비틀림에 대해 매우 큰 강성을 가지고 있어 경간길이 40미터를 초과하는 평면 또는 곡선으로 설계된 교량에 주로 적용된다.\n",
      "\n",
      "<그림 2> 전형적인 PCT거더\n",
      "\n",
      "(a) 단순거더형\n"
     ]
    },
    {
     "name": "stderr",
     "output_type": "stream",
     "text": [
      "INFO:httpx:HTTP Request: POST http://localhost:8000/v1/chat/completions \"HTTP/1.1 200 OK\"\n",
      " 16%|█▌        | 5/32 [00:37<03:38,  8.09s/it]"
     ]
    },
    {
     "name": "stdout",
     "output_type": "stream",
     "text": [
      "--------------------------------\n",
      "Processed: (나) “복부재(Web member)”라 함은 거더에 작용하는 전단력에 저항하는 복부단면을 구성하고 있는 부재를 말하며, PCT거더에서 복부재는 기존의 합성거더에 적용된 판상의 복부구조를 촉력을 받는 사재와 연직재로 구성된 축력부재를 말한다. 따라서 PCT거더에는 다양한 형태의 단면형상에 따라 구조용 압연형강 및 강관 등을 적용할 수 있다.\n",
      "\n",
      "![복부재 단면형상](image)\n",
      "\n",
      "(다) “상현재(Top flange member)”라 함은 거더에 작용하는 휨모멘트에 저항하는 상부 플랜지를 구성하고 있는 부재를 말하며, PCT거더에서는 복부재와의 결합과 콘크리트 바닥판과의 일체동작을 확보하기 위하여 연직재가 보강된 강재단면이 필요하고 그 단면형상에 따라 T형(T type)과ITOR형(π type)으로 나눌 수 있다.\n",
      "\n",
      "![상현재 단면형상](image)\n",
      "\n",
      "(라) “하현재(Bottom flange member)”라 함은 거더에 작용하는 휨모멘트에 저항하는 하부 플랜지를 구성하고 있는 부재를 말하며, PCT거더에서는 복부재와의 연결을 위하여 연결강판을 일정한 간격으로 배치하고 다양한\n"
     ]
    },
    {
     "name": "stderr",
     "output_type": "stream",
     "text": [
      "INFO:httpx:HTTP Request: POST http://localhost:8000/v1/chat/completions \"HTTP/1.1 200 OK\"\n",
      " 19%|█▉        | 6/32 [00:47<03:50,  8.86s/it]"
     ]
    },
    {
     "name": "stdout",
     "output_type": "stream",
     "text": [
      "--------------------------------\n",
      "Processed: 형상의 콘크리트를 타설한 다음 PSC거리와 마찬가지로 거더의 휨성능 향상을 위해 프리스트레스를 도입하는 부재를 말한다. 특히 하현재는 PCT거리의 높이와 종단형상에 따라 여러 형태로 제작될 수 있다.\n",
      "\n",
      "![그림 6] 하현재 단면형상\n",
      "\n",
      "(마) \"추진코(Launching nose)\"라 함은 교량의 최 선단에 부착고정시켜 장시간 추진통과시 중량의 PCT거리 구조물이 전방 교각에 도달하기 전에 먼저 도달시켜 중량의 상부구조물에 의한 캔틸레버(Cantilever) 부모멘트를 감소시키는 역할을 하는 가설 구조물을 말한다. 일반적으로 추진코는 경량화를 위해 플레이트 거더(Plate girder) 형상으로 제작되며, 교량선형에 맞게 공장에서 제작하고 조립하여 길을 거친 후 분할해서 현장에 운반한 후 조립 설치된다. 또한 추진코는 본체 구조물이 교각에 도달하기 전에 압출방향을 탐지할 수 있는 추진방향 유도역할을 하기도 한다.\n",
      "\n",
      "(바) \"임시 교각(Temporary pier)\"이라 함은 상부구조물 압출시 캔틸레버 부모멘트와 처짐을 감소시키기 위해 세그먼트 제작장과 교각 사이에 제작되어진 콘크리트 교각을 말한다. 임시 교각을 설치함으로써 PCT거리\n"
     ]
    },
    {
     "name": "stderr",
     "output_type": "stream",
     "text": [
      "INFO:httpx:HTTP Request: POST http://localhost:8000/v1/chat/completions \"HTTP/1.1 200 OK\"\n",
      " 22%|██▏       | 7/32 [01:06<05:05, 12.23s/it]"
     ]
    },
    {
     "name": "stdout",
     "output_type": "stream",
     "text": [
      "--------------------------------\n",
      "Processed: 제작장에서 제작한 후 임시교각으로 이동시켜 압출하기 전에 소요의 강도를 얻기 위한 양생기간을 추가할 수 있고, PCT거더의 이상유무를 사전에 발견할 수 있다.\n",
      "\n",
      "(사) \"횡방향 가이드(Lateral guide)\"라 함은 압출시 주형의 세그먼트가 선형을 벗어나는 것을 방지하는 역할과 시공시 지진, 바람 등에 의해 발생하는 수평력에 대해서 낙교방지 장치로서의 기능을 할 수 있도록 교대, 교각 등의 측면에 텐던(Tendon)을 이용하여 설치된 H형강 구조물을 말한다. 횡방향 가이드는 세그먼트 거푸집의 외측면과 동일하게 설치하며, 직선교량의 경우에는 교각 2개마다 1개씩 설치하나, 곡선교량의 경우에는 매 교각마다 설치한다. 또한 압출 완료 후에도 2차 프리스트레스이거나 운동하중 등에 의한 교량의 종·횡방향 이동을 유도 역제하기 위해 받침이 영구받침으로 환원될 때까지 철거해서는 안된다.\n",
      "\n",
      "(아) \"압출장비 고정지지 빔\"이라 함은 교대의 교량 구조체 후면에 텐던으로 고정시킨 강재빔으로 보강된 구조물을 말하며, 이 구조물에 압출장비 수평력은 고정하고 이를 버팀대 삼아 상부구조물 전체를 전방으로 압출 추진시키게 된다. 교대배면에 위치한 이 구조물을 보강하기 위해 H형강으로 지지를 할 때, 교대에 인접한 임시교각에 고정한다.\n",
      "\n",
      "(자) \"슬라이딩 패드(Sliding pad)\"이라 함은 받침부의 마찰저항을 작게 해서 상부구조물을 원활하게 압출하기 위해 주형하면과 횡방향 가이드에 끼워 넣는 패드를 말한다.\n",
      "\n",
      "(차) \"활동방지 지지받침(Breaking saddle)\"이라 함은 압출시 또는 압출완료시 상부구조물이 전·후로 미끄러지는 것을 방지하기 위해 교대 전면부의 보조 교각위에 설치되는 것을 말한다. 공법의 특성상 주형면과의 접촉부분은 미끄럼판이 삽입되어 마찰력이 적기 때문에 종단구배에 의해 주형의 수평력이 활동방지 지지받침에 상당히 작용할 수 있어, 활동방지 지지받침의 윗부분을 요철관으로 하여 주형의 미끄럼지를 방지하며, 그 밑에는 고무판을 넣어 압출 반복작업시 리프팅 잭(Lifting jack)이 주형을 내려놓을 때 충격을 감소시키는 역할도 한다.\n",
      "\n",
      "(카) \"증기양생시설\"이라 함은 PCT거더 세그먼트제작시 강재 거푸집 조립, 철근조립, 쉬스관 설치, 강선배치 등을 하고 콘크리트를 탈설한 후 콘크리트\n"
     ]
    },
    {
     "name": "stderr",
     "output_type": "stream",
     "text": [
      "INFO:httpx:HTTP Request: POST http://localhost:8000/v1/chat/completions \"HTTP/1.1 200 OK\"\n",
      " 25%|██▌       | 8/32 [01:23<05:26, 13.61s/it]"
     ]
    },
    {
     "name": "stdout",
     "output_type": "stream",
     "text": [
      "--------------------------------\n",
      "Processed: 트의 소요 강도 발현을 위해 실시하는 증기양생을 위한 보일러 시설을 말한다. 일반적으로 증기양생은 콘크리트 타설 후 2∼3시간 후에 실시하며 시간당 상승온도를 20℃이하(하강온도도 동일한 방법으로 시간당 20℃이하)로 하여 최대 60℃∼70℃까지 실시한다. 이때 온도계를 외부 1곳, 내부 2곳에 설치하여 온도를 측정하고, 증기양생이 끝난 후 양생포를 덮어 직사광선을 차단해야 한다.\n",
      "\n",
      "(타) “작업장 지붕(Mould cover)”이라 함은 타설된 콘크리트 양생시 대기온도와의 차이를 1차적으로 차단시키는 기능과 함께 어느 정도의 강우량에서도 제작시공이 가능하도록 주형제작대 및 강재조립대 주변에 설치하는 가설구조물을 말한다. 지붕설비의 구조형식으로는 철골로 된 고정식과 철골구조 기둥의 하단에 롤러 등을 설치한 이동식으로 나눌 수 있다. 또한 작업장 지붕에는 압출시공중 자재의 운반 등을 위해 현장 조건 및 시공성 등을 고려하여 적절한 형식 및 용량의 하역크레인을 설치할 수 있다.\n",
      "\n",
      "(하) “추진잭(Launching jack)”이라 함은 PCT거더를 전방으로 밀어내기 위한 장비를 말하며, 일반적으로 수직잭(Lifting jack)과 수평잭(Pushing jack)으로 나눌 수 있다. 수직잭이 활동방지 지지받침에 지지된 상부구조물을 약간 들어 올린 상태에서 수평잭을 작동시켜 1-스트로크(Stroke)만큼 PCT거더를 전방으로 반복 추진히어 가설하게 된다.\n",
      "\n",
      "(거) “세그먼트(Segment)”라 함은 강재거푸집을 이용하여 철근을 배근, 강형조립후 콘크리트를 타설하여 만든 1스판의 PCT거더를 말하며, 이를 반복 제작하고 압출하여 PCT거더 교량을 완성하게 된다.\n",
      "\n",
      "(2) 기타 이 지침에서 사용하는 용어의 정의는 특별한 규정이 있는 경우를 제외하고는 산업안전보건법, 같은 법시행령, 같은 법시행규칙 및 안전규칙에 서 정하는 바에 의한다.\n",
      "\n",
      "4. PCT거더교의 특징 및 가설공법의 종류\n",
      "\n",
      "(1) PCT거더교의 주요 특징은 다음과 같다.\n"
     ]
    },
    {
     "name": "stderr",
     "output_type": "stream",
     "text": [
      "INFO:httpx:HTTP Request: POST http://localhost:8000/v1/chat/completions \"HTTP/1.1 200 OK\"\n",
      " 28%|██▊       | 9/32 [01:37<05:21, 13.99s/it]"
     ]
    },
    {
     "name": "stdout",
     "output_type": "stream",
     "text": [
      "--------------------------------\n",
      "Processed: (가) 종단 및 평면선형에 제약을 받지 않는다.\n",
      "(나) 적용가능한 경간장의 범위가 넓다.(단경간 : 30미터 ~ 130미터, 연속교 : 30미터 ~ 150미터)\n",
      "(다) 현장 가설여건에 따라 다양한 가설공법의 적용이 가능하다. (크레인, ILM, 가설벤트, FCM, MSS 등)\n",
      "(라) 다중 거더 적용시 낮은 형고비가 가능하다.\n",
      "(마) 개발형 단면구조로 조망 투과율이 높고, 풍하중에 대한 영향을 적게 받는다.\n",
      "\n",
      "(2) PCT거더교의 주요 가설공법은 다음과 같다.\n",
      "\n",
      "(가) 크레인공법\n",
      "   ① 경간장에 맞게 PCT거더를 지상에서 미리 조립 및 제작\n",
      "   ② 인양용 와이어로프를 연직재의 중심축선상에 위치한 상연재에 부착된 연결고리에 고정\n",
      "   ③ 두 대의 크레인을 이용하여 양 단부를 동시에 인양하여 거치\n",
      "   ④ 상현재 거푸집 설치, 철근배근, 콘크리트 타설\n",
      "\n",
      "(나) 압출공법\n",
      "   ① 제작장에서 1세그먼트의 PCT거더 조립 및 제작\n",
      "   ② 추진코(Nose) 제작 및 부착\n",
      "   ③ 압출하여 거치\n",
      "   ④ 상현재 거푸집 설치, 철근배근, 콘크리트 타설\n",
      "\n",
      "(다) 가설벤트공법\n",
      "   ① 소정의 길이로 PCT거더를 지상에서 미리 조립 및 제작\n",
      "   ② 가설벤트 조립 및 설치\n",
      "   ③ 크레인을 이용하여 PCT거더 인양 거치\n",
      "   ④ 상현재 거푸집 설치, 철근배근, 콘크리트 타설\n",
      "\n",
      "(3) 본 안전보건작업 지침은 PCT거더 주요 가설공법중 지상에서의 크레인공법 및 압출공법에 대한 주요 내용이며, 해상에서의 작업 및 타 가설공법을 적용하는 경우에는 해당 작업지침을 참고하여야 한다.\n",
      "\n",
      "5. 작업계획 수립 시 주요 검토사항\n"
     ]
    },
    {
     "name": "stderr",
     "output_type": "stream",
     "text": [
      "INFO:httpx:HTTP Request: POST http://localhost:8000/v1/chat/completions \"HTTP/1.1 200 OK\"\n",
      " 31%|███▏      | 10/32 [01:52<05:08, 14.02s/it]"
     ]
    },
    {
     "name": "stdout",
     "output_type": "stream",
     "text": [
      "--------------------------------\n",
      "Processed: (1) 안전보건총괄책임자는 각 세부공정별로 위험성평가를 실시하고 위험등급에 따른 관리대상 공정을 정하여 재해예방대책을 수립하고 작업하여야 한다.\n",
      "\n",
      "(2) 공사현장의 제반여건과 설계도서에서 정하고 있는 작업단계별 작업방법이 부합하고 공사장장이 적응상의 문제가 없는지 검토한 후 구체적인 작업계획을 수립하여야 한다.\n",
      "\n",
      "(3) 작업계획서는 본 공법에 대한 이해와 경험을 갖춘 자가 수립하여야 한다.\n",
      "\n",
      "(4) 기 제작된 PCT거더 구성부재, 추진코(Nose) 및 강재 거푸집 등은 반입하여 사전키 전에 구조 전문가가 구조적 안전성 및 부재의 결합·손상여부를 확인하여야 한다.\n",
      "\n",
      "(5) 크레인이 사용하여 장비의 반입·반출, 부재의 조립 및 해체작업을 하는 경우에는 작업방법 및 순서 등이 포함된 중량물 취급 작업계획을 수립하여야 한다.\n",
      "\n",
      "6. 시공전 공통 안전사항\n",
      "\n",
      "(1) PCT 거더교의 공사에 관련된 공사계약내용 및 계약서의 내용, 교량설계도 및 설계서의 내용, 공사시방서의 내용 등을 파악하여 이에 따른 준비를 하여야 하고 설계도서의 시공순서를 준수하여야 한다. 다만, 현장여건과 일치하지 않아 설계를 변경할 경우 관련 구조전문가의 검토를 통해 시공단계별 안전성이 확보되어야 한다.\n",
      "\n",
      "(2) 강재의 규격 및 수량, 품질확인, 조달방법 및 인수장소, 사전조사 등 제작공사에 준비할 사항을 계획하여 관리감독자 및 감리자에게 제출한 후 추진하여야 한다.\n",
      "\n",
      "(3) 교량제작을 함에 있어 안전하고 효율적으로 작업을 하기 위해 시공계획서를 작성하기 전에 다음 사항과 같은 사전조사를 실시하여야 한다.\n",
      "\n",
      "   (가) 강재 생산공장 및 제작공장 위치\n",
      "   (나) 강재 인수장소 및 제작공장까지 운송수단, 운송로\n",
      "   (다) 강재인수 후 보관장소\n"
     ]
    },
    {
     "name": "stderr",
     "output_type": "stream",
     "text": [
      "INFO:httpx:HTTP Request: POST http://localhost:8000/v1/chat/completions \"HTTP/1.1 200 OK\"\n",
      " 34%|███▍      | 11/32 [02:06<04:59, 14.27s/it]"
     ]
    },
    {
     "name": "stdout",
     "output_type": "stream",
     "text": [
      "--------------------------------\n",
      "Processed: (라) 제작공장 설비상태 및 제작능력  \n",
      "(마) 제작과정별 검사 및 품질관리 체계  \n",
      "(바) 관련법규 및 관계기관과의 협의할 사항 등  \n",
      "\n",
      "(4) 사전조사 후 재료조달 및 제작 후 가설현장으로 운송하는데 공공에 피해가 없도록 하고, 부재에 변형이나 손상이 없도록 안전하게 운송하여야 한다.  \n",
      "\n",
      "(5) 공사용 진입도로는 다음 사항을 고려하여야 한다.  \n",
      "(가) 공사용 진입도로는 로폭, 경사도, 노면, 다짐도, 주위의 교통상황 등을 고려하여 작업장이 안전하게 진출입이 가능한 위치에 두어야 한다.  \n",
      "(나) 공사구역에 연결하기 위해서는 공사초기에 설치할 도로의 노반과 보조 기층을 깔고 공사기간중에 사용할 수 있는 임시진입도로를 건설해서 유지관리하여야 한다.  \n",
      "(다) 진입도로의 마감처리는 모든 운반작업의 출입에 지장이 없고 편안하게 사용할 수 있고 시공작업이 용이하도록 하고, 현장내 및 주위에도 가설 도로를 설치하고 마감면처리를 하여야 한다.  \n",
      "(라) 작업진행에 따라 필요하면 연장하거나 이설해야 하며, 교통정체를 없게 하기 위해서는 필요한 우회도로를 두어야 한다.  \n",
      "(마) 차량이 현장구역의 지역 및 시가도로에 진입하기 전에 차륜에서 빼내 오물 등을 제거할 수 있는 세륜·세차설비를 갖추어야 한다.  \n",
      "\n",
      "(6) 공사표지판은 다음 사항을 고려하여야 한다.  \n",
      "(가) 공사표지판은 발주자가 지정하는 크기, 재료, 색상 및 방법으로 제작하여야 한다.  \n",
      "(나) 표지판에는 공사명, 발주자, 감리원 및 시공자와 주요 하수급자, 공사기간 등을 명시하여야 한다.  \n",
      "(다) 표지판은 현장에서 감리자가 지정한 위치에 설치해야 하며, 감리자의 허가없이 다른 표지판을 설치해서는 안된다.  \n",
      "\n",
      "7. 압출공법 안전작업  \n",
      "7.1 압출공법 시공순서\n"
     ]
    },
    {
     "name": "stderr",
     "output_type": "stream",
     "text": [
      "INFO:httpx:HTTP Request: POST http://localhost:8000/v1/chat/completions \"HTTP/1.1 200 OK\"\n",
      " 38%|███▊      | 12/32 [02:10<03:42, 11.12s/it]"
     ]
    },
    {
     "name": "stdout",
     "output_type": "stream",
     "text": [
      "--------------------------------\n",
      "Processed: (1) 압출공법에 의해 PCT거더를 설치하는 시공순서는 다음과 같다.\n",
      "\n",
      "![Diagram of construction sequence](image)\n",
      "\n",
      "(2) 본 작업지침에서 언급되지 않은 기타 압출공법에 대한 사항은 KOSHA GUIDE C-10-2011(교량공사(ILLM공법) 안전보건작업 지침)에 따른다.\n",
      "\n",
      "7.2 압출전 시공\n"
     ]
    },
    {
     "name": "stderr",
     "output_type": "stream",
     "text": [
      "INFO:httpx:HTTP Request: POST http://localhost:8000/v1/chat/completions \"HTTP/1.1 200 OK\"\n",
      " 41%|████      | 13/32 [02:25<03:50, 12.11s/it]"
     ]
    },
    {
     "name": "stdout",
     "output_type": "stream",
     "text": [
      "--------------------------------\n",
      "Processed: 7.2.1 제작장\n",
      "\n",
      "(1) 제작장의 위치는 설계단계에서 압출진행방향, 인접한 도로상황, 추진코 및 경간의 길이, 제작장의 길이, 거더의 전도에 대한 안전성 등을 종합적으로 고려하여 적절하게 결정하여야 한다.\n",
      "\n",
      "(2) 제작장은 거더 제작과 압출에 충분한 면적을 확보된 곳이어야 하며, 자재의 반입·반출이 용이한 곳이어야 하고, 강우 등으로 인한 배수가 충분히 이루어지는 곳이어야 한다.\n",
      "\n",
      "(3) 제작장은 평탄성을 유지하여야 하며 부등침하가 발생하지 않도록 충분한 기초지반의 지지력이 확보되어야 한다.\n",
      "\n",
      "(4) 각 세그먼트가 일정한 규격대로 시공될 수 있도록 기초구조물은 암반에 파일로 지지된 충분한 내력을 지닌 콘크리트 기초구조물이 되어야 한다.\n",
      "\n",
      "(5) 공법의 특성상 동일장소에서 1세그먼트씩 반복하여 제작 시공하므로 제작장의 위치오차는 거더가 제작될 수록 누적되어 전체 교량의 선형에 영향을 미치므로 슬라이딩 레일(Sliding rail) 설치 시 오차가 발생되지 않도록 주의하여야 한다.\n",
      "\n",
      "(6) 파일 항타 및 장비 작업 시 회전 및 이동에 의한 혼작재해를 예방하기 위하여 구획을 설치 근로자를 통제하고 감시자를 배치하여야 한다.\n",
      "\n",
      "(7) 파일 항타기의 해머비트 낙하로 인한 재해방지를 위해 시공 전 와이어 로프 상태를 점검하여야 한다.\n",
      "\n",
      "(8) 버팀 콘크리트 타설시 지내력을 확보된 곳에 펌프카를 설치하며, 반침볼도 설치하여야 한다.\n",
      "\n",
      "(9) 제작장 내의 근로자 이동통로에는 가설통로를 설치하고 양측단부에는 안전 난간을 설치하는 등 추락위험장소에는 추락방지조치를 하여야 한다.\n",
      "\n",
      "(10) 제작장 내의 가설전기시설에 대해 감전재해를 예방하기 위하여 다음사항\n"
     ]
    },
    {
     "name": "stderr",
     "output_type": "stream",
     "text": [
      "INFO:httpx:HTTP Request: POST http://localhost:8000/v1/chat/completions \"HTTP/1.1 200 OK\"\n",
      " 44%|████▍     | 14/32 [02:37<03:39, 12.20s/it]"
     ]
    },
    {
     "name": "stdout",
     "output_type": "stream",
     "text": [
      "--------------------------------\n",
      "Processed: 을 점검하여야 한다.\n",
      "(가) 가설전기 용량의 적정성 및 본·배전반 등 시설배치의 적정여부\n",
      "(나) 누전차단기 설치 및 접지상태 등\n",
      "\n",
      "(11) 제작장 내에는 외기 및 바람을 차단하고 양생활 효과적으로 할 수 있는 작업장 지붕(Mould cover)를 설치하여야 한다.\n",
      "\n",
      "(12) 작업장 지붕은 제작장 길이 및 작업성을 고려하여 몇 개로 분리하여 제작 할 수 있는데, 이때 이동부 간격은 최소가 되어야야 하고, 하부의 롤러는 이동에 지연이 없도록 관리되어야 한다.\n",
      "\n",
      "(13) 제작장에 설치하는 무빙크레인은 설치 사용 전에 관계기관으로부터 안전 인증을 받아야 하고, 작업시 적절한 와이어로프를 사용하고, 작업반경내 근로자의 접근을 금지시켜야 한다.\n",
      "\n",
      "7.2.2 증기양생 시설\n",
      "\n",
      "(1) 보일러 용량은 양생면적에 적합한 규격을 선택해야 하며, 고장에 대비하기 위해 예비 보일러를 구비하여야 한다.\n",
      "\n",
      "(2) 보일러 가동 전 안전밸브, 압력제한 스위치, 압력계, 자동경보장치 등의 정상 작동여부를 확인하여야 한다.\n",
      "\n",
      "(3) 비상시를 대비하여 비상용 수조를 설치하여야 한다.\n",
      "\n",
      "(4) 콘크리트 타설 후 급격한 온도변화 방지를 위해 보일러 가동이 중단되지 않도록 주의해야 한다.\n",
      "\n",
      "(5) 보일러의 압력용기가 규정압력인지를 확인하고, 배관라인의 증기노출도 확인하여야 한다.\n",
      "\n",
      "7.2.3 가교각\n",
      "\n",
      "(1) 압출공법에서 압출교대와 제작장 사이의 리드(Lead) 구간에는 일반적으로\n"
     ]
    },
    {
     "name": "stderr",
     "output_type": "stream",
     "text": [
      "INFO:httpx:HTTP Request: POST http://localhost:8000/v1/chat/completions \"HTTP/1.1 200 OK\"\n",
      " 47%|████▋     | 15/32 [02:53<03:47, 13.39s/it]"
     ]
    },
    {
     "name": "stdout",
     "output_type": "stream",
     "text": [
      "--------------------------------\n",
      "Processed: 다음과 같은 목적으로 임시 가교각을 설치하여야 한다.\n",
      "(가) 최종(Last) 압출시 PCT기타 구조물의 캔틸레버(Cantilever) 길이 축소\n",
      "(나) 강도발현이 낮은 초기재령의 세그먼트 압출\n",
      "(다) 압출진행 발생 유도를 위한 횡방향 가이드(Lateral guide) 설치\n",
      "\n",
      "(2) 가교각의 제작 및 해체 시 다음사항을 고려하여야 한다.\n",
      "   (가) 가교각의 각 부분에 있어서의 내력이 충분한지 여부\n",
      "   (나) 작업지휘자를 선임해서 작업을 직접 지휘하고 있는지 여부\n",
      "   (다) 유사격자 및 경험이가 작업을 행하고 있는지 여부\n",
      "   (라) 압출시 수평력에 저장하는 가교상부의 이음내력은 충분한지 여부\n",
      "   (마) 가교각의 위치, 전후좌우의 각도 등을 압출작업 전후에 검토해서 기록을 보존하고 있는지 여부\n",
      "   (바) 가교각 상부에 안전작업을 수행하기 위하여 충분한 여유공간이 있는지 여부\n",
      "   (사) 가교각 제작, 해체 등의 고공작업시 안전설비가 되어 있는지 여부\n",
      "   (아) 가교각의 해체를 용이하게 할 수 있는 구조로 되어 있는지 여부\n",
      "   (자) 가교각의 기초가 안전한지 여부\n",
      "\n",
      "7.2.4 횡방향 가이드(Lateral guide)\n",
      "\n",
      "(1) 가교각 및 교각시공시 강연선 텐턴으로 횡방향 가이드를 설치할 수 있도록 미리 쉬스관(강연선 텐턴용 슬리브)을 매설하여야 한다.\n",
      "\n",
      "(2) 횡방향 가이드의 폭은 계획 종단상의 중심선(Center line)에 박스 폭 및 미끄럼판 두께를 더한 길이에 약간의 여유를 두어 설치하여야 한다.\n",
      "\n",
      "(3) 횡방향 가이드 설치 및 해체시에는 안전성 확보를 위해 충분한 용량의 크레인을 사용하여야 하며, 횡방향 가이드 고정 시 여유있는 인장력을 이용하여 설계 인장력이 확보될 수 있도록 하여야 한다.\n",
      "\n",
      "(4) 압출시 횡방향 가이드에 과도한 횡압력 및 마찰력이 작용하여 스트랜드(Strand)의 릴렉세이션(Relaxation)이 발생하지 않도록 수시로 확인 점검하여야 한다.\n"
     ]
    },
    {
     "name": "stderr",
     "output_type": "stream",
     "text": [
      "INFO:httpx:HTTP Request: POST http://localhost:8000/v1/chat/completions \"HTTP/1.1 200 OK\"\n",
      " 50%|█████     | 16/32 [03:05<03:24, 12.78s/it]"
     ]
    },
    {
     "name": "stdout",
     "output_type": "stream",
     "text": [
      "--------------------------------\n",
      "Processed: (5) 압출 완료 후에도 횡방향 가이드가 2차 인장작업이나 신축하는 장기간 교량의 종횡방향 이동에 대한 방향을 유도하거나 억제시키는 역할을 하기 때문에 PCT거더의 상부구조물이 영구 교좌장치에 의한 베어링(Bearing) 기능을 할 때까지는 횡방향 가이드를 철거해서는 아니된다.\n",
      "\n",
      "(6) 횡방향 가이드를 해체시에는 기존 구조물에 손상이 없도록 주의하여야 하며, 쉬스관 매설로 만들어진 덕트(Duct)는 그라우팅을 하여야 한다.\n",
      "\n",
      "(7) 크레인으로 횡방향 가이드 설치 및 해체 시 진도방지를 위한 다음과 같은 조치를 하여야 한다.\n",
      "   (가) 지반다짐 및 평탄 작업\n",
      "   (나) 아웃트리거 하부에 받침목 설치\n",
      "   (다) 필요시 콘크리트 타설 및 철판 사용\n",
      "\n",
      "(8) 크레인으로 횡방향 가이드 설치 및 해체 시에는 적정의 인양용 와이어로프를 사용하여야 하며, 사용 전에 미리 인양용 와이어로프 및 인양고리 등을 점검하여야 한다.\n",
      "\n",
      "(9) 크레인으로 횡방향 가이드 설치 및 해체 시에는 신호수를 배치하고 작업반 경내에는 근로자의 출입금지 조치를 실시하여야 한다.\n",
      "\n",
      "7.2.5 압출교대\n",
      "\n",
      "(1) 압출교대는 교량 상부공 전체를 압출 추진하기 위해 수평력을 가할 때 변위가 발생하지 않도록 충분한 내력을 가진 구조물이 되어야 한다.\n"
     ]
    },
    {
     "name": "stderr",
     "output_type": "stream",
     "text": [
      "INFO:httpx:HTTP Request: POST http://localhost:8000/v1/chat/completions \"HTTP/1.1 200 OK\"\n",
      " 53%|█████▎    | 17/32 [03:13<02:53, 11.58s/it]"
     ]
    },
    {
     "name": "stdout",
     "output_type": "stream",
     "text": [
      "--------------------------------\n",
      "Processed: (2) 압출장비 고정도 교량 상부공 전체를 압출 추진하기 위해 수평력을 가할 때 변위가 발생하지 않도록 충분한 강성과 고정이 되어 있어야 한다.\n",
      "\n",
      "7.3 PCT거더 세그먼트(Segment) 제작\n",
      "\n",
      "<그림 9> PCT거더 세그먼트 제작순서\n",
      "\n",
      "7.3.1 PCT거더 거푸집\n",
      "\n",
      "(1) 압출공법에 사용하는 거푸집은 장기간에 걸쳐 반복해서 조립, 해체가 이루어지므로 변형이 발생하지 않을 정도의 충분한 강성을 가져야 하고, 거푸집은 고정시킨 구조물의 침하가 발생하지 않아야 한다.\n",
      "\n",
      "(2) 거푸집은 제작 설치에 따른 점검사항은 다음과 같다.\n",
      "(가) 설계도면의 시공성 검토 및 수정\n",
      "(나) 각 부재의 절단 및 조립 치수\n",
      "(다) 주요 프레임 고정용 철물 설치 확인\n",
      "(라) 현장 설치기준용 슬라이딩 레일(Sliding rail)의 선형 및 시공 정밀도\n",
      "(마) 바닥거푸집, 측벽거푸집의 단면형성 레벨, 선형, 변화부 표고 등\n"
     ]
    },
    {
     "name": "stderr",
     "output_type": "stream",
     "text": [
      "INFO:httpx:HTTP Request: POST http://localhost:8000/v1/chat/completions \"HTTP/1.1 200 OK\"\n",
      " 56%|█████▋    | 18/32 [03:26<02:45, 11.81s/it]"
     ]
    },
    {
     "name": "stdout",
     "output_type": "stream",
     "text": [
      "--------------------------------\n",
      "Processed: (3) 거푸집은 반복해서 조립되고 사용되므로 매 사용시마다 거푸집의 변형 등\n",
      "을 점검하여야 하고, 거푸집 조립이 완료된 후에도 정밀도 및 이격거리\n",
      "확보 등을 점검하여야 한다.\n",
      "\n",
      "(4) 거푸집 조립작업중 근로자의 추락방지를 위한 안전대 부착시설을 설치하여\n",
      "야 한다.\n",
      "\n",
      "(5) 거푸집 반입시 거푸집 단부측에 안전난간의 설치여부를 확인하여야 한다.\n",
      "\n",
      "(6) 바닥판과 단부측, 지상에서 거푸집 상부측으로 이동할 수 있는 이동용 승강\n",
      "설비를 설치하여야 한다.\n",
      "\n",
      "(7) 거푸집 박리제로 인한 작업자의 미끄러짐이 발생하지 않도록 주의하여야\n",
      "한다.\n",
      "\n",
      "(8) 거푸집 셋팅(Setting)시 유압작동에 의한 유압호스의 파손에 주의하여야 한\n",
      "다.\n",
      "\n",
      "(9) 그라인더로 거푸집 면 정리 시 감전재해를 예방하기 위해 사용 전 접지를 및\n",
      "전선피복을 점검하여야 한다.\n",
      "\n",
      "(10) 거푸집 바닥의 개구부는 근로자의 추락방지를 위해 덮개를 설치하여야 한\n",
      "다.\n",
      "\n",
      "7.3.2 철근 조립\n",
      "\n",
      "(1) 철근 절단기 및 절곡기에 감전사고 예방을 위해 접지를 하고 누전차단기를\n",
      "설치한다.\n",
      "\n",
      "(2) 철근 적치 시에는 전도재해를 예방하기 위해 받침목을 설치하여야 한다.\n",
      "\n",
      "(3) 근로자들의 근골격계질환을 예방하기 위해 철근 소운반 시 운반량을 25키\n",
      "로그램으로 제한하여야 한다.\n",
      "\n",
      "(4) 가공 철근 인양작업시 낙하물이 발생하지 않도록 2줄 걸이로 하고, 달줄·달\n"
     ]
    },
    {
     "name": "stderr",
     "output_type": "stream",
     "text": [
      "INFO:httpx:HTTP Request: POST http://localhost:8000/v1/chat/completions \"HTTP/1.1 200 OK\"\n",
      " 59%|█████▉    | 19/32 [03:37<02:30, 11.61s/it]"
     ]
    },
    {
     "name": "stdout",
     "output_type": "stream",
     "text": [
      "--------------------------------\n",
      "Processed: 포대를 사용하여야 하며, 하부 및 부근에는 관계근로자 이외의 근로자들의 출입을 금지시켜야 한다.\n",
      "\n",
      "(5) 돌출된 철근 단부에는 근로자들이 찔리지 않도록 캡 등을 씌워야 한다.\n",
      "\n",
      "(6) 철근 배근 및 거푸집 설치 시 추락방지를 위해 작업높이를 감안한 안전난간이 부착된 작업대를 설치하여야 하고, 안전난간이 없는 높이 2미터 이상의 작업의 경우에는 반드시 안전대를 착용하여야 한다.\n",
      "\n",
      "<그림 10> PCT거더 철근배근 및 쉬스관 매설\n",
      "\n",
      "7.3.3 복부 강재 조립 및 설치\n",
      "\n",
      "(1) PCT거더에 쓰이는 강형의 제작시에는 재료의 검사, 용접검사외에 특히 강형의 높이, 솟음에 대하여 검측을 실시하여야 한다.\n",
      "\n",
      "(2) 여러 부재의 조립이나 용접 시 변형이나 처짐 등이 없어야 하며, 반복적인 조립진행작업은 조립대 위에서 하여야 한다.\n",
      "\n",
      "(3) 용접전에 철판과 철판사이는 정확히 검측하여야 하고, 조립을 위해 사용되는볼트나 이형강봉을 사용하는 각 부재도 정확히 검측하여야 한다.\n",
      "\n",
      "(4) 가조립 점검에서 중요한 결점이 발견된 강형구조물과 용접부분에 변형이 발생된 강형구조물은 사용해서는 안된다.\n",
      "\n",
      "(5) 가조립은 가조립부재에 의해 침하가 발생되지 않는 지지대에서 각 부재가\n"
     ]
    },
    {
     "name": "stderr",
     "output_type": "stream",
     "text": [
      "INFO:httpx:HTTP Request: POST http://localhost:8000/v1/chat/completions \"HTTP/1.1 200 OK\"\n",
      " 62%|██████▎   | 20/32 [03:51<02:28, 12.40s/it]"
     ]
    },
    {
     "name": "stdout",
     "output_type": "stream",
     "text": [
      "--------------------------------\n",
      "Processed: 무응력상태가 되도록 가조립을 하여야 한다.\n",
      "\n",
      "(6) 가조립검사의 정확성을 확보하기 위해 기준점을 정하여야 하며, 이 기준점을 근거로 하여 교량의 솟움, 비틀림, 각 격점의 위치, 저판의 중심간 길이 높이 등의 허용차를 검측하여야 한다.\n",
      "\n",
      "(7) 가조립검사 시 시간과 기온을 기록하여 현장설치시 참고하여야 한다.\n",
      "\n",
      "(8) 가조립 해체는 가조립의 역순으로 하여야 하며, 변형 또는 손상이 발생하지 않도록 하여야 한다.\n",
      "\n",
      "(9) 화염과 불꽃(Spark)을 이용한 용접 및 절단작업을 할 때에는 다음의 조치를 하여야 한다.\n",
      "\n",
      "(가) 근로자는 해당 작업에 숙련된 자\n",
      "(나) 소화설비가 작업지역 근처에 있어야 하고 언제나 긴급 상황에 대처할 수 있게 준비하여야 한다.\n",
      "(다) 산소와 아세틸렌 호스 정리정돈 및 연료원의 방호조치\n",
      "(라) 불터지, 불꽃의 유입을 방지하기 위한 비산방지 방염포 설치\n",
      "(마) 전기배선 등의 작업은 전기담당자가 실시하고 정기적으로 점검\n",
      "\n",
      "(10) 강형부재의 조립완료검사는 다음 사항을 확인하여야 한다.\n",
      "\n",
      "(가) 휨 및 솟음 계측\n",
      "(나) 이음부 구멍의 정도\n",
      "(다) 이음 부재사이의 표면간격\n",
      "(라) 각 항목별 오차 측정 및 정밀도 기준비교\n",
      "\n",
      "(11) 강형부재의 인양 및 하역작업시에는 와이어로프를 2줄걸이로 인양 및 하역 작업을 하여야 한다.\n",
      "\n",
      "(12) 강형부재 적치불량으로 인한 넘어짐 재해를 예방하기 위하여 자재하역 전 하역장소의 평탄성을 확인하고 받침목 설치상태를 확인하여야 한다.\n",
      "\n",
      "(13) 강형부재의 인양 및 하역작업시에는 신호수를 배치하고 작업반경내에는 근로자의 출입금지 조치를 실시하여야 한다.\n"
     ]
    },
    {
     "name": "stderr",
     "output_type": "stream",
     "text": [
      "INFO:httpx:HTTP Request: POST http://localhost:8000/v1/chat/completions \"HTTP/1.1 200 OK\"\n",
      " 66%|██████▌   | 21/32 [04:01<02:07, 11.59s/it]"
     ]
    },
    {
     "name": "stdout",
     "output_type": "stream",
     "text": [
      "--------------------------------\n",
      "Processed: (14) 강형부재의 조립 및 용접 작업 시 적절한 작업대를 설치하는 등의 근로자 떨어짐 방지조치를 하여야 한다.\n",
      "\n",
      "<그림 11> 강형 조립\n",
      "\n",
      "7.3.4 콘크리트 타설 및 양생\n",
      "\n",
      "(1) 콘크리트 타설방법 및 순서를 준수하여야 한다.\n",
      "\n",
      "(2) 콘크리트 호스 이동중 근로자가 철근에 밀이 걸려 넘어지는 재해를 예방하기 위해 콘크리트 타설경로를 따라 임시 작업발판을 설치하여야 한다.\n",
      "\n",
      "(3) 거푸집의 변형 및 파손, 편심하중 방지하기 위해 한 곳에 집중 타설하는 것을 금지하여야 한다.\n",
      "\n",
      "(4) 진동다짐기의 감전방지를 위해 접지 및 누전차단기가 설치된 분전반의 전원을 사용하고, 작업전선도 피복손상 유무를 확인하며, 사용후에는 깨끗하게 청소하여야 한다.\n",
      "\n",
      "(5) 콘크리트 타설시 지반 다짐 및 평평도가 유지된 곳에 펌프카를 설치하며, 받침목도 설치하여야 한다.\n",
      "\n",
      "(6) 콘크리트 타설직후 직사광선이나 바람으로 인한 표면건조로 초기균열이 발생하는 것을 방지하기 위한 조치를 해야 한다.\n"
     ]
    },
    {
     "name": "stderr",
     "output_type": "stream",
     "text": [
      "INFO:httpx:HTTP Request: POST http://localhost:8000/v1/chat/completions \"HTTP/1.1 200 OK\"\n",
      " 69%|██████▉   | 22/32 [04:13<01:57, 11.71s/it]"
     ]
    },
    {
     "name": "stdout",
     "output_type": "stream",
     "text": [
      "--------------------------------\n",
      "Processed: (7) 증기양생시 콘크리트에 접근을 금지시키며, 화상에 주의하여야 한다.\n",
      "\n",
      "7.3.5 거푸집 해체\n",
      "\n",
      "(1) 거푸집 탈형은 하부거푸집, 측벽거푸집, 내부 거푸집순으로 실시하며, 반드시 탈형순서를 준수하여야 한다.\n",
      "\n",
      "(2) 거푸집 탈형시 거푸집위에 근로자의 출입을 철저히 통제하며, 임의로 안전시설물을 해체하는 것을 금지하여야 한다.\n",
      "\n",
      "(3) 작업전 유압호스의 이상 유무 및 유압잭 작동 상태 등을 철저히 점검하여야 한다.\n",
      "\n",
      "(4) 탈형 전에 맞음 재해 등을 예방하기 위해 상부 자재 등을 미리 정리하여야 한다.\n",
      "\n",
      "7.3.6 긴장작업 및 그라우팅 작업\n",
      "\n",
      "(1) 긴장작업은 사전에 감리자가 승인한 긴장 계획서에 의거하여 수행하여야 한다.\n",
      "\n",
      "(2) 돌출된 강연선 단부에는 근로자들이 찌리지 않도록 캡 등을 씌워야 한다.\n",
      "\n",
      "(3) 강연선 설치 작업대에는 근로자들의 추락방지를 위해 단부에는 안전난간을 설치하여야 한다.\n",
      "\n",
      "(4) 인장잭은 중량물이므로 인장잭의 낙하로 인한 근로자부상 방지를 위해 주의하여 취급하여야 한다.\n",
      "\n",
      "(5) 각 텐던의 긴장작업 순서는 가능한 한 구조물에 대칭이 되도록 실시하여 구조물에 편심에 의한 프리스트레스가 도입되지 않도록 주의하여야 한다.\n",
      "\n",
      "(6) 텐던의 양단에 정착구가 있는 경우에는 긴장단의 반대편에 점검요원을 배\n"
     ]
    },
    {
     "name": "stderr",
     "output_type": "stream",
     "text": [
      "INFO:httpx:HTTP Request: POST http://localhost:8000/v1/chat/completions \"HTTP/1.1 200 OK\"\n",
      " 72%|███████▏  | 23/32 [04:22<01:38, 10.93s/it]"
     ]
    },
    {
     "name": "stdout",
     "output_type": "stream",
     "text": [
      "--------------------------------\n",
      "Processed: 치시켜 긴장작업 이상유무를 확인하여야 한다.\n",
      "\n",
      "(7) 긴장작업시 강선의 파단으로 인한 근로자들의 부상방지를 위해 인장재 배\n",
      "면에 보호벽을 설치하거나, 현장 근로자의 출입을 금지시켜야 한다.\n",
      "\n",
      "(8) 긴장작업 완료 후에는 감리자의 승인을 득한 후 그라우팅을 실시하여야 한\n",
      "다.\n",
      "\n",
      "(9) 그라우팅 믹서기의 회전부에 덮개를 설치하여야 한다.\n",
      "\n",
      "(10) 그라우팅 믹서기의 감전을 위한 감전예방 조치(접지, 누전차단기 설치\n",
      "등)을 하여야 한다.\n",
      "\n",
      "7.4 추진코\n",
      "\n",
      "<그림 12> 추진코\n",
      "\n",
      "(1) 집중적인 프리스트레스의 작용단면이 발생하지 않도록 분할 배치 시공하여\n",
      "야 한다.\n",
      "\n",
      "(2) 추진코와 본체 구조물 연결부는 충분한 전단력을 발휘할 수 있는 체결방식\n",
      "이어야 한다.\n",
      "\n",
      "(3) 추진코의 제작 조립거치시 추진코의 하단과 본체 구조물의 하단이 정확히\n",
      "동일평면에 있어야 하고, 거더의 추진에 지장이 없도록 충분한 정밀도를 가\n"
     ]
    },
    {
     "name": "stderr",
     "output_type": "stream",
     "text": [
      "INFO:httpx:HTTP Request: POST http://localhost:8000/v1/chat/completions \"HTTP/1.1 200 OK\"\n",
      " 75%|███████▌  | 24/32 [04:34<01:29, 11.24s/it]"
     ]
    },
    {
     "name": "stdout",
     "output_type": "stream",
     "text": [
      "--------------------------------\n",
      "Processed: 지야 한다.\n",
      "\n",
      "(4) 추진코 부재 반입시 안전설비 부착 유무를 확인하여야 한다.\n",
      "\n",
      "(5) 추진코의 전도방지를 위한 지주 설치 동 전도방지 조치를 실시하여야 한다.\n",
      "\n",
      "(6) 크레인으로 추진코 설치 및 해체 시 전도방지를 위한 다음과 같은 조치를 하여야 한다.\n",
      "   (가) 지반다짐 및 평탄 작업\n",
      "   (나) 아웃트리거 하부에 받침목 설치\n",
      "   (다) 필요시 콘크리트 타설 및 철판 사용\n",
      "\n",
      "(7) 크레인으로 추진코 설치 및 해체 시에는 적정의 인양용 와이어로프를 사용 하여야 하며, 사용 전에 미리 인양용 와이어로프 및 인양고리 등을 점검하여야 한다.\n",
      "\n",
      "(8) 크레인으로 추진코 설치 및 해체 시에는 신호수를 배치하고 작업반경내에는 근로자의 출입금지 조치를 실시하여야 한다.\n",
      "\n",
      "(9) 추진코가 안전하게 위치할 때까지 크레인으로 고정하며, 볼트체결이 완료된 후에 인양로프를 해체하여야 한다.\n",
      "\n",
      "(10) 추진코 상부에 수평통로 및 이동용 승강설비를 설치하여야 한다.\n",
      "\n",
      "(11) 추진코 상부 작업시 추락방지를 위한 안전시설(안전난간, 안전대 부착설비 등)을 설치하여야 한다.\n",
      "\n",
      "7.5 슬라이딩 패드(Sliding pad)\n",
      "\n",
      "(1) 슬라이딩 패드는 제작장, 횡방향가이드, 교대 및 교각, 추진코 연결거더 등에 맞는 적정규격 제품을 사용하여야 한다.\n",
      "\n",
      "(2) PCT거더는 격점 구조이며므로 슬라이딩 패드 삽입 시 근로자들에게 공사전\n"
     ]
    },
    {
     "name": "stderr",
     "output_type": "stream",
     "text": [
      "INFO:httpx:HTTP Request: POST http://localhost:8000/v1/chat/completions \"HTTP/1.1 200 OK\"\n",
      " 78%|███████▊  | 25/32 [04:44<01:15, 10.76s/it]"
     ]
    },
    {
     "name": "stdout",
     "output_type": "stream",
     "text": [
      "--------------------------------\n",
      "Processed: 에 충분한 교육을 실시하여야 한다.\n",
      "\n",
      "(3) 슬라이딩 패드에는 미끄럼이 원활하도록 압출 전 하면에 그리스(Grease)를\n",
      "고르게 칠하여야 하고, 압출 후 보관 시에는 이물질이 묻지 않도록 비닐 등\n",
      "으로 보호하여야 한다.\n",
      "\n",
      "(4) 슬라이딩 패드의 파손이 발견되면 즉시 새로운 패드로 교체하여야 한다.\n",
      "\n",
      "(5) 슬라이딩 패드는 사용 가능한 것과 파손된 것을 분리 보관하여야 하며, 파\n",
      "손된 패드는 다시 삽입되지 않도록 폐기하여야 한다.\n",
      "\n",
      "(7) 압출시 슬라이딩 패드 부족으로 인한 작업중단이 발생하지 않도록 슬라이\n",
      "딩 패드 여유분을 항상 비치하여야 한다.\n",
      "\n",
      "(8) 슬라이딩 패드 삽입 근로자를 위해 가교각, 교각, 교대 등에 작업통로가 확\n",
      "보되어야 한다.\n",
      "\n",
      "7.6 압출작업\n",
      "\n",
      "(1) 교량 길이, 구조, 형상 등을 고려하여 Lift & Push System, Pulling\n",
      "System, 병행 System 등을 적용하여야 한다.\n",
      "\n",
      "(2) 일반적으로 교량 상부구조물을 연속 압출공법(I.L.M)으로 가설할 경우 상부\n",
      "구조물 전체를 압출 추진시키기 위한 압출장비의 소요 수평력은 다음 식에\n"
     ]
    },
    {
     "name": "stderr",
     "output_type": "stream",
     "text": [
      "INFO:httpx:HTTP Request: POST http://localhost:8000/v1/chat/completions \"HTTP/1.1 200 OK\"\n",
      " 81%|████████▏ | 26/32 [04:59<01:12, 12.06s/it]"
     ]
    },
    {
     "name": "stdout",
     "output_type": "stream",
     "text": [
      "--------------------------------\n",
      "Processed: 의하여 결정하여야 한다.(도로교 설계기준 4.15.6.5)\n",
      "\n",
      "\\[ F_h = \\sum W \\times (\\mu_0 \\pm i) \\]\n",
      "\n",
      "여기서, \\( F_h \\) : 구조물 전체를 추진시키기 위한 소요 수평력\n",
      "\\( \\sum W \\) : 압출시키기 위한 상부 구조물 총중량\n",
      "\\( \\mu_0 \\) : 평균마찰계수(0.04)\n",
      "\\( i \\) : 상부 구조물의 종단 구배 (\\( i = \\frac{\\text{종단구배}}{100} \\) (%))\n",
      "\n",
      "\\[ (+i: \\text{상향 압출시, } -i: \\text{하향 압출시}) \\]\n",
      "\n",
      "(3) 압출시 적의 압출용량이 충분한지를 확인하고, 압출력 및 압출상태 등 압출 장비에 대한 이상유무도 점검하여야 한다.\n",
      "\n",
      "(4) 가설반침, 견음반침, 영구받침의 고정작업 및 압출시 슬라이딩 패드의 삽입 등을 위해 교각 및 교대 등에 설치되는 작업대에는 반드시 안전난간을 설치하여야 하고, 추락 방지망 및 낙하물 방지망도 설치하여야 한다.\n",
      "\n",
      "(5) 압출 총책임자는 압출책 작동 근로자를 정확하게 통제하여야 하며, 추진코나 교각 등에 이상이 발생한 경우에는 압출작업을 중단하여야 한다.\n",
      "\n",
      "(6) 압출작업전에 압출작업원을 충분히 교육시키 압출시 부주의 혹은 과도한 수평력에 의한 구조물의 손상이 일어나지 않도록 하여야 한다.\n",
      "\n",
      "(7) 거더 압출시 손가락 협착 등을 방지하기 위한 슬라이딩 패드 삽입방법 등을 사전에 철저히 교육시켜야 한다.\n",
      "\n",
      "(8) 압출시 슬라이딩 패드가 손상되어 압출에 문제가 발생하면 즉시 압출을 중지하여야 한다.\n",
      "\n",
      "(9) 압출이 완료된 후에는 슈에 보호커버를 하여 온도하강, 습기 등에 의한 고착현상이 발생하지 않도록 주의하여야 한다.\n",
      "\n",
      "8. 크레인공법 안전작업\n"
     ]
    },
    {
     "name": "stderr",
     "output_type": "stream",
     "text": [
      "INFO:httpx:HTTP Request: POST http://localhost:8000/v1/chat/completions \"HTTP/1.1 200 OK\"\n",
      " 84%|████████▍ | 27/32 [05:04<00:50, 10.00s/it]"
     ]
    },
    {
     "name": "stdout",
     "output_type": "stream",
     "text": [
      "--------------------------------\n",
      "Processed: 8.1 크레인공법 시공순서\n",
      "\n",
      "(1) 크레인공법에 의해 PCT거더를 설치하는 시공순서는 다음과 같다.\n",
      "\n",
      "- 공사 개시\n",
      "  - 제작장 준비\n",
      "    - 제작장 기초 구조물\n",
      "    - 거푸집 설치\n",
      "    - 양생시설 설치\n",
      "  - 강재 제작 및 야적(공장/현장)\n",
      "    - 복부재 운반(현장)\n",
      "    - 복부재 연결 및 설치\n",
      "- 하현재 제작\n",
      "- PS 도입 후 거더 거치\n",
      "- 상부슬래브 및 격벽 시공\n",
      "- 양생\n",
      "- 상부 구조물 완성\n"
     ]
    },
    {
     "name": "stderr",
     "output_type": "stream",
     "text": [
      "INFO:httpx:HTTP Request: POST http://localhost:8000/v1/chat/completions \"HTTP/1.1 200 OK\"\n",
      " 88%|████████▊ | 28/32 [05:12<00:37,  9.35s/it]"
     ]
    },
    {
     "name": "stdout",
     "output_type": "stream",
     "text": [
      "--------------------------------\n",
      "Processed: 8.2 PCT거더 제작\n",
      "\n",
      "(1) 크레인공법의 PCT거더는 공장이나 현장의 제작장에서 제작할 수 있다. 이 때 PCT거더 제작시 안전작업은 앞에서 기술한 7.3절 PCT거더 세그먼트 제작과 동일함으로 이에 따른다.\n",
      "\n",
      "(2) PCT거더 제작 시 PCT거더 인양을 위한 Lug 위치 및 개수 등을 확인하고 설치하여야 한다.\n",
      "\n",
      "8.3 가설벤트 설치(필요시)\n",
      "\n",
      "(1) 가설벤트 설치공사 시에는 사전에 다음 사항에 대해 검토하여야 한다.\n",
      "   (가) 구조검토 실시\n",
      "   (나) 가설벤트 위치의 지반 지내력 확인\n",
      "\n",
      "(2) 가설벤트는 작업시의 하중을 고려하여 구조검토를 실시하고 조립도를 작성하여 조립도의 순서에 따라 조립하여야 한다.\n",
      "\n",
      "(3) 가설벤트 재료의 이상 유무를 확인하여 균열, 부식, 휨 및 단면 부족 등의 결함이 있는 자재는 사용해서는 안된다.\n"
     ]
    },
    {
     "name": "stderr",
     "output_type": "stream",
     "text": [
      "INFO:httpx:HTTP Request: POST http://localhost:8000/v1/chat/completions \"HTTP/1.1 200 OK\"\n",
      " 91%|█████████ | 29/32 [05:26<00:32, 10.90s/it]"
     ]
    },
    {
     "name": "stdout",
     "output_type": "stream",
     "text": [
      "--------------------------------\n",
      "Processed: (4) 가설벤트의 부등침하 방지를 위하여 지반은 철저히 다짐을 실시하거나 콘크리트를 타설하여야 한다.\n",
      "\n",
      "(5) 기초가 경사진 경우에는 가설벤트의 미끄럼 방지조치를 하여야 한다.\n",
      "\n",
      "(6) 최종적으로 가설벤트가 조립, 설치된 경우에는 레벨을 측정 점검하고 볼트의 체결상태 및 위치를 점검하여야 한다.\n",
      "\n",
      "(7) 가설벤트 작업대 단부에는 근로자들의 추락 등에 의한 위험을 방지하기 위한 안전난간을 설치하여야 하고, 안전난간 하부에는 낙하물을 방지하기 위한 발끝막이판(Toe board)을 설치하여야 한다.\n",
      "\n",
      "(8) 작업시작 전에 작업통로, 안전방망, 안전난간 등 안전시설의 설치상태와 이상유무를 확인하여야 한다.\n",
      "\n",
      "8.4 PCT거더 거치\n",
      "\n",
      "(1) PCT거더 인양 시작 전에는 작업방법, 순서, 안전조치상황 등을 근로자에게 주지시키고, 다음과 같은 사항을 점검하여야 한다.\n",
      "\n",
      "   (가) 작업 인원수와 근로자 건강상태\n",
      "   (나) 작업신호와 통신시설 상태\n",
      "   (다) 고소작업용 안전대 등 개인보호구 상태\n",
      "   (라) 낙하물 방지망, 추락 방지망, 안전난간 등과 같은 가시설 설치상태\n",
      "   (마) 양중장비의 양중능력을 고려한 정격속도\n",
      "   (바) 근로자들에게 위험을 미칠 우려가 있는 장소에는 근로자들의 출입을 금지하는 등의 위험 방지조치 실시\n",
      "   (사) 인양 Lug, 샤클, 와이어 등 줄걸이 기구에 대한 적정성 확인\n",
      "\n",
      "(2) 이동식 크레인은 작업조건, 주변의 환경, 공간확보, 제작사의 사용기준 등을 사전에 검토하여 적합한 장비를 선정하여야 한다.\n",
      "\n",
      "(3) 이동식 크레인을 사용하여 설치·해체 등의 작업을 하는 때에는 이동식 크레인의 전도를 방지하기 위하여 충분한 넓이와 지내력이 확보된 작업장을 조성하여야 한다.\n"
     ]
    },
    {
     "name": "stderr",
     "output_type": "stream",
     "text": [
      "INFO:httpx:HTTP Request: POST http://localhost:8000/v1/chat/completions \"HTTP/1.1 200 OK\"\n",
      " 94%|█████████▍| 30/32 [05:41<00:24, 12.02s/it]"
     ]
    },
    {
     "name": "stdout",
     "output_type": "stream",
     "text": [
      "--------------------------------\n",
      "Processed: (4) 이동식 크레인을 사용하여 작업을 하는 경우 다음 각 호의 조치를 준수하고, 그 작업에 종사하는 관계 근로자가 그 조치를 준수하도록 하여야 한다. (가) 인양할 하물을 끌어당기거나 밀어내는 작업을 하지 아니할 것. (나) 운반 도중에 떨어져 폭발하거나 누출될 가능성이 있는 위험물 용기는 보관함(또는 보관고)에 담아 안전하게 매달아 운반할 것. (다) 고정된 물체를 직접 분리·제거하는 작업을 하지 아니할 것. (라) 미리 근로자의 출입을 통제하여 인양중인 하물이 근로자의 머리 위로 통과하지 않도록 할 것. (마) 인양할 하물이 보이지 아니하는 경우에는 어떠한 동작도 하지 아니할 것.\n",
      "\n",
      "(5) PCT거더 거치 후 상부슬래브에 콘크리트 타설시 자중에 의한 파괴를 방지하기 위해 구조 전문가에 의한 구조검토를 통한 안전한 작업임을 확인한 후 PCT거더를 인양 거치하여야 한다.\n",
      "\n",
      "9. 상부슬래브 및 격벽 시공\n",
      "\n",
      "(1) 거푸집 주변과 작업발판 위에는 발화물질의 적재 및 화기의 사용을 금하여야 한다.\n",
      "\n",
      "(2) 가공 철근 인양작업시 낙하물이 발생하지 않도록 2줄 걸이로 하고, 달줄·달포대를 사용하여야 하며, 하부 및 부근에는 관계근로자 이외의 근로자들의 출입을 금지시켜야 한다.\n",
      "\n",
      "(3) 돌출된 철근 단부에는 근로자들이 찔리지 않도록 캡 등을 씌워야 한다.\n",
      "\n",
      "(4) 근로자들이 철근 조립작업중 바닥 철근에 걸려 전도할 우려가 있어 조립된 철근 상부에 안전한 통로를 설치하여야 한다.\n",
      "\n",
      "(5) 슬래브의 양쪽에는 안전난간 설치기준에 따라 안전난간 등 추락방지시설을 하여야 한다.\n",
      "\n",
      "(6) 차량 통행구간에는 슬래브 하부에 낙하물 방호선반을 설치하여야 한다.\n"
     ]
    },
    {
     "name": "stderr",
     "output_type": "stream",
     "text": [
      "INFO:httpx:HTTP Request: POST http://localhost:8000/v1/chat/completions \"HTTP/1.1 200 OK\"\n",
      " 97%|█████████▋| 31/32 [05:52<00:11, 11.87s/it]"
     ]
    },
    {
     "name": "stdout",
     "output_type": "stream",
     "text": [
      "--------------------------------\n",
      "Processed: (7) 콘크리트 펌프카를 이용하여 콘크리트를 타설하는 경우 전도재해 방지를 위한 조치를 취하여야 한다.\n",
      "\n",
      "(8) 콘크리트 펌프카를 이용하여 콘크리트를 타설시 배관단부에 부착된 호스를 직접 잡고 움직여서는 안되며, 이동을 위한 안내줄(Guy rope)을 사용하여야 한다.\n",
      "\n",
      "(9) 진동다짐기의 감전방지를 위해 접지 및 누전차단기가 설치된 분전반의 전원을 사용하고, 작업전선도 피복손상 유무를 확인하며, 사용후에는 분해해서 깨끗하게 청소하여야 한다.\n",
      "\n",
      "10. 제작장 해체\n",
      "\n",
      "(1) 제작장 해체작업 시작 전 근로자에게 작업순서 및 위험에 대한 교육을 실시한 후 당해 작업을 실시하여야 한다.\n",
      "\n",
      "(2) 산소절단에 의한 제작장 해체작업 시 불꽃으로 인한 점화원이 화재로 연결되지 않도록 충분한 안전조치를 취하여야 한다.\n",
      "\n",
      "(3) 되매우기 시에도 장비 작업방향 등을 고려하여 구획을 설정하고 안전담당자를 배치하여야 한다.\n",
      "\n",
      "11. 기타 안전조치 사항\n",
      "\n",
      "(1) 작업시작전에 관리감독자를 지정하여 작업을 지휘하도록 하여야 한다.\n",
      "\n",
      "(2) 근로자의 건강상태를 작업전에 확인하여 작업배치 적정여부를 결정하여야 한다.\n",
      "\n",
      "(3) 공사중 인장하중을 고려하여 크레인 용량을 검토하여야 한다.\n",
      "\n",
      "(4) 크레인 작업에는 신호수를 배치하고 운전원과 신호수간 신호를 통일하여야\n"
     ]
    },
    {
     "name": "stderr",
     "output_type": "stream",
     "text": [
      "INFO:httpx:HTTP Request: POST http://localhost:8000/v1/chat/completions \"HTTP/1.1 200 OK\"\n",
      "100%|██████████| 32/32 [06:04<00:00, 11.39s/it]\n"
     ]
    },
    {
     "name": "stdout",
     "output_type": "stream",
     "text": [
      "--------------------------------\n",
      "Processed: 운영하여야 한다.\n",
      "\n",
      "(5) 크레인에는 낙뢰에 대비하여 추가적으로 피뢰설비를 설치하여야 한다.\n",
      "\n",
      "(6) 크레인 운전원은 다음의 안전수칙을 준수하여야 한다.\n",
      "   (가) 크레인 운전은 지정된 운전원이 하여야 한다.\n",
      "   (나) 크레인 운전원의 개인보호구 및 장비는 무선조종기 조작장치와 간섭되지 않도록 유의하여야 한다.\n",
      "   (다) 크레인의 안전장치를 임의로 제거 또는 변경해서는 아니된다.\n",
      "   (라) 크레인 사용시 급운전, 급정지, 급상승을 하여서는 아니된다.\n",
      "   (마) 크레인의 경격 인양하중을 준수한다.\n",
      "\n",
      "(7) 안전모, 안전대 등 근로자의 개인보호구를 점검하고 작업전에 보호구의 착용방법 교육을 실시하고 작업중에는 착용여부 및 상태를 확인하여야 한다.\n",
      "\n",
      "(8) 본 공법에 사용되는 기계기구 등은 주기적으로 안전검사를 실시하여 이상이 발견된 때에는 정상적인 장비로 교체하거나 정비하여 이상이 없음을 확인한 후 사용하여야 한다.\n",
      "\n",
      "(9) 위험기계・기구의 방호장비를 점검하고 이상이 있는 경우에는 정상적인 제품으로 교체하여야 한다.\n",
      "\n",
      "(10) 교각, 교대, 가교각 등에 설치되는 안전난간, 사다리 등의 안전시설은 고정형으로 설치하는 것을 원칙으로 한다.\n",
      "\n",
      "(11) 단위 작업반 내에서 의사소통이 미흡한 경우 위험상황을 초래할 수 있으므로 작업반 구성시 외국인 근로자가 포함되는 경우 원활한 의사소통을 위하여 사전에 교육・훈련을 실시하여야 한다.\n",
      "---End---\n",
      "Processing 흙막이공사(C.I.P공법) 안전보건작업 지침\n"
     ]
    },
    {
     "name": "stderr",
     "output_type": "stream",
     "text": [
      "  0%|          | 0/12 [00:00<?, ?it/s]INFO:httpx:HTTP Request: POST http://localhost:8000/v1/chat/completions \"HTTP/1.1 200 OK\"\n",
      "  8%|▊         | 1/12 [00:02<00:26,  2.40s/it]"
     ]
    },
    {
     "name": "stdout",
     "output_type": "stream",
     "text": [
      "--------------------------------\n",
      "Processed: 흙막이공사(C.I.P공법) 안전보건작업 지침\n",
      "\n",
      "한국 산업 안전 보건 공단\n",
      "\n",
      "2012. 8\n"
     ]
    },
    {
     "name": "stderr",
     "output_type": "stream",
     "text": [
      "INFO:httpx:HTTP Request: POST http://localhost:8000/v1/chat/completions \"HTTP/1.1 200 OK\"\n",
      " 17%|█▋        | 2/12 [00:10<01:00,  6.04s/it]"
     ]
    },
    {
     "name": "stdout",
     "output_type": "stream",
     "text": [
      "--------------------------------\n",
      "Processed: 안전보건기술지침의 개요\n",
      "\n",
      "제정자 : 김경순\n",
      "\n",
      "제정경과\n",
      "\n",
      "- 2009년 9월 건설안전분야 제정위원회 심의\n",
      "- 2009년 11월 총괄제정위원회 심의\n",
      "- 2012년 7월 건설안전분야 제정위원회 심의(개정)\n",
      "\n",
      "관련규격 및 자료\n",
      "\n",
      "- 건축공사 표준시방서(국토해양부)\n",
      "- 가설공사 표준시방서(국토해양부)\n",
      "- KOSHA GUIDE C-39-2011(굴착공사 안전작업 지침)\n",
      "\n",
      "관련법규, 규칙, 고시 등\n",
      "\n",
      "- 「산업안전보건기준에 관한 규칙」제2편 제4장 제2절 굴착작업 등의 위험방지\n",
      "\n",
      "기술지침의 적용 및 문의\n",
      "\n",
      "이 기술지침에 대한 의견 또는 문의는 한국산업안전보건공단 홈 페이지 안전보건기술지침 소관 분야별 문의처 안내를 참고하시기 바랍니다.\n",
      "\n",
      "공표일자 : 2012년 8월 27일\n",
      "\n",
      "제정자 : 한국산업안전보건공단 이사장\n"
     ]
    },
    {
     "name": "stderr",
     "output_type": "stream",
     "text": [
      "INFO:httpx:HTTP Request: POST http://localhost:8000/v1/chat/completions \"HTTP/1.1 200 OK\"\n",
      " 25%|██▌       | 3/12 [00:23<01:19,  8.79s/it]"
     ]
    },
    {
     "name": "stdout",
     "output_type": "stream",
     "text": [
      "--------------------------------\n",
      "Processed: 흙막이공사(C.I.P공법) 안전보건작업 지침\n",
      "\n",
      "1. 목적\n",
      "\n",
      "이 지침은 「산업안전보건기준에 관한 규칙」(이하 “안전보건규칙”이라 한다) 제2편 제4장 제2절 굴착작업 등의 위험방지 규정에 따라, C.I.P 흙막이공사 작업과정에서의 안전보건작업 지침을 정함을 목적으로 한다.\n",
      "\n",
      "2. 적용범위\n",
      "\n",
      "이 지침은 건설공사 현장의 C.I.P 흙막이공사 작업에 적용한다.\n",
      "\n",
      "3. 정의\n",
      "\n",
      "(1) 이 지침에서 사용되는 용어의 뜻은 다음과 같다.\n",
      "\n",
      "(가) “C.I.P(Cast In Place Pile)”란 지반 천공장비를 사용, 소정의 심도까지 천공하여 토사를 배출시킨 후 공내에 H-Pile 또는 철근망을 삽입하고 콘크리트 또는 모르 터를 타설하는 주열식 현장타설 말뚝으로 가설 흙막이, 물막이 연속벽체 등으로 사용하는 공법을 말한다.\n",
      "\n",
      "(나) “띠장(Wale)”이란 흙막이 벽에 작용하는 토압에 의한 휨모멘트와 전단력에 저항하도록 설치하는 휨부재로서, 흙막이 벽체에 가해지는 토압을 버팀보 등에 전달하기 위해 벽면에 직접 수평으로 설치하는 부재를 말한다.\n",
      "\n",
      "(다) “버팀보(Strut or Raker)”란 흙막이 벽에 작용하는 수평력을 지지하기 위하여 경사 또는 수평으로 설치하는 부재를 말한다.\n",
      "\n",
      "(라) “슬라임(Slime)”이란 보링, 현장타설 말뚝 등의 시공을 위한 지반 굴착\n",
      "\n",
      "- 1 -\n"
     ]
    },
    {
     "name": "stderr",
     "output_type": "stream",
     "text": [
      "INFO:httpx:HTTP Request: POST http://localhost:8000/v1/chat/completions \"HTTP/1.1 200 OK\"\n",
      " 33%|███▎      | 4/12 [00:38<01:31, 11.46s/it]"
     ]
    },
    {
     "name": "stdout",
     "output_type": "stream",
     "text": [
      "--------------------------------\n",
      "Processed: 시에 생기는 미세한 굴착 씩꺼기로서, 지상으로 배출되지 않고 굴착저먼 부근에 남아 있다가 굴착 중지와 동시에 곧바로 침전된 것과 순환수, 혹은 공내수 중에서 떠 있던 미립자가 굴착 중지 후 시간이 경과함에 따라 서서히 굴착 저면부에 침전한 것을 말한다.\n",
      "\n",
      "바) “안내벽(Guide wall)”이란 현장타설 말뚝 시공시 굴착작업에 앞서 굴착구 양쪽에 설치하는 콘크리트 가설벽 또는 H형강으로서, 지반의 붕괴를 방지하고 굴착기관과 철근망 근입의 정확한 위치 유도를 목적으로 설치하는 가설구조물을 말한다.\n",
      "\n",
      "사) “트레미관(Tremie pipe)”이란 수중콘크리트나 지표면 이하에 콘크리트 타설에 사용 시 재료분리를 방지하기 위해 상단부의 머리부분에 설치하는 방밀성이 있는 관을 말한다.\n",
      "\n",
      "(2) 그 밖의 용어의 뜻은 이 지침에서 규정하는 경우를 제외하고는 「산업안전보건법」 같은법 시행령, 같은법 시행규칙, 안전보건규칙에서 정하는 바에 따른다.\n",
      "\n",
      "4. C.I.P 흙막이공사 전 안전조치 사항\n",
      "\n",
      "(1) 현장 여건과 진행 공종별 장비 수급계획을 수립하여 현장의 각종 장비의 전도 및 협착재해를 방지하고 장비의 통로는 배수가 잘 되도록 조치하고 지반의 침하나 변형을 수시로 확인하여 필요시 철판이나 콘크리트를 포설하여야 한다.\n",
      "\n",
      "(2) 세륜기 설치는 현장부지, 가설도로 등을 고려하여 위치를 선정하여야 하고, 관계법령에 적합하게 설치하여야 한다.\n",
      "\n",
      "(3) 천공위치에 상하수도관, 통신케이블, 가스관, 고압케이블 등 지하매설물이 설치되어 있는지의 여부를 관계기관의 지하매설물 현황도를 확인하고 깊이 2m 정도까지 인력으로 매설물을 노출시켜야 하며, 필요시 이설 또는 보호조치를 하여야 한다.\n",
      "\n",
      "(4) 반입되는 장비 및 자재의 하역작업은 중량 및 적재상태 등을 고려하여 적절한 하역방법을 선정하여야 한다.\n"
     ]
    },
    {
     "name": "stderr",
     "output_type": "stream",
     "text": [
      "INFO:httpx:HTTP Request: POST http://localhost:8000/v1/chat/completions \"HTTP/1.1 200 OK\"\n",
      " 42%|████▏     | 5/12 [00:52<01:25, 12.21s/it]"
     ]
    },
    {
     "name": "stdout",
     "output_type": "stream",
     "text": [
      "--------------------------------\n",
      "Processed: (5) 하역작업 시에는 신호수를 배치하여 정해진 신호에 따라야 하며 신호는 장비운전원이 잘 볼 수 있는 곳에서 하여야 한다.\n",
      "\n",
      "(6) 가설전기는 장비, 기계, 기구별로 최대 부하용량을 계산하여 수전설비용량을 산정하여야 하며 분전반은 관계근로자 외 조작을 금지하도록 표지판을 설치하는 등 조치하여야 한다.\n",
      "\n",
      "(7) 크레인 등 장비를 현장에 반입할 경우에는 해당 장비이력카드를 확인하여 관련법령에 의한 정기검사를 등 이력을 확인하고, 작업시작전에 전과방지장치, 브레이크·클러치 및 운전장치의 기능 등을 점검하여야 한다.\n",
      "\n",
      "(8) 인접 구조물 또는 건물의 벽, 지붕, 바닥, 닫 등의 강성, 안정성, 균열상태, 노후정도 등을 상세히 조사하여 기록한다. 인접구조물의 균열부위는 위치를 표시하고, 균열폭 및 길이를 관독할 수 있도록 사진촬영 및 기록을 하여야 한다.\n",
      "\n",
      "(9) 지게차를 이용하여 장비 및 자재를 하역할 경우에는 KOSHA-GUIDE M-88-2011(지게차의 안전작업에 관한 기술지침)에 따른다.\n",
      "\n",
      "(10) 그 밖의 가설작업에 관한 안전조치 사항은 KOSHA GUIDE C-8-2011(작업발판설치 및 사용 안전지침)에 따른다.\n",
      "\n",
      "5. C.I.P 흙막이공사 안전조치 사항\n",
      "\n",
      "5.1 일반사항\n",
      "\n",
      "(1) 시공에 앞서 설계도서 및 현장의 각종 상황(매설물, 가공물, 도로구조물, 지반, 노면교통 등)을 고려한 작업계획을 수립하여야 한다.\n",
      "\n",
      "(2) 작업계획에는 다음 사항을 포함하여야 한다.\n",
      "\n",
      "(가) 흙막이공사를 위한 상세한 위치, 사용기계 및 공정, 매설물처리방법 등\n"
     ]
    },
    {
     "name": "stderr",
     "output_type": "stream",
     "text": [
      "INFO:httpx:HTTP Request: POST http://localhost:8000/v1/chat/completions \"HTTP/1.1 200 OK\"\n",
      " 50%|█████     | 6/12 [01:09<01:22, 13.80s/it]"
     ]
    },
    {
     "name": "stdout",
     "output_type": "stream",
     "text": [
      "--------------------------------\n",
      "Processed: (나) 토질조건, 흙막이구조, 굴착규모, 굴착방법, 지하매설물의 유무, C.I.P의 시공순서와 시공시간 간격에 관한 계획 등을 고려한 본 구조물의 시공법, 인접구조물 등의 관련을 고려하여 공정의 각 단계에서 충분한 안정성이 확보될 수 있는 흙막이 구조물 시공계획\n",
      "\n",
      "(다) 띠장, 버팀보 등의 부재의 재질, 배치, 치수, 설치시기, 시공순서, 시공방법, 장비계획, 매설물 철거 및 보호공 계획, 임시배수로 및 안전시설 설치계획 등\n",
      "\n",
      "(라) 설계도면과 현장조건이 일치하지 않을 경우, 그 처리대책으로서 전문기술자가 작성한 수정도면, 계산서, 검토서, 시방서 등을 포함하는 설계검토 보고서에 의한 공사감독자가 승인한 설계도면\n",
      "\n",
      "(마) 수위계, 경사계, 하중계, 첨하계, 움직임계 등을 이용한 흙막이지보공 및 인접지반과 매설물 계측계획\n",
      "\n",
      "(바) 흙막이공사에 의한 공사간의 교통 처리계획, 교통안전요원의 운영계획 및 관련 기관과 협의된 사항 등이 포함된 교통 처리계획\n",
      "\n",
      "(사) 그 밖에 공사감독자가 필요하다고 인정하는 사항\n",
      "\n",
      "(3) 흙막이공사는 설계도의 시공 및 되매우기 순서에 따라 단계적인 설치와 해체가 될 수 있어야 한다.\n",
      "\n",
      "(4) 흙막이작업 시 불가피하게 설계도면과 다르게 시공하여야 할 경우에는 공사를 중단하고 대체 방안을 강구한 이후에 시공하여야 한다.\n",
      "\n",
      "(5) 지하수 유출, 지반의 이완 및 침하, 각종 부재의 변형, 연결부의 풀림 등을 수시로 점검하고, 이상이 있을 경우 즉시 보강하며, 그에 따른 안정성을 추가로 검토하여야 한다.\n",
      "\n",
      "(6) 흙막이공사 완료 이후에는 주변에 배수시설을 갖추어 흙막이 작업장 내로 지표수가 유입되지 않도록 하여야 한다.\n",
      "\n",
      "(7) 흙막이 벽 주변에 계획 이상의 하중이 적재되지 않도록 하여야 한다.\n",
      "\n",
      "(8) 흙막이공사 진행 중 주변 구조물에 피해가 예상되면 주변 구조물의 기초와 구조물 하부 지반을 조사하고, 균열·변위·변형의 진행 여부와 하중의 증감 상황을\n"
     ]
    },
    {
     "name": "stderr",
     "output_type": "stream",
     "text": [
      "INFO:httpx:HTTP Request: POST http://localhost:8000/v1/chat/completions \"HTTP/1.1 200 OK\"\n",
      " 58%|█████▊    | 7/12 [01:22<01:08, 13.73s/it]"
     ]
    },
    {
     "name": "stdout",
     "output_type": "stream",
     "text": [
      "--------------------------------\n",
      "Processed: 확인할 수 있도록 계측장비를 설치하여 관찰, 기록하여야 한다.\n",
      "\n",
      "5.2 C.I.P 작업\n",
      "\n",
      "5.2.1 준비 및 줄파기 작업\n",
      "\n",
      "(1) 작업계획에 따라 공사가 안전하게 진행될 수 있도록 장비, 기계·기구, 자재 및 가설재를 준비하여야 한다.\n",
      "\n",
      "(2) 작업계획에 수립된 위험요소에 안전표지판, 차단기, 조명 및 경고신호 등을 설치하여야 한다.\n",
      "\n",
      "(3) 주요 시설물에 대해서는 관계 법령에 따라 공사감독자에게 사전 통보하여 굴착 작업 시에 입회할 수 있도록 하여야 하며, 지하수에 대한 차수공법을 고려하여야 한다. 주요시설이 훼손되거나 부분적인 누수가 발생할 경우에는 즉각 응급조치를 하고 공사감독자에게 통보하여 적절한 조치를 강구하여야 한다.\n",
      "\n",
      "(4) 지하매설관의 절곡부, 분기부, 단관부, 기타 특수부분 및 관리자가 특별히 지시한 재료부분은 이동 또는 탈락방지 등의 보강대책을 세워야 하며, 기타 특별한 사항에 대해서는 공사감독자의 지시를 받아야 한다.\n",
      "\n",
      "(5) 흙막이와 인접하여 작동되는 천공장비 등 건설기계에 대한 안정성을 검토하여야 하며, 필요시에는 흙막이를 보강하거나 지반을 보강 또는 개량하여야 한다.\n",
      "\n",
      "(6) 지반굴착을 위한 친공 또는 항타 전에 친공위치에 따라 2.0 m 이상 또는 지하매설물 심도 이상 줄파기를 하여 지하 매설물의 유무 및 위치를 확인하여야 한다.\n",
      "\n",
      "(7) 가능한 적은 범위 내에서 줄파기를 하고, 보행자의 안전을 위해 보도경계선에 가설 울타리를 설치하여야 한다.\n",
      "\n",
      "(8) 줄파기 작업 시에는 부근의 노면건조물, 매설물 등에 피해가 없도록 하고, 지반 이 이완되지 않도록 주의하여야 하며, 필요시에는 가복공 또는 가포장을하여야 한다.\n"
     ]
    },
    {
     "name": "stderr",
     "output_type": "stream",
     "text": [
      "INFO:httpx:HTTP Request: POST http://localhost:8000/v1/chat/completions \"HTTP/1.1 200 OK\"\n",
      " 67%|██████▋   | 8/12 [01:37<00:56, 14.16s/it]"
     ]
    },
    {
     "name": "stdout",
     "output_type": "stream",
     "text": [
      "--------------------------------\n",
      "Processed: (9) 시험굴착 및 줄파기는 말뚝박기 진행을 고려하여 소정의 범위 밖에서 시행하여야 하며, 작업완료 후 조속히 표준도에 따라 복구하여 교통소통에 지장이 없도록 하고 복구 후 노면을 유지 보수하여야 한다.\n",
      "\n",
      "5.2.2 천공 및 케이싱 설치\n",
      "\n",
      "(1) 천공장비는 천공 깊이, 지층 및 지하수 상태 등을 종합적으로 고려하여 당해 현장에 적합한 장비를 선택하여야 한다.\n",
      "\n",
      "(2) 장비전도나 지하매설물을 보호하기 위해 천공장비가 위치하는 곳에는 철판을 설치하는 등의 방법으로 지반보강 조치를 하여야 한다.\n",
      "\n",
      "(3) 천공 깊이는 설계도서에서 정하는 깊이 이상을 확보하여야하며, 굴착토사를 관찰하는 등의 방법을 통하여 설계 당시 반영한 지층의 두께, 지질의 상태, 지하수위 등과의 동일여부를 확인하여야 한다.\n",
      "\n",
      "(4) 천공작업을 시행하는 중 설계에 반영된 지반조건과 상당한 차이가 있어 구조적인 안정성에 영향을 미칠 것으로 판단될 경우에는 작업을 중지하고 천공 깊이를 재검토하여야 한다. 이때 천공 깊이는 관계전문가의 자문을 받아 지하수 유출로 인한 주변지반의 침하, 흙막이 벽의 붕괴 등으로부터 충분한 깊이 이상을 확보하여야 한다.\n",
      "\n",
      "(5) 천공 깊이는 천공장비에 깊이 표시를 하거나, 삽입되는 H-Pile에 깊이를 표시하는 등의 방법으로 천공 깊이를 확인할 수 있도록 하여야 한다.\n",
      "\n",
      "(6) 천공기의 수직도(설계기준 또는 말뚝길이의 1/200 이하)를 유지하기 위해 장비 자체의 경사계 및 트랜싯 등을 활용하여 수직도를 관리하여야 한다.\n",
      "\n",
      "(7) 천공작업 시 흙의 비산을 방지하기 위해 천공기 모터 토출구에 가림막을 설치하는 등의 방법으로 토사 비산방지 대책을 강구하여야 한다.\n",
      "\n",
      "(8) 천공작업 시 발생하는 소음과 분진으로부터 근로자를 보호하기 위해 귀마개, 방\n"
     ]
    },
    {
     "name": "stderr",
     "output_type": "stream",
     "text": [
      "INFO:httpx:HTTP Request: POST http://localhost:8000/v1/chat/completions \"HTTP/1.1 200 OK\"\n",
      " 75%|███████▌  | 9/12 [01:50<00:41, 13.76s/it]"
     ]
    },
    {
     "name": "stdout",
     "output_type": "stream",
     "text": [
      "--------------------------------\n",
      "Processed: 진마스크 등 개인용 보호구를 착용하도록 하여야 한다.\n",
      "\n",
      "(9) 천공장비로 케이싱을 인양할 때는 자재가 불시에 낙하하지 않도록 자재의 결속 상태를 확인하여야 한다.\n",
      "\n",
      "(10) 천공한 구멍은 슬라임(Slime) 제거와 천공심도를 확인하고 추락 등 재해를 방지하기 위해 덮개를 설치하는 등 방호조치를 하여야 한다.\n",
      "\n",
      "(11) 천공 및 슬라임(Slime) 굴착 또는 주변현장은 다립하지 않도록 즉시 처리 하여야 한다.\n",
      "\n",
      "(12) 천공 시 지하수와 함께 다양한 슬라임(Slime) 발생 시 별도의 첨사지를 설치하여 토사가 하수관으로 직접 유입되지 않도록 하여야 한다.\n",
      "\n",
      "(13) 첨사된 슬라임(Slime)은 폐기물로 간주되므로 건조한 홀과 섞어 사토장으로 처리하여야 한다.\n",
      "\n",
      "5.2.3 H-Pile 및 철근망 삽입\n",
      "\n",
      "(1) H-Pile 및 철근망의 운반 및 인양은 비틀림이나 변형이 발생하지 않도록 크레인 등을 이용하여 천공기 작업범위까지 운반하여야 한다.\n",
      "\n",
      "(2) 천공기의 파일 인양용 와이어로프, 샤크 등 보조기구는 작업 전에 체결상태를 확인하여 불시에 전도 또는 낙하하는 재해를 예방하여야 한다.\n",
      "\n",
      "(3) 철근망의 인양 중 낙하를 방지하기 위해 모든 접합부분은 결속하고, 인양용 고리 부분은 자중을 고려하여 용접 등의 방법으로 보강하여야 한다.\n",
      "\n",
      "(4) 천공 후 심도에 맞게 미리 가공된 철근망을 삽입할 때 수직하게 넣지 않으면 중간에 철근망 하단부가 걸리는 경우가 있으므로 수직도를 유지하면서 삽입하여야 한다.\n"
     ]
    },
    {
     "name": "stderr",
     "output_type": "stream",
     "text": [
      "INFO:httpx:HTTP Request: POST http://localhost:8000/v1/chat/completions \"HTTP/1.1 200 OK\"\n",
      " 83%|████████▎ | 10/12 [02:05<00:27, 13.98s/it]"
     ]
    },
    {
     "name": "stdout",
     "output_type": "stream",
     "text": [
      "--------------------------------\n",
      "Processed: (5) H-Pile 및 철근망 인양 시 보조로프를 사용하여 흔들림에 의한 충돌을 예방하여야 한다.\n",
      "\n",
      "(6) H-Pile 및 철근망은 공벽이 붕괴되지 않도록 서서히 삽입하여야 하며, 피복 확보를 위하여 간격재를 부착하여야 한다.\n",
      "\n",
      "5.2.4 콘크리트 타설 및 케이싱 인발\n",
      "\n",
      "(1) H-Pile 및 철근망 삽입이 완료된 공은 즉시 콘크리트 또는 모르터를 타설하여 과일의 변형방지와 추락재해를 예방하여야 한다.\n",
      "\n",
      "(2) 콘크리트 타설은 한 개의 공이 완료될 때까지 계속해서 트레미관(Tremie pipe)을 이용하여 공내 하단으로부터 콘크리트 속에 1 m 정도 묻힌 상태로 타설을 하여야하며, 이 때 관절합부의 터짐 등으로 인한 비산 및 낙하·비래 재해 방지를 위해 관리를 철저히 하여야 한다.\n",
      "\n",
      "(3) 레미콘 트럭 후진 시 협착과 굴삭기 작업 시 충돌재해 예방을 위해 신호수를 배치하여 신호에 따라 작업하여야 한다.\n",
      "\n",
      "(4) 케이싱 인발은 콘크리트 타설 완료 후 인발하며 인발속도를 최대한 천천히 하여 H-Pile의 뒤틀림 등 변형을 방지하여야 한다.\n",
      "\n",
      "(5) 인발한 케이싱의 전도방지를 위해 하단에 보조로프를 설치하여 이동 후 적재하여야 한다.\n",
      "\n",
      "5.2.5 두부정리 및 Cap 콘크리트 타설\n",
      "\n",
      "(1) 콘크리트 타설이 완료된 맨목 주변의 굴착작업 시 굴삭기 후면의 협착재해를 예방하기 위해 신호수를 배치하고 신호에 따라 작업하여야 한다.\n",
      "\n",
      "(2) 흙막이 벽 상단에 추락방지용 안전난간을 설치할 경우에는 Cap 콘크리트 타설 전 안전난간의 지주를 미리 설치하여 추락재해 방지조치를 하여야 한다.\n"
     ]
    },
    {
     "name": "stderr",
     "output_type": "stream",
     "text": [
      "INFO:httpx:HTTP Request: POST http://localhost:8000/v1/chat/completions \"HTTP/1.1 200 OK\"\n",
      " 92%|█████████▏| 11/12 [02:18<00:13, 13.67s/it]"
     ]
    },
    {
     "name": "stdout",
     "output_type": "stream",
     "text": [
      "--------------------------------\n",
      "Processed: 6. 차수 그라우팅(Grouting)작업 안전조치 사항\n",
      "\n",
      "6.1 일반사항\n",
      "\n",
      "(1) 지층조건을 검토하고 시공 전에 작업계획을 작성하며 공사감독자의 승인을 받아야 한다.\n",
      "\n",
      "(2) 차수작업 계획에는 다음 사항을 포함하여야 한다.\n",
      "\n",
      "(가) 공사명, 시공장소, 발주처, 설계자 및 시공회사 등을 기록한 공사개요\n",
      "(나) 작업배치도, 보강작업의 범위와 사용재료 및 사용량 등\n",
      "(다) 공기, 토질 조건, 시공 난이성, 휴일, 계절과 날씨에 따른 공사의 관계를 고려한 공정표\n",
      "(라) 사용하는 장비의 명칭, 형식, 형상, 차수, 성능, 수량 등을 기록한 주요 장비 일람표\n",
      "(마) 공사명, 조사장소, 조사기간, 지하수위, 심도, 토층두께, 각종 토질시험 결과 값이 기입된 토질주상도\n",
      "\n",
      "(3) 이 시공에 앞서 현장의 토질특성을 조사하고, 공사 착수 전에 작성한 주입계획의 적정성 여부와 당해 공사에 대한 최적의 효과를 기대할 수 있는 주입량을 결정하기 위하여 현장에서 시험 시공하여야 한다.\n",
      "\n",
      "(4) 장비의 설치는 현장조건 및 작업여건을 고려하여 전도 또는 전락되지 않도록 지반을 정리하고 안전하게 설치하여야 한다.\n",
      "\n",
      "(5) 그라우팅 설비는 주변에 영향을 주지 않는 장소를 선정하고 사용 재료와 세정수가 유출되지 않도록 설치하여야 한다.\n",
      "\n",
      "(6) 플랜트 설치 후 주입호스, 장비가동용 동력선이 있는 장소에는 관계근로자외 출입을 금지하여야 한다.\n",
      "\n",
      "(7) 고압 또는 초고압호스의 연결부는 파손으로 인명피해를 줄 우려가 있으므로 작\n"
     ]
    },
    {
     "name": "stderr",
     "output_type": "stream",
     "text": [
      "INFO:httpx:HTTP Request: POST http://localhost:8000/v1/chat/completions \"HTTP/1.1 200 OK\"\n",
      "100%|██████████| 12/12 [02:29<00:00, 12.48s/it]\n"
     ]
    },
    {
     "name": "stdout",
     "output_type": "stream",
     "text": [
      "--------------------------------\n",
      "Processed: 업 전 체결상태 등을 점검하여야 한다.\n",
      "\n",
      "6.2 차수 그라우팅 작업 안전조치 사항\n",
      "\n",
      "(1) 지반의 특성 및 사용목적에 따라 다음의 주입(Grouting)공법을 선택하여 각각의 주입공법별 시방서에 따라 시공하여야 한다.\n",
      "\n",
      "(가) M.S.G(Micro Slica Grouting) 공법\n",
      "(나) S.G.R(Space Grouting Rocket) 공법\n",
      "(다) L.W(Labies Wasser) 공법\n",
      "(라) J.S.P(Jumbo Special Pattern) 공법\n",
      "(마) C.C.P(Chemical Churning Pattern) 공법\n",
      "\n",
      "(2) 주입재료는 보관시설을 구비한 곳에서 보관하며, 주입량의 당일 사용량, 잔량을 명확히 기록하여야 한다.\n",
      "\n",
      "(3) 주입장비는 연속주입작업을 할 수 있게 점검정비를 철저히 하며, 주입종료 시에는 깨끗이 청소하여야 한다.\n",
      "\n",
      "(4) 주입은 해당지층에 균일하고 치밀하게 주입되어야 하며, 주입 부위의 지반 변형으로 주변 지형이나 시설물에 변위가 없도록 수시로 점검하면서 주입하여야 한다.\n",
      "\n",
      "(5) 주입작업 시 교반장소와 주입장소가 상당히 떨어져 있을 경우 비상시 연락을 할 수 있는 통신설비를 갖추어야 한다.\n",
      "\n",
      "(6) 규산소다 등 주입하는 약액에 화학물질이 함유된 경우에는 화학물질의 명칭·성분 및 함유량, 안전·보건상의 취급주의 사항 등이 포함된 물질안전보건자료(MSDS)를 작성하여 취급근로자가 쉽게 볼 수 있는 장소에 게시 또는 비치하여야 한다.\n",
      "---End---\n",
      "Processing 강아치교(벤트공법) 안전보건작업지침\n"
     ]
    },
    {
     "name": "stderr",
     "output_type": "stream",
     "text": [
      "  0%|          | 0/21 [00:00<?, ?it/s]INFO:httpx:HTTP Request: POST http://localhost:8000/v1/chat/completions \"HTTP/1.1 200 OK\"\n",
      "  5%|▍         | 1/21 [00:02<00:47,  2.36s/it]"
     ]
    },
    {
     "name": "stdout",
     "output_type": "stream",
     "text": [
      "--------------------------------\n",
      "Processed: 강아치교(벤트공법) 안전보건작업지침\n",
      "\n",
      "2013. 8.\n",
      "\n",
      "한국산업안전보건공단\n"
     ]
    },
    {
     "name": "stderr",
     "output_type": "stream",
     "text": [
      "INFO:httpx:HTTP Request: POST http://localhost:8000/v1/chat/completions \"HTTP/1.1 200 OK\"\n",
      " 10%|▉         | 2/21 [00:11<01:58,  6.24s/it]"
     ]
    },
    {
     "name": "stdout",
     "output_type": "stream",
     "text": [
      "--------------------------------\n",
      "Processed: 안전보건기술지침의 개요\n",
      "\n",
      "○ 작성자 : 한국안전학회 최명기\n",
      "\n",
      "○ 제·개정 경과\n",
      "\n",
      "- 2013년 8월 건설안전문위 제정위원회 심의(제정)\n",
      "\n",
      "○ 관련규격 및 자료\n",
      "\n",
      "- 최신 교량공학(동명사, 황학주)\n",
      "- 도로교 표준시방서(대한토목학회)\n",
      "- 교량공사(강아치교) 시공자료\n",
      "- 교량공사 안전점검 Check Lisk : 한국산업안전보건공단 건설안전기술자료\n",
      "- 강교 설치 작업 안전 : 건설분야 교육자료 미디어개발 2009 456 1335\n",
      "\n",
      "○ 관련법규 · 규칙 · 고시 등\n",
      "\n",
      "- 산업안전보건기준에 관한 규칙 제136조~제150조, 제163조~제170조\n",
      "\n",
      "○ 기술지침의 적용 및 문의\n",
      "\n",
      "이 기술지침에 대한 의견 또는 문의는 한국산업안전보건공단 홈페이지 안전보건기술지침 소관 분야별 문의처 안내를 참고하시기 바랍니다.\n",
      "\n",
      "공표일자 : 2013년 10월 2일\n",
      "제 정 자 : 한국산업안전보건공단 이사장\n"
     ]
    },
    {
     "name": "stderr",
     "output_type": "stream",
     "text": [
      "INFO:httpx:HTTP Request: POST http://localhost:8000/v1/chat/completions \"HTTP/1.1 200 OK\"\n",
      " 14%|█▍        | 3/21 [00:20<02:14,  7.45s/it]"
     ]
    },
    {
     "name": "stdout",
     "output_type": "stream",
     "text": [
      "--------------------------------\n",
      "Processed: 강아치교(벤트공법) 안전보건 작업지침\n",
      "\n",
      "1. 목 적\n",
      "\n",
      "이 지침은 교량형식 중 주형을 곡선 또는 포물선으로 형성하고 주로 축방향의 압축력인을 받도록 한 강아치교 시공에 있어 안전한 작업방법 및 떨어짐, 부딪힘, 부너짐, 감전 등의 재해를 예방하기 위하여 필요한 작업 단계별 안전사항 및 안전시설에 관한 기술적 사항 등을 정함을 목적으로 한다.\n",
      "\n",
      "2. 적용범위\n",
      "\n",
      "이 지침은 강아치교 상부구조를 가설벤트 공법에 의하여 시공하는 방법에 적용한다.\n",
      "\n",
      "3. 용어의 정의\n",
      "\n",
      "(1) 이 지침에서 사용되는 용어의 뜻은 다음과 같다.\n",
      "\n",
      "(가) “강아치교”라 함은 주형을 곡선 또는 포물선으로 형성하고 주로 축방향의 압축력을 받도록 하여, 양단에서 수평반력을 충분히 견디도록 힌지(또는 고정) 지점을 확고히 해서 수평변위가 없는 아치교량 형식중 강부재로 구성된 교량을 말한다. 강아치교는 120~370 미터의 범위 내에서 주로 적용된다.\n"
     ]
    },
    {
     "name": "stderr",
     "output_type": "stream",
     "text": [
      "INFO:httpx:HTTP Request: POST http://localhost:8000/v1/chat/completions \"HTTP/1.1 200 OK\"\n",
      " 19%|█▉        | 4/21 [00:28<02:14,  7.94s/it]"
     ]
    },
    {
     "name": "stdout",
     "output_type": "stream",
     "text": [
      "--------------------------------\n",
      "Processed: (나) “아치 리브(Rib)”라 함은 아치교의 주부재로 스팬드릴(Spandrel) 내의 수직재 등으로 전달된 상판의 수직하중을 압축력으로 부담하여 지반에 수평력으로 전달하는 구조를 말한다. 아치리브의 중심선을 아치축선이라 하고 아치축선의 정점을 크라운(Crown)이라고 한다. 또한 아치의 양끝 지점부를 스프링잉(Springing)이라 하며 이 스프링잉을 연결하는 직선과 아치 크라운부와의 연직거리를 아치 라이즈(Rise)라고 한다.\n",
      "\n",
      "(다) “행어(Hanger)”라 함은 아치교의 바닥판을 매달아 지지하는 연직방향의 인장구조재를 말한다.\n",
      "\n",
      "(라) “보강형(Tie Girder)”라 함은 상판지지의 주된 역할을 하는 보부재를 말하며 양끝에서 아치와 연결된다. Tie Girder 웨브에서 수직방향 Stiffner가 일정한 간격으로 배치되어 있으며 가로보와 연결되는 위치에 있다.\n",
      "\n",
      "(마) “벤트”라 함은 가설교량의 설치시 거더를 받치는 강재 동바리를 말한다.\n"
     ]
    },
    {
     "name": "stderr",
     "output_type": "stream",
     "text": [
      "INFO:httpx:HTTP Request: POST http://localhost:8000/v1/chat/completions \"HTTP/1.1 200 OK\"\n",
      " 24%|██▍       | 5/21 [00:39<02:23,  8.98s/it]"
     ]
    },
    {
     "name": "stdout",
     "output_type": "stream",
     "text": [
      "--------------------------------\n",
      "Processed: (바) “가로보(Cross Beam)”라 함은 메인 거더에 대해 가로방향으로 만들어진 보를 말한다. 교량의 바닥계(상판)에 있어서는 바닥보와 같은 작용을 하며 철근콘크리트 보에서는 가로 방향의 안정을 증가시키기 위해 만들어진다.\n",
      "\n",
      "(2) 그 밖의 이 지침에서 사용하는 용어의 정의는 이 지침에 특별히 규정하는 경우를 제외하고는 산업안전보건법, 같은 법 시행령, 같은 법 시행규칙, 안전보건규칙 및 고시에서 정하는 바에 따른다.\n",
      "\n",
      "4. 강아치교 가설공법의 종류\n",
      "\n",
      "(1) 대블럭 가설공법은 공장 또는 현장에서 일체로 조립한 거더를 대형 운반기계와 가설기계를 이용하여 일괄적으로 가설하는 공법으로서 적용 및 특징은 다음과 같다.\n",
      "\n",
      "(가) 대블럭 가설공법은 플로팅 크레인 또는 바지선이 가설지점에 진입 가능한 곳에 주로 적용\n",
      "(나) 공기단축이 가능하고 가설 중 구조적으로 불안정하게 되는 기간이 짧아 내풍, 내진 안전성이 높은 장점\n",
      "(다) 최근에 장대 강아치교 특히 해상에 가설하는 경우에는 이 공법이 주류를 이루고 있으며, 국내의 경우 백야대교, 저도연륙교, 동영대교, 서강대교 등의 가설에 본 공법이 적용되었음\n",
      "\n",
      "(2) 벤트공법은 가설공법의 가장 일반적인 경우로 보강형 하부에 상부구조를\n"
     ]
    },
    {
     "name": "stderr",
     "output_type": "stream",
     "text": [
      "INFO:httpx:HTTP Request: POST http://localhost:8000/v1/chat/completions \"HTTP/1.1 200 OK\"\n",
      " 29%|██▊       | 6/21 [00:52<02:33, 10.23s/it]"
     ]
    },
    {
     "name": "stdout",
     "output_type": "stream",
     "text": [
      "--------------------------------\n",
      "Processed: 지지하는 벤트를 설치하여 보강형을 직접 지지하여 교량을 완성시키는 공법으로서 적용 및 특징은 다음과 같다.\n",
      "\n",
      "(가) 형하고가 낮고 지반이 평평한 경우에 적용하는 것이 경제적\n",
      "(나) 거더가 거의 응력을 받지 않는 상태에서 가설이 가능\n",
      "(다) 곡선교나 사교에서도 적용이 용이하다는 장점\n",
      "\n",
      "(3) 케이블공법은 수심이 깊은 하천, 벤트를 설치할 수 없는 계곡 등에서 많이 사용하는 공법으로 얕은 교대 또는 교각 위에 철탑을 세워 그 사이에 케이블을 걸쳐 놓고, 이 케이블로부터 로프를 내려 단위부재를 매달아 가설하는 공법이다. 적용 및 특징은 다음과 같다.\n",
      "\n",
      "(가) 단위부재를 운반하거나 조립하기 위해 케이블 크레인을 사용\n",
      "(나) 가설지점의 지형상 벤트를 설치하기 어려운 경우 또는 형하공간이 협소한 경우 가능한 공법으로 국내에는 적용실적이 없음\n",
      "(다) 케이블 공법에는 경사매달기 방식과 수직매달기 방식이 있음\n",
      "(라) 경사매달기 방식은 아치리브를 케이블로 직접 지지하여 시공하는 방식\n",
      "- 동일한 지간에 대해 수직매달기 방식과 비교하여 가설재가 적게 들어가는 장점이 있으나 중앙부의 폐합조정을 위한 특별한 조정장치가 필요\n",
      "(마) 수직매달기 방식은 가설용 철탑사이에 현수선을 설치하고 현수선과 아치리브를 행어로 연결하여 지지하여 가설하는 공법\n",
      "- 경사매달기와 비교하면 가설재는 약간 많이 드는 편이나 중앙의 폐합작업은 경사매달기 공법 보다 용이하다는 장점\n"
     ]
    },
    {
     "name": "stderr",
     "output_type": "stream",
     "text": [
      "INFO:httpx:HTTP Request: POST http://localhost:8000/v1/chat/completions \"HTTP/1.1 200 OK\"\n",
      " 33%|███▎      | 7/21 [01:01<02:16,  9.77s/it]"
     ]
    },
    {
     "name": "stdout",
     "output_type": "stream",
     "text": [
      "--------------------------------\n",
      "Processed: (4) 회전공법은 주로 가설 교량하부에 도로가 있고 교통통제가 불가능하여 벤트를 설치할 수 없는 경우에 사용되는 공법으로서 적용 및 특징은 다음과 같다.\n",
      "\n",
      "(가) 케이블공법에 비해 가설이 쉽고 단기간에 시공할 수 있는 공법\n",
      "(나) 교량 상부구조를 일괄 제작하여 한 지지점을 축으로 회전 이동시켜 거치하며, 회전시 지지점의 변화가 없어 범도의 시공 단계별 구조 검토 없이 시공가능하다는 장점\n",
      "(다) 경부고속철도선의 모암고가교에 이 공법이 적용되었음\n",
      "\n",
      "(5) 압출공법은 아치교 전체나 일부를 제작하여 윈치 등을 이용하여 교축방향으로 압출시켜 거치하는 공법으로서 수상에서 바지선을 이용한 압출방식과 보강형을 먼저 압출하고 압출완료 후 아치를 제작하는 방법 등이 있다.\n",
      "\n",
      "5. 강아치교 상부구조(벤트가설공법) 시공순서\n",
      "\n",
      "(1) 강아치교 상부구조(벤트가설공법)의 시공순서는 일반적으로 다음과 같다.\n"
     ]
    },
    {
     "name": "stderr",
     "output_type": "stream",
     "text": [
      "INFO:httpx:HTTP Request: POST http://localhost:8000/v1/chat/completions \"HTTP/1.1 200 OK\"\n"
     ]
    },
    {
     "name": "stdout",
     "output_type": "stream",
     "text": [
      "--------------------------------\n",
      "Error: JSONDecodeError\n",
      "페이지 8의 텍스트가 없습니다. 재시도합니다.\n"
     ]
    },
    {
     "name": "stderr",
     "output_type": "stream",
     "text": [
      "INFO:httpx:HTTP Request: POST http://localhost:8000/v1/chat/completions \"HTTP/1.1 200 OK\"\n",
      " 38%|███▊      | 8/21 [02:17<06:41, 30.86s/it]"
     ]
    },
    {
     "name": "stdout",
     "output_type": "stream",
     "text": [
      "--------------------------------\n",
      "Processed: (가) 하부벤트 가설\n",
      "(나) 교량 거더와 가로보 등 보강형 가설\n",
      "(다) 상부 벤트 설치 및 아치리브 가설\n",
      "(라) 행어 가설 완료후 하부와 상부 벤트 제거\n",
      "(마) 슬래브 타설 및 포장 시공\n",
      "\n",
      "| 사공계획서체출 | 지조립장 조성 | 자재반입 | 하역 및 소요반 | Tie Girder 지상조립 |\n",
      "|----------------|-------------|----------|-------------|---------------------|\n",
      "| 1. 검토 및 승인 | 1. 투입장비 | 1. 운송장비 | 1. 하역장비 | 1. 사용공구 |\n",
      "| 2. 자재리 | 2. 자재반입 | 2. 하역장비 | 2. 환적장비 | 2. 프레임 |\n",
      "| 1. 3mx35m=2800㎡ | | C/1Crane 250ton | | |\n",
      "\n",
      "<그림 13> 강아치교 시공 전경\n"
     ]
    },
    {
     "name": "stderr",
     "output_type": "stream",
     "text": [
      "INFO:httpx:HTTP Request: POST http://localhost:8000/v1/chat/completions \"HTTP/1.1 200 OK\"\n",
      " 43%|████▎     | 9/21 [02:20<04:27, 22.27s/it]"
     ]
    },
    {
     "name": "stdout",
     "output_type": "stream",
     "text": [
      "--------------------------------\n",
      "Processed: 6. 안전작업계획서 작성시 검토사항\n",
      "\n",
      "(1) 공사현장의 제반여건과 설계도서에서 정하고 있는 작업단계별 작업방법이 부합하고 공사용 장비 사용상의 문제가 없는지 검토한 후 구체적인 작업계획서를 작성하고 그 계획에 따라야 한다.\n"
     ]
    },
    {
     "name": "stderr",
     "output_type": "stream",
     "text": [
      "INFO:httpx:HTTP Request: POST http://localhost:8000/v1/chat/completions \"HTTP/1.1 200 OK\"\n",
      " 48%|████▊     | 10/21 [02:34<03:36, 19.72s/it]"
     ]
    },
    {
     "name": "stdout",
     "output_type": "stream",
     "text": [
      "--------------------------------\n",
      "Processed: (2) 작업계획서는 강아치교 작업에 풍부한 경험이 지식을 갖춘 사람이 수립하여야 하며, 공사중에는 계획서의 내용이 제대로 이행되는데의 여부를 정기적으로 확인할 수 있도록 하여야 한다.\n",
      "\n",
      "(3) 본 공법에 사용되는 장비 및 가설 구조물 등은 반입해서 사용하기 전에 전문가가 구조적 안전성 및 부재의 결함·손상 여부를 확인하여야 한다.\n",
      "\n",
      "(4) 벤트의 설치, 이동, 해체작업 단계별 작업방법과 순서, 안전작업 매뉴얼, 근로자와 장비에 대한 안전조치 사항 등이 포함된 작업계획을 수립하여야 한다.\n",
      "\n",
      "(5) 크레인을 사용하여 장비의 조립 및 해체작업을 하는 경우에는 작업방법 및 순서 등이 포함된 중량물 취급 작업계획을 수립하고 이를 당해 근로자에게 주지시켜야 한다.\n",
      "\n",
      "(6) 시공자는 강아치교 시공의 안전한 작업을 위하여 사전에 설계도서 등에 명시된 안전관리 부분의 요구사항을 검토 및 확인하여야 한다.\n",
      "\n",
      "7. 강아치교 안전작업\n",
      "\n",
      "7.1 공통적인 안전조치사항\n",
      "\n",
      "(1) 작업시작 전에 관리감독자를 지정하여 작업을 지휘하도록 하여야 한다.\n",
      "\n",
      "(가) 관리감독자는 당해 작업의 위험요인과 이에 대한 안전수칙을 근로자에게 주지시키고 이행여부를 확인하여야 한다.\n",
      "\n",
      "(나) 근로자를 배치할 때는 작업환경, 작업중류·형태·내용·기간 등 작업 특성을 고려하여 배치하여야 한다.\n",
      "\n",
      "(다) 근로자 연령, 건강상태, 업무경력, 경험정도 등 근로자의 특성을 고려해서 작업배치 여부를 결정하여야 한다.\n",
      "\n",
      "(라) 특히 강아치교 리브 조립 작업은 고소에서 작업이 이루어지므로 고소공포증, 고령자, 고혈압 질환자 등은 배제시켜야 한다.\n",
      "\n",
      "(마) 해상작업 시에는 안전을 위하여 구명조끼, 구명로프, 구명튜브 등 구호장\n"
     ]
    },
    {
     "name": "stderr",
     "output_type": "stream",
     "text": [
      "INFO:httpx:HTTP Request: POST http://localhost:8000/v1/chat/completions \"HTTP/1.1 200 OK\"\n",
      " 52%|█████▏    | 11/21 [02:47<02:56, 17.63s/it]"
     ]
    },
    {
     "name": "stdout",
     "output_type": "stream",
     "text": [
      "--------------------------------\n",
      "Processed: 비를 갖추어야 한다.\n",
      "\n",
      "(바) 근로자에게 적절한 휴식시간을 부여하여 근골격계 및 뇌 심혈관계 질환 예방을 위한 적절한 조치를 하여야 한다.\n",
      "\n",
      "(사) 안전모, 안전대, 구명조끼 등 근로자의 개인보호구를 점검하고 작업 전에 보호구의 착용방법에 대한 교육을 실시하고, 작업 중 착용여부 및 상태를 확인하여야 한다.\n",
      "\n",
      "(2) 사용예정 가설장비는 안전점검을 실시하여 이상이 발견된 때에는 정상적인 장비로 교체하거나 정비하여 이상이 없음을 확인한 후 사용하도록 한다.\n",
      "\n",
      "(3) 위험기계·기구의 방호장치를 점검하고 이상이 있는 경우에는 정상적인 제품으로 교체하여야 한다.\n",
      "\n",
      "(4) 작업장 내 고압 송전선로, 전기·통신케이블 등 장해물 현황을 사전에 조사하여 이설하거나 방호시설을 갖추는 등의 안전조치를 하여야 한다.\n",
      "\n",
      "(5) 개구부나 외주부 등 벗어짐 위험이 있는 장소에는 안전난간, 추락방지망 등 벗어짐 재해 방지시설을 설치하고, 설치하기 곤란한 경우에는 근로자에게 안전대를 착용하도록 하는 등 벗어짐위험을 방지하기 위하여 필요한 조치를 하여야 한다.\n",
      "\n",
      "(6) 작업장네 공구 및 자재를 정리정돈하여 맞음·비례 등의 재해를 예방하여야 한다.\n",
      "\n",
      "(8) 벤트, 강아치교에 사용되는 부재의 재질 및 용접상태, 볼트 등의 이상유무를 확인하여야 한다.\n",
      "\n",
      "(9) 중량부재를 크레인으로 인양할 때에는 아래 사항을 준수하여야 한다.\n",
      "\n",
      "(가) 부재에 인양용 러그(Lug)를 설치\n",
      "(나) 인양용 와이어로프를 부재의 2지점 이상에 결속\n"
     ]
    },
    {
     "name": "stderr",
     "output_type": "stream",
     "text": [
      "INFO:httpx:HTTP Request: POST http://localhost:8000/v1/chat/completions \"HTTP/1.1 200 OK\"\n",
      " 57%|█████▋    | 12/21 [03:03<02:34, 17.21s/it]"
     ]
    },
    {
     "name": "stdout",
     "output_type": "stream",
     "text": [
      "--------------------------------\n",
      "Processed: (다) 별도의 유도 로프를 설치하여 안전하게 유도\n",
      "(라) 부재 인양 시 신호수 배치 계획을 수립하고 배치 및 신호체계 수립\n",
      "(마) 중량물 부품을 운반하여 임시 적재할 때에는 반드시 받침목을 고이고 균형을 잡은 후 적재\n",
      "\n",
      "(10) 비·눈·바람 또는 그 밖의 기상상태의 불안정으로 인하여 근로자가 위협받을 우려가 있는 경우 작업을 중지하여야 한다. 특히, 순간풍속이 초당 10 미터를 초과하는 경우 타워크레인의 설치·수리·점검 또는 해체 작업을 중지하여야 하며, 순간풍속이 초당 20 미터를 초과하는 경우에는 타워크레인의 운전작업을 중지하여야 한다.\n",
      "\n",
      "(11) 근로자가 상시 작업하는 장소의 작업면 조도는 보통작업(150룩스 이상), 초정밀 및 정밀작업을 제외한 그 밖의 작업은 75룩스 이상 기준에 맞도록 하여야 하고, 특히 야간 작업을 위하여 투광등과 같은 충분한 조명시설을 확보하고 감전재해를 방지하여야 한다.\n",
      "\n",
      "(12) 그 밖의 떨어짐, 맞음·비래, 강풍·강우 등 악천후 시 작업중지 등에 관한 안전조치 사항은 철골공사 안전작업에 관한 기술지침(KOSHA CODE C-8-2009)에 따른다.\n",
      "\n",
      "(13) 수상작업 시에는 수상작업 안전을 위하여 구명조끼, 구명로프, 구명튜브 등 구호장비를 갖추어야 하고, 해상 안전작업 사항 등에 대한 공통적인 안전조치 사항에 대한 내용은 수상 바지(Barge)선 이용 건설공사 안전보건 작업 지침(KOSHA GUIDE C-2-2012)에 따른다.\n",
      "\n",
      "### 7.2 지상 조립장 조성 및 자재반입 시 안전조치사항\n",
      "\n",
      "(1) 지상 조립장 조성 시에는 안전작업을 고려한 시공계획서를 아래와 같이 작성하여 감독기관에 제출하고 검토 및 승인을 받아야 한다.\n",
      "\n",
      "(가) 굴삭기, 덤프트럭 등 차량계 건설기계의 재해예방계획\n",
      "(나) 작업장 크기 : 폭, 길이\n",
      "(다) 배수대책 : 가설홈관의 직경, 길이, 설치방법\n",
      "(라) 환경대책 : 오탁방지망, 오일휀스\n"
     ]
    },
    {
     "name": "stderr",
     "output_type": "stream",
     "text": [
      "INFO:httpx:HTTP Request: POST http://localhost:8000/v1/chat/completions \"HTTP/1.1 200 OK\"\n",
      " 62%|██████▏   | 13/21 [03:17<02:08, 16.09s/it]"
     ]
    },
    {
     "name": "stdout",
     "output_type": "stream",
     "text": [
      "--------------------------------\n",
      "Processed: (2) 자재반입 시에는 트레일러 및 로베드의 넘어짐 등에 의한 위험을 방지하기 위한 조치를 다음과 같이 하여야 한다.\n",
      "\n",
      "(가) 자재반입 시 위험요소\n",
      "- 주행로 협소로 운반도중 작업차량과 부딪힘\n",
      "- 운반차량의 적재용량 초과운행으로 타이어 펑크 등에 의한 도괴\n",
      "- 차량 운반중 적재함의 결속선 파단으로 맞음\n",
      "(나) 사전에 부재 진입로의 지형 및 지반상태 등을 조사\n",
      "(다) 도로폭의 유지, 경사도, 부동침하의 방지, 갯길의 무너짐 방지, 유도자 배치 등 필요한 조치 실시\n",
      "- 지정구간 내 제한속도 규정 및 지정속도 운행준수\n",
      "- 제한속도 유지 및 커브길 감속운전\n",
      "- 커브길 블록반사경 설치\n",
      "- 차량 운반 전 주행로 사전점검 및 유지·보수\n",
      "(라) 적절한 자재 반입장소 확보\n",
      "- 적재기간동안 타공종과 간섭되지 않은 장소\n",
      "- 바닥이 중량물에 버틸 수 있는 구조\n",
      "(마) 하역장비 인양 능력 검토\n",
      "\n",
      "7.3 하역, 소운반, 보강형(Tie Girder) 지상 조립작업 시 안전조치사항\n",
      "\n",
      "(1) 적재함에서 무리하게 인양작업 중 적재함 단부에서 떨어짐 재해를 예방하기 위하여 적재함에서 인양작업 시에는 안전수칙을 준수하고 개인보호구를 착용하여야 한다.\n",
      "\n",
      "(2) 위험물 하역 시에는 인양물에 의한 기임을 방지하기 위하여 유도자 및 근로자 위치는 크레인 운전자의 시야에 위치하여야 한다.\n",
      "\n",
      "(3) 인양물은 받침목 위에 하역작업을 실시할 때에는 지반침하로 인한 인양물 무너짐 재해를 예방하기 위하여 작업 시작 전에는 화물적재 장소의 지반 건고성을 확인하여야 한다.\n"
     ]
    },
    {
     "name": "stderr",
     "output_type": "stream",
     "text": [
      "INFO:httpx:HTTP Request: POST http://localhost:8000/v1/chat/completions \"HTTP/1.1 200 OK\"\n",
      " 67%|██████▋   | 14/21 [03:22<01:28, 12.71s/it]"
     ]
    },
    {
     "name": "stdout",
     "output_type": "stream",
     "text": [
      "--------------------------------\n",
      "Processed: (4) 강부재 받침목 준비 미흡에 의한 적치불량으로 인하여 무너짐 재해를 예방하기 위하여 자재하역 전 하역장소의 평탄성을 확인하고 받침목 설치상태를 확인하여야 한다.\n",
      "\n",
      "(5) 크레인 인양작업 중 강부재의 하중에 의한 크레인 넘어짐 재해를 예방하기 위하여 크레인 인양중 조건표에 따른 적정 중량을 인양하여야 한다.\n",
      "\n",
      "<그림 15> 하역, 소운반, Tie Girder 지상조립 작업시 위험요인\n"
     ]
    },
    {
     "name": "stderr",
     "output_type": "stream",
     "text": [
      "INFO:httpx:HTTP Request: POST http://localhost:8000/v1/chat/completions \"HTTP/1.1 200 OK\"\n",
      " 71%|███████▏  | 15/21 [03:34<01:15, 12.63s/it]"
     ]
    },
    {
     "name": "stdout",
     "output_type": "stream",
     "text": [
      "--------------------------------\n",
      "Processed: (6) 운반 차량 브레이크 고정 불량으로 유동에 의한 부딪힘을 예방하기 위하여 운반차량의 사이드 브레이크 확인 및 비탈면에서 바퀴에 구름방지용 쐐기를 설치하여야 한다.\n",
      "\n",
      "(7) 슬링벨트로 강재를 감을 때 강재모서리와 로프 접촉부에 보호대를 설치하여야 한다.\n",
      "\n",
      "(8) 인양용 와이어로프를 2줄 걸이로 걸승하고 인양하여야 한다.\n",
      "\n",
      "(9) 인양물 하역작업시에는 일반정지 후 인양물 받침상태 등을 확인 후에 작업을 실시하여야 한다.\n",
      "\n",
      "(10) 강부재 적재시 슬링벨트의 물립이나 후크가 부재 틈에 걸리지 않도록 받침목의 위치와 높이를 선정하여야 한다.\n",
      "\n",
      "(11) 강부재의 인양 및 하역 작업시 유도자 또는 신호수를 배치하고 작업반경내에는 근로자의 출입금지 조치를 실시하여야 한다.\n",
      "\n",
      "7.4 벤트 설치 시 안전조치사항\n",
      "\n",
      "(1) 벤트 설치공사 위험요소는 다음과 같다.\n",
      "\n",
      "(가) 벤트의 침하, 넘어짐, 무너짐\n",
      "(나) 벤트 설치 시 벤트 인양 크레인의 넘어짐\n",
      "(다) 벤트 설치 및 해체시 근로자 떨어짐\n",
      "(라) 하부 벤트의 사하중 처짐으로 가로보를 삽입할 수가 없어 잭으로 벤트를 들어올린 후 가로보를 삽입하려다가 잭이 편심을 받아 터져 나오면서 근로자 안면부 강타 사고\n",
      "\n",
      "(2) 벤트 설치공사 시에는 사전에 다음 사항을 검토하여야 한다.\n",
      "\n",
      "(가) 구조검토 실시\n",
      "(나) 벤트 위치의 지반 지지력 확인\n"
     ]
    },
    {
     "name": "stderr",
     "output_type": "stream",
     "text": [
      "INFO:httpx:HTTP Request: POST http://localhost:8000/v1/chat/completions \"HTTP/1.1 200 OK\"\n",
      " 76%|███████▌  | 16/21 [03:42<00:56, 11.24s/it]"
     ]
    },
    {
     "name": "stdout",
     "output_type": "stream",
     "text": [
      "--------------------------------\n",
      "Processed: (3) 벤트는 작업시의 하중을 고려하여 구조검토를 실시하여 조립도를 작성하고 조립도의 순서에 따라 조립하여야 한다.\n",
      "\n",
      "(4) 벤트 재료의 이상 유무를 확인하여 균열, 부식, 휨, 단면부족 등의 결함이 있는 자재는 반출시켜야 한다.\n",
      "\n",
      "(5) 벤트의 부등침하 방지를 위하여 지반은 다짐을 실시하거나 콘크리트를 타설하여 보강하여야 한다.\n",
      "\n",
      "(6) 벤트 기초가 경사진 경우에는 벤트의 미끄럼 방지조치를 하여야 한다.\n",
      "\n",
      "(7) 벤트가 최종적으로 조립 설치된 경우에는 위치 레벨 및 볼트의 체결상태를 점검하여야 한다.\n",
      "\n",
      "(8) 벤트 작업대 단부에는 근로자의 추락 등에 의한 위험을 방지하기 위한 안전난간을 설치하여야 하며, 안전난간 하부에는 낙하물을 방지하기 위한 발끝막이판(Toe Board)을 설치하여야 한다.\n",
      "\n",
      "<그림 16> 벤트 안전시설 설치 예\n"
     ]
    },
    {
     "name": "stderr",
     "output_type": "stream",
     "text": [
      "INFO:httpx:HTTP Request: POST http://localhost:8000/v1/chat/completions \"HTTP/1.1 200 OK\"\n",
      " 81%|████████  | 17/21 [03:58<00:50, 12.53s/it]"
     ]
    },
    {
     "name": "stdout",
     "output_type": "stream",
     "text": [
      "--------------------------------\n",
      "Processed: (9) 작업시작 전에 작업통로, 안전방망, 안전난간 등 안전시설의 설치상태와 이 상유무를 확인하여야 한다.\n",
      "\n",
      "(10) 벤트 설치작업중 작업용 잭(Jack)을 사용하지 않고 일반 잭을 사용하는 경 우에는 작업결과 일정한 거리를 두고 작업을 실시하거나 작업에 맞는 잭 을 이용하여 작업을 실시하여야 한다.\n",
      "\n",
      "7.5 보강형, 아치 리브 조립 시 안전조치사항\n",
      "\n",
      "(1) 강부재 인양 시작 전에는 작업방법, 순서, 안전조치사항 등을 근로자에게 주지시키고, 다음과 같은 사항을 점검하여야 한다.\n",
      "\n",
      "(가) 작업 인원수와 근로자 건강상태\n",
      "(나) 작업 신호와 통신시설 상태\n",
      "(다) 용접기, 가스공구, 휴대공구의 상태\n",
      "(라) 고소작업용 인양대, 용접 보호면, 차광안경과 같은 개인보호구 상태\n",
      "(마) 낙하물 방지망, 추락 방지망, 안전난간 등과 같은 가시설 설치상태\n",
      "(바) 양중장비의 양중능력을 고려하고 정격속도를 준수\n",
      "(사) 근로자에게 위험을 미칠 우려가 있는 장소에는 근로자의 출입을 금지하 거나 주변에 안전공간을 확보하는 등 위험 방지조치를 실시\n",
      "\n",
      "(2) 보강형, 가로보 볼트체결 및 조립 시에는 다음 사항을 준수하여야 한다.\n",
      "\n",
      "(가) 보강형, 가로보 볼트체결 및 조립공사 중 위험요소 파악\n",
      "- 보강형 및 가로보를 이동대차(Roller)에 인양-운반 시 근로자 부딪힘, 키입, 떨어짐\n",
      "- 보강형 및 가로보를 교각 위에 약착 시 근로자 기임\n",
      "- 인양강재 거치 시 손으로 미세조정 중 손가락 기임\n",
      "- 프레임 등 자재를 운반하다 스티어볼트에 걸려 거더 단부로 넘어짐 및 떨어짐\n",
      "- 박스 내부도장 작업 중 질식\n",
      "- 박스 내부작업 중 조도불량에 의한 이동중 넘어짐\n",
      "- 거더 간 이동 중 실측하여 떨어짐\n",
      "- 거더하부에 낙하물방지망 설치하다 떨어짐\n"
     ]
    },
    {
     "name": "stderr",
     "output_type": "stream",
     "text": [
      "INFO:httpx:HTTP Request: POST http://localhost:8000/v1/chat/completions \"HTTP/1.1 200 OK\"\n",
      " 86%|████████▌ | 18/21 [04:01<00:29,  9.88s/it]"
     ]
    },
    {
     "name": "stdout",
     "output_type": "stream",
     "text": [
      "--------------------------------\n",
      "Processed: 달대비계 용접부위 취약에 의한 무너짐\n",
      "굴삭기로 크레인 거치작업 구간의 지반 정비작업 중 버켓에 주변 근로자 부딪힘\n",
      "고소작업 시 안전대 미착용으로 멸어짐\n",
      "\n",
      "<그림 17> 보강형, 가로보 작업 시 위험요인\n"
     ]
    },
    {
     "name": "stderr",
     "output_type": "stream",
     "text": [
      "INFO:httpx:HTTP Request: POST http://localhost:8000/v1/chat/completions \"HTTP/1.1 200 OK\"\n",
      " 90%|█████████ | 19/21 [04:17<00:23, 11.69s/it]"
     ]
    },
    {
     "name": "stdout",
     "output_type": "stream",
     "text": [
      "--------------------------------\n",
      "Processed: (나) 크레인 위치의 지반 확인 철저\n",
      "(다) 양중 크레인 인양 능력 검토\n",
      "(라) 사물 및 왜이어로프 확인\n",
      "(마) 신호수 배치\n",
      "(바) 안전보호구 착용 및 고소 작업 시 안전수칙 준수\n",
      "(사) 거더상부에 안전대 걸이 설치 및 안전대 착용하고 거더단부에 안전난간설치\n",
      "(아) 보강형 및 가로보 간의 이동통로 설치 및 안전난간 설치\n",
      "(자) 낙하물 방지망을 지상조립 후 인양거치\n",
      "(차) 달대로는 견고하며 작업발판 및 안전난간 설치하여 작업실시\n",
      "(카) 유도자 배치하고 장비작업방향 내 출입금지 조치\n",
      "(타) 밀폐공간 작업시 환기설비 설치 및 방독마스크, 공기호흡기 등 개인보호구 지급 착용\n",
      "(파) 작업장 주위에 조명등 설치 또는 휴대용 조명 기구 지급\n",
      "(하) 통로 주변은 자재가 적재되지 않도록 크레인 등의 양중기 작업반경내에 자재 야적장을 별도로 확보\n",
      "\n",
      "(3) 아치 리브와 행어 조립 시에는 다음 사항을 준수하여야 한다.\n",
      "\n",
      "(가) 아치 리브와 행어 조립공사 중 위험요소\n",
      "- 인양용 왜이어로프 손상에 의한 파손\n",
      "- 사다리 이용 강부재 위로 오르다 사다리 넘어짐\n",
      "- 안전작업 절차 미준수에 의한 인양작업 중 무너짐\n",
      "- 작업장 내 지반지지력 미검토에 의한 무너짐\n",
      "- 크레인 지르의 경사각 미준수로 장비 넘어짐\n",
      "- 후진이동시 후방의 근로자 또는 유도자 미확인에 의한 무너짐\n",
      "- 크레인의 후크해지장치 미부착으로 멈추어짐\n",
      "\n",
      "(나) 단부 떨어짐 방지 및 자재적치 관련\n",
      "- 추락방지용 방망은 강부재 하부 플렌지에 강재용 클램프를 이용한 달비케 설치 후 방망을 인양하여 설치\n",
      "- 떨어짐 방지용 수평구명줄은 견고하게 처짐없이 설치\n",
      "- 통상적으로 교량공사는 산간, 하상, 해상에서 이루어져 강풍에 대비한 자재 비산을 방지하기 위해 정리정돈 및 묶음(다발)으로 보관\n"
     ]
    },
    {
     "name": "stderr",
     "output_type": "stream",
     "text": [
      "INFO:httpx:HTTP Request: POST http://localhost:8000/v1/chat/completions \"HTTP/1.1 200 OK\"\n",
      " 95%|█████████▌| 20/21 [04:35<00:13, 13.43s/it]"
     ]
    },
    {
     "name": "stdout",
     "output_type": "stream",
     "text": [
      "--------------------------------\n",
      "Processed: (다) 아치 리브 달비계 설치 관련\n",
      "- 아치 리브, 보강형, 가로보 상에 안전난간을 설치하여 떨어짐 재해예방(가능한 한 근원적인 위험을 예방토록 지상에서 조립하여 인양)\n",
      "- 바스켓 크레인(Basket Crane)을 이용하더라도 탑승설비에 안전대 부착설비 설치, 안전대 착용 및 고정\n",
      "- 위험장소에 취득한 접근하지 않도록 안전대를 교육 철저\n",
      "- 거치 전 공사관계자와 안전관계자 합동으로 안전시공계획 수립, 검토\n",
      "(라) 하부 떨어짐 방지조치 관련\n",
      "- 성능검정에 합격한 추락 방지망 설치(그물코가 2센티미터 미만인 경우 낙하물 방지망으로 사용 가능)\n",
      "- 테두리 로프를 체결하여 지점부 강도 확보\n",
      "- 교량하부와 주변도로의 경계선을 따라 펜스 등 안전시설물 설치\n",
      "(마) 달대비계 설치상태 관련\n",
      "- 달대비계의 발판 상부에는 낙하물 발생 방지를 위해 방망이나 그레이팅망 설치\n",
      "- 달대비계는 이탈되지 않도록 거치\n",
      "- 달대비계상 근로자는 안전대 착용, 부착\n",
      "- 상부 플랜지 상의 드리프트 핀(Drift Pin)은 하부로 낙하하지 않도록 관리\n",
      "- 달대비계에 강아치교 상면에서 1미터 이상 높이까지 손잡이용 부재를 설치하여 달대비계로 승·하강 시 손으로 잡도록 교육 실시\n",
      "(바) 브라켓 및 단부 안전난간 설치상태 관련\n",
      "- 난간 지주의 유동을 막기 위해 클램프형으로 보강하고 근로자는 안전대 착용\n",
      "- 슬래브 측면에는 슬래브 콘크리트 타설시 및 타설 직후의 통로, 방호벽 콘크리트 타설, 거푸집 해체를 위한 작업공간을 확보할 수 있도록 작업발판 및 안전난간을 함께 설치\n",
      "(사) 인양방법 순서, 신호체계 등 인양작업 전반에 대한 계획수립 및 안전작업 절차 관련\n",
      "- 양중 크레인 인량능력 검토 및 크레인 인양하중 조건표의 경사각 준수\n",
      "- 작업장 내 중량물 취급장비의 이동, 작업 시 지반침하에 대한 검토 및 대책 수립\n",
      "- 인양용 와이어로프는 작업 전 점검실시\n",
      "- 사다리 넘어짐 방지 조치 실시\n",
      "- 크레인 방호장치 및 작동여부 확인\n"
     ]
    },
    {
     "name": "stderr",
     "output_type": "stream",
     "text": [
      "INFO:httpx:HTTP Request: POST http://localhost:8000/v1/chat/completions \"HTTP/1.1 200 OK\"\n",
      "100%|██████████| 21/21 [04:47<00:00, 13.70s/it]\n"
     ]
    },
    {
     "name": "stdout",
     "output_type": "stream",
     "text": [
      "--------------------------------\n",
      "Processed: KOSHA GUIDE\n",
      "C - 80 - 2013\n",
      "\n",
      "- 작업차량 이동경로 확보, 위험지역 순차 교행 등 교행확보 방안 마련\n",
      "- 후진작업 시 유도자의 유도에 의해 작업 및 유도자는 운전자의 인식가능한 장소에서 유도\n",
      "- 크레인의 후크해지장치 부착\n",
      "- 샤클 및 와이어 확인\n",
      "- 안전보호구 착용 및 고소작업 시 안전규칙 준수\n",
      "\n",
      "(4) 이동식 크레인을 사용하여 설치·해체 등을 하는 때에는 이동식 크레인의 전도를 방지하기 위하여 충분한 넓이와 지내력이 확보된 작업장을 조성하여야 한다.\n",
      "\n",
      "(5) 크레인을 사용하여 작업을 하는 경우 다음 각 호의 조치를 준수하고, 그 작업에 종사하는 관계 근로자가 그 조치를 준수하도록 하여야 한다.\n",
      "\n",
      "가) 인양한 하물을 바닥에서 끌어당기거나 밀어내는 작업을 하지 아니할 것\n",
      "나) 유류드럼이나 가스통 등 운반 도중에 흘러가거나 폭발하거나 누출될 가능성이 있는 위험물 용기는 보관함(또는 보관고)에 담아 안전하게 매달아 운반할 것\n",
      "다) 고정된 물체를 직접 분리·제거하는 작업을 하지 아니할 것\n",
      "라) 미리 근로자의 출입을 통제하여 인양 중인 하물이 근로자의 머리 위로 통과하지 않도록 할 것\n",
      "마) 인양한 하물이 보이지 아니하는 경우에는 어떠한 동작도 하지 아니할 것\n",
      "\n",
      "(6) 크레인의 조립 및 해체는 제작회사에서 제공하는 설치·해체 지침을 따르고, 기타 사항은 건설기계 안전보건작업 지침(KOSHA GUIDE C-48-2012)에 따른다.\n",
      "---End---\n",
      "Processing 경량철골 천장공사 안전보건작업 지침\n"
     ]
    },
    {
     "name": "stderr",
     "output_type": "stream",
     "text": [
      "  0%|          | 0/12 [00:00<?, ?it/s]INFO:httpx:HTTP Request: POST http://localhost:8000/v1/chat/completions \"HTTP/1.1 200 OK\"\n",
      "  8%|▊         | 1/12 [00:02<00:26,  2.38s/it]"
     ]
    },
    {
     "name": "stdout",
     "output_type": "stream",
     "text": [
      "--------------------------------\n",
      "Processed: 경량철골 천장공사 안전보건작업 지침\n",
      "\n",
      "2011. 12.\n",
      "\n",
      "한국산업안전보건공단\n"
     ]
    },
    {
     "name": "stderr",
     "output_type": "stream",
     "text": [
      "INFO:httpx:HTTP Request: POST http://localhost:8000/v1/chat/completions \"HTTP/1.1 200 OK\"\n",
      " 17%|█▋        | 2/12 [00:12<01:07,  6.76s/it]"
     ]
    },
    {
     "name": "stdout",
     "output_type": "stream",
     "text": [
      "--------------------------------\n",
      "Processed: 안전보건기술지침의 개요\n",
      "\n",
      "○ 작성자 : 한국산업안전보건공단 서울복무지도원 유현동\n",
      "\n",
      "○ 제·개정 경과\n",
      "\n",
      "- 2011년 11월 건설안전분야 제정위원회 심의(제정)\n",
      "\n",
      "○ 관련규격 및 자료\n",
      "\n",
      "- 작업발판 설치 및 사용 안전지침(KOSHA GUIDE C-8-2011)\n",
      "- 근골격계질환 예방을 위한 작업환경개선지침(KOSHA CODE G-6-1999)\n",
      "\n",
      "○ 관련법규·규칙·고시 등\n",
      "\n",
      "- 산업안전보건기준에 관한 규칙 제2장 작업장 등의 안전기준\n",
      "- 산업안전보건기준에 관한 규칙 제3편 기계기구 기타설비에 의한 위험예방\n",
      "- 산업안전보건기준에 관한 규칙 제6편 건설작업에 의한 위험예방\n",
      "- 산업안전보건기준에 관한 규칙 제9장 근골격계 부담 작업으로 인한 건강 장해의 예방\n",
      "\n",
      "○ 기술지침의 적용 및 문의\n",
      "\n",
      "이 기술지침에 대한 의견 또는 문의는 한국산업안전보건공단 홈 페이지 안전보건기술지침 소관 분야별 문의처 안내를 참고하시기 바랍니다.\n",
      "\n",
      "공표일자 : 2011년 12월 26일\n",
      "제 정 자 : 한국산업안전보건공단 이사장\n"
     ]
    },
    {
     "name": "stderr",
     "output_type": "stream",
     "text": [
      "INFO:httpx:HTTP Request: POST http://localhost:8000/v1/chat/completions \"HTTP/1.1 200 OK\"\n",
      " 25%|██▌       | 3/12 [00:23<01:18,  8.75s/it]"
     ]
    },
    {
     "name": "stdout",
     "output_type": "stream",
     "text": [
      "--------------------------------\n",
      "Processed: **경량철골 천장공사 안전보건작업 지침**\n",
      "\n",
      "1. 목적\n",
      "\n",
      "이 지침은 산업안전보건기준에 관한 규칙에 의거 경량철골 천장공사 중 발생할 수 있는 추락, 전도, 베임, 근골격계부담작업으로 인한 건강장해 등의 재해를 예방하기 위하여 필요한 경량철골 천장공사 작업별 안전조치 사항에 관한 기준을 정함을 목적으로 한다.\n",
      "\n",
      "2. 적용범위\n",
      "\n",
      "이 지침은 건축물 수장공사의 천장텍스, 석고보드, 기타 보드류를 부착시키기 위한 경량철골 천장공사에 적용한다.\n",
      "\n",
      "3. 용어의 정의\n",
      "\n",
      "(1) 이 지침에서 사용하는 용어의 정의는 다음과 같다.\n",
      "\n",
      "(가) “수장공사”라 함은 실내건축공사의 여러 공종 중에 최종 마무리 또는 설비물 작업단계로서, 건물 준공 후에 직접 외부로 나타나는 마감공사를 말한다.\n",
      "\n",
      "(나) “경량철골 천장공사”라 함은 두께가 얇은 형강을 부재로 사용하여 천장틀을 형성하여 천장텍스, 석고보드 등의 천장 마감재를 부착하는 마감공사를 말하며, 경량철골 천장공사 공법은 아래와 같이 분류한다.\n",
      "\n",
      "(1) 강재 받침재에 의한 분류\n",
      "   ① M-BAR 공법\n",
      "   ② T-BAR 공법\n",
      "   ③ H-BAR 공법\n",
      "   ④ I-BAR 공법\n",
      "   ⑤ MODULET-BAR 공법 등\n"
     ]
    },
    {
     "name": "stderr",
     "output_type": "stream",
     "text": [
      "INFO:httpx:HTTP Request: POST http://localhost:8000/v1/chat/completions \"HTTP/1.1 200 OK\"\n",
      " 33%|███▎      | 4/12 [00:30<01:05,  8.25s/it]"
     ]
    },
    {
     "name": "stdout",
     "output_type": "stream",
     "text": [
      "--------------------------------\n",
      "Processed: (2) 천장 마감재에 의한 분류\n",
      "① 석고보드 또는 암면흡음 천장판 공법\n",
      "② PLANK 공법\n",
      "③ TARTAN 공법\n",
      "④ LOUVER 공법\n",
      "⑤ TILE 공법 등\n",
      "\n",
      "(다) “M-BAR공법”이라 함은 매립형(Concealed-type)으로서 콘크리트 슬래브면에 콘크리트 드릴로 구멍을 천공 후 “M”자 형상의 천장 받침재 등으로 천장틀을 형성한 공법을 말하며, M-BAR 공법 부재의 조합은 다음과 같다.\n",
      "\n",
      "① 천장틀 : M-BAR, 캐링찬넬(Carrying Channel), 마이너찬넬(Minor Channel)\n",
      "② 부속철물 : 행거, 클립, 캐링찬넬 조인트, M-BAR 조인트, 벽 조인트\n",
      "③ 달대 : 행거볼트, 너트, 인서트\n",
      "\n",
      "〈그림1〉M-BAR 공법 개요도\n"
     ]
    },
    {
     "name": "stderr",
     "output_type": "stream",
     "text": [
      "INFO:httpx:HTTP Request: POST http://localhost:8000/v1/chat/completions \"HTTP/1.1 200 OK\"\n",
      " 42%|████▏     | 5/12 [00:36<00:52,  7.49s/it]"
     ]
    },
    {
     "name": "stdout",
     "output_type": "stream",
     "text": [
      "--------------------------------\n",
      "Processed: (아) \"석고보드 또는 암면흡음 천장판 공법\"이라 함은 M-BAR 천장틀에 석고보드 또는 암면흡음 천장판을 나사못 또는 타카 핀(Tacker Pin)으로 고정하는 공법을 말한다.\n",
      "\n",
      "(바) 기타 이 지침에서 사용하는 용어의 정의는 특별한 경우를 제외하고는 산업안전보건법, 같은 법 시행령, 같은 법 시행규칙, 안전보건기준에 관한 규칙 및 기타 고시에서 정하는 바에 따른다.\n",
      "\n",
      "4. 경량철골 천장공사 일반사항\n",
      "\n",
      "4.1 시공순서\n",
      "\n",
      "(1) 경량철골 천장공사 중 M-BAR 석고보드공법의 시공순서는 〈그림4〉와 같다.\n"
     ]
    },
    {
     "name": "stderr",
     "output_type": "stream",
     "text": [
      "INFO:httpx:HTTP Request: POST http://localhost:8000/v1/chat/completions \"HTTP/1.1 200 OK\"\n",
      " 50%|█████     | 6/12 [00:48<00:53,  8.95s/it]"
     ]
    },
    {
     "name": "stdout",
     "output_type": "stream",
     "text": [
      "--------------------------------\n",
      "Processed: KOSHA GUIDE\n",
      "C - 17 - 2011\n",
      "\n",
      "1. 천공 및 행거볼트 설치\n",
      "\n",
      "중심선을 설정하고 900㎜~1,200㎜ 간격으로 앵커 설치\n",
      "\n",
      "2. 테두리 몰딩 설치\n",
      "\n",
      "테두리 몰딩을 600㎜ 간격으로 고정\n",
      "\n",
      "3. 앵커볼트, 행거, 캐링찬넬 설치\n",
      "\n",
      "앵커볼트, 행거, 캐링찬넬 설치\n",
      "\n",
      "4. M-BAR 설치\n",
      "\n",
      "M-BAR 클립을 이용하여 M-BAR를 캐링채널에 300㎜ 간격으로 고정\n",
      "\n",
      "5. 석고보드 1겹 또는 압면흡음 천장판 M-BAR에 고정\n",
      "\n",
      "나사못 또는 타카핀으로 M-BAR에 고정\n",
      "\n",
      "6. 석고보드 2겹 설치 (완료, 석고보드의 경우\n",
      "\n",
      "나사못을 사용하여 마감석고보드를 M-BAR에 고정\n",
      "\n",
      "<그림 4> M-BAR 석고보드공법의 시공순서도\n",
      "\n",
      "4.2 시공관리 일반사항\n",
      "\n",
      "(가) 시공 전 관리사항\n",
      "\n",
      "1. 설계도서 등 자료 검토\n",
      "\n",
      "- 설계도면, 시방서, 현장설명서 등 검토\n",
      "\n",
      "3. 시공상세도 작성\n",
      "\n",
      "5. 전·후 공종 및 타 공정과의 연관관계 고려하여 작업계획서 작성\n",
      "\n",
      "- 관련공정(전기, 설비)과 상호 간섭부 사전협의\n",
      "\n",
      "4. 작업계획 수립\n",
      "\n",
      "- 공사기간, 자재반입계획, 인원투입계획, 장비투입계획, 시공방법 등\n",
      "\n",
      "6. 자재 반입 전 검수 실시\n"
     ]
    },
    {
     "name": "stderr",
     "output_type": "stream",
     "text": [
      "INFO:httpx:HTTP Request: POST http://localhost:8000/v1/chat/completions \"HTTP/1.1 200 OK\"\n",
      " 58%|█████▊    | 7/12 [01:01<00:50, 10.12s/it]"
     ]
    },
    {
     "name": "stdout",
     "output_type": "stream",
     "text": [
      "--------------------------------\n",
      "Processed: | 시공 중 관리 사항 |  |\n",
      "|-----------------|-----------------|\n",
      "| ① 협력업체와 구체적인 시공방향 설정 | ② 견본(Sample) 시공 |\n",
      "| ③ 본 공사용 자재 반입 | ④ 선행 공종 관리 |\n",
      "| - 자재반입 전 야적, 양중, 운반계획 수립 | - 전선 누전여부, 균열 및 누수부위 등 확인 |\n",
      "| ⑤ 공사 진행 중 시방서 및 작업계획에 의한 진행여부 확인 | ⑥ 시공완료 후 자재정리 및 창소상태 확인 |\n",
      "| - 체크리스트 작성 및 검속 |\n",
      "\n",
      "5. 작업계획 수립 시 검토사항\n",
      "\n",
      "(1) 작업계획은 작업장의 제반 여건과 설계도서(설계도면, 시방서 등)에서 정하고 있는 작업별 작업방법 및 절차에 부합하여야 한다.\n",
      "\n",
      "(2) 설치작업 전 세부 작업공종 단위별 위험성평가를 실시하여 작업계획서를 작성하고 이에 따라 작업하여야 한다.\n",
      "\n",
      "(3) 작업계획서 수립 시 다음사항을 검토하여 반영하여야 한다.\n",
      "\n",
      "   (가) 운반경로, 운반물량, 차량 적재 및 결속방법, 상하차 시 안전작업, 부재 적재장소 확보 등이 포함된 중량물의 취급작업계획, 차량계 하역운반기계작업계획\n",
      "\n",
      "   (나) 작업층으로의 양중계획 및 층 내부 소운반 계획\n",
      "\n",
      "   (다) 근로자 동원 및 작업반 구성 등 공종별 인원투입계획\n",
      "\n",
      "   (라) 종류, 규격, 성능, 사용방법, 방호장치설치계획 등의 기계·기구 사용계획\n",
      "\n",
      "   (마) 공종별 안전가시설물 사용 및 설치계획(작업발판, 안전난간, 안전통로, 덮개, 사다리 등)\n"
     ]
    },
    {
     "name": "stderr",
     "output_type": "stream",
     "text": [
      "INFO:httpx:HTTP Request: POST http://localhost:8000/v1/chat/completions \"HTTP/1.1 200 OK\"\n",
      " 67%|██████▋   | 8/12 [01:09<00:37,  9.41s/it]"
     ]
    },
    {
     "name": "stdout",
     "output_type": "stream",
     "text": [
      "--------------------------------\n",
      "Processed: 6. 경량철골 천장공사 품질 및 시공 등 전반에 관한 사항\n",
      "\n",
      "6.1 부재 운반 및 적재시 안전조치 사항\n",
      "\n",
      "(1) 건설용 리프트, 고소사다리 차, 이동식크레인 등 작업에 적정한 양중장비를 선정하여 부재의 현장 반입은 작업공정 순서에 맞게 이루어져야 하며, 불필요한 과다 반입과 소운반을 최소화시켜야 한다.\n",
      "\n",
      "(2) 양중장비 선정 시에는 차량 진입동선 분석, 자재 대기장소 선정, 공정별 반입 자재량 결정, 자재 양중량 분석, 자재별 포장단위 등을 파악하여 최적의 자재 투입이 이루어질 수 있도록 하여야 하며, 지게차·작업대차 등 양중 지원장비도 함께 계획되어야 한다.\n",
      "\n",
      "(3) 건축물 내부 부재 소운반 시에는 <그림 5>와 같이 부재별 형상에 적합한 소운반 장비를 선정하고 사용하여야 한다.\n"
     ]
    },
    {
     "name": "stderr",
     "output_type": "stream",
     "text": [
      "INFO:httpx:HTTP Request: POST http://localhost:8000/v1/chat/completions \"HTTP/1.1 200 OK\"\n",
      " 75%|███████▌  | 9/12 [01:20<00:30, 10.11s/it]"
     ]
    },
    {
     "name": "stdout",
     "output_type": "stream",
     "text": [
      "--------------------------------\n",
      "Processed: (4) 부재 적재장소는 근로자의 통행에 불편을 주지 않고 타 작업에 간섭이 되지 않는 위치를 선정하여야 한다.\n",
      "\n",
      "6.2 작업 전 확인사항\n",
      "\n",
      "(1) 당일 시공요구량 적정여부, 작업방법 및 순서, 타공정과의 간섭 여부 등 작업 계획의 적정성을 확인하여야 한다.\n",
      "\n",
      "(2) 작업방법, 새로운 기계·기구의 올바른 사용방법 등에 대한 근로자의 안전교육 실시여부 및 건강상태, 적정한 개인보호구 지급여부를 확인하여야 한다.\n",
      "\n",
      "(3) 작업장 및 통로주변 개구부 등의 안전난간, 덮개 등 방호시설 설치여부와 통로의 바닥상태 등을 확인하고, 안전표지(금지, 경고, 지시, 안내)를 부착하여야 한다.\n",
      "\n",
      "(4) 작업에 적합한 안전한 구조의 작업발판 확보 여부를 확인하여야 한다.\n",
      "\n",
      "(5) 드릴, 절단기 등 기계·기구의 방호장치 손상여부 및 부착상태 확인과 의복 절지, 터치차단기 설치 등을 확인하여야 한다.\n",
      "\n",
      "(6) 가연성·인화성물질 제거, 밀폐공간 환기, 유기용제 사용법, 소화기 사용법 및 대피요령 등 화재예방에 대하여 확인하여야 한다.\n",
      "\n",
      "6.3 경량철골천장틀 설치작업\n",
      "\n",
      "(1) 자재운반 작업시에는 근골격계 질환예방을 위한 운반물 무게의 적정성이 유지(남자 20~30㎏f, 여자 10~15㎏f이하)되어야 하며, 5㎏f이상의 자재를 들어\n"
     ]
    },
    {
     "name": "stderr",
     "output_type": "stream",
     "text": [
      "INFO:httpx:HTTP Request: POST http://localhost:8000/v1/chat/completions \"HTTP/1.1 200 OK\"\n",
      " 83%|████████▎ | 10/12 [01:33<00:22, 11.06s/it]"
     ]
    },
    {
     "name": "stdout",
     "output_type": "stream",
     "text": [
      "--------------------------------\n",
      "Processed: 서 운반하는 경우 취급물을에 대하여 작업근로자가 쉽게 알아볼 수 있도록 물품의 중량과 무게중심에 대하여 작업장 주변에 안내표지를 하여야 한다.\n",
      "\n",
      "(2) 작업발판 설치 및 사용시에는 다음사항을 준수하여야 한다.\n",
      "\n",
      "(가) 작업발판 설치 시에는 KOSHA GUIDE C-8-2010(작업발판 설치 및 사용 안전 지침)의 규정에 따른다.\n",
      "\n",
      "(나) 작업발판 설치 전 작업장소는 정리정돈하여야 한다. 자체 정리정돈 시에는 합판, 석고보드, M-BAR 철물 등은 난간 또는 가시설물에 기대어 세워두지 않아야 하며, 긴면이 바닥과 접하도록 하여 받침목을 대고 바닥에 놓혀 적재하여야 한다.\n",
      "\n",
      "(3) 앵커, 행거, 달대, M-BAR 등 경량철골천장틀 설치작업 시에는 다음사항을 준수하여야 한다.\n",
      "\n",
      "(가) 천장 멧놓기 작업 시에는 이동식비계 등을 사용하고, 사다리를 사용하여 서는 안된다.\n",
      "\n",
      "(나) 철물작업 시 손의 베임 등을 방지하기 위하여 장갑을 착용하여야 한다.\n",
      "\n",
      "(다) 경량철골 천장틀 설치 시에는 천장 높이가 높은 경우에는 비계 등을 조립하여 작업발판을 설치하여야 하며 작업발판 위에 말비계, 사다리 등을 설치하여 작업하여야 한다.\n",
      "\n",
      "(라) 전동드릴 사용시에는 드릴비트의 용도 및 드릴비트가 빠지지 않도록 작업 전 확인하여야 한다.\n",
      "\n",
      "(마) 앵커 설치를 위한 드릴작업 등 상향 작업시에는 보안경과 안전모를 항상 착용하여야 한다.\n",
      "\n",
      "(바) 절단기 사용시에는 숫돌의 최고 사용회전속도 초과 사용을 금지하고, 방호장치의 부착을 확인하여야 하며, 화재예방을 위하여 불티 비산방지설비와 소화기를 비치하여야 한다.\n"
     ]
    },
    {
     "name": "stderr",
     "output_type": "stream",
     "text": [
      "INFO:httpx:HTTP Request: POST http://localhost:8000/v1/chat/completions \"HTTP/1.1 200 OK\"\n",
      " 92%|█████████▏| 11/12 [01:44<00:10, 10.80s/it]"
     ]
    },
    {
     "name": "stdout",
     "output_type": "stream",
     "text": [
      "--------------------------------\n",
      "Processed: (사) 타카 건 사용 시에는 철물의 두께 및 바탕면의 재질을 확인하고, 눈높이에 따라 수평이 유지된 상태에서 작업하여야 한다.\n",
      "\n",
      "(아) 타카 건 등 화약을 사용하는 공구는 별도의 보관장소를 마련하고 보관하여야 한다.\n",
      "\n",
      "6.4 천장재 부착작업\n",
      "\n",
      "(1) 천장재는 상, 하부를 구분하여 설치하여야 하며, 고정 전에 공구를 잡은 상태에서 한손으로 뒤집지 않도록 하여야 한다.\n",
      "\n",
      "(2) 나사못으로 천장재 고정 시에는 대각선으로 고정 후 나머지를 고정하여야 하며, 양손을 사용하여야 한다.\n",
      "\n",
      "(3) 타카 건 사용 시에는 사람을 향하지 않도록 주지시켜야하며, 이동시에는 잠금장치를 하여야 한다.\n",
      "\n",
      "(4) 공기압 타카 건 사용 시에는 공기압축기 등 압력용기 반입 전 이상여부를 확인하여야 한다.\n",
      "\n",
      "(5) 타카 건 사용 시에는 해당 제조사에서 정하는 메뉴얼을 숙지하고 정하는 바에 따라 작업하여야 한다.\n",
      "\n",
      "(6) 타카 건 사용 시에는 낙하격발안전장치, 방아쇠안전장치, 밀착압력장치 등을 확인하고 안전장치를 임의로 해제 하여서는 아니 된다.\n",
      "\n",
      "밀착압력장치\n",
      "\n",
      "1차 방아쇠\n",
      "\n",
      "<그림 6> 타카 건 안전장치\n"
     ]
    },
    {
     "name": "stderr",
     "output_type": "stream",
     "text": [
      "INFO:httpx:HTTP Request: POST http://localhost:8000/v1/chat/completions \"HTTP/1.1 200 OK\"\n",
      "100%|██████████| 12/12 [01:54<00:00,  9.52s/it]\n"
     ]
    },
    {
     "name": "stdout",
     "output_type": "stream",
     "text": [
      "--------------------------------\n",
      "Processed: 천장재 고정 시에는 2인 1조로 작업하여야 하며, 천장재 부착작업 시에는 뒤로 물러나며 작업하지 않도록 하여야 한다.\n",
      "\n",
      "전동드릴 사용 시 손목이 비틀리지 않도록 단단히 손잡이를 잡은 상태에서 작업하여야 하며, 천장재 절단 시에는 길이를 측정하여 하부에서 절단 한 후에 천장 고정 작업을 하여야 한다.\n",
      "\n",
      "머리위에서 행하는 작업은 연속작업시간을 제한하고 적절한 휴식시간을 부여하여야 하며, 드릴 등의 기계도구는 가능한 연장도구와 연결하여 사용하는 등 근골격질환 예방을 위한 적절한 조치를 강구하여야 한다.\n",
      "\n",
      "6.5 경량철골천장틀 해체작업\n",
      "\n",
      "(1) 경량철골천장틀 해체 시에는 천장 전체에 충격을 가하는 방법으로의 작업은 금지하여야 한다.\n",
      "\n",
      "(2) 경량철골천장틀 해체 시에는 천장재 제거, 설비·조명기구의 보양, M-BAR, 행거 제거, 달대 제거 등 설치순서의 역순으로 해체하여야 한다.\n",
      "\n",
      "(3) 통로, 작업발판 상부의 해체물은 발생 즉시 처리하여야 한다.\n",
      "\n",
      "(4) 해체 시에는 안전모, 안전화, 방진마스크, 보안경 등 작업에 적합한 개인보호구를 지급하고 착용하여야 한다.\n",
      "---End---\n",
      "Processing 터널공사(침매공법) 안전보건작업지침\n"
     ]
    },
    {
     "name": "stderr",
     "output_type": "stream",
     "text": [
      "  0%|          | 0/23 [00:00<?, ?it/s]INFO:httpx:HTTP Request: POST http://localhost:8000/v1/chat/completions \"HTTP/1.1 200 OK\"\n",
      "  4%|▍         | 1/23 [00:02<00:52,  2.40s/it]"
     ]
    },
    {
     "name": "stdout",
     "output_type": "stream",
     "text": [
      "--------------------------------\n",
      "Processed: 터널공사(침매공법) 안전보건작업 지침\n",
      "\n",
      "한국산업안전보건공단\n",
      "\n",
      "2013. 10.\n"
     ]
    },
    {
     "name": "stderr",
     "output_type": "stream",
     "text": [
      "INFO:httpx:HTTP Request: POST http://localhost:8000/v1/chat/completions \"HTTP/1.1 200 OK\"\n",
      "  9%|▊         | 2/23 [00:12<02:21,  6.76s/it]"
     ]
    },
    {
     "name": "stdout",
     "output_type": "stream",
     "text": [
      "--------------------------------\n",
      "Processed: 안전보건기술지침의 개요\n",
      "\n",
      "○ 작성자 : 한국안전학회 백신원\n",
      "\n",
      "○ 제·개정 경과\n",
      "\n",
      "- 2013년 10월 건설안전분야 제정위원회 심의(제정)\n",
      "\n",
      "○ 관련규격 및 자료\n",
      "\n",
      "- 토목공사 표준일반시방서(2005, 대한토목학회)\n",
      "- 도로교 설계기준(2010, 건설교통부)\n",
      "- 터널공사 시공자료\n",
      "- 터널공사 안전점검 Check Lisk : 한국산업안전보건공단 건설안전기술자료\n",
      "\n",
      "○ 관련법규・규칙・고시 등\n",
      "\n",
      "- 산업안전보건기준에 관한 규칙 제42조~제49조(추락에 의한 위험방지)\n",
      "- 산업안전보건기준에 관한 규칙 제136조~제146조(크레인)\n",
      "- 산업안전보건기준에 관한 규칙 제350조~제368조(터널작업)\n",
      "\n",
      "○ 기술지침의 적용 및 문의\n",
      "\n",
      "이 기술지침에 대한 의견 또는 문의는 한국산업안전보건공단 홈페이지 안전보건기술지침 소관 분야별 문의처 안내를 참고하시기 바랍니다.\n",
      "\n",
      "공표일자 : 2013년 11월 6일\n",
      "제 정 자 : 한국산업안전보건공단 이사장\n"
     ]
    },
    {
     "name": "stderr",
     "output_type": "stream",
     "text": [
      "INFO:httpx:HTTP Request: POST http://localhost:8000/v1/chat/completions \"HTTP/1.1 200 OK\"\n",
      " 13%|█▎        | 3/23 [00:21<02:34,  7.72s/it]"
     ]
    },
    {
     "name": "stdout",
     "output_type": "stream",
     "text": [
      "--------------------------------\n",
      "Processed: 터널공사(침매공법) 안전보건작업지침\n",
      "\n",
      "1. 목 적\n",
      "\n",
      "이 지침은 해저터널 공법 중 비교적 얕은 해저터널이나 지하수면 아래의 하저터널 시공에 적합한 침매공법으로 시공 시 발생하는 떨어짐, 부딪힘, 감전, 익사 등의 재해를 예방하기 위하여 필요한 작업 단계별 안전사항 및 안전시설에 관한 기술적 사항 등을 정함을 목적으로 한다.\n",
      "\n",
      "2. 적용범위\n",
      "\n",
      "이 지침은 조선소의 드라이 독(Dry dock)과 같은 직사각형의 바닥이 낮은 제작장에서 함체를 제작 한 후 바닷물을 채워 물에 띄워 예인한 후 침몰시켜 터널을 완성하는 침매공법(드라이 독 및 골재 포설)에 적용한다.\n",
      "\n",
      "3. 용어의 정의\n",
      "\n",
      "(1) 이 지침에서 사용되는 용어의 정의는 다음과 같다.\n",
      "\n",
      "(가) “침매공법(Immersed method)”이라 함은 해저면에 미리 트렌치를 굴착 지반보강을 해 놓고, 육상 드라이 독에서 적당한 길이로 분할하여 제\n"
     ]
    },
    {
     "name": "stderr",
     "output_type": "stream",
     "text": [
      "INFO:httpx:HTTP Request: POST http://localhost:8000/v1/chat/completions \"HTTP/1.1 200 OK\"\n",
      " 17%|█▋        | 4/23 [00:34<03:09,  9.96s/it]"
     ]
    },
    {
     "name": "stdout",
     "output_type": "stream",
     "text": [
      "--------------------------------\n",
      "Processed: 작한 침매함을 설치지점까지 운반하여, 트렌치에 차례로 침설하여 설치한 침매함끼리 수압차를 이용하여 접합한 후에 되매우기 및 보호공으로 매설하여 완성하는 공법을 말하며, Trench method, Tube sinking method라고도 한다. 또한 이 공법으로 건설된 터널을 침매터널, Immersed tunnel, Prefabricated subaqueous tunnel 등으로 불리운다.\n",
      "\n",
      "(나) “조인트(Joint)”라 함은 침매 터널 공법의 가장 두드러진 특징 중 하나로 미리 제작된 침매함을 연결하기 위해 필요한 연결 조인트를 말한다. 조인트에 문제가 발생하면 해수 유입이라는 심각한 결과를 초래하므로 침매터널에서 조인트는 가장 중요한 부분중 하나가 된다.\n",
      "\n",
      "(다) “침설 조인트(Immersion joint)”라 함은 침설된 선행 함체와 연결되는 부분의 접합을 위한 조인트를 말하며 고무재질로 제작되고 침매함체의 양단에 설치된다. 침설중인 함체와 기 침설된 함체의 연결 위치가 파악된 후, 풀링잭 시스템으로 두 함체를 1차 접합시키며 이때 두함체 연결부 가격벽 사이에 있는 물을 배제시켜서 연결부를 대기압상태로 만들면 연결부와 침설함체 양단의 압력차에 의해 연결부에 고무로 된 “Gina”라 불리는 조인트인 침설 조인트가 2차 수압 접합된다.\n",
      "\n",
      "(라) “세그먼트 조인트(Segment joint)”라 함은 일정한 길이의 세그먼트로 콘크리트 콘크리트 침매 함체를 만들 때 필요한 시공 이음을 말한다. 세그먼트 조인트는 지수를 위해 고무지수재를 세그먼트 콘크리트 타설시 설치하며, 세그먼트 사이는 철근으로 연결되지 않으므로 어느 정도의 거동이 가능하다.\n"
     ]
    },
    {
     "name": "stderr",
     "output_type": "stream",
     "text": [
      "INFO:httpx:HTTP Request: POST http://localhost:8000/v1/chat/completions \"HTTP/1.1 200 OK\"\n",
      " 22%|██▏       | 5/23 [00:41<02:42,  9.05s/it]"
     ]
    },
    {
     "name": "stdout",
     "output_type": "stream",
     "text": [
      "--------------------------------\n",
      "Processed: 은 허용되나 지수재가 허용할 수 있는 거동이 매우 제한적이다.\n",
      "\n",
      "(마) “시공 조인트(Construction joint)”라 함은 구조적인 문제와는 관련없이 시공상 한번에 구조물을 만들 수 없기 때문에 생겨나는 이음으로 치핑, 정소후 구조물을 잇는 것을 말한다.\n",
      "\n",
      "(바) “가스켓(Gasket)”이라 함은 관의 플랜지 접합부 등을 기밀로 유지하기 위하여 접합면에 끼우는 박판 형상의 배관재료를 말하며, 정지 실(Seal)이라고도 말한다.\n",
      "\n",
      "(사) “드라이 독(Dry dock)”이라 함은 수심이 충분한 바다나 강에 접한 육안에 인공적으로 연못을 파고 주위 벽과 바닥을 돌, 시멘트콘크리트 등으로 단단하게 축조한 다음, 입구에는 철재의 독 게이트를 설치한 것을 말하는데, 입거시설의 가장 대표적인 것이라고 볼 수 있다.\n"
     ]
    },
    {
     "name": "stderr",
     "output_type": "stream",
     "text": [
      "INFO:httpx:HTTP Request: POST http://localhost:8000/v1/chat/completions \"HTTP/1.1 200 OK\"\n",
      " 26%|██▌       | 6/23 [00:51<02:34,  9.09s/it]"
     ]
    },
    {
     "name": "stdout",
     "output_type": "stream",
     "text": [
      "--------------------------------\n",
      "Processed: (2) 기타 이 지침에서 사용하는 용어의 정의는 특별한 규정이 있는 경우를 제외하고는 산업안전보건법, 같은 법 시행령, 같은 법 시행규칙 및 안전 규칙에서 정하는 바에 의한다.\n",
      "\n",
      "4. 침매공법의 특징 및 가설공법의 종류\n",
      "\n",
      "(1) 침매공법의 주요 특징은 다음과 같다.\n",
      "  (가) 균질하며 수밀한 터널 건설이 가능하다.\n",
      "  (나) 연약지반에서도 시공이 가능하다\n",
      "  (다) 단면현상 및 크기에 제약이 없다.\n",
      "  (라) 쉴드(Shield)나 케이슨(Caisson)공법처럼 압기작업이 필요하지가 않다.\n",
      "  (마) 함체 제작공사(Element)와 현장 함체침설 병행이 가능하다.\n",
      "\n",
      "(2) 침매공법의 주요 시공방식은 다음과 같다.\n",
      "  (가) 강각 방식\n",
      "    ① 강재의 쉘을 조선소나 안벽 등에서 제작\n",
      "    ② 가격벽으로 막고 바다에 진수\n",
      "    ③ 쉘 내부에 콘크리트 타설\n",
      "    ④ 침설 현장으로 함체 운송\n",
      "    ⑤ 침설\n",
      "\n",
      "  (나) 드라이독 방식\n"
     ]
    },
    {
     "name": "stderr",
     "output_type": "stream",
     "text": [
      "INFO:httpx:HTTP Request: POST http://localhost:8000/v1/chat/completions \"HTTP/1.1 200 OK\"\n",
      " 30%|███       | 7/23 [00:58<02:16,  8.56s/it]"
     ]
    },
    {
     "name": "stdout",
     "output_type": "stream",
     "text": [
      "--------------------------------\n",
      "Processed: (3) 침매공법에 적용되는 기초공법은 다음과 같이 분류할 수 있다.\n",
      "\n",
      "(가) 모래분사(Sand Jetting) 공법\n",
      "① 채움작업을 위해 함체를 임시로 지지할 수 있는 가기초가 필요(가기초의 규격은 높이 0.6~1.2미터, 폭 10~40미터 정도)\n",
      "② 바지선에 설치된 펌핑 기지와 함체 상단에 설치한 이동식 갠트리로부터 함체와 준설면 사이로 3개 파이프를 설치\n",
      "③ 모래-물 혼합물을 중앙파이프를 통하여 배출되고, 동시에 다른 파이프에서는 물을 흡입\n",
      "④ 파이프 시스템을 이동시켜 기존 모래 채움 층을 일부 잠식해 들어가면서 전체 틈을 채우고, 흡입수에 포함된 모래가 중앙파이프를 통해 배출되는 모래와 유사시 작업종료\n"
     ]
    },
    {
     "name": "stderr",
     "output_type": "stream",
     "text": [
      "INFO:httpx:HTTP Request: POST http://localhost:8000/v1/chat/completions \"HTTP/1.1 200 OK\"\n",
      " 35%|███▍      | 8/23 [01:04<01:54,  7.66s/it]"
     ]
    },
    {
     "name": "stdout",
     "output_type": "stream",
     "text": [
      "--------------------------------\n",
      "Processed: (나) 모래 포설(Sand flow) 공법\n",
      "\n",
      "① 함체 제작시 함체 하부 슬래브에 분사노즐을 설치하여 모래-물 혼합물을 주입\n",
      "② 모래는 수직 파이프를 통해 배출되어 원형 형태가 되며, 점차 배출높이가 증가하여 터널 하부 슬래브 하단까지 포설\n",
      "\n",
      "(다) 골재 포설(Screended gravel) 공법\n",
      "\n",
      "① 골재층 기초는 0.5~0.9미터 정도의 두께로 입도가 양호한 골재 사용\n",
      "② 허용오차 이내로 평탄성을 확보하여 터널 함체보다 1미터 정도 넓게\n"
     ]
    },
    {
     "name": "stderr",
     "output_type": "stream",
     "text": [
      "INFO:httpx:HTTP Request: POST http://localhost:8000/v1/chat/completions \"HTTP/1.1 200 OK\"\n",
      " 39%|███▉      | 9/23 [01:06<01:24,  6.07s/it]"
     ]
    },
    {
     "name": "stdout",
     "output_type": "stream",
     "text": [
      "--------------------------------\n",
      "Processed: 5. 침매공법 터널공사 작업절차\n",
      "\n",
      "① 갱구부 시공 ② 준설, 트렌치 굴착 및 기초 포설\n"
     ]
    },
    {
     "name": "stderr",
     "output_type": "stream",
     "text": [
      "INFO:httpx:HTTP Request: POST http://localhost:8000/v1/chat/completions \"HTTP/1.1 200 OK\"\n",
      " 43%|████▎     | 10/23 [01:10<01:07,  5.23s/it]"
     ]
    },
    {
     "name": "stdout",
     "output_type": "stream",
     "text": [
      "--------------------------------\n",
      "Processed: | ③ 연약지반 보강(SCP 및 DCM) | ④ 침매함 제작 |\n",
      "|--------------------------|----------------|\n",
      "| ⑤ 가격벽 설치           | ⑥ 주수(注水)   |\n",
      "| ⑦ 진수                   | ⑧ 예인         |\n"
     ]
    },
    {
     "name": "stderr",
     "output_type": "stream",
     "text": [
      "INFO:httpx:HTTP Request: POST http://localhost:8000/v1/chat/completions \"HTTP/1.1 200 OK\"\n",
      " 48%|████▊     | 11/23 [01:14<01:00,  5.08s/it]"
     ]
    },
    {
     "name": "stdout",
     "output_type": "stream",
     "text": [
      "--------------------------------\n",
      "Processed: | 단계 | 설명 |\n",
      "|------|------|\n",
      "| ⑨ | 침설(앵커 설치) |\n",
      "| ⑩ | 침설(Balast 물 채움) |\n",
      "| ⑪ | 접합(챔버 배수) |\n",
      "| ⑫ | 접합(기나 가스켓 및 가이드 범) |\n",
      "| ⑬ | 접합(Omega joint) |\n",
      "| ⑭ | 침매터널 뒷채움 |\n",
      "\n",
      "<그림 10> 침매터널(드라이 독) 작업절차\n"
     ]
    },
    {
     "name": "stderr",
     "output_type": "stream",
     "text": [
      "INFO:httpx:HTTP Request: POST http://localhost:8000/v1/chat/completions \"HTTP/1.1 200 OK\"\n",
      " 52%|█████▏    | 12/23 [01:29<01:27,  7.94s/it]"
     ]
    },
    {
     "name": "stdout",
     "output_type": "stream",
     "text": [
      "--------------------------------\n",
      "Processed: 5. 공통적인 안전조치사항\n",
      "\n",
      "(1) 작업전 관리감독자는 위험성 평가를 실시하여 유해 위험요소를 확인하고 작업 중에도 관리감독을 철저히 하여 재해예방을 하여야 한다.\n",
      "\n",
      "(2) 작업시작 전에 관리감독자를 지정하여 작업을 지휘하도록 하여야 한다.\n",
      "\n",
      "(3) 안전모, 안전대, 해상보호장구 등 근로자의 개인보호구를 점검하고 작업 전에 보호구의 착용방법에 대한 교육을 실시한 다음 작업 중에 착용여부 및 상태를 확인하여야 한다.\n",
      "\n",
      "(4) 관리감독자는 작업계획을 수립하고 작업시작 전 또는 작업 중 다음 사항을 준수하여야 한다.\n",
      "\n",
      "   (가) 재료, 기구의 결함 유무를 점검하고 불량품을 제거\n",
      "   (나) 올바른 작업 방법 및 순서를 근로자들에게 교육\n",
      "   (다) 작업방법을 지휘하고 이를 감시\n",
      "   (라) 근로자의 보호구 착용상태를 감시\n",
      "\n",
      "(5) 공사현장의 안전관리는 산업안전보건법 및 관련 법규를 준수하여야 하며, 특히 다음사항에 유의하여야 한다.\n",
      "\n",
      "   (가) 일반인 및 근로자의 출입통제와 절서 및 보건 유지\n",
      "   (나) 화재, 도난, 소음 등의 방지, 위험물 및 그 위치표시 기타 사고방지에 대한 단속\n",
      "   (다) 세제도의 정리 및 관리, 현장내외의 정리정돈 및 청소\n",
      "   (라) 주변도로의 정비, 교통정리, 교통안전관리 및 보호시설\n",
      "   (마) 공사 중 주변의 안전조치는 관계법규에 따라 시설하고 근로자의 안전장구, 재해 예방시설 및 유사시의 대책 등을 구비한다.\n",
      "\n",
      "(6) 공사구역 및 부근해역에 대한 규제 등에 대해서는 관계기관(관할 지방해양수산청 등)과 협의하고 공사관련자에게 규제사항 등을 주지시켜야 한다.\n",
      "\n",
      "(7) 작업구역은 간판, 울타리, 부표(등부표 등) 등을 사용하여 명확하게 표시\n"
     ]
    },
    {
     "name": "stderr",
     "output_type": "stream",
     "text": [
      "INFO:httpx:HTTP Request: POST http://localhost:8000/v1/chat/completions \"HTTP/1.1 200 OK\"\n",
      " 57%|█████▋    | 13/23 [01:42<01:34,  9.50s/it]"
     ]
    },
    {
     "name": "stdout",
     "output_type": "stream",
     "text": [
      "--------------------------------\n",
      "Processed: (8) 호우, 홍수, 태풍 등에 대한 기상예보 등에 주의하여 피해가 없도록 하여야 하며, 풍속이 초당 15미터이상, 강우량 시간당 10미리미터 이상, 시계 1킬로미터 이하의 안개일 때에는 해상작업을 중지하여야 한다.\n",
      "\n",
      "(9) 조류가 1∼4노트(Knot) 이상일 경우에는 작업을 중지하고, 2노트 이하에 사로 해상작업선의 계류방향을 지향이 적은 쪽으로 배치하여야 한다.\n",
      "\n",
      "(10) 해상 작업선의 작업한계파고는 그 크기에 따라 1.5∼3.0미터이므로 해상 작업선의 종류에 따라 사전에 작업한계파고를 확인하여야 한다.\n",
      "\n",
      "(11) 해상 작업선에는 익사사고예방을 위한 안전난간을 반드시 설치하여야 한다.\n",
      "\n",
      "(12) 해상 작업의 경우 소형선박의 이용이 많으므로 소형선박 승하선 시설을 설치하여야 한다.\n",
      "\n",
      "(13) 잠수지역에는 접근금지 시설을 설치하고 잠수설비의 잡수를 실시하기 전에 점검을 실시하여야 하며, 잡수 작업위치에는 부위를 설치하여야 한다.\n",
      "\n",
      "(14) 심해 잠수작업에는 자동 승하강 시스템과 감압용 챔버(Deck decompression chamber)를 설치하여 작업하여야 한다.\n",
      "\n",
      "(15) 안전한 해상 작업을 위하여 구명조끼, 구명로프, 구명튜브 등 구호장비를 갖추어야 하고, 기타 안전조치 사항은 KOSHA GUIDE C-2-2012 수상 바지(Barge)선 이용 건설공사 안전보건작업 지침에 따른다.\n",
      "\n",
      "6. 갱구부 안전작업\n",
      "\n",
      "(1) 작업장 및 통로의 동선을 분리하여 운영하여야 한다.\n",
      "\n",
      "(2) 낙석위험지역에는 방호벽을 설치하여야 한다.\n"
     ]
    },
    {
     "name": "stderr",
     "output_type": "stream",
     "text": [
      "INFO:httpx:HTTP Request: POST http://localhost:8000/v1/chat/completions \"HTTP/1.1 200 OK\"\n",
      " 61%|██████    | 14/23 [01:50<01:22,  9.16s/it]"
     ]
    },
    {
     "name": "stdout",
     "output_type": "stream",
     "text": [
      "--------------------------------\n",
      "Processed: (3) 성토부에는 비산 방지망을 설치하여야 한다.\n",
      "\n",
      "(4) 추락의 위험이 있는 곳에는 안전난간을 설치하여야 한다.\n",
      "\n",
      "(5) 낙석 위험지역은 계측을 통해 변형 유무를 확인하여야 하며, 낙석방지망 등을 설치하여야 한다.\n",
      "\n",
      "(6) 근로자들의 철근작업을 위한 통로 및 작업발판이 설치되어 있어야 한다.\n",
      "\n",
      "(7) 노출된 철근에 씌워지 않도록 보호캡을 씌워야 한다.\n",
      "\n",
      "(8) 높은 곳에서 철근을 조립할 경우에는 반드시 안전대를 착용하고 안전결 이시설에 체결한 후 작업하여야 한다.\n",
      "\n",
      "(9) 이동식 크레인은 충분한 지지력이 확보된 견고한 지반위에 설치하고, 작 업 시에는 신호수를 배치, 작업반경내 근로자의 출입금지를 하여야 한다.\n",
      "\n",
      "7. 준설 및 트렌치 굴착 작업\n",
      "\n",
      "(1) 공사 전 공사구역의 기상, 지형, 수심, 토질, 투기장 등의 조건을 충분히\n"
     ]
    },
    {
     "name": "stderr",
     "output_type": "stream",
     "text": [
      "INFO:httpx:HTTP Request: POST http://localhost:8000/v1/chat/completions \"HTTP/1.1 200 OK\"\n",
      " 65%|██████▌   | 15/23 [02:03<01:21, 10.19s/it]"
     ]
    },
    {
     "name": "stdout",
     "output_type": "stream",
     "text": [
      "--------------------------------\n",
      "Processed: 검토하여야 한다.\n",
      "\n",
      "(2) 공사시행 전 사전측량 시에는 선단투입 가능수심, 간조와 만조시 준설 가능 수심 등을 검토하여야 한다.\n",
      "\n",
      "(3) 작업선의 선정은 해저 토질, 토양, 수심, 투기조건, 해상기상, 공사기간 등 사전여건을 고려하여 해당 현장에 가장 적절한 선종을 선택하여야 한다.\n",
      "\n",
      "(4) 준설선단은 준설깊이, 폭 및 토질과 배송거리를 검토하여 능률적이고 효율적인 작업이 되도록 구성하여야 한다.\n",
      "\n",
      "(5) 토질조건, 준설방법 등에 따라 준설공사 후 사면은 규정된 적정한 경사를 유지해야 하며, 과장 및 조류가 심한 위치의 준설 사면은 규정된 적정 경사보다 완경사로 하여야 한다.\n",
      "\n",
      "(6) 준설작업은 환경영향평가 기준을 준수하고, 준설 중 오탁조사를 실시하여 준설해역의 환경기준을 지켜야 한다. 필요한 경우 준설구역 주변에 감시점을 설치하여 상시 수질감시를 실시하고 오탁방지막, 오일휀스 등 오탁방지 대책을 강구하여야 한다.\n",
      "\n",
      "(7) 준설공사 시 안전을 확보하기 위하여 작업 전에 안전관리 체계수립 및 중점관리항목 선정, 종사자 교육 등을 실시하여야 한다.\n",
      "\n",
      "(8) 공사관련 장비는 정기적으로 점검하여 항상 최상의 상태를 유지하여야 하며 특히 마모가 심한 부위나 손상 시 안전관리 상 문제점 발생이 예상되는 부위 등은 수시로 점검하여야 한다.\n",
      "\n",
      "(9) 모든 준설토와 굴착토는 지정된 투기장으로 반출 투기하여야 하며 운반 도중에 누출 등이 없도록 주의하여야 한다.\n"
     ]
    },
    {
     "name": "stderr",
     "output_type": "stream",
     "text": [
      "INFO:httpx:HTTP Request: POST http://localhost:8000/v1/chat/completions \"HTTP/1.1 200 OK\"\n",
      " 70%|██████▉   | 16/23 [02:15<01:15, 10.75s/it]"
     ]
    },
    {
     "name": "stdout",
     "output_type": "stream",
     "text": [
      "--------------------------------\n",
      "Processed: (10) 표사에 의한 매몰이 심한 해역에서는 표사 이동방향, 계절별 표사 이동 양상 등을 조사하여야 한다.\n",
      "\n",
      "(11) 바람은 준비 및 굴착 공사의 안전성에 영향을 주므로 해당지역의 풍향과 풍속을 파악하여야 한다.\n",
      "\n",
      "(12) 하계의 경우 강수시 유사로 인해 준비구역이 매몰될 수 있고 안개 등의 영향으로 조업차질이 예상될 수도 있으므로 항상 일기예보를 청취하여 미처는 영향을 최소화하여야 한다.\n",
      "\n",
      "(13) 해저에 폐선박이 매몰되거나 기뢰, 폭탄 등의 위험물이 존재할 가능성이 많아 상세한 조사가 필요할 것으로 판단되는 해역에서는 공사감독자와 협의하여 사전에 자기탐사나 잠수탐사 등에 의해 확인하고 장애물이 발견될 경우 적절한 안전조치를 취한 후 제거하여야 한다.\n",
      "\n",
      "8. 연약지반보강공법\n",
      "\n",
      "(1) 케이싱 압입 전 신호체계를 확립하여야 하며, 이 신호에 따라 케이싱 압입을 실행하여야 한다.\n",
      "\n",
      "(2) 추락의 위험이 있는 곳에는 반드시 안전난간을 설치하여야 한다.\n",
      "\n",
      "(3) 고소작업 시에는 안전대를 착용하고 작업을 하여야 한다.\n",
      "\n",
      "(4) 태풍 및 폭풍이 발생하여 작업이 중단되면 비상시 업무분장에 따라 신속하게 대처하여야 한다.\n",
      "\n",
      "(5) 석회계(생석회 등) 첨가재 사용 시 발열 등에 의한 근로자의 안전을 확보하여야 한다.\n",
      "\n",
      "(6) 슬라임의 운반처리는 폐기물 관리법 등 환경관련 법령에 따라 적절하게\n"
     ]
    },
    {
     "name": "stderr",
     "output_type": "stream",
     "text": [
      "INFO:httpx:HTTP Request: POST http://localhost:8000/v1/chat/completions \"HTTP/1.1 200 OK\"\n",
      " 74%|███████▍  | 17/23 [02:27<01:06, 11.09s/it]"
     ]
    },
    {
     "name": "stdout",
     "output_type": "stream",
     "text": [
      "--------------------------------\n",
      "Processed: (8) 다음의 경우에는 수정 및 보완대책을 수립하여 이를 감독자에게 보고하고 승인을 받아 시행하여야 한다.\n",
      "   (가) 설계도서에서 정한 개량강도에 못 미치는 경우\n",
      "   (나) 시공이 중단되어 개량작업이 연속적으로 이루어지지 않은 경우\n",
      "\n",
      "(9) 시공중 공기의 압력, 유량, 교반날개의 회전수, 전류치, 관입인발속도 및 심도개량재의 토출량을 계기에 의해 확인하여야 한다.\n",
      "\n",
      "(10) 경화재는 가능한 한 시건장치가 된 창고에 보관하여야 하며, 현장에서의 경화재의 보관 시 비산, 누출, 동결 등의 예방에 주의하여야 한다.\n",
      "\n",
      "(11) 연약지반 보강장비는 일기에보에 의한 피향계획서를 작성하고 이를 준수하여야 하며, 특히 바지선위의 연약지반 보강장비 등은 과량에 의한 전도가 발생하지 않도록 건고하게 막켜서켜야 한다.\n",
      "\n",
      "9. 침매함 제작\n",
      "\n",
      "9.1 드라이독\n",
      "\n",
      "(1) 드라이독의 위치는 주변수역에 소정의 수심이 확보되어 항로 등에의 장애가 적고 현장에 가까운 곳으로 하여야 한다.\n",
      "\n",
      "(2) 드라이독에는 물의 침투를 방지하기 위해 지하수위를 저하시켜야 하며 사면은 법면방호 등을 하여야 한다.\n",
      "\n",
      "(3) 드라이독의 기초는 함체중량에 의한 부등침하가 발생되지 않도록 충분한 지내력이 확보되어야 한다.\n",
      "\n",
      "(4) 침매함 저면 부분은 주수 시 서서히 부상될 수 있는 적당한 기초로 하여야 한다.\n"
     ]
    },
    {
     "name": "stderr",
     "output_type": "stream",
     "text": [
      "INFO:httpx:HTTP Request: POST http://localhost:8000/v1/chat/completions \"HTTP/1.1 200 OK\"\n",
      " 78%|███████▊  | 18/23 [02:38<00:56, 11.25s/it]"
     ]
    },
    {
     "name": "stdout",
     "output_type": "stream",
     "text": [
      "--------------------------------\n",
      "Processed: 9.2 이동식 거푸집 및 동바리\n",
      "\n",
      "(1) 침매함 제작을 위한 이동식 거푸집 및 동바리는 사전에 관련기술자의 구조검토를 통해 안전한 구조물 설계가 되도록 하여야 한다.\n",
      "\n",
      "(2) 이동식 거푸집 및 동바리에는 근로자의 승강설비를 설치하여야 하며, 상부작업대에는 안전난간을 설치하여야 한다.\n",
      "\n",
      "9.3 철근배근 및 콘크리트 타설\n",
      "\n",
      "(1) 철근배근 시 규격에 맞는 가공된 철근을 배근도에 의거하여 배근하여야 하며, 이때 철근의 이음은 커플러(Coupler)로 연결하여야 한다.\n",
      "\n",
      "(2) 철근에 찔리거나 손상에 주의하고 노출된 철근에는 보호캡을 씌우고 위험표시를 하여야 한다.\n",
      "\n",
      "(2) 콘크리트 타설작업은 시공계획서의 타설방법 및 순서에 따라 하여야 한다.\n",
      "\n",
      "(3) 1회 콘크리트 타설량, 적절한 이음의 위치, 최적의 타설 사이클 타임 등을 고려하여 콘크리트 타설 블록분할을 결정하여야 한다.\n",
      "\n",
      "(4) 축방향의 타설블록 길이는 온도 및 건조수축에 의한 균열이 발생하지 않는 적정의 길이로 하여야 한다.\n",
      "\n",
      "(5) 진동다짐기의 감전방지를 위해 접지 및 누전차단기가 설치된 분전반의 전원을 사용하고, 작업 전선의 파복손상 유무를 확인하며, 사용 후에는 분리해서 깨끗하게 청소하여야 한다.\n"
     ]
    },
    {
     "name": "stderr",
     "output_type": "stream",
     "text": [
      "INFO:httpx:HTTP Request: POST http://localhost:8000/v1/chat/completions \"HTTP/1.1 200 OK\"\n",
      " 83%|████████▎ | 19/23 [02:47<00:41, 10.45s/it]"
     ]
    },
    {
     "name": "stdout",
     "output_type": "stream",
     "text": [
      "--------------------------------\n",
      "Processed: 10. 진수\n",
      "\n",
      "(1) 양수기 가동시 감전사고의 염려가 많으므로 양수기마다 과전류차단기 및 누전차단기 등의 2중 안전장치를 설치하여야 한다.\n",
      "\n",
      "(2) 충수 작업간 양수기의 양정고를 낮추기 위하여 적절한 크레인 운용의 관리가 필요하다.\n",
      "\n",
      "(3) 단선에 의한 감전사고의 염려가 없도록 확인을 철저히 하여 문제 발생 시 물기를 완전히 제거하고 그리스 칠을 1차로 한 후에 절연용 고무테이프를 감고 2차적으로 비닐테이프를 감아 방수처리를 철저히 하여야 한다.\n",
      "\n",
      "(4) 침매함이 완전히 수심에 잠길 때까지 근로자의 접근을 금지하여야 한다.\n",
      "\n",
      "11. 예인작업\n",
      "\n",
      "(1) 함체의 예인은 경험이 많은 도선사가 하여야 한다.\n",
      "\n",
      "(2) 예인에 사용되는 로프 규격이 충분하고 마모상태를 수시로 확인하여 예인 시 파손되지 않도록 주의하며 결속부분이 벗겨지지 않도록 연결을 철\n"
     ]
    },
    {
     "name": "stderr",
     "output_type": "stream",
     "text": [
      "INFO:httpx:HTTP Request: POST http://localhost:8000/v1/chat/completions \"HTTP/1.1 200 OK\"\n",
      " 87%|████████▋ | 20/23 [02:55<00:29,  9.74s/it]"
     ]
    },
    {
     "name": "stdout",
     "output_type": "stream",
     "text": [
      "--------------------------------\n",
      "Processed: 저희 하여야 한다.\n",
      "\n",
      "(3) 예인 중 침매함이 예인 방향과 대각선이 되지 않도록 주의하며 정조시 예인하는 것을 원칙으로 하며 부득이한 경우 충분한 검토 후 작업할 수 있도록 하여야 한다.\n",
      "\n",
      "(4) 예인 속도의 완충으로 인한 유동이 없도록 예인간 속도를 일정하게 유지할 수 있도록 하여야 한다.\n",
      "\n",
      "(5) 예인선의 조타수와 예인로프 취급자와의 신호연락방법을 정하여야 한다.\n",
      "\n",
      "(6) 침매함과 예인선과의 예인간격을 적절히 유지하여야 한다.\n",
      "\n",
      "12. 침매함 침설\n",
      "\n",
      "(1) 침매함은 DGPS(Differential global positionin system), RTK(Real time kinematic) 데이터 등을 이용하여 정확한 위치에 침설하여야 하며, 침설 후 실제의 정렬선에서 규정된 오차를 벗어난 경우에는 재 정렬을 하여야 한다.\n",
      "\n",
      "(2) 침설된 침매함의 정렬을 조정하기 위해 유압잭을 침설조인트 외벽에 설\n"
     ]
    },
    {
     "name": "stderr",
     "output_type": "stream",
     "text": [
      "INFO:httpx:HTTP Request: POST http://localhost:8000/v1/chat/completions \"HTTP/1.1 200 OK\"\n",
      " 91%|█████████▏| 21/23 [03:03<00:18,  9.23s/it]"
     ]
    },
    {
     "name": "stdout",
     "output_type": "stream",
     "text": [
      "--------------------------------\n",
      "Processed: 치하여야 하며, 기초 자갈층과의 마찰을 줄이기 위해 침설장비인 폰툰 (Pontoon)과 연결된 와이어는 그대로 둔 상태에서 실시하여야 한다.\n",
      "\n",
      "〈그림 14〉 침매함 침설\n",
      "\n",
      "13. 침매함 접합\n",
      "\n",
      "(1) 침매함을 연결하는 침설 조인트의 요구성능은 구조가 간단해야 하고, 침설 후 방수성이 우수하여야 한다.\n",
      "\n",
      "(2) 침설 조인트는 특별히 부드러운 첨두부를 갖는 기나 가스켓(GINA Gasket)을 사용하여야 한다.\n",
      "\n",
      "(3) 침매함 접합시 침설 조인트에 문제가 발생하여 누수가 발생하는 경우에 는 기나 가스켓을 교체한 후 재침설하여 시공하여야 한다.\n",
      "\n",
      "14. 뒷채움 및 피복석 포설\n",
      "\n",
      "(1) 뒷채움재 및 피복석은 지진시에 액상화현상이 일어나지 않는 재료이어야 하며, 투입 때에도 해수오탁이 적은 재료이어야 한다.\n"
     ]
    },
    {
     "name": "stderr",
     "output_type": "stream",
     "text": [
      "INFO:httpx:HTTP Request: POST http://localhost:8000/v1/chat/completions \"HTTP/1.1 200 OK\"\n",
      " 96%|█████████▌| 22/23 [03:16<00:10, 10.33s/it]"
     ]
    },
    {
     "name": "stdout",
     "output_type": "stream",
     "text": [
      "--------------------------------\n",
      "Processed: (2) 뒷채움재 및 피복석은 선박이 정박할 때 맞을 내리거나 침선이 될 때 방호되어야 하고 해류나 지진의 영향에도 침매함을 안전하게 유지할 수 있는 역할을 하여야 한다.\n",
      "\n",
      "15. 침매터널 내부작업\n",
      "\n",
      "(1) 내부작업 전 다음사항을 점검하여야 한다.\n",
      "   (가) 시간단위 산소농도 측정 여부\n",
      "   (나) 구명용 산소호흡기 및 방진마스크 비치 여부\n",
      "\n",
      "(2) 내부작업에서 전동공구 사용 시 다음 사항을 사용 전 점검하여야 한다.\n",
      "   (가) 전선 피복상태\n",
      "   (나) 누전차단기 작동상태\n",
      "   (다) 접지 실시 여부\n",
      "   (라) 전동공구에 사용필증이 붙어 있는지 여부\n",
      "\n",
      "(3) 내부작업 시 다음사항을 점검하여야 한다.\n",
      "   (가) 고소 작업대 작업시 경광등이 설치되었는지 여부\n",
      "   (나) 고소 작업대 작업자가 안전대를 붙어있니 작업 여부\n",
      "   (다) 고소 작업대에서 인장슬링 밴드 사용 여부\n",
      "   (라) 그라인더 사용 시 불티방지포와 불티제거막을 설치하였는지 여부\n",
      "\n",
      "16. 해상작업\n",
      "\n",
      "(1) 해상작업선, 바지선 및 운반선 위에서의 구조 절차 등이 포함된 비상조치 계획을 수립하여 관계근로자에게 주지시켜야 한다.\n",
      "\n",
      "(2) 근로자가 해상 작업 중 해상으로 떨어졌을 때 구조할 수 있는 비상조치 훈련을 정기적으로 실시하여야 한다.\n",
      "\n",
      "(3) 지반보강(SCP, DCM) 및 트렌치 굴착, 침매함의 침설, 기초 및 피복석 타설을 위한 해상 작업선, 바지선 및 운반선 등은 작업 전 다음사항을\n"
     ]
    },
    {
     "name": "stderr",
     "output_type": "stream",
     "text": [
      "INFO:httpx:HTTP Request: POST http://localhost:8000/v1/chat/completions \"HTTP/1.1 200 OK\"\n",
      "100%|██████████| 23/23 [03:29<00:00,  9.09s/it]\n"
     ]
    },
    {
     "name": "stdout",
     "output_type": "stream",
     "text": [
      "--------------------------------\n",
      "Processed: 점검하고 확인하여야 한다.\n",
      "\n",
      "(가) 선체외관, 갑판, 수밀격벽 등의 주요부재와 만재 홀수선 하부 등 균열 및 파손 여부\n",
      "(나) 적정한 방현재(Fender) 등의 정위치 부착 여부\n",
      "(다) 계류 관련 장치의 성능\n",
      "(라) 해치커버, 맨홀커버 등 수밀상태\n",
      "(마) 만재 홀수선 및 적재량의 표시\n",
      "(바) 선체 내부에 생긴 오수 등의 배출 여부\n",
      "(사) 개구부, 선외 배출부, 해수 흡입밸브 및 이들의 폐쇄장치의 작동 상태\n",
      "(아) 계류용 섬유로프 또는 와이어로프의 준비 상태\n",
      "(자) 탑승자를 위한 구명장비의 준비 상태\n",
      "\n",
      "(4) 침매공법에 사용되는 해상 작업선, 바지선 및 운반선 등은 공사 중 기상 악화로 인해 넘어지거나 운항하는 타선박 및 부속선과의 부딪힘을 방지하기 위하여 다음사항을 점검하고 확인하여야 한다.\n",
      "\n",
      "(가) 이동항로의 안전성 확인\n",
      "(나) 적재된 장비의 고정 결속 상태\n",
      "(다) 예인선 등과의 긴결한 결속 여부\n",
      "(라) 조난신호, 자동발사기, 불꽃 등 비상연락 구비 여부\n",
      "(마) 법정표지 및 등화계획\n",
      "(바) 밴커 등 수중지지물 표시 상태\n",
      "(사) 선박의 적재 및 인양능력\n",
      "\n",
      "(5) 해상작업선, 바지선 및 운반선 위에는 화재 시 사용할 수 있는 소화기를 비치하여야 하며, 화재발생 시 비상조치훈련을 정기적으로 실시하여야 한다.\n",
      "\n",
      "(6) 해상작업선의 공사구역에는 등부표를 설치하고, 작업반경내 출입을 금지하여야 한다.\n",
      "---End---\n",
      "Processing 우물통기초 안전보건 작업지침\n"
     ]
    },
    {
     "name": "stderr",
     "output_type": "stream",
     "text": [
      "  0%|          | 0/21 [00:00<?, ?it/s]INFO:httpx:HTTP Request: POST http://localhost:8000/v1/chat/completions \"HTTP/1.1 200 OK\"\n",
      "  5%|▍         | 1/21 [00:02<00:45,  2.30s/it]"
     ]
    },
    {
     "name": "stdout",
     "output_type": "stream",
     "text": [
      "--------------------------------\n",
      "Processed: 우물통기초의 안전보건작업지침\n",
      "\n",
      "2013. 10.\n",
      "\n",
      "한국산업안전보건공단\n"
     ]
    },
    {
     "name": "stderr",
     "output_type": "stream",
     "text": [
      "INFO:httpx:HTTP Request: POST http://localhost:8000/v1/chat/completions \"HTTP/1.1 200 OK\"\n",
      " 10%|▉         | 2/21 [00:11<02:03,  6.50s/it]"
     ]
    },
    {
     "name": "stdout",
     "output_type": "stream",
     "text": [
      "--------------------------------\n",
      "Processed: 안전보건기술지침의 개요\n",
      "\n",
      "○ 작성자 : 한국안전학회 이명구\n",
      "\n",
      "○ 제·개정 경과\n",
      "\n",
      "- 2013년 10월 건설안전분야 제정위원회 심의(제정)\n",
      "\n",
      "○ 관련규격 및 자료\n",
      "\n",
      "- 토목공사 표준일반시방서(2005, 대한토목학회)\n",
      "- KOSHA GUIDE C-39-2011 굴착공사 안전작업 지침\n",
      "- KOSHA GUIDE C-2-2012 수상 바지선 이용 건설공사 안전보건작업 지침\n",
      "- KOSHA GUIDE C-46-2012 발파공사 안전보건작업 지침\n",
      "- KOSHA GUIDE C-48-2012 건설기계 안전보건작업 지침\n",
      "\n",
      "○ 관련법규·규칙·고시 등\n",
      "\n",
      "- 「산업안전기준에 관한 규칙」 제2편, 제4장, 제2절, 제6관 잠함 내 작업 규정\n",
      "\n",
      "○ 기술지침의 적용 및 문의\n",
      "\n",
      "이 기술지침에 대한 의견 또는 문의는 한국산업안전보건공단 홈 페이지 안전보건기술지침 소관 분야별 문의처 안내를 참고하시기 바랍니다.\n",
      "\n",
      "공표일자 : 2013년 11월 6일\n",
      "제 정 자 : 한국산업안전보건공단 이사장\n"
     ]
    },
    {
     "name": "stderr",
     "output_type": "stream",
     "text": [
      "INFO:httpx:HTTP Request: POST http://localhost:8000/v1/chat/completions \"HTTP/1.1 200 OK\"\n",
      " 14%|█▍        | 3/21 [00:25<02:59,  9.99s/it]"
     ]
    },
    {
     "name": "stdout",
     "output_type": "stream",
     "text": [
      "--------------------------------\n",
      "Processed: 우물통기초 안전보건 작업지침\n",
      "\n",
      "1. 목 적\n",
      "\n",
      "이 지침은 「산업안전보건기준에 관한 규칙」(이하 “안전보건규칙”이라 한다) 제2편 안전기준, 제4장 건설작업 등에 의한 위험 예방, 제2절 굴착작업 등의 위험방지, 제6관 잠함 내 작업 규정에 따라 우물통기초 작업 과정에서의 안전보건작업 지침을 정함을 목적으로 한다.\n",
      "\n",
      "2. 적용범위\n",
      "\n",
      "이 지침은 건설공사 현장의 우물통기초(거치식 및 침강식) 작업에 적용한다.\n",
      "\n",
      "3. 용어의 정의\n",
      "\n",
      "(1) 이 지침에서 사용되는 용어의 뜻은 다음과 같다.\n",
      "\n",
      "(가) “우물통기초(well foundation)”라 함은 해상 또는 해상교량 하부공 기초 공법으로 상부공으로부터 전달되는 하중을 소요의 지지력을 갖는 지층에 전달하는 역할을 하는 깊은 기초를 말한다.\n",
      "\n",
      "(나) “거치식 우물통기초”라 함은 육상에서 콘크리트 우물통을 제작한 후 대차, 인양 크레인 등으로 수상 운반하여 수중에 미리 필요 심도까지 터파기 후 정리된 기초지반에 우물통을 거치하고 내부를 콘크리트, 모래 등으로 충진 하고 상부에 구조물을 구축하는 공법으로 침매식 공법이라고도 불린다.\n",
      "\n",
      "(다) “침강식 우물통기초”라 함은 하상 또는 해상 현장에서 콘크리트 우물통 구체를 타설하여 우물통의 자중 및 재하 하중에 의해 내부의 토사를 굴착하여 침하시킨 후 내부를 콘크리트, 모래 등으로 충진 하고 상부에 구조물을 구축하는 공법으로 침설식 공법이라고도 부른다.\n",
      "\n",
      "(라) “조금구(guide frame)”라 함은 우물통의 상부 선단과 연결하여 인양 및 거치 작업 시 비틀림, 기울임을 방지하고 정해진 방향으로 이동하기 위\n"
     ]
    },
    {
     "name": "stderr",
     "output_type": "stream",
     "text": [
      "INFO:httpx:HTTP Request: POST http://localhost:8000/v1/chat/completions \"HTTP/1.1 200 OK\"\n",
      " 19%|█▉        | 4/21 [00:38<03:08, 11.10s/it]"
     ]
    },
    {
     "name": "stdout",
     "output_type": "stream",
     "text": [
      "--------------------------------\n",
      "Processed: 해 제작된 강재 구조물을 말한다.\n",
      "\n",
      "(마) “날끝(shoe)”이라 함은 침강식 우물통 기초에서 원통 또는 각형 강재 구조물의 단부를 왜키모양으로 제작 및 보강하여 자갈층 및 암반지반에서 도 하단이 손상되지 않고 침하를 도울 수 있는 부분을 말한다.\n",
      "\n",
      "(바) “구체”라 함은 침강식 우물통 기초에서 우물통 전장을 한꺼번에 만들어 침하시키는 것이 아니고 일반적으로 높이 2-3 m 정도로 구분하여 제작하는데 이를 1 구체라 부르며, 각 구체별 제작 및 침설 등을 반복하여 소정의 설치심도까지 시공하게 된다.\n",
      "\n",
      "(사) “레이턴스(laitance)”라 함은 콘크리트 양생 시 재료가 분리되어 비중의 차이대로 물은 위로 모래, 자갈은 밑으로 내려 앉아 물이 증발한 후 표면에 형성되는 흰빛의 앎은 막을 말하며, 이 성분의 대부분은 시멘트의 미립분이지만, 부착력이 약하고 수밀성도 나쁘기 때문에 콘크리트를 그 위에 씌어 이이나갈 때는 레이턴스를 제거해야 한다.\n",
      "\n",
      "(아) “트레미(tremie)”라 함은 직경 20∼30 센티미터, 길이 3∼5 미터의 관을 이용하여 수중에 콘크리트를 타설하는 장비를 말하며, 면적이 좁지만 연직방향으로 긴 구조물에 콘크리트를 타설하는데 적합하다.\n",
      "\n",
      "(2) 기타 이 지침에서 사용하는 용어의 정의는 특별한 규정이 있는 경우를 제외하고는 산업안전보건법, 같은법 시행령, 같은법 시행규칙, 산업안전 보건기준에 관한 규칙에서 정하는 바에 의한다.\n"
     ]
    },
    {
     "name": "stderr",
     "output_type": "stream",
     "text": [
      "INFO:httpx:HTTP Request: POST http://localhost:8000/v1/chat/completions \"HTTP/1.1 200 OK\"\n",
      " 24%|██▍       | 5/21 [00:43<02:21,  8.87s/it]"
     ]
    },
    {
     "name": "stdout",
     "output_type": "stream",
     "text": [
      "--------------------------------\n",
      "Processed: 4. 우물통 기초 공법의 시공 순서\n",
      "\n",
      "(1) 거치식 우물통기초공법의 시공순서는 다음과 같다.\n",
      "\n",
      "1. 지상 우물통 제작\n",
      "2. 우물통 기초 터파기 및 저면 고르기\n",
      "3. 우물통 수상 운반\n",
      "4. 우물통 수중 거치\n",
      "5. 피복석 및 사석 투하\n",
      "6. 속채움 및 Cap 콘크리트 타설\n",
      "\n",
      "<그림 1> 거치식 우물통기초공법 시공 순서도\n"
     ]
    },
    {
     "name": "stderr",
     "output_type": "stream",
     "text": [
      "INFO:httpx:HTTP Request: POST http://localhost:8000/v1/chat/completions \"HTTP/1.1 200 OK\"\n",
      " 29%|██▊       | 6/21 [00:48<01:51,  7.44s/it]"
     ]
    },
    {
     "name": "stdout",
     "output_type": "stream",
     "text": [
      "--------------------------------\n",
      "Processed: (2) 침강식 우물통기초공법의 시공순서는 다음과 같다.\n",
      "\n",
      "1. 날끝 제작 (지상작업)\n",
      "2. 날끝 수상 운반 및 거치\n",
      "3. 구체 구축\n",
      "4. 굴착 및 발파 (점토, 모래, 연암, 경암)\n",
      "5. 침하 및 지지력 확인\n",
      "6. 속채움 및 Cap 콘크리트 타설\n",
      "\n",
      "<그림 2> 침강식 우물통기초공법 시공 순서도\n"
     ]
    },
    {
     "name": "stderr",
     "output_type": "stream",
     "text": [
      "INFO:httpx:HTTP Request: POST http://localhost:8000/v1/chat/completions \"HTTP/1.1 200 OK\"\n",
      " 33%|███▎      | 7/21 [01:02<02:14,  9.58s/it]"
     ]
    },
    {
     "name": "stdout",
     "output_type": "stream",
     "text": [
      "--------------------------------\n",
      "Processed: 5. 우물통기초 시공 전 안전조치 사항\n",
      "\n",
      "(1) 근로자의 위험을 방지하기 위하여 사업주는 사전에 다음의 내용에 관한 작업계획서의 작성 및 작업지휘자를 지정하여야 하며 해당 근로자에게 안전한 작업방법 및 순서를 교육하여야 한다.\n",
      "   (가) 차량계 하역운반기계 작업\n",
      "   (나) 굴착면의 높이가 2미터 이상 지반의 굴착작업\n",
      "   (다) 중량물의 취급작업\n",
      "   (라) 우물통기초의 설치작업\n",
      "\n",
      "(2) 단위공종별 작업을 시작하기 전에는 위험성평가를 실시하고 세부 단위작업별 위험할음가능한 위험범위 이내가 되도록 작업방법을 개선한 후가 아니라면 작업하지 않도록 하여야 한다.\n",
      "\n",
      "(3) 공사 착수 전에 본 공사 시행으로 인한 인접 제반 시설물 및 장상물에 피해를 보지 않도록 안전대책을 수립함은 물론 이에 대한 현황을 면밀히 조사, 기록, 표시하여야 하며, 인접 제반 시설물의 관계기관에게 확인시킨다.\n",
      "\n",
      "(4) 시공 전 설계도서와 현장조건이 일치하는지의 여부를 확인하고 다음의 사항들을 사전에 점검하여 안전한 시공이 되도록 하여야 한다.\n",
      "   (가) 공사용지 사용 확보\n",
      "   (나) 공사용 자재 운반, 적치\n",
      "   (다) 지질층 시추조사표 검토\n",
      "   (라) 시공기계·기구 선정 등\n",
      "\n",
      "(5) 관리감독자는 우물통기초공법을 시공함에 있어 필요로 한 안전한 작업방법 및 순서에 대하여 교육을 받지 않은 근로자는 작업에 투입시키지 않아야 하며, 작업 중 근로자의 떨어짐 또는 끼임 등의 위험이 있다고 판단되는 때에는 작업을 중지하여야 한다.\n",
      "\n",
      "(6) 우물통 거치 전에 관계기관과 협조하여 항로에 지장이 없도록 하며, 선박사고에 대비하여 관계기관과 비상연락망을 구축하여야 한다.\n"
     ]
    },
    {
     "name": "stderr",
     "output_type": "stream",
     "text": [
      "INFO:httpx:HTTP Request: POST http://localhost:8000/v1/chat/completions \"HTTP/1.1 200 OK\"\n",
      " 38%|███▊      | 8/21 [01:17<02:26, 11.30s/it]"
     ]
    },
    {
     "name": "stdout",
     "output_type": "stream",
     "text": [
      "--------------------------------\n",
      "Processed: 6. 우물통기초(거치식, 침강식) 공통 안전조치 사항\n",
      "\n",
      "(1) 작업 중에는 공사장 내부에 외부인의 출입을 통제하여 안전사고를 미연에 예방하고, 현장상황에 적합한 안전시설을 설치해야 한다.\n",
      "\n",
      "(2) 수시로 일기예보를 확인하여 파고가 높거나 풍속이 클 것으로 예상되는 경우에는 작업을 시작하지 아니 하여야 하며, 작업 중 예상하지 못한 기상악화가 있는 경우에는 작업을 중지하여야 한다.\n",
      "\n",
      "(3) 예인선의 흘수(수면으로부터 선체의 가장 깊은 곳까지의 연직 거리) 및 경심(기울어져 있는 선박의 회전 중심) 위치를 수시로 점검하여 수상운송 중의 안전에 만전을 기한다.\n",
      "\n",
      "(4) 수상 주항로 이동 시에는 흘수로선으로 선박 통제를 철저히 하고 운항로에는 유도표시를 설치하여 수상에서의 안전사고를 방지하여야 한다.\n",
      "\n",
      "(5) 우물통기초 공사 시 다음의 사항을 검토하여 떨어짐 및 익사 관련 재해를 방지하여야 한다.\n",
      "\n",
      "(가) 바지선 상의 작업 중 떨어짐 및 익사 등의 재해를 방지하기 위하여 안전난간의 설치 및 구명조끼를 비치하고 근로자의 투입현황판을 게시하여 두어야 한다.\n",
      "\n",
      "(나) 관리감독자는 정박선이 심하게 움직일 때 선체난간, 연결로프 주위 등에서의 근로자를 관리 통제하여야 한다.\n",
      "\n",
      "(다) 바지선에 장비를 싣고 내릴 때는 밀물과 썰물을 고려하여 안전한 작업이 이루어질 수 있도록 하여야 한다.\n",
      "\n",
      "(라) 우물통 내부의 급착스런 침수로 인한 근로자의 익사 등의 재해를 방지하기 위하여 우물통 내부의 누수 여부를 항상 조사하고 누수발생시 즉시 작업을 중단하고 급결 그라우팅 주입 등의 차수조치를 하여야 한다.\n",
      "\n",
      "(마) 우물통 내부에는 침투수를 양수할 수 있도록 배수펌프 등의 양수설비를 갖추어두어야 하며, 항상 양호한 상태로 유지관리하여야 한다.\n"
     ]
    },
    {
     "name": "stderr",
     "output_type": "stream",
     "text": [
      "INFO:httpx:HTTP Request: POST http://localhost:8000/v1/chat/completions \"HTTP/1.1 200 OK\"\n",
      " 43%|████▎     | 9/21 [01:26<02:08, 10.68s/it]"
     ]
    },
    {
     "name": "stdout",
     "output_type": "stream",
     "text": [
      "--------------------------------\n",
      "Processed: 우물통기초 공사 시 다음의 사항을 검토하여 장비 관련 재해를 방지하여야 한다.\n",
      "\n",
      "(가) 바지선과 예인선의 부딪힘, 근로자의 깜빡 등에 의한 재해를 방지하기 위하여 고무타이어 등의 충격흡수재를 설치하여야 한다.\n",
      "\n",
      "(나) 장비 간 고정을 위한 로프를 찾기 쉬운 장소에 비치하여야 한다.\n",
      "\n",
      "(다) 비상시에 선박 고정용 로프를 절단할 수 있는 도끼나 적절한 도구를 사 용하기 쉬운 장소에 비치하여야 한다.\n",
      "\n",
      "(라) 반입되는 장비 및 자재의 하역작업은 중량 및 적재상태 등을 고려하여 적절한 하역방법을 선정하여야 한다.\n",
      "\n",
      "(마) 하역작업 시에는 신호수를 배치하여 정해진 신호에 따라야 하며 신호는 장비운전원이 잘 볼 수 있는 곳에서 하여야 한다.\n",
      "\n",
      "(바) 수상 장비 조종원은 유자격자가 운행할 수 있도록 안전실명제를 실시하여야 한다.\n",
      "\n",
      "(사) 인양 크레인, 크램쉘, 배치플랜트 등의 장비를 바지선에 반입할 경우에 는 해당 장비이력카드를 확인하고 관련 법령에 의한 정기검사 등의 이 력을 확인하여야 한다.\n"
     ]
    },
    {
     "name": "stderr",
     "output_type": "stream",
     "text": [
      "INFO:httpx:HTTP Request: POST http://localhost:8000/v1/chat/completions \"HTTP/1.1 200 OK\"\n",
      " 48%|████▊     | 10/21 [01:34<01:48,  9.86s/it]"
     ]
    },
    {
     "name": "stdout",
     "output_type": "stream",
     "text": [
      "--------------------------------\n",
      "Processed: (아) 우물통기초 공사 중에 이용되는 콘크리트 타설장비, 안양 및 운반장비, 작업대, 양생설비, 동력과 조명 및 배수설비, 굴착 및 침설설비, 환기설비 등의 안전관리 지침을 사전에 숙지하고 공사 중에는 정기적으로 점검과 보수를 실시하여 안전하게 작업이 수행되도록 하여야 한다.\n",
      "\n",
      "<그림 4> 바지선 안전난간 및 충격흡수용 타이어 설치\n",
      "\n",
      "<그림 5> 접근 금지 안전시설물\n",
      "\n",
      "(7) 우물통기초 공사 시 다음의 사항을 검토하여 굴착 시 발파 관련 재해를 방지하여야 한다.\n",
      "\n",
      "(가) 화약이나 폭약을 장전하는 경우에는 그 부근에서 화기를 사용하거나 흡연을 하지 않도록 유의하여야 한다.\n",
      "\n",
      "(나) 화약류 관리·보안 책임자는 반드시 현장상황을 고려해서 위험구역을 결정하고 점화 전에 안전한 장소로 대피하여 위험구역에 아무도 없다는\n"
     ]
    },
    {
     "name": "stderr",
     "output_type": "stream",
     "text": [
      "INFO:httpx:HTTP Request: POST http://localhost:8000/v1/chat/completions \"HTTP/1.1 200 OK\"\n",
      " 52%|█████▏    | 11/21 [01:47<01:46, 10.66s/it]"
     ]
    },
    {
     "name": "stdout",
     "output_type": "stream",
     "text": [
      "--------------------------------\n",
      "Processed: 것을 확인한 후 발파작업을 시행하여야 한다.(다) 강우, 낙뢰 시에는 작업을 중단하고 화약 등을 화약고에 안전하게 입고 하여야 한다.\n",
      "\n",
      "(라) 불발공을 재발파하는 것은 충분한 조사가 끝난 후에 하여야 하며, 불발 공에 잔류화약이 있을 때에는 압축공기 또는 물을 사용하여 회수하여 야 한다.\n",
      "\n",
      "(8) 우물통 내부에서 작업을 하는 경우 조명 및 환기와 관련하여 다음의 안전 시설물의 설치 및 안전 준수 사항을 지키도록 한다.\n",
      "\n",
      "(가) 우물통 내부의 조명장치 및 설비를 확인해야 하며 75 럭스(Lux) 이상의 조도가 유지되도록 하여야 한다.\n",
      "\n",
      "(나) 발파 후 유해가스나 분진이 신속히 우물통 외부로 배출되도록 환기시키고 유해가스 및 분진의 농도는 노출기준 이하로 유지하여야 한다.\n",
      "\n",
      "(다) 소요 환기량에 충분한 용량의 환기설비를 설치하고 송풍에 관한 기준에 의하여 적정한 계획을 수립하여야 한다.\n",
      "\n",
      "(라) 분진 및 유해가스의 농도를 수시로 측정하여 노출기준 이하로 유지되도록 환기 및 살수하여야 한다.\n",
      "\n",
      "(마) 분진발생 장소에서 작업하는 근로자는 방진마스크를 착용하도록 관리한다.\n",
      "\n",
      "7. 거치식 우물통기초 안전조치 사항\n",
      "\n",
      "7.1 우물통 제작\n",
      "\n",
      "7.1.1 거푸집 제작 및 철근 조립\n",
      "\n",
      "(1) 강재 거푸집 사용 시에는 반드시 벽체에 작용하는 콘크리트 측압 등에 대한 구조검토를 실시하여 조립도를 작성하여야 하고, 해당 조립도에 따라 시\n"
     ]
    },
    {
     "name": "stderr",
     "output_type": "stream",
     "text": [
      "INFO:httpx:HTTP Request: POST http://localhost:8000/v1/chat/completions \"HTTP/1.1 200 OK\"\n",
      " 57%|█████▋    | 12/21 [01:56<01:33, 10.41s/it]"
     ]
    },
    {
     "name": "stdout",
     "output_type": "stream",
     "text": [
      "--------------------------------\n",
      "Processed: 공되도록 하여야 한다.\n",
      "\n",
      "(2) 우물통 내·외부 비계는 건고한 구조의 작업발판, 안전난간, 승강설비 등을 설치하고 비계설치·해체 작업계획서를 작성하여 근로자의 떨어짐 또는 맞음 재해를 방지하여야 한다.\n",
      "\n",
      "(3) 철근 및 거푸집의 인양 및 운반 시 크레인 및 본 구조물과의 부딪힘을 방지할 수 있도록 신호 체계 및 작업 계획을 수립하고 준수하여야 한다.\n",
      "\n",
      "(4) 철근 및 거푸집의 인양 및 운반 시 2줄 걸이 등의 안전한 방법으로 실시하고, 필요시 달포대 또는 인양박스를 사용한다.\n",
      "\n",
      "(5) 철근 및 거푸집 운반 시 감전 사고를 예방하기 위하여 주변의 전선은 사용철근의 최대길이 이상의 높이에 배선되어야 하며 이격 거리는 최소한 2 미터 이상으로 한다.\n",
      "\n",
      "(6) 거푸집 및 브라켓 해체 시 낙하물 방지망, 안전방망 등의 떨어짐 방지 시설을 설치한다.\n",
      "\n",
      "(7) 노출된 철근 및 강선에는 보호캡을 씌우고 위험표시를 한다.\n",
      "\n",
      "(8) 철근 절단 시 철근의 탄력에 의한 재해방지를 위해 절단 부위가 튀지 않도록 주의하여 작업한다.\n"
     ]
    },
    {
     "name": "stderr",
     "output_type": "stream",
     "text": [
      "INFO:httpx:HTTP Request: POST http://localhost:8000/v1/chat/completions \"HTTP/1.1 200 OK\"\n",
      " 62%|██████▏   | 13/21 [02:07<01:23, 10.39s/it]"
     ]
    },
    {
     "name": "stdout",
     "output_type": "stream",
     "text": [
      "--------------------------------\n",
      "Processed: (9) 철근조립 시 철근 이음위치에 대하여 충분히 검토하고 철근의 무너짐을 방지하기 위하여 강관파이프, 와이어로프, 각재 등으로 일정 간격마다 버팀대를 설치한다.\n",
      "\n",
      "(10) 강재 거푸집의 용접작업 시 감전 사고를 방지하기 위해 교류아크 용접기 액 자동전격방지기, 가설전기에 누전차단기 및 접지 등을 설치하며 배선경로 상태 등을 확인하여야 한다.\n",
      "\n",
      "7.1.2 콘크리트 타설\n",
      "\n",
      "(1) 타설 작업을 시작하기 전에 해당 작업에 관한 거푸집, 동바리 등의 변형·변위 및 지반의 침하 유무 등을 점검하고 이상이 있는 경우 조치하여야 한다.\n",
      "\n",
      "(2) 콘크리트 타설 시 급격한 침하가 발생되지 않도록 최대한 시간을 두고 여유 있게 타설하여야 한다.\n",
      "\n",
      "(3) 콘크리트 타설 작업 시 거푸집이 무너짐 위험이 발생할 우려가 있는 경우 충분한 보강조치를 취하여야 한다.\n",
      "\n",
      "(4) 콘크리트를 타설하는 경우에는 편심이 발생하지 않도록 골고루 분산하여 타설하여야 한다.\n",
      "\n",
      "(5) 콘크리트를 타설하는 경우에는 근로자가 호스의 요동·선회로 인하여 떨어질 우려가 있는 단부작업에서는 특히 주의하여 작업하여야 한다.\n"
     ]
    },
    {
     "name": "stderr",
     "output_type": "stream",
     "text": [
      "INFO:httpx:HTTP Request: POST http://localhost:8000/v1/chat/completions \"HTTP/1.1 200 OK\"\n",
      " 67%|██████▋   | 14/21 [02:17<01:12, 10.40s/it]"
     ]
    },
    {
     "name": "stdout",
     "output_type": "stream",
     "text": [
      "--------------------------------\n",
      "Processed: (6) 설계도서상의 콘크리트 양생기간을 준수하여 거푸집, 동바리 등을 해체하여야 한다.\n",
      "\n",
      "7.2 기초면 고르기\n",
      "\n",
      "(1) 우물통 기초면 고르기 위한 준설 및 굴착작업 시 장비반입, 굴착토사처리 등의 안전작업계획을 수립하여야 한다.\n",
      "\n",
      "(2) 도면에 표시된 심도와 굴착범위 내에서 굴착토를 제거하고 관리감독자가 승인한 준설범위 내에서 작업을 수행하여야 한다.\n",
      "\n",
      "(3) 기준 준설위치에 준설선을 정박하고 준설토사를 체취하여 토사운반선에 적재하며 미리 지정해 놓은 투기장으로 운반하여야 한다.\n",
      "\n",
      "(4) 투기장에 투기된 굴착토사는 주변으로 유실되지 않도록 조치하여야 하며 굴착토사로 인한 주변 오염 등의 문제가 없도록 하여야 한다.\n",
      "\n",
      "(5) 수중 암의 발파 작업을 수행하는 경우 수중천공, 장약, 발파의 순으로 작업을 진행하며 크레인과 그래브 준설선을 이용하여 파쇄된 암석을 준설하고 토사운반선에 적재하여 투기장까지 운반하여야 한다.\n",
      "\n",
      "(6) 기초굴착을 위한 천공 작업 시 발생하는 소음에 대비하여 근로자에게 귀마개를 착용하도록 지시하여야 한다.\n",
      "\n",
      "<그림 8> 굴착 토사 처리\n"
     ]
    },
    {
     "name": "stderr",
     "output_type": "stream",
     "text": [
      "INFO:httpx:HTTP Request: POST http://localhost:8000/v1/chat/completions \"HTTP/1.1 200 OK\"\n",
      " 71%|███████▏  | 15/21 [02:32<01:10, 11.77s/it]"
     ]
    },
    {
     "name": "stdout",
     "output_type": "stream",
     "text": [
      "--------------------------------\n",
      "Processed: 7.3 우물통 운반 및 거치\n",
      "\n",
      "(1) 제작된 우물통을 운반할 때 운반 장비에 의한 절아매기, 뒤기, 운반, 설치방법 등에 관한 중량물 취급계획서를 작성하고 이에 따라 안전하게 작업을 수행한다.\n",
      "\n",
      "(2) 크레인을 이용한 우물통 본체 및 조금구 연결 작업 시 본체 내부로 떨어지지 않는 것을 예방하기 위하여 작업발판과 안전난간, 안전대 부착설비 등 안전시설 설치를 한다.\n",
      "\n",
      "(3) 조금구와 체결된 우물통 본체를 크레인으로 인양할 때 부재에 인양용 고리 를 견고하게 설치하고 인양하여야 하며, 중량물이 안전하게 거치되기 전까지는 걸이로프를 해제시키지 않아야 한다.\n",
      "\n",
      "(4) 제작된 우물통을 운반할 때에는 우물통의 중량 및 크기를 고려하여 충분한 성능을 갖는 크레인을 선정하여야 하며, 고리걸이 계획에 따른 와이어로프, 조금구, 크레인의 정격하중 등의 안전성 검토를 하여야 한다.\n",
      "\n",
      "(5) 우물통 본체를 인양 크레인을 이용하여 시공 위치까지 거치시 작업신호를 일원화하여 안전사고에 유의하여야 한다.\n",
      "\n",
      "(6) 우물통의 인양, 운반, 거치공사 시 충분한 인양능력을 가진 크레인을 투입하고 조금구를 사용하여 우물통 들고리에 동일한 하중이 분배되도록 한다.\n",
      "\n",
      "(7) 인양 및 운반 과정 중 우물통 본체 및 기타 부재의 넘어짐, 무너짐, 맞음 등에 의하여 근로자에게 위험을 미칠 우려가 있는 경우에는 출입금지구역을 설정하여야 한다.\n",
      "\n",
      "(8) 수상 및 해상에서 들고리 체결을 위해 우물통 위에서 작업을 하는 때에는 반드시 구명조끼를 입고 작업하도록 하여야 하며 육상에서 크레인을 이용하여 우물통 상부로 올라가는 때에는 떨어짐 재해가 발생하지 않도록 관리감독자를 반드시 배치하여야 한다.\n",
      "\n",
      "(9) 우물통 거치 시 급격한 조류에 의한 이동을 방지하기 위한 우물통 이동방\n",
      "\n",
      "- 13 -\n"
     ]
    },
    {
     "name": "stderr",
     "output_type": "stream",
     "text": [
      "INFO:httpx:HTTP Request: POST http://localhost:8000/v1/chat/completions \"HTTP/1.1 200 OK\"\n",
      " 76%|███████▌  | 16/21 [02:43<00:57, 11.59s/it]"
     ]
    },
    {
     "name": "stdout",
     "output_type": "stream",
     "text": [
      "--------------------------------\n",
      "Processed: 지 앵커블럭에 대해서는 시공 전에 가설지점의 유속 등을 면밀히 측정하고, 소정의 안전율을 확보할 수 있는 앵커블럭의 제원, 중량 및 시공법에 대해 검토한 후 시공하여야 한다.\n",
      "\n",
      "(10) 우물통을 거치한 후 터파기 및 발과한 우물통 외부사면을 사석으로 채움으로서 우물통 기초 저면의 세굴을 방지한다.\n",
      "\n",
      "![그림 9] 조금구 연결을 통한 우물통 본체의 인양 및 거치\n",
      "\n",
      "7.4 속채움 및 캡콘크리트 타설\n",
      "\n",
      "(1) 수중콘크리트는 재료의 분리를 방지하기 위하여 트레미(Tremie)를 사용해야 하며, 내리거나 올릴 때에는 천천히 작동시키 주의 깊게 시공하여야 한다.\n",
      "\n",
      "(2) 속채움 및 캡콘크리트 타설 작업을 위하여 콘크리트 펌프 또는 콘크리트 펌프카를 사용하는 경우에는 다음의 사항을 준수하여야 한다.\n",
      "\n",
      "(가) 작업을 시작하기 전에 콘크리트 펌프용 비계를 점검하고 이상을 발견하였으면 즉시 보수하여야 한다.\n",
      "\n",
      "(나) 우물통 내·외부의 비계 등에서 작업하는 근로자가 호스의 요동·선회로 인하여 떨어지는 위험을 방지하기 위하여 안전난간 설치 등 필요한 조치를 하여야 한다.\n",
      "\n",
      "(다) 콘크리트 펌프카의 붐을 조정하는 경우에는 주변 시설물 등과의 접촉\n"
     ]
    },
    {
     "name": "stderr",
     "output_type": "stream",
     "text": [
      "INFO:httpx:HTTP Request: POST http://localhost:8000/v1/chat/completions \"HTTP/1.1 200 OK\"\n",
      " 81%|████████  | 17/21 [02:48<00:38,  9.60s/it]"
     ]
    },
    {
     "name": "stdout",
     "output_type": "stream",
     "text": [
      "--------------------------------\n",
      "Processed: 등에 의한 위험을 예방하기 위한 적절한 조치를 하여야 한다.\n",
      "\n",
      "(라) 작업 중에 지반의 침하, 아웃트리거의 손상 등에 의하여 콘크리트 펌프카가 넘어질 우려가 있는 경우에는 이를 방지하기 위한 적절한 조치를 하여야 한다.\n",
      "\n",
      "8. 침강식 우물통기초 안전조치 사항\n",
      "\n",
      "8.1 날끝(shoe) 거치\n",
      "\n",
      "(1) 날끝 거푸집은 제작사양과 조립도의 순서를 준수하고 해체할 때에는 부재\n"
     ]
    },
    {
     "name": "stderr",
     "output_type": "stream",
     "text": [
      "INFO:httpx:HTTP Request: POST http://localhost:8000/v1/chat/completions \"HTTP/1.1 200 OK\"\n",
      " 86%|████████▌ | 18/21 [02:55<00:26,  8.86s/it]"
     ]
    },
    {
     "name": "stdout",
     "output_type": "stream",
     "text": [
      "--------------------------------\n",
      "Processed: (2) 지상에서 제작된 날끝(shoe)을 바지선을 이용하여 수상 운반하고 현장 거치 작업을 진행하는 경우 7.3절의 수상 운반 및 거치의 작업 안전 사항을 준수 한다.\n",
      "\n",
      "8.2 우물통 구축\n",
      "\n",
      "(1) 7.1절 거치식 우물통 제작의 작업 안전 사항을 준수한다.\n",
      "\n",
      "물리 12> 침강식 우물통 거푸집 제작 및 철근 조립\n",
      "\n",
      "물리 13> 침강식 우물통 구체 콘크리트 타설 및 양생\n",
      "\n",
      "8.3 굴착 및 발파\n",
      "\n",
      "(1) 굴착 작업 시 우물통의 경사, 이동 및 회전에 주의하며 급격하게 침하가 되지 않도록 한다.\n",
      "\n",
      "(2) 지속적인 위치 및 기울기 확인 측량을 하고 변위 발생 시 적절한 대책을 수립한 후 굴착한다.\n"
     ]
    },
    {
     "name": "stderr",
     "output_type": "stream",
     "text": [
      "INFO:httpx:HTTP Request: POST http://localhost:8000/v1/chat/completions \"HTTP/1.1 200 OK\"\n",
      " 90%|█████████ | 19/21 [03:08<00:20, 10.11s/it]"
     ]
    },
    {
     "name": "stdout",
     "output_type": "stream",
     "text": [
      "--------------------------------\n",
      "Processed: (3) 양수설비에 고장이 있는 경우나 우물통 내부에 많은 양의 물이 스며들 우려가 있는 경우에는 굴착작업을 하지 않는다.\n",
      "\n",
      "(4) 우물통 하부 굴착 작업 중 지반의 누수로 근로자가 익사하거나 장비가 수몰되는 사고가 발생할 수 있으므로 누수의 배수, 약액주입 등의 공법으로 차수조치를 철저히 하여야 한다.\n",
      "\n",
      "(5) 절토, 실트질의 경우에는 크램쉘로 의한 굴착이 주로 사용되며, 리버스서큐레이션 드릴(Reverse Circulatain Drill)도 사용된다. 크램쉘 굴착의 경우에는 바켓은 우물통 내벽을 따라 강하시켜 날끔 안측을 굴착하여 안전한 시공을 하여야 하며 굴착작업 시 관계자 이외의 출입을 금지하여야 한다.\n",
      "\n",
      "(6) 발파를 통해 경암질에서 구체를 침하시킬 경우에는 관리감독자의 확인을 받아야 하며, 화약의 운반·보관에 관한 안전대책을 충분히 검토하여야 한다.\n",
      "\n",
      "(7) 잠수부를 동원하여 수중천공 후 발파하고 자중 및 재하하중에 의해 서서히 침하 시킨다.\n",
      "\n",
      "(8) 잠수부의 특수건강검진을 실시하고 작업 시 신호수 배치로 안전사고를 예방해야 한다.\n",
      "\n",
      "(9) 수중작업의 특수성으로 천공·장약 등이 잠수부에 의존하여야 하므로 경험이 많은 잠수부가 수행하여야 하며 사전교육과 관리가 요구된다.\n",
      "\n",
      "(10) 잠수부는 잠수병의 위험을 최소화하기 위하여 다이빙 전 충분히 수분을 섭취하고 휴식을 취한 후 서서히 입수하여야 하며, 급격한 압력변화를 막기 위하여 최대한 천천히 수면위로 올라 와야 한다.\n"
     ]
    },
    {
     "name": "stderr",
     "output_type": "stream",
     "text": [
      "INFO:httpx:HTTP Request: POST http://localhost:8000/v1/chat/completions \"HTTP/1.1 200 OK\"\n",
      " 95%|█████████▌| 20/21 [03:16<00:09,  9.34s/it]"
     ]
    },
    {
     "name": "stdout",
     "output_type": "stream",
     "text": [
      "--------------------------------\n",
      "Processed: 8.4 양수 및 침하\n",
      "\n",
      "(1) 양수작업은 잠수부 작업의 효율을 증대하고 잠수병(감압증) 예방에 필연이기 때문에 양수작업에 많은 시간을 투자하여야 하며, 양수펌프가 고장이 나지 않도록 유지관리를 철저히 하여야 한다.\n",
      "\n",
      "(2) 양수기 설치 시 양정고, 토출경, 전기, 우물통 내부 침투유량, 내부 침투수 혼탁(모래, 자갈 등의 유입) 상태를 면밀히 검토하여야 한다.\n",
      "\n",
      "(3) 수위차로 인하여 순간적으로 물이 우물통 내부로 들어와 장비가 수몰되는 경우가 발생할 수 있으므로 양수 후 건조 상태에서 작업 시 예비양수기를 확보하고 작업원이 구명조끼를 필히 착용할 수 있도록 하여야 한다.\n",
      "\n",
      "(4) 양수기의 누전으로 인하여 감전사고가 발생되지 않도록 누전차단기의 설치\n"
     ]
    },
    {
     "name": "stderr",
     "output_type": "stream",
     "text": [
      "INFO:httpx:HTTP Request: POST http://localhost:8000/v1/chat/completions \"HTTP/1.1 200 OK\"\n",
      "100%|██████████| 21/21 [03:24<00:00,  9.74s/it]\n"
     ]
    },
    {
     "name": "stdout",
     "output_type": "stream",
     "text": [
      "--------------------------------\n",
      "Processed: 등 누전으로 인한 감전재해를 방지할 수 있도록 하여야 한다.\n",
      "\n",
      "(4) 침하 중 극심한 편심 및 경사가 발생한 경우에는 즉시 근원을 조사하여 발주자 대리인에게 보고하고, 대책을 협의한 후 시행하여야 한다.\n",
      "\n",
      "(5) 우물통의 침하 작업 중 필요한 경우에는 잠수부를 동원하여 날중의 밑깍기를 할 수도 있으나 과도한 밑깍기를 하여서는 아니 된다.\n",
      "\n",
      "(6) 침하 도중, 유해가스의 발생이나 산소결핍에 의한 재해를 막기 위하여 항상 가스검사를 실시하고 유해가스 발생 및 산소결핍의 우려가 있는 경우에는 환기 등 기타 적절한 조치를 강구하여야 한다.\n",
      "\n",
      "8.4 속채움 및 Cap 콘크리트 타설\n",
      "\n",
      "(1) 7.4절 거치식 우물통기초의 속채움 및 Cap 콘크리트 타설 공정의 작업 안전 사항을 준수한다.\n",
      "\n",
      "<그림 16> 하중을 이용한 우물통 침하\n",
      "---End---\n",
      "Processing 옹벽(콘크리트 옹벽)공사의 안전보건작업지침\n"
     ]
    },
    {
     "name": "stderr",
     "output_type": "stream",
     "text": [
      "  0%|          | 0/15 [00:00<?, ?it/s]INFO:httpx:HTTP Request: POST http://localhost:8000/v1/chat/completions \"HTTP/1.1 200 OK\"\n",
      "  7%|▋         | 1/15 [00:02<00:34,  2.47s/it]"
     ]
    },
    {
     "name": "stdout",
     "output_type": "stream",
     "text": [
      "--------------------------------\n",
      "Processed: 옹벽(콘크리트 옹벽)공사의 안전보건\n",
      "작업지침\n",
      "\n",
      "2016. 11\n",
      "\n",
      "한국산업안전보건공단\n"
     ]
    },
    {
     "name": "stderr",
     "output_type": "stream",
     "text": [
      "INFO:httpx:HTTP Request: POST http://localhost:8000/v1/chat/completions \"HTTP/1.1 200 OK\"\n",
      " 13%|█▎        | 2/15 [00:15<01:55,  8.88s/it]"
     ]
    },
    {
     "name": "stdout",
     "output_type": "stream",
     "text": [
      "--------------------------------\n",
      "Processed: 안전보건기술지침의 개요\n",
      "\n",
      "○ 작성자 : 한국안전학회 오기택\n",
      "  개정자 : 한국산업안전보건공단 경북지사 장경부\n",
      "\n",
      "○ 제·개정 경과\n",
      "  - 2013년 7월 건설안전분야 제정위원회 심의(제정)\n",
      "  - 2016년 7월 건설안전분야 제정위원회 심의(개정)\n",
      "\n",
      "○ 관련규격 및 자료\n",
      "  - 산업안전보건기준에 관한 규칙\n",
      "  - 건설공사 표준시방서, 전문시방서\n",
      "  - 최신 건설안전(예문사, 한경보)\n",
      "  - 한국산업안전보건공단 건설안전기술자료\n",
      "  - KOSHA GUIDE C-48-2012 (건설기계 안전보건작업지침)\n",
      "  - KOSHA GUIDE C-43-2012 (콘크리트공사 안전보건작업지침)\n",
      "  - KOSHA GUIDE.C-39-2011 (굴착공사 안전보건작업지침)\n",
      "\n",
      "○ 관련법규・규칙・고시 등\n",
      "  - 산업안전보건기준에 관한 규칙 제42조, 제44조, 제50조, 제57조 ~ 제60조\n",
      "  - 가설공사 표준안전 작업지침\n",
      "  - 가설공사 표준시방서 제4장 비계 3.1시공일반, 3.2강관비계 시공\n",
      "\n",
      "○ 기술지침의 적용 및 문의\n",
      "  - 이 기술지침에 대한 의견 또는 문의는 한국산업안전보건공단 홈페이지 (www.kosha.or.kr) 안전보건기술지침 소관 분야별 문의처 안내를 참고 하시기 바랍니다.\n",
      "  - 동 지침 내에서 인용된 관련 규격 및 자료 등에 관하여 최근 개정 내용이 있는 경우 동 지침에 우선하여 참고하시기 바랍니다.\n",
      "\n",
      "공표일자 : 2016년 11월 30일\n",
      "제 정 자 : 한국산업안전보건공단 이사장\n"
     ]
    },
    {
     "name": "stderr",
     "output_type": "stream",
     "text": [
      "INFO:httpx:HTTP Request: POST http://localhost:8000/v1/chat/completions \"HTTP/1.1 200 OK\"\n",
      " 20%|██        | 3/15 [00:23<01:38,  8.24s/it]"
     ]
    },
    {
     "name": "stdout",
     "output_type": "stream",
     "text": [
      "--------------------------------\n",
      "Processed: 옹벽(콘크리트 옹벽)공사의 안전보건작업지침\n",
      "\n",
      "1. 목 적\n",
      "\n",
      "이 지침은 산업안전보건기준에 관한 규칙에 의거 옹벽공사(콘크리트 옹벽) 중 발생할 수 있는 토사의 무너짐, 장비에 의한 부딪힘 및 깔림, 고소작업시 떨어짐 등의 재해를 예방할 수 있는 콘크리트 옹벽공사 안전보건 작업지침을 정함을 목적으로 한다.\n",
      "\n",
      "2. 적용범위\n",
      "\n",
      "이 지침은 건설현장에서 시공되고 있는 옹벽공사 중 콘크리트 옹벽에 대하여 적용한다.\n",
      "\n",
      "3. 용어의 정의\n",
      "\n",
      "(1) 이 지침에서 사용되는 용어의 뜻은 다음과 같다.\n",
      "\n",
      "(가) “옹벽”이라 함은 토압에 저항하는 가장 일반적인 구조물로 용지의 제한에 따른 토지의 최적 이용을 목적으로 설치하는 구조물을 말한다.\n"
     ]
    },
    {
     "name": "stderr",
     "output_type": "stream",
     "text": [
      "INFO:httpx:HTTP Request: POST http://localhost:8000/v1/chat/completions \"HTTP/1.1 200 OK\"\n",
      " 27%|██▋       | 4/15 [00:34<01:44,  9.52s/it]"
     ]
    },
    {
     "name": "stdout",
     "output_type": "stream",
     "text": [
      "--------------------------------\n",
      "Processed: (나) “콘크리트 옹벽”이란 절토 또는 성토 비탈면이 흙의 압력으로 인해 붕괴 되는 것을 방지할 목적으로 설치한 콘크리트 벽체 구조물을 말한다.\n",
      "\n",
      "(다) “시공이음”이라 함은 이미 시공된 콘크리트에 새로운 콘크리트를 쳐서 잇기 위해 만든 이음말을 말한다.\n",
      "\n",
      "(라) “뒤채움”이라 함은 구조물 뒷면에 잡석·자갈·콘크리트 등을 채우는 것으로 구조물의 안정을 도모하는 동시에 배면의 배수를 용이하게 작용을 말한다.\n",
      "\n",
      "(마) “배수공”이라 함은 옹벽의 배면에 모인 우수 및 침투수를 배출시키기 위한 배수구조물로 말한다.\n",
      "\n",
      "(바) “래머(Rammer)”라 함은 동력에 의해 다짐판을 진동시켜 지반의 중와 충격에 의해 지반을 다지는 기계이며 <그림 2>와 같다.\n",
      "\n",
      "(사) “콤팩터(compactor)”라 함은 뒷채움 토사에 하중을 가하여 진동, 충격을 줄이므로써 보다 무거운 하중에 견딜 수 있도록 지반을 다지기 위한 기계이며 <그림 3>과 같다.\n",
      "\n",
      "(2) 그 밖에 이 지침에서 사용하는 용어의 정의는 이 지침에서 특별히 규정하는 경우를 제외하고는 산업안전보건법 및 산업안전보건법 시행령, 산업안전보건법 시행규칙, 산업안전보건에 관한 규칙 및 고시에서 정하는 바에 따른다.\n"
     ]
    },
    {
     "name": "stderr",
     "output_type": "stream",
     "text": [
      "INFO:httpx:HTTP Request: POST http://localhost:8000/v1/chat/completions \"HTTP/1.1 200 OK\"\n",
      " 33%|███▎      | 5/15 [00:43<01:30,  9.05s/it]"
     ]
    },
    {
     "name": "stdout",
     "output_type": "stream",
     "text": [
      "--------------------------------\n",
      "Processed: 4. 콘크리트 용벽의 종류\n",
      "\n",
      "(1) 콘크리트 용벽의 종류는 다음과 같다.\n",
      "\n",
      "(가) 중력식 용벽\n",
      "용벽 자체의 무게로 토압 등의 외력을 지지하여 자중으로 토압에 저항하는 형식으로 <그림 4>와 같다.\n",
      "\n",
      "(나) 반중력식 용벽\n",
      "반중력식 용벽은 중력식 용벽의 벽두께를 얇게 하고 이로 인해 생기는 인장 응력에 저항하기 위해 철근을 배치한 형식으로 <그림 5>와 같다.\n",
      "\n",
      "(다) 캔틸레버(Cantilever)식 용벽\n",
      "\n",
      "① 역T형 용벽: 용벽의 배면에 기초 슬래브가 일부 돌출한 모양의 용벽형식으로 <그림 6>과 같다.\n",
      "\n",
      "② L형 용벽: L형 용벽은 한쪽 끝이 고정되고 다른 끝은 받쳐지지 않은 상태로 되어있는 보를 이용해 용벽의 재료를 절약하는 형식으로 <그림 7>과 같다.\n"
     ]
    }
   ],
   "source": [
    "if __name__ == \"__main__\":\n",
    "    main()"
   ]
  },
  {
   "cell_type": "code",
   "execution_count": null,
   "metadata": {},
   "outputs": [],
   "source": []
  }
 ],
 "metadata": {
  "kernelspec": {
   "display_name": "olmocr",
   "language": "python",
   "name": "python3"
  },
  "language_info": {
   "codemirror_mode": {
    "name": "ipython",
    "version": 3
   },
   "file_extension": ".py",
   "mimetype": "text/x-python",
   "name": "python",
   "nbconvert_exporter": "python",
   "pygments_lexer": "ipython3",
   "version": "3.11.11"
  }
 },
 "nbformat": 4,
 "nbformat_minor": 2
}
