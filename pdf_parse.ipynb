{
 "cells": [
  {
   "cell_type": "code",
   "execution_count": 1,
   "metadata": {},
   "outputs": [],
   "source": [
    "# olmocr python 가상환경 설정"
   ]
  },
  {
   "cell_type": "code",
   "execution_count": 2,
   "metadata": {},
   "outputs": [],
   "source": [
    "# !pip install -q nest_asyncio"
   ]
  },
  {
   "cell_type": "code",
   "execution_count": 3,
   "metadata": {},
   "outputs": [],
   "source": [
    "import nest_asyncio\n",
    "#nest_asyncio는 Jupyter Notebook(ipynb)에서 비동기(async/await) 코드를 실행하기 위해 필요\n",
    "nest_asyncio.apply()"
   ]
  },
  {
   "cell_type": "markdown",
   "metadata": {},
   "source": [
    "## OLMOCR 설치"
   ]
  },
  {
   "cell_type": "code",
   "execution_count": 4,
   "metadata": {},
   "outputs": [],
   "source": [
    "# RestFul서비스를 구축하고 테스트하기 위해 필요\n",
    "# !pip install -Uq olmocr openai ipywidgets "
   ]
  },
  {
   "cell_type": "code",
   "execution_count": 5,
   "metadata": {},
   "outputs": [],
   "source": [
    "# !pip install transformers==4.49.0"
   ]
  },
  {
   "cell_type": "code",
   "execution_count": 6,
   "metadata": {},
   "outputs": [],
   "source": [
    "# !git clone https://github.com/allenai/olmocr.git\n",
    "# %cd olmocr\n",
    "# !pip install -e ."
   ]
  },
  {
   "cell_type": "markdown",
   "metadata": {},
   "source": [
    "## PDF 테스트 파일 설정"
   ]
  },
  {
   "cell_type": "code",
   "execution_count": 7,
   "metadata": {},
   "outputs": [],
   "source": [
    "import asyncio\n",
    "import json\n",
    "from pathlib import Path\n",
    "from tqdm import tqdm\n",
    "import os\n",
    "\n",
    "from pypdf import PdfReader\n",
    "from olmocr.pipeline import build_page_query, build_dolma_document, PageResult\n",
    "from olmocr.prompts import PageResponse\n",
    "\n",
    "from olmocr.version import VERSION\n",
    "from glob import glob\n",
    "\n",
    "from openai import OpenAI\n",
    "client = OpenAI(base_url=\"http://localhost:8000/v1\", api_key=\"token-abc123\", timeout=120)\n",
    "\n",
    "async def process_page(filename, page_num):\n",
    "    query = await build_page_query(filename,\n",
    "                            page=page_num,\n",
    "                            target_longest_image_dim=1024,\n",
    "                            target_anchor_text_len=6000)\n",
    "    \n",
    "    # query['model'] = 'Qwen2.5-VL-7B-Instruct'\n",
    "    query['model'] = 'olmOCR-7B-0225-preview'\n",
    "\n",
    "    # print(query)\n",
    "    response = client.chat.completions.create(**query)\n",
    "\n",
    "    content = response.choices[0].message.content\n",
    "\n",
    "    page_response = PageResponse(\n",
    "        primary_language = \"ko\",\n",
    "        is_rotation_valid = False,\n",
    "        rotation_correction = 0,\n",
    "        is_table = False,\n",
    "        is_diagram = False,\n",
    "        natural_text = content\n",
    "    )\n",
    "\n",
    "    return PageResult(\n",
    "        filename,\n",
    "        page_num,\n",
    "        page_response,\n",
    "        input_tokens=response.usage.prompt_tokens,\n",
    "        output_tokens=response.usage.completion_tokens,\n",
    "        is_fallback=False\n",
    "    )"
   ]
  },
  {
   "cell_type": "code",
   "execution_count": 8,
   "metadata": {},
   "outputs": [],
   "source": [
    "# async def get_content(file_path):\n",
    "#     reader = PdfReader(file_path)\n",
    "#     file_name = Path(file_path).stem\n",
    "#     num_pages = reader.get_num_pages()\n",
    "#     results = []\n",
    "    \n",
    "#     for page_num in trange(1, num_pages + 1):\n",
    "#         result = await process_page(file_path, page_num)\n",
    "        \n",
    "#         results.append(result)\n",
    "        \n",
    "#         print(result.response)\n",
    "        \n",
    "#         print(\"--------------------------------\")\n",
    "#         # 만약 result.response가 JSON 문자열이라면\n",
    "#         if isinstance(result.response.natural_text, str):\n",
    "#             try:\n",
    "#                 response_dict = json.loads(result.response.natural_text)\n",
    "#                 print(f\"Processed: {response_dict['natural_text']}\")\n",
    "#             except json.JSONDecodeError:\n",
    "#                 print(f\"Processed: {result.response.natural_text}\")\n",
    "#         else:\n",
    "#             # PageResponse 객체라면\n",
    "#             print(f\"Processed: {result.response.natural_text}\")\n",
    "            \n",
    "#     print(\"--- Get PDF Results ---\")\n",
    "#     text_parts = []\n",
    "#     for result in results:\n",
    "#         if isinstance(result.response.natural_text, str):\n",
    "#             try:\n",
    "#                 response_dict = json.loads(result.response.natural_text)\n",
    "#                 text_parts.append(response_dict['natural_text'])\n",
    "#             except json.JSONDecodeError:\n",
    "#                 # JSON 파싱에 실패하면 원본 텍스트 추가\n",
    "#                 text_parts.append(result.response.natural_text)\n",
    "#         else:\n",
    "#             text_parts.append(result.response.natural_text)\n",
    "    \n",
    "#     text = \"\\n\".join(text_parts)\n",
    "#     print(text)\n",
    "\n",
    "#     # 텍스트를 마크다운 파일로 저장\n",
    "#     output_folder = Path(\"./results\")\n",
    "#     output_folder.mkdir(exist_ok=True, parents=True)\n",
    "    \n",
    "#     md_path = output_folder.joinpath(file_name).with_suffix(\".md\")\n",
    "#     full_path = md_path.resolve()\n",
    "#     print(f\"마크다운 저장 경로: {full_path}\")\n",
    "#     with open(full_path, \"w\", encoding=\"utf-8\") as file:\n",
    "#         file.write(text)\n",
    "\n",
    "#     # build_dolma_document 부분 주석 처리\n",
    "#     # print(\"--- Build the dolma results ---\")\n",
    "#     # doc = build_dolma_document(file_path, results)\n",
    "#     # pdf_doc = json.dumps(doc, ensure_ascii=False)\n",
    "#     # print(pdf_doc)\n",
    "#     # dolma_path = output_folder.joinpath(file_name).with_suffix(\".results.json\")\n",
    "#     # full_path = dolma_path.resolve()\n",
    "#     # print(full_path)\n",
    "#     # with open(full_path, \"w\", encoding=\"utf-8\") as file:\n",
    "#     #     file.write(pdf_doc + \"\\n\")"
   ]
  },
  {
   "cell_type": "code",
   "execution_count": 9,
   "metadata": {},
   "outputs": [],
   "source": [
    "async def get_content(file_path, single_page=False, page_num=None):\n",
    "    reader = PdfReader(file_path)\n",
    "    file_name = Path(file_path).stem\n",
    "    num_pages = reader.get_num_pages()\n",
    "    results = []\n",
    "    \n",
    "    # 파일명에 대한 폴더 생성\n",
    "    output_folder = Path(\"./results\")\n",
    "    output_folder.mkdir(exist_ok=True, parents=True)\n",
    "    \n",
    "    pdf_folder = output_folder.joinpath(file_name)\n",
    "    \n",
    "    # 폴더가 이미 존재하는지 확인\n",
    "    if pdf_folder.exists() and len(os.listdir(pdf_folder)) == num_pages and not single_page:\n",
    "        print(f\"폴더 '{pdf_folder}'가 이미 존재합니다. 처리를 건너뜁니다.\")\n",
    "        return  # 함수 종료\n",
    "    \n",
    "    pdf_folder.mkdir(exist_ok=True, parents=True)\n",
    "    \n",
    "    page_num = 1 if page_num is None else page_num\n",
    "    pbar = tqdm(total=num_pages if not single_page else 1)\n",
    "    \n",
    "    while page_num <= num_pages:\n",
    "        result = await process_page(file_path, page_num)\n",
    "\n",
    "        print(\"--------------------------------\")\n",
    "        \n",
    "        # 페이지 텍스트 추출\n",
    "        page_text = None\n",
    "        if isinstance(result.response.natural_text, str):\n",
    "            try:\n",
    "                response_dict = json.loads(result.response.natural_text)\n",
    "                page_text = response_dict.get('natural_text')\n",
    "                # print(f\"Processed: {page_text}\")\n",
    "            except json.JSONDecodeError:\n",
    "                print(f\"Error: JSONDecodeError\")                \n",
    "        else:\n",
    "            page_text = result.response.natural_text\n",
    "            # print(f\"Processed: {page_text}\")\n",
    "        \n",
    "        # None이거나 빈 문자열이면 재시도\n",
    "        if page_text is None or page_text == \"\":\n",
    "            print(f\"페이지 {page_num}의 텍스트가 없습니다. 재시도합니다.\")\n",
    "            # 잠시 대기 후 재시도\n",
    "            await asyncio.sleep(1)\n",
    "            continue  # 같은 페이지 다시 시도\n",
    "        \n",
    "        # 성공적으로 텍스트를 얻었으면 결과 저장 및 다음 페이지로\n",
    "        results.append(result)\n",
    "        \n",
    "        # 페이지별 마크다운 파일 저장\n",
    "        page_md_path = pdf_folder.joinpath(f\"page_{page_num}.md\")\n",
    "        with open(page_md_path, \"w\", encoding=\"utf-8\") as file:\n",
    "            file.write(page_text)\n",
    "        \n",
    "        if single_page:\n",
    "            break\n",
    "        \n",
    "        # 다음 페이지로 이동\n",
    "        page_num += 1\n",
    "        pbar.update(1)\n",
    "    \n",
    "    print(\"---End---\")\n",
    "    pbar.close()"
   ]
  },
  {
   "cell_type": "code",
   "execution_count": 10,
   "metadata": {},
   "outputs": [],
   "source": [
    "def main():\n",
    "    file_dir = \"data/건설안전지침/\"\n",
    "        \n",
    "    files = glob(file_dir + \"*.pdf\")\n",
    "    \n",
    "    for file in files:\n",
    "        print(f\"Processing {Path(file).stem}\")\n",
    "        # Run the async event loop\n",
    "        asyncio.run(get_content(file))"
   ]
  },
  {
   "cell_type": "markdown",
   "metadata": {},
   "source": [
    "### 특정 문서 / 페이지 디버깅을 위한 함수"
   ]
  },
  {
   "cell_type": "code",
   "execution_count": 11,
   "metadata": {},
   "outputs": [],
   "source": [
    "# def main():\n",
    "#     files = [\"data/건설안전지침/재사용 가설기자재 성능기준에 관한 지침.pdf\"]\n",
    "    \n",
    "#     for file in files:\n",
    "#         print(f\"Processing {Path(file).stem}\")\n",
    "#         # Run the async event loop\n",
    "        \n",
    "#         for page_num in [23, 25, 28, 30, 33, 37, 42, 43, 44, 45, 48, 49]:\n",
    "#             asyncio.run(get_content(file, single_page=True, page_num=page_num))\n",
    "#         # asyncio.run(get_content(file, single_page=True, page_num=14))"
   ]
  },
  {
   "cell_type": "code",
   "execution_count": 12,
   "metadata": {},
   "outputs": [
    {
     "name": "stderr",
     "output_type": "stream",
     "text": [
      "INFO:httpx:HTTP Request: POST http://localhost:8000/v1/chat/completions \"HTTP/1.1 200 OK\"\n",
      " 58%|█████▊    | 14/24 [02:20<01:57, 11.73s/it]"
     ]
    },
    {
     "name": "stdout",
     "output_type": "stream",
     "text": [
      "--------------------------------\n",
      "Processed: 이 발생되지 않도록 하여야 한다.\n",
      "\n",
      "6.2 강관 추진 및 굴착\n",
      "\n",
      "6.2.1 강관 추진\n",
      "\n",
      "(1) 강관의 추진순서는 강관 주변의 토사의 종류 및 상태, 작업 여건 등을 고려하여 결정하여야 한다.\n",
      "\n",
      "(2) 강관은 추진시 선형 조정이 용이하고 마찰이 작은 길이로 제작하여야 한다.\n",
      "\n",
      "(3) 상부 토압에 견딜 수 있는 충분한 두께의 강관을 사용하여야 한다.\n",
      "\n",
      "(4) 처음으로 추진되는 강관은 정확하게 압입되어야 후속 추진되는 강관이 정확하게 추진되므로 시공관리를 철저히 하여야 한다.\n",
      "\n",
      "(5) 강관추진기에는 추진 시 추진력이 감자가 상승하는 것을 방지하기 위한 압력 리미트(Limit) 스위치를 설치하여야 한다.\n",
      "\n",
      "(6) 추진은 지반의 토질 및 막장 상태를 고려하여 신중히 하여야 하고, 추진 중에 추진력이 감자가 상승하는 경우에는 추진을 중지하고 그 원인을 조사하여 안전을 확인한 뒤에 추진하여야 한다.\n",
      "\n",
      "(7) 강관을 미리 용접할 경우 오차를 수정하기가 힘들 뿐 아니라 추진 시 강관이 주변 토사와 마찰력이 과도하게 발생되기 때문에 강관의 용접은 강관추진이 완료된 후에 실시하여야 한다.\n",
      "\n",
      "(8) 강관과 강관의 용접결합은 작업조건이 매우 불량한 협소한 장소에서 작업이 이루어지므로 최소 2인 이상이 상호 교대로 작업을 실시하고 다음 사항을 준수하여야 한다.\n",
      "\n",
      "(가) 가연물 제거와 화재예방 조치\n",
      "(나) 관내 용접작업 시 환기설비 설치\n",
      "(다) 상하 동시작업 시 사전 동의 후 작업\n",
      "(라) 전선 및 호스 정리정돈, 안전한 호스 연결기구 사용\n"
     ]
    },
    {
     "name": "stderr",
     "output_type": "stream",
     "text": [
      "INFO:httpx:HTTP Request: POST http://localhost:8000/v1/chat/completions \"HTTP/1.1 200 OK\"\n",
      " 62%|██████▎   | 15/24 [02:30<01:41, 11.24s/it]"
     ]
    },
    {
     "name": "stdout",
     "output_type": "stream",
     "text": [
      "--------------------------------\n",
      "Processed: (마) 추진관 상부 용접작업을 위한 멸어짐 방지조치\n",
      "(바) 용접기 감전재해 예방조치\n",
      "\n",
      "(9) 강관추진이 끝나고 용접이 완료된 후에는 혹시 발생할 수 있는 굴진 시의 여굴부위에 시멘트 밀크 그라우팅을 실시하여 침하를 예방하여야 한다.\n",
      "\n",
      "(10) 강관추진 시 선단에 장애물이 있는 경우에는 관 추진 부분의 장애물을 제거한 후 즉시 강관추진을 하고 주위를 그라우팅을 하여 장애물 제거로 인한 여굴이 발생하지 않도록 주의하여야 한다.\n",
      "\n",
      "<그림 7> 강관 압입 전경\n",
      "\n",
      "6.2.2 강관내부 굴착\n",
      "\n",
      "(1) 지반조건 등을 고려하여 인력굴착 및 기계굴착 방법을 결정하여야 한다.\n",
      "\n",
      "(2) 강관내부 굴착 시 지반 및 지하수 상태를 항상 확인하여야 하며 굴착에 따른 지하수의 유출 등으로 박장에서의 무너짐 및 묻힘 등의 우려가 있을 경우에는 차수 그라우팅을 실시한 후 굴착하여야 하고 항상 안전대책을 수립하여야 한다.\n",
      "\n",
      "(3) 인력굴착 및 기계굴착을 병행할 경우 각각의 작업범위와 작업방향을 명확히 하고 기계의 작업반경내에 근로자가 출입하지 않도록 방호설비를 하거나 작업지휘자를 반드시 배치하여야 한다.\n"
     ]
    },
    {
     "name": "stderr",
     "output_type": "stream",
     "text": [
      "INFO:httpx:HTTP Request: POST http://localhost:8000/v1/chat/completions \"HTTP/1.1 200 OK\"\n",
      " 67%|██████▋   | 16/24 [02:41<01:30, 11.33s/it]"
     ]
    },
    {
     "name": "stdout",
     "output_type": "stream",
     "text": [
      "--------------------------------\n",
      "Processed: (4) 추진관 내에서 작업하는 근로자의 안전보건에 위해 되지 않도록 관내의 산소농도, 유해가스, 먼지 등의 이상 유무를 점검·측정하여야 하고, 산업 안전보건규칙 별표18 제14호(산소농도가 18퍼센트 미만 23.5퍼센트 이상, 탄산가스농도가 1.5퍼센트 이상, 황화수소농도가 10ppm 이상) 기준이 되지 않도록 신선한 공기가 공급될 수 있도록 송기관 및 배기관이 구비된 환기설비를 설치하여야 한다.\n",
      "\n",
      "(5) 강관굴착 작업에 지장이 없도록 강관내부에 150럭스(Lux) 이상의 안전망을 쌓은 조명장치를 설치하여야 한다.\n",
      "\n",
      "(6) 굴착방법, 반출 토사량을 기준으로 1일 강관압입량을 결정하여야 한다.\n",
      "\n",
      "(7) 굴착작업이 종료된 후에는 건고하게 제작된 막장안정 관마개를 막장 토사의 붕괴방지를 위해 관주변부에 빈공간이 발생하지 않도록 밀실하게 설치하고 강관에 건고하게 용접하여야 한다.\n",
      "\n",
      "(8) 굴착 시 여굴이 발생되면 공사 진행중이거나 공사 완료 후 상부 구조물 및 도로 등의 침하가 우려되고 구조물에도 심각한 영향을 줄 수 있기 때문에 다음과 같은 여굴방지대책을 참고하여 여굴이 발생하지 않도록 주의하여야 한다.\n",
      "\n",
      "(a) 선굴착없이 강관 추진 후 굴착\n",
      "(b) 작업 종료시 굴착이 없는 관추진만 하고 중단\n"
     ]
    },
    {
     "name": "stderr",
     "output_type": "stream",
     "text": [
      "INFO:httpx:HTTP Request: POST http://localhost:8000/v1/chat/completions \"HTTP/1.1 200 OK\"\n",
      " 71%|███████   | 17/24 [02:48<01:09,  9.92s/it]"
     ]
    },
    {
     "name": "stdout",
     "output_type": "stream",
     "text": [
      "--------------------------------\n",
      "Processed: (다) 굴착후에도 흙막이용 토사를 남겨둠.\n",
      "\n",
      "(a) 강관내부 인력 굴착\n",
      "\n",
      "(b) 강관내부 장비 굴착\n",
      "\n",
      "<그림 9> 강관내부 굴착 전경\n",
      "\n",
      "6.3 외부 그라우팅\n",
      "\n",
      "(1) 추진이 완료된 강관의 연결소켓부위는 모두 용접하여 완전 방수가 되도록 하여야 한다.\n",
      "\n",
      "(2) 강관내부에 부착되어 있는 그라우팅 주입밸브를 통해 강관 측벽부 절단시 발생될 수 있는 토사 유출을 방지하기 위한 지반안정 및 차수그라우팅을 실시하여 원지반 이완방지 조치를 취하여야 한다.\n",
      "\n",
      "(3) 강관의 설치도면을 참고하여 1일 추진작업 후 그라우팅량과 순서를 결정\n"
     ]
    },
    {
     "name": "stderr",
     "output_type": "stream",
     "text": [
      "INFO:httpx:HTTP Request: POST http://localhost:8000/v1/chat/completions \"HTTP/1.1 200 OK\"\n",
      " 75%|███████▌  | 18/24 [03:01<01:05, 10.91s/it]"
     ]
    },
    {
     "name": "stdout",
     "output_type": "stream",
     "text": [
      "--------------------------------\n",
      "Processed: (3) 토피가 낮은 강관에서 그라우팅을 실시할 경우 지면으로 솟음 현상이 발생되지 않도록 주의하여야 한다.\n",
      "\n",
      "6.4 강관 절단 및 토압지지대 설치\n",
      "\n",
      "(1) 강관이 토압을 견딜 수 있는 1차 및 2차 절단길이를 결정하여야 한다.\n",
      "\n",
      "(2) 강관을 연결하는 방수철판은 방수가 완벽하게 되도록 접개된 강관과 확실하게 용접하여야 한다.\n",
      "\n",
      "(3) 토압지지대는 구조물이 설치되기 전까지 강관의 변형을 방지하고 하중을 지지하여야 하므로 설계위치에 정확히 설치하여야 하며, 설치 후 공극이 발생하지 않도록 하여야 한다.\n",
      "\n",
      "(4) 토압지지대 설치 시 근로자의 손가락 까입제해가 발생하지 않도록 주의하여야 한다.\n",
      "\n",
      "(5) 관내부에 철판 및 토압지지대 운반 시 2인 1조로 작업하여야 한다.\n",
      "\n",
      "(6) 철판 및 토압지지대를 모두 설치한 후에는 이완된 공극을 체워주기 위해서 철판 상부에 그라우팅을 하여야 하며, 이때 그라우팅은 모든 용접이 완벽하게 이루어진 후에 실시하여야 한다.\n",
      "\n",
      "6.5 강관내 거푸집 설치\n",
      "\n",
      "(1) 거푸집은 콘크리트의 타설속도 등을 고려하여 타설된 콘크리트의 압력에 충분히 견디는 구조이어야 한다.\n",
      "\n",
      "(2) 합판거푸집을 동바리위에 설치할 때 콘크리트 타설 시 움직이지 않도록 단단히 고정하여야 한다.\n",
      "\n",
      "(3) 강재 동바리 위에 합판거푸집을 설치했을 때 방수철판과의 높이가 같도록 설치하여야 한다.\n"
     ]
    },
    {
     "name": "stderr",
     "output_type": "stream",
     "text": [
      "INFO:httpx:HTTP Request: POST http://localhost:8000/v1/chat/completions \"HTTP/1.1 200 OK\"\n",
      " 79%|███████▉  | 19/24 [03:11<00:53, 10.68s/it]"
     ]
    },
    {
     "name": "stdout",
     "output_type": "stream",
     "text": [
      "--------------------------------\n",
      "Processed: 6.6 철근배근 및 콘크리트 타설\n",
      "\n",
      "(1) 강관내 콘크리트 타설 길이, 타설 순서 등에 대한 설계도면을 작성하여야 하고 이를 준수하여 콘크리트를 타설하여야 한다.\n",
      "\n",
      "(2) 강관내부에 규격에 맞는 가공된 철근을 배근도에 의거하여 배근하여야 하며, 이때 철근의 이음은 커플러(Coupler)로 연결하여야 한다.\n",
      "\n",
      "(3) 철근에 절리거나 손상에 주의하고 노출된 철근에는 보호캡을 씌우고 위험표시를 하여야 한다.\n",
      "\n",
      "(4) 근로자들이 좁은 공간에서 철근을 조립하여야 하므로 철근에 의한 협착이나 금속재해가 발생하지 않도록 주의하여야 한다.\n",
      "\n",
      "(5) 강관내 콘크리트 타설을 위해 강관시점과 종점부에 관마개를 설치하여 콘크리트 타설 시 재료의 유출을 방지하여야 한다.\n",
      "\n",
      "(6) 강관내 콘크리트 타설을 위한 콘크리트 타설관과 공극을 채워줄 그라우팅 파이프를 설치하여야 한다.\n",
      "\n",
      "(7) 강관내 콘크리트 타설을 위한 콘크리트 타설관과 공극을 채워줄 그라우팅 파이프를 설치하여야 한다.\n"
     ]
    },
    {
     "name": "stderr",
     "output_type": "stream",
     "text": [
      "INFO:httpx:HTTP Request: POST http://localhost:8000/v1/chat/completions \"HTTP/1.1 200 OK\"\n",
      " 83%|████████▎ | 20/24 [03:22<00:43, 10.75s/it]"
     ]
    },
    {
     "name": "stdout",
     "output_type": "stream",
     "text": [
      "--------------------------------\n",
      "Processed: (8) 콘크리트 타설지역외 다른 구간은 거푸집만 먼저 설치하고 선행부 콘크리트를 타설한 후 철근을 배근하여 작업에 방해가 없도록 하여야 한다.\n",
      "\n",
      "(9) 펌프카를 이용하여 콘크리트 타설 시 펌프카의 전도방지 조치를 취하여야 한다.\n",
      "\n",
      "<그림 11> 강관내 철근배근 전경\n",
      "\n",
      "6.7 내부굴착 및 영구버팀대 설치\n",
      "\n",
      "(1) 구조물벽체 콘크리트를 충분히 양생하여 소정의 강도가 발현된 후에 내부를 굴착하고, 강관절단 및 강재동바리를 제거하여야 한다.\n",
      "\n",
      "(2) 강관, 강재동바리, 합판거푸집 등을 장비를 이용하여 제거 시 구조물벽체 콘크리트에 파손이나 긁힘이 발생하지 않도록 주의하여야 한다.\n",
      "\n",
      "(3) 하단부 스티로폼 거푸집 제거 시 관내부 스티로폼에 붙어 있는 방수제는 제거되지 않도록 주의하여야 한다.\n",
      "\n",
      "(4) 영구버팀보는 추진기지에서부터 내부 굴착을 진행하면서 설치하되 내부토사가 함몰되기 전까지만 굴착한 다음 즉시 설치하여야 한다.\n",
      "\n",
      "(5) 영구버팀보는 강관에 연결용접하고 보강철판을 추가로 설치하여 그 연결성을 보강해 주어야 한다.\n",
      "\n",
      "(6) 버림콘크리트 높이는 영구버팀보 상부와 동일하게 시공하여야 한다.\n"
     ]
    },
    {
     "name": "stderr",
     "output_type": "stream",
     "text": [
      "INFO:httpx:HTTP Request: POST http://localhost:8000/v1/chat/completions \"HTTP/1.1 200 OK\"\n",
      " 88%|████████▊ | 21/24 [03:31<00:30, 10.09s/it]"
     ]
    },
    {
     "name": "stdout",
     "output_type": "stream",
     "text": [
      "--------------------------------\n",
      "Processed: 6.8 하부슬래브 철근배근 및 콘크리트 태설\n",
      "\n",
      "(1) 하부슬래브 횡방향 철근은 규격에 맞는 가공 철근을 배근도에 의거하여 배근하고, 철근의 이음은 커플러를 이용하여 벽체 철근에 연결하여야 한다.\n",
      "\n",
      "6.9 내부 정리 및 마무리\n",
      "\n",
      "(1) 토압지지대 제거 부위에는 얇은 철망을 강관에 견고하게 용접부착하고 모르타르 채움을 하여 상부의 진동에 의한 탈락이 발생하지 않도록 하여야 한다.\n",
      "\n",
      "(2) 거푸집 위치 및 토압지지대 소켓 위치의 거친 면은 그라인더를 이용하여 깨끗하게 내부면 처리를 하여야 한다.\n",
      "\n",
      "(3) 내부 정리에 사용되는 이동식 비계에는 안전난간을 설치하여야 하고, 작업 시 움직임이 없도록 견고하게 고정되어 있어야 한다.\n",
      "\n",
      "6.10 추진기지 해체\n",
      "\n",
      "(1) 크레인을 이용하여 자재 인양 시 근로자들이 맞을 재해를 당하지 않도록 주의하여야 한다.\n"
     ]
    },
    {
     "name": "stderr",
     "output_type": "stream",
     "text": [
      "INFO:httpx:HTTP Request: POST http://localhost:8000/v1/chat/completions \"HTTP/1.1 200 OK\"\n",
      " 92%|█████████▏| 22/24 [03:44<00:22, 11.01s/it]"
     ]
    },
    {
     "name": "stdout",
     "output_type": "stream",
     "text": [
      "--------------------------------\n",
      "Processed: 7. 용접 및 용단 작업 시 주의사항\n",
      "\n",
      "(1) 시공순서 및 재료의 특성에 맞는 용접절차 사양서를 작성하여야 하고, 필 요시 감독관 또는 감리자의 승인을 얻어야 한다.\n",
      "\n",
      "(2) 용접시공 요령을 작업자에게 철저히 숙지하여 이를 지킬 수 있도록 하여야 한다.\n",
      "\n",
      "(3) 용접전류, 전압, 속도, 종류 등을 표지판에 기입하고 현장관리를 하여야 한다.\n",
      "\n",
      "(4) 용접전원 및 장치는 충분한 수전용량을 확인하고 용접부의 품질을 보증할 수 있는 것으로 하여 용접개시 시 용접기 등의 계기류의 교정을 하여야 한다.\n",
      "\n",
      "(5) 용접작업 전에 용접작업자는 부재의 청소상태, 건조상태를 점검하여 양호한 결과를 확인한 후에 작업에 착수하도록 하여야 한다.\n",
      "\n",
      "(6) 용접의 재료는 다음 사항에 주의하여야 한다.\n",
      "\n",
      "  (가) 용접재료는 소요강도, 용접성을 고려하여 적절한 것을 선택하여야 한다.\n",
      "\n",
      "  (나) 부위별 용접재료 구분을 명확히 하고 이에 따른 관리요령을 작성하여 관리하여야 한다.\n",
      "\n",
      "  (다) 피복 벗겨짐이나 습윤 상태의 용접재료를 사용해서는 안 된다.\n",
      "\n",
      "  (라) 용접재료는 사용에 앞서 반드시 건조로에 건조 후 보관 사용하며, 피 복아크용접봉 및 플럭스(Flux) 등의 사용 시에는 이동식 건조로에 보관하여 사용해야 한다(보온온도 120℃).\n",
      "\n",
      "  (마) 건조 및 보온은 용접재료에 따라 관리조건이 다르므로 각각 구분하여 표지판에 기입하여 현장 관리하여야 한다.\n",
      "\n",
      "(4) 현장 용접의 경우 다음 사항을 준수하여야 한다.\n"
     ]
    },
    {
     "name": "stderr",
     "output_type": "stream",
     "text": [
      "INFO:httpx:HTTP Request: POST http://localhost:8000/v1/chat/completions \"HTTP/1.1 200 OK\"\n",
      " 96%|█████████▌| 23/24 [04:02<00:13, 13.01s/it]"
     ]
    },
    {
     "name": "stdout",
     "output_type": "stream",
     "text": [
      "--------------------------------\n",
      "Processed: (가) 용접공은 KS B 0885에 정한 기술수준에 적합한 자가 시행하여야 하며, 용접착 수전 용접공의 자격증 사본, 경력증명서를 제출하여 승인을 득하여야 한다.\n",
      "(나) 용접할 표면을 스케일이나 슬래그, 그리스, 페이트 시멘트 오물 등의 이물질이 부착되어서는 안된다.\n",
      "(다) 용접표면은 매끄럽고 일정한 표면이어야 하며, 용접에 나쁜 영향을 가칠 염려가 있는 결함이 없어야 한다.\n",
      "(라) 기온이 0℃이하일 때는 중지하여야 한다.\n",
      "(마) 용접시 눈비에 노출되거나 강풍이 부는 동안은 적절한 차폐막으로 보호하여야 한다.\n",
      "(바) 형강용접이음은 아크용접으로 하며, 용접봉은 KS E 4316으로 한다.\n",
      "(사) 용접부의 검사와 관련 검사를 하되 특감감자가 지정하는 곳은 염색침투망법을 실시한다.(1회/20본)\n",
      "\n",
      "(5) 가스용단작업 시 다음 사항을 준수하여야 한다.\n",
      "(가) 가스용기는 열원으로부터 멀리 떨어진 곳에 세워 보관하고 전도방지 조치를 하여야 한다.\n",
      "(나) 가스호스는 꼬이거나 손상되지 않도록 하여야 하며, 용기에 감어서 사용하여서는 아니된다.\n",
      "(다) 검사받은 압력조정기를 사용하고 안전밸브 작동 시에는 화재·폭발 등에 의 위험이 없도록 가스용기를 연결하여야 한다.\n",
      "(라) 토치와 호스연결부 사이에는 역화방지를 위한 안전장치를 설치하여야 한다.\n",
      "(마) 호스 등의 접속부분은 호스밴드, 클립 등의 조임기구를 사용하여 확실하게 조여주어야 한다.\n",
      "(바) 작업을 중단하거나 작업장을 떠날 때에는 공급구의 밸브, 캡을 반드시 잠궈두어야 한다.\n",
      "\n",
      "(6) 가스용기 보관·취급 시 다음 사항을 준수하여야 한다.\n",
      "(가) 위험장소, 통풍이 안되는 장소에 보관, 방치하지 않는다.\n",
      "(나) 용기온도를 40℃이하로 유지한다.\n",
      "(다) 충격을 가하지 않도록 하고 충격에 대비하여 방호울 등을 설치한다.\n",
      "(마) 운반시 캡을 씹어 충격에 대비한다.\n",
      "(바) 사용시 용기의 마개 주위에 있는 유류, 먼지를 제거한다.\n",
      "(사) 밸브는 서서히 열어 감자가 분출되지 않도록 하고 충격에 대비한다.\n"
     ]
    },
    {
     "name": "stderr",
     "output_type": "stream",
     "text": [
      "INFO:httpx:HTTP Request: POST http://localhost:8000/v1/chat/completions \"HTTP/1.1 200 OK\"\n",
      "100%|██████████| 24/24 [04:05<00:00, 10.22s/it]\n"
     ]
    },
    {
     "name": "stdout",
     "output_type": "stream",
     "text": [
      "--------------------------------\n",
      "Processed: (아) 사용중 용기와 사용전 용기를 명확히 구별하여 보관한다.\n",
      "(자) 용기의 부식, 마모, 변형상태 점검후 사용한다.\n",
      "\n",
      "<그림 13> 강관내부 용접 전경\n",
      "---End---\n",
      "Processing 건축물의 석공사(내외장) 안전보건작업 기술지침\n"
     ]
    },
    {
     "name": "stderr",
     "output_type": "stream",
     "text": [
      "  0%|          | 0/10 [00:00<?, ?it/s]INFO:httpx:HTTP Request: POST http://localhost:8000/v1/chat/completions \"HTTP/1.1 200 OK\"\n",
      " 10%|█         | 1/10 [00:02<00:22,  2.54s/it]"
     ]
    },
    {
     "name": "stdout",
     "output_type": "stream",
     "text": [
      "--------------------------------\n",
      "Processed: 건축물의 석공사 (내·외장) 안전보건작업 기술지침\n",
      "\n",
      "2017. 11.\n",
      "\n",
      "한국 산업 안전보건공단\n"
     ]
    },
    {
     "name": "stderr",
     "output_type": "stream",
     "text": [
      "INFO:httpx:HTTP Request: POST http://localhost:8000/v1/chat/completions \"HTTP/1.1 200 OK\"\n",
      " 20%|██        | 2/10 [00:15<01:08,  8.59s/it]"
     ]
    },
    {
     "name": "stdout",
     "output_type": "stream",
     "text": [
      "--------------------------------\n",
      "Processed: 안전보건기술지침의 개요\n",
      "\n",
      "○ 제정자 : 안전보건공단 김경순\n",
      "○ 개정자 : 안전보건공단 산업안전보건연구원 정성준\n",
      "\n",
      "○ 제·개정경과\n",
      "- 2008년 7월 건설안전분야 제정위원회 심의\n",
      "- 2008년 8월 총괄제정위원회 심의\n",
      "- 2012년 7월 건설안전분야 제정위원회 심의(개정)\n",
      "- 2017년 10월 건설안전분야 제정위원회 심의(개정)\n",
      "\n",
      "○ 관련규격 및 자료\n",
      "- 석공사 가이드(대한전문건설협회 석공사업 협의회)\n",
      "- KOSHA GUIDE C-8-2015(작업발판 설치 및 사용 안전 지침)\n",
      "- 국가건설기준 표준시방서[KCS(Korean Construction Specification)]_건축공사_석공사\n",
      "\n",
      "○ 관련법규・규칙・고시 등\n",
      "- 산업안전보건기준에 관한 규칙 제1편 제6장(추락 또는 붕괴에 의한 위험예방)\n",
      "- 추락재해방지표준안전작업지침(고용노동부고시 제2012-95호)\n",
      "- 가설공사 표준안전 작업지침(고용노동부고시 제2012-92호)\n",
      "\n",
      "○ 기술지침의 적용 및 문의\n",
      "- 이 기술지침에 대한 의견 또는 문의는 한국산업안전보건공단 홈페이지(www.kosha.or.kr) 안전보건기술지침 소관 문야별 문의처 안내를 참고하시기 바랍니다.\n",
      "- 동 지침 내에서 인용된 관련규격 및 자료, 법규 등에 관한 최근 개정본이 있을 경우에는 해당 개정본의 내용을 참고하시기 바랍니다.\n",
      "\n",
      "공표일자 : 2017년 11월 27일\n",
      "제 정 자 : 한국산업안전보건공단 이사장\n"
     ]
    },
    {
     "name": "stderr",
     "output_type": "stream",
     "text": [
      "INFO:httpx:HTTP Request: POST http://localhost:8000/v1/chat/completions \"HTTP/1.1 200 OK\"\n",
      " 30%|███       | 3/10 [00:21<00:53,  7.62s/it]"
     ]
    },
    {
     "name": "stdout",
     "output_type": "stream",
     "text": [
      "--------------------------------\n",
      "Processed: 1. 목적\n",
      "\n",
      "이 지침은 건축물의 석공사(내, 외장) 작업 과정에서의 안전보건작업을 도모하고 재해예방에 필요한 기술지침을 정함을 목적으로 한다.\n",
      "\n",
      "2. 적용범위\n",
      "\n",
      "이 지침은 건물의 내, 외부 바닥, 벽체, 계단 등에 습식공법으로 설치하거나 연결철물을 사용하여 벽체 등에 건식공법으로 설치하는 공사에 적용한다.\n",
      "\n",
      "3. 정의\n",
      "\n",
      "(1) 이 지침에서 사용되는 용어의 정의는 다음과 같다.\n",
      "\n",
      "(가) \"습식공법(Wet wall support system)\"이라 함은 <그림 1>과 같이 연결철물과 채움 모르타르로 석재와 구조체를 일체화하여 석재를 벽체에 설치하는 공법을 말한다.\n"
     ]
    },
    {
     "name": "stderr",
     "output_type": "stream",
     "text": [
      "INFO:httpx:HTTP Request: POST http://localhost:8000/v1/chat/completions \"HTTP/1.1 200 OK\"\n",
      " 40%|████      | 4/10 [00:31<00:50,  8.38s/it]"
     ]
    },
    {
     "name": "stdout",
     "output_type": "stream",
     "text": [
      "--------------------------------\n",
      "Processed: (나) “건식공법(Dry wall support system)”이라 함은 <그림 2>와 같이 구조재에 모르타르를\n",
      "사용하지 않고 연결재만 사용하여 석재를 벽체에 설치하는 공법을 말한다.\n",
      "\n",
      "<그림 2> 건식공법(예)\n",
      "\n",
      "(다) “연결재(Fastener)”라 함은 서로 떨어져 있는 석재와 구조재를 결속하여 구조재에\n",
      "석재의 하중을 전달하는 철물 등을 말한다.\n",
      "\n",
      "(라) “실란트(Sealant)”라 함은 석재와 석재 사이의 접합부분에 채워 수밀성, 기밀성 등의\n",
      "성능을 향상시키기 위한 재료를 말한다.\n",
      "\n",
      "(마) “먹매김”이라 함은 석재를 붙이기 위한 바닥이나 벽에 먹돌과 먹통을 이용해서\n",
      "먹줄을 넣는 것을 말한다.\n",
      "\n",
      "(바) “촉”이라 함은 석재를 서로 이음이나 끼울 때에 구멍에 기우려고 만든 철물\n",
      "등의 핀을 말한다.\n",
      "\n",
      "(2) 그 밖의 용어의 정의는 이 지침에서 특별한 규정이 있는 경우를 제외하고는\n",
      "산업안전보건법, 같은 법 시행령, 같은 법 시행규칙, 안전보건규칙 및 관련 고시\n",
      "에서 정하는 바에 따른다.\n"
     ]
    },
    {
     "name": "stderr",
     "output_type": "stream",
     "text": [
      "INFO:httpx:HTTP Request: POST http://localhost:8000/v1/chat/completions \"HTTP/1.1 200 OK\"\n",
      " 50%|█████     | 5/10 [00:43<00:48,  9.76s/it]"
     ]
    },
    {
     "name": "stdout",
     "output_type": "stream",
     "text": [
      "--------------------------------\n",
      "Processed: 4. 자재 반입 및 준비작업 시 안전조치 사항\n",
      "\n",
      "(1) 현장 여건을 고려하여 자재반입, 운반, 적재, 양중, 설치 작업 시 근로자 떨어짐 및 자재 등 낙하물에 의한 맞음 방지계획 등이 포함된 안전 작업계획을 수립하여야 한다.\n",
      "\n",
      "(2) 자재반입은 현장 작업공정을 고려하여 공장에서 순서에 맞게 반입하고, 바닥재 및 벽재 등 용도별로 부재를 적재하여야 한다.\n",
      "\n",
      "(3) 자재반입 시는 적재높이, 적재방법 등을 사전에 검토한 후 반입하고, 반입된 부재가 전도 또는 외력에 의한 충격에 파손되지 않도록 지정된 장소에 적재하여야 한다.\n",
      "\n",
      "(4) 반입된 자재의 하역작업은 단위자재별 중량 및 적재상태 등을 고려하여 적절한 하역방법을 선정하여야 한다.\n",
      "\n",
      "(5) 하역작업 시에는 신호수를 배치하여 정해진 신호에 따라야 하며 신호는 장비 운전원이 잘 볼 수 있는 곳에서 하여야 한다.\n",
      "\n",
      "(6) 석재를 하역하여 다른 장소로 운반할 경우에는 석재의 중량과 형상을 고려하여 운반 방법을 선택하여야 한다.\n",
      "\n",
      "(7) 지게차를 이용하여 석재를 하역할 경우에는 KOSHA GUIDE M-185-2015(지게차의 안전작업에 관한 기술지침)에 따른다.\n",
      "\n",
      "(8) 석공사를 위해 비계를 조립하고 작업발판을 설치할 경우에는 KOSHA GUIDE C-30-2011(강관비계 설치 및 사용안전 지침) 및 KOSHA GUIDE C-08-2015(작업발판 설치 및 사용안전 지침)에 따른다.\n"
     ]
    },
    {
     "name": "stderr",
     "output_type": "stream",
     "text": [
      "INFO:httpx:HTTP Request: POST http://localhost:8000/v1/chat/completions \"HTTP/1.1 200 OK\"\n",
      " 60%|██████    | 6/10 [00:57<00:44, 11.01s/it]"
     ]
    },
    {
     "name": "stdout",
     "output_type": "stream",
     "text": [
      "--------------------------------\n",
      "Processed: 5. 석재 설치 작업 시 안전조치 사항\n",
      "\n",
      "5.1 일반사항\n",
      "\n",
      "(1) 석재 설치 작업 시 위험요인 및 안전대책이 포함된 안전작업계획서를 작성하고 이에 따라 작업하여야 한다.\n",
      "\n",
      "(2) 안전작업계획서 수립 시 다음 사항을 검토하여 반영하여야 한다.\n",
      "   (가) 석재의 형태, 중량, 기상조건, 작업범위 등을 고려한 일정 수립\n",
      "   (나) 양중장비의 종류, 설치 장소 및 양중방법\n",
      "   (다) 근로자 동원 및 구성\n",
      "   (라) 전·후 작업의 진행 여부\n",
      "   (마) 가설전기 사용에 따른 계획\n",
      "   (바) 석재 설치에 따른 구조적 안전성 검토 여부\n",
      "\n",
      "(3) 설치한 석재의 낙하 등을 예방하기 위해 구조체가 설계기준강도 이상이거나, 바탕면이 시공된 후 1개월 이상 경과한 후 붙이기 작업을 하여야 한다.\n",
      "\n",
      "(4) 벽의 최하단에 석재를 설치하기 위해서는 슬래브(Slab) 또는 기초 등이 없는 부분에는 석재붙임 완료 후 영구적으로 침하가 되지 않는 구조의 브라켓(Bracket)이나 기초를 설치해야 한다.\n",
      "\n",
      "(5) 석재 설치 작업 시 떨어짐 재해를 예방하기 위해 안전난간과 승강통로가 확보된 작업발판을 설치하여야 하고, 또한 자재의 낙하에 의한 물체에 맞음 재해를 예방하기 위하여 낙하물 방지망, 수직보호망 및 또는 방호선반의 설치, 출입금지구역의 설정, 보호구의 착용 등 위험을 방지하기 위하여 필요한 조치를 하여야 한다. 이 경우 필요한 조치는 실란트 작업 등 마감작업이 완료 될 때까지 안전한 상태를 유지하여야 한다.\n",
      "\n",
      "(6) 크레인을 이용하여 석재를 양중 할 때는 자재가 낙하하지 않도록 석재의 결속 상태를 확인하여야 한다.\n"
     ]
    },
    {
     "name": "stderr",
     "output_type": "stream",
     "text": [
      "INFO:httpx:HTTP Request: POST http://localhost:8000/v1/chat/completions \"HTTP/1.1 200 OK\"\n",
      " 70%|███████   | 7/10 [01:11<00:36, 12.06s/it]"
     ]
    },
    {
     "name": "stdout",
     "output_type": "stream",
     "text": [
      "--------------------------------\n",
      "Processed: (7) 리프트를 이용하여 석재를 운반할 경우에는 리프트의 과부하방지장치, 권과방지장치 등 안전장치의 정상작동 여부를 확인하여야 한다.\n",
      "\n",
      "(8) 석재의 현장가공을 위해 전동식 절단기를 사용할 때는 이중 절연구조의 절단기를 사용하여야 한다.\n",
      "\n",
      "(9) 이동식 전동기계·기구는 접지를 실시하거나 누전차단기와 결속하여 접연과손에 의한 감전재해를 예방하여야 한다.\n",
      "\n",
      "(10) 현장 석재가공 시 발생하는 소음과 분진으로부터 근로자를 보호하기 위해 귀마개, 방진마스크 등 개인보호구를 착용하도록 하여야 한다.\n",
      "\n",
      "(11) 전동식 윈치를 이용하여 석재를 운반할 경우에는 윈치의 고정지점 등 지지방법의 안전성을 사전에 검토하고, 윈치의 권과방지장치, 과부하방지장치 등 안전장치의 이상 유무를 확인하여야 한다.\n",
      "\n",
      "(12) 전동식 윈치에 의한 석재 양중작업 시 석재가 다른 물체에 부딪혀 탈락하지 않도록 유도 로프를 사용하여야 하고, 윈치를 비계상에 설치할 경우에는 혼들림 방지를 위하여 보강조치를 하여야 한다.\n",
      "\n",
      "(13) 고소작업차를 사용할 경우에는 KOSHA GUIDE M-86-2011(고소작업차 안전운전 지침)의 규정에 따른다.\n",
      "\n",
      "(14) 리프트, 곤돌라, 크레인 등 양중장비를 사용할 경우에는 KOSHA GUIDE M-79-2011(양중설비의 관리에 관한 지침)의 규정에 따른다.\n",
      "\n",
      "(15) 석재를 인력운반 할 경우에는 KOSHA GUIDE G-119-2015(인력운반 안전작업에 관한 지침)의 규정에 따른다.\n",
      "\n",
      "(16) 건축물 외부 석공사 작업 시 비, 눈 그 밖의 기상상태의 불안정으로 날씨가 몹시 나쁜 경우에는 작업을 중지하여야 한다.\n"
     ]
    },
    {
     "name": "stderr",
     "output_type": "stream",
     "text": [
      "INFO:httpx:HTTP Request: POST http://localhost:8000/v1/chat/completions \"HTTP/1.1 200 OK\"\n",
      " 80%|████████  | 8/10 [01:25<00:25, 12.84s/it]"
     ]
    },
    {
     "name": "stdout",
     "output_type": "stream",
     "text": [
      "--------------------------------\n",
      "Processed: 5.2 판 석재 바닥 깔기\n",
      "\n",
      "(1) 석재를 인력으로 들어올리는 작업을 하는 때에는 과도한 중량으로 인하여 근로자의 목, 허리 등 근골격계에 무리한 부담을 주지 않도록 하여야 한다.\n",
      "\n",
      "(2) 석재의 중량과 형상을 고려하여 무게중심을 낮추고 대상물에 몸을 밀착하는 등 신체에 부담을 감소시킬 수 있는 자세에 대해 근로자에게 알려야 한다.\n",
      "\n",
      "(3) 석재의 무게가 5kg(49N) 이상인 중량물을 들어올리는 작업을 하는 때에는 석재 중량과 무게중심에 대하여 작업장 주변에 안내표시를 하여야 한다.\n",
      "\n",
      "(4) 판 석재를 붙이는 작업 시 손 등의 침입 재해를 예방하기 위해 붙이는 순서에 의한 관례를 능이고, 위치 조정 시 무리한 힘을 주지 않아야 한다.\n",
      "\n",
      "(5) 석재블리마 동시에 석재표면으로부터 3~5 mm 이상의 깊이까지 시멘트 페이스트를 밀실하게 주입 충진하여야 한다.\n",
      "\n",
      "(6) 바닥 석재 시공 후 근로자의 미끄럼 방지와 석재 표면보호를 위해 보양재로 덮어 주어야 한다.\n",
      "\n",
      "5.3 판 석재 벽 붙이기\n",
      "\n",
      "5.3.1 습식공법\n",
      "\n",
      "(1) 사층모르타르의 재료로 사용하는 시멘트와 모래의 허용기준과 배합비는 국가건설 기준_건축공사_석공사(KCS 41 35 00) 기준에 따른다.\n",
      "\n",
      "(2) 붙여진 석재의 낙하를 방지하기 위해 하단의 석재에 충격을 주지 않도록 하고, 하단석재 사이에 쐐기를 끼우고 연결철물을 사용하여 고정한 후 사층모르타르로 채워야 한다.\n",
      "\n",
      "(3) 사층모르타르를 혼합할 때는 시멘트 분진에 의한 건강장해를 예방하기 위해 방진 마스크 등 개인용 보호구를 착용하도록 하여야 한다.\n"
     ]
    },
    {
     "name": "stderr",
     "output_type": "stream",
     "text": [
      "INFO:httpx:HTTP Request: POST http://localhost:8000/v1/chat/completions \"HTTP/1.1 200 OK\"\n",
      " 90%|█████████ | 9/10 [01:41<00:13, 13.81s/it]"
     ]
    },
    {
     "name": "stdout",
     "output_type": "stream",
     "text": [
      "--------------------------------\n",
      "Processed: (4) 세로 맞댐 면에는 촉, 연결철물, 격쇠를 사용하여 붙여내고 모서리 구석은 격쇠로 고정하여 석재의 변형과 낙하를 방지하여야 한다.\n",
      "\n",
      "(5) 사춘모르타르를 채우기 전에 모르타르가 흘러나오지 않도록 줄눈에 발포플라스틱 등으로 막아야 한다.\n",
      "\n",
      "(6) 사춘모르타르의 경화정도를 보고 줄눈에 기운 발포 플라스틱재를 제거하고 줄눈 과기를 하여야 한다.\n",
      "\n",
      "(7) 1일 작업을 마무리 할 경우에는 폭우 등 외부환경요인에 의해 석재 또는 부속철물의 낙하방지를 위해 상부에 보호덮개나 견고한 구조의 방호선반을 설치하여야 한다.\n",
      "\n",
      "(8) 석재를 붙이는 면에 외부 강관비계의 벽연결이 있을 경우에는 기준강도 이상의 보강재를 설치하고 벽연결을 해제하여야 한다.\n",
      "\n",
      "(9) 석재를 설치하기 위하여 비계 위에 석재를 적재하는 때에는 비계구조의 안전성을 고려하여 허용하중을 정하고 이를 초과하여 적재하지 아니하도록 하여야 하며, 근로자가 쉽게 알 수 있도록 허용적재하중(석재의 개수 등)을 표기하여야 한다. 또한 작업자, 모르타르, 석재 및 연결철물 등의 하중을 고려하여 집중하중의 작용을 피하고, 비계상에 균등하게 분산배치되도록 하여야 한다.\n",
      "\n",
      "5.3.2 건식공법\n",
      "\n",
      "(1) 석재를 부착하기 전에 바탕처리 및 기준 먹메김, 창호, 기타 매설물의 설치 고정 등에 대하여 검사하고 앵커볼트의 위치에 구멍을 뚫고 구멍을 깨끗이 청소하여야 한다.\n",
      "\n",
      "(2) 석재 부착 시 앵커볼트 및 연결철물(긴결재, 촉)은 1개의 석재에 2개소 이상 설치하여야 하며 석재의 크기 및 중량, 바탕건조 등에 따라 설치위치, 규격 등에 대한 구조 검토를 하여야 한다.\n",
      "\n",
      "(3) 앵커볼트 설치를 위해 전동식 드릴을 사용할 때는 접지를 실시하거나 누전차단기와 결속하여 접연파손에 의한 감전재해를 예방하여야 한다.\n"
     ]
    },
    {
     "name": "stderr",
     "output_type": "stream",
     "text": [
      "INFO:httpx:HTTP Request: POST http://localhost:8000/v1/chat/completions \"HTTP/1.1 200 OK\"\n",
      "100%|██████████| 10/10 [01:55<00:00, 11.59s/it]\n"
     ]
    },
    {
     "name": "stdout",
     "output_type": "stream",
     "text": [
      "--------------------------------\n",
      "Processed: (4) 앵커볼트 및 1차 긴결재를 설치한 다음 수직, 수평 기준선을 띄우고 최 하단 석재의 하단부에 쐐기를 끼워 고정하고, 바닥으로부터 30 cm 높이까지 석재배면에 시멘트 모르타르를 밀실하게 충진하여 상부 하중에 안전하도록 하여야 한다.\n",
      "\n",
      "(5) 최 하단 석재 설치 완료 후 하단 석재의 상단에 설치되어 있는 쐐에 맞추어 상부 석재를 가 설치 한 다음 상부석재의 상단부를 1차 및 2차 긴결재, 쐐 등에 의하여 연결 조립 시켜야 한다.\n",
      "\n",
      "(6) 긴결재 앵커의 구멍은 적정규격을 사용하고 인발력을 검토하고, 너트 조임시 회전 안발되지 않도록 고정하여야 한다.\n",
      "\n",
      "(7) 긴결재는 편심이 생기지 않게 직선으로 설치하고 조절 가능한 제품을 사용여야 한다.\n",
      "\n",
      "(8) 긴결재 고정을 위해 사용하는 앵커는 콘크리트 가장자리에 설치하면 콘크리트가 깨져 긴결재가 탈락할 우려가 있으므로 앵커의 고정 지점을 확인하여야 한다.\n",
      "\n",
      "5.4 실란트 작업\n",
      "\n",
      "(1) 실란트는 석재를 오염시키지 않는 것으로 사용하며, 재료의 보관, 충전, 보양 등은 국가건설기준_건축공사_석공사(KCS 41 35 00) 기준에 따른다.\n",
      "\n",
      "(2) 실란트 작업은 작업발판을 해체하기 전에 하여야 하며, 근로자의 추락재해예방을 위해 안전대 부착설비, 보호구 착용 등에 대한 조치를 하여야 한다.\n",
      "\n",
      "(3) 실란트에 유해화학물질이 함유된 경우에는 화학물질의 명칭, 성분, 함유량, 안전, 보건상의 취급주의 사항 등이 포함된 물질안전보건자료(MSDS)를 작성하여 취급근로자가 쉽게 볼 수 있는 장소에 게시 또는 비치하여야 한다.\n",
      "---End---\n",
      "Processing 트러스거더 교량공사 안전보건작업지침\n"
     ]
    },
    {
     "name": "stderr",
     "output_type": "stream",
     "text": [
      "  0%|          | 0/22 [00:00<?, ?it/s]INFO:httpx:HTTP Request: POST http://localhost:8000/v1/chat/completions \"HTTP/1.1 200 OK\"\n",
      "  5%|▍         | 1/22 [00:02<00:49,  2.36s/it]"
     ]
    },
    {
     "name": "stdout",
     "output_type": "stream",
     "text": [
      "--------------------------------\n",
      "Processed: 트러스거더 교량공사 안전보건작업 지침\n",
      "\n",
      "2013. 9.\n",
      "\n",
      "한국산업안전보건공단\n"
     ]
    },
    {
     "name": "stderr",
     "output_type": "stream",
     "text": [
      "INFO:httpx:HTTP Request: POST http://localhost:8000/v1/chat/completions \"HTTP/1.1 200 OK\"\n",
      "  9%|▉         | 2/22 [00:10<01:53,  5.65s/it]"
     ]
    },
    {
     "name": "stdout",
     "output_type": "stream",
     "text": [
      "--------------------------------\n",
      "Processed: 안전보건작업지침의 개요\n",
      "\n",
      "○ 작성자 : 한국안전학회 백신원\n",
      "\n",
      "○ 제·개정 경과\n",
      "\n",
      "- 2013년 9월 건설안전분야 제정위원회 심의(제정)\n",
      "\n",
      "○ 관련규격 및 자료\n",
      "\n",
      "- 최신 교량공학(동명사, 황학주)\n",
      "- 도로교 표준시방서(대한토목학회)\n",
      "- 교량공사(트러스거더교) 시공자료\n",
      "- KS D ISO 10721-2 : 강구조물-제2부 : 조립 및 가설\n",
      "\n",
      "○ 관련법규·규칙·고시 등\n",
      "\n",
      "- 산업안전보건기준에 관한 규칙 제379조~제393조\n",
      "\n",
      "○ 작업지침의 적용 및 문의\n",
      "\n",
      "이 작업지침에 대한 의견 또는 문의는 한국산업안전보건공단 홈페이지 안전보건기술지침 소관 분야별 문의처 안내를 참고하시기 바랍니다.\n",
      "\n",
      "공표일자 : 2013년 10월 2일\n",
      "제 정 자 : 한국산업안전보건공단 이사장\n"
     ]
    },
    {
     "name": "stderr",
     "output_type": "stream",
     "text": [
      "INFO:httpx:HTTP Request: POST http://localhost:8000/v1/chat/completions \"HTTP/1.1 200 OK\"\n",
      " 14%|█▎        | 3/22 [00:23<02:52,  9.09s/it]"
     ]
    },
    {
     "name": "stdout",
     "output_type": "stream",
     "text": [
      "--------------------------------\n",
      "Processed: 트러스거더 교량공사 안전보건작업지침\n",
      "\n",
      "1. 목 적\n",
      "\n",
      "이 지침은 교량 상부 종류중 비교적 중량이 가벼운 트러스거더를 크레인공법 으로 인양 설치하고 슬래브를 콘크리트로 시공하는 트러스거더 교량공사 시 발생하기 쉬운 떨어짐, 부딪힘, 무너짐, 감전 등의 재해를 예방하기 위하여 필 요한 작업 단계별 안전사항 및 안전시설에 관한 기술적 사항 등을 정함을 목 적으로 한다.\n",
      "\n",
      "2. 적용범위\n",
      "\n",
      "이 지침은 교량공사중에서 트러스거더를 공장에서 제작 반입하여 현장에서 조립하고 필요시 가설벤트를 설치한 다음 크레인을 이용하여 인양 거치 후 슬래 브를 콘크리트로 타설하여 교량의 상부 구조물을 완성하는 트러스거더 공법에 적용한다.\n",
      "\n",
      "3. 용어의 정의\n",
      "\n",
      "(1) 이 지침에서 사용되는 용어의 정의는 다음과 같다.\n",
      "\n",
      "(가) \"트러스(Truss)\"라 함은 몇 개의 강재 직선부재를 한 평면내에서 연속된 삼각형의 뼈대 구조로 조립한 것을 말한다. 삼각형구조는 외력이 작용할 때 가장 안정한 구조물로 알려져 있고 트러스 형식은 간단하면서도 역학 적으로 이해하기 쉽다는 장점 때문에 널리 사용되고 있다. 트러스 구조 를 성립시키기 위해서는 다음과 같은 가정이 필요하다.\n",
      "① 트러스 부재의 연결은 핀으로 연결되어 모든 부재는 축력만 전달\n",
      "② 모든 하중과 반력은 트러스 격점에 위치\n",
      "③ 모든 부재는 직선이며 격점은 해당부재의 교차점에 위치\n",
      "④ 트러스의 축방향 변형은 미소하며 전체 구조에 영향을 주지 않음.\n"
     ]
    },
    {
     "name": "stderr",
     "output_type": "stream",
     "text": [
      "INFO:httpx:HTTP Request: POST http://localhost:8000/v1/chat/completions \"HTTP/1.1 200 OK\"\n",
      " 18%|█▊        | 4/22 [00:32<02:46,  9.25s/it]"
     ]
    },
    {
     "name": "stdout",
     "output_type": "stream",
     "text": [
      "--------------------------------\n",
      "Processed: (나) \"트러스거더 교량(Truss girder bridge)\"이라 함은 곧은 부재를 부재 끝 부분에서 마찰이 없는 힌지(Hinge)로 결합한 삼각형의 뼈대 구조를 기본으로 하여 교량에 적합한 구조물, 즉 트러스를 이용한 교량을 말한다. 트러스교를 이루고 있는 주요구조는 주트러스(Main truss), 수평브레이싱(Lateral bracing), 수직브레이싱(Sway bracing) 및 바닥틀(Floor system) 등이다. 트러스교는 일반적으로 지간이 50∼100미터 정도에 알맞는 형식으로, 비교적 작은 중량의 부재를 순차 조립하여 큰 강성을 얻을 수 있으므로 외팔보 공법(Free Cantilever Method)의 채용이 다른 형식보다 유리하며, 또한 개개 부재의 단면이 작기 때문에 운반이 용이하며, 해협이나 산간 계곡 등에 적합한 교량이다.\n",
      "\n",
      "(다) \"주트러스(Main truss)\"라 함은 수직하중을 지지하고 그 하중을 교대 및 교각으로 전달하는 트러스의 주부재를 말하며, 상현재와 하현재의 현재, 경사단주 및 수직단주의 단주, 수직재 및 사재의 복부재로 구성되어 있다.\n"
     ]
    },
    {
     "name": "stderr",
     "output_type": "stream",
     "text": [
      "INFO:httpx:HTTP Request: POST http://localhost:8000/v1/chat/completions \"HTTP/1.1 200 OK\"\n",
      " 23%|██▎       | 5/22 [00:48<03:17, 11.64s/it]"
     ]
    },
    {
     "name": "stdout",
     "output_type": "stream",
     "text": [
      "--------------------------------\n",
      "Processed: (라) “수평브레이싱(Lateral bracing)”이라 함은 양측의 주트러스를 연결하여 풍하중 또는 원심하중 등의 수평하중을 저항하는 부재를 말하며, 상부 수평브레이싱과 하부 수평브레이싱으로 나눌 수 있다.\n",
      "\n",
      "(마) “수직브레이싱(Sway bracing)”이라 함은 단주에 설치되는 양측의 주트러스와 상부 수평브레이싱을 연결하는 부재를 말하며, 교문브레이싱(Portal bracing)이라고도 말한다.\n",
      "\n",
      "(바) “바닥틀(Floor system)”이라 함은 횡형(Cross beam)과 종형(Stringer)으로 구성된 부재를 말하며, 이 바닥틀에 작용하는 사하중 및 활하중 등을 주트러스의 격진으로 전달하는 역할을 한다.\n",
      "\n",
      "(사) “세그먼트(Segment)”이라 함은 트러스 각 부재를 공장에서 작업 가능한 단위로 조립한 트러스거더를 말하며, 이를 반복 제작하고 현장에 운반하여 조립한 후 건설하여 트러스거더 교량을 완성하게 된다.\n",
      "\n",
      "(2) 기타 이 지침에서 사용하는 용어의 정의는 특별한 규정이 있는 경우를 제외하고는 산업안전보건법 및 안전규칙에 정하는 바에 의한다.\n",
      "\n",
      "4. 트러스교의 특징 및 종류\n",
      "\n",
      "(1) 트러스교의 주요 특징은 다음과 같다.\n",
      "\n",
      "(가) 트러스교의 높이를 임의로 정할 수 있어 상당히 큰 횡모멘트에도 저항할 수 있다. 따라서 거리교보다 장지간의 교량에 사용할 수 있다. 도로교에서는 지간장 100미터 이상에서 철도교에서는 지간장 80미터 이상에서 트러스교가 경제적이다. 최대 지간장의 트러스교는 1918년에 완성된 캐나다의 Quebec교로 지간이 549미터이다.\n",
      "\n",
      "(나) 구성부재를 개별적으로 운반하여 현장에서 조립이 가능하므로 부재운반이 곤란한 산악지역에 적합한 구조형식이다.\n",
      "\n",
      "(다) 트러스의 상하에 바닥판의 설치가 가능하므로 2층 구조의 교량형식으로 사용할 수 있다.\n",
      "\n",
      "(라) 트러스구조는 내풍성이 좋고 강성확보가 용이하여 장대교량의 보강형\n"
     ]
    },
    {
     "name": "stderr",
     "output_type": "stream",
     "text": [
      "INFO:httpx:HTTP Request: POST http://localhost:8000/v1/chat/completions \"HTTP/1.1 200 OK\"\n",
      " 27%|██▋       | 6/22 [00:59<03:02, 11.41s/it]"
     ]
    },
    {
     "name": "stdout",
     "output_type": "stream",
     "text": [
      "--------------------------------\n",
      "Processed: (Stiffening girder)으로 적합하다.\n",
      "\n",
      "(마) 트러스교는 거더교에 비해 부재수가 많아 제작상 불리하다.\n",
      "\n",
      "(2) 트러스교의 각종 형식에 따른 종류는 다음과 같다.\n",
      "\n",
      "(가) 와렌 트러스(Warren truss) : 바닥판이 위에 있는 상로(上路)의 단간에 사용하기 좋고, 바닥판이 아래에 있는 하로교(下路橋)에 사용할 때에는 횡형의 부착을 용이하게 하기 위하여 부수직재를 넣어 격간을 분할하는 경우가 많다. 지간 60미터까지 적용 가능하고 현재 트러스교로서 가장 널리 사용되는 형식이다.\n",
      "\n",
      "<그림 2> 와렌 트러스\n",
      "\n",
      "(나) 하우 트러스(Howe truss) : 사재의 방향이 지간 중심선에 대하여 위에서 아래로 바깥으로 향한 트러스이며, 사재는 일반적으로 압축재, 수직재는 인장재가 되며, 강교에서는 보통 쓰이지 않고 목교에서 많이 쓰이는 형식이다.\n",
      "\n",
      "<그림 3> 하우 트러스\n",
      "\n",
      "(다) 프랫 트러스(Pratt truss) : 사재의 방향이 하우 트러스와 반대로 된 트러스이며, 이 때 사재는 인장재, 수직재는 제일 외측에 있는 것을 제외하고 압축재가 되고, 압축력을 받는 상현재가 하우 트러스의 상현재보다 큰 압축력을 받게 되는 단점도 있다.\n"
     ]
    },
    {
     "name": "stderr",
     "output_type": "stream",
     "text": [
      "INFO:httpx:HTTP Request: POST http://localhost:8000/v1/chat/completions \"HTTP/1.1 200 OK\"\n",
      " 32%|███▏      | 7/22 [01:07<02:33, 10.23s/it]"
     ]
    },
    {
     "name": "stdout",
     "output_type": "stream",
     "text": [
      "--------------------------------\n",
      "Processed: (라) 분격 트러스: 지간이 길어지면 트러스 높이가 높아지고, 사제의 경사각도 커지는 관계로 격간 길이가 길어져 압축력으로써 불리하게 되고 가로보도 길어져 비경제적으로 되기 때문에 격간을 나눈 트러스를 말한다.\n",
      "\n",
      "5. 작업계획 수립 시 주요 검토사항\n",
      "\n",
      "(1) 공사현장의 제반여건과 설계도서에서 정하고 있는 작업단계별 작업방법이 부합하고 공사용 장비 적응상의 문제가 없는지 검토한 후 구체적인 작업계획을 수립하여야 한다.\n",
      "\n",
      "(2) 작업계획서는 본 공법에 대한 이해와 경험을 갖춘 자가 수립하여야 하며 공사중에는 계획서의 내용 이행여부를 수시로 확인하여야 한다.\n",
      "\n",
      "(3) 공장에서 제작된 트러스구성 부재 등을 반입해서 사용하기 전에 유자격의 전문가가 구조적 안전성 및 부재의 결합·손상여부를 확인하여야 한다.\n"
     ]
    },
    {
     "name": "stderr",
     "output_type": "stream",
     "text": [
      "INFO:httpx:HTTP Request: POST http://localhost:8000/v1/chat/completions \"HTTP/1.1 200 OK\"\n",
      " 36%|███▋      | 8/22 [01:20<02:36, 11.21s/it]"
     ]
    },
    {
     "name": "stdout",
     "output_type": "stream",
     "text": [
      "--------------------------------\n",
      "Processed: (4) 크레인을 사용하여 장비의 반입·반출, 부재의 조립 및 해체작업을 하는 경우에는 작업방법 및 순서 등이 포함된 중량물 취급 작업계획을 수립하여야 한다.\n",
      "\n",
      "6. 공통 안전사항\n",
      "\n",
      "(1) 안전보건총괄책임자는 각 세부공정별로 위험성평가를 실시하고 위험등급에 따른 관리대상 공정을 정하여 재해예방대책을 수립하고 작업하여야 한다.\n",
      "\n",
      "(2) 위험성평가를 실시할 때에는 설계도서, 현장조건, 시행하고자 하는 안전조치사항, 투입되는 근로자 및 건설장비 등을 종합적으로 검토하여 위험요인을 제거하거나 위험수준을 낮출 수 있도록 재해예방대책을 수립한 후 작업을 시작하여야 한다.\n",
      "\n",
      "(3) 고소작업에 따른 근로자들의 안전을 고려하여 추락 및 낙하물 방지시설을 설치하여야 한다.\n",
      "\n",
      "(4) 추락의 위험이 있는 고소작업의 경우에는 근로자가 안전하게 승강할 수 있는 승강설비 및 안전난간을 갖추어야 한다.\n",
      "\n",
      "(5) 충전전로의 인근에서 작업 시에는 산업안전보건기준에 관한 규칙 제322조의 충전전로 인근에서 차량·기계장치 작업을 준수하여 설치하여야 한다.\n",
      "\n",
      "(6) 화재의 위험이 있는 용접 및 용단 작업장소에는 소화기, 방화수 등을 비치하여 초기 소화할 수 있도록 하여야 한다.\n",
      "\n",
      "(7) 절단, 절삭, 용접작업 시 감전방지를 위해 접지 및 누전차단기가 설치된 분전반의 전원을 사용하고, 전선의 피복손상 유무를 확인하여야 한다.\n",
      "\n",
      "(8) 강풍시 고소에 있는 상부 자재 등의 맞음 재해가 발생하지 않도록 조치하여야 한다.\n",
      "\n",
      "(9) 부재의 반입 및 반출, 가조립을 위한 작업 시 작업 지휘자를 정하여 작업을\n"
     ]
    },
    {
     "name": "stderr",
     "output_type": "stream",
     "text": [
      "INFO:httpx:HTTP Request: POST http://localhost:8000/v1/chat/completions \"HTTP/1.1 200 OK\"\n",
      " 41%|████      | 9/22 [01:27<02:06,  9.73s/it]"
     ]
    },
    {
     "name": "stdout",
     "output_type": "stream",
     "text": [
      "--------------------------------\n",
      "Processed: 직접 지휘하게 하여야 한다.\n",
      "\n",
      "(10) 반입 및 반출, 가조립 등의 작업 시 교량 부재에 손상을 주지 않도록 신중하게 취급하여야 한다.\n",
      "\n",
      "(11) 작업 후 작업장 주위를 청결하게 유지하여 위험을 사전에 방지하여야 한다.\n",
      "\n",
      "(12) 단위 작업반 내에서 의사소통이 미흡한 경우 위험상황을 초래할 수 있으므로 작업반 구성시 외국인 근로자가 포함되는 경우 원활한 의사소통을 위하여 사전에 교육훈련을 실시하여야 한다.\n",
      "\n",
      "(13) 기타 안전수칙 및 산업안전보건법에 규정된 사항을 준수하여야 한다.\n",
      "\n",
      "7. 트러스교 시공순서\n",
      "\n",
      "(1) 크레인을 이용하여 트러스거더를 인양 설치하는 시공순서는 다음과 같다.\n"
     ]
    },
    {
     "name": "stderr",
     "output_type": "stream",
     "text": [
      "INFO:httpx:HTTP Request: POST http://localhost:8000/v1/chat/completions \"HTTP/1.1 200 OK\"\n",
      " 45%|████▌     | 10/22 [01:30<01:30,  7.57s/it]"
     ]
    },
    {
     "name": "stdout",
     "output_type": "stream",
     "text": [
      "--------------------------------\n",
      "Processed: 이동식 크레인 작업\n",
      "\n",
      "(a) 가설벤트 설치\n",
      "(b) 트러스거더 설치\n",
      "\n",
      "<그림 6> 트러스거더(크레인공법) 시공순서도\n"
     ]
    },
    {
     "name": "stderr",
     "output_type": "stream",
     "text": [
      "INFO:httpx:HTTP Request: POST http://localhost:8000/v1/chat/completions \"HTTP/1.1 200 OK\"\n",
      " 50%|█████     | 11/22 [01:34<01:11,  6.54s/it]"
     ]
    },
    {
     "name": "stdout",
     "output_type": "stream",
     "text": [
      "--------------------------------\n",
      "Processed: (2) 본 작업지침은 필요시 가설벤트를 설치하고 지상에서 크레인으로 트러스 세그먼트를 인양 조립하여 시공하는 공법에 대한 내용이며, 해상에서의 크레인공법에 대한 경우에는 관련 해당 작업지침을 참고하고, 압출공법에 대한 경우에는 KOSHA GUIDE C-10-2011(교량공사(I.L.M공법) 안전보건작업지침)에 따른다.\n"
     ]
    },
    {
     "name": "stderr",
     "output_type": "stream",
     "text": [
      "INFO:httpx:HTTP Request: POST http://localhost:8000/v1/chat/completions \"HTTP/1.1 200 OK\"\n",
      " 55%|█████▍    | 12/22 [01:46<01:23,  8.34s/it]"
     ]
    },
    {
     "name": "stdout",
     "output_type": "stream",
     "text": [
      "--------------------------------\n",
      "Processed: 8. 트러스거더 설치 시 안전작업\n",
      "\n",
      "8.1 트러스거더 반입 및 적재\n",
      "\n",
      "(1) 운반차량은 정격하중, 적재길이 및 선외반경 등의 현장 및 작업 조건을 고려하여 선정하여야 한다.\n",
      "\n",
      "(2) 트러스거더 운반시 지정 구간내 제한속도 규정 및 지정속도 운행을 준수하여야 하며, 운반전에 운전자에게 위험구간 및 운행방법에 대하여 사전교육을 실시하여야 한다.\n",
      "\n",
      "(3) 커브길에는 신호수를 배치하고 신호수의 신호에 따라 운행하도록 사전교육을 실시하여야 하며, 불록반사경 등을 설치하여야 한다.\n",
      "\n",
      "(4) 후진 작업 시 유도자의 유도에 의한 작업을 하여야 하며, 유도자는 운전자가 보이는 장소에서 유도하여야 한다.\n",
      "\n",
      "(5) 작업 전에 사용할 기계나 기구, 인양고리 등을 점검하고 불량품이 있으면 교체하여야 한다.\n",
      "\n",
      "(6) 인양물에 의한 협착재해를 예방하기 위해 유도자 및 근로자는 양중 작업자가 보이는 위치에 있어야 하며, 인양 작업 시 근로자의 출입통제를 철저히해야 한다.\n",
      "\n",
      "(7) 트러스부재 인양에 사용되는 인양용 와이어로프 및 슬링로프는 작업 전에 점검을 실시하여야 한다.\n",
      "\n",
      "(8) 트러스부재 인양시 인양용 와이어로프 등은 2줄 걸이로 양방향으로 결속하여야 한다.\n",
      "\n",
      "(9) 슬링로프로 강재를 감을 때 강재모서리와 로프 접촉부에 보호대를 설치하여야 한다.\n",
      "\n",
      "(10) 인양물 적치장소 및 중량물 취급장소는 지반침하에 의한 도괴재해 예방을\n"
     ]
    },
    {
     "name": "stderr",
     "output_type": "stream",
     "text": [
      "INFO:httpx:HTTP Request: POST http://localhost:8000/v1/chat/completions \"HTTP/1.1 200 OK\"\n",
      " 59%|█████▉    | 13/22 [02:01<01:31, 10.17s/it]"
     ]
    },
    {
     "name": "stdout",
     "output_type": "stream",
     "text": [
      "--------------------------------\n",
      "Processed: 위해 잡석다짐, 콘크리트 타설 등을 고려하여야 한다.\n",
      "\n",
      "(11) 트러스부재의 받침은 스크루잭(Screw jack)과 침목 받침을 적절히 분배하여 사용하고, 인양물을 내려 놓기 전에 지반의 평탄성을 확인한 후 받침목 설치상태를 확인하여야 한다.\n",
      "\n",
      "8.2 트러스거더 조립\n",
      "\n",
      "(1) 지상조립장 선정 시 고려할 사항은 다음과 같다.\n",
      "   (가) 자재 반입·반출 동선이 유리한 장소\n",
      "   (나) 자재의 하역, 야적, 이동, 양중 및 설치 등 이동과정 최소화\n",
      "   (다) 제작장 바닥면은 연약지반 여부 확인 후 운영\n",
      "   (라) 무동침하 방지를 위해 로울러로 충분한 다짐 실시(필요시 베타립콘크리트 타설)\n",
      "   (마) 지반면보다 높은 경우 등으로 인한 배수가 원활한 장소\n",
      "   (바) 거더 황방향 간격은 전도시 옆 거더 피해 방지를 위해 충분한 간격과 수평유지\n",
      "   (사) 제작된 순서대로 반출할 수 있는 충분한 운반공간\n",
      "\n",
      "(2) 부재의 접합면은 조립 전에 깨끗하게 청소하여야 하고, 조립 중 부재의 손상이 발생하지 않도록 유의하여 조립하여야 한다.\n",
      "\n",
      "(3) 지상조립에서 고소 작업이 필요한 경우 이동식바게나 계단식 발판을 사용하여야 하고, 사다리를 이용하여 승강하는 경우에는 사다리를 고정하는 등 전도 예방조치를 취하여야 한다.\n",
      "\n",
      "(4) 트러스거더 접합 용접작업 시 근로자의 감전재해를 예방하기 위해 다음과 같은 조치를 취하여야 한다.\n",
      "   (가) 용접봉 홀더 및 전선의 손상유무 확인\n",
      "   (나) 접지 및 누전차단기 설치\n",
      "   (다) 용접기에 자동전격방지기 설치\n",
      "   (라) 용접기 및 분전함 등의 충전부에는 보호관 및 보호컵 등의 방호조치 실시\n"
     ]
    },
    {
     "name": "stderr",
     "output_type": "stream",
     "text": [
      "INFO:httpx:HTTP Request: POST http://localhost:8000/v1/chat/completions \"HTTP/1.1 200 OK\"\n",
      " 64%|██████▎   | 14/22 [02:14<01:29, 11.18s/it]"
     ]
    },
    {
     "name": "stdout",
     "output_type": "stream",
     "text": [
      "--------------------------------\n",
      "Processed: (5) 트러스거더 조립 시 하부에는 근로자의 출입을 금지하여야 하며, 조립이 완료된 후에는 무재의 강도를 체크하여야 한다.\n",
      "\n",
      "8.3 가설벤트 설치(필요시)\n",
      "\n",
      "(1) 가설벤트 설치공사 시에는 사전에 가설벤트 위치의 지반 지내력을 확인하고 부등침하 방지를 위하여 다음과 같은 조치를 하여야 한다.\n",
      "   (가) 버림 콘크리트 타설\n",
      "   (나) 필요시 하부에 H 빔 설치\n",
      "\n",
      "(2) 가설벤트는 작업시의 하중을 고려하여 구조검토를 실시하고 조립도를 작성하여 조립도의 순서에 따라 조립하여야 한다.\n",
      "\n",
      "(3) 가설벤트 설치 시 설치 계획서를 작성하여야 하며, 설치 계획서 작성 시 인원, 장비, 자재 반입일정 및 수량 등의 적정성 여부 등이 포함되어야 한다.\n",
      "\n",
      "(4) 가설벤트를 반입하여 현장에 적재 시 전도위험이 없도록 하여야 하며, 2단 이상 적재를 금지하여야 한다.\n",
      "\n",
      "(5) 가설벤트 재료의 이상 유무를 확인하여 균열, 부식, 휨 및 단면 부족 등의 결함이 있는 자재는 사용해서는 아니된다.\n",
      "\n",
      "(6) 기초가 경사진 경우에는 가설벤트의 미끄럼 방지조치를 하여야 한다.\n",
      "\n",
      "(7) 최종적으로 가설벤트가 조립, 설치된 경우에는 레벨을 측정 점검하고 볼트의 체결상태 및 위치를 점검하여야 한다.\n",
      "\n",
      "(8) 가설벤트 설치 시 근로자들이 안전하게 오르내릴 수 있는 승강설비를 설치하여야 한다.\n",
      "\n",
      "(9) 가설벤트 설치 시 근로자의 추락방지를 위해 안전대를 착용후 작업할 수 있도록 사전에 철저히 교육시켜야 한다.\n",
      "\n",
      "(10) 가설벤트 설치 시 낙하물에 의한 재해를 방지하기 위해 하부에 근로자의\n"
     ]
    },
    {
     "name": "stderr",
     "output_type": "stream",
     "text": [
      "INFO:httpx:HTTP Request: POST http://localhost:8000/v1/chat/completions \"HTTP/1.1 200 OK\"\n",
      " 68%|██████▊   | 15/22 [02:24<01:15, 10.78s/it]"
     ]
    },
    {
     "name": "stdout",
     "output_type": "stream",
     "text": [
      "--------------------------------\n",
      "Processed: 출입을 통제하여야 한다.\n",
      "\n",
      "(11) 작업시작 전에 작업통로, 안전방망, 안전난간 등 안전시설의 설치상태와 이상유무를 확인하여야 한다.\n",
      "\n",
      "(12) 가설벤트 설치 시 신호수와 운전자는 사전에 신호체계에 대하여 필히 확인하고 신호수의 신호에 따라 작업을 진행하여야 한다.\n",
      "\n",
      "8.4 트러스거더 설치\n",
      "\n",
      "(1) 작업 전 인양에 사용될 와이어로프, 샤클, 혹 등의 손상여부를 점검하여야 한다.\n",
      "\n",
      "(2) 교각, 교대, 가설벤트 등에 설치되는 안전난간, 사다리 등의 안전시설은 고정형으로 설치하여야 한다.\n",
      "\n",
      "(3) 조립한 트러스거더 부재를 인양하기 위한 슬링로프는 정해진 위치에 걸고, 각이 지거나 날카로운 부분에 슬링로프가 접하는 곳은 완충재를 설치하여 슬링로프가 손상되지 않도록 하여야 한다.\n",
      "\n",
      "(4) 조립된 트러스거더 부재를 도로에서 인양하는 경우에는 차량통제 계획을 수립하고, 이 통제계획에 따라 작업공간에 차량이나 근로자들의 출입을 금지한 후 작업하여야 한다.\n",
      "\n",
      "(5) 조립한 트러스거더 부재를 인양할 때 신호수가 트러스거더 위에서 신호하\n"
     ]
    },
    {
     "name": "stderr",
     "output_type": "stream",
     "text": [
      "INFO:httpx:HTTP Request: POST http://localhost:8000/v1/chat/completions \"HTTP/1.1 200 OK\"\n",
      " 73%|███████▎  | 16/22 [02:36<01:07, 11.24s/it]"
     ]
    },
    {
     "name": "stdout",
     "output_type": "stream",
     "text": [
      "--------------------------------\n",
      "Processed: 는 것을 금지하여야 한다.\n",
      "\n",
      "(6) 트러스거더를 매단 상태에서 결속 상태 및 와이어로프 설치 각도 등의 적 정여부를 확인하면서 작업을 진행하여야 한다.\n",
      "\n",
      "(7) 트러스거더 거치 및 유도하거나 미세조정 시 유도로프 및 보조기구를 사용 하여야 한다.\n",
      "\n",
      "(8) 트러스거더 거치 후 반드시 전도방지조치를 하여야 한다.\n",
      "\n",
      "(9) 로프 체결방법은 트러스거더 인양은 4줄 걸이로 하여야 하며, 부속 자재의 경우에는 2줄 걸이로 하여야 한다.\n",
      "\n",
      "(10) 트러스거더 연결작업에 필요한 이동식 달비계는 견고한 구조여야 하며, 작업발판 및 안전난간이 설치되어 있어야 하고, 볼트 등의 부재 낙하방지를 위해 바닥에 합판 등을 이용하여 틈이 발생하지 않도록 설치하여야 한다.\n",
      "\n",
      "(11) 트러스거더 하부의 낙하물 방지망은 지상에서 미리 설치하고, 지상 설치가 불가할 경우 안전대 부착설비를 설치하고 안전대를 사용하는 등의 추락재해 예방조치를 하여야 한다.\n",
      "\n",
      "(12) 트러스거더 상부에는 안전대 걸이시설, 안전난간, 추락방지망 등의 추락재해 예방시설을 설치하여야 한다.\n",
      "\n",
      "8.5 고소 작업차 작업(필요시)\n",
      "\n",
      "(1) 사전에 고소 작업차의 종류 및 능력에 적합한 작업계획을 수립하고, 그 작업계획에 따라 작업하여야 한다.\n",
      "\n",
      "(2) 작업의 지휘자를 지정하고 작업 지휘자가 작업계획에 따라 지휘하여야 한다.\n",
      "\n",
      "(3) 작업 시작 전에 제동장치, 조작장치 및 작업장치의 기능에 대해 점검을 실\n"
     ]
    },
    {
     "name": "stderr",
     "output_type": "stream",
     "text": [
      "INFO:httpx:HTTP Request: POST http://localhost:8000/v1/chat/completions \"HTTP/1.1 200 OK\"\n",
      " 77%|███████▋  | 17/22 [02:45<00:52, 10.59s/it]"
     ]
    },
    {
     "name": "stdout",
     "output_type": "stream",
     "text": [
      "--------------------------------\n",
      "Processed: 시하여야 한다.\n",
      "\n",
      "(4) 고소 작업차에 대한 교육은 주기적으로 실시하여야 하며 특히 운전자에게는 실기교육을 실시하여야 한다.\n",
      "\n",
      "(5) 고소 작업차는 전도방지를 위해 지반의 부등침하가 없는 견고한 지반위에 설치되어야 한다.\n",
      "\n",
      "(6) 고소 작업차의 작업대 이외의 장소에서 조작을 할 경우에는 작업대 위의 근로자와 운전자 사이의 연락을 확실히 하기 위해 일정한 신호를 정하고 이 신호에 따라 작업을 진행하여야 한다.\n",
      "\n",
      "(7) 고소 작업차의 승차석 및 작업대 이외에는 근로자의 탑승을 금지하여야 한다.\n",
      "\n",
      "(8) 고소 작업차의 적재한중을 초과하여 사용하여서는 아니된다.\n",
      "\n",
      "(9) 짐을 매다는 등 고소 작업차의 용도 이외에는 사용을 금하여야 한다.\n",
      "\n",
      "(10) 고소 작업차를 주행시킬 경우에는 다음 조치를 취하여야 한다.\n",
      "\n",
      "(가) 유도자 배치\n",
      "(나) 신호규정 준수\n",
      "(다) 작업대의 높이와 봇 길이 등에 맞는 적정의 제한 속도 유지\n",
      "\n",
      "8.6 이동식 크레인 작업\n",
      "\n",
      "<그림 9> 고소 작업차 작업\n"
     ]
    },
    {
     "name": "stderr",
     "output_type": "stream",
     "text": [
      "INFO:httpx:HTTP Request: POST http://localhost:8000/v1/chat/completions \"HTTP/1.1 200 OK\"\n",
      " 82%|████████▏ | 18/22 [02:58<00:44, 11.13s/it]"
     ]
    },
    {
     "name": "stdout",
     "output_type": "stream",
     "text": [
      "--------------------------------\n",
      "Processed: (1) 사용하는 장비의 종류 및 성능, 운행경로, 작업방법, 안전점검 사항 등을 확인하고 작업계획서를 작성하여야 한다.\n",
      "\n",
      "(2) 트러스거더 인양 시 인양작업계획서에 따라 안전작업절차를 준수하여야 한다.\n",
      "\n",
      "(3) 이동식 크레인 2대로 함께 인양할 때에는 하중의 편중을 고려하여 크레인의 사양 및 설치 위치, 인양 방법 등을 포함한 작업계획서를 작성하여야 한다.\n",
      "\n",
      "(4) 이동식 크레인의 붐 끝단 부착금구 및 도르래, 차체 등의 노후 및 부식상태 등의 이상유무를 확인하여야 한다.\n",
      "\n",
      "(5) 작업시작 전에 과부하방지장치, 권과방지장치 등의 작동여부를 확인하여야 한다.\n",
      "\n",
      "(6) 크롤러 크레인의 경우 충분한 지지력이 확보된 건고한 지반위에 설치하여야 한다.\n",
      "\n",
      "(7) 트럭 크레인의 경우 아웃트리거는 충분한 지지력이 확보된 건고한 지반위에 받침판을 깔고 설치하여야 한다.\n",
      "\n",
      "(8) 크레인 인양 작업 시 신호수를 배치하고, 운전자와 신호수가 서로 신호를 확인할 수 있는 장소에서 일정한 표준방법을 정하여 신호할 수 있도록 하여야 한다.\n",
      "\n",
      "(9) 크레인의 회전반경내에 안전휀스, 출입금지 표지판 설치 등 관계자 외 출입 금지 조치를 취하여야 한다.\n",
      "\n",
      "(10) 이동식 크레인의 정격하중은 설계기준, 장비 매뉴얼과 제원 표, 인양능력표 등을 확인하여 정하여야 한다.\n",
      "\n",
      "(11) 이동식 크레인에는 운전자 및 근로자들에게 잘 보이는 위치에 정격하중표지를 부착하여야 한다.\n"
     ]
    },
    {
     "name": "stderr",
     "output_type": "stream",
     "text": [
      "INFO:httpx:HTTP Request: POST http://localhost:8000/v1/chat/completions \"HTTP/1.1 200 OK\"\n",
      " 86%|████████▋ | 19/22 [03:11<00:34, 11.60s/it]"
     ]
    },
    {
     "name": "stdout",
     "output_type": "stream",
     "text": [
      "--------------------------------\n",
      "Processed: (12) 트러스거더 적재 시 슬링(Sling)로프나 훅(Hook)이 무게 틈에 걸리지 않도록 받침목의 위치와 높이를 선정하여야 한다.\n",
      "\n",
      "(13) 트러스거더 하역 시 받침불량, 편심 등에 의한 유동이 있을 수 있으므로 인양물 하역 전 일정정지 후 인양물 받침상태 등을 확인하여야 한다.\n",
      "\n",
      "(14) 트러스거더 인양 시 이동식 크레인 지브의 경사각도를 고려한 최대허용하중을 준수하여야 한다.\n",
      "\n",
      "(15) 인양작업 시 크레인의 전도방지를 위하여 아웃트리거 설치상태를 점검하여야 한다.\n",
      "\n",
      "(16) 이동식 크레인의 후진 작업 시에는 유도자에 의해 작업해야 하며, 유도자는 운전자가 인식이 가능한 장소에서 유도하여야 한다.\n",
      "\n",
      "(17) 다음의 어느 하나에 해당하는 악천 후 시에는 작업을 중지하여야 한다.\n",
      "   (가) 풍속이 초당 10미터 이상의 경우\n",
      "   (나) 강우량이 시간당 1밀리미터 이상인 경우\n",
      "   (다) 강설량이 시간당 1센티미터 이상인 경우\n",
      "\n",
      "(18) 크레인 운전자는 다음의 안전수칙을 준수하여야 한다.\n",
      "   (가) 크레인 사용은 지정된 운전원이 하여야 한다.\n",
      "   (나) 크레인 운전원의 개인보호구 및 장비는 무선조종기 조작장치와 간섭되지 않도록 유의하여야 한다.\n",
      "   (다) 크레인의 안전장치를 임의로 제거 또는 변경해서는 안된다.\n",
      "   (라) 크레인 사용시 급운전, 급정지, 급강하, 급상승을 하여서는 아니된다.\n",
      "   (마) 크레인의 정격 인양허중을 준수한다.\n"
     ]
    },
    {
     "name": "stderr",
     "output_type": "stream",
     "text": [
      "INFO:httpx:HTTP Request: POST http://localhost:8000/v1/chat/completions \"HTTP/1.1 200 OK\"\n",
      " 91%|█████████ | 20/22 [03:18<00:20, 10.42s/it]"
     ]
    },
    {
     "name": "stdout",
     "output_type": "stream",
     "text": [
      "--------------------------------\n",
      "Processed: 9. 슬래브 시공시 안전작업\n",
      "\n",
      "9.1 거푸집 설치\n",
      "\n",
      "(1) 슬래브 거푸집은 시공 전 현장여건을 감안하여 구조 검토를 면밀히 한 후 시공하여야 한다.\n",
      "\n",
      "(2) 슬래브 거푸집은 슬래브에 콘크리트 타설에 따른 장비 및 인원 등을 고려하여 충분한 지지가 될 수 있도록 하여야 한다.\n",
      "\n",
      "(4) 슬래브 타설전 교량받침 고정을 철저히 하여 콘크리트 타설시 교량 받침 위치가 변경되지 않도록 하고 교량받침의 임시 잠금장치는 슬래브 타설 후 제거토록 한다.\n",
      "\n",
      "(5) 슬래브가 곡선구간으로 편구배가 있을 경우에는 쏠림현상이 발생될 수 있으므로 횡버팀목을 설치하여야 한다.\n",
      "\n",
      "(9) 차량 통행구간에는 슬래브 하부에 낙하물 방호선반을 설치하여야 한다.\n"
     ]
    },
    {
     "name": "stderr",
     "output_type": "stream",
     "text": [
      "INFO:httpx:HTTP Request: POST http://localhost:8000/v1/chat/completions \"HTTP/1.1 200 OK\"\n",
      " 95%|█████████▌| 21/22 [03:32<00:11, 11.39s/it]"
     ]
    },
    {
     "name": "stdout",
     "output_type": "stream",
     "text": [
      "--------------------------------\n",
      "Processed: (10) 슬래브의 양쪽에는 안전난간 설치기준에 따라 안전난간 등의 추락방지시설을 하여야 한다.\n",
      "\n",
      "9.2 철근 배근 및 조립\n",
      "\n",
      "(1) 철근작업 중 철근전도에 따른 전도방지조치(버팀대(줄) 설치)를 하여야 한다.\n",
      "\n",
      "(2) 철근에 절리거나 손상에 주의하고 노출된 철근 및 강선에는 보호캡을 쌓우고 위험표시를 하며, 운반시 전도, 비례가 일어나지 않도록 주의하여야 한다.\n",
      "\n",
      "(3) 근로자들이 철근 조립작업중 바닥 철근에 걸려 전도할 우려가 있어 조립된 철근 상부에 안전한 통로를 설치하여야 한다.\n",
      "\n",
      "(4) 가공 철근 인양작업시 낙하물이 발생하지 않도록 2줄 걸이로 하며, 닫줄·달포대 또는 인양박스를 사용하여야 한다.\n",
      "\n",
      "9.3 콘크리트 타설\n",
      "\n",
      "(1) 높은 장소에서 콘크리트 타설시 불완전한 행동 등으로 추락의 위험이 있으므로 안전난간을 설치하고, 안전모, 안전대 등의 보호구를 항상 착용한 후 작업하여야 한다.\n",
      "\n",
      "(3) 콘크리트 타설시 레미콘 차량의 안전 및 교통통제를 위해 차량 통제요원을 고정 배치하여야 한다.\n",
      "\n",
      "(4) 콘크리트 타설방법 및 순서를 준수하여야 하고, 거푸집 전체가 기울어지거나 변형되어 붕괴되지 않도록 콘크리트를 한곳에 편중 타설하여서는 안된다.\n",
      "\n",
      "(5) 콘크리트 펌프카를 이용하여 콘크리트를 타설 시 전도방지를 위해 다음과 같은 조치를 취하여야 한다.\n",
      "   (가) 필요시 지반다짐 실시\n",
      "   (나) 충분한 접지면적 확보를 위해 지면에 철판 설치\n"
     ]
    },
    {
     "name": "stderr",
     "output_type": "stream",
     "text": [
      "INFO:httpx:HTTP Request: POST http://localhost:8000/v1/chat/completions \"HTTP/1.1 200 OK\"\n",
      "100%|██████████| 22/22 [03:45<00:00, 10.24s/it]\n"
     ]
    },
    {
     "name": "stdout",
     "output_type": "stream",
     "text": [
      "--------------------------------\n",
      "Processed: (다) 하부 고임목 설치\n",
      "\n",
      "(6) 콘크리트 펌프카를 이용하여 콘크리트를 타설시 타설 위치 및 봉대의 적정 각도를 사전에 검토하여야 한다.\n",
      "\n",
      "(7) 콘크리트 펌프카를 이용하여 콘크리트를 타설시 배관단부에 부착된 호스를 직접 잡고 움직여서는 안되며, 이동을 위한 안내줄(Guy rope)을 사용하여야 한다.\n",
      "\n",
      "(8) 콘크리트 타설 및 다짐 시 진동다짐기(Vibrator)가 거푸짐 및 철근에 직접 닿지 않도록 주의하여야 한다.\n",
      "\n",
      "(9) 진동다짐기의 감전방지를 위해 접지 및 누전차단기가 설치된 분전반의 전 원을 사용하고, 작업전선도 피복손상 유무를 확인하며, 사용후에는 분해하여 깨끗하게 청소하여야 한다.\n",
      "\n",
      "9.4 거푸집 해체\n",
      "\n",
      "(1) 거푸집의 해체는 원칙적으로 설치의 역순으로 순차적으로 실시하여야 한다.\n",
      "\n",
      "(2) 거푸집 해체 작업장 주위에는 관계자외 근로자의 출입을 금지하여야 한다.\n",
      "\n",
      "(3) 강풍, 폭우, 폭설 등 악천후 시에는 해체작업을 중지하여야 한다.\n",
      "\n",
      "(4) 해체된 거푸집 기타 각목 등을 옮기거나 내릴 때에는 달줄 또는 달포대 등을 사용하여야 한다.\n",
      "\n",
      "(5) 해체된 거푸집 또는 각목 등에 박혀 있는 못 또는 날카로운 돌출물을 즉시 제거하여야 하고, 재사용 가능한 것과 보수하여야 할 것들을 선별, 분리하여 적자하고 정리정돈을 하여야 한다.\n",
      "\n",
      "(6) 고소에서 해체작업을 할 때에는 반드시 안전대를 착용하여야 한다.\n",
      "\n",
      "(7) 가능한 상·하에서 동시 작업이 되지 않도록 주의하여야 한다.\n",
      "---End---\n",
      "Processing 굴착기 안전보건작업 지침\n"
     ]
    },
    {
     "name": "stderr",
     "output_type": "stream",
     "text": [
      "  0%|          | 0/17 [00:00<?, ?it/s]INFO:httpx:HTTP Request: POST http://localhost:8000/v1/chat/completions \"HTTP/1.1 200 OK\"\n",
      "  6%|▌         | 1/17 [00:02<00:36,  2.25s/it]"
     ]
    },
    {
     "name": "stdout",
     "output_type": "stream",
     "text": [
      "--------------------------------\n",
      "Processed: 굴착기 안전보건작업 지침\n",
      "\n",
      "2022. 12.\n",
      "\n",
      "한국산업안전보건공단\n"
     ]
    },
    {
     "name": "stderr",
     "output_type": "stream",
     "text": [
      "INFO:httpx:HTTP Request: POST http://localhost:8000/v1/chat/completions \"HTTP/1.1 200 OK\"\n",
      " 12%|█▏        | 2/17 [00:18<02:35, 10.38s/it]"
     ]
    },
    {
     "name": "stdout",
     "output_type": "stream",
     "text": [
      "--------------------------------\n",
      "Processed: 안전보건기술지침의 개요\n",
      "\n",
      "○ 작성자 : (사)한국건설안전협회 안무영\n",
      "○ 개정자 : 한국산업안전보건공단 건설안전실\n",
      "○ 제·개정 경과\n",
      "  - 2016년 11월 건설안전분야 제정위원회 심의(제정)\n",
      "  - 2021년 10월 건설안전분야 표준제정위원회 심의(개정)\n",
      "  - 2022년 00월 건설안전분야 표준제정위원회 심의(개정)\n",
      "○ 관련규격 및 자료\n",
      "  - KOSHA GUIDE C-39-2011 굴착공사 안전작업 지침\n",
      "  - 건설기계 시공안전기준 제정에 관한 연구(한국건설기술연구원)\n",
      "  - KS B ISO 7135:2020 토공기계 - 유압굴삭기 - 용어 및 상용 사양\n",
      "  - KS B ISO 6165:2019 토공기계 - 기본 - 식별과 용어 및 정의\n",
      "○ 관련법규 · 규칙 · 고시 등\n",
      "  - 산업안전보건기준에관한규칙 제196조~제206조(차량계 건설기계 등)\n",
      "  - 산업안전보건기준에관한규칙 제338조~제347조(굴착작업 등의 위험방지)\n",
      "  - 운반하역표준안전작업지침(고용노동부고시 제2020-26호)\n",
      "  - 굴착공사표준안전작업지침(고용노동부고시 제2020-5호)\n",
      "  - 건설기계안전기준에 관한 규칙(국토교통부령 제751호) 제10조~제12조\n",
      "  - 사업장 위험성평가에 관한 지침(고용노동부고시 제2020-53호)\n",
      "○ 기술지침의 적용 및 문의\n",
      "  - 이 기술지침에 대한 의견 또는 문의는 한국산업안전보건공단 홈페이지(www.kosha.or.kr) 안전보건기술지침 소관 분야별 문의처 안내를 참고하시기 바랍니다.\n",
      "  - 동 지침 내에서 인용된 관련 규격 및 자료 등에 관하여 최근 개정 내용이 있는 경우 동 지침에 우선하여 참고하시기 바랍니다.\n",
      "공표일자 : 2022년 00월 00일\n",
      "제 정 자 : 한국산업안전보건공단 이사장\n"
     ]
    },
    {
     "name": "stderr",
     "output_type": "stream",
     "text": [
      "INFO:httpx:HTTP Request: POST http://localhost:8000/v1/chat/completions \"HTTP/1.1 200 OK\"\n",
      " 18%|█▊        | 3/17 [00:29<02:33, 10.94s/it]"
     ]
    },
    {
     "name": "stdout",
     "output_type": "stream",
     "text": [
      "--------------------------------\n",
      "Processed: 굴착기 안전보건작업 지침\n",
      "\n",
      "1. 목 적\n",
      "이 지침은 산업안전보건기준에관한규칙(이하“안전보건규칙”이라 한다) 제196 조∼206조(차량계 건설기계)의 규정에 의거 굴착기를 사용한 토사의 굴착・상 차・파쇄・정지작업 등에서 발생할 수 있는 장비의 침하・전도・추락・협착재 해 등을 예방하기 위하여 작업단계별 안전작업에 관한 사항을 정함을 목적으 로 한다.\n",
      "\n",
      "2. 적용범위\n",
      "이 지침은 굴착기를 사용하는 건설현장에서 토사의 굴착・상차・파쇄・정지작 업 등에 적용한다.\n",
      "\n",
      "3. 용어의 정의\n",
      "(1) 이 지침에서 사용되는 용어의 정의는 다음과 같다.\n",
      "\n",
      "(가) “굴착기(Excavator)”라 함은 토사의 굴착 및 상차를 주목적으로 하는 건 설기계로서, 하부구조(Undercarriage)의 움직임 없이 360° 회전할 수 있으며 작업용도에 따라 선택작업장치(Attachment)의 탈・장착이 가능하고 주행방식에 따라 무한궤도식과 타이어식으로 분류되며 건설기계 관리법 적용을 받는 장비이다.\n",
      "\n",
      "(나) “선택작업장치(Attachment)”라 함은 굴착기의 암(Arm)과 유압실린더 (Hydraulic Cylinder) 링크에 부착한 락커플러(Quick Coupler)에 작업목 적에 따라 장착하는 버킷(Bucket), 브레이커(Breaker), 크램셜(Clamshell) 등의 작업장치를 말한다.\n"
     ]
    },
    {
     "name": "stderr",
     "output_type": "stream",
     "text": [
      "INFO:httpx:HTTP Request: POST http://localhost:8000/v1/chat/completions \"HTTP/1.1 200 OK\"\n",
      " 24%|██▎       | 4/17 [00:36<02:01,  9.38s/it]"
     ]
    },
    {
     "name": "stdout",
     "output_type": "stream",
     "text": [
      "--------------------------------\n",
      "Processed: (2) 그 밖의 용어의 뜻은 이 지침에서 규정하는 경우를 제외하고는 「산업안전보건법」, 같은법 시행령, 같은법 시행규칙, 「산업안전보건기준에관한규칙」에서 정하는 바에 따른다.\n",
      "\n",
      "4. 굴착기의 종류 및 선택 작업장치의 분류\n",
      "\n",
      "(1) 굴착기의 주행을 위한 하부장치에 따른 분류는 다음과 같다.\n",
      "\n",
      "(가) 무한궤도식 굴착기(Crawler Type)\n",
      "하부장치의 주행부에 무한궤도 벨트를 장착한 <그림 1>과 같은 자주식 굴착기로서, 견인력이 크고 습지, 모래지반, 경사지 및 체석장 등 험난한 작업장 등에서 작업능률이 높은 장비이다.\n",
      "\n",
      "![그림 1 무한궤도식 굴착기(Crawler Type)](image-url)\n"
     ]
    },
    {
     "name": "stderr",
     "output_type": "stream",
     "text": [
      "INFO:httpx:HTTP Request: POST http://localhost:8000/v1/chat/completions \"HTTP/1.1 200 OK\"\n",
      " 29%|██▉       | 5/17 [00:42<01:37,  8.10s/it]"
     ]
    },
    {
     "name": "stdout",
     "output_type": "stream",
     "text": [
      "--------------------------------\n",
      "Processed: (나) 타이어식 굴착기(Wheel Type)\n",
      "\n",
      "하부장치의 주행부에 타이어를 장착한 <그림 2>와 같은 자주식 굴착기로서, 주행속도가 30~40㎞/hr 정도로 기동성이 좋아서 이동거리가 긴 작업장에서 는 무한궤도식 굴착기보다 작업 능률이 높은 장비이다.\n",
      "\n",
      "(2) 굴착기의 선택작업장치에 따른 분류는 다음과 같다.\n",
      "\n",
      "(가) 굴착버킷(Hoe Bucket)\n",
      "\n",
      "굴착기에 장착되는 기본적인 작업장치로 토사의 굴착 및 상차에 이용되는 <그림 3>과 같은 버킷을 말한다.\n"
     ]
    },
    {
     "name": "stderr",
     "output_type": "stream",
     "text": [
      "INFO:httpx:HTTP Request: POST http://localhost:8000/v1/chat/completions \"HTTP/1.1 200 OK\"\n",
      " 35%|███▌      | 6/17 [00:47<01:18,  7.12s/it]"
     ]
    },
    {
     "name": "stdout",
     "output_type": "stream",
     "text": [
      "--------------------------------\n",
      "Processed: (나) 클램쉘 버킷(Clamshell Bucket)\n",
      "암과 유압실린더의 링크에 장착되어 수직방향으로 굴착 또는 클램쉘 작업을 하는 <그림 4>와 같은 조개모양의 버킷을 말한다.\n",
      "\n",
      "<그림 4> 클램쉘 버킷(Clamshell / Bucket)\n",
      "\n",
      "(다) 셔블버킷(Shovel Bucket)\n",
      "장비의 진행방향으로 굴착을 하는 작업장치로서 토사를 퍼올리는 형태의 <그림 5>와 같은 버킷을 말한다.\n",
      "\n",
      "<그림 5> 셔블버킷(Shovel Bucket)\n"
     ]
    },
    {
     "name": "stderr",
     "output_type": "stream",
     "text": [
      "INFO:httpx:HTTP Request: POST http://localhost:8000/v1/chat/completions \"HTTP/1.1 200 OK\"\n",
      " 41%|████      | 7/17 [00:52<01:01,  6.19s/it]"
     ]
    },
    {
     "name": "stdout",
     "output_type": "stream",
     "text": [
      "--------------------------------\n",
      "Processed: (라) 브레이커(Breaker)\n",
      "콘크리트, 암석 등의 파쇄, 소할에 이용되는 <그림 6>과 같은 작업장치를 말한다.\n",
      "\n",
      "(마) 퀵커플러(Quick Coupler)\n",
      "암과 유압실린더의 링크에 장착되어 버킷, 브레이커 등의 작업장치를 신속하게 장착하거나 분리하는데 사용하는 <그림 7>과 같은 연결장치를 말한다.\n"
     ]
    },
    {
     "name": "stderr",
     "output_type": "stream",
     "text": [
      "INFO:httpx:HTTP Request: POST http://localhost:8000/v1/chat/completions \"HTTP/1.1 200 OK\"\n",
      " 47%|████▋     | 8/17 [01:00<01:01,  6.87s/it]"
     ]
    },
    {
     "name": "stdout",
     "output_type": "stream",
     "text": [
      "--------------------------------\n",
      "Processed: (바) 블레이드(Blade)\n",
      "도랑(배수구, 측구)을 메우거나 소량의 평탄화 작업에 사용하는 <그림 8>과 같이 주행 하부장치에 장착된 작업장치를 말한다.\n",
      "\n",
      "5. 굴착기 작업 중 위험요인 및 안전대책\n",
      "\n",
      "5.1 중점 유해·위험 요인 파악\n",
      "\n",
      "| 재해 유형 | 위험 요인 | 안전 대책 |\n",
      "|----------|----------|----------|\n",
      "| 전도·전락 | 비탈면 굴착중 토사붕괴에 의한 장비 전도·전락, 매몰사고 발생 | 굴착면 기울기 유지 (설계도서의 기울기 준수) |\n",
      "| | 장비 운행중 노면폭 부족에 따른 장비 전도·전락사고 발생 | 노면폭 확보 및 지반상태 확인 강우시 작업금지 (경사지) |\n",
      "| | 중량물 운반 작업중 전도사고 발생 | 장비의 목적 외 사용금지 |\n",
      "| | 무자격 운전원의 장비조작 미숙으로 전도 및 전락사고 발생 | 운전원 외 장비조작 금지 |\n"
     ]
    },
    {
     "name": "stderr",
     "output_type": "stream",
     "text": [
      "INFO:httpx:HTTP Request: POST http://localhost:8000/v1/chat/completions \"HTTP/1.1 200 OK\"\n",
      " 53%|█████▎    | 9/17 [01:13<01:10,  8.78s/it]"
     ]
    },
    {
     "name": "stdout",
     "output_type": "stream",
     "text": [
      "--------------------------------\n",
      "Processed: | 재해 유형 | 위험 요인                                                                                                                                                                                                 | 안전 대책                                                                                                                                                                                                 |\n",
      "|----------|-------------------------------------------------------------------------------------------------------------------------------------------------------------------------------------------------------------|----------------------------------------------------------------------------------------------------------------------------------------------------------------------------------------------------------|\n",
      "| 충돌    | 굴착기 뚜껑·암·버킷 등의 선회(旋回)에 의하여 근로자에게 위협을 미칠 우려가 있는 장소 내 근로자 접근 및 유도자 배치에 따른 충돌사고 발생 | 굴착기 뚜껑·암·버킷 등의 선회(旋回)에 의하여 근로자에게 위협을 미칠 우려가 있는 장소 내 근로자 출입통제 및 유도자 배치                                                                                     |\n",
      "|          | 후진경보기 미작동 및 후사경·후방영상표시 장치 파손에 따른 충돌사고 발생 | 후진경보기(Backward Alarm) 작동 상태 확인 및 후사경·후방영상표시 장치 교체 정비                                                                                                                            |\n",
      "|          | 시동중 운전자가 운전석 이탈에 의한 장비의 감작스러운 이동으로 충돌사고 발생 | 운전자는 시동중 운전석 이탈 금지                                                                                                                                                                           |\n",
      "|          | 퀵커플러 안전핀 고정상태 미체결 및 불량에 의한 버킷 탈락으로 협착사고 발생 | 퀵커플러 안전핀 체결상태 확인                                                                                                                                                                            |\n",
      "|          | 뚜껑(Boom)을 올린상태에서 장비 운행중 고압선에 접촉되어 감전사고 발생 | 뚜껑을 올린상태에서 운행 금지 및 고압선 절연 방호 설비 유·무 확인                                                                                                                                 |\n",
      "\n",
      "6. 굴착기 안전작업 절차\n",
      "\n",
      "6.1 작업계획 수립 및 검토\n",
      "\n",
      "6.2 작업 절차별 유해·위험 요인\n",
      "\n",
      "6.1.1 굴착기 작업 시 고려사항\n",
      "6.2.1 작업 전 준수사항\n",
      "6.2.2 작업 중 준수사항\n",
      "6.2.3 작업 종료시 준수사항\n"
     ]
    },
    {
     "name": "stderr",
     "output_type": "stream",
     "text": [
      "INFO:httpx:HTTP Request: POST http://localhost:8000/v1/chat/completions \"HTTP/1.1 200 OK\"\n",
      " 59%|█████▉    | 10/17 [01:26<01:11, 10.19s/it]"
     ]
    },
    {
     "name": "stdout",
     "output_type": "stream",
     "text": [
      "--------------------------------\n",
      "Processed: 6.1 작업계획 수립 및 검토\n",
      "\n",
      "6.1.1 굴착기 작업시 고려사항\n",
      "\n",
      "(1) 굴착기 작업 안전 보건 계획은 위험성평가를 실시하여 유해·위해 요인을 파악하고 해당 유해·위험 요인에 대한 부상 또는 질병의 발생 가능성을(빈도)과 중대성(강도)을 추정·결정하고 감소 대책을 수립하여야 한다.\n",
      "\n",
      "(2) 위험성평가는「고용노동부고시 제 2014-48호 사업장 위험성 평가에 관한 지침」에 따라 실시하여야 한다.\n",
      "\n",
      "(3) 굴착기 선정시 고려사항\n",
      "\n",
      "(가) 굴착기는 작업.engine, 작업물량, 운반장비의 조합 등을 고려하여 선정하여야 한다.\n",
      "\n",
      "(나) 굴착기와 선택작업장치는 작업 목적에 적합한 기종을 선정하여야 한다.\n",
      "\n",
      "(다) 굴착기는 운전자 보호를 위하여 운전석에 헤드가드(Head Guard)가 설치된 기종을 선정하여야 한다.\n",
      "\n",
      "(4) 굴착기를 사용하여 인양작업을 할 경우에는 해당 굴착기가 다음 사항을 충족하는지 반드시 확인하여야 한다.\n",
      "\n",
      "(가) 굴착기의 레커플러 또는 작업장치에 달기구(혹, 걸쇠 등을 말한다)가 부착되어 있는 등 인양작업이 가능하도록 제작된 기계일 것\n",
      "\n",
      "(나) 굴착기 제조사에서 정한 적격장치가 사용되는 등 작업 중 인양물의 적자 우려가 없을 것\n",
      "\n",
      "(다) 달기구에 해지장치가 사용되는 등 작업 중 인양물의 낙하 우려가 없을 것\n",
      "\n",
      "(5) 굴착기를 이용한 인양작업시 와이어로프 등 달기구의 사용에 관해서는 산업안전보건기준에 관한 규칙 제163조부터 제170조까지의 규정을 준용한다. 이 경우 \"양중기\" 또는 \"크레인\"은 \"굴착기\"로 본다.\n"
     ]
    },
    {
     "name": "stderr",
     "output_type": "stream",
     "text": [
      "INFO:httpx:HTTP Request: POST http://localhost:8000/v1/chat/completions \"HTTP/1.1 200 OK\"\n",
      " 65%|██████▍   | 11/17 [01:41<01:08, 11.41s/it]"
     ]
    },
    {
     "name": "stdout",
     "output_type": "stream",
     "text": [
      "--------------------------------\n",
      "Processed: 6.2 작업 절차별 유해·위험 요인\n",
      "\n",
      "6.2.1 작업 전 준수 사항\n",
      "\n",
      "(1) 관리감독자는 운전자의 자격면허(굴착기 조종사 면허증)와 보험가입 및 안전 교육 여부 등을 확인하여야 한다. (무자격자 운전금지)\n",
      "\n",
      "(2) 운전자는 굴착기 운행전 장비의 누수, 누유 및 외관상태 등의 이상 유·무를 확인하여야 한다.\n",
      "\n",
      "(3) 운전자는 굴착기의 안전운행에 필요한 안전장치(전조등, 후사경, 경광등, 후방 협착방지봉, 전·후방 경고음 발생장치(전진, 후진 경고음 구분), 운전석 내에서 운전자의 후방을 감시할 수 있는 카메라 등)의 부착 및 작동여부를 확인하여야 한다.\n",
      "\n",
      "(4) 운전자는 굴착기는 비탈길이나 평탄치 않은 지형 및 연약지반에서 작업을 수행하므로 작업 중에 발생할 수 있는 지반침하에 의한 전도사고 등을 방지하기 위하여 지지력의 이상 유무를 확인하여야 하고 지반의 상태와 장비의 이동경로 등을 사전에 확인하여야 한다.\n",
      "\n",
      "(5) 운전자는 작업 지역을 확인할 때 최종 작업 방법 및 지반의 상태를 충분히 숙지하여야 하며, 예상치 않은 위험 상황이 발생되는 경우에는 관리감독자에게 즉시 보고하여야 한다.\n",
      "\n",
      "(6) 운전자는 작업 반경 내 근로자 존재 및 장애물의 유·무 등을 확인하고 작업하여야 한다.\n",
      "\n",
      "(7) 운전자는 작업 전 <그림 9>와 같은 캡커플러 안전핀의 정상체결 여부를 확인하여야 하며, 자동으로 안전핀을 고정하는 자동 캡커플러 부착 장비 사용시에는 안전장치에 대한 정상작동 여부를 확인하여 선택장착장치의 탈락에 의한 안전사고를 방지하여야 한다. 관리감독자는 캡커플러 안전핀 체결 여부를 보다 쉽게 확인할 수 있도록, 안전핀을 표식(색깔, 리본매듭 등)하는 등 조치하여야 한다.\n"
     ]
    },
    {
     "name": "stderr",
     "output_type": "stream",
     "text": [
      "INFO:httpx:HTTP Request: POST http://localhost:8000/v1/chat/completions \"HTTP/1.1 200 OK\"\n",
      " 71%|███████   | 12/17 [01:48<00:51, 10.35s/it]"
     ]
    },
    {
     "name": "stdout",
     "output_type": "stream",
     "text": [
      "--------------------------------\n",
      "Processed: (8) 운전자는 장비의 안전운행과 사고방지를 위하여, 굴착기와 관련된 작업을 수행시 다음 사항을 준수하여야 한다.\n",
      "\n",
      "(가) 관리감독자의 지시와 작업 절차서에 따라 작업할 것\n",
      "\n",
      "(나) 현장에서 실시하는 안전교육에 참여할 것\n",
      "\n",
      "(다) 작업장의 내부규정과 작업 내 안전에 관한 수칙을 준수할 것\n",
      "\n",
      "6.2.2 작업 중 준수사항\n",
      "\n",
      "(1) 운전자는 제조사가 제공하는 장비 매뉴얼(특히, 유압제어장치 및 운행방법 등)을 숙지하고 이를 준수하여야 한다.\n",
      "\n",
      "(2) 운전자는 장비의 운행경로, 지형, 지반상태, 경사도(무한궤도 100분의 30) 등을 확인한 다음 안전운행을 하여야 한다.\n",
      "\n",
      "(3) 운전자는 굴착기 작업 중 <그림 10>과 같은 굴착기 작업반경 내에 근로자의 유무를 확인하며 작업하여야 한다. 또한 관리감독자는 굴착기 붐·암·\n"
     ]
    },
    {
     "name": "stderr",
     "output_type": "stream",
     "text": [
      "INFO:httpx:HTTP Request: POST http://localhost:8000/v1/chat/completions \"HTTP/1.1 200 OK\"\n",
      " 76%|███████▋  | 13/17 [01:56<00:38,  9.57s/it]"
     ]
    },
    {
     "name": "stdout",
     "output_type": "stream",
     "text": [
      "--------------------------------\n",
      "Processed: 버킷 등의 선회로 위험을 미칠 우려가 있는 장소에는 관계근로자 외 출입 금지 조치를 하여야 한다.\n",
      "\n",
      "(4) 운전자는 조종 및 제어장치의 기능을 확인하고, 급작스런 작동은 금지하여야 한다.\n",
      "\n",
      "(5) 운전자가 작업 중 시야 확보에 문제가 발생하는 경우에는 유도자의 신호에 따라 작업을 진행하여야 한다.\n",
      "\n",
      "(6) 운전자는 굴착기 작업 중에 고장등 이상 발생시 작업 위치에서 안전한 장소로 이동하여야 한다.\n",
      "\n",
      "(7) 운전자는 경사진 길에서의 굴착기 이동은 저속으로 운행하여야 한다.\n",
      "\n",
      "(8) 운전자는 경사진 장소에서 작업하는 동안에는 굴착기의 미끄럼 방지를 위하여 블레이드를 비탈길 하부 방향에 위치시켜야 한다.\n",
      "\n",
      "(9) 운전자는 경사진 장소에서 굴착기의 전도와 전락을 예방하기 위하여 봄의 급\n",
      "\n",
      "<그림 10> 굴착기 작업반경\n"
     ]
    },
    {
     "name": "stderr",
     "output_type": "stream",
     "text": [
      "INFO:httpx:HTTP Request: POST http://localhost:8000/v1/chat/completions \"HTTP/1.1 200 OK\"\n",
      " 82%|████████▏ | 14/17 [02:09<00:31, 10.58s/it]"
     ]
    },
    {
     "name": "stdout",
     "output_type": "stream",
     "text": [
      "--------------------------------\n",
      "Processed: 격한 선회를 금지하여야 한다.\n",
      "\n",
      "(10) 운전자는 좌석안전띠를 착용하고 작업을 하여야 한다.\n",
      "\n",
      "(11) 운전자는 다음과 같은 불안전한 행동이나 작업은 금지하여야 한다.\n",
      "\n",
      "(가) 엔진을 가동한 상태에서 운전석 이탈을 금지할 것\n",
      "(나) 선택작업장치를 올린 상태에서 정차를 금지할 것\n",
      "(다) 버킷으로 지반을 밀면서 주행을 금지할 것\n",
      "(라) 경사진 경로나 도랑의 바닥면 장소나 근처에 굴착기의 주차를 금지할 것\n",
      "(마) 도랑과 장애물의 횡단이 굴착기를 이동시키기 위하여 버킷을 지지대로의 사용을 금지할 것\n",
      "(바) 시트파일(Sheet Pile)을 지반에 박거나 뽑기 위해 굴착기의 버킷 사용을 금지할 것\n",
      "(사) 경사지를 이용하는 동안 굴착기 봉의 회전을 금지할 것\n",
      "(아) 파이프, 목재, 널빤지와 같이 버킷에 안전하게 실을 수 없는 화물이나 재료를 운반하거나 이동하기 위해 굴착기의 버킷 사용을 금지할 것\n",
      "\n",
      "(12) 운전자는 굴착·상차 및 파쇄 정지작업의 견인·운반작업 등 목적의 사용을 금지하여야 한다.\n",
      "\n",
      "(13) 운전자는 작업중 지하매설물(전선관, 가스관, 통신관, 상·하수관 등)과 지상 장애물이 발견되면 즉시 장비를 정지하고 관리감독자에게 보고한 다음 작업지시에 따라 작업하여야 한다.\n",
      "\n",
      "(14) 운전자는 굴착기에서 비정상 작동이나 문제점이 발견되면, 작동을 멈추고 즉시 관리감독자에게 보고하며，“사용중지” 등의 표지를 굴착기에 부착하고\n"
     ]
    },
    {
     "name": "stderr",
     "output_type": "stream",
     "text": [
      "INFO:httpx:HTTP Request: POST http://localhost:8000/v1/chat/completions \"HTTP/1.1 200 OK\"\n",
      " 88%|████████▊ | 15/17 [02:20<00:21, 10.76s/it]"
     ]
    },
    {
     "name": "stdout",
     "output_type": "stream",
     "text": [
      "--------------------------------\n",
      "Processed: 안전을 확인한 다음 작업하여야 한다.\n",
      "\n",
      "(15) 굴착기를 사용하여 인양작업을 하는 경우에는 다음의 사항을 준수하여야 한다.\n",
      "\n",
      "(가) 굴착기 제조사에서 정한 작업설명서에 따라 인양할 것\n",
      "\n",
      "(나) 사람을 지정하여 인양작업을 신호하게 할 것\n",
      "\n",
      "(다) 인양물과 근로자가 접촉할 우려가 있는 장소에 근로자의 출입을 금지시킬 것\n",
      "\n",
      "(라) 지반의 침하 우려가 없고 평평한 장소에서 작업할 것\n",
      "\n",
      "(마) 인양 대상 화물의 무게는 정격하중을 넘지 않을 것\n",
      "\n",
      "6.2.3 작업 종료 시 준수사항\n",
      "\n",
      "(1) 운전자는 굴착기를 주차할 때 통행의 장애 및 다른 현장 활동에 장애가 없는 평탄한 장소에 해야 하며, 불가피하게 경사지에 주차할 경우에는 구름 방지 조치 등 굴착기가 넘어지거나 굴러 떨어질 우려가 없도록 하여야 한다.\n",
      "\n",
      "(2) 운전자는 굴착기를 정지시키기 전에 굴착기의 선택작업장치를 안전한 지반에 내려놓아야 한다.\n",
      "\n",
      "(3) 운전자는 굴착기의 엔진을 정지하고, 주차브레이크를 밟은 다음 엔진 전환 키를 제거하고, 창문과 문을 닫아 잠근 다음 운전석을 이탈하여야 한다.\n",
      "\n",
      "(4) 운전자는 굴착기 안전점검 체크리스트 <표 1>을 활용하여 일일점검과 예방정비를 철저히 하여야 한다.\n"
     ]
    },
    {
     "name": "stderr",
     "output_type": "stream",
     "text": [
      "INFO:httpx:HTTP Request: POST http://localhost:8000/v1/chat/completions \"HTTP/1.1 200 OK\"\n",
      " 94%|█████████▍| 16/17 [02:34<00:11, 11.75s/it]"
     ]
    },
    {
     "name": "stdout",
     "output_type": "stream",
     "text": [
      "--------------------------------\n",
      "Processed: 구분 | 점검사항 | 비고\n",
      "--- | --- | ---\n",
      "1. 안전장치 설치 및 작동상태 | - 런커플러 안전핀 체결여부 확인 | \n",
      "| | - 전조등 및 후진경보장치, 후면, 협착방지봉, 전후방 경고음, 후방카메라 등 작동상태 | \n",
      "| | - 소화기 및 고압목 구비·사용상태 | \n",
      "| | - 장비 외관 및 누수·누유 상태 확인 | \n",
      "| | - 운전자의 시야확보 | \n",
      "| | - 뱃(암)유압장치, 선회장치 등의 이상 유·무 | \n",
      "| | - 무한궤도 트랙, 슈 등의 이상 유·무 | \n",
      "| | - 타이어 손상·마모 상태 확인 | \n",
      "| | - 운전석 조작장치 및 제동장치 이상 유·무 | \n",
      "2. 장비의 이상유무 확인 | 장비의 임시 점검 및 예방 정비 실시여부 | \n",
      "| | 장비의 수리·점검사항 등 이력관리 상태 | \n",
      "| | 운전원 면허 자격 여부 | \n",
      "| 3. 예방정비 유무 | 운전원 면허 자격 여부 | (3톤미만: 소형건설기계 조종교육 이수, 3톤이상: 건설기계조종사면허) \n",
      "| | 작업장의 지형, 지반 등 사전조사 여부 | \n",
      "| 4. 작업계획 서 | 작업계획서 작성 적정여부 | \n",
      "| 5. 안전작업을 위한 준수사항 | 정기검사 실시여부(3톤 이상) | \n",
      "| | 유도자 및 신호수 배치(작업지휘자) 유무 확인 | \n",
      "| | 상·하 동시작업 금지 | \n",
      "| | 버킷에 근로자 탑승금지 | \n",
      "| | 노폭의 유지, 노견(굴착면, 경사면 포함) 무너짐 방지 및 지반 침하방지조치 | \n",
      "| | 운전원이 운전석 이탈 시 버킷을 지상에 내려놓기 | \n",
      "| | 운반 및 하역작업 사용금지 |\n"
     ]
    },
    {
     "name": "stderr",
     "output_type": "stream",
     "text": [
      "INFO:httpx:HTTP Request: POST http://localhost:8000/v1/chat/completions \"HTTP/1.1 200 OK\"\n",
      "100%|██████████| 17/17 [02:47<00:00,  9.86s/it]\n"
     ]
    },
    {
     "name": "stdout",
     "output_type": "stream",
     "text": [
      "--------------------------------\n",
      "Processed: 지침 개정 이력\n",
      "\n",
      "□ 개정일 : 2021. 12.\n",
      "○ 개정자 : 한국산업안전보건공단 건설안전본부 건설안전단\n",
      "○ 개정사유 : 건설기계관리법 개정에 따른 용어 변경(굴삭기→굴착기) 및 굴착기 운용 시 작업자와의 충돌 등 재해예방을 위한 조치 추가\n",
      "○ 주요 개정내용\n",
      "  - 지침 전체 용어 변경(굴삭기→굴착기)\n",
      "  - 작업 전 운전자 확인사항에 전·후진 경고음 및 카메라 등의 부착 및 작동여부 확인 준수 추가\n",
      "  - <표1> 굴착기 안전점검 체크리스트 전면수정\n",
      "\n",
      "□ 개정일 : 2022. 00.\n",
      "○ 개정자 : 한국산업안전보건공단 건설안전실\n",
      "○ 개정사유 : 산업안전보건기준에 관한 규칙 개정에 따른 용어 변경 및 굴착기 운용 시 근로자 통제 범위 명확화 등 재해예방을 위한 조치 현행화\n",
      "○ 주요 개정내용\n",
      "  - 지침 전체 용어 변경(안전벨트→좌석안전띠)\n",
      "    ↓ 산업안전보건기준에 관한 규칙 제221조의3 제2항\n",
      "  - 중점 유해·위험 요인 파악 사항에 작업반경 범위 명확화\n",
      "    ↓ 산업안전보건기준에 관한 규칙 제20조 제18호\n",
      "  - 중점 유해·위험 요인 파악 사항에 후방영상표시 장치 추가\n",
      "    ↓ 산업안전보건기준에 관한 규칙 제221조의2 제2항\n",
      "  - 지침 전체, 양중작업에 대하여 장비의 목적외 사용금지 문구 삭제\n",
      "    ↓ 산업안전보건기준에 관한 규칙 제221조의5 제1항\n",
      "---End---\n",
      "Processing 건설기계 안전보건작업 지침\n"
     ]
    },
    {
     "name": "stderr",
     "output_type": "stream",
     "text": [
      "  0%|          | 0/43 [00:00<?, ?it/s]INFO:httpx:HTTP Request: POST http://localhost:8000/v1/chat/completions \"HTTP/1.1 200 OK\"\n",
      "  2%|▏         | 1/43 [00:02<01:34,  2.26s/it]"
     ]
    },
    {
     "name": "stdout",
     "output_type": "stream",
     "text": [
      "--------------------------------\n",
      "Processed: 건설기계 안전보건작업지침\n",
      "\n",
      "한국산업안전보건공단\n",
      "\n",
      "2022. 12.\n"
     ]
    },
    {
     "name": "stderr",
     "output_type": "stream",
     "text": [
      "INFO:httpx:HTTP Request: POST http://localhost:8000/v1/chat/completions \"HTTP/1.1 200 OK\"\n",
      "  5%|▍         | 2/43 [00:14<05:24,  7.92s/it]"
     ]
    },
    {
     "name": "stdout",
     "output_type": "stream",
     "text": [
      "--------------------------------\n",
      "Processed: 안전보건기술지침의 개요\n",
      "\n",
      "- 작성자 : 이덕재\n",
      "- 개정자 : 안전보건공단 건설안전실\n",
      "\n",
      "- 제정경과\n",
      "\n",
      "- 1999년 07월 건설안전분야 제정위원회 심의\n",
      "- 1999년 08월 총괄 제정위원회 심의\n",
      "- 2005년 11월 건설안전분야 제정위원회 심의\n",
      "- 2005년 12월 총괄 제정위원회 심의\n",
      "- 2012년 07월 건설안전분야 제정위원회 심의\n",
      "- 2013년 10월 건설안전분야 제정위원회 심의(개정)\n",
      "- 2022년 12월 건설안전분야 표준제정위원회 심의(개정)\n",
      "\n",
      "- 관련법규, 규칙,고시 등\n",
      "\n",
      "- 산업안전보건기준에 관한 규칙 제2편 제1장 제1절·제9절·제12절\n",
      "- 한국산업안전보건공단 토건연 84-4-25 (기술 기준 제·개정위한연구)\n",
      "- 건설재해예방기법 (한국산업안전보건공단)\n",
      "- 건설기계 관리법(제2조)\n",
      "- 건설공사 안전장비 안전작업 매뉴얼 (건설 99-7-179)\n",
      "\n",
      "- 작업지침의 적용 및 문의사항\n",
      "\n",
      "이 작업지침에 대한 의견 또는 문의는 한국산업안전보건공단 홈페이지 안전보건 기술지침 소관 분야별 문의처 안내를 참고하시기 바랍니다.\n",
      "\n",
      "공표일자 : 2022년 12월 31일\n",
      "제 정 자 : 한국산업안전보건공단 이사장\n"
     ]
    },
    {
     "name": "stderr",
     "output_type": "stream",
     "text": [
      "INFO:httpx:HTTP Request: POST http://localhost:8000/v1/chat/completions \"HTTP/1.1 200 OK\"\n",
      "  7%|▋         | 3/43 [00:26<06:46, 10.16s/it]"
     ]
    },
    {
     "name": "stdout",
     "output_type": "stream",
     "text": [
      "--------------------------------\n",
      "Processed: 건설기계 안전보건작업 지침\n",
      "\n",
      "1. 목적\n",
      "\n",
      "이 지침은 「산업안전보건기준에 관한 규칙」(이하 “안전보건규칙”이라 한다) 제2편 제1장 제1절(기계등의 일반기준)·제9절(양중기)·제12절(건설기계 등), 제4장 제1절(거푸집동바리 및 거푸집)·제2절(굴착작업 등의 위험방지)의 규정에 의한 건설기계작업시 발생되는 재해를 예방하기 위하여 차량계 건설기계, 기초공사용 건설기계 및 양중기 사용에 따른 안전보건작업 방법 등에 대한 지침을 정함으로써 재해예방을 목적으로 한다.\n",
      "\n",
      "2. 적용범위\n",
      "\n",
      "이 지침은 차량계 건설기계, 기초공사용 건설기계 및 양중기 등 건설기계를 사용하여 작업하는 건설현장에 적용한다.\n",
      "\n",
      "3. 용어의 정의\n",
      "\n",
      "(1) 이 지침에서 사용되는 용어의 정의는 다음과 같다.\n",
      "\n",
      "(가) “차량계 건설기계(이하 ‘건설기계’라 한다)”라 함은 동력을 사용하여 특정되지 아니한 장소로 스스로 이동할 수 있는 건설기계로서 안전보건규칙 별표 6(차량계 건설기계)에서 정한 기계를 말한다.\n",
      "\n",
      "(나) “기초공사용 건설기계”라 함은 차량계 건설기계 중 안전보건규칙 별표 6(차량계 건설기계)의 항타기 및 항발기, 천공용 건설기계, 지반 압밀침하용 건설기계, 지반 다짐용 건설기계 등을 말한다.\n",
      "\n",
      "(다) “크레인”이라 함은 동력을 사용하여 중량물을 매달아 상하 및 좌우 (수평 또는 선회)를 운반하는 것을 목적으로 하는 기계 또는 기계장치를 말한다.\n"
     ]
    },
    {
     "name": "stderr",
     "output_type": "stream",
     "text": [
      "INFO:httpx:HTTP Request: POST http://localhost:8000/v1/chat/completions \"HTTP/1.1 200 OK\"\n",
      "  9%|▉         | 4/43 [00:39<07:11, 11.06s/it]"
     ]
    },
    {
     "name": "stdout",
     "output_type": "stream",
     "text": [
      "--------------------------------\n",
      "Processed: (라) \"건설용 리프트\"(이하 “리프트”라 한다)라 함은 동력을 사용하여 가이드레일(운반\n",
      "구를 지지하여 상승 및 하강 동작을 안내하는 레일)을 따라 상하로 움직이는 운반\n",
      "구를 매달아 사람이나 화물을 운반할 수 있는 설비 또는 이와 유사한 구조 및 성\n",
      "능을 가진 것으로 건설현장에서 사용하는 것을 말한다.\n",
      "\n",
      "(2) 그 밖의 이 지침에서 사용하는 용어의 정의는 특별한 규정이 있는 경우를 제외하고는\n",
      "산업안전보건법, 같은 법 시행령, 같은 법 시행규칙, 안전보건규칙 및 기타 고시에\n",
      "서에서 정한 바에 따른다.\n",
      "\n",
      "4. 차량계 건설기계\n",
      "\n",
      "4.1 일반안전사항\n",
      "\n",
      "4.1.1 공통사항\n",
      "\n",
      "(1) 건설기계 사용시 작업장소의 지형 및 지반 상태 등의 조사 결과를 고려하여 사용하는\n",
      "기계의 종류 및 능력, 운행경로, 작업 방법 등의 작업계획을 수립 하여야 한다.\n",
      "\n",
      "(2) 기계별 주용도외 사용을 제한하여야 한다.\n",
      "\n",
      "(3) 진도, 전락방지를 위해 노폭의 유지, 갓길의 붕괴방지, 지반의 침하방지 조치를 하\n",
      "여야 한다.\n",
      "\n",
      "(4) 유자격 운전자를 배치하여야 한다.\n",
      "\n",
      "(5) 폭풍, 폭우, 폭설 등의 악천후시 작업을 중지하여야 한다.\n",
      "\n",
      "(6) 유도자를 배치하여 작업을 유도하여야 하고 장비별 특성에 따른 일정한 표준방법을\n",
      "정하여 신호하여야 한다.\n",
      "\n",
      "(7) 기계의 작업 범위내에 작업관계자외 출입을 금지시켜야 한다.\n",
      "\n",
      "(8) 작업전 운전자 및 근로자 안전교육을 실시하여야 한다.\n"
     ]
    },
    {
     "name": "stderr",
     "output_type": "stream",
     "text": [
      "INFO:httpx:HTTP Request: POST http://localhost:8000/v1/chat/completions \"HTTP/1.1 200 OK\"\n",
      " 12%|█▏        | 5/43 [00:51<07:16, 11.50s/it]"
     ]
    },
    {
     "name": "stdout",
     "output_type": "stream",
     "text": [
      "--------------------------------\n",
      "Processed: (9) 지정된 제한속도를 준수하여야 한다.\n",
      "\n",
      "(10) 승차석 이외의 위치에 근로자가 탑승하지 않아야 한다.\n",
      "\n",
      "(11) 운전석 이탈시 원동기를 정지시키고 브레이크를 작동시키는 등 이탈방지조치 하여야 하며 버켓, 리퍼 등 작업 장치를 지면에 내려 놓아야 한다.\n",
      "\n",
      "(12) 운전석 내부를 청결히 하고 오르내리는 발판 및 손잡이는 항상 깨끗하게 하여 미끄러지지 않도록 하여야 한다.\n",
      "\n",
      "(13) 모든 건설기계는 기계마다 장비일보에 작업명, 기계 조종원, 작업시간, 정비항목 및 정비회사명, 급유사항, 고장 및 이상유무 등 기계의 이력을 모두 기록하여야 한다.\n",
      "\n",
      "4.1.2 사용전 확인사항\n",
      "\n",
      "(1) 건설기계의 운전자는 엔진 시동 전에 다음 사항을 확인하여야 한다.\n",
      "\n",
      "(가) 누수, 누유의 흔적 및 유압장치의 작동여부\n",
      "\n",
      "(나) 무한궤도, 타이어, 기계장치 등의 이상 유무\n",
      "\n",
      "(다) 근로자나 장애물 유무 등 작업장 주변 상황\n",
      "\n",
      "(라) 변속레버의 중립위치 여부\n",
      "\n",
      "(마) 주클러치 레버의 중립위치 여부\n",
      "\n",
      "(바) 감압레버는 감압위치에 놓여 있는가 확인\n",
      "\n",
      "(사) 연료레버는 저속회전 위치(1/4-1/2 정도)에 놓여 있는가 확인\n",
      "\n",
      "(아) 주차용 브레이크 레버의 주차위치 여부 및 브레이크의 작동 여부\n",
      "\n",
      "(자) 연결차량의 연결상태 및 분리방지장치의 확인\n"
     ]
    },
    {
     "name": "stderr",
     "output_type": "stream",
     "text": [
      "INFO:httpx:HTTP Request: POST http://localhost:8000/v1/chat/completions \"HTTP/1.1 200 OK\"\n",
      " 14%|█▍        | 6/43 [01:03<07:07, 11.56s/it]"
     ]
    },
    {
     "name": "stdout",
     "output_type": "stream",
     "text": [
      "--------------------------------\n",
      "Processed: (차) 주정차용 고임목 및 안전표지판등의 준비상태\n",
      "\n",
      "(카) 경보장치의 작동상태\n",
      "\n",
      "(2) 운전석으로의 승강시에는 설치된 트램, 사다리 등을 이용하도록 하며, 뛰어 올라타거나 내리지 않도록 한다.\n",
      "\n",
      "(3) 엔진 시동후에는 다음 사항에 유의하여야 한다.\n",
      "\n",
      "(가) 엔진이 냉각되어 있는 경우에는 급가속해서는 안된다.\n",
      "\n",
      "(나) 엔진 시동후 저속회전을 하면서 다음 사항을 확인하여야 한다.\n",
      "\n",
      "① 압력계 및 수온계의 게이지 작동상태\n",
      "\n",
      "② 충전상태\n",
      "\n",
      "③ 경보등 점멸상태\n",
      "\n",
      "④ 누수, 누유 및 기타 이상 유무\n",
      "\n",
      "(다) 전진, 후진을 시도하기 전에 주변의 근로자, 건설기계 및 장애물에 주의하여야한다.\n",
      "\n",
      "(라) 시야가 가려진 경우에는 유도원을 배치하거나 운전석에서 내려와 건설기계의 하부 및 전,후방에 근로자나 장애물의 유무를 확인하여야 한다.\n",
      "\n",
      "(4) 운전자의 건강상태를 확인하여야 한다.\n",
      "\n",
      "(5) 콘크리트 펌프 또는 펌프카의 배관상태를 확인하고 적정 호스길이를 초과하여서는 안된다.\n",
      "\n",
      "(6) 콘크리트 펌프 또는 펌프카의 전후에는 식별이 용이한 안전표지판을 설치하여야 한다.\n",
      "\n",
      "4.1.3 안전장치 확인사항\n",
      "\n",
      "(1) 전조등 : 건설기계에는 야간작업을 위한 전조등이 설치되어 있어야 한다.\n"
     ]
    },
    {
     "name": "stderr",
     "output_type": "stream",
     "text": [
      "INFO:httpx:HTTP Request: POST http://localhost:8000/v1/chat/completions \"HTTP/1.1 200 OK\"\n",
      " 16%|█▋        | 7/43 [01:21<08:13, 13.71s/it]"
     ]
    },
    {
     "name": "stdout",
     "output_type": "stream",
     "text": [
      "--------------------------------\n",
      "Processed: (2) 경보장치 : 전후진시 및 작업시 등에 있어 안전확보를 위해 주위 사람들에게 알릴 수 있는 경보장치가 설치되어 있어야 한다.\n",
      "\n",
      "(3) 낙하물 보호구조 : 암석 등이 떨어질 우려가 있는 위험한 장소에서 차량계 건설기계 [불도저, 트랙터, 굴착기, 로더(loader: 흙 따위를 퍼울리는 데 쓰는 기계), 스크레이퍼 (scraper: 흙을 절삭·운반하거나 펴 고르는 등의 작업을 하는 토공기계), 닭프트럭, 모터그레이더(moter grader: 특 고르는 기계), 롤러(roller: 지반 다짐용 건설기계), 천공기, 항타기 및 항발기로 한정한다]를 사용하는 경우에는 해당 차량계 건설기계에 건고한 낙하물 보호구조를 갖춰야 한다.\n",
      "\n",
      "(4) 붐 전도방지 장치 : 붐을 올린 상태에서 사용중 하물이 갑자기 떨어지거나 골곡면 주행중에 혼들려 붐이 전도되는 것을 막기 위해 붐 전도방지장치가 설치되어 있어야 한다.\n",
      "\n",
      "(5) 붐 기복정지장치 : 드레그라인, 기계식 크램쉘 등을 사용할 경우에는 붐 기복방지장치를 설치하여야 하며, 이 장치가 설치되어 있어도 붐 각도를 80도 가까이하여 사용할 경우에는 주의하여 작업한다.\n",
      "\n",
      "(6) 붐 권상드럼의 역회전 방지장치 : 붐 권상드럼의 역회전 방지장치는 붐 권상드럼의 하중으로 인해 와이어로프가 풀리는 것을 막기 위한 안전장치로서, 붐을 하강시키는 동안 작동시키면 라쳇(Ratchet)에 갈축기구를 걸어 라쳇이나 갈축기구 등이 파손될 수 있기 때문에 붐을 하강시키는 동안에는 절대로 작동 시켜서는 안된다.\n",
      "\n",
      "(7) 기타 안전장치 : 권상 브레이크 잠금장치, 권상드럼 잠금장치, 붐 각도지 시기, 전조등, 경보장치, 헤드가드, 앞 유리창 닦기, 제상(서리), 제무장치의 작동상태 등을 확인하여야 한다.\n",
      "\n",
      "(8) 당해 기계에 대한 구조 및 사용상의 안전도 및 최대 사용하중을 준수하여야 한다.\n",
      "\n",
      "4.2 작업시 유의사항\n",
      "\n",
      "(1) 주행로의 지형, 지반 등에 의한 미끄러질 위험이 있는지 확인하여야 한다.\n",
      "\n",
      "(2) 이상소음, 누수, 누유 또는 부품, 조작레버 등에 이상이 있는 경우에는 즉시 그 원인을 확인하고 정비하여야 한다.\n"
     ]
    },
    {
     "name": "stderr",
     "output_type": "stream",
     "text": [
      "INFO:httpx:HTTP Request: POST http://localhost:8000/v1/chat/completions \"HTTP/1.1 200 OK\"\n",
      " 19%|█▊        | 8/43 [01:35<07:58, 13.67s/it]"
     ]
    },
    {
     "name": "stdout",
     "output_type": "stream",
     "text": [
      "--------------------------------\n",
      "Processed: (3) 차량계 셔블, 불도저의 주행시에는 레버의 안전장치를 풀고 버켓, 배토판을 지상 40 센티미터 정도로 들어 올려 주행한다.\n",
      "\n",
      "(4) 정해진 주행속도를 지켜 운행하여야 한다.\n",
      "\n",
      "(5) 언덕을 내려올 때에는 연료레버를 저속위치로 하고 엔진 브레이크를 사용한다.\n",
      "\n",
      "(6) 다음 사항의 경우에는 부하 및 주행속도를 줄인다.\n",
      "\n",
      "(가) 언덕을 올라왔을 때\n",
      "\n",
      "(나) 절벽에서 사토할 때\n",
      "\n",
      "(다) 토사와 싸기 위해 덤프트럭에 접근할 때\n",
      "\n",
      "(7) 방향 전환시에는 전진 방향측의 방향전환 클러치를 완만히 전환하고 급선회할 경우에 전진 방향측의 브레이크를 작동한다.\n",
      "\n",
      "(8) 고속선회 또는 암반상과 절도상에서의 급선회시는 무한궤도가 벗겨지지 않도록 주의하여야 한다.\n",
      "\n",
      "(9) 내리막 경사지에서 방향전환을 할 때에는 브레이크가 충분히 걸리는 위치까지 레버를 옮겨야 한다.\n",
      "\n",
      "(10) 기계의 작업범위 내에는 작업자를 출입시키지 말아야 한다.\n",
      "\n",
      "(11) 주행 중 상부몸체가 선회하지 않도록 선회잠금장치를 확실히 잠궈 두어야 한다.\n",
      "\n",
      "(12) 기계가 전선 밑을 통과할 경우에는 유도자의 신호에 따르고, 저속으로 주행하며 노면 굴곡으로 인하여 봄(Boom)이나 로우프가 혼들려 전선에 접촉되지 않도록 전선과의 거리를 최소 2미터 이상 유지하여야 한다.\n",
      "\n",
      "(13) 무한궤도 건설기계는 급하강시 방향 전환을 하게 되면 반대방향으로 이동할 우려가 있으므로 주의하여야 한다.\n"
     ]
    },
    {
     "name": "stderr",
     "output_type": "stream",
     "text": [
      "INFO:httpx:HTTP Request: POST http://localhost:8000/v1/chat/completions \"HTTP/1.1 200 OK\"\n",
      " 21%|██        | 9/43 [01:49<07:49, 13.82s/it]"
     ]
    },
    {
     "name": "stdout",
     "output_type": "stream",
     "text": [
      "--------------------------------\n",
      "Processed: (14) 경사지에서 하중을 실은 체로 오르내릴 때에는 버켓을 낮추어야 한다.\n",
      "\n",
      "(15) 장애물을 넘어서갈 때에는 전도에 주의하며 속도를 줄이고 신중히 주행 하여야 한다.\n",
      "\n",
      "(16) 연약지반에서는 부등침하로 인해 기계가 전도되지 않도록 깔판 등으로 지반을 보강한 다음 통과하거나 경사지 아웃리저를 설치하여야 한다.\n",
      "\n",
      "(17) 경사지에서 잠시 정지할 때에도 버켓 등을 지면에 내린후 바퀴에 적정크기와 강도를 가진 고임목 등으로 확실하게 받쳐야 한다.\n",
      "\n",
      "(18) 경사지에서 정지할 때에는 부등침하로 인해 기계의 미끄럼방지를 위해 바퀴에 고임목 등을 받쳐야 한다.\n",
      "\n",
      "(19) 콘크리트 펌프 또는 펌프카의 붐대를 조정할 때에는 주변 가공전선로 등 장애물을 확인하고, 이격거리 준수하여야 한다.\n",
      "\n",
      "(20) 콘크리트 펌프 또는 펌프카의 현장내 이동시에는 붐을 원위치에 내려놓은 상태로 이동하여야 한다.\n",
      "\n",
      "4.3 작업종료후 정지시 유의사항\n",
      "\n",
      "(1) 건설기계를 지반에 단단하고 평탄한 장소에 세우는 것은 물론이고, 우기시 침수위험이 있는 곳은 피하여야 하며, 버켓 등을 지면에 내려놓아야 한다.\n",
      "\n",
      "(2) 브레이크는 완전히 건다. 다만 부득이하여 경사면에 세울 경우에는 바퀴에 고임목을 확실하게 받쳐야 한다.\n",
      "\n",
      "(3) 건설기계는 선회 잠금장치, 주차용 브레이크를 걸며, 또한 붐, 호이스트, 드럼에도 반드시 잠금장치를 걸어 두어야 한다.\n",
      "\n",
      "(4) 엔진이 정지중에는 붐과 버켓이 움직이지 않도록 한다.\n",
      "\n",
      "(5) 일일작업 종료시 운전석의 출입문은 잠금장치를 하여야 한다.\n"
     ]
    },
    {
     "name": "stderr",
     "output_type": "stream",
     "text": [
      "INFO:httpx:HTTP Request: POST http://localhost:8000/v1/chat/completions \"HTTP/1.1 200 OK\"\n",
      " 23%|██▎       | 10/43 [02:01<07:19, 13.32s/it]"
     ]
    },
    {
     "name": "stdout",
     "output_type": "stream",
     "text": [
      "--------------------------------\n",
      "Processed: 4.4 수송시 유의사항\n",
      "\n",
      "(1) 건설기계를 수송할 경우 일반적인 주의사항\n",
      "\n",
      "(가) 건설기계는 원칙적으로 트레일러 등 전용 운반기계로 수송하여야 한다.\n",
      "\n",
      "(나) 건설기계를 싣거나 내리는 작업은 평탄하고 견고한 장소에서 실시 하여야한다.\n",
      "\n",
      "(다) 성토를 하여 건설기계를 싣거나 내리는 경우에는 다음 사항을 유의하여야 한다.\n",
      "\n",
      "① 성토면의 폭은 건설기계의 폭을 고려하여 충분히 넓게 하여야 한다.\n",
      "\n",
      "② 성토면의 경사는 가능한 완만하게 하여야 한다.\n",
      "\n",
      "③ 성토는 충분히 다져야 하며, 기계를 싣는 도중에 비탈면이 붕괴하여 기계가 전도 되지 않도록 주의하여야 한다.\n",
      "\n",
      "(라) 발판을 이용하여 싣거나 내리는 경우에는 다음 사항에 유의하여야 한다.\n",
      "\n",
      "① 발판은 기계의 중량에 충분히 견딜 수 있는 철제판을 사용하도록 하고 운반기계에 확실하게 고정하여야 한다.\n",
      "\n",
      "② 기울기는 10° ~ 15° 정도로 한다.\n",
      "\n",
      "③ 운반기계의 중심과 건설기계의 중심이 일치되게 하고 반드시 발판으로 오르내리게 한다.\n",
      "\n",
      "④ 발판은 건설기계가 오르내릴 때 휘어지지 않도록 각재 등으로 보강한다.\n",
      "\n",
      "⑤ 건설기계를 와이어로 끌어당겨 올릴 때에는 주위에 사람의 출입을 금지하여야 한다.\n",
      "\n",
      "(2) 운반기계에 건설기계를 적재할 경우 주의사항\n",
      "\n",
      "(가) 건설기계를 운반기계에 적재하기 전에 다음 사항을 확인하여야 한다.\n"
     ]
    },
    {
     "name": "stderr",
     "output_type": "stream",
     "text": [
      "INFO:httpx:HTTP Request: POST http://localhost:8000/v1/chat/completions \"HTTP/1.1 200 OK\"\n",
      " 26%|██▌       | 11/43 [02:15<07:10, 13.45s/it]"
     ]
    },
    {
     "name": "stdout",
     "output_type": "stream",
     "text": [
      "--------------------------------\n",
      "Processed: 운반기계를 적재하기에 알맞는 위치에 둔다.\n",
      "\n",
      "② 운반기계의 적재할 기계의 중량보다 커야한다\n",
      "\n",
      "③ 운반기계에 적재할 때에는 운반기계의 운전석 위로 건설기계의 버켓 등을 회전시키는 행위를 금지하고, 운반기계의 운전자는 운반기계로부터 내려와야 한다.\n",
      "\n",
      "④ 운반기계의 브레이크는 확실히 작동시켜야 하며, 운반기계의 바퀴에 고임목 등 을 확실히 받친다.\n",
      "\n",
      "(나) 파워 셔블, 백호우 등은 봉을 내리고 버켓 등을 적재할 위치에 내려놓는다. 또한 도로사정에 따라 건설기계를 조립된 그대로 적재할 수 없는 경우가 있으므로 유의한다.\n",
      "\n",
      "(다) 발판을 오르내릴 경우 다음 사항에 주의하여야 한다.\n",
      "\n",
      "① 원칙적으로 전진방향으로 오르고, 후진으로 내려온다.\n",
      "\n",
      "② 발판위에서 건설기계를 방향전환 하여서는 안된다. 방향이 잘못된 경우에는 반드시 지상까지 내려서 방향을 교정한 후 다시 올라가야 한다.\n",
      "\n",
      "(나) 저장된 발판을 오르내릴 때는 하중이 한쪽으로 치우치지 않도록 한다.\n",
      "\n",
      "⑤ 발판 위의 오르내리는 유도자의 신호에 따라야 한다.\n",
      "\n",
      "(3) 운반기계에 적재한 후 주의사항\n",
      "\n",
      "(가) 운반기계 위에 적재물이 소정의 위치에 정확히 적재되었는지 여부와 운반기계가 기울지 않았는지 점검한다.\n",
      "\n",
      "(나) 운반기계의 이상유무를 확인한 후에 건설기계를 운반기계에 고정한다. 또한, 수송 중 기계가 흔들릴 경우가 있으므로 바퀴 또는 무한궤도 양측 전후에 괴목고임목 등을 받치고 체인이나 와이어로프로 고정하며 특히 옆으로 솔리지 않도록 한다.\n"
     ]
    },
    {
     "name": "stderr",
     "output_type": "stream",
     "text": [
      "INFO:httpx:HTTP Request: POST http://localhost:8000/v1/chat/completions \"HTTP/1.1 200 OK\"\n",
      " 28%|██▊       | 12/43 [02:26<06:37, 12.84s/it]"
     ]
    },
    {
     "name": "stdout",
     "output_type": "stream",
     "text": [
      "--------------------------------\n",
      "Processed: (다) 굴착기계의 경우 붐, 암 등의 작업장치는 제한높이를 넘지 않도록 최대한 낮추고, 버켓, 리퍼 등의 운반기계의 적재함 위에 고정한다.\n",
      "\n",
      "(라) 적재된 기계는 브레이크와 잠금장치를 모두 걸고 엔진을 정지시킨 후 전원을 끄고, 주클러치를 넣은 위치에서 연료레버를 전폐위치에 둔다.\n",
      "\n",
      "(4) 작업장치의 장착 및 취급의 경우 주의사항\n",
      "\n",
      "(가) 해당작업에 응통하고 경험이 있는 책임자의 지휘하에 작업을 수행한다.\n",
      "\n",
      "(나) 정해진 순서에 따라 작업한다.\n",
      "\n",
      "(다) 암, 붐 등이 하강하거나 전도되지 않도록 안전지주, 안전블럭 등을 사용한다.\n",
      "\n",
      "(라) 중량이 큰 작업장치는 이동식크레인 등을 사용하여야 하며, 흐름이 작업 동은 유자격자가 수행하도록 한다.\n",
      "\n",
      "(5) 운반기계를 이동할 때에는 운반화물위에 사람이 올라타지 못하게 해야 한다.\n",
      "\n",
      "5. 기초공사용 건설기계\n",
      "\n",
      "5.1 일반안전사항\n",
      "\n",
      "5.1.1 공통사항\n",
      "\n",
      "(1) 기초공사용 건설기계 사용시 당해 작업조건에 맞는 기계 및 부속시설의 배치, 작업 순서와 방법 등의 작업계획을 수립하여야 한다.\n",
      "\n",
      "(2) 기초공사에 적합한 건설기계의 기종을 선정하여야 한다.\n",
      "\n",
      "(3) 항타기 및 항발기를 선정할 경우에는 다음 사항을 검토하여야 한다.\n",
      "\n",
      "(가) 말뚝의 종류 및 형상\n"
     ]
    },
    {
     "name": "stderr",
     "output_type": "stream",
     "text": [
      "INFO:httpx:HTTP Request: POST http://localhost:8000/v1/chat/completions \"HTTP/1.1 200 OK\"\n",
      " 30%|███       | 13/43 [02:38<06:17, 12.57s/it]"
     ]
    },
    {
     "name": "stdout",
     "output_type": "stream",
     "text": [
      "--------------------------------\n",
      "Processed: (나) 타격력과 말뚝의 지지력\n",
      "\n",
      "(다) 시공법 및 현장지반 등 작업장 주변사항\n",
      "\n",
      "(라) 말뚝 및 항타기의 중량\n",
      "\n",
      "(마) 작업량 및 공기\n",
      "\n",
      "(4) 건설기계 사용의 안전성을 확보하기 위해 지반은 평탄하게 정리되어야 하고 침하방지 조치를 하여야 한다.\n",
      "\n",
      "(5) 유자격 운전자를 배치한다.\n",
      "\n",
      "(6) 유도자를 배치하여 작업을 유도하여야 하고 장비별 특성에 따른 일정한 표준신호 방법을 정하여 신호하여야 한다.\n",
      "\n",
      "(7) 폭풍, 폭우, 폭설등의 악천후시 작업을 금지시킨다.\n",
      "\n",
      "(8) 기계의 작업범위내에 작업관계자의 출입을 금지시킨다.\n",
      "\n",
      "(9) 작업전 운전자 및 근로자 안전교육을 실시하여야 한다.\n",
      "\n",
      "(10) 지표면 아래로 친공된 부분은 추락재해 방지를 위하여 작업하지 않을 때는 견고한 덮개를 설치하여야 한다.\n",
      "\n",
      "(11) 가스관, 지중전선로 기타 지하매설물의 손괴에 의하여 근로자에게 위험을 미칠 우려가 있을 때에는 지상물 등의 유무를 조사하여 적절한 조치를 하여야 한다.\n",
      "\n",
      "(12) 항타, 친공등의 건설기계의 사용중에는 수리작업을 금지하여야 한다.\n",
      "\n",
      "(13) 운전석 이탈시 원동기를 정지시키고 브레이크를 작동시키는 등 이탈을 방지하기 위한 조치를 하여야 한다.\n",
      "\n",
      "(14) 모든 도르래, 케이블, 기계류, 훅걸이 및 항타기의 다른 부분은 주기적으로 점검\n"
     ]
    },
    {
     "name": "stderr",
     "output_type": "stream",
     "text": [
      "INFO:httpx:HTTP Request: POST http://localhost:8000/v1/chat/completions \"HTTP/1.1 200 OK\"\n",
      " 33%|███▎      | 14/43 [02:53<06:21, 13.15s/it]"
     ]
    },
    {
     "name": "stdout",
     "output_type": "stream",
     "text": [
      "--------------------------------\n",
      "Processed: 하여야 하며, 마모되거나 파손된 부품이나 기계는 즉시 수리하거나 교환하여야 한다.\n",
      "\n",
      "(15) 운전석 내부를 청결히 하고 오르내리는 발판, 손잡이는 항상 깨끗이 하여 미끄러지지 않도록 한다.\n",
      "\n",
      "(16) 모든 건설기계는 기계마다 장비일보에 작업명, 기계 조종원, 작업시간, 정비항목 및 정비회사명, 급유사항, 고장 및 이상 유무등 기계의 이력을 모두 기록하여야 한다.\n",
      "\n",
      "5.1.2 사용전 확인사항\n",
      "\n",
      "(1) 기어, 플라이휠 및 구동축은 덮개로 완전하게 덮어야 하며, 기상의 영향을 적게 받도록 하여야 한다.\n",
      "\n",
      "(2) 사다리는 견고하고, 확실하게 설치하여 가이드타워 높이까지 연장하고, 항상 양호한 상태로 유지하여야 한다.\n",
      "\n",
      "(3) 사람이 돔래의 중간에 겹치지 않도록 방호조치를 해야 하며, 방부 처리된 나무말뚝을 타격할 때에는 눈과 피부가 상하지 않도록 주의 하여야 하며 방호용의 크림 또는 로션을 신체의 모든 노출부분에 바르고 세정설비를 준비하여야 한다.\n",
      "\n",
      "(4) 근로자는 방진안경과 안전모를 착용해야 하며, 고무나 그 밖의 재료로 만든 보호피복을 준비하여야 한다.\n",
      "\n",
      "(5) 와이어로프는 가지런하게 감겨 있어야 한다.\n",
      "\n",
      "(6) 항타 리더에는 보호난간, 또는 수직구멍줄과 추락 방지대 및 발판을 설치해야 하며 작업대, 리더에는 물건을 올려놓지 말아야한다.\n",
      "\n",
      "(7) 가설전기를 사용하는 기계·기구의 접지상태 등 감전재해를 예방하기 위한 조치를 확인하여야 한다.\n",
      "\n",
      "5.2 설치·해체 시 유의사항\n",
      "\n",
      "(1) 지주를 조립하는 경우에는 충분한 부지(지주본체 지지대+마스트길이+여유길이 약 2 미터 이상)를 확보하여야 한다. 또한, 지주조립은 기종(디젤 햄머, 오거 등)에 따라\n"
     ]
    },
    {
     "name": "stderr",
     "output_type": "stream",
     "text": [
      "INFO:httpx:HTTP Request: POST http://localhost:8000/v1/chat/completions \"HTTP/1.1 200 OK\"\n",
      " 35%|███▍      | 15/43 [03:07<06:20, 13.57s/it]"
     ]
    },
    {
     "name": "stdout",
     "output_type": "stream",
     "text": [
      "--------------------------------\n",
      "Processed: 소요면적이 달라지며, 디젤램머를 사용할 경우에는 말뚝의 위치를 확인하고, 항타 장소의 정지 등 준비를 하여야 한다.\n",
      "\n",
      "(2) 지주의 위치는 말뚝중심과 선회작업 등을 고려하여 정하여야 한다. 또한, 연약지반의 경우에는 침묵, 깔판 등을 깔아 부등침하로 인하여 본체가 기울어지지 않도록 하여야 한다.\n",
      "\n",
      "(3) 기초공사용 건설기계의 설치·해체 작업은 다음 사항에 유의하여야 한다.\n",
      "\n",
      "(가) 항타기의 중량을 고려하고, 반·출입경로를 확인함과 동시에 특히 경사면을 이동할 때에는 엄격한 감독을 하여야 하며, 기계가 전도되지 않도록 안전용 밧줄로 안정시킨다.\n",
      "\n",
      "(나) 지반, 토질을 조사하고, 성토 지반이 불안정한 지역에서는 매트 또는 양호한 재료로 치환한다.\n",
      "\n",
      "(다) 인접건물, 고압선 등 주위의 상황을 조사하고, 관리감독자의 지시에 따라야 한다.\n",
      "\n",
      "(라) 지하매설물은 사전에 철저히 조사하고, 운전자에게 그 위치를 명확히 지시함과 동시에 비상시의 대책도 협의한다.\n",
      "\n",
      "(마) 지주가 부등침하하지 않도록 기체를 수평으로 설치한다.\n",
      "\n",
      "(바) 지주의 작업반경내에 장애물이 없는가 확인하고 관계자이외의 출입을 금지시켜야 한다.\n",
      "\n",
      "(4) 기초공사용 건설기계의 권상기 설치·해체작업은 다음 사항을 준수하여야 한다.\n",
      "\n",
      "(가) 항타기 및 항발기에 사용하는 권상기는 끌려올라감, 기울음, 흔들림 등이 일어나지 않도록 설치한다.\n",
      "\n",
      "(나) 권상용 와이어로프에서 추·해머 등과의 연결은 클램프, 클립 등으로 견고하게 고정하여 헬머의 진동 등으로 풀리지 않도록 한다.\n",
      "\n",
      "(다) 항타기 권상용 와이어로프, 시브 등에는 강도가 충분한 샤크, 고정 철물 등을 사\n"
     ]
    },
    {
     "name": "stderr",
     "output_type": "stream",
     "text": [
      "INFO:httpx:HTTP Request: POST http://localhost:8000/v1/chat/completions \"HTTP/1.1 200 OK\"\n",
      " 37%|███▋      | 16/43 [03:20<06:00, 13.35s/it]"
     ]
    },
    {
     "name": "stdout",
     "output_type": "stream",
     "text": [
      "--------------------------------\n",
      "Processed: (라) 권상용 와이어로프는 권상장치의 드럼에 클램프·클립 등을 사용하여 견고하게 고정한다.\n",
      "\n",
      "(마) (나), (라)의 클램프·클립 등의 경우, 한국산업표준 제품이거나 한국산업표준이 없는 제품의 경우에는 이와 동등 이상의 규격을 갖춘 제품을 사용한다.\n",
      "\n",
      "(바) 항타기 및 항발기에 사용하는 권상기에는 쐐기장치 또는 브레이크를 부착한다.\n",
      "\n",
      "(5) 항타기 및 항발기는 전도방지를 위하여 다음 사항을 준수하여야 한다.\n",
      "\n",
      "(가) 연약지반이 설치할 경우에는 아웃트리거와 침하 방지 장치를 설치하여야 하며, 충분한 넓이의 깔판·깔목 등을 사용한다.\n",
      "\n",
      "(나) 건널다리 등 설치 시에 대해서는 그 내력을 확인하고 내력이 부족할 경우에는 보강한다.\n",
      "\n",
      "(다) 아웃트리거·받침 등 지지구조물이 미끄러질 우려가 있는 경우에는 말뚝, 쐐기 등을 고정 결합하여 해당 지지구조물에 고정한다.\n",
      "\n",
      "(라) 궤도 또는 차로 이동하는 항타기나 항발기는 불시에 움직이지 않도록 레일 클램프, 쐐기 등으로 고정한다.\n",
      "\n",
      "(마) 상단 부분은 버팀대·버팀줄로 고정하여 안정시키고, 그 하단 부분은 견고한 버팀대·말뚝 또는 철골 등으로 고정시킬 것\n",
      "\n",
      "(바) 초속 10 미터 이상의 폭풍우 경보가 있는 때에는 즉시 작업을 중지하여야 한다.\n",
      "\n",
      "(6) 항타기 또는 항발기를 조립하거나 해체하는 경우 다음 사항을 점검하여야 한다.\n",
      "\n",
      "(가) 본체 연결부의 풀림 또는 손상의 유무\n",
      "\n",
      "(나) 권상용 와이어로프·드럼 및 도르래의 부착상태의 이상 유무\n"
     ]
    },
    {
     "name": "stderr",
     "output_type": "stream",
     "text": [
      "INFO:httpx:HTTP Request: POST http://localhost:8000/v1/chat/completions \"HTTP/1.1 200 OK\"\n",
      " 40%|███▉      | 17/43 [03:32<05:38, 13.01s/it]"
     ]
    },
    {
     "name": "stdout",
     "output_type": "stream",
     "text": [
      "--------------------------------\n",
      "Processed: (다) 권상장치의 브레이크 및 쐐기장치 기능의 이상 유무\n",
      "\n",
      "(라) 권상기의 설치상태의 이상 유무\n",
      "\n",
      "(마) 리더(leader)의 버팀 방법 및 고정상태의 이상 유무\n",
      "\n",
      "(바) 본체·부속장치 및 부속품의 강도가 적합한지 여부\n",
      "\n",
      "(사) 본체·부속장치 및 부속품에 심한 손상·마모·변형 또는 부식이 있는지 여부\n",
      "\n",
      "(7) 그 밖에 항타기 및 항발기의 조립, 해체, 이동 또는 부재의 교체 등 필요한 사항은 제조사에서 제공한 설치·해체 작업 설명서에 따라 작업방법과 순서를 정하여 작업에 종사하는 근로자와 주위 작업원에게 주지시켜야 하며, 작업책임자를 지정하여 그 지시에 따라 작업하도록 하여야 한다.\n",
      "\n",
      "5.3 항타·천공작업시 유의사항\n",
      "\n",
      "(1) 항타작업시 일반적인 유의사항\n",
      "\n",
      "(가) 운전자는 전담 신호수로부터 신호를 확인하고, 올림, 내림, 기타 작업은 모두 이 신호에 따라야 한다. 또한 긴급한 경우를 제외하고는 신호수 이외의 사람이 신호 해서는 아니된다.\n",
      "\n",
      "(나) 작업현장은 잘 정리하고 말뚝이 장애물에 닿지 않도록 하여야 한다.\n",
      "\n",
      "(다) 항타 허용하중의 범위를 넘지 않도록 한다.\n",
      "\n",
      "(라) 감아올리기, 회전, 이동 등 각 동작을 동시에 하여서는 아니된다.\n",
      "\n",
      "(마) 급격하게 크레인의 동작이 변하는 작업을 하여서는 아니된다.\n",
      "\n",
      "(바) 지주의 흔들림에 주의하고 위험하다고 판단될 때에는 작업을 중지하고 대책을 강구하여야 한다.\n"
     ]
    },
    {
     "name": "stderr",
     "output_type": "stream",
     "text": [
      "INFO:httpx:HTTP Request: POST http://localhost:8000/v1/chat/completions \"HTTP/1.1 200 OK\"\n",
      " 42%|████▏     | 18/43 [03:47<05:38, 13.56s/it]"
     ]
    },
    {
     "name": "stdout",
     "output_type": "stream",
     "text": [
      "--------------------------------\n",
      "Processed: (사) 작업장소를 이동할 때에는 장애물, 연약지반, 지면요철 등 이동장소의 상황을 잘 확인하고 항타기를 최하위까지 내리고 나서 이동하여야 한다. 횡 이동의 경우 지주가 전도되지 않도록 주의하여야 한다.\n",
      "\n",
      "(아) 와이어로프의 손상유무를 수시로 점검하여야 한다.\n",
      "\n",
      "(자) 지반의 침하가 일어난 경우에는 지주를 후퇴시키고 깔판 등으로 보강 하여야 한다.\n",
      "\n",
      "(차) 붐, 와이어로프 등이 장애물이나 고압선에 접촉되지 않도록 주의 하여야 한다.\n",
      "\n",
      "(카) 인접 건물, 부근의 통행자 등에 기름, 배기가스 등이 비산하여 피해를 주지 않도록 하여야 한다.\n",
      "\n",
      "(타) 인접건물과 그 주위에 소음, 진동 등의 영향을 조사하고 방진, 방음 등 필요한 조치를 취하여야 한다.\n",
      "\n",
      "(파) 권상장치의 드럼에 권상용 와이어로프가 꼬인 때에는 와이어로프에 하중을 걸지 않도록 한다.\n",
      "\n",
      "(하) 항타기 또는 항발기의 권상장치에 하중을 견제로 정차해 들 때는 첨가장치 또는 브레이크를 사용하여 확실하게 정지시켜 두어야 하며, 하중을 견 상태에서 운전자가 운전위치를 이탈하여서는 아니 된다.\n",
      "\n",
      "(거) 운전 중 항타기 및 항발기의 권상용 와이어로프의 부근에 근로자를 출입시키려는 아니 된다.\n",
      "\n",
      "(너) 말뚝을 뽑을 때에는 항발기의 봉을 60도 이내로 하고, 말뚝을 뽑을 수 없을 때에는 말뚝을 뽑는 인발장치를 따로 보강해야 한다.\n",
      "\n",
      "(2) 천공작업시 일반적인 유의사항\n",
      "\n",
      "(가) 슬라이드 처리를 위한 투기장을 확보하고 정화설비를 갖추어야 한다.\n",
      "\n",
      "(나) 공벽의 붕괴를 방지하기 위해 안정액 사용시 0.2 kg/cm²이상의 정수압으로 안정시키고 회수 관리를 철저히 하여 토양오염을 방지하여야 한다.\n"
     ]
    },
    {
     "name": "stderr",
     "output_type": "stream",
     "text": [
      "INFO:httpx:HTTP Request: POST http://localhost:8000/v1/chat/completions \"HTTP/1.1 200 OK\"\n",
      " 44%|████▍     | 19/43 [04:02<05:32, 13.84s/it]"
     ]
    },
    {
     "name": "stdout",
     "output_type": "stream",
     "text": [
      "--------------------------------\n",
      "Processed: (다) 토사층과 암반층과의 경계부는 공벽 붕괴 취약부로서 케이싱을 사용할 경우 암반층에 케이싱의 모든 부분이 근입될수 있도록 관리하여야 한다.\n",
      "\n",
      "(라) 천공부분으로 작업자가 추락하지 않도록 건고한 덮개를 설치하여야 한다.\n",
      "\n",
      "(마) 케이싱을 사용하는 경우 반드시 2 줄걸이를 실시하고 샤클과 와이어로프의 상태를 주기적으로 확인하여야 한다.\n",
      "\n",
      "(바) 뾰 둔 등의 집성이 강한 토질에서 케이싱을 인발할 때에는 와이어로프에 장력이 과다하게 작용되므로 이에 대한 충분한 내력을 확보하여야 한다.\n",
      "\n",
      "(사) 케이싱의 적재시에는 구름을 방지하기 위해 케이싱을 설치하여야 한다.\n",
      "\n",
      "(아) 천공작업장소 이외의 주변 지반이 이완되지 않도록 관리하여야 한다.\n",
      "\n",
      "3) 말뚝을 고는 작업시의 유의사항\n",
      "\n",
      "(가) 작업자가 말뚝을 리더의 캡에 거울 때에는 말뚝과 가이드프레임 사이 또는 말뚝의 두 부에 손목이나 손이 깔지 않도록 주의하여야 한다.\n",
      "\n",
      "(나) 말뚝을 바른 위치로 끌기 위해서는 로프를 이용해야 한다.\n",
      "\n",
      "(다) 매달아 올릴 때에는 말뚝의 매다는 점에 와이어로프를 걸여야 하며, 긴 것은 반드시 2 점 걸이로 하여야 한다.\n",
      "\n",
      "(라) 말뚝의 인입은 리더의 황방향이 아닌 정면에서 하여야 한다.\n",
      "\n",
      "4) 말뚝의 세우기 작업시 유의사항\n",
      "\n",
      "(가) 항타중에 말뚝이 흔들리지 않도록 고정하여야 한다.\n",
      "\n",
      "(나) 지반, 지형상황에 따라 말뚝의 항타위치를 결정하여야 한다.\n",
      "\n",
      "(다) 작업장의 지면이 경사진 경우는 지면을 파서 말뚝의 끝을 정위치에 놓아야 한다.\n",
      "\n",
      "(라) 항타 도중 말뚝의 기울어짐을 막기 위해서는 초기에 자주 교정하여야 한다.\n"
     ]
    },
    {
     "name": "stderr",
     "output_type": "stream",
     "text": [
      "INFO:httpx:HTTP Request: POST http://localhost:8000/v1/chat/completions \"HTTP/1.1 200 OK\"\n",
      " 47%|████▋     | 20/43 [04:14<05:09, 13.45s/it]"
     ]
    },
    {
     "name": "stdout",
     "output_type": "stream",
     "text": [
      "--------------------------------\n",
      "Processed: (가) 말뚝, 캡, 헴머 등의 각축이 동일 연직선이 되도록 조정한 후 항타를 시작한다.\n",
      "\n",
      "(나) 이음 말뚝일 경우 상하 말뚝의 축선이 어긋나 있지 않은가 확인한 다음 항타 한다.\n",
      "\n",
      "(다) 항타 초기에는 말뚝의 방향이 바르게 들어가고 있는가를 확인한 다음 연속적으로 타입하여야 한다.\n",
      "\n",
      "(라) 항타중에는 항시 말뚝의 침하상태를 기록하여야 한다.\n",
      "\n",
      "(마) 항타중에 쿠션재가 손상되거나 가이드레일, 축봉, 리더 등이 구부러지거나 경사진 경우에는 즉시 교환하여야 한다.\n",
      "\n",
      "(바) 말뚝 지지재와 말뚝사이에는 캡의 경우와 같이 완충재를 사용하여야 한다. 이때 타격 회수가 많을 경우 완충재가 경화되어 기능을 상실 하지 않도록 주의하여야 한다.\n",
      "\n",
      "5.4 항타작업종료시 유의사항\n",
      "\n",
      "(1) 헴머, 어스오거 등은 마스트 최하단으로 내려 받침목위에 보관하고 임시로 묶어 두어야 한다.\n",
      "\n",
      "(2) 리더하부를 받쳐야 한다.\n",
      "\n",
      "(3) 레일 클램프를 체결하고 선회차륜 등을 고정시켜야 한다.\n",
      "\n",
      "(4) 전기 기기류는 방수용 시트 등으로 덮어야 한다.\n",
      "\n",
      "(5) 폭풍우시에는 지주의 하부에 물이 고이지 않도록 배수를 잘하고 마스트를 바람 쪽으로 향하게 하여 선회 프레임 후부에 샤크로 고정 시켜야 한다.\n",
      "\n",
      "(6) 장기간 격납을 할 때에는 기계제작사의 관리사항에 따라 필요한 조치를 하여야 한다.\n",
      "\n",
      "6. 양중기(크레인, 건설용 리프트)\n"
     ]
    },
    {
     "name": "stderr",
     "output_type": "stream",
     "text": [
      "INFO:httpx:HTTP Request: POST http://localhost:8000/v1/chat/completions \"HTTP/1.1 200 OK\"\n",
      " 49%|████▉     | 21/43 [04:29<05:04, 13.84s/it]"
     ]
    },
    {
     "name": "stdout",
     "output_type": "stream",
     "text": [
      "--------------------------------\n",
      "Processed: 6.1 양중기 일반안전사항\n",
      "\n",
      "6.1.1 공통사항\n",
      "\n",
      "(1) 기어(치차)의 마모상태와 조작레버의 작동상태를 점검하여야 한다.\n",
      "\n",
      "(2) 양중장비에는 운전자가 잘 보이는 위치에 정격하중표지를 부착하여야 한다.\n",
      "\n",
      "(3) 교환예비부품의 수명을 미리 점검하고, 고장난 원인, 상황, 교환방법, 기타 자료를 기록하여 차후에 참고자료가 되도록 한다.\n",
      "\n",
      "(4) 부품이 파손된 것, 급격히 마모가 된 것은 교환으로 끝내지 말고 파손부분의 원인, 급격마모의 원인 등을 규명하고 재질 및 형상을 검토하여야 한다.\n",
      "\n",
      "6.2 크레인\n",
      "\n",
      "6.2.1 크레인 안전점검 사항\n",
      "\n",
      "(1) 수시점검 : 급유, 발열, 음향, 제어기, 브레이크, 집전장치, 안전장치, 와이어로프, 도래 등의 이상 유무를 점검하고, 불량한 것은 수리 또는 교환하여야 한다. 운전자의 점검은 매일 작업 전과 작업종료 후의 2회를 원칙으로 하고, 운전중에 이상이 발견되면 즉시 작업을 중지하고 그 부분을 점검하여야 한다. 운전자 이외의 수리담당자는 시기를 정하여 점검하여야 한다.\n",
      "\n",
      "(2) 정기점검 : 점검기간을 정한 정기점검을 하지 않으면 기계가 조기에 노후화되고 불의의 고장원인이 되므로 반드시 정기점검을 하여야 한다.\n",
      "\n",
      "(3) 현장수리 : 시공현장 수리 및 순회점검에서 발견된 수리를 필요로 하는 부분 및 돌발적으로 발생한 고장부분은 즉시 수리해야 한다.\n",
      "\n",
      "(4) 안전점검은 규정된 점검표(체크리스트)에 의하여 점검을 하고, 주로 마모, 열화경향, 각 부분의 볼트와 너트의 헐거움·탈락 등을 점검 측정한 다음, 작동 시험후 각 부분의 이상음, 성능저하 및 발열의 유무 등을 점검하여야 한다.\n",
      "\n",
      "6.2.2 운전자가 준수하여야 할 사항\n"
     ]
    },
    {
     "name": "stderr",
     "output_type": "stream",
     "text": [
      "INFO:httpx:HTTP Request: POST http://localhost:8000/v1/chat/completions \"HTTP/1.1 200 OK\"\n",
      " 51%|█████     | 22/43 [04:45<05:07, 14.66s/it]"
     ]
    },
    {
     "name": "stdout",
     "output_type": "stream",
     "text": [
      "--------------------------------\n",
      "Processed: (1) 정해진 인양능력이상의 작업은 하지 말아야 한다.\n",
      "\n",
      "(2) 인양높이의 부족시 권과방지장치를 없애거나, 작업범위를 넓히기 위하여 기복 제한 스위치를 해제하거나 허용하중 이상의 물체를 끌어올리기 위해 과부하 방지장치를 제\n",
      "거한 채로 사용하는 것은 아니된다. 만일 안전장치의 작동이 부적당한 경우에는 작\n",
      "동상태를 재시험하여 작동불량의 원인을 확인하고 그 대책을 강구하여야 한다.\n",
      "\n",
      "(3) 기계장치부분 및 운전석, 기초부분 등은 매일 깨끗하게 청소하여야 한다. 기름이 누\n",
      "출되어 미끄러지는 곳은 특히 주의하여야 한다.\n",
      "\n",
      "(4) 1 대의 기계를 2 인의 운전자가 교대로 운전하는 경우, 운전시의 기계상황, 이상유\n",
      "무를 다음 운전자에게 전달하고 작업일지에도 기록해 두어야 한다. 여기에는 이상\n",
      "사항만이 아니고 작업의 종류, 작업량, 급유량, 발열사항들도 전달되도록하며 기록\n",
      "은 장례계획, 안전관리, 수리계획, 기계 손료 등의 귀중한 자료가 되므로 매일\n",
      "실시되어야 한다.\n",
      "\n",
      "(5) 인양하는 화물은 형상이 크고 중량률이 많아서 취급중에 낙하하거나, 인\n",
      "양하는 화물에 충격을 주어 진동을 일으키면 대형 사고가 발생할 위험이 있고, 또한\n",
      "인양물 밑에서 작업하는 사람들의 머리 위를 통과하는 경우가 많으므로 운전자, 걸\n",
      "이작업자의 부주의에 의한 재해를 예방하기 위하여 걸이작업자, 신호수, 운전자는\n",
      "신호 확인과 동시에 안전운전의 확인을 이행하여야 한다.\n",
      "\n",
      "6.2.3 작업개시전 안전 확인 사항\n",
      "\n",
      "(1) 설치할 기초면의 이상무무\n",
      "\n",
      "(2) 화물을 매다는 장소, 주행장소 등에 장애물 유무\n",
      "\n",
      "(3) 각부의 고정장치가 해제되어 있지 않은지 여부\n",
      "\n",
      "(4) 수전전압은 규정대로 유지되고 있는지 확인하고 만약 10 % 이상 저하되면 작업을 중\n",
      "지하여야 한다.\n",
      "\n",
      "(5) 무부하로 시운전을 하고 셀어스위치의 작동을 확인한다.\n",
      "\n",
      "(6) 줄걸이 작업자, 신호수 등과 필요한 협의를 하여야 한다. 새로운 사람이 줄걸이\n",
      "작업자로 들어온 경우에는 다시 확인한다.\n"
     ]
    },
    {
     "name": "stderr",
     "output_type": "stream",
     "text": [
      "INFO:httpx:HTTP Request: POST http://localhost:8000/v1/chat/completions \"HTTP/1.1 200 OK\"\n",
      " 53%|█████▎    | 23/43 [04:58<04:43, 14.18s/it]"
     ]
    },
    {
     "name": "stdout",
     "output_type": "stream",
     "text": [
      "--------------------------------\n",
      "Processed: (7) 권과방지장치, 과부하방지장치, 비상정지장치, 해지장치, 안전밸브 등 안전장치의 부착여부 및 작동상태를 확인한다.\n",
      "\n",
      "6.2.4 당일의 작업종료후 다음날의 작업안전에 대비하여 확인 해 두어야 할 사항\n",
      "\n",
      "(1) 기계는 소정의 위치에 두어야 한다.(선회위치, 붐의 위치, 고정 블록의 위치 등)\n",
      "(2) 운전 중에 이상이 감지된 개소를 점검하여야 한다. 제어기, 접촉점, 접전장치, 브레이크 등을 점검 수리한다.\n",
      "(3) 다음날의 운전에 대비하여 각부를 청소하고 주유한다.\n",
      "(4) 스위치 각부의 차단과 운전실 및 기계실의 잠금장치를 확인한다.\n",
      "(5) 고정장치를 안전하게 위치시킨다.\n",
      "(6) 작업일지 및 인계 인수부를 기록한다.\n",
      "\n",
      "6.2.5 화물취급시 유의사항\n",
      "\n",
      "(1) 화물을 크레인으로 취급하여 적재할 경우는 중심위치, 인양하는 화물의 균형, 적재 높이, 안정도, 긴결방법 등 다음 사항을 준수하여야 한다.\n",
      "\n",
      "(가) 취급화물은 정리정돈을 하되, 반입 반출순서를 고려하여 실시하여야 한다.\n",
      "(나) 무리하게 아래방향에서 크레인의 권상능력을 이용하여 끌어내어서는 아니된다.\n",
      "(다) 적재방법은 중심이 밑으로 오도록 하고, 중심의 이동에 의해서 물체가 균형을 잃지 않도록 하여야 한다.\n",
      "(라) 적재높이, 취급수량, 적재면적 등을 고려하여 안전한 적재방법으로 하고 전도에 의한 충격을 방지하여야 한다.\n",
      "(2) 정격하중이상의 화물을 인양해서는 아니된다.\n"
     ]
    },
    {
     "name": "stderr",
     "output_type": "stream",
     "text": [
      "INFO:httpx:HTTP Request: POST http://localhost:8000/v1/chat/completions \"HTTP/1.1 200 OK\"\n",
      " 56%|█████▌    | 24/43 [05:12<04:28, 14.15s/it]"
     ]
    },
    {
     "name": "stdout",
     "output_type": "stream",
     "text": [
      "--------------------------------\n",
      "Processed: (3) 공동작업은 반드시 신호에 따라서 움직여야 한다. 크레인은 반드시 1 인의 신호수가 신호하도록 한다. 신호수는 상대방이 확실하게 알 수 있도록 정확한 신호를 하여야 한다.\n",
      "\n",
      "(4) 인양하는 물체의 진행방향에 위험이 없는가를 확인하여야 한다. 경보를 울리고, 상대방이 이를 확인한 후 선회, 권상, 권하 등의 작업을 하여야 하며, 확인되지 않을 경우에는 일단 정지하여야 한다.\n",
      "\n",
      "(5) 운전자는 운전중 겉눈질하지 말고 주의하여 작업하여야 한다. 특히, 보조운전자가 동석하는 경우 잡담 등을 하여서는 아니된다.\n",
      "\n",
      "(6) 폭풍우시의 조치는 다음과 같다.\n",
      "\n",
      "(가) 하중이 걸리지 않은 상태에서 흔을 최상단까지 끌어올리고, 지브는 바람이 부는 방향으로 향하게 하여 최하한까지 내려두어야 한다.\n",
      "\n",
      "(나) 선회브레이크를 풀어, 풍향에 따라 지브가 자유로 선회하도록 하고 근처에 장애물이 있는지 확인하여야 한다.\n",
      "\n",
      "(다) 주행식은 레일 클램프를 확실히 하고, 또한 차륜에는 쐐기로 전후를 고정해야 한다.\n",
      "\n",
      "(라) 인입스위치를 꺼야 한다.\n",
      "\n",
      "(마) 운전실의 창 및 문짝은 완전하게 폐쇄하고 각 전기부품은 물에 젖지 않도록 덮개를 하여야 한다.\n",
      "\n",
      "(바) 기초, 기계 받침지반 등의 토사가 무너질 우려가 있는 경우에는 적당한 붕괴 방지 조치를 취하여야 한다.\n",
      "\n",
      "6.2.6 줄걸이작업시 유의사항\n",
      "\n",
      "(1) 고정식크레인, 이동식크레인의 줄걸이 작업은 경험있는 지정된 작업자가 하여야 한다.\n",
      "\n",
      "(2) 크레인의 줄걸이 작업시는 다음 사항을 준수하여야 한다.\n",
      "\n",
      "(가) 줄걸이 하물의 중량에 따라 위치를 정하여 반드시 흔의 중심에 걸도록 한다.\n"
     ]
    },
    {
     "name": "stderr",
     "output_type": "stream",
     "text": [
      "INFO:httpx:HTTP Request: POST http://localhost:8000/v1/chat/completions \"HTTP/1.1 200 OK\"\n",
      " 58%|█████▊    | 25/43 [05:26<04:11, 13.97s/it]"
     ]
    },
    {
     "name": "stdout",
     "output_type": "stream",
     "text": [
      "--------------------------------\n",
      "Processed: (나) 줄걸이 화물의 지상작업시에는 로프가 인장을 받기까지 기울기 수정하면서 서서히 감아올리고 로프가 완전히 인장을 받은 상태에서 일단 정지하고 로프의 상태를 확인한다.\n",
      "\n",
      "(다) 로프의 굽기, 꼬임, 걸이각도, 손상의 유무 등을 확인한 후에 줄걸이작업을 한다.\n",
      "\n",
      "(라) 줄걸이용 체인, 섬유로프 및 섬유벨트와 흙, 샤클, 링 등의 걸이용구는 적정한 것이 확인한다.\n",
      "\n",
      "(마) 크레인의 흙을 줄걸이 화물의 바로 위로 유도하고 황으로 걸지 않도록 한다.\n",
      "\n",
      "(바) 줄걸이 로프의 걸이각도는 60° 이내가 유지되도록 하는 것이 바람직하다.\n",
      "\n",
      "(사) 줄걸이 화물에는 바르게 와이어로프를 걸고 화물이 기울어지거나 분리되지 않도록 주의 한다.\n",
      "\n",
      "(아) 모서리진 것을 매달 때에는 모서리에 닿는 로프부분에 큰 힘이 작용하지 않도록 목편 등 보조받침을 덧대어 보호한다.\n",
      "\n",
      "(자) 장착물과 큰하중을 걸 때에는 중심위치가 흙 바로 아래에 오도록 하고 구부러지는 부분에는 적당한 보조기구를 사용한다.\n",
      "\n",
      "(차) 줄걸이 작업자는 줄걸이 화물에 올라타지 말아야 한다.\n",
      "\n",
      "(카) 줄걸이 로프를 구부려 줄걸이 작업을 할 경우에는 로프의 구부림에 의한 강도저하를 고려하고 안전하중을 엄수한다.\n",
      "\n",
      "(3) 클립고정의 경우에는 U볼트의 너트가 하중을 받는 로프쪽에 오게 조여야하며 와이어 로프의 직경별 클립수 및 간격은 <표 1>에 주어진 바와 같다.\n",
      "\n",
      "<표 1> 와이어로프 직경별 클립수 및 간격\n"
     ]
    },
    {
     "name": "stderr",
     "output_type": "stream",
     "text": [
      "INFO:httpx:HTTP Request: POST http://localhost:8000/v1/chat/completions \"HTTP/1.1 200 OK\"\n",
      " 60%|██████    | 26/43 [05:34<03:24, 12.03s/it]"
     ]
    },
    {
     "name": "stdout",
     "output_type": "stream",
     "text": [
      "--------------------------------\n",
      "Processed: 유지효율 = \\frac{체결부의 절단하중}{와이어로프의 절단하중} \\times 100\\%\n",
      "\n",
      "(4) 로프 끝의 고정방법에 따른 유지력은 다음의 유지효율 공식에 의하며, 고정 방법별 유지효율은〈그림 1〉에 의한다.\n",
      "\n",
      "6.2.7 크레인의 신호방법\n",
      "\n",
      "(1) 크레인의 운전신호는 작업장의 책임자가 지명한 자 이외에는 하여서는 아니된다.\n",
      "\n",
      "(2) 신호수는 줄걸이작업자와 긴밀한 연락을 취하여야 한다.\n",
      "\n",
      "(3) 신호수는 1 인으로 하여 수신호, 경적 등을 정확하게 사용하여야 한다.\n",
      "\n",
      "(4) 신호수의 부근에서 혼동되기 쉬운 경적, 음성, 동작 등이 있어서는 아니 된다.\n",
      "\n",
      "(5) 크레인 작업중 신호수는 걸이작업자와 운전자의 중간시야가 차단되지 않는 위치\n"
     ]
    },
    {
     "name": "stderr",
     "output_type": "stream",
     "text": [
      "INFO:httpx:HTTP Request: POST http://localhost:8000/v1/chat/completions \"HTTP/1.1 200 OK\"\n",
      " 63%|██████▎   | 27/43 [05:45<03:11, 11.94s/it]"
     ]
    },
    {
     "name": "stdout",
     "output_type": "stream",
     "text": [
      "--------------------------------\n",
      "Processed: (6) 신호수는 크레인의 성능, 작동 등에 충분히 이해하고 비상시 응급 처치가 가능하도록 항상 현장의 상황을 확인하여야 한다.\n",
      "\n",
      "6.2.8 고정식 크레인 설치 및 작업시 유의사항\n",
      "\n",
      "(1) 설치시 유의사항\n",
      "\n",
      "(가) 고정식 크레인을 설치할 경우\n",
      "\n",
      "① 크레인의 기초는 설치하는 크레인의 정격하중, 작업반경 등에 의해 산정된 응력에 충분히 견딜 수 있도록 설치하여야 한다.\n",
      "\n",
      "② 기초의 시공은 부등침하가 생기지 않도록 조치하고 기초 상단은 정확히 수평을 유지하여야 한다.\n",
      "\n",
      "③ 앵커볼트는 기초의 철근 등에 용접하거나 L형강의 이음으로 인장 및 압축력에 충분히 견딜 수 있도록 한다.\n",
      "\n",
      "④ 조립작업은 지정된 작업지휘자의 지휘하에 실시하여야 한다.\n",
      "\n",
      "⑤ 마스트와 지브의 설치작업 등은 신중하게 하고 작업관계자 이외는 작업장 주변에 출입하지 못하게 하여야 한다.\n",
      "\n",
      "⑥ 작업장소는 충분한 공간을 확보하고 장애물이 없도록 하여야 한다.\n",
      "\n",
      "⑦ 옥상설치의 경우 강풍 등으로 움직이거나 전도되지 않도록 설치하여야 한다.\n",
      "\n",
      "⑧ 폭풍·폭우 및 폭설 등의 악천후 시에는 작업을 중지하여야 한다.\n",
      "\n",
      "⑨ 크레인 운전석에는 기계의 성능과 운전자명을 부착하여야 한다.\n",
      "\n",
      "⑩ 크레인 조립후 약 1주일간은 볼트의 조임 상태와 너트의 헐거움을 점검하고 필요시 재조임하여야 한다.\n"
     ]
    },
    {
     "name": "stderr",
     "output_type": "stream",
     "text": [
      "INFO:httpx:HTTP Request: POST http://localhost:8000/v1/chat/completions \"HTTP/1.1 200 OK\"\n",
      " 65%|██████▌   | 28/43 [05:57<02:57, 11.84s/it]"
     ]
    },
    {
     "name": "stdout",
     "output_type": "stream",
     "text": [
      "--------------------------------\n",
      "Processed: (2) 작업시 유의사항\n",
      "\n",
      "(가) 작업시에는 다음 사항에 유의하여야 한다.\n",
      "\n",
      "① 정해진 능력이상의 작업을 하여서는 아니된다.\n",
      "\n",
      "② 안전장치를 제거하고 운전해서는 안된다.\n",
      "\n",
      "③ 선회하거나 정지할 때에는 충격을 피하여 유연하게 운전하여야 한다.\n",
      "\n",
      "④ 비상시에는 비상정지 버튼을 눌러 대처하여야 한다.\n",
      "\n",
      "⑤ 운전 중에 이상이 발견된 경우에는 크레인을 즉시 정지시키고 책임자에게 보고하여 지시를 받도록 한다.\n",
      "\n",
      "⑥ 초속 10 미터이상의 강풍일 때에는 작업을 즉시 중지하고 책임자의 지시를 받아야 한다.\n",
      "\n",
      "⑦ 운전자는 인양물이 인양되는 동안 운전석에서 이탈해서는 아니 된다.\n",
      "\n",
      "⑧ 크레인은 굴착된 가장자리 근처 혹은 강우와 하천의 유량증가 등에 의해서 위험 또는 불안정한 장소에 방치해서는 아니된다.\n",
      "\n",
      "(나) 운전중의 신호는 다음 사항을 준수하여야 한다.\n",
      "\n",
      "① 운전을 위한 표준신호는 모든 운전자에게 알려야 하며, 운전자의 지휘에는 이 신호를 사용한다.\n",
      "\n",
      "② 인양물이 신호수에게 보이지 않는 지점에 운반되는 경우를 제외 하고는 운전자에게 신호를 보내는 것은 1 인으로 하며, 필요할 경우에는 보조신호수를 선임한다.\n",
      "\n",
      "③ 운전자는 신호수로부터 신호를 받으면 경음기 등을 울린 후 작업에 임하여야 한다. 또한 운전은 신호를 확인한 후 개시한다.\n",
      "\n",
      "(다) 인양물의 취급은 다음 사항을 준수하여야 한다.\n"
     ]
    },
    {
     "name": "stderr",
     "output_type": "stream",
     "text": [
      "INFO:httpx:HTTP Request: POST http://localhost:8000/v1/chat/completions \"HTTP/1.1 200 OK\"\n",
      " 67%|██████▋   | 29/43 [06:09<02:48, 12.05s/it]"
     ]
    },
    {
     "name": "stdout",
     "output_type": "stream",
     "text": [
      "--------------------------------\n",
      "Processed: ① 흔들리기 쉬운 인양물은 가이드로프를 이용해 유도한다.\n",
      "\n",
      "② 인양물은 줄걸이 경험이 있는 작업원이 취급하도록 한다.\n",
      "\n",
      "③ 인양물이 요동하여 작업원, 구조물 또는 비계에 부딪쳐 손상되지 않도록 주의한다.\n",
      "\n",
      "④ 작업원은 인양되는 물체에 올라가서는 아니된다.\n",
      "\n",
      "⑤ 크레인에 무리한 힘을 가하거나 인양물이 미끄러지는 것을 막기 위해서는 인양물의 맨 위의 훅을 이용하여야 한다.\n",
      "\n",
      "⑥ 인양물을 작업원의 머리위로 움직여서는 아니된다.\n",
      "\n",
      "(라) 타워크레인 사용시 유의사항\n",
      "\n",
      "① 설치시는 기초에 걸린 축력, 모멘트가 크기 때문에 기계의 종류에 따라 견고한 기초를 설치하여야 한다.\n",
      "\n",
      "② 철골부재에 설치할 경우에는 철골을 보강한 후에 설치하여야 한다.\n",
      "\n",
      "③ 설치시는 당해 작업이 종료되었을 경우의 해체방법도 미리 고려하여야 한다.\n",
      "\n",
      "④ 작업자가 버켓 또는 인양물에 올라타지 않도록 한다.\n",
      "\n",
      "⑤ 크레인 장비의 드럼에 감겨진 와이어로프는 적어도 두 바퀴 이상 남아 있어야 한다.\n",
      "\n",
      "⑥ 드럼에는 회전 제어기나 역회전 방지기 또는 기타의 안전장치를 갖추어야 한다.\n",
      "\n",
      "⑦ 긴 물건의 한쪽달기 또는 끌어당기는 경우, 지브를 올리고 내릴 때에는 진동 등이 수반되므로 작업을 하여서는 안 된다.\n",
      "\n",
      "(마) 케이블 크레인의 사용시 유의사항\n",
      "\n",
      "① 작업중 크레인의 와이어로프가 느슨해진 경우에는 트랙로프가 도르래 내에 또는\n"
     ]
    },
    {
     "name": "stderr",
     "output_type": "stream",
     "text": [
      "INFO:httpx:HTTP Request: POST http://localhost:8000/v1/chat/completions \"HTTP/1.1 200 OK\"\n",
      " 70%|██████▉   | 30/43 [06:21<02:33, 11.85s/it]"
     ]
    },
    {
     "name": "stdout",
     "output_type": "stream",
     "text": [
      "--------------------------------\n",
      "Processed: 드럼에 제대로 잠겨 있는지를 확인하여 조정하여야 한다.\n",
      "\n",
      "② 권장장비의 드럼에는 감겨진 와이어로프가 적어도 두 바퀴 이상 남아 있어야 한다.\n",
      "\n",
      "③ 장비를 변조 또는 확장하거나 부속품을 교환 또는 수리할 때에는 본래의 장비를 설계할 때 고려하였던 안전요소를 확보하여야 한다.\n",
      "\n",
      "(바) 지브 크레인의 사용시 유의사항\n",
      "\n",
      "① 철골부재에 설치할 경우는 철골을 보강하여야 하며 조임나사 등은 충분히 검사를 하여야 한다.\n",
      "\n",
      "② 주행식의 경우는 과부하로 인한 전락사고가 일어나지 않도록 이에 대한 안전조치를 하여야 한다.\n",
      "\n",
      "(사) 매일 작업 개시전 기계의 운전상태 점검사항\n",
      "\n",
      "① 와이어로프는 바로 도르래에 걸려 있는가, 또는 드럼에 바로 감기고 있는가를 점검한다.\n",
      "\n",
      "② 각부의 급유개소에 급유한다.\n",
      "\n",
      "③ 각부의 볼트, 너트, 키 등의 혐거음, 털락은 없는가를 점검한다.\n",
      "\n",
      "④ 클러치, 브레이크, 유압기기 등의 압력 및 작동상태를 점검한다.\n",
      "\n",
      "⑤ 각 안전장치의 작동을 확인한다.\n",
      "\n",
      "⑥ 지브를 선회하는 주변에 장애물을 유무를 확인한다.\n",
      "\n",
      "6.2.9 이동식 크레인 설치 및 작업시 유의사항\n",
      "\n",
      "(1) 설치시 유의사항\n",
      "\n",
      "(가) 이동식 크레인의 설치시에는 다음 사항을 확인하여야 한다.\n"
     ]
    },
    {
     "name": "stderr",
     "output_type": "stream",
     "text": [
      "INFO:httpx:HTTP Request: POST http://localhost:8000/v1/chat/completions \"HTTP/1.1 200 OK\"\n",
      " 72%|███████▏  | 31/43 [06:32<02:18, 11.57s/it]"
     ]
    },
    {
     "name": "stdout",
     "output_type": "stream",
     "text": [
      "--------------------------------\n",
      "Processed: ① 조립에 충분한 공간이 있는가를 확인한다.\n",
      "\n",
      "② 본체는 수평으로 설치한다.\n",
      "\n",
      "③ 조립용 볼트, 핀 등의 체결상태를 확인한다.\n",
      "\n",
      "④ 안전장치의 설치, 배선, 작동을 확인한다.\n",
      "\n",
      "⑤ 붐을 끌어올릴 때에는 사람이 접근하지 않도록 한다.\n",
      "\n",
      "⑥ 붐은 놓히고 선단부는 침목위에 두어야 한다.\n",
      "\n",
      "⑦ 와이어로프를 지상에 쭉 펴서 꼬임풀기를 한다.\n",
      "\n",
      "(2) 작업시 유의사항\n",
      "\n",
      "(가) 이동식 크레인으로 잔교상에서 작업할 경우 유의사항\n",
      "\n",
      "① 잔교강도를 담당자와 협의, 확인하여야 한다.\n",
      "\n",
      "② 작업반경에 대해 과하중이 되지 않는지 확인하여야 한다.\n",
      "\n",
      "③ 아우트리거 또는 크롤러가 잔교의 기둥 밖으로 나오지 않도록 하고 부득이한 경우 충분히 보강하여야 한다.\n",
      "\n",
      "④ 잔교상을 이동할 경우에는 조용히 운전하여야 한다.\n",
      "\n",
      "(나) 이동식 크레인으로 연약지반위에서 작업할 경우 유의사항\n",
      "\n",
      "① 주행로는 막자갈, 깔판 등으로 충분히 보강하여야 한다.\n",
      "\n",
      "② 크롤러와 아우트리거의 밑에는 깔판, 칠판 등 강도가 충분히 유지되는 재료로 보강하고, 침하나 미끄러짐 등을 방지하여야 한다.\n",
      "\n",
      "③ 파손된 도로 등은 조속히 보수 하여야 한다.\n"
     ]
    },
    {
     "name": "stderr",
     "output_type": "stream",
     "text": [
      "INFO:httpx:HTTP Request: POST http://localhost:8000/v1/chat/completions \"HTTP/1.1 200 OK\"\n",
      " 74%|███████▍  | 32/43 [06:44<02:11, 11.93s/it]"
     ]
    },
    {
     "name": "stdout",
     "output_type": "stream",
     "text": [
      "--------------------------------\n",
      "Processed: (다) 이동식 크레인으로 전력선 부근에서 작업할 경우 유의사항\n",
      "\n",
      "① 붐과 모든 전력선과의 거리는 최소한 2 미터 이상 유지하여야 한다.\n",
      "\n",
      "② 전력선의 밑을 기계가 선회할 때에는 가드를 설치하여야 한다.\n",
      "\n",
      "③ 기계가 대전된 선에 접촉하였을 경우에는 누구도 기계에 접근하여서는 아니 된다.\n",
      "\n",
      "④ 송전선은 절연재료 파복처리 하여야 한다.\n",
      "\n",
      "⑤ 감시자를 정하여 철저히 감시하여야 한다.\n",
      "\n",
      "⑥ 전력선에 접촉된 경우의 처치는 관계자와 협의하고 다른 작업자에게도 철저히 주의 시켜야 한다.\n",
      "\n",
      "(라) 이동식 크레인을 사용하여 근로자를 운반하거나 근로자를 달아 올린 상태에서 작업에 종사시켜서는 아니 된다. 다만, 작업 장소의 구조, 지형 등으로 고소작업 대를 사용하기가 곤란하여 이동식 크레인 중 기중기를 한국산업표준[KS B ISO 12480-1:1997 크레인 - 안전한 사용-제1부:일반의 부속서(C.1∼C.4)]에서 정하는 안전기준에 따라 사용하는 경우는 그러하지 아니하다.\n",
      "\n",
      "(마) 이동식 크레인으로 항발작업을 할 경우 유의사항\n",
      "\n",
      "① 작업장은 충분히 견딜 수 있는지 확인하여야 한다.\n",
      "\n",
      "② 조임부분, 붐의 휨 등 기계의 불안한 개소를 점검 및 정비하여야 한다.\n",
      "\n",
      "③ 붐의 길이는 말뚝길이를 고려하여 가능한 한 짧은 붐을 사용하여야 한다.\n",
      "\n",
      "④ 걸이부분을 점검하고 강도가 충분한 것을 사용하여야 한다.\n",
      "\n",
      "⑤ 작업장소의 주위는 충분히 보강하고 기구 등의 파손, 비산의 경우에 대비하여야 한다.\n"
     ]
    },
    {
     "name": "stderr",
     "output_type": "stream",
     "text": [
      "INFO:httpx:HTTP Request: POST http://localhost:8000/v1/chat/completions \"HTTP/1.1 200 OK\"\n",
      " 77%|███████▋  | 33/43 [06:52<01:47, 10.71s/it]"
     ]
    },
    {
     "name": "stdout",
     "output_type": "stream",
     "text": [
      "--------------------------------\n",
      "Processed: 6.3 건설용 리프트\n",
      "\n",
      "6.3.1 설치 시 유의사항\n",
      "\n",
      "(1) 조립작업은 지정된 작업 지휘자의 지휘하에 실시하여야 한다.\n",
      "\n",
      "(2) 기초와 마스트는 볼트로 견고하게 고정하여야 한다.\n",
      "\n",
      "(3) 각부의 볼트가 헐겁지 않도록 조여야 한다.\n",
      "\n",
      "(4) 마스트 지지는 최하층은 6 미터 이내에 설치하고 중간층은 18 미터 이내마다 설치 하며 최상부층은 반드시 설치한다.\n",
      "\n",
      "(5) 지상 방호울은 1.8 미터 높이까지 설치하여야 한다.\n",
      "\n",
      "(6) 운전자가 각층을 보는 것이 곤란한 경우에는 경보음, 램프 등의 신호장치를 설치하여야 한다.\n",
      "\n",
      "(7) 접지를 확실하게 하여야 한다.\n",
      "\n",
      "(8) 폭풍·폭우 및 폭설 등의 악천후 시에는 작업을 중지하여야 한다.\n",
      "\n",
      "6.3.2 사용 전 확인 점검 사항\n",
      "\n",
      "(1) 운전 시 작전 확인 점검 사항\n"
     ]
    },
    {
     "name": "stderr",
     "output_type": "stream",
     "text": [
      "INFO:httpx:HTTP Request: POST http://localhost:8000/v1/chat/completions \"HTTP/1.1 200 OK\"\n",
      " 79%|███████▉  | 34/43 [07:06<01:43, 11.54s/it]"
     ]
    },
    {
     "name": "stdout",
     "output_type": "stream",
     "text": [
      "--------------------------------\n",
      "Processed: (가) 리프트의 전체를 살펴 외관상 이상유무가 없는지를 확인한다.\n",
      "(나) 운반구 입구에 적재하중 표시가 명확하게 되어 있는지 확인한다.\n",
      "(다) 전기배선에 이상이 없는가를 확인한다.\n",
      "(라) 조립 및 체결 볼트류의 이완 및 탈락이 없는지 확인한다.\n",
      "(마) 감속장치의 적정 오일레벨 유지상태 및 교환여부를 확인한다.\n",
      "(바) 화물의 적재나 탑승이 끝나면 리프트의 운전자는 승강로상에 방해가 되는 칠선, 각\n",
      "재, 파이프 등 돌출물이 있는지 또는 작업자가 건물측에서 신체의 일부를 승강로\n",
      "쪽으로 돌출시킬 염려가 있는지 등을 확인한다.\n",
      "\n",
      "(2) 현장 설치후 운전원 시운전시 확인점검 사항\n",
      "(가) 각종 조작버튼(조작반 등)의 작동상태를 확인한다.\n",
      "(나) 배전반 내부에 있는 테스트보드의 스위치(비상, 입구문, 출구문, 상·하부 전동기, 낙\n",
      "하방지장치 등)를 눌러 부저가 울리는지 확인한다.\n",
      "(다) 무부하상태에서 2~3회 상승하강을 반복하여 브레이크 및 클러치의 작동상태, 권\n",
      "과방지장치 작동상태 등 각종 안전장치 및 주요 구조부분의 이상변형 여부 등을\n",
      "확인한다.\n",
      "(라) 출입문 연동장치의 작동상태를 확인한다.\n",
      "(마) 가이드롤러의 동작 및 마모상태를 확인한다.\n",
      "\n",
      "6.3.3 사용시 유의사항\n",
      "(1) 리프트는 가능한한 전담운전자를 배치하여 운영토록 한다.\n",
      "(2) 리프트를 사용할 때에는 안전성 여부를 안전관계자에게 확인한 후 사용한다.\n",
      "(3) 리프트의 운전자는 조작방법을 충분히 숙지한 후 운행하여야 한다.\n"
     ]
    },
    {
     "name": "stderr",
     "output_type": "stream",
     "text": [
      "INFO:httpx:HTTP Request: POST http://localhost:8000/v1/chat/completions \"HTTP/1.1 200 OK\"\n",
      " 81%|████████▏ | 35/43 [07:22<01:43, 12.88s/it]"
     ]
    },
    {
     "name": "stdout",
     "output_type": "stream",
     "text": [
      "--------------------------------\n",
      "Processed: (4) 운전자는 운행중 이상음, 진동 등의 발생여부를 확인하면서 운행한다.\n",
      "\n",
      "(5) 출입문이 열려진 상태에서의 리프트 사용은 추락 등의 위험이 있으므로 어떠한 경 우라도 운행해서는 안된다.\n",
      "\n",
      "(6) 조작반의 임의 조작으로 인한 자동운전은 절대로 하여서는 안된다.\n",
      "\n",
      "(7) 리프트의 탑승은 운반구가 정지된 상태에서만 한다.\n",
      "\n",
      "(8) 리프트는 과적 또는 탑승인원을 초과하여 운행하지 않도록한다.\n",
      "\n",
      "(9) 리프트 하강운행시 승강로 주변에 작업자가 접근하지 않도록 한다.\n",
      "\n",
      "(10) 고장수리는 반드시 전문가에게 의뢰하여 실시하여야 한다.\n",
      "\n",
      "(11) 리프트 운전자 및 탑승자는 안전모, 안전화 등 개인보호구를 착용하여야 한다.\n",
      "\n",
      "(12) 탑승구 출입 및 화물적재시 다음 사항을 확인 점검하여야 한다.\n",
      "\n",
      "(가) 적재와 탑승을 위하여 운반구내에 들어갈 때는 리프트 주위에 설치된 방호울의 상태, 운반구 상부의 비상탈출구의 단합상태, 승강로 상부에 작업자가 있는지 등을 관찰하여 자재, 공구, 작업부설물 등의 낙하 우려가 있는지를 확인한다.\n",
      "\n",
      "(나) 화물을 운반구 바닥에 균일하게 분포시킨다는 마음가짐으로 적재시키되 양쪽 마스트 중심을 기준으로 하여 하중을 분포시킨다.\n",
      "\n",
      "(다) 화물이 너무 길거나 넓어(파이프 및 합판 등) 운반구 출입문 밖으로 화물이 나와 분리 단하지 않을 경우에는 운반구에 적재하여 운반하지 말고, 타워크레인 등 별도의 운반기계를 이용하도록 한다.\n",
      "\n",
      "(라) 벽돌, 모래 등의 소형화물 운반시는 상승중 운반구 철망 또는 틈새로 떨어지는 것을 방지하기 위하여 운반구에 그대로 싣지 말고 손수레 및 적당한 용기에 담아서 적재한 후 운반한다.\n",
      "\n",
      "(마) 무게가 가벼운 물건 및 단관파이프 등을 적재할 때는 운전중 승강로 하부로 떨어 지지 않도록 운반구에 로프, 고무줄 등으로 묶어 놓는다.\n"
     ]
    },
    {
     "name": "stderr",
     "output_type": "stream",
     "text": [
      "INFO:httpx:HTTP Request: POST http://localhost:8000/v1/chat/completions \"HTTP/1.1 200 OK\"\n",
      " 84%|████████▎ | 36/43 [07:37<01:34, 13.48s/it]"
     ]
    },
    {
     "name": "stdout",
     "output_type": "stream",
     "text": [
      "--------------------------------\n",
      "Processed: (바) 출입문의 작동에 방해가 될 정도로 화물을 많이 싣지 않도록 한다.\n",
      "\n",
      "(사) 적재하중을 초과하여 실지 않도록 하며, 적재하중 산정시 운전자 자신의 몸무게도\n",
      "필히 고려되어야 한다.\n",
      "\n",
      "(자) 화물적재시 탑승자 및 운전자가 탑승할 공간도 사전에 확보 하여야 한다.\n",
      "\n",
      "(차) 적재완료시 화물의 적재상태, 탑승자의 위치를 확인하고 출구측 문과 입구측문을\n",
      "확실히 닫고 상승준비를 한다.\n",
      "\n",
      "(13) 운전조작시 다음사항을 확인점검 하여야 한다.\n",
      "\n",
      "(가) 리프트의 브레이크는 동력을 차단하면 즉시 작동되는 구조로 되어 있으므로 조작반의 상승작동 스위치를 누르면 즉시 상승하고 손을 떼면 즉시 정지하는 구조로 되어 있음에 유의한다.\n",
      "\n",
      "(나) 상승조작시는 경보 등의 방법으로 상부작업자에게 리프트의 상승을 알린다.\n",
      "\n",
      "(다) 조작반의 스위치를 조작하여 운반구를 1 미터 정도 상승시켜 정지시킨 다음 운반구의 균형상태, 화물상태 등을 확인한 후 다시 원하는 높이로 운행한다.\n",
      "\n",
      "(라) 이상음, 이상진동 또는 이상한 냄새가 발생하는지 유의하면서 상승시킨다.\n",
      "\n",
      "(마) 적재한 화물이 무너짐 등 운행중 이상현상 등의 발생시는 즉시 비상스위치를 눌러운반구를 정지시켜야 한다.\n",
      "\n",
      "(바) 필요이상으로 빈번한 상승·하강·비상정지스위치를 작동시키지 않도록 해야한다.\n",
      "\n",
      "(사) 한변 정지하여 수평이 되지 않으면 재조작하여 필히 운반구가 수평을 유지하도록 한다.\n",
      "\n",
      "(아) 운행중 운반구가 갑자기 정지하게 되면 비상정지의 전원을 차단하고 정비요원에게 알려 필요한 조치를 받도록 한다. 특히 장비에 대해 조금 안다고 해서 무리하게 재작동하지 말고, 탑승자를 신속히 하차시킨다.\n"
     ]
    },
    {
     "name": "stderr",
     "output_type": "stream",
     "text": [
      "INFO:httpx:HTTP Request: POST http://localhost:8000/v1/chat/completions \"HTTP/1.1 200 OK\"\n",
      " 86%|████████▌ | 37/43 [07:51<01:21, 13.62s/it]"
     ]
    },
    {
     "name": "stdout",
     "output_type": "stream",
     "text": [
      "--------------------------------\n",
      "Processed: (자) 운반구내에서 탑승자가 불필요한 행동을 하거나 조작반의 조작스위치 틈새에 못 등을 꺼내거나 레버에 철사줄 등을 걸어내어 자동운전을 시키는 행위는 절대로 금한다.\n",
      "\n",
      "(14) 적하 및 하차시 다음사항을 확인 점검하여야 한다.\n",
      "\n",
      "(가) 최상층부의 화물부터 차례로 내린다.\n",
      "\n",
      "(나) 손수레를 이용하는 경우에는 급격한 이동을 하지 않는다.\n",
      "\n",
      "(다) 출구측 양측면의 건물에 부착된 안전난간대를 잡는 일이 없도록 한다.\n",
      "\n",
      "(라) 건물측에 설치된 작업발판의 건고성을 확인한다.\n",
      "\n",
      "(마) 반대측의 문은 항상 잠겨있는 것을 확인한 후 하차시킨다.\n",
      "\n",
      "(바) 운반구 바닥진단면과 건물측 통로 진단면과의 틈새에 발이 빠지는 것에 주의해야 하고 현지형식의 보조발판이 부착된 운반구는 이 보조발판을 반드시 건물측에 겹친 다음 출입해야 한다.\n",
      "\n",
      "(사) 동승한 탑승자가 있는 경우에는 탑승자부터 먼저 하차시킨다.\n",
      "\n",
      "6.3.4 작업종료시 확인점검 사항\n",
      "\n",
      "(1) 운반구는 승강로 하부바닥에 정차시켜 둔다.\n",
      "\n",
      "(2) 주전원을 차단하고 분전반에 잠금장치를 한다.\n",
      "\n",
      "(3) 운반구 출입구측에 출입차단장치가 있는 경우에는 차단기를 확실히 설치한다.\n",
      "\n",
      "(4) 운전실이 있는 경우 잠금장치를 하여 관계자외에 다른 사람이 운전실에 출입할 수 없도록 조치를 한다.\n",
      "\n",
      "(5) 운전중 조금이라도 이상현상(냄새, 이상음, 이상진동, 오동작) 등이 있으면 다음운전 자에게 업무인계・인수를 철저히 하여야 하며, 동시에 작업책임자에게 알린후 반드시 점검・확인한다.\n"
     ]
    },
    {
     "name": "stderr",
     "output_type": "stream",
     "text": [
      "INFO:httpx:HTTP Request: POST http://localhost:8000/v1/chat/completions \"HTTP/1.1 200 OK\"\n",
      " 88%|████████▊ | 38/43 [08:04<01:07, 13.41s/it]"
     ]
    },
    {
     "name": "stdout",
     "output_type": "stream",
     "text": [
      "--------------------------------\n",
      "Processed: 6.3.5 비상시 조치사항\n",
      "\n",
      "(1) 운행중 이상현상 발생 및 정전 등의 긴급상태 발생시는 먼저 주전원을 차단하는 것이 필요하다.\n",
      "\n",
      "(2) 비상사태 발생후 재운전시는 필요한 시운전(3~5 미터 정도의 상승, 하강동작)을 실시하여 각부의 이상여부를 확인하여야 한다.\n",
      "\n",
      "(3) 리프트 고장으로 작동이 되지 않을 경우 함부로 조작하거나 무리한 동작을 하지 않는다.\n",
      "\n",
      "(4) 리프트가 운행중 고장난 경우 정지위치에 따라 출구문 또는 운반구 내부에 있는 사다리를 이용하여 비상탈출구를 통해 안전하게 밖으로 탈출한다.\n",
      "\n",
      "(5) 고장수리는 반드시 전문가에 의뢰하여 실시한다.\n",
      "\n",
      "6.3.6 유지 및 작동상태 점검기준\n",
      "\n",
      "(1) 유지관리 기준\n",
      "\n",
      "(가) 임의로 구조를 변경하지 말아야 한다.\n",
      "\n",
      "(나) 방호장치를 제거하거나 기능을 정지시킨 후 사용하지 말아야 한다.\n",
      "\n",
      "(다) 리프트의 조작을 운반구 밖에서 하는 경우 조작자를 별도로 지정하여야 하며 누구나 조작하게 하지 말아야 한다.\n",
      "\n",
      "(라) 리프트의 유지관리는 해당 사업장의 관리감독자가 월 2회 이상 점검하여야 한다.\n",
      "\n",
      "(마) 리프트의 적재하중, 정격속도, 기타 안전수칙 등을 작업자가 쉽게 볼 수 있는 곳에 마로되지 않도록 부착하여야 한다.\n",
      "\n",
      "(바) 기타 리프트의 상태와 현장실정에 적합한 정비 및 관리가 이루어지도록 하여야 한다.\n",
      "\n",
      "(2) 작동상태 점검기준\n",
      "\n",
      "작동상태 점검을 위해서는 리프트의 정격하중을 실은 상태에서 상승, 하강을 3회 이상 실시하여 작동상태가 정상이어야 한다.\n"
     ]
    },
    {
     "name": "stderr",
     "output_type": "stream",
     "text": [
      "INFO:httpx:HTTP Request: POST http://localhost:8000/v1/chat/completions \"HTTP/1.1 200 OK\"\n",
      " 91%|█████████ | 39/43 [08:15<00:51, 12.91s/it]"
     ]
    },
    {
     "name": "stdout",
     "output_type": "stream",
     "text": [
      "--------------------------------\n",
      "Processed: 작업별 건설기계 분류표\n",
      "\n",
      "| 작업의 종류 | 적정 기계의 종류 |\n",
      "|-------------|-----------------|\n",
      "| 굴착       | 불도저(Bulldozer), 백호우(Back hoe)  |\n",
      "|            | 크렘셀(Clamp shell)           |\n",
      "| 굴착·실기  | 파워서블(Power shovel), 백호우(Back hoe), 로더(Loader), 크렘셀(Clamp shell), 드래그라인(Dragline) |\n",
      "| 굴착·운반  | 불도저(Bulldozer), 스크레이퍼(Scraper), 스크레이퍼 도저(Scraper dozer), 로더(Loader) |\n",
      "| 정지       | 불도저(Bulldozer), 모터 그레이터(Motor grader) |\n",
      "| 도랑파기   | 트렌취(Trench), 백호우(Back hoe) |\n",
      "| 다짐       | 로울러(로드, 진동, 탭핑, 타이어) |\n",
      "| 기초       | 항타기(杭打機 Pile driver), 항발기(杭拔機) |\n",
      "| 공사       | 천공기(Boring machine), 어스드릴(Earth drill), 어스오거(Earth auger), 리버스 서큘레이션드릴(Reverse circulation drill) |\n",
      "| 건설       | 지반강화, 페이퍼드래인머신(Paper drain machine) |\n",
      "| 기계       | 콘크리트 펌프, 콘크리트 펌프카 |\n",
      "| 골재       | 쇄석기, 자갈채취기, 골재살포기 |\n",
      "| 양중       | 콘크리트랙래인, 케이블크래인, 지브크래인, 이동식 크레인, 호이스트, 건설용 리프트 |\n"
     ]
    },
    {
     "name": "stderr",
     "output_type": "stream",
     "text": [
      "INFO:httpx:HTTP Request: POST http://localhost:8000/v1/chat/completions \"HTTP/1.1 200 OK\"\n",
      " 93%|█████████▎| 40/43 [08:26<00:36, 12.22s/it]"
     ]
    },
    {
     "name": "stdout",
     "output_type": "stream",
     "text": [
      "--------------------------------\n",
      "Processed: 부속서 C\n",
      "\n",
      "사를 들어올리거나 내리기\n",
      "\n",
      "C.1 일반사항\n",
      "\n",
      "크레인으로 사장을 들어올리거나 내리는 것은, 위험하지 않은 방법으로 접근이 불가능한 경우에만 애의적으로 사용해야 한다(그림 C.1 참조).\n",
      "\n",
      "사람은 사장이나 도구의 수작을 방지하도록 설계된 플랫폼이나 작업대를 이용하여 이동되어야 한다. 플랫폼이나 작업대의 최전을 예방할 수 있는 골리를 준비하거나 다중 낙하 로프의 사용 또는 기우는 것을 예방하기 위한 수단이 있어야 하며, 인명들과 같이 이동할 수 있다는 확실한 표시가 되어 있어야 한다. 또한 플랫폼이나 작업대는 사람을 이동시킬 수 있는 안전한 상태에서 사용 전 확실히 점검해야 한다. 모든 경우에 대한 기록을 보관해야 한다.\n",
      "\n",
      "다음의 요구사항 각각에 모두 적합하지 않으면 즉, 인명부, 사람 이동 플랫폼, 지브 또는 크레인에 장착된 이동 장치 등에 사람이 탑승한 상태에서는 어떠한 작업도 하면 안 된다.\n",
      "\n",
      "C.2 크레인 장비\n",
      "\n",
      "크레인은 다음의 장비를 장착해야 한다.\n",
      "\n",
      "a) 인명 제한 장치\n",
      "b) 체어 장치의 작동을 정지시키고 멈출 상태일 때의 자동 브레이크 장치\n",
      "c) 인명물을 내리기 위한 동력. 사람을 오르내리는 작업은 크레인의 자동 낙하가 잡글을 예방 할 수 있다.\n",
      "d) 지상 아래의 작업 시, 호이스트 하강 제한 장치\n"
     ]
    },
    {
     "name": "stderr",
     "output_type": "stream",
     "text": [
      "INFO:httpx:HTTP Request: POST http://localhost:8000/v1/chat/completions \"HTTP/1.1 200 OK\"\n",
      " 95%|█████████▌| 41/43 [08:47<00:29, 14.75s/it]"
     ]
    },
    {
     "name": "stdout",
     "output_type": "stream",
     "text": [
      "--------------------------------\n",
      "Processed: C.3 특수 절차\n",
      "\n",
      "사람을 옮기거나 내릴 때에는 다음의 특수한 절차를 거쳐야 한다.\n",
      "\n",
      "a) 작업 전에 설치 절차에 향후 감독을 받고 절차를 이해하거나 작업 장소에 접근하기 위한 미리 안전한 방법을 선정해야 하며, 그 절차에 따라 안전을 가져야 한다. 감독에 대한 책임이 있는 요령은 작업과 시간 구성을 관련 서류를 만들어야 한다. 관할자에게 승인을 받은 후 그 서류는 보관해야 한다.\n",
      "\n",
      "b) 사람을 내리는 각각의 단계를 책임진 요령은 각 요구사항이 와해 c) ~ 1)의 사항과 일치하는지 검정해야 한다.\n",
      "\n",
      "c) 크레인을 사람을 내리는 데 사용할 때에는 이 표준의 8.3.2의 사항에 부합되는지 메일 검사해야 한다.\n",
      "\n",
      "d) 인원과 명원은 지정된 신호수의 감독과 통제 아래에 있어야 한다.\n",
      "\n",
      "o) 크레인 조종사, 중건이 작업자, 크레인 폼폼 탄반수와 그 작업의 감독자가 참석하는 의뢰에서 폼폼이나 작업대의 속도가 계속 저작자와 출입하는 사람의 위치 변별에 관한 절차를 검토해야 한다.\n",
      "\n",
      "f) 조종사와 중건 감독자는 이론에 쓰이는 폼폼이나 작업대에 같은 절량의 인원들을 들어올리는 사람을 수리하여 탄성이 적절함을 증명한다.\n",
      "\n",
      "g) 크레인 조종사와 중건이 작업자, 운반되는 사람 간의 통신을 계속 유지해야 한다.\n",
      "\n",
      "h) 폼폼이나 바구니에 탐승한 작업자의 용기가 끝난 후, 전모 소유자는 폼폼이나 작업대의 금속 부품과 접촉하지 않도록 한다.\n",
      "\n",
      "i) 들어올리거나 탐승한 작업자는 지시된 드릴 장치에 설치하는 큰이 있는 안전 장구를 착용해야 한다.\n",
      "\n",
      "j) 폼폼에 작업자가 탐승 시 조종사는 조종실에 대기해야 한다.\n",
      "\n",
      "k) 작업자를 내리는 폼폼의 이동은 철인의 주의를 요하며 조정해야 되며, 급작스런 운동이 있어 시는 안 된다. 오르내리는 속도는 30m/min(0.5 m/s)을 초과해서는 안 된다.\n",
      "\n",
      "l) 이동식 크레인은 폼폼이나 작업대에 작업자가 탐승할 때 이동을 해서는 안 된다.\n",
      "\n",
      "m) 폼폼 탄반수는 조종사나 신호수와 계속 통신을 하거나 시야를 놓치서는 안 된다.\n",
      "\n",
      "n) 아웃드라거를 장착한 크레인을 이동을 할 때 보조할 해야 한다.\n",
      "\n",
      "o) 작업자를 포함한 인원수의 전체 철량은 사용 계획의 50%를 넘지 않도록 한다. 크레인의 정격 철량은 최소 1000kg 이상이어야 한다.\n",
      "\n",
      "p) 작업자가 탐승하는 폼폼은 작업자와 작업에 필요한 충분한 계체 및 도구를 이송시키는데 사용해야 하며, 타당의 계체를 이송시키며 사용해서는 안 된다.\n",
      "\n",
      "q) 작업자는 들어올리거나 내릴 때에 공간 사이에 끼이는 것을 방지하기 위해 폼폼의 안쪽으로 신\n"
     ]
    },
    {
     "name": "stderr",
     "output_type": "stream",
     "text": [
      "INFO:httpx:HTTP Request: POST http://localhost:8000/v1/chat/completions \"HTTP/1.1 200 OK\"\n",
      " 98%|█████████▊| 42/43 [09:06<00:16, 16.06s/it]"
     ]
    },
    {
     "name": "stdout",
     "output_type": "stream",
     "text": [
      "--------------------------------\n",
      "Processed: 제의 모든 부분이 위치하도록 해야 한다. 작업자는 플랫폼의 끝부분이나 상부 난간, 중간 난간에 서 작업하거나 위에 서 있지 말아야 한다.\n",
      "\n",
      "r) 만약 플랫폼이 지면에 내리오르지 않는다면, 작업자가 손하차하기 전에 구조물에 고정되어야 한다.\n",
      "\n",
      "s) 작업 플랫폼은 작업자의 안전에 영향을 가지는 7 m/s (25 km/h) 이상의 풍속, 번개, 눈, 우박, 진눈깨비 또는 다른 악천후가 발생할 경우에는 사용할 수 없다.\n",
      "\n",
      "t) 작업 플랫폼은 원위치에 복귀시킨 후, 크레인의 모든 브레이크와 고정 장치는 작업자가 어떠한 작업을 수행하기 전에 작동시켜야 한다.\n",
      "\n",
      "C.4 설계와 설치 규정\n",
      "\n",
      "플랫폼의 설계와 설치는 다음과의 사항을 준수해야 한다.\n",
      "\n",
      "a) 플랫폼은 적합하고 경험이 많은 설계자가 설계를 담당해야 한다.\n",
      "\n",
      "b) 플랫폼의 탑승 인원은 3명으로 제한해야 한다.\n",
      "\n",
      "c) 플랫폼과 연결 장치는 최소 안전율을 5로 하여 설계해야 한다.\n",
      "\n",
      "d) 플랫폼에는 빈 자 설량, 최대 탑승 인원, 정격 용량을 새긴 명판이 설치되어야 한다.\n",
      "\n",
      "e) 플랫폼은 적합한 을타리(예를 들어, 높이 1m 이상의 철판이나 이와 유사한 형태)를 가지고 있어야 한다.\n",
      "\n",
      "f) 그래브 데일은 손의 노출을 최소화하기 위해 작업 플랫폼 안쪽에 위치해야 한다.\n",
      "\n",
      "g) 플랫폼의 측면은 바닥에서 중간 레일까지 역행해야 한다.\n",
      "\n",
      "h) 출입문이 있다면 이 문은 플랫폼의 안쪽으로 열리도록 해야 한다. 또한 이 문은 감각스럽게 열리 는 것을 막는 장치가 설치되어 있어야 한다.\n",
      "\n",
      "i) 플랫폼의 머리 위쪽에 위험 요소가 있는 경우, 작업자나 조종자의 시야를 방해하지 않는 한도 내에서 보호 시설을 설치해야 한다.\n",
      "\n",
      "j) 플랫폼은 높은 선명도를 가진 석결이나 표시로 쉽게 식별할 수 있어야 한다.\n",
      "\n",
      "k) 플랫폼은 연결 고리, 홍(빛장이나 끝이 있는), 쇠키형과 소켓형 어댑터판 등이 설치되어 있는 것이 좋다. 쇠키형과 소켓형 어댑터판은 부하선의 자전단에 설치가 있어야 한다.\n",
      "\n",
      "l) 서스펜션 장치는 작업자가 플랫폼에서 움직이는 경우에도 기울기를 최소로 해 준다.\n",
      "\n",
      "m) 모든 거친 모서리는 꼭면 처리가 되어야 한다.\n",
      "\n",
      "n) 모든 용접 부분은 진공기에 의해 조사되어야 한다.\n",
      "\n",
      "o) 모든 용접은 전문 용접공에 의해 작업이 이루어져야 한다.\n"
     ]
    },
    {
     "name": "stderr",
     "output_type": "stream",
     "text": [
      "INFO:httpx:HTTP Request: POST http://localhost:8000/v1/chat/completions \"HTTP/1.1 200 OK\"\n",
      "100%|██████████| 43/43 [09:19<00:00, 13.00s/it]\n"
     ]
    },
    {
     "name": "stdout",
     "output_type": "stream",
     "text": [
      "--------------------------------\n",
      "Processed: 지침 개정 이력\n",
      "\n",
      "개정일 : 2022. 12.\n",
      "\n",
      "○ 개정자 : 한국산업안전보건공단 건설안전실\n",
      "○ 개정사유 : 차량계 건설기계 관련 산업안전보건기준에 관한 규칙 조항이 개정됨에 따라, 부합하기 위하여 본 지침을 개정함\n",
      "\n",
      "○ 주요 개정내용\n",
      "  - 3. 용어의 정의와 관련하여 \"차량계 건설기계\", \"건설용 리프트\" 정의 정비\n",
      "    ↳ 산업안전보건기준에 관한 규칙 제196조, 제132조제2항의 제3호, 라목.\n",
      "  - 4.1.3 안전장치 확인사항 (3) 정비 \"(종전)헤드가드 → (개정)낙하물 보호구조\"\n",
      "    ↳ 산업안전보건기준에 관한 규칙 제198조\n",
      "  - 5. 기초공사용 건설기계와 관련하여 \"항타기 및 항발기\" 관련 안전기준 정비\n",
      "    ↳ 산업안전보건기준에 관한 규칙 제12절 제2관\n",
      "  - 5. 기초공사용 건설기계와 관련하여 \"항타기 및 항발기\" 관련 안전기준 정비\n",
      "  - 6.2.9 이동식 크레인 설치 및 작업시 유의사항 중 \"이동식 크레인의 탑승제한 관련, 예외적 허용근거\" 마련\n",
      "    ↳ 산업안전보건기준에 관한 규칙 제86조제2항\n",
      "  - <붙임1> 작업별 건설기계 분류표 정비\n",
      "    ↳ 산업안전보건기준에 관한 규칙 제196조 및 동 규칙 [별표6]\n",
      "  - <붙임2> 이동식 크레인의 탑승설비 안전기준(한국산업표준) 반영\n",
      "    ↳ KS B ISO 12480-1의 부속서 C\n",
      "---End---\n",
      "Processing 흙막이공사 (SCW 공법) 안전보건작업지침\n"
     ]
    },
    {
     "name": "stderr",
     "output_type": "stream",
     "text": [
      "  0%|          | 0/14 [00:00<?, ?it/s]INFO:httpx:HTTP Request: POST http://localhost:8000/v1/chat/completions \"HTTP/1.1 200 OK\"\n",
      "  7%|▋         | 1/14 [00:02<00:31,  2.43s/it]"
     ]
    },
    {
     "name": "stdout",
     "output_type": "stream",
     "text": [
      "--------------------------------\n",
      "Processed: 흙막이공사 (SCW 공법)의 안전보건 작업지침\n",
      "\n",
      "2013. 10.\n",
      "\n",
      "한국산업안전보건공단\n"
     ]
    },
    {
     "name": "stderr",
     "output_type": "stream",
     "text": [
      "INFO:httpx:HTTP Request: POST http://localhost:8000/v1/chat/completions \"HTTP/1.1 200 OK\"\n",
      " 14%|█▍        | 2/14 [00:11<01:16,  6.39s/it]"
     ]
    },
    {
     "name": "stdout",
     "output_type": "stream",
     "text": [
      "--------------------------------\n",
      "Processed: 안전보건기술지침의 개요\n",
      "\n",
      "○ 작성자 : 한국안전학회 이명구\n",
      "\n",
      "○ 제·개정 경과\n",
      "\n",
      "- 2013년 10월 건설안전분야 제정위원회 심의(제정)\n",
      "\n",
      "○ 관련규격 및 자료\n",
      "\n",
      "- 토목공사 표준일반시방서(2005, 대한토목학회)\n",
      "- 가설공사 표준시방서(2006, 건설교통부)\n",
      "- 한국산업표준규격 (2011,산업통상자원부)\n",
      "- KOSHA GUIDE C-39-2011(굴착공사 안전작업 지침)\n",
      "\n",
      "○ 관련법규·규칙·고시 등\n",
      "\n",
      "- 「산업안전보건기준에 관한 규칙」 제2편 제4장 제2절 굴착작업 등의 위험방지\n",
      "- 운반하역 표준안전작업지침\n",
      "- 크레인작업 표준신호지침\n",
      "\n",
      "○ 기술지침의 적용 및 문의\n",
      "\n",
      "이 기술지침에 대한 의견 또는 문의는 한국산업안전보건공단 홈페이지 안전보건기술지침 소관 분야별 문의처 안내를 참고하시기 바랍니다.\n",
      "\n",
      "공표일자 : 2013년 11월 6일\n",
      "제 정 자 : 한국산업안전보건공단 이사장\n"
     ]
    },
    {
     "name": "stderr",
     "output_type": "stream",
     "text": [
      "INFO:httpx:HTTP Request: POST http://localhost:8000/v1/chat/completions \"HTTP/1.1 200 OK\"\n",
      " 21%|██▏       | 3/14 [00:21<01:26,  7.85s/it]"
     ]
    },
    {
     "name": "stdout",
     "output_type": "stream",
     "text": [
      "--------------------------------\n",
      "Processed: 1. 목 적\n",
      "\n",
      "이 지침은 「산업안전보건기준에 관한 규칙」(이하 “안전보건규칙”이라 한다) 제2편 제4장 제2절 굴착작업 등의 위험방지 규정에 따라, SCW 흙막이공사 작업과정에서의 안전보건작업 지침을 정함을 목적으로 한다.\n",
      "\n",
      "2. 적용범위\n",
      "\n",
      "이 지침은 건설공사 현장의 SCW 흙막이공사 작업에 적용한다.\n",
      "\n",
      "3. 용어의 정의\n",
      "\n",
      "(1) 이 지침에서 사용되는 용어의 뜻은 다음과 같다.\n",
      "\n",
      "(가) “SCW(Soil Cement Wall)”이란 점성토, 사질사력토 지반에서 차수목적 및 토류벽체를 형성하는 공법으로 오거기(Earth Auger)로 친공 굴착하여 원위치 토사를 골재로 간주하여 시멘트 밀크(Cement Milk) 용액을 롯드(Rod)를 통해 주입하면서 혼합·교반하여 벽체를 조성한다. 굴착 단부의 일부분은 중첩하여 연속벽을 조성해 지수벽으로 하고 벽체내의 측압에 대해서는 H형 강재(응력재) 를 삽입하여 토류벽으로 사용한다.\n",
      "\n",
      "![그림 1: SCW 공법의 시공개요도]\n"
     ]
    },
    {
     "name": "stderr",
     "output_type": "stream",
     "text": [
      "INFO:httpx:HTTP Request: POST http://localhost:8000/v1/chat/completions \"HTTP/1.1 200 OK\"\n",
      " 29%|██▊       | 4/14 [00:28<01:15,  7.56s/it]"
     ]
    },
    {
     "name": "stdout",
     "output_type": "stream",
     "text": [
      "--------------------------------\n",
      "Processed: “슬라임(Slime)”이란 지반 천공 및 굴착 시에 생기는 미세한 굴착 찌꺼기를 말한다.\n",
      "\n",
      "“안내벽(Guide Wall)”이란 SCW 시공시 천공작업에 앞서 굴착구 양측에 설치하는 콘크리트 가설 벽 또는 H형 강재로써, 지반의 무너짐을 방지하고 천공기계 및 H형 강재의 근입의 정확한 위치 유도를 목적으로 설치하는 가설구조물을 말한다.\n",
      "\n",
      "“플랜트(Plant)”란 SCW 공사를 수행하기 위해 소요되는 시멘트 밀크 등의 보관·혼합·공급 등의 제반 부대설비를 말한다.\n",
      "\n",
      "기타 이 지침에서 사용하는 용어의 정의는 특별한 규정이 있는 경우를 제외하고는 산업안전보건법, 같은법 시행령, 같은법 시행규칙, 산업안전보건기준에 관한 규칙에서 정하는 바에 의한다.\n"
     ]
    },
    {
     "name": "stderr",
     "output_type": "stream",
     "text": [
      "INFO:httpx:HTTP Request: POST http://localhost:8000/v1/chat/completions \"HTTP/1.1 200 OK\"\n",
      " 36%|███▌      | 5/14 [00:37<01:12,  8.10s/it]"
     ]
    },
    {
     "name": "stdout",
     "output_type": "stream",
     "text": [
      "--------------------------------\n",
      "Processed: 4. SCW 공법의 시공순서\n",
      "\n",
      "SCW 공법의 시공순서는 <그림 3>과 같다.\n",
      "\n",
      "5. SCW 공법의 일반 안전조치 사항\n",
      "\n",
      "(1) 근로자의 위험을 방지하기 위하여 사업주는 사전에 다음의 내용에 관한 작업계획서의 작성 및 작업지휘자를 지정을 하여야 하며 해당 근로자에게 안전한 작업방법 및 순서를 교육하여야 한다.\n",
      "\n",
      "   (가) 플랜트의 설치 위치\n",
      "   (나) 시멘트 밀크의 공급 방법 및 경로\n",
      "   (다) 차량계 하역운반기계 작업\n",
      "   (라) 굴착면의 높이가 2미터 이상 지반의 굴착작업\n",
      "   (마) 중량물의 취급작업\n",
      "   (바) 천공기, 항타기, 항발기 작업\n",
      "   (사) 가설전기의 인입경로 및 용량\n",
      "\n",
      "(2) 단위공종별 작업을 시작하기 전에는 위험성평가를 실시하고 세부 단위작업별 허용 가능한 위험범위 이내가 되도록 작업방법을 개선한 후가 아니면 작업하지 않도록 하여야 한다.\n",
      "\n",
      "(3) 시공계획서 및 작업계획서를 활용하여 필요 장소에 안전표지판, 경고등, 차\n"
     ]
    },
    {
     "name": "stderr",
     "output_type": "stream",
     "text": [
      "INFO:httpx:HTTP Request: POST http://localhost:8000/v1/chat/completions \"HTTP/1.1 200 OK\"\n",
      " 43%|████▎     | 6/14 [00:52<01:24, 10.61s/it]"
     ]
    },
    {
     "name": "stdout",
     "output_type": "stream",
     "text": [
      "--------------------------------\n",
      "Processed: 단막 등 안전사고방지를 위한 안전시설물 설치하여야 한다.\n",
      "\n",
      "(4) 근로자의 안전을 위하여 보호구의 착용상태 감시, 악천후 시에는 작업의 중지, 관계근로자 이외의 자의 출입통제 등이 이루어져야 하며, 무너짐의 위험이 있다고 판단된 경우에는 즉시 근로자를 안전한 장소로 대피시켜야 한다.\n",
      "\n",
      "(5) SCW 흙막이 공사 시 플랜트 설치 및 시멘트 밀크 제작과 관련하여 다음의 안전지침을 준수하여 관련재해가 일어나지 않도록 하여야 한다.\n",
      "\n",
      "(가) 플랜트 등에 사용되는 가설 전기설비에 대해서는 가설 울타리 및 분전반을 설치하는 등 전기안전시설을 확보해야 하며 작업 중 피복손상으로 인한 감전, 인화폭발, 전기화재 등의 재해를 예방하기 위하여 노출 충전부의 방호, 근로자의 감전방지, 분전함의 시건장치 등의 방지대책을 수립해야 한다.\n",
      "\n",
      "(나) 플랜트, 가설전기 분전반 등은 지반침하로 인하여 갈림의 위험이 없도록 바닥에 콘크리트를 타설하는 등의 조치를 하여야 한다.\n",
      "\n",
      "(다) 물질안전보건자료(MSDS)를 파악하여 취급시 주의사항 등을 교육시켜야 하며, MSDS 대장을 근로자가 보기 쉬운 위치에 비치하여야 한다.\n",
      "\n",
      "(6) SCW 흙막이 공사시 줄파기 작업과 관련하여 다음의 안전지침을 준수하여 관련재해가 일어나지 않도록 하여야 한다.\n",
      "\n",
      "(가) 공사 착수 전에 본 공사 시행으로 인한 인접 제반 시설물의 피해가 없도록 안전대책을 수립함은 물론 이에 대한 현황을 면밀히 조사, 기록, 표시하여야 하며, 인접 제반 시설물의 소유주에게 확인, 주지시켜야 한다.\n",
      "\n",
      "(나) SCW 시공 위치에 상하수도관, 통신케이블, 가스관, 고압케이블 등 지하 매설물이 설치되어 있는지의 여부를 관계기관의 지하매설물 현황도를 확인하고 줄파기를 통하여 매설물을 노출시켜야 하며, 필요시 이설 또는 보호조치를 하여야 한다.\n"
     ]
    },
    {
     "name": "stderr",
     "output_type": "stream",
     "text": [
      "INFO:httpx:HTTP Request: POST http://localhost:8000/v1/chat/completions \"HTTP/1.1 200 OK\"\n",
      " 50%|█████     | 7/14 [01:07<01:23, 11.89s/it]"
     ]
    },
    {
     "name": "stdout",
     "output_type": "stream",
     "text": [
      "--------------------------------\n",
      "Processed: (다) 줄파기 작업 후에는 근로자의 넘어지거나 떨어짐을 방지하기 위하여 난간을 설치하는 등 안전시설을 하여야 한다.\n",
      "\n",
      "(7) SCW 흙막이 공사시 장비와 관련하여 다음의 안전지침을 준수하여 관련재해가 일어나지 않도록 하여야 한다.\n",
      "\n",
      "(가) 현장 여건과 진행 공종별 장비 수급계획을 수립하여 현장의 각종 장비의 뒹침 현상, 칼럼, 기임 등의 재해를 방지하고 장비의 통로는 배수가 잘 되도록 조치하고 지반의 침하나 변형을 수시로 확인하여 필요시 지반을 보강하여야 한다.(필수적 양질의 토사치환, 절판깔기, 콘크리트 포설 등의 조치를 하여야 한다.)\n",
      "\n",
      "(나) 크레인, 천공장비 등 장비를 현장에 반입할 경우에는 해당 장비이력카드를 확인하여 관련 법령에 의한 정기검사 등 이력을 확인하고, 작업 시작전에 건과방지장치, 브레이크, 클러치 및 운전장치의 기능 등을 점검하여야 한다.\n",
      "\n",
      "(다) 지게차를 사용하여 자재를 실을 때에는 허용적재량을 초과하여 적재하여 아닙니다: 하물이 넘어지지 아니하도록 하여야 한다.\n",
      "\n",
      "(라) 장비의 하역작업을 하는 때에는 평탄한 장소에서 수행하여야 하며 인양장비의 넘어짐 등을 방지하기 위하여 견고한 지반조건을 갖추어야 한다. 지반침하가 우려되는 때에는 양질의 토사로 치환, 콘크리트를 타설하는 등 지반침하방지를 위한 안전조치를 하여야 한다. 장비를 반출하는 경우에도 동일하게 적용된다.\n",
      "\n",
      "(마) 현장 내 장비의 이동경로 또는 인근에 고압전선로 등의 장애물이 있는 경우에는 충전부로부터 300센티미터 이상 이격시켜 작업하여야 하며, 그리하지 못할 경우에는 이설한 후 작업하여야 한다.\n",
      "\n",
      "(바) 장비의 리더(Leader) 길이를 고려하여 지상장애물이 없도록 작업공간을 확보하여야 한다.\n"
     ]
    },
    {
     "name": "stderr",
     "output_type": "stream",
     "text": [
      "INFO:httpx:HTTP Request: POST http://localhost:8000/v1/chat/completions \"HTTP/1.1 200 OK\"\n",
      " 57%|█████▋    | 8/14 [01:22<01:16, 12.82s/it]"
     ]
    },
    {
     "name": "stdout",
     "output_type": "stream",
     "text": [
      "--------------------------------\n",
      "Processed: KOSHA GUIDE\n",
      "\n",
      "C - 92 - 2013\n",
      "\n",
      "(8) SCW 흙막이 공사시 시공 안전성 확보와 관련하여 다음의 안전지침을 준수하여 관련재해가 일어나지 않도록 하여야 한다.\n",
      "\n",
      "(가) SCW 연속벽은 현 위치의 토사가 조성 벽의 주제료로 되는 것이기 때문에 토질조사에 의하여 시공전역에 걸쳐 토질조건을 충분히 파악한 후 배합설계를 하여야 한다.\n",
      "\n",
      "(나) 강우나 침투되는 지하수 등을 수시로 점검하고 배수 및 차수계획을 수립하여 횡단하고 있는 지하 매설물과 근로자의 안전에 영향을 미치지 않도록 하여야 한다.\n",
      "\n",
      "(다) 시멘트 밀크 배합용으로 지하수를 사용하는 경우에는 사전에 지하수 자하로 인한 주변 지반침하 등의 피해를 검토하여야 한다.\n",
      "\n",
      "(9) 공사의 안전성 및 합리적 관리를 위한 체계적인 계측계획을 수립하고 인접 주요구조물 등의 거동을 충분히 예측할 수 있는 계측장비를 설치하여야 한다.\n",
      "\n",
      "6. SCW 공법의 각 공정별 안전조치 사항\n",
      "\n",
      "6.1 안내벽(Guide Wall) 및 플랜트(Plant)의 설치\n",
      "\n",
      "(1) SCW 벽체를 정확한 위치에 시공하고 수직도의 정도를 높이기 위하여 안내벽을 설치하여야 하며, 안내벽은 철근콘크리트나 H형 강재를 사용하여 설치한다.\n",
      "\n",
      "(2) 설계도서에서 정한 안내벽의 위치, 폭, 깊이 등을 정확히 확인하고 그에 따라 천공하여야 한다.\n",
      "\n",
      "(3) 안내벽의 상단높이는 현장의 지반고 및 작업장 주변 펜스의 기초등과 비교·검토하여 안전성 여부를 확인하여야 하며, 안정성이 확보되지 않는다고 판단되는 때에는 대처방안을 수립한 후 천공하여야 한다.\n",
      "\n",
      "(4) 안내벽 설치가 완료되기 전 무너짐의 우려가 있는 때에는 양질의 토사로 치환, 굴착사면의 안전구배확보 등의 조치를 하여야 한다.\n"
     ]
    },
    {
     "name": "stderr",
     "output_type": "stream",
     "text": [
      "INFO:httpx:HTTP Request: POST http://localhost:8000/v1/chat/completions \"HTTP/1.1 200 OK\"\n",
      " 64%|██████▍   | 9/14 [01:32<00:59, 11.92s/it]"
     ]
    },
    {
     "name": "stdout",
     "output_type": "stream",
     "text": [
      "--------------------------------\n",
      "Processed: (5) 안내벽과 장비 사이에 우수 등 지표수의 유입으로 인하여 장비위치의 지반이 악화되어 장비가 넘어질 우려가 있는 때에는 지반을 보강하는 등의 안전조치를 하여야 한다.\n",
      "\n",
      "(6) 플랜트는 SCW 공사가 완료될 때까지 사용하는 것이므로 설치장소는 천공 굴착 공사 등 다른 공정에 장애가 없고 안전한 장소이어야 하며, 시멘트 페이스트의 공급 및 회수가 용이한 장소로 선정하여야 한다.\n",
      "\n",
      "(7) 플랜트의 설치장소는 기초콘크리트를 타설하여 장비의 침하 및 갈림의 위험이 없도록 하여야 하며 폭염 등 확방한력에 견딜 수 있도록 건고하게 설치하여야 한다.\n",
      "\n",
      "(8) 시멘트 밀크 혼합 운송 장치는 충분한 성능을 보유한 것으로 시멘트, 혼합재 등의 계량 관리가 가능한 설비를 보유한 것이어야 한다.\n",
      "\n",
      "(9) 시멘트 밀크 운송을 위한 고압호스는 압력조정기와 연계하여 안전밸브를 설치하여 서서히 가압하도록 한다.\n",
      "\n",
      "(10) 장비를 이송 및 설치할 때에는 중량물의 운반 및 고소작업이 이루어지므로 이에 따른 재해를 예방하기 위하여 작업지휘자를 배치하고 그의 지휘하에 작업하여야 한다.\n"
     ]
    },
    {
     "name": "stderr",
     "output_type": "stream",
     "text": [
      "INFO:httpx:HTTP Request: POST http://localhost:8000/v1/chat/completions \"HTTP/1.1 200 OK\"\n",
      " 71%|███████▏  | 10/14 [01:42<00:45, 11.32s/it]"
     ]
    },
    {
     "name": "stdout",
     "output_type": "stream",
     "text": [
      "--------------------------------\n",
      "Processed: 6.2 줄파기 작업\n",
      "\n",
      "(1) 천공공사하기 전에 시공위치의 지하매설물의 유무를 확인하기 위하여 지하 매설물의 예상 심도 이상으로 줄파기를 하여야 한다.\n",
      "\n",
      "(2) 줄파기 작업은 작업계획서에 따라 공사가 안전하게 진행될 수 있도록 장비, 기계·기구, 자재 및 가설재를 준비하여야 한다.\n",
      "\n",
      "(3) 주요 시설물에 대해서는 관계 법령에 따라 시설물 관리자에게 사전 통보하여 천공 작업 시에 입회할 수 있도록 하여야 한다. 주요시설이 훼손되거나 부분적인 누수가 발생할 경우에는 즉각 응급조치를 하고 관리감독자에게 통보하여 적절한 조치를 강구하여야 한다.\n",
      "\n",
      "(4) 지하매설관의 절곡부, 분기부, 단관부, 기타 특수부분의 이음부분은 이동 또는 탈락방지 등의 보강대책을 세워야 하며, 기타 특별한 사항에 대해서는 관리감독자의 지시를 받아야 한다.\n",
      "\n",
      "(5) 가능한 적은 범위 내에서 줄파기를 하고, 보행자의 안전을 위해 보도경계선에 가설울타리를 설치하여야 한다.\n",
      "\n",
      "(6) 줄파기 작업 시에는 부근의 노면건조물, 매설물 등에 피해가 없도록 하고, 지반이 이완되지 않도록 주의하여야 하며, 필요시에는 가복공 또는 가포장\n"
     ]
    },
    {
     "name": "stderr",
     "output_type": "stream",
     "text": [
      "INFO:httpx:HTTP Request: POST http://localhost:8000/v1/chat/completions \"HTTP/1.1 200 OK\"\n",
      " 79%|███████▊  | 11/14 [01:50<00:30, 10.31s/it]"
     ]
    },
    {
     "name": "stdout",
     "output_type": "stream",
     "text": [
      "--------------------------------\n",
      "Processed: (7) 차량계건설기계의 작업장 주변에는 근로자의 부딪힘 등 사고를 방지하기 위해서 관계근로자 이외의 자의 출입을 금지하여야 한다.\n",
      "\n",
      "6.3 천공 및 시멘트 밀크 주입\n",
      "\n",
      "![](image)\n",
      "\n",
      "<그림 6> 크롤러형 시공기의 리더 설치\n",
      "\n",
      "(1) 천공장비는 굴착 깊이, 지층 및 지하수 상태 등을 종합적으로 고려하여 당해 현장에 적합한 장비를 선택하여야 한다.\n",
      "\n",
      "(2) 안내벽에 표시한 중심에 맞추어 오우거 롯드 (Auger Rod)를 설치하고, 베이스 머신(Base Machine)을 고정한 후 리더(Leader)를 수직으로 조정하며, 깊이 1~2 미터까지 천공 후 수직도를 재확인하고 시공함을 원칙으로 한다.\n",
      "\n",
      "(3) 사전에 천공장비의 작업위치에서의 지반 지지력을 검토·확인한 후 천공장비의 이동 및 위치 확보를 하여야 한다.\n"
     ]
    },
    {
     "name": "stderr",
     "output_type": "stream",
     "text": [
      "INFO:httpx:HTTP Request: POST http://localhost:8000/v1/chat/completions \"HTTP/1.1 200 OK\"\n",
      " 86%|████████▌ | 12/14 [02:00<00:20, 10.45s/it]"
     ]
    },
    {
     "name": "stdout",
     "output_type": "stream",
     "text": [
      "--------------------------------\n",
      "Processed: (4) 크롤러형 시공기의 경우 리더 길이가 상당히 높아 작업지반의 경사 및 요철이 깔림 사고의 원인이 되는 경우가 있으므로 작업이동 통로 및 작업위치에 대하여 양질의 토사로 치환, 철판 깔기, 콘크리트 포설 등의 지반보강을 하여야 한다.\n",
      "\n",
      "(5) 천공작업과 동시에 플랜트로부터의 혼합된 시멘트 밀크 용액을 롯드 선단에서 토출시켜 굴착과 병행하여 연속 주입을 한다. 이 때 시멘트 밀크의 주입은 적절한 압력과 토출량을 유지하여 공내에서 균질한 소일시멘트(Soil Cement)가 될 수 있도록 하여야 한다.\n",
      "\n",
      "(6) 시멘트 밀크의 조합 및 주입량은 지질, 지하수의 상태를 고려하여야 한다.\n",
      "\n",
      "<그림 7> 삼축오거를 사용한 천공 작업\n",
      "\n",
      "(7) 천공작업장 인근에는 관계근로자 이외의 자의 출입을 금지하여야 한다.\n",
      "\n",
      "(8) 천공깊이는 설계도서에서 정하는 깊이 이상을 확보하여야 한다.\n",
      "\n",
      "(9) 천공작업 시 발생하는 소음으로부터 근로자를 보호하기 위해 귀마개 등 개인용 보호구를 착용하도록 하여야 한다.\n",
      "\n",
      "(10) SCW 공사는 토사에 시멘트 밀크를 혼합 교반하여 고결시키는 공법으로\n"
     ]
    },
    {
     "name": "stderr",
     "output_type": "stream",
     "text": [
      "INFO:httpx:HTTP Request: POST http://localhost:8000/v1/chat/completions \"HTTP/1.1 200 OK\"\n",
      " 93%|█████████▎| 13/14 [02:10<00:10, 10.32s/it]"
     ]
    },
    {
     "name": "stdout",
     "output_type": "stream",
     "text": [
      "--------------------------------\n",
      "Processed: 시공시 슬라임(Slime)이 발생하며, 이 때 배토량은 벽체 용적의 30~40% 정도이다. 발생 슬라임의 처리시 폐기물의 성상분류에 따른 폐기물처리 방\n",
      "법을 마련해야 한다.\n",
      "\n",
      "6.4 H형 강재 삽입 및 항타\n",
      "\n",
      "(1) H형 강재의 운반은 비틀림이나 변형이 발생하지 않도록 크레인 등을 이용하여 항타기 작업범위까지 운반하여야 한다.\n",
      "\n",
      "(2) 파일 인양용 와이어 로프, 샤클 등 보조기구는 작업 전에 체결상태를 확인하여 불시에 맞을 재해를 예방하여야 한다.\n",
      "\n",
      "(3) H형 강재의 인양 중 맞움 사고를 방지하기 위해 모든 접합부분은 결속하고, 인양용 고리부분은 자중을 고려하여 용접 등의 방법으로 보강하여야 한다.\n",
      "\n",
      "(4) H형 강재 인양 시 보조로프를 사용하여 혼들림에 의한 부딪힘을 예방하여야 한다.\n",
      "\n",
      "(5) H형 강재의 삽입은 삽입된 재료가 공벽에 손상을 주지 않도록 하고 소일 시멘트 기둥조성 직후, 신속히 하여야 한다.\n",
      "\n",
      "(6) 케이싱을 사용하였을 경우 인발은 인발속도를 최대한 천천히 하여 H형강의 뒤틀림 등 변형을 방지하여야 한다.\n"
     ]
    },
    {
     "name": "stderr",
     "output_type": "stream",
     "text": [
      "INFO:httpx:HTTP Request: POST http://localhost:8000/v1/chat/completions \"HTTP/1.1 200 OK\"\n",
      "100%|██████████| 14/14 [02:21<00:00, 10.08s/it]\n"
     ]
    },
    {
     "name": "stdout",
     "output_type": "stream",
     "text": [
      "--------------------------------\n",
      "Processed: 6.5 두부정리 및 시공완료\n",
      "\n",
      "(1) SCW 시공이 완료되면 두부 정리를 하고 각 SCW 상부를 일체화시키기 위하여 캡빔을 설치하여야 한다.\n",
      "\n",
      "(2) 흙막이 벽 상단에 벌어짐 방지용 안전난간을 설치할 경우에는 캡빔 시공전 안전난간의 지주를 미리 설치하여 벌어짐 재해 방지조치를 하여야 한다.\n",
      "\n",
      "(3) SCW 시공완료 후 주변의 굴착작업 시 굴삭기 후면의 깃발 재해를 예방하기 위해 신호수를 배치하고 신호에 따라 작업하여야 한다.\n",
      "\n",
      "(4) SCW 벽면에 강도 및 균질성에 이상이 있거나, 또는 벽면사이의 틈새로부터 누수가 있을 경우 신속하게 보수하여야 한다.\n",
      "\n",
      "(5) 연약지반보강에 SCW 공법이 적용된 경우에 공사 완료 후 차수가 계획목표에 미흡한 경우에는 재시공하거나 별도의 보강 대책을 세워야 한다.\n",
      "\n",
      "7. 기타 안전조치 사항\n",
      "\n",
      "기타 흙막이 공사에 관한 안전작업은 KOSHA GUIDE C-39-2011 굴착공사 안전작업 지침 및 KOSHA GUIDE C-4-2012 흙막이 공사(엄지말뚝) 및 C-63-2012 흙막이 공사(C.I.P 공법) 안전보건작업 지침의 규정에 따른다.\n",
      "---End---\n",
      "Processing 낙하물 방지망 설치 지침\n"
     ]
    },
    {
     "name": "stderr",
     "output_type": "stream",
     "text": [
      "  0%|          | 0/7 [00:00<?, ?it/s]INFO:httpx:HTTP Request: POST http://localhost:8000/v1/chat/completions \"HTTP/1.1 200 OK\"\n",
      " 14%|█▍        | 1/7 [00:02<00:13,  2.18s/it]"
     ]
    },
    {
     "name": "stdout",
     "output_type": "stream",
     "text": [
      "--------------------------------\n",
      "Processed: 낙하물 방지망 설치 지침\n",
      "\n",
      "2017. 9.\n",
      "\n",
      "한국산업안전보건공단\n"
     ]
    },
    {
     "name": "stderr",
     "output_type": "stream",
     "text": [
      "INFO:httpx:HTTP Request: POST http://localhost:8000/v1/chat/completions \"HTTP/1.1 200 OK\"\n",
      " 29%|██▊       | 2/7 [00:15<00:43,  8.77s/it]"
     ]
    },
    {
     "name": "stdout",
     "output_type": "stream",
     "text": [
      "--------------------------------\n",
      "Processed: 안전보건기술지침의 개요\n",
      "\n",
      "○ 작성자 : 안전보건공단 노민래\n",
      "○ 개정자 : 안전보건공단 건설안전실\n",
      "○ 제·개정경과\n",
      "  - 1996년 11월 건설안전분야 제정위원회 심의\n",
      "  - 1996년 12월 총괄제정위원회 심의 및 공표\n",
      "  - 2001년 6월 건설안전분야 제정위원회 심의\n",
      "  - 2001년 8월 총괄제정위원회 심의 및 공표(제1차 개정)\n",
      "  - 2007년 7월 건설안전분야 제정위원회 심의\n",
      "  - 2007년 11월 총괄제정위원회 심의\n",
      "  - 2011년 12월 건설안전분야 제정위원회 심의(개정, 법규개정조항 반영)\n",
      "  - 2017년 7월 건설안전분야 제정위원회 심의(개정)\n",
      "\n",
      "○ 관련규격 및 자료\n",
      "  - KOSHA GUIDE C-31-2017(추락방호망 설치 지침)\n",
      "  - KS F 8083(낙하물 방지망)\n",
      "  - 일본의 가설기자재 구조기준\n",
      "  - 일본 가설공업회, 경년가설재의 관리에 관한 기술기준과 해설\n",
      "\n",
      "○ 관련 법규·규칙·고시 등\n",
      "  - 산업안전보건기준에 관한 규칙 제14조 및 제42조\n",
      "  - 고용노동부고시 제2016-54호(방호장치 안전인증 고시)\n",
      "\n",
      "○ 기술지침의 적용 및 문의\n",
      "  이 기술지침에 대한 의견 또는 문의는 한국산업안전보건공단 홈 페이지 안전보건기술지침 소관 분야별 문의처 안내를 참고하시기 바랍니다.\n",
      "\n",
      "공표일자 : 2017년 9월 7일\n",
      "제 정 자 : 한국산업안전보건공단 이사장\n"
     ]
    },
    {
     "name": "stderr",
     "output_type": "stream",
     "text": [
      "INFO:httpx:HTTP Request: POST http://localhost:8000/v1/chat/completions \"HTTP/1.1 200 OK\"\n",
      " 43%|████▎     | 3/7 [00:26<00:39,  9.96s/it]"
     ]
    },
    {
     "name": "stdout",
     "output_type": "stream",
     "text": [
      "--------------------------------\n",
      "Processed: 낙하물 방지망 설치 지침\n",
      "\n",
      "1. 목 적\n",
      "\n",
      "이 지침은 「산업안전보건기준에 관한 규칙」(이하 “안전보건규칙”이라 한다) 제14조(낙하물에 의한 위험의 방지) 및 제42조(추락의 방지)의 규정에 따라 근로자가 낙하물에 의한 위험 및 위험발생의 우려가 있는 장소에 설치하는 낙하물 방지망의 설치 및 사용에 관한 안전지침을 정함을 목적으로 한다.\n",
      "\n",
      "2. 적용범위\n",
      "\n",
      "이 지침은 건설현장 등의 낙하물의 위험이 있는 장소에서 근로자, 통행인 및 통행차량 등에게 위험을 끼칠 우려가 있는 장소에 설치하는 낙하물 방지망에 대하여 적용한다. 다만, 그물코의 크기가 2cm 이하인 방망을 KOSHA GUIDE C-31-2017(추락방호망 설치 지침)에 따라 설치한 경우에는 본 지침에 따른 낙하물 방지망을 설치한 것으로 본다.\n",
      "\n",
      "3. 용어의 정의\n",
      "\n",
      "(1) 이 지침에서 사용하는 용어의 정의는 다음과 같다.\n",
      "\n",
      "(가) “낙하물”이라 함은 고소 작업에 있어서 높은 곳에서 낮은 곳으로 떨어지는 목재, 콘크리트 덩어리 및 공구류 등의 모든 물체를 말한다.\n",
      "\n",
      "(나) “낙하물 방지망”이라 함은 작업중 재료나 공구 등의 낙하물로 인한 피해를 방지하기 위하여 설치하는 방지망을 말한다.\n",
      "\n",
      "(다) “그물코”라 함은 그물의 구멍부분을 말한다.\n"
     ]
    },
    {
     "name": "stderr",
     "output_type": "stream",
     "text": [
      "INFO:httpx:HTTP Request: POST http://localhost:8000/v1/chat/completions \"HTTP/1.1 200 OK\"\n",
      " 57%|█████▋    | 4/7 [00:36<00:29,  9.86s/it]"
     ]
    },
    {
     "name": "stdout",
     "output_type": "stream",
     "text": [
      "--------------------------------\n",
      "Processed: (라) 그물코 크기 : 매듭의 중심간 거리를 말한다.\n",
      "\n",
      "(마) “재봉사(絲)”라 함은 테두리 로프와 방망을 재봉하여 일체화하기 위한 실 (인조섬유 또는 와이어로프 등)를 말한다.\n",
      "\n",
      "(바) “테두리로프”라 함은 방망의 주변을 형성하는 로프를 말한다.\n",
      "\n",
      "(2) 그 밖의 용어의 정의는 이 지침에서 특별한 규정이 있는 경우를 제외하고는 산업안전보건법, 같은 법 시행령, 같은 법 시행규칙, 안전보건규칙 및 방호 장치 안전인증고시 또는 「산업표준화법」에 따른 한국산업표준에서 정하는 기준 등에서 정하는 바에 따른다.\n",
      "\n",
      "4. 구조 및 재료\n",
      "\n",
      "(1) 방망의 종류는 그물코의 편성방법에 따라 구분하며, 그림 1에 이와에도 다각형 구조 등 여러 형태가 있을 수 있다.\n",
      "\n",
      "(2) 그물코의 크기는 2cm 이하로 하여야 한다.\n",
      "\n",
      "(3) 방망사, 테두리 로프, 재봉사의 재료는 나일론, 폴리에스텔 등의 합성섬유를 사용한다. 다만, 그물코가 작아 합성섬유로 된 테두리로프를 사용하기 곤란한 경우에는 와이어로프로 할 수 있다.\n"
     ]
    },
    {
     "name": "stderr",
     "output_type": "stream",
     "text": [
      "INFO:httpx:HTTP Request: POST http://localhost:8000/v1/chat/completions \"HTTP/1.1 200 OK\"\n",
      " 71%|███████▏  | 5/7 [00:50<00:22, 11.21s/it]"
     ]
    },
    {
     "name": "stdout",
     "output_type": "stream",
     "text": [
      "--------------------------------\n",
      "Processed: 5. 설치 방법\n",
      "\n",
      "(1) 낙하물 방지망의 설치간격은 매 10 m 이내로 하여야 한다. 다만, 첫 단의 설치 높이는 근로자를 낙하물에 의한 위험으로부터 방호할 수 있도록 가능한 낮은 위치에 설치하여야 한다.\n",
      "\n",
      "(2) 낙하물 방지망이 수평면과 이루는 각도는 20°~30°로 하여야 한다.\n",
      "\n",
      "(3) 낙하물 방지망의 내민 길이는 바계 외측으로부터 수평거리 2.0 m 이상으로 하여야 한다.\n",
      "\n",
      "(4) 방망의 가장자리는 테두리 로프를 그물코를 통과하는 방법으로 방망과 결합시키고 로프와 방망을 제봉사 등으로 묶어 고정하여야 한다. 단, 테두리 로프의 지름이 그물코보다 큰 경우 로프와 방망을 제봉사 등으로 묶어 고정하여야 한다.\n",
      "\n",
      "(5) 방망을 지지하는 긴결재의 강도는 15 kN 이상의 인장력에 견딜 수 있는 로프 등을 사용하여야 한다.\n",
      "\n",
      "(6) 낙하물 방지망과 구조물 사이의 간격은 낙하물에 의한 위험이 없는 간격으로 설치하여야 한다.\n",
      "\n",
      "(7) 방망의 겹침 폭은 30 cm 이상으로 테두리로프로 결속하여 방망과 방망 사이의 틈이 없도록 하여야 한다.\n",
      "\n",
      "(8) 근로자, 통행인 등의 왕래가 빈번한 장소인 경우 최하단의 방망은 크기가 작은 못, 볼트, 콘크리트 부스러기 등의 낙하물이 떨어지지 못하도록 방망의 그물코 크기가 0.3 cm 이하인 망을 설치하여야 한다. 다만, 낙하물 방호선반을 설치하였을 경우에는 그러하지 아니하다.\n",
      "\n",
      "(9) 매다는 지지재의 간격은 3 m 이상으로 하되 방망의 수평투영면의 폭이 전체 구간에 걸쳐 2 m 이상 유지되도록 조치하여야 한다.\n"
     ]
    },
    {
     "name": "stderr",
     "output_type": "stream",
     "text": [
      "INFO:httpx:HTTP Request: POST http://localhost:8000/v1/chat/completions \"HTTP/1.1 200 OK\"\n",
      " 86%|████████▌ | 6/7 [00:56<00:09,  9.41s/it]"
     ]
    },
    {
     "name": "stdout",
     "output_type": "stream",
     "text": [
      "--------------------------------\n",
      "Processed: 6. 낙하물 방지망의 관리기준\n",
      "\n",
      "(1) 낙하물 방지망은 설치 후 3개월 이내마다 정기 점검을 실시하여야 한다. 다만, 낙하물이 발생하였거나 유해 환경에 노출되어 방망이 손상된 경우에는 즉시 교체 또는 보수하여야 한다.\n",
      "\n",
      "(2) 낙하물 방지망 주변에서 용접이나 컷팅 작업을 할 때, 용접불티 비산방지덮개, 용접방화포 등 불꽃, 불티 등 비산방지조치를 실시하고 작업이 끝나면 방망의 손상여부를 점검하여야 한다.\n",
      "\n",
      "(3) 방망에 적치되어 있는 낙하물 등은 즉시 제거하여야 한다.\n"
     ]
    },
    {
     "name": "stderr",
     "output_type": "stream",
     "text": [
      "INFO:httpx:HTTP Request: POST http://localhost:8000/v1/chat/completions \"HTTP/1.1 200 OK\"\n",
      "100%|██████████| 7/7 [01:01<00:00,  8.76s/it]\n"
     ]
    },
    {
     "name": "stdout",
     "output_type": "stream",
     "text": [
      "--------------------------------\n",
      "Processed: (4) 건축물(비계) 바깥쪽에 방망을 설치 또는 해체하는 경우 가급적 건축물(비계) 안쪽에서만 작업이 이루어지도록 하여야 한다. 다만, 불가피하게 바깥쪽으로 나가서 설치 및 해체 작업을 해야 하는 특정구간의 경우에는 고소작업대 사용 또는 안전대 착용 등 적절한 추락 방지조치를 하여야 한다.\n",
      "\n",
      "(5) 낙하물 방지망을 설치하기 전에 다음의 표시 사항을 확인하여야 한다.\n",
      "\n",
      "(가) 제조자명 또는 그 약호\n",
      "(나) 제조 연월\n",
      "(다) 안전인증번호\n",
      "---End---\n",
      "Processing 내장공사의 안전보건작업 지침\n"
     ]
    },
    {
     "name": "stderr",
     "output_type": "stream",
     "text": [
      "  0%|          | 0/16 [00:00<?, ?it/s]INFO:httpx:HTTP Request: POST http://localhost:8000/v1/chat/completions \"HTTP/1.1 200 OK\"\n",
      "  6%|▋         | 1/16 [00:02<00:34,  2.28s/it]"
     ]
    },
    {
     "name": "stdout",
     "output_type": "stream",
     "text": [
      "--------------------------------\n",
      "Processed: 내장공사의 안전보건작업 지침\n",
      "\n",
      "2016. 11\n",
      "\n",
      "한국산업안전보건공단\n"
     ]
    },
    {
     "name": "stderr",
     "output_type": "stream",
     "text": [
      "INFO:httpx:HTTP Request: POST http://localhost:8000/v1/chat/completions \"HTTP/1.1 200 OK\"\n",
      " 12%|█▎        | 2/16 [00:15<02:03,  8.81s/it]"
     ]
    },
    {
     "name": "stdout",
     "output_type": "stream",
     "text": [
      "--------------------------------\n",
      "Processed: 안전보건기술지침의 개요\n",
      "\n",
      "○ 작성자 : 한국안전학회 남선준\n",
      "   개정자 : 한국산업안전보건공단 교육원 교수실 오병한\n",
      "\n",
      "○ 제·개정 경과\n",
      "   - 2012년 10월 건설안전분야 제정위원회 심의(제정)\n",
      "   - 2016년 11월 건설안전분야 제정위원회 심의(개정)\n",
      "\n",
      "○ 관련규격 및 자료\n",
      "   - Guidance Construction : 1) Health and Safety in Construction\n",
      "     2) Managing Health and in Safety in Construction\n",
      "     3) Safe Erection, Use and Dismantling of Falsework\n",
      "     4) The Work at Height Regulations 2005\n",
      "     5) Safety working at woodworking machine 1992\n",
      "     6) Top tips for ladder and stepladder safety 2005\n",
      "   - BS : 1) Code of practice for selection, use and maintenance of personal fall protection systems and equipment for use in the workplace\n",
      "   - ANSI : 1915.133 Hand tools.\n",
      "\n",
      "○ 관련법규 · 규칙 · 고시 등\n",
      "   - 산업안전보건기준에 관한 규칙 제67조 ~ 제68조\n",
      "   - 산업안전보건기준에 관한 규칙 제242조 및 제301조\n",
      "   - 산업안전보건기준에 관한 규칙 제666조\n",
      "   - 사업장 위험성평가에 관한 지침(고용노동부고시 제2014-48호)\n",
      "\n",
      "○ 기술지침의 적용 및 문의\n",
      "   - 이 기술지침에 대한 의견 또는 문의는 한국산업안전보건공단 홈페이지(www.kosha.or.kr) 안전보건기술지침 소관 분야별 문의처 안내를 참고하시기 바랍니다.\n",
      "   - 동 지침 내에서 인용된 관련 규격 및 자료 등에 관하여 최근 개정 내용이 있는 경우 동 지침에 우선하여 참고하시기 바랍니다.\n",
      "\n",
      "공표일자 : 2016년 11월 30일\n",
      "제 정 자 : 한국산업안전보건공단 이사장\n"
     ]
    },
    {
     "name": "stderr",
     "output_type": "stream",
     "text": [
      "INFO:httpx:HTTP Request: POST http://localhost:8000/v1/chat/completions \"HTTP/1.1 200 OK\"\n",
      " 19%|█▉        | 3/16 [00:28<02:20, 10.84s/it]"
     ]
    },
    {
     "name": "stdout",
     "output_type": "stream",
     "text": [
      "--------------------------------\n",
      "Processed: 내장공사의 안전보건작업 지침\n",
      "\n",
      "1. 목 적\n",
      "이 지침은 경량철골 천장, 벽체 칸막이 작업공사에서 발생할 수 있는 떨어짐 (추락), 물체에 맞음 (낙하), 넘어짐 (전도), 감전, 배임, 불균형 및 무리한 동작 등 건강장애의 재해예방을 위하여 작업단계별 안전·보건사항 및 안전·보건시설에 관한 기술적 사항 등을 정함을 목적으로 한다.\n",
      "\n",
      "2. 적용범위\n",
      "이 지침은 천장, 내부 벽체 마감 작업을 위해 일반적으로 행해지는 작업에 적용한다.\n",
      "\n",
      "3. 용어의 정의\n",
      "\n",
      "(1) 이 지침에서 사용되는 용어의 정의는 다음과 같다.\n",
      "\n",
      "(가) “천장 작업” 이라 함은 건축마감공사 중 반자의 겉면을 마감하는 작업을 말한다.\n",
      "(나) “내부벽체 작업” 이라 함은 건축마감공사 중 내부벽체에서 시공되는 단열재, 석고보드 등의 작업을 말한다.\n",
      "(다) “달대” 라 함은 천장에 매달리는 환봉(전산볼트)을 매달아 행거(Hanger)를 걸어 지지하는 것을 말한다.\n",
      "(라) “달대 받이” 라 함은 텍스를 붙이기 위해 가로로 설치하는 지지대를 말한다.\n",
      "(마) “달대 볼트” 라 함은 달대(전산볼트)와 행거(Hanger)를 연결하기 위한 볼트를 말한다.\n",
      "(바) “캐링채널(Carrying Channel)이라 함은 달대 볼트와 달대 받이에 고정하여 설치하며 바(Bar) 받이를 위한 지지대를 말한다.\n",
      "(사) “방화 석고보드” 라 함은 불연 특성을 갖는 석고에 무기질 섬유를 보강시켜 내화 성능을 향상 시킨 석고보드(KSF-3504)를 말한다.\n"
     ]
    },
    {
     "name": "stderr",
     "output_type": "stream",
     "text": [
      "INFO:httpx:HTTP Request: POST http://localhost:8000/v1/chat/completions \"HTTP/1.1 200 OK\"\n",
      " 25%|██▌       | 4/16 [00:44<02:34, 12.86s/it]"
     ]
    },
    {
     "name": "stdout",
     "output_type": "stream",
     "text": [
      "--------------------------------\n",
      "Processed: (아) “런너 스터드 트랙(Runner Stud Track)” 이라 함은 경량 강재 밑막이 및 웃막이(KSD-3609)를 말한다.\n",
      "(자) “스터드(Stud)” 라 함은 경량 강재 셋기둥(KSD-3609)을 말한다.\n",
      "(차) “스페이서(Spacer)” 라 함은 Stud 고정용(밀림방지) Clip을 말한다.\n",
      "(카) “코너비드(Corner Bead)” 라 함은 석고판 코너 마감재를 말한다.\n",
      "(타) “내화 실란트(Sealant)” 라 함은 조절 줄눈 및 벽 접합부위 마감용 재료로 내화 성능을 가지는 실란트를 말한다.\n",
      "(2) 그 밖의 용어의 뜻은 이 지침에서 규정하는 경우를 제외하고는 「산업안전보건법」 같은 법 시행령, 같은 법 시행규칙, 안전보건기준에 관한 규칙, 고용노동부 고시에서 정하는 바에 따른다.\n",
      "\n",
      "4. 안전 보건작업계획 수립\n",
      "\n",
      "(1) 내장공사 작업단계별로 위험성평가를 실시하여, 유해·위험요인을 파악하고 해당 유해·위험요인에 의한 부상 또는 질병의 발생가능성(빈도)과 중대성(강도)을 추정·결정하고 감소대책을 수립하여야 한다.\n",
      "(2) 작업의 높이에 따른 작업발판의 설치 계획을 수립하여야 한다.\n",
      "(3) 전기기계·기구 사용을 위한 가설전기의 설치 계획을 수립하여야 한다.\n",
      "(4) 배전반 및 분전반의 접지 및 누전차단기 설치 계획을 수립하여야 한다.\n",
      "(5) 자재운반을 위한 양중 작업 및 소운반 작업에 대하여 안전대책을 수립하여야 한다.\n",
      "(6) 각 작업 단위별 필요한 안전시설물 설치순서와 방법, 시기 등을 정하여야 한다.\n",
      "(7) 안전보호구 지급계획(안전모, 안전대, 안전화, 방진마스크, 보안면, 귀마개 등)을 수립하여야 한다.\n",
      "(8) 근골격계질환 예방을 위한 2시간 연속 작업이 이루어지지 않도록 적합한 휴식시간 계획을 수립하여야 한다.\n",
      "(9) 도면 및 시방서를 검토하고, 마감 재료에 따른 유해·위험성을 검토하여 안전대책을 수립하여야 한다.\n"
     ]
    },
    {
     "name": "stderr",
     "output_type": "stream",
     "text": [
      "INFO:httpx:HTTP Request: POST http://localhost:8000/v1/chat/completions \"HTTP/1.1 200 OK\"\n",
      " 31%|███▏      | 5/16 [00:52<02:00, 10.93s/it]"
     ]
    },
    {
     "name": "stdout",
     "output_type": "stream",
     "text": [
      "--------------------------------\n",
      "Processed: 5. 안전작업 공통 사항\n",
      "\n",
      "(1) 관리감독자는 작업 전에 위험성평가를 실시하고 근로자에게 작업위험요인과 이에 대한 대응방법, 화재 예방 등에 대하여 교육을 실시하여야 한다.\n",
      "\n",
      "(2) 관리감독자는 작업 전 당일의 안전작업방법과 유해위험요인 등 근로자가 지켜야할 사항에 대하여 위험예지활동(TBM : Tool Box Meeting)을 실시 하고 안전시설설치 및 관리감독자 배치 등 사전 안전조치를 하여야 하며 안전보건점검을 통해 이행여부를 확인하여야 한다.\n",
      "\n",
      "(3) 작업장 출입구 및 내부에는 충분한 조도를 확보(보통작업 150 럭스 이상)하여야 한다.\n",
      "\n",
      "(4) 자재를 반입 및 반출 시 전동 지게차, 핸드 파레트 트럭(Hand Pallet Truck) 등을 이용하고 인력 운반을 최소화 하여야 한다.\n"
     ]
    },
    {
     "name": "stderr",
     "output_type": "stream",
     "text": [
      "INFO:httpx:HTTP Request: POST http://localhost:8000/v1/chat/completions \"HTTP/1.1 200 OK\"\n",
      " 38%|███▊      | 6/16 [01:05<01:55, 11.55s/it]"
     ]
    },
    {
     "name": "stdout",
     "output_type": "stream",
     "text": [
      "--------------------------------\n",
      "Processed: 벽체, 천장 작업 시 이동식 비계를 사용하는 경우에는 작업발판을 설치하고 안전\n",
      "난간 등 멀어짐(추락)방지 시설을 설치하여야 하며 바퀴고정장치, 아웃트리거,\n",
      "승강용사다리 등을 설치하여야 한다.\n",
      "\n",
      "<그림 4> 이동식 비계\n",
      "\n",
      "(6) 작업 전에 근로자 이동통로, 자재보관장소 및 운반통로를 확보하여야 하며,\n",
      "작업 중 자재에 걸려 넘어지지 않도록 정리·정돈하여야 한다.\n",
      "(7) 전기기계·기구 사용 시 누전, 합선, 과부하 등에 의한 감전 및 화재 등으로\n",
      "인한 재해를 예방하기 위하여 사용 전에 점검하여야 한다.\n",
      "(8) 핸드그라인더, 조명 등 전기기계·기구 사용 시, 접지가 되어 있는 분전반의\n",
      "누전차단기를 통하여 전원을 인출하여야 한다.\n",
      "\n",
      "<그림 5> 가설 분전반\n",
      "\n",
      "(9) 핸드그라인더 및 절단기 커버 등의 방호장치를 점검하여야 한다.\n",
      "(10) 고속절단기 사용 시 안전덮개 설치 및 불티 비산방지 조치를 하여야 한다.\n",
      "(11) 안전모, 안전대, 보안면, 방진마스크 등 보호구를 착용하여야 한다.\n",
      "(12) 자재운반 작업 시에는 근골격계 질환예방을 위한 무게의 적정성이 유지\n",
      "(남자 20~30kgf, 여자 10~15kgf이하)되어야 하며, 5kgf이상의 자재를 들어서\n",
      "운반하는 경우 취급 물품에 대하여 작업근로자가 쉽게 알아 볼 수 있도록\n",
      "물품의 중량과 무게중심에 대하여 사전에 안전교육을 실시하여야 한다.\n",
      "(13) 작업높이에 따라 적합한 작업발판을 사용하여야 한다.\n"
     ]
    },
    {
     "name": "stderr",
     "output_type": "stream",
     "text": [
      "INFO:httpx:HTTP Request: POST http://localhost:8000/v1/chat/completions \"HTTP/1.1 200 OK\"\n",
      " 44%|████▍     | 7/16 [01:13<01:34, 10.53s/it]"
     ]
    },
    {
     "name": "stdout",
     "output_type": "stream",
     "text": [
      "--------------------------------\n",
      "Processed: (14) 떨어짐(추락)의 위험이 있는 작업발판에는 안전난간 등 떨어짐(추락) 방호 조치를 하여야 한다.\n",
      "\n",
      "(15) 작업 종료 후 작업발판과 잔여자재에 대하여 정리 정돈 및 청소를 시행한다.\n",
      "\n",
      "(16) 화재의 위험이 있은 장소에는 소화기, 방화수 등을 비치하여 화재 발생시 초기에 소화할 수 있도록 하여야 한다.\n",
      "\n",
      "<그림 6> 소방기구\n",
      "\n",
      "6. 천장공사 안전관리사항\n",
      "\n",
      "(1) 경량철골 천장공사 중 M-Bar 공법의 시공순서는 <표 1>과 같다.\n",
      "\n",
      "![표 1] M-Bar 공법의 시공순서\n",
      "\n",
      "(2) 천장공사 시 작업 단계별 안전관리사항\n",
      "\n",
      "(가) 자재운반\n",
      "① 자재운반 시 작업 통로를 확보해야 한다. 그 밖의 작업 통로 설치에 관한 안전조치 사항은 작업장의 통로 및 계단 설치에 관한 기술지침(KOSHA GUIDE G-85-2015)에 따른다.\n"
     ]
    },
    {
     "name": "stderr",
     "output_type": "stream",
     "text": [
      "INFO:httpx:HTTP Request: POST http://localhost:8000/v1/chat/completions \"HTTP/1.1 200 OK\"\n",
      " 50%|█████     | 8/16 [01:22<01:19,  9.96s/it]"
     ]
    },
    {
     "name": "stdout",
     "output_type": "stream",
     "text": [
      "--------------------------------\n",
      "Processed: ② 지게차 운반 시에는 급작스런 제동 및 방향전환을 금지하고, 운전원은 운행 경로 및 주변을 주시하여야 한다. 그 밖의 지게차 작업에 관한 안전조치 사항은 지게차의 안전작업에 관한 기술지침(KOSHA GUDIE M-185-2015)에 따른다.\n",
      "\n",
      "<그림 7> 산업용 카운터 발란스 지게차 및 보행 작동용 지게차\n",
      "\n",
      "(나) 작업발판 설치 작업\n",
      "\n",
      "천장 작업 시 작업발판은 다음 사항을 준수하여 설치하여야 한다.\n",
      "① 천장의 높이를 고려하여 작업발판의 높이를 조정하여야 한다.\n",
      "② 떨어짐(추락)위험이 있는 작업발판은 안전난간 등 떨어짐(추락)방지조치를 하여야 한다.\n",
      "③ 작업발판 승하강용 통로의 닫단의 높이는 25cm 이내로 설치하여야 한다.\n",
      "④ 충고가 높은 천장의 경우에는 비계 등을 조립하는 방법으로 작업발판을 설치하여야 하며 작업발판 위에 말비계, 사다리 등을 설치하는 것은 금지하여야 한다.\n"
     ]
    },
    {
     "name": "stderr",
     "output_type": "stream",
     "text": [
      "INFO:httpx:HTTP Request: POST http://localhost:8000/v1/chat/completions \"HTTP/1.1 200 OK\"\n",
      " 56%|█████▋    | 9/16 [01:31<01:08,  9.74s/it]"
     ]
    },
    {
     "name": "stdout",
     "output_type": "stream",
     "text": [
      "--------------------------------\n",
      "Processed: (다) 슬라브(Slab)에 인서트(Insert) 매립작업\n",
      "\n",
      "① 화약을 사용하는 타정총은 사전허가 여부를 확인하여야 한다.\n",
      "② 타정총의 낙하격발안전장치, 방아쇠안전장치 등의 안전장치를 점검하여 오발사고를 예방하여야 한다.\n",
      "③ 타정총의 상향작업 시 수직(직각)을 유지하여 사용하여야 한다.\n",
      "④ 앵커볼트 설치를 위한 드릴작업 등의 상향 작업 시에는 안전모, 보안면, 방진마스크 등을 착용하여야 한다.\n",
      "\n",
      "<그림 9> 드릴 등 사용한 상향 작업\n",
      "\n",
      "(라) 캐링채널(Carrying Channel), M-Bar 설치작업\n",
      "\n",
      "- 달대 볼트 설치 → 캐링채널 설치 → M-Bar 설치\n",
      "\n",
      "<그림 10> M-Bar 설치 상세도\n",
      "\n",
      "① 캐링채널(Carrying Channel), M-Bar 설치 시, 날카로운 부위에 인한 자상(刺傷) 등의 부상을 예방할 수 있도록 장갑을 착용하여야 한다.\n",
      "② 단부 작업 시 작업발판과 벽체 사이의 끝부분에 안전시설을 설치하여 멀어짐(추락), 발빠짐 등에 의한 재해를 예방하여야 한다.\n"
     ]
    },
    {
     "name": "stderr",
     "output_type": "stream",
     "text": [
      "INFO:httpx:HTTP Request: POST http://localhost:8000/v1/chat/completions \"HTTP/1.1 200 OK\"\n",
      " 62%|██████▎   | 10/16 [01:41<00:58,  9.67s/it]"
     ]
    },
    {
     "name": "stdout",
     "output_type": "stream",
     "text": [
      "--------------------------------\n",
      "Processed: (마) 천장재 설치작업\n",
      "\n",
      "① 전동공구, 전기기계기구 사용 시 절연상태 및 분전반을 점검하여 감전재해를 방지하여야 한다.\n",
      "② 타정홍의 낙하격발 안전장치, 방아쇠 안전장치, 밀착압력 안전장치 등 안전장치를 작전전에 점검하고 안전장치를 임의로 해제하여서는 아니 된다.\n",
      "\n",
      "<그림 11> 천장재 설치\n",
      "\n",
      "7. 벽체공사 안전관리사항\n",
      "\n",
      "(1) 벽체공사 시공순서는 <표 2>와 같다.\n",
      "\n",
      "1. 먹메김 \n",
      "2. 상하부 런너(Runner) 설치 \n",
      "3. 스타드(Stud) 설치 \n",
      "4. 석고보드 1면 설치 \n",
      "5. 단열재 설치 \n",
      "6. 석고보드 2면 설치\n",
      "\n",
      "<표 2> 벽체공사 시공순서\n",
      "\n",
      "(2) 벽체공사 시 작업 단계별 안전관리사항\n",
      "\n",
      "가) 작업 전 준비사항\n",
      "① 건설용 리프트, 이삿짐운반용 리프트, 이동식크레인 등 작업에 적정한 양중 장비를 선정하여 자재 및 부재의 현장 반입은 작업공정 순서에 맞게 이루어질 수 있도록 한다.\n"
     ]
    },
    {
     "name": "stderr",
     "output_type": "stream",
     "text": [
      "INFO:httpx:HTTP Request: POST http://localhost:8000/v1/chat/completions \"HTTP/1.1 200 OK\"\n",
      " 69%|██████▉   | 11/16 [01:51<00:49,  9.90s/it]"
     ]
    },
    {
     "name": "stdout",
     "output_type": "stream",
     "text": [
      "--------------------------------\n",
      "Processed: ② 자재 소운반 시에는 부재별 형상에 적합한 소운반 장비를 선정하고 사용 하여야 하며, 인력운반을 최소화 하여야 한다. \n",
      "③ 작업장 및 통로 주변 개구부의 안전난간, 덮개 등 방호시설 설치 여부와 통로의 바닥 상태 등을 확인하고, 안전표지를 부착하여야 한다. \n",
      "④ 가연성 및 인화성 물질 관리, 유기용제 사용 및 밀폐공간 작업시 안전보건 대책, 화재 예방을 위한 소화기 사용법 및 대피 요령 등에 대하여 안전보건 교육을 실시하여야 한다. \n",
      "⑤ 말비계(간이작업대) 사용 시에는 다음 사항을 준수하여야 한다. \n",
      "   - 떨어짐(추락) 위험이 있는 개구부 주변에서 사용 금지 \n",
      "   - 수평을 유지하여 설치하고, 전도 예방조치 실시.\n",
      "\n",
      "<그림 12> 말비계 \n",
      "\n",
      "⑥ 타정총은 다음 사항을 준수하여야 한다. \n",
      "\n",
      "<그림 13> 런너(Runner) 고정용 타정총 \n",
      "\n",
      "⑦ 타정총(화약총)에 대해서는 사전신고 여부를 확인하여야 한다. \n",
      "⑧ 타정총 등 화약을 사용하는 공구는 별도의 장소에 보관 하여야 한다. \n",
      "⑨ 타정총 사용 시에는 사람을 향하지 않도록 하고, 이동시에는 잠금장치를 하여야 한다.\n"
     ]
    },
    {
     "name": "stderr",
     "output_type": "stream",
     "text": [
      "INFO:httpx:HTTP Request: POST http://localhost:8000/v1/chat/completions \"HTTP/1.1 200 OK\"\n",
      " 75%|███████▌  | 12/16 [02:02<00:40, 10.13s/it]"
     ]
    },
    {
     "name": "stdout",
     "output_type": "stream",
     "text": [
      "--------------------------------\n",
      "Processed: 타정총의 낙하격발 안전장치, 방아쇠 안전장치, 밀착압력 안전장치 등 안전 장치를 작업 전에 점검하고 안전 장치를 임의로 해제하여서는 아니 된다.\n",
      "\n",
      "절단기 사용 시에는 숫돌의 최고 사용회전속도를 준수하고, 방호장치 (안전커버)의 부착을 확인하여야 한다.\n",
      "\n",
      "절단기 사용 시에 불터 비산방지 시설 설치, 방화 매트 깔기, 소화기 및 방화수 비치 등 화재 예방 조치를 취하여야 한다.\n",
      "\n",
      "근로자는 작업 시에 안전모, 안전화, 방진마스크, 보안면, 귀마개 등 작업에 적합한 개인 보호구를 착용하여야 한다.\n",
      "\n",
      "(나) 먹메김 및 단열재, 석고보드 설치\n",
      "\n",
      "① 먹메김 작업 시 개구부 덮개 설치 여부를 확인하여야 한다.\n",
      "② 펀 제거 시 비산물에 의한 눈 손상이 발생 가능하므로 보안경을 착용 하여야 한다.\n",
      "③ 접착제 혼합 시 감전위험이 있으므로 교반기(Mixer) 접지 및 절연상태를 점검 하여야 한다.\n",
      "④ 단열재 절단 시 칼에 의해 손가락이 다칠 위험이 있으므로 안전장갑을 착용하는 등 대비 하여야 한다.\n",
      "⑤ 석고보드 재료에 따라 마스크, 보안면, 장갑 등 보호구를 착용하고 환기설비를 설치하여야 한다.\n"
     ]
    },
    {
     "name": "stderr",
     "output_type": "stream",
     "text": [
      "INFO:httpx:HTTP Request: POST http://localhost:8000/v1/chat/completions \"HTTP/1.1 200 OK\"\n",
      " 81%|████████▏ | 13/16 [02:12<00:30, 10.31s/it]"
     ]
    },
    {
     "name": "stdout",
     "output_type": "stream",
     "text": [
      "--------------------------------\n",
      "Processed: (다) 경량벽체 설치 순서\n",
      "\n",
      "먹메김 → 상하부 런너(Runner) 설치 → 스터드(Stud) 설치 → 1면 석고보드 부착 → 단열재 취부 → 2면 석고보드 부착\n",
      "\n",
      "<그림 15> 상하부 런너(Runner) 및 스터드(Stud) 설치\n",
      "\n",
      "① 작업발판(말비계) 사용 시 폭 40cm이상을 사용하여야 한다.\n",
      "② 총기 사용 시 안전수칙을 사전에 교육하고 사용하도록 하여야 한다.\n",
      "③ 전동공구, 전기기계기구 사용 시 절연상태 및 분전반의 누전차단기와 접지 상태를 점검하고, 방호장치를 확인하여야 한다.\n",
      "④ 용접 및 절단작업 시 화재위험이 있으므로 가연물·인화물 제거, 불터 비산방지설비 설치, 소화기 비치 등을 하여 화재예방 조치를 하여야 한다.\n",
      "⑤ 절단작업 시 절 피산에 의한 위험이 있으므로 보안면을 착용하여야 한다.\n",
      "⑥ 석고보드 절단 시 공구에 의해 손가락이 다칠 위험이 있으므로 장갑을 착용하는 등 대비하여야 한다.\n",
      "\n",
      "(라) 그 밖의 작업별 안전조치 사항은 경량철골 천장공사 안전보건작업 지침 (KOSHA GUIDE C-17-2011)을 참조한다.\n",
      "\n",
      "<그림 16> 용접 및 절단작업\n"
     ]
    },
    {
     "name": "stderr",
     "output_type": "stream",
     "text": [
      "INFO:httpx:HTTP Request: POST http://localhost:8000/v1/chat/completions \"HTTP/1.1 200 OK\"\n",
      " 88%|████████▊ | 14/16 [02:19<00:18,  9.18s/it]"
     ]
    },
    {
     "name": "stdout",
     "output_type": "stream",
     "text": [
      "--------------------------------\n",
      "Processed: <부록> 경량 천장 틀 종류\n",
      "\n",
      "1. M-Bar 천장틀\n",
      "\n",
      "(1) 구성 : M-Bar+석고보드+흡음텍스\n",
      "(2) 마감 : 석고 보드, AL천장판, 아연도 강판, 유리면 흡음판 등\n",
      "(3) 특징 : 마감재 선택이 자유롭고, M-Bar가 보이지 않음.\n",
      "\n",
      "![그림 1] M-Bar 천장 틀\n",
      "\n",
      "2. 더블M-Bar 천장틀\n",
      "\n",
      "(1) 구성 : 더블M-Bar+흡음텍스\n",
      "(2) 마감 : 석고 보드, AL 천장판, 아연도 강판, 유리면 흡음판 등\n",
      "(3) 특징 : 마감재 선택이 자유롭고, M-Bar가 보이지 않음.\n",
      "\n",
      "![그림 2] 더블M-Bar 천장틀\n"
     ]
    },
    {
     "name": "stderr",
     "output_type": "stream",
     "text": [
      "INFO:httpx:HTTP Request: POST http://localhost:8000/v1/chat/completions \"HTTP/1.1 200 OK\"\n",
      " 94%|█████████▍| 15/16 [02:25<00:08,  8.27s/it]"
     ]
    },
    {
     "name": "stdout",
     "output_type": "stream",
     "text": [
      "--------------------------------\n",
      "Processed: 3. T-Bar 천장틀\n",
      "\n",
      "(1) 구성 : T-Bar+천장재\n",
      "(2) 마감 : 유리면 흡음판 등\n",
      "(3) 특징 : 천장틀에 천장재를 올려놓는 타입으로 시공이 간편하고 천장 판이 점검구 역할을 한다.\n",
      "\n",
      "<그림 3> T-Bar 천장틀\n",
      "\n",
      "4. TH-Bar 천장틀\n",
      "\n",
      "(1) 구성 : TH-Bar+천장재\n",
      "(2) 마감 : 유리면 흡음판 등\n",
      "(3) 특징 : 천장틀에 천장재를 올려놓는 타입으로 시공이 간편하고 천장 판이 점검구 역할을 한다.\n",
      "\n",
      "<그림 4> TH-Bar 천장틀\n"
     ]
    },
    {
     "name": "stderr",
     "output_type": "stream",
     "text": [
      "INFO:httpx:HTTP Request: POST http://localhost:8000/v1/chat/completions \"HTTP/1.1 200 OK\"\n",
      "100%|██████████| 16/16 [02:29<00:00,  9.35s/it]\n"
     ]
    },
    {
     "name": "stdout",
     "output_type": "stream",
     "text": [
      "--------------------------------\n",
      "Processed: 5. CLIP-Bar+천장틀\n",
      "\n",
      "(1) 구성 : CLIP-Bar+천장재\n",
      "(2) 마감 : AL 천장판, 강재 천장판 등\n",
      "(3) 특징 : 천장틀에 CLIP을 이용하여 끼워 넣는 타입으로 시공이 편하고 천장판이 점검구 역할을 한다.\n",
      "\n",
      "<그림 5> CLIP-Bar+천장틀\n",
      "---End---\n",
      "Processing 교량공사(P.S.M공법) 안전작업 지침\n"
     ]
    },
    {
     "name": "stderr",
     "output_type": "stream",
     "text": [
      "  0%|          | 0/21 [00:00<?, ?it/s]INFO:httpx:HTTP Request: POST http://localhost:8000/v1/chat/completions \"HTTP/1.1 200 OK\"\n",
      "  5%|▍         | 1/21 [00:02<00:47,  2.37s/it]"
     ]
    },
    {
     "name": "stdout",
     "output_type": "stream",
     "text": [
      "--------------------------------\n",
      "Processed: 교량공사(P.S.M공법) 안전작업 지침\n",
      "\n",
      "2011. 12.\n",
      "\n",
      "한국산업안전보건공단\n"
     ]
    },
    {
     "name": "stderr",
     "output_type": "stream",
     "text": [
      "INFO:httpx:HTTP Request: POST http://localhost:8000/v1/chat/completions \"HTTP/1.1 200 OK\"\n",
      " 10%|▉         | 2/21 [00:12<02:09,  6.83s/it]"
     ]
    },
    {
     "name": "stdout",
     "output_type": "stream",
     "text": [
      "--------------------------------\n",
      "Processed: 안전보건기술지침의 개요\n",
      "\n",
      "- 작성자 : 안전보건공단 양승수\n",
      "- 개정자 : 안전보건공단 건설업재해예방실\n",
      "\n",
      "- 제·개정경과\n",
      "  - 2010년 10월 건설안전분야 제정위원회 심의(제정)\n",
      "  - 2011년 12월 건설안전분야 제정위원회 심의(개정, 법규개정조항 반영)\n",
      "\n",
      "- 관련규격 및 자료\n",
      "  - 교량공학(구미서관. 조효남)\n",
      "  - 토목공학 대사전(Jimmoonsa)\n",
      "  - 도로교표준시방서(대한토목학회)\n",
      "  - 교량공사(P.S.M공법) 시공자료\n",
      "\n",
      "- 관련 법규·규칙·고시 등\n",
      "  - 산업안전보건기준에 관한 규칙 제50조(붕괴·낙하에 의한 위험 방지) 내지 제52조(구축물 또는 이와 유사한 시설물의 안전성 평가)\n",
      "\n",
      "- 기술지침의 적용 및 문의\n",
      "  \n",
      "이 기술지침에 대한 의견 또는 문의는 한국산업안전보건공단 홈페이지 안전보건기술지침 소관 분야별 문의처 안내를 참고하시기 바랍니다.\n",
      "\n",
      "공표일자 : 2011년 12월 29일\n",
      "제 정 자 : 한국산업안전보건공단 이사장\n"
     ]
    },
    {
     "name": "stderr",
     "output_type": "stream",
     "text": [
      "INFO:httpx:HTTP Request: POST http://localhost:8000/v1/chat/completions \"HTTP/1.1 200 OK\"\n",
      " 14%|█▍        | 3/21 [00:20<02:14,  7.48s/it]"
     ]
    },
    {
     "name": "stdout",
     "output_type": "stream",
     "text": [
      "--------------------------------\n",
      "Processed: 교량공사(P.S.M공법) 안전작업 지침\n",
      "\n",
      "1. 목 적\n",
      "\n",
      "이 지침은 산업안전보건기준에 관한 규칙 (이하 \"안전보건규칙\"이라 한다) 제50조(붕괴·낙하에 의한 위험 방지) 내지 제52조(구축물 또는 이와 유사한 시설물의 안전성 평가)의 규정에 따라 콘크리트 구조물 교량공사(P.S.M 공법)의 안전한 작업방법 및 추락, 낙하, 붕괴, 감전 등의 재해를 예방하기 위하여 필요한 작업단계별 안전사항 및 안전시설에 관한 기술적 사항을 정함을 목적으로 한다.\n",
      "\n",
      "2. 적용범위\n",
      "\n",
      "이 지침은 교량공사에서 상부구조의 가설공법 중 프리캐스트 세그먼트 공법 (이하 \"PSM공법\"이라 한다)의 런칭거더의 조립 및 설치, 세그먼트 제작·운반·가설, 런칭거더 추진 등 교각 구조물 위에 런칭거더를 설치하는 상로형식의 교량상부 가설공법에 적용한다.\n"
     ]
    },
    {
     "name": "stderr",
     "output_type": "stream",
     "text": [
      "INFO:httpx:HTTP Request: POST http://localhost:8000/v1/chat/completions \"HTTP/1.1 200 OK\"\n",
      " 19%|█▉        | 4/21 [00:30<02:26,  8.60s/it]"
     ]
    },
    {
     "name": "stdout",
     "output_type": "stream",
     "text": [
      "--------------------------------\n",
      "Processed: 3. 용어의 정의\n",
      "\n",
      "(1) 이 지침에서 사용하는 용어의 정의는 다음과 같다.\n",
      "\n",
      "(가) \"프리캐스트 세그먼트 공법(Preast segment method)\"이라 함은 교량 상부구조 가설공법 중 캔틸레버 공법의 일종으로 일정한 길이로 분할된 세그먼트를 별도의 제작장에서 제작·운반하여 인양기계를 이용하여 가설한 후 세그먼트를 접합하여 포스트 텐션닝(Post-tensioning)하여 연결함으로써 상부구조를 가설하는 공법이다. 런칭거더를 교각상부에 설치하는 상로(上路)형식과 교각하부에 설치하는 하로(下路)형식으로 대별할 수 있다.\n",
      "\n",
      "(나) \"가설트러스 거더(Main girder)\"라 함은 한 경간 내에 있는 모든 세그먼트의 하중을 지지하여 교각에 전달하는 보를 말하며 곡선구간 추진이 가능하도록 회전 가능한 힌지(Hinge)를 가진 사각형 형태의 부재로서 볼트로 연결된다.\n",
      "\n",
      "(다) \"메인써포트(Main support)\"라 함은 메인거더의 지점역할을 하여 세그먼트가설 공사시 한 경간의 콘크리트 중량과 런칭거더(Launching girder) 중량 전체를 지탱하는 역할을 하는 부재로서 전방교각과 후방교각의 피어(Pier) 세그먼트 상부에 설치된다.\n"
     ]
    },
    {
     "name": "stderr",
     "output_type": "stream",
     "text": [
      "INFO:httpx:HTTP Request: POST http://localhost:8000/v1/chat/completions \"HTTP/1.1 200 OK\"\n",
      " 24%|██▍       | 5/21 [00:44<02:48, 10.51s/it]"
     ]
    },
    {
     "name": "stdout",
     "output_type": "stream",
     "text": [
      "--------------------------------\n",
      "Processed: (라) “겐츄리크레인(Gantry crane)”라 함은 세그먼트 인양 장비로 런칭거더 상부에 위치하며, 세그먼트 인양 및 추진(Launching) 작업 거더의 전체적인 무게 균형을 잡아주는 역할을 한다.\n",
      "\n",
      "(마) “세그먼트(Segment)”라 함은 교량 상부구조 가설을 위해 프리캐스트 콘크리트로 제작된 단위 구조체를 말하며 형태별(Typical) 세그먼트와 피어(Pier) 세그먼트 등으로 구분한다.\n",
      "\n",
      "<그림 3> 세그먼트(Segment) 모형도\n",
      "\n",
      "(바) “스프레더빔(Spreader beam) 또는 행잉빔(Hanging beam)”이라 함은 견츄리크레인에 연결되어 세그먼트를 들어 올리고 메인거더에 거치 시 사용하는 부재를 말하며 곡선부에서 세그먼트를 종/횡 방향으로 조정(Tilting)하는 역할을 한다.\n",
      "\n",
      "(사) “전방지점(Front Leg)”라 함은 런칭거더가 다음 경간으로 이동시 전도를 방지하는 역할을 하며 전방 각 피어(Pier) 세그먼트 가설 시 지지를 위하여 수직부재는 높이 조절이 가능하도록 하여야 한다.\n",
      "\n",
      "(아) “후방지점(Rear Leg)”라 함은 런칭거더가 다음 경간으로 이동시 후방지점 역할을 하며, 후방에서 세그먼트가 공급 시 간섭방지를 위해 연결부 핀을 분리하여 중간부재 회전이 가능하도록 한다.\n",
      "\n",
      "(자) “작업발판(Working platform)”이라 함은 세그먼트 인양 완료 후 강선 삽입 및 인장을 하기 위한 작업대를 말한다.\n",
      "\n",
      "(차) “추진코(Nose)”라 함은 추진(Launching)시 전/후방 교각에 지지점을 형성하여 전도를 방지하는 역할을 하며 메인거더의 모멘트를 일부 감소시키는 역할을 하는 삼각형 트러스(Truss) 형태의 부재로 볼트 및 핀(Pin)으로 연결된다.\n"
     ]
    },
    {
     "name": "stderr",
     "output_type": "stream",
     "text": [
      "INFO:httpx:HTTP Request: POST http://localhost:8000/v1/chat/completions \"HTTP/1.1 200 OK\"\n",
      " 29%|██▊       | 6/21 [00:57<02:48, 11.24s/it]"
     ]
    },
    {
     "name": "stdout",
     "output_type": "stream",
     "text": [
      "--------------------------------\n",
      "Processed: (타) “런칭왜건(Launching wagon)”이라 함은 메인거더를 지지하며 종·횡방향으로 추진시키는 부재로서 회전이 가능한 상부부재와 메인써포트 상부에서 횡방향으로 슬라이딩(Sliding)되는 하부부재로 구성된다.\n",
      "\n",
      "(카) “유압 시스템(Hydraulic system)”이라 함은 가설트러스 거더를 추진하여 이동시키는 유압 펌프, 유압 잭, 유압 실린더 및 조작반을 포함하는 전체 유압장치를 말한다.\n",
      "\n",
      "(2) 이 지침에서 사용하는 용어의 정의는 이 지침에 특별한 규정이 있는 경우를 제외하고는 산업안전보건법, 같은 법 시행령, 같은 법 시행규칙 및 안전보건 규칙에서 정하는 바에 의한다.\n",
      "\n",
      "4. 작업계획 수립 시 검토사항\n",
      "\n",
      "(1) 공사현장의 제반여건과 설계도서에서 정하고 있는 작업단계별 작업방법이 부합하고 공사용 장비 활용상의 문제가 없는지 검토한 후 구체적인 작업계획을 수립하여 감독관청의 승인을 받아야 한다.\n",
      "\n",
      "(2) 작업계획서는 본 공법에 대한 이해와 경험을 갖춘 자가 수립하여야 하며 공사 중에는 계획서의 내용 이행여부를 수시로 확인하여야 한다.\n",
      "\n",
      "(3) 런칭거더 및 겐츄리크레인 등 주요 장비에 대해서는 반입하여 사용하기 전에 전문가가 구조적 안전성 및 부재의 결함·손상여부를 확인하여야 한다.\n",
      "\n",
      "(4) 장비의 반입·반출 등 그레인을 사용하여 조립 및 해체작업을 하는 경우에 는 작업방법 및 순서 등이 포함된 중량물 취급 작업계획을 수립하고 이를 당해 근로자에게 주지시켜야 한다.\n",
      "\n",
      "5. 런칭거더(Launching girder) 조립 및 설치 안전작업\n"
     ]
    },
    {
     "name": "stderr",
     "output_type": "stream",
     "text": [
      "INFO:httpx:HTTP Request: POST http://localhost:8000/v1/chat/completions \"HTTP/1.1 200 OK\"\n",
      " 33%|███▎      | 7/21 [01:07<02:32, 10.91s/it]"
     ]
    },
    {
     "name": "stdout",
     "output_type": "stream",
     "text": [
      "--------------------------------\n",
      "Processed: (1) 런칭거더 조립 및 설치순서는 <그림 4>와 같다\n",
      "\n",
      "![Main Girder 설치](#)  \n",
      "![E/J Pier Seg 가설](#)  \n",
      "![Main Support 가설](#)  \n",
      "![Main Girder 설치](#)  \n",
      "![Nose 설치](#)  \n",
      "![Rear Leg 설치](#)  \n",
      "![Front Leg & Platform 설치](#)  \n",
      "![Gantry Crane 설치](#)  \n",
      "\n",
      "<그림 4> 런칭거더(Launching girder) 조립 및 설치순서\n",
      "\n",
      "(2) 런칭거더와 교각 등과의 고정부는 정하중에 의한 안정성 뿐만 아니라 동적 하중에 대해서도 충분한 안정성을 고려하여야 한다.\n",
      "\n",
      "(3) 런칭거더 설치 후 본 작업 이전에 시험운영을 통해 다음사항을 점검하여야 한다.\n",
      "\n",
      "가) 각종 유압시스템의 작동확인  \n",
      "나) 순 방향 추진(Launching) 및 역 방향 추진 실시  \n",
      "다) 처짐량 확인  \n",
      "라) 전·후방지점 등 부속자재 성능확인\n",
      "\n",
      "(4) 겐츄리크레인 설치 후 본 작업 이전에 안전인증을 받고 시험운영을 통해 다음사항을 점검하여야 한다.\n",
      "\n",
      "가) 리모컨 조작반에 의한 정상 작동상태 확인  \n",
      "나) 세그먼트 시험인양 실시(인양 능력 및 인양속도 점검)\n"
     ]
    },
    {
     "name": "stderr",
     "output_type": "stream",
     "text": [
      "INFO:httpx:HTTP Request: POST http://localhost:8000/v1/chat/completions \"HTTP/1.1 200 OK\"\n",
      " 38%|███▊      | 8/21 [01:19<02:26, 11.29s/it]"
     ]
    },
    {
     "name": "stdout",
     "output_type": "stream",
     "text": [
      "--------------------------------\n",
      "Processed: (다) 겐츄리크레인 레일(Rail) 주행성능 확보\n",
      "\n",
      "(라) 스토퍼(Stopper) 및 근접 접근금지 시스템 확인\n",
      "\n",
      "(마) 브레이크(Break) 시스템 설정 (회로설정)\n",
      "\n",
      "(바) 미세조정(Inching operation) 성능 확인\n",
      "\n",
      "(5) 지상 조립장은 평탄성을 유지하여야 하며 부등립허가 발생하지 않도록 다짐 또는 가 포장을 실시하여 사용하도록 한다.\n",
      "\n",
      "(6) 런칭거더 지상조립 시 부재의 전도방지에 대비하여 버팀목 또는 로프를 이용하여 고정하여야 한다.\n",
      "\n",
      "(7) 작업 전에 중량물 취급 작업계획서를 수립하고 이를 준수하여야 한다.\n",
      "\n",
      "(8) 런칭거더 위에 설치되는 겐츄리크레인은 세크먼트 등 인양부재의 중량뿐만 아니라 지진, 폭화중 등을 고려하여 선정하여야 한다.\n",
      "\n",
      "(9) 이동식 크레인은 인양부재의 중량을 고려하여 인양 정격하중이 충분한 크레인을 선정하여야 하며 크레인 2대 이상으로 협력작업을 하는 경우 가급적 동일한 회사의 제품을 사용하도록 한다.\n",
      "\n",
      "(10) 런칭거더 힌지(hinge)부, 노즈(Nose) 힌지(hinge)부, 스토퍼(Stopper), 유압잭(Jack) 등 주요부재에 대해서는 사용전 육안으로 사전점검하고 필요시 비파괴 검사 등을 통해 이상 유무를 점검하여야 한다.\n",
      "\n",
      "(11) 런칭거더에 대해서는 월 1회 이상 정기점검을 실시하여 주요부의 접합상태, 손상유무, 성능유지 상태 등에 대하여 기록하여야 한다.\n"
     ]
    },
    {
     "name": "stderr",
     "output_type": "stream",
     "text": [
      "INFO:httpx:HTTP Request: POST http://localhost:8000/v1/chat/completions \"HTTP/1.1 200 OK\"\n",
      " 43%|████▎     | 9/21 [01:31<02:15, 11.29s/it]"
     ]
    },
    {
     "name": "stdout",
     "output_type": "stream",
     "text": [
      "--------------------------------\n",
      "Processed: 6. 세그먼트(Segment)의 제작 - 운반 - 가설 안전작업\n",
      "\n",
      "<표 1> 세그먼트 제작 - 운반 - 가설개요\n",
      "\n",
      "### 세그먼트 제작\n",
      "- 몰드 설치\n",
      "- 철근 가공장 및 야적장 설치\n",
      "- 타워크레인 및 겐츄리크레인 설치\n",
      "- 보일러 및 증기양생시설 설치\n",
      "- 세그먼트 야적장 설치\n",
      "- 측량대, 폐수처리시설 설치\n",
      "\n",
      "### 세그먼트 운반\n",
      "- 세그먼트 운반\n",
      "\n",
      "### 세그먼트 인양\n",
      "- 세그먼트에 스프레더 빔 설치\n",
      "- 겐츄리크레인으로 인양\n",
      "\n",
      "### 세그먼트 가설\n",
      "- 에폭시 도포\n",
      "- 가설 강봉으로 접합\n",
      "\n",
      "### 강연선 인장\n",
      "- 쉬스관 설치\n",
      "- 정착구 설치 및 인장\n",
      "\n",
      "6.1 세그먼트 제작 - 운반\n",
      "\n",
      "(1) 교량상부 컨칭거더 가설, 세그먼트의 제작 - 운반, 작업대 추진, 인장작업, 기타작업이 포함된 작업계획서를 수립하여야 한다.\n",
      "\n",
      "(2) 작업계획은 직선구간, 곡선구간 등 작업형태(Type)별로 수립하여야 한다.\n",
      "\n",
      "(3) 제작장에 설치하는 겐츄리크레인 및 타워크레인은 설치 사전에 관계기관으로부터 안전인증을 받아야 한다.\n",
      "\n",
      "(4) 제작장 내의 근로자 이동통로에는 가설통로를 설치하고 양측 단부에는 안전난간을 설치하는 등 추락위험장소에는 추락방지조치를 하여야 한다.\n"
     ]
    },
    {
     "name": "stderr",
     "output_type": "stream",
     "text": [
      "INFO:httpx:HTTP Request: POST http://localhost:8000/v1/chat/completions \"HTTP/1.1 200 OK\"\n",
      " 48%|████▊     | 10/21 [01:44<02:12, 12.01s/it]"
     ]
    },
    {
     "name": "stdout",
     "output_type": "stream",
     "text": [
      "--------------------------------\n",
      "Processed: 제작장 내의 가설전기 시설에 대해 감전재해를 예방하기 위하여 다음사항을 점검하여야 한다.\n",
      "\n",
      "(가) 가설전기 용량의 적정성 및 분배전반 등 시설배치의 적정여부\n",
      "(나) 누전차단기 설치 및 접지상태 등\n",
      "\n",
      "제작장에서 단위 세그먼트의 횡방향 강연선은 가능한 한 콘크리트에 과대한 인장응력이 발생하지 않도록 단면 도심축에 가까운 강연선을 먼저 긴장하여야 한다.\n",
      "\n",
      "세그먼트 운반은 운반경로의 등판각도, 회전반경, 회전각도, 적재하중 등을 고려하여 트레일러, 트랜스포터 등의 운반기계를 선정하여야 한다.\n",
      "\n",
      "가설도로를 통한 운반작업 시에는 지반 침하로 인한 세그먼트의 진도방지로 체인블럭(Chain block) 등을 이용하여 고정하고 가설도로는 평탄성을 유지하여야 하며 가설도로의 다짐도는 95%이상 이어야 한다.\n",
      "\n",
      "운반기계의 운행속도는 10km/hr이하로 하여야 한다.\n",
      "\n",
      "6.2 세그먼트 인양\n",
      "\n",
      "(1) 작업시작 전에 중량물(세그먼트) 취급 작업계획서를 수립하고 이를 준수하여야 한다.\n",
      "\n",
      "(2) 겐츄리크레인으로 세그먼트를 인양하기 전에 달기로프 및 훅, 연결도구를 점검하고 스프레더빔(Spreader beam) 또는 행잉빔(Hanging beam) 등에 견고하게 연결하여야 한다.\n",
      "\n",
      "(3) 겐츄리크레인 운전원과 하부작업자간 원활한 작업을 위하여 사전에 신호체계를 수립하고 신호수를 배치하여 신호수의 신호에 따라 작업이 이루어 지도록 한다.\n",
      "\n",
      "(4) 세그먼트를 인양하기 위한 스프레이더빔은 <그림 5>, <그림 6>와 같이 세그먼트에 수평으로 체결하여야 한다.\n"
     ]
    },
    {
     "name": "stderr",
     "output_type": "stream",
     "text": [
      "INFO:httpx:HTTP Request: POST http://localhost:8000/v1/chat/completions \"HTTP/1.1 200 OK\"\n",
      " 52%|█████▏    | 11/21 [01:51<01:43, 10.36s/it]"
     ]
    },
    {
     "name": "stdout",
     "output_type": "stream",
     "text": [
      "--------------------------------\n",
      "Processed: (5) 겐츄리크레인의 운전원은 사전에 충분한 교육 및 조작능력 습득 후 작업에 투입하여야 한다. 필요시 자체적으로 일정한 자격 기준을 마련하여 운영한다.\n",
      "\n",
      "(6) 겐츄리크레인으로 인양작업 외에 가설트러스 거더에 고정 연결된 지주(Support) 등을 수평으로 이동하는 등 회전모멘트를 발생할 수 있는 작업을 원천적으로 하지 않도록 하여야 한다.\n",
      "\n",
      "6.3 세그먼트 가설\n",
      "\n",
      "(1) 세그먼트 가설에 사용되는 강봉은 제조사의 매뉴얼에 따라 재사용 기준을 정하고 작업 전·후 강봉의 균열, 변형, 마모상태를 육안으로 1차 점검하고 필요시 비파괴 검사 등을 통해 폐기 또는 보강하여 사용하여야 한다.\n"
     ]
    },
    {
     "name": "stderr",
     "output_type": "stream",
     "text": [
      "INFO:httpx:HTTP Request: POST http://localhost:8000/v1/chat/completions \"HTTP/1.1 200 OK\"\n",
      " 57%|█████▋    | 12/21 [02:01<01:32, 10.27s/it]"
     ]
    },
    {
     "name": "stdout",
     "output_type": "stream",
     "text": [
      "--------------------------------\n",
      "Processed: (2) 세그먼트 가설 강봉은 가능한 한 콘크리트에 과대한 인장응력이 발생하지 않도록 <그림 7>과 같이 단면 도심축에 가까운 강봉을 먼저 긴장하고 다음사항을 준수하여야 한다.\n",
      "\n",
      "(가) 인장 시 작업자는 강봉 후면에 위치 금지\n",
      "\n",
      "(나) 인장 완료시 너트를 확실하게 체결 후 잭 해체\n",
      "\n",
      "(다) 잭 인장 작업자와 펌프 조작 작업자간의 신호 철저\n",
      "\n",
      "<그림 7> 세그먼트(Segment) 강봉 인장 순서(예)\n",
      "\n",
      "(3) 키(Key) 세그먼트 가설 후 접합 콘크리트 세그먼트 제작 콘크리트와 동종 제품을 사용하고 다음사항을 준수한다.\n",
      "\n",
      "(가) 키 세그먼트 홈에 발 빠짐 주의\n",
      "\n",
      "(나) 바이브레이터 사용 시 전기 감전주의\n",
      "\n",
      "(다) 믹서트럭 이동 중 협착주의\n",
      "\n",
      "6.4 강연선 인장\n",
      "\n",
      "(1) 종 방향 강연성 인장은 설계도서에서 정한 순서에 의거 안전하게 작업을 실시 한다.\n",
      "\n",
      "(2) 정착구 케이싱(Casing) 전면은 인장(Tendon)축에 수직을 유지하도록 하며 케이싱과 쉬즈관은 테이핑 하여 모르타르가 흘러 들어가지 않도록 한다.\n"
     ]
    },
    {
     "name": "stderr",
     "output_type": "stream",
     "text": [
      "INFO:httpx:HTTP Request: POST http://localhost:8000/v1/chat/completions \"HTTP/1.1 200 OK\"\n",
      " 62%|██████▏   | 13/21 [02:08<01:15,  9.39s/it]"
     ]
    },
    {
     "name": "stdout",
     "output_type": "stream",
     "text": [
      "--------------------------------\n",
      "Processed: (3) 강연선 설치 시 케이싱 면에서 인장단의 거리가 지압판과 인장재의 거치 시 지장이 없도록 1m 이상 여유장을 두어 설치한다.\n",
      "\n",
      "(4) 커플러(Coupler)로 쉬즈관 연결부는 <그림 9>와 같이 테이프로 밀봉하여 이 물질이 들어가지 않도록 한다.\n",
      "\n",
      "(5) 인장 두부(Head) 및 웨지(Wedge) 설치 시 두부 내 이물질이 들어가지 않도록 주의하고 웨지는 녹슬지 않도록 관리하며 설치 시 두개의 웨지가 대칭이 되도록 설치한다.\n",
      "\n",
      "(6) 인장(Tendon)축 내의 그라우트재를 주입하며 배출구로 나오는 그라우트가 믹서에 있는 그라우트와 균등할 때 배출구를 막는다.\n",
      "(공기 및 인장축 내의 있는 잔류수가 모두 빠진 뒤에 배출구를 막는다.)\n"
     ]
    },
    {
     "name": "stderr",
     "output_type": "stream",
     "text": [
      "INFO:httpx:HTTP Request: POST http://localhost:8000/v1/chat/completions \"HTTP/1.1 200 OK\"\n",
      " 67%|██████▋   | 14/21 [02:19<01:08,  9.79s/it]"
     ]
    },
    {
     "name": "stdout",
     "output_type": "stream",
     "text": [
      "--------------------------------\n",
      "Processed: 7. 런칭거더(Launching girder) 추진 안전작업\n",
      "\n",
      "(1) 런칭거더는 <그림 11>과 같이 구성되며 추진(Launching) 작업단계별 작업 절차 및 작업방법에 대한 매뉴얼을 작성하고 사전에 근로자에 충분히 주지시켜야 하며 근로자가 잘 보이는 곳에 게시하여야 한다.\n",
      "\n",
      "![Gantry Crane Diagram](image)\n",
      "\n",
      "<그림 11> 런칭거더 추진 개요도\n",
      "\n",
      "(2) 런칭거더는 <표 2>의 순서에 의해 추진된다.\n",
      "\n",
      "| 1차 런칭 준비 | • 견추리크레인 후방으로 이동  \n",
      "|              | • Rear Leg 상향 고정  \n",
      "|              | • Front Leg 상향 고정 |\n",
      "|  ↓           |                           |\n",
      "| 1차 런칭     | • 유압장비 연결  \n",
      "|  ↓           | • 1차 런칭  |\n",
      "| Front Leg 설치 | • Front Leg 고정 및 설치 |\n",
      "|  ↓           |  |\n",
      "| Pier Segment 가설 | • Flat Jack 설치  \n",
      "|  ↓           | • Pier Segment 인양 및 설치 |\n",
      "| Support 이동 설치 | • Rear Leg 설치  \n",
      "|  ↓           | • Support 이동 설치 |\n",
      "| 2차 런칭     | • 견추리크레인 전방으로 이동  \n",
      "|              | • Front Leg 상향 고정  \n",
      "|              | • Rear Leg 상향 고정  \n",
      "|              | • 2차 런칭  \n",
      "|              | • Rear Leg 고정 설치 |\n"
     ]
    },
    {
     "name": "stderr",
     "output_type": "stream",
     "text": [
      "INFO:httpx:HTTP Request: POST http://localhost:8000/v1/chat/completions \"HTTP/1.1 200 OK\"\n",
      " 71%|███████▏  | 15/21 [02:34<01:08, 11.44s/it]"
     ]
    },
    {
     "name": "stdout",
     "output_type": "stream",
     "text": [
      "--------------------------------\n",
      "Processed: (3) 겐츄리크레인의 운전원과 작업반장 또는 전담신호수 사이 수신호 및 무선 신호체계를 구비하여 휴먼에러(Human error)를 예방하여야 한다.\n",
      "\n",
      "(4) 겐츄리크레인의 이동속도는 5km/hr 이하로 제한하고 단부에는 스토퍼(Stopper)를 설치하여 안전구간을 이탈하지 않도록 하여야 한다.\n",
      "\n",
      "(5) 런칭작업을 위하여 겐츄리크레인을 후방으로 이동하나 전방으로 이동할 위치를 표시하고 이동한 후에는 움직이지 않도록 브레이크(Brake)를 반드시 체결하여야 한다.\n",
      "\n",
      "(6) 강풍으로 인한 런칭거더의 전도붕괴 방지를 위해 풍속별로 안전조치 계획을 수립하고 특히, 순간 풍속이 20m/sec 이상인 경우에는 작업을 중지하고 겐츄리크레인을 안전한 위치로 이동하여 브레이크 체결 및 체인 블럭을 이용하여 고정하여야 한다.\n",
      "\n",
      "(7) 유압장치, 모터, 볼트, 용접부위 등 주요장치에 대해서는 점검주기를 정하여 육안검사, 비파괴검사 등의 방법으로 점검하여야 한다.\n",
      "\n",
      "(8) 런칭작업 전에 유압장비를 연결하고 다음사항을 점검하여야 한다.\n",
      "\n",
      "(가) 유압장치 전원상태 및 파손여부\n",
      "(나) 유압호스 누수여부\n",
      "(다) 유압장치 다이얼 게이지 이상 유무 확인\n",
      "(라) 잭 연결용 핀 상태 확인 (이탈방지 고정핀 등)\n",
      "\n",
      "(9) 런칭작업 전에 왜건(Wagon) 장치에 대하여 다음사항을 점검하여야 한다.\n",
      "\n",
      "(가) 왜건 고정볼트의 이상여부\n",
      "(나) 가이드 플레이트(Guide plate)의 이상여부\n",
      "(다) 슬라이딩 그리스 주입 및 테프론 미끄럼판 안착상태 등\n",
      "\n",
      "(10) 런칭작업 시 유압잭(Jack)의 푸싱 핀 고정, 브레이크 핀 해제, 고정 시 푸싱 핀 해제, 브레이크 핀 고정상태를 반드시 확인하고 후속작업을 진행하여야 한다.\n"
     ]
    },
    {
     "name": "stderr",
     "output_type": "stream",
     "text": [
      "INFO:httpx:HTTP Request: POST http://localhost:8000/v1/chat/completions \"HTTP/1.1 200 OK\"\n",
      " 76%|███████▌  | 16/21 [02:43<00:52, 10.55s/it]"
     ]
    },
    {
     "name": "stdout",
     "output_type": "stream",
     "text": [
      "--------------------------------\n",
      "Processed: (11) 런칭거더 추진 작업단계마다 메인써포트, 전방지점(Front leg), 후방지점(Rear leg) 등 주요부재에 대해서는 수직·수평상태를 확인한 후 후속작업을 진행하도록 하고 수직·수평도를 1%이내로 유지하도록 한다.\n",
      "\n",
      "(12) 런칭거더 추진방향 맨 앞쪽의 전방지점(Front leg)은 추진시 교각과 충돌 등 간섭이 발생하지 않도록 높이 조절(Stroke)을 50cm 이상으로 하고 후방지점에 받침을 설치하여 높이를 조정하는 등의 작업은 가급적 피하여야 한다.\n",
      "\n",
      "(13) 전방지점 설치 후 교각에 매입된 앵커 등에 건고하게 고정하여야 한다.\n",
      "\n",
      "(14) 런칭거더의 지지기둥(Support)은 탄성 슈(Elastic Shoe)위에 설치함으로서 처짐현상이 발생하지 않도록 하여야 한다.\n",
      "\n",
      "(15) 피어(Pier) 세그먼트 가설 시 교량의 본 슈(Shoe)의 보호를 위해 편평한 잭(Flat jack)을 설치하여야 한다.\n"
     ]
    },
    {
     "name": "stderr",
     "output_type": "stream",
     "text": [
      "INFO:httpx:HTTP Request: POST http://localhost:8000/v1/chat/completions \"HTTP/1.1 200 OK\"\n",
      " 81%|████████  | 17/21 [02:54<00:42, 10.66s/it]"
     ]
    },
    {
     "name": "stdout",
     "output_type": "stream",
     "text": [
      "--------------------------------\n",
      "Processed: (16) 전방지점(Front leg)이 설치된 교각에 피어 세그먼트를 설치할 때에 충돌로 인한 사고를 예방하기 위하여 겉슈러크레인 속도제한 및 전방지점에 근접해서 체인블럭 등을 이용한 미세조정으로 작업하여야 한다.\n",
      "\n",
      "<그림 14> 전방지점(Front leg) 설치교각에 피어 세그먼트 설치\n",
      "\n",
      "(17) 곡선부 가설 시 전·후방 지점(Front/Rear leg) 각 조정 및 필요시 왜건 위치를 조정하여 런칭거더가 전체적으로 일직선상에 놓이게 하여 추진함으로써 편심발생을 최소화하여야 한다.\n",
      "\n",
      "8. 안전시설 설치 및 안전조치 사항\n",
      "\n",
      "8.1 겉슈러크레인 안전조치\n",
      "\n",
      "(1) 겉슈러크레인에 대해서는 작업 전 안전인증을 받아야 하며 주기적으로 전문 기관을 통하여 안전검사를 받도록 한다.\n",
      "\n",
      "(2) 공사 중 인양하중을 고려하여 크레인 용량을 검토하되 외국 제품의 경우 국내 외 정격하중 기준이 다를 수 있으므로 유의하여야 한다.\n",
      "\n",
      "(3) 겉슈러크레인 관련 작업에는 신호수를 배치하고 운전원과 신호수간 신호를 통일하여 운영하여야 한다.\n",
      "\n",
      "(4) 겉슈러크레인을 이용하여 세그먼트 인양작업 시 브레이커 고정상태 확인 및 작업반경 하부에는 신호수를 배치하여 관계 근로자 출입을 통제하여야 한다.\n"
     ]
    },
    {
     "name": "stderr",
     "output_type": "stream",
     "text": [
      "INFO:httpx:HTTP Request: POST http://localhost:8000/v1/chat/completions \"HTTP/1.1 200 OK\"\n",
      " 86%|████████▌ | 18/21 [03:01<00:28,  9.66s/it]"
     ]
    },
    {
     "name": "stdout",
     "output_type": "stream",
     "text": [
      "--------------------------------\n",
      "Processed: (5) 겐츄리크레인은 인양용도로만 사용하도록 하고, 『그림 14』의 안전장치를 설치하도록 한다.\n",
      "\n",
      "![Emergency Switch, Brake Limit Switch, Digital Anemometer, Limit Switch]\n",
      "\n",
      "『그림 15』 겐츄리크레인의 안전장치\n",
      "\n",
      "(6) 낙뢰에 대비하여 추가적으로 피뢰설비를 설치하여야 한다.\n",
      "\n",
      "(7) 크레인 운전원은 다음의 안전수칙을 준수하여야 한다.\n",
      "\n",
      "(가) 크레인 사용은 지정된 운전원이 하여야 한다.\n",
      "\n",
      "(나) 크레인 운전원은 장비제원을 숙지하고 운전지침에 따라 운전하여야 한다.\n",
      "\n",
      "(다) 크레인 운전원의 개인보호구 및 장비는 무선조종기 조작장치와 간섭되지 않도록 유의하여야 한다.\n",
      "\n",
      "(라) 무선조종기 전원스위치의 ON/OFF 상태를 확인한 후 크레인을 운전한다.\n"
     ]
    },
    {
     "name": "stderr",
     "output_type": "stream",
     "text": [
      "INFO:httpx:HTTP Request: POST http://localhost:8000/v1/chat/completions \"HTTP/1.1 200 OK\"\n",
      " 90%|█████████ | 19/21 [03:11<00:19,  9.64s/it]"
     ]
    },
    {
     "name": "stdout",
     "output_type": "stream",
     "text": [
      "--------------------------------\n",
      "Processed: (마) 크레인의 안전장치를 임의로 제거 또는 변경해서는 아니 된다.\n",
      "\n",
      "(바) 크레인 사용 시 급운행, 급정지, 급하강, 급상승을 하지 않는다.\n",
      "\n",
      "(사) 크레인의 정격 인양 하중을 준수한다.\n",
      "\n",
      "(아) 크레인 조작 운전원은 안전벨트 등 개인 보호구를 착용하고 부착설비에 부착 한 후에 작업하도록 한다.\n",
      "\n",
      "(자) 크레인 이동 레일주위에 자재 및 공구 등 장애물을 적재하여서는 아니 된다.\n",
      "\n",
      "(차) 크레인을 이동하는 경우에는 신호수 배치 및 신호수의 유도를 받고 이동하여야 한다.\n",
      "\n",
      "(8) 크레인 운전원에 대해서는 무선조종기 매뉴얼 숙지여부를 수시로 확인하여야 한다.\n",
      "\n",
      "8.2 추락 및 기타 재해예방 안전조치\n",
      "\n",
      "(1) 작업 시작 전에 관리감독자를 지정하여 작업을 지휘하도록 하여야 한다.\n",
      "\n",
      "(2) 근로자의 건강상태를 작업 전에 확인하여 작업배치 적정여부를 결정하여야 한다.\n",
      "\n",
      "(3) 안전모, 안전대 등 근로자의 개인보호구를 점검하고 작업 전에 보호구의 착용방법 교육을 실시하고 작업 중에는 착용여부 및 상태를 확인하여야 한다.\n"
     ]
    },
    {
     "name": "stderr",
     "output_type": "stream",
     "text": [
      "INFO:httpx:HTTP Request: POST http://localhost:8000/v1/chat/completions \"HTTP/1.1 200 OK\"\n",
      " 95%|█████████▌| 20/21 [03:21<00:10, 10.01s/it]"
     ]
    },
    {
     "name": "stdout",
     "output_type": "stream",
     "text": [
      "--------------------------------\n",
      "Processed: (4) 이동식 기계기구 등 주기적으로 안전점검을 실시하여 이상이 발견된 때에는 정상적인 장비로 교체하거나 정비하여 이상이 없음을 확인한 후 사용하여야 한다.\n",
      "\n",
      "(5) 위험기계·기구의 방호장치를 점검하고 이상이 있는 경우에는 정상적인 제품으로 교체하여야 한다.\n",
      "\n",
      "(6) 런칭거더에 설치하는 작업발판, 통로, 안전난간 등 안전시설은 고정형으로 설치하는 것을 원칙으로 하여야 한다.\n",
      "\n",
      "(7) 야간작업을 위하여 전등 등 조명기구를 가설트러스 등 강재 구조체에 설치하는 경우에는 절연재를 설치하여 감전재해를 예방하여야 한다.\n",
      "\n",
      "(8) 런칭거더 상부 및 노즈에는 연속된 작업발판과 단부에는 안전난간을 설치하여야 한다.\n",
      "\n",
      "(9) 런칭거더에 각 부분에 설치된 고정형 승강 사다리는 등반이 용이 설치하도록 한다.\n",
      "\n",
      "(10) 다음 개구부에는 추락재해방지를 위하여 개구부 덮개를 설치하여야 한다.\n",
      "\n",
      "   (가) 노즈 이음부\n",
      "\n",
      "   (나) 트러스(Truss) 노즈 개구부\n",
      "\n",
      "   (다) 노즈 상단 개구부\n",
      "\n",
      "   (라) 노즈 이음부 상단 개구부 등\n",
      "\n",
      "(11) 다음 개구부에는 추락재해방지를 위하여 안전난간을 설치하여야 한다.\n",
      "\n",
      "   (가) 써포트(Support) 측면 작업발판 단부\n",
      "\n",
      "   (나) 고정형 승강계단 단부\n"
     ]
    },
    {
     "name": "stderr",
     "output_type": "stream",
     "text": [
      "INFO:httpx:HTTP Request: POST http://localhost:8000/v1/chat/completions \"HTTP/1.1 200 OK\"\n",
      "100%|██████████| 21/21 [03:28<00:00,  9.94s/it]\n"
     ]
    },
    {
     "name": "stdout",
     "output_type": "stream",
     "text": [
      "--------------------------------\n",
      "Processed: (다) 힌지 작업대 단부\n",
      "\n",
      "(라) 노즈 끝 단부\n",
      "\n",
      "(마) 겐츄리크레인 이동구간 내·외부 단부\n",
      "\n",
      "(12) 세그먼트 접합을 위하여 에폭시(Epoxy)를 도포하는 경우 작업 근로자의 피부 손상 등 건강장해 방지를 위해 안전장갑, 방독마스크 등 개인보호구를 착용토록 하여야 한다.\n",
      "\n",
      "(13) 단위 작업반 내에서 의사소통이 미흡한 경우 위험상황을 초래할 수 있으므로 작업반 구성 시 외국인 근로자가 포함되는 경우 원활한 의사소통을 위하여 사전에 교육·훈련을 실시하여야 한다.\n",
      "\n",
      "(14) 교량 상부 위험작업 시 하부에 안전지대를 구획하고 신호수 배치 및 차량 및 보행자를 통제하여 급박한 위험상황에 대비하여야 한다.\n",
      "---End---\n",
      "Processing 시스템 비계 안전작업 지침\n"
     ]
    },
    {
     "name": "stderr",
     "output_type": "stream",
     "text": [
      "  0%|          | 0/15 [00:00<?, ?it/s]INFO:httpx:HTTP Request: POST http://localhost:8000/v1/chat/completions \"HTTP/1.1 200 OK\"\n",
      "  7%|▋         | 1/15 [00:02<00:30,  2.17s/it]"
     ]
    },
    {
     "name": "stdout",
     "output_type": "stream",
     "text": [
      "--------------------------------\n",
      "Processed: 시스템 비계 안전작업 지침\n",
      "\n",
      "2020. 12\n",
      "\n",
      "한국산업안전보건공단\n"
     ]
    },
    {
     "name": "stderr",
     "output_type": "stream",
     "text": [
      "INFO:httpx:HTTP Request: POST http://localhost:8000/v1/chat/completions \"HTTP/1.1 200 OK\"\n",
      " 13%|█▎        | 2/15 [00:15<01:54,  8.85s/it]"
     ]
    },
    {
     "name": "stdout",
     "output_type": "stream",
     "text": [
      "--------------------------------\n",
      "Processed: 안전보건기술지침의 개요\n",
      "\n",
      "○ 작성자 : (사)한국건설안전협회 최순주\n",
      "\n",
      "○ 제·개정 경과\n",
      "  - 2007년 7월 건설안전분야 제정위원회 심의\n",
      "  - 2007년 11월 총괄제정위원회 심의\n",
      "  - 2011년 12월 건설안전분야 제정위원회 심의(개정, 법규개정조항 반영)\n",
      "  - 2020년 11월 건설안전분야 표준제정위원회 심의(개정, 법규개정조항반영)\n",
      "\n",
      "○ 관련규격 및 자료\n",
      "  - Workplace Safety and Health (Scaffolds) Regulations 2011\n",
      "  - KOSHA GUIDE C-26-2017 낙하물 방지망 설치 지침\n",
      "  - KOSHA GUIDE C-29-2017 수직 보호망 설치 지침\n",
      "  - KOSHA GUIDE C-31-2017 추락 방호망 설치 지침\n",
      "\n",
      "○ 관련법규・규칙・고시 등\n",
      "  - 산업안전보건기준에 관한 규칙 제1편 제7장 비계\n",
      "  - 노동부 고시 제2020-3호(가설공사 표준안전작업 지침)\n",
      "  - 고용노동부 고시 제2020-33호(방호장치 안전인증 고시)\n",
      "  - 고용노동부 고시 제2020-53호(사업장 위험성평가에 관한 지침)\n",
      "\n",
      "○ 기술지침의 적용 및 문의\n",
      "  - 이 기술지침에 대한 의견 또는 문의는 한국산업안전보건공단 홈페이지(www.kosha.or.kr) 안전보건기술지침 소관 분야별 문의처 안내를 참고하시기 바랍니다.\n",
      "  - 동 지침 내에서 인용된 관련 규격 및 자료 등에 관하여 최근 개정 내용이 있는 경우 동 지침에 우선하여 참고하시기 바랍니다.\n",
      "\n",
      "공표일자 : 2020년 12월\n",
      "제 정 자 : 한국산업안전보건공단 이사장\n"
     ]
    },
    {
     "name": "stderr",
     "output_type": "stream",
     "text": [
      "INFO:httpx:HTTP Request: POST http://localhost:8000/v1/chat/completions \"HTTP/1.1 200 OK\"\n",
      " 20%|██        | 3/15 [00:27<02:00, 10.02s/it]"
     ]
    },
    {
     "name": "stdout",
     "output_type": "stream",
     "text": [
      "--------------------------------\n",
      "Processed: 시스템 비계 안전작업 지침\n",
      "\n",
      "1. 목 적\n",
      "\n",
      "이 지침은 「산업안전보건기준에 관한 규칙」(이하 “안전보건규칙”이라 한다) 제1편 제7장 (비계) 및 고용노동부고시 제2020-33호(방호장치 의무안전인증 고시) 규정에 의하여 시스템 비계를 조립・사용・해체 작업 중 발생할 수 있는 근로자의 떨어짐, 자재에 의한 맞음, 감전 등의 재해를 예방함을 목적으로 한다.\n",
      "\n",
      "2. 적용범위\n",
      "\n",
      "이 지침은 건설공사 현장에서 시스템 비계를 조립・사용・해체 작업에 적용 한다.\n",
      "\n",
      "3. 용어의 정의\n",
      "\n",
      "(1) 이 지침에서 사용되는 용어의 정의는 다음과 같다\n",
      "\n",
      "(a) “시스템 비계”라 함은 <그림 1>과 같이 수직재, 수평재, 가새재 등의 부재를 공장에서 제작하여 현장에서 조립하여 사용하는 가설 구조물을 말한다.\n",
      "\n",
      "(b) “받침철물”이라 함은 수직재의 하부에 설치하여 미끄러짐이나 침하를 방지하고 비계의 수직과 수평을 유지시키기 위한 조절형 부재를 말한다.\n",
      "\n",
      "(c) “가새(Bracing)”라 함은 비계에 작용하는 수평방향의 압축・인장력을 지지하는 부재를 말하며 수평재와 수평재, 수직재와 수직재를 경사지게 연결하는 부재를 말한다.\n",
      "\n",
      "(d) “수직재”라 함은 상부하중을 하부로 전달하는 시스템비계의 구성하는 부재 중 기둥 부재를 말한다.\n"
     ]
    },
    {
     "name": "stderr",
     "output_type": "stream",
     "text": [
      "INFO:httpx:HTTP Request: POST http://localhost:8000/v1/chat/completions \"HTTP/1.1 200 OK\"\n",
      " 27%|██▋       | 4/15 [00:34<01:38,  8.99s/it]"
     ]
    },
    {
     "name": "stdout",
     "output_type": "stream",
     "text": [
      "--------------------------------\n",
      "Processed: (마) “수평재”라 함은 수직재에 직각으로 결합되어 수평하중을 지지하는 부재를 말한다.\n",
      "\n",
      "(바) “접합부”라 함은 수직재에 용접으로 고정하여 수직재와 수평재 및 가새재를 조립할 수 있는 부재(철물)를 말한다.\n",
      "\n",
      "(사) “벽이음”이라 함은 비계와 건물 등의 구조체에 연결하여 풍하중, 충격하중 등\n",
      "의 수평 및 수직하중에 의한 인장 및 압축하중을 지지하는 부재를 말한다.\n",
      "\n",
      "(아) “연결조인트”라 함은 시스템비계의 수직재와 수직재를 상·하로 연결하여 수직재의 이탈을 방지하기 위하여 사용하는 연결핀을 말한다.\n",
      "\n",
      "(자) “추락방호망”이라 함은 고소작업 중 근로자의 떨어짐 및 물체의 맞음 방지\n",
      "기 위하여 수평으로 설치하는 보호망을 말한다.\n"
     ]
    },
    {
     "name": "stderr",
     "output_type": "stream",
     "text": [
      "INFO:httpx:HTTP Request: POST http://localhost:8000/v1/chat/completions \"HTTP/1.1 200 OK\"\n",
      " 33%|███▎      | 5/15 [00:47<01:44, 10.42s/it]"
     ]
    },
    {
     "name": "stdout",
     "output_type": "stream",
     "text": [
      "--------------------------------\n",
      "Processed: (차) “수직보호망”이라 함은 가설구조물의 측면에 수직으로 설치하여 자재의 떨어짐 및 먼지의 비산 등을 방지하기 위하여 설치하는 보호망을 말한다\n",
      "\n",
      "(카) “낙하물 방지망”이라 함은 작업 중 재료나 공구 등의 낙하물로 인한 피해를 방지하기 위하여 설치하는 방지망을 말한다\n",
      "\n",
      "(2) 그 밖의 용어의 뜻은 이 지침에서 규정하는 경우를 제외하고는 「산업안전보건법」, 같은법 시행령, 같은법 시행규칙, 같은법 안전보건규칙에서 정하는 바에 따른다.\n",
      "\n",
      "4. 시스템비계 설치·해체 안전작업 절차\n",
      "\n",
      "시스템비계 설치·해체 작업은 <그림 2>와 같이 작업절차를 준수하여야 한다.\n",
      "\n",
      "| 작업절차 | 준수사항 |\n",
      "|----------|---------|\n",
      "| 4.1 설치계획서 검토 | 4.1.1 일반안전사항 |\n",
      "| 4.2 자재하역 및 운반작업 | 4.2.1 자재하역 및 운반작업 중 준수사항 |\n",
      "| 4.3 설치작업 | 4.3.1 받침철물(잭베이스), 벽이음 및 가새 설치 준수사항 |\n",
      "| | 4.3.2 수직재 및 수평재 설치 준수사항 |\n",
      "| 4.4 안전시설 설치 | 4.4.1 통로 및 안전방망 설치 준수사항 |\n",
      "| 4.5 해체작업 | 4.5.1 해체작업 시 준수사항 |\n",
      "\n",
      "<그림 2> 시스템비계 설치·해체 안전작업절차\n",
      "\n",
      "4.1 설치계획서 사전검토\n",
      "\n",
      "4.1.1 일반안전사항\n",
      "\n",
      "(1) 시스템비계 설치·해체 작업은 작업단계별 유해·위험요인을 파악하고 해당 유해·위험요인을 도출하여 감소대책의 수립 등 위험성평가를 실시하여야 한다.\n"
     ]
    },
    {
     "name": "stderr",
     "output_type": "stream",
     "text": [
      "INFO:httpx:HTTP Request: POST http://localhost:8000/v1/chat/completions \"HTTP/1.1 200 OK\"\n",
      " 40%|████      | 6/15 [01:03<01:49, 12.18s/it]"
     ]
    },
    {
     "name": "stdout",
     "output_type": "stream",
     "text": [
      "--------------------------------\n",
      "Processed: (2) 시스템 비계는 작업전 조립도(평면도, 입면도, 단면도, 연결 상세도 등)를 작성하고 조립도에 따라 조립하여야 한다.\n",
      "\n",
      "(3) 조립도에는 수직재와 수평재 및 벽이음, 승강통로 등의 조립 간격을 표기하여야 한다.\n",
      "\n",
      "(4) 시스템 비계의 높이가 31m이상인 경우에는 (2)에도 불구하고 해당 전문가의 안전 확인을 받아야한다.\n",
      "\n",
      "(5) 해당 전문가의 안전확인을 받은 경우 시스템 비계는 설계 조건과 결과를 확인(작업조건, 하중조건, 풍하중, 수직보호망 충실률, 벽이음 간격 등)하여 조립 하고 사용하여야 한다.\n",
      "\n",
      "(6) 시스템 비계의 재료는 안전인증제품을 사용하여야 하며, 변형, 부식 또는 심하게 손상된 것을 사용해서는 아니되며 재사용 재료는 품질관리를 하여야 한다.\n",
      "\n",
      "(7) 조립·해체 또는 변경 작업은 작업내용을 보기 쉬운 장소에 게시하고, 작업 구역 에는 해당 작업에 종사하는 근로자가 아닌 사람의 출입을 금지하여야 한다. 또한, 신호수를 배치하는 경우 일정한 신호방법을 정하여 신호하도록 하여야 한다. 그 내용을 보기 쉬운 장소에 게시하여야 한다.\n",
      "\n",
      "(8) 시스템비계를 조립·해체 및 변경 작업은 관리감독자의 지휘에 따라 작업하여야 하며, 관리감독자는 다음의 업무를 수행하여야 한다.\n",
      "\n",
      "(가) 재료의 결함유무를 점검과 불량품 제거\n",
      "(나) 기구·공구·안전대 및 안전모 등의 점검과 불량품 제거\n",
      "(다) 작업방법 및 근로자 배치를 결정하고 작업 진행 상태의 감시\n",
      "(라) 안전대와 안전모 등의 착용 상태의 감시\n",
      "(마) 비, 눈, 바람 또는 그 밖의 기상상태의 불안정으로 인하여 근로자가 위험해질 우려가 있는 경우 작업의 중지\n",
      "\n",
      "(9) 비계 내부에서 근로자가 상하 또는 좌우로 이동하는 경우에는 반드시 지정된 통 로를 이용하도록 주지시켜야 한다.\n",
      "\n",
      "(10) 비계 작업 근로자는 같은 수직면상의 상·하 동시 작업을 금지시켜야 한다.\n"
     ]
    },
    {
     "name": "stderr",
     "output_type": "stream",
     "text": [
      "INFO:httpx:HTTP Request: POST http://localhost:8000/v1/chat/completions \"HTTP/1.1 200 OK\"\n",
      " 47%|████▋     | 7/15 [01:19<01:47, 13.48s/it]"
     ]
    },
    {
     "name": "stdout",
     "output_type": "stream",
     "text": [
      "--------------------------------\n",
      "Processed: (11) 근로자는 당해 작업에 적합한 개인보호구(안전모, 안전대, 안전화, 안전장갑 등)를 올바르게 착용하여야 한다.\n",
      "\n",
      "(12) 비, 눈, 그 밖의 기상상태의 불안정으로 인하여 풍속이 초당 10 m 이상, 강우량이 시간당 1 mm 이상, 강설량이 시간당 1 cm 이상인 경우에는 조립 및 해체작업을 중지하여야 한다.\n",
      "\n",
      "(13) 비, 눈, 그 밖의 기상상태의 악화로 작업을 중지시킨 후 또는 비계를 조립·해체하거나 변경한 후에 그 비계에서 작업을 하는 경우에는 해당 작업을 시작하기 전에 다음 사항을 점검하고, 이상을 발견하면 즉시 보수하여야 한다.\n",
      "   (가) 발판 재료의 손상 여부 및 부착 상태\n",
      "   (나) 연결부 또는 접속부의 풀림 상태\n",
      "   (다) 연결 재료 및 연결 절단의 손상 또는 부식 상태\n",
      "   (라) 난간·울 등의 흔들림 상태 및 탈락 여부\n",
      "   (마) 기둥의 침하, 변형, 변위 또는 흔들림 상태\n",
      "\n",
      "(14) 충전전로 또는 그 부근에서 비계 작업중 감전의 우려가 있는 경우에는 해당 전로를 차단하거나 해당 전압에 적합한 절연용 방호구를 설치하여야 한다. 다만, 저압인 경우 해당 근로자가 절연용 보호구를 착용하고, 충전전로에 접촉할 우려가 없는 경우에는 절연용 방호구를 설치하지 아니할 수 있다.\n",
      "\n",
      "(15) 충전전로의 인근에서 자재 하역 등의 작업이 있는 경우에는 차량 등을 충전전로의 충전부로부터 300센티미터 이상 이격하여야 한다.\n",
      "\n",
      "(16) 자재하역·운반하는 이동식 크레인(카고 크레인)은 제조사의 장비매뉴얼과 인양능력표를 확인하여 정격하중 등을 준수하고, 크레인 운전자와의 자격, 자동차검사증, 보험가입을 확인하여야 한다. 또한 운전사 또는 근로자가 보기에 쉬운 곳에 해당 장비의 경계, 경고표시 등을 부착하여야 한다.\n",
      "\n",
      "(17) 비계 설치·해체작업을 하는 경우에는 근로자로 하여금 안전대 착용 등 근로자의 떨어짐을 방지 조치를 하여야 한다.\n",
      "\n",
      "4.2 자재하역 및 운반작업\n"
     ]
    },
    {
     "name": "stderr",
     "output_type": "stream",
     "text": [
      "INFO:httpx:HTTP Request: POST http://localhost:8000/v1/chat/completions \"HTTP/1.1 200 OK\"\n",
      " 53%|█████▎    | 8/15 [01:29<01:27, 12.43s/it]"
     ]
    },
    {
     "name": "stdout",
     "output_type": "stream",
     "text": [
      "--------------------------------\n",
      "Processed: 4.2.1 자재하역 및 운반 작업 중 준수사항\n",
      "\n",
      "(1) 시스템비계 부재에 의한 맞음 사고를 방지하기 위하여 재료·기구 또는 공구 등을 올리거나 내리는 경우에는 근로자가 달줄 또는 달포대를 사용하게 하여야 한다.\n",
      "\n",
      "(2) 근로자가 49N(5 kg/cm²) 이상의 중량물을 들여 올리는 작업을 하는 경우에 취급하는 물품에 대하여 근로자가 쉽게 알 수 있도록 물품의 중량과 무게중심에 대하여 작업장 주변에 안내표시를 하여야 한다.\n",
      "\n",
      "4.3 시스템비계 설치작업\n",
      "\n",
      "4.3.1 시스템비계 설치 순서\n",
      "\n",
      "(가) 편평도 및 다짐 등 지반상태 확인\n",
      "(나) 받침철물(잭베이스) 설치\n",
      "(다) 받침철물(잭베이스)에 수직재 설치\n",
      "(라) 밑둥잡이(수평재) 설치 및 1단부 수평재 설치\n",
      "(마) 1단부 작업발판 설치\n",
      "(바) 바닥과 1단부간 가설계단 설치\n",
      "(사) 1단부 안전난간 및 2단부 수평재 설치\n",
      "(아) 2단부 작업발판 설치\n",
      "(자) 1단부와 2단부간 가설계단 설치\n",
      "(차) 2단부 수직재 설치\n",
      "(카) 2단부 안전난간 및 3단부 수평재 설치\n",
      "(타) 벽이음 설치\n"
     ]
    },
    {
     "name": "stderr",
     "output_type": "stream",
     "text": [
      "INFO:httpx:HTTP Request: POST http://localhost:8000/v1/chat/completions \"HTTP/1.1 200 OK\"\n",
      " 60%|██████    | 9/15 [01:37<01:06, 11.13s/it]"
     ]
    },
    {
     "name": "stdout",
     "output_type": "stream",
     "text": [
      "--------------------------------\n",
      "Processed: |   |   |   |\n",
      "|---|---|---|\n",
      "| 1 | 받침철물(잭베이스) 및 수직재 설치 | 2 | 밑둥잡이(수평재) 및 1단부 수평재 설치 | 3 | 1단부 작업발판 설치 |\n",
      "| 4 | 1단부 가설계단 설치 | 5 | 1단부 안전난간 및 2단부 수평재 설치 | 6 | 2단부 작업발판 설치 |\n",
      "| 7 | 2단부 가설계단 설치 | 8 | 2단부 수직재 설치 | 9 | 2단부 안전난간 설치 |\n",
      "\n",
      "4.3.2 받침철물(잭베이스), 벽이음 및 가새 설치 준수사항\n",
      "\n",
      "(1) 지반의 침하방지를 위하여 지내력을 확인하여 연약지반인 경우 <그림 3>과 같이 깔판·깔목을 설치하거나, <그림 4>와 같이 콘크리트를 타설하는 등 침하방지 조치를 하여야 한다.\n",
      "\n",
      "<그림 3> 깔판 설치  \n",
      "<그림 4> 콘크리트 타설\n"
     ]
    },
    {
     "name": "stderr",
     "output_type": "stream",
     "text": [
      "INFO:httpx:HTTP Request: POST http://localhost:8000/v1/chat/completions \"HTTP/1.1 200 OK\"\n",
      " 67%|██████▋   | 10/15 [01:46<00:51, 10.36s/it]"
     ]
    },
    {
     "name": "stdout",
     "output_type": "stream",
     "text": [
      "--------------------------------\n",
      "Processed: 비계 기둥의 밑둥에는 반침철물을 사용하여야 하며, 받침에 고저차가 있는 경우에는 조절형 반침철물을 사용하여 시스템비계가 항상 수평 및 수직을 유지하도록 하여야 한다.\n",
      "\n",
      "수직재와 받침철물은 밀착되도록 설치하고, 수직재와 받침철물의 연결부 검침길이는 받침철물 전체길이의 3분의 1 이상이 되도록 하여야 한다.\n",
      "\n",
      "경사진 바닥에 비계기둥을 설치하는 경우에는 피벗형 받침철물 또는 볼기 등을 사용하여 밑받침철물의 바닥면이 수평을 유지하도록 하여야 한다.\n",
      "\n",
      "벽 연결재 설치간격은 <그림 5>와 같이 제조사가 정한 기준에 따라 반드시 설치하여야 한다. 벽 연결재는 수직재와 수평재의 교차부에서 비계면에 대하여 직각이 되도록 영구구조물에 연결하여야 한다.\n",
      "\n",
      "구조물과 시스템비계 사이에는 추락방호망을 높이 10미터 이내마다 설치하여야 한다.\n",
      "\n",
      "가새는 제조사의 매뉴얼과 조립도에 따라 설치하고, 전문가의 구조검토가 있는 경우 그 의견에 따라 설치하여야 한다.\n"
     ]
    },
    {
     "name": "stderr",
     "output_type": "stream",
     "text": [
      "INFO:httpx:HTTP Request: POST http://localhost:8000/v1/chat/completions \"HTTP/1.1 200 OK\"\n",
      " 73%|███████▎  | 11/15 [01:56<00:40, 10.18s/it]"
     ]
    },
    {
     "name": "stdout",
     "output_type": "stream",
     "text": [
      "--------------------------------\n",
      "Processed: 4.3.3 수직재 및 수평재 설치 준수사항\n",
      "\n",
      "(1) 수평재는 수직재와 직각으로 설치하여야 하며, 체결 후 흔들림이 없도록 체결한 다음 망치로 2-3회 타격하여 확인하는 등 건고하게 설치하여야 한다.\n",
      "\n",
      "(2) 수직재와 수직재는 연결철물이 이탈되지 않도록 건고하게 설치하여야 한다.\n",
      "\n",
      "(3) 반침철물 설치한 다음 수직재를 설치하면 넘어짐의 위험이 있으므로 <그림 7>과 같이 수평재를 이용하여 연결핀을 건고하게 설치하여야 한다.\n",
      "\n",
      "(4) 비계 내부에서 근로자가 상하로 이동하는 경우에는 반드시 가설계단을 사용하도록 주지시켜야 한다.\n",
      "\n",
      "(5) 비계 작업 근로자는 떨어질 위험이 있으므로 안전대 부착용 로프를 먼저 설치하고 안전대를 걸고 작업을 하도록 하여야 한다.\n",
      "\n",
      "(6) 비계 작업 근로자는 같은 수직면상의 위와 아래 동시 작업은 금지하여야 한다.\n",
      "\n",
      "4.4 안전시설 설치\n",
      "\n",
      "4.4.1 통로 및 안전방망 설치 준수사항\n",
      "\n",
      "(1) 작업발판에는 제조자가 정한 최대 적재하중과 설계자가 제시한 적재하중 이상의 적재는 아니 되며, 최대적재량을 표기한 표지판을 부착하고 근로자에게 알려야 한다.\n"
     ]
    },
    {
     "name": "stderr",
     "output_type": "stream",
     "text": [
      "INFO:httpx:HTTP Request: POST http://localhost:8000/v1/chat/completions \"HTTP/1.1 200 OK\"\n",
      " 80%|████████  | 12/15 [02:03<00:28,  9.35s/it]"
     ]
    },
    {
     "name": "stdout",
     "output_type": "stream",
     "text": [
      "--------------------------------\n",
      "Processed: (2) 작업발판의 폭은 40센티미터 이상으로 하고, 발판을 두 장 이상으로 설치하는 경우 <그림 8>과 같이 발판재료 간의 틈은 3센티미터 이하로 하여야 한다.\n",
      "\n",
      "(3) 작업발판의 재료는 뒤집히거나 떨어지지 않도록 둘 이상의 지지물에 고정하여야 하며, 작업발판 지지물은 하중에 의하여 파괴될 우려가 없는 것을 사용하여야 한다.\n",
      "\n",
      "(4) 가설계단 설치 이후에 근로자가 승·하강하는 발판 단부에 근로자 떨어짐의 위험이 있는 장소에는 <그림 9>와 같이 안전난간을 설치해야 한다.\n",
      "\n",
      "(5) 작업발판의 단부에는 <그림 10>과 같이 높이 10센티미터 이상의 발끝막이판을 설치하고 떨어짐의 우려가 있는 재료, 공구 등은 작업발판 위에 두지 말아야 한다.\n"
     ]
    },
    {
     "name": "stderr",
     "output_type": "stream",
     "text": [
      "INFO:httpx:HTTP Request: POST http://localhost:8000/v1/chat/completions \"HTTP/1.1 200 OK\"\n",
      " 87%|████████▋ | 13/15 [02:13<00:18,  9.39s/it]"
     ]
    },
    {
     "name": "stdout",
     "output_type": "stream",
     "text": [
      "--------------------------------\n",
      "Processed: (6) 작업발판 설치는 하부발판에서 수직재, 수평재 및 안전난간을 설치 완료 후에 상부 발판을 설치하여야 한다. 또한 하부에서 발판 설치 완료 후에 안전대 부착설비를 설치하여 안전대를 착용 후 순차적으로 상부의 수직재, 수평재, 안전난간을 설치한 후에 설치하여야 한다.\n",
      "\n",
      "(7) 각 단 작업발판 사이에는 근로자들의 안전한 통행을 위하여 제품의 사양에 적합한 가설계단을 <그림 11>과 같이 설치하여야 하며, 건물외주(4면)길이 50미터이내마다 가설계단을 1개소씩 추가 설치하고 계단의 측면에는 안전난간을 설치하여야 한다.\n",
      "\n",
      "(8) 자재에 의한 떨어짐으로 근로자에게 위험을 미칠 우려가 있는 경우에는 다음 사항을 준수하여 <그림 12>와 같이 낙하물 방지망 또는 방호선반을 설치하고 외부에는 수직보호망을 설치하여야 한다. 수직보호망은 난연성 또는 방염 가공한 합성섬유의 망을 사용하여야 한다.\n",
      "\n",
      "(가) 낙하물 방지망 및 방호선반 설치기준\n",
      "\n",
      "![그림 10] 발끝막이 설치 예\n",
      "\n",
      "![그림 11] 가설계단 설치 예\n"
     ]
    },
    {
     "name": "stderr",
     "output_type": "stream",
     "text": [
      "INFO:httpx:HTTP Request: POST http://localhost:8000/v1/chat/completions \"HTTP/1.1 200 OK\"\n",
      " 93%|█████████▎| 14/15 [02:24<00:10, 10.10s/it]"
     ]
    },
    {
     "name": "stdout",
     "output_type": "stream",
     "text": [
      "--------------------------------\n",
      "Processed: ① 높이 10미터 이내마다 설치하고, 내민 길이는 비계 외측에서 수평거리 2미터이상으로 할 것\n",
      "② 수평면과의 각도는 20도 이상 30도 이하를 유지할 것\n",
      "\n",
      "(나) 수직보호망 설치기준\n",
      "① 너비(폭) 1.85미터 이내의 망을 비계 외측에 수직으로 설치할 것\n",
      "② 망과 망은 10센티미터 이상 겹쳐하여 견고하게 설치할 것\n",
      "\n",
      "<그림 12> 낙하물방지망 및 수직보호망 설치 예\n",
      "\n",
      "(9) 그 밖의 관련사항은 시스템비계에 설치하는 작업 발판은 KOSHA GUIDE C-08-2015(작업발판설치 및 사용안전 지침)을, 경사로 및 벽이음 철물 매립 방법은 KOSHA GUIDE C-30-2011(강관비계 설치 및 사용안전 지침)을, 자재하역 및 운반작업 중 준수 사항은 KOSHA GUIDE C-69-2012(이동식 크레인 안전보건작업지침)에 따른다.\n",
      "\n",
      "4.5 해체작업\n",
      "\n",
      "4.5.1 시스템비계 해체 순서\n",
      "\n",
      "(1) 시스템비계의 해체작업은 작업전 작업발판 등에 부재, 공구 등이 없는지 확인하고, 조립의 역순으로 해체하여야 한다. 벽 연결재는 가능하면 나중에 해체하고, 안전시설이 설치되어 있는 시스템비계에서는 지지대를 설치한 후에 벽 연결재 등을 해체하여야 한다.\n",
      "\n",
      "(가) 상단 안전난간 해체\n",
      "(나) 상단 작업발판 및 가설계단 해체\n"
     ]
    },
    {
     "name": "stderr",
     "output_type": "stream",
     "text": [
      "INFO:httpx:HTTP Request: POST http://localhost:8000/v1/chat/completions \"HTTP/1.1 200 OK\"\n",
      "100%|██████████| 15/15 [02:34<00:00, 10.27s/it]\n"
     ]
    },
    {
     "name": "stdout",
     "output_type": "stream",
     "text": [
      "--------------------------------\n",
      "Processed: (다) 상단 수평재 및 하단 안전난간 해체\n",
      "(라) 하단 작업발판 해체 및 가설계단 해체\n",
      "(마) 수직재 해체\n",
      "(바) 받침철물(잭베이스) 해체\n",
      "\n",
      "4.5.2 해체작업 시 준수사항\n",
      "\n",
      "(1) 해체작업 반경에는 관계 근로자가 아닌 사람의 출입을 금지하고 그 내용을 보기 쉬운 장소에 게시하여야 한다.\n",
      "\n",
      "(2) 해체작업 전에 시스템 비계와 벽 연결재와 안전난간 등의 부재 설치상태를 점검하고, 결함이 발생한 경우에는 정상적인 상태로 복구한 다음 해체하여야 한다.\n",
      "\n",
      "(3) 해체작업을 하는 경우에는 근로자로 하여금 안전대를 사용하도록 하는 등 근로자 사고의 예방을 위한 조치를 하여야 한다.\n",
      "\n",
      "(4) 해체된 부재는 비계 위에 적재해서는 아니되며 지정된 위치에 보관하여야 한다.\n",
      "\n",
      "(5) 해체부재의 하역은 인양장비 사용을 원칙으로 하며, 인력 하역은 달줄, 달포대 등을 사용하여야 한다.\n",
      "\n",
      "(6) 비, 눈, 그 밖의 기상상태의 불안정으로 날씨가 몹시 나쁜 경우에는 그 작업을 중지하여야 한다.\n",
      "---End---\n",
      "Processing 파이프 서포트 동바리 안전작업 지침\n"
     ]
    },
    {
     "name": "stderr",
     "output_type": "stream",
     "text": [
      "  0%|          | 0/10 [00:00<?, ?it/s]INFO:httpx:HTTP Request: POST http://localhost:8000/v1/chat/completions \"HTTP/1.1 200 OK\"\n",
      " 10%|█         | 1/10 [00:02<00:21,  2.34s/it]"
     ]
    },
    {
     "name": "stdout",
     "output_type": "stream",
     "text": [
      "--------------------------------\n",
      "Processed: 파이프 서포트 동바리 안전작업 지침\n",
      "\n",
      "2020. 12.\n",
      "\n",
      "한국산업안전보건공단\n"
     ]
    },
    {
     "name": "stderr",
     "output_type": "stream",
     "text": [
      "INFO:httpx:HTTP Request: POST http://localhost:8000/v1/chat/completions \"HTTP/1.1 200 OK\"\n",
      " 20%|██        | 2/10 [00:19<01:27, 10.91s/it]"
     ]
    },
    {
     "name": "stdout",
     "output_type": "stream",
     "text": [
      "--------------------------------\n",
      "Processed: 안전보건기술지침의 개요\n",
      "\n",
      "○ 작성자 : 한국산업안전보건공단 유일렬\n",
      "○ 개정자 : (사) 한국건설안전협회 최순주\n",
      "\n",
      "○ 제·개정 경과\n",
      "  - 2000년 11월 건설안전분야 제정위원회 심의\n",
      "  - 2000년 12월 총괄제정위원회 심의\n",
      "  - 2009년 9월 건설안전분야 제정위원회 심의\n",
      "  - 2009년 11월 총괄제정위원회 심의\n",
      "  - 2012년 7월 건설안전분야 제정위원회 심의(개정)\n",
      "  - 2015년 11월 건설안전분야 기 준제정위원회 심의(개정)\n",
      "  - 2020년 11월 건설안전분야 표준제정위원회 심의(개정, 법규개정조항반영)\n",
      "\n",
      "○ 관련규격 및 자료\n",
      "  - 가설공사 표준시방서(2016, 국토교통부)\n",
      "  - 거푸집 동바리 안전작업 매뉴얼(한국산업안전보건공단, 기술자료 건설 2009-15-628)\n",
      "  - ACI 347-04 Guide to Formwork for Concrete(미국, 콘크리트학회)\n",
      "\n",
      "○ 관련 법규·규칙·고시 등\n",
      "  - 「산업안전보건기준에 관한 규칙」제2편 제4장 제1절 거푸집동바리 및 거푸집\n",
      "  - 「건설기술진흥법」제55조, 시행규칙 제50조, 제62조 11항, 시행령 101조의2\n",
      "  - 고용노동부고시 제2020-3호(가설공사 표준안전 작업지침)\n",
      "  - 고용노동부고시 제2016-33호(방호장치 안전인증 고시)\n",
      "  - 고용노동부고시 제2020-34호(방호장치 자율안전기준 고시)\n",
      "\n",
      "○ 기술지침의 적용 및 문의\n",
      "  - 이 기술지침에 대한 의견 또는 문의는 한국산업안전보건공단 홈페이지(www.kosha.or.kr)의 안전보건기술지침 소관분야별 문의처 안내를 참고하시기 바랍니다.\n",
      "  - 동 지침 내에서 인용된 관련규격 및 자료, 법규 등에 관하여 최근 개정본이 있을 경우에는 해당 개정본의 내용을 참고하시기 바랍니다.\n",
      "\n",
      "공표일자 : 2020년 12월\n",
      "제 정 자 : 한국산업안전보건공단 이사장\n"
     ]
    },
    {
     "name": "stderr",
     "output_type": "stream",
     "text": [
      "INFO:httpx:HTTP Request: POST http://localhost:8000/v1/chat/completions \"HTTP/1.1 200 OK\"\n",
      " 30%|███       | 3/10 [00:30<01:16, 10.91s/it]"
     ]
    },
    {
     "name": "stdout",
     "output_type": "stream",
     "text": [
      "--------------------------------\n",
      "Processed: 1. 목 적\n",
      "\n",
      "이 지침은 「산업안전보건기준에 관한 규칙」(이하 “안전보건규칙”이라 한다) 제2편 제4장 제1절 거푸집동바리 및 거푸집 규정에 따라, 파이프 서포트 동바리 설치 및 사용에 관한 기술적 사항을 정함을 목적으로 한다.\n",
      "\n",
      "2. 적용범위\n",
      "\n",
      "이 지침은 파이프 서포트 동바리 설치 및 사용하는 모든 건설공사에 적용한다.\n",
      "\n",
      "3. 용어의 정의\n",
      "\n",
      "(1)이 지침에서 사용되는 용어의 뜻은 다음과 같다.\n",
      "\n",
      "(가) “거푸집”이란 부어넣는 콘크리트가 소정의 형상, 치수를 유지하며 콘크리트가 적합한 강도에 도달하기까지 지지하는 가설구조물의 총칭을 말한다.\n",
      "\n",
      "(나) “동바리”란 타설 된 콘크리트가 소정의 강도를 얻을 때까지 거푸집 및 장선·멍에를 적정 위치에 유지시키고, 상부하중을 지지하는 부재를 말한다.\n",
      "\n",
      "(다) “거푸집 널”이란 거푸집의 일부로서 콘크리트에 직접 접하는 목재나 금속 등 판류를 말한다.\n",
      "\n",
      "(라) “장선”이란 거푸집널을 지지하고, 상부하중을 명에에 전달하는 부재를 말한다.\n",
      "\n",
      "(마) “멍에”란 장선을 지지하고, 상부하중을 동바리에 전달하기 위하여 장선과 직각 방향으로 설치하는 부재를 말한다.\n"
     ]
    },
    {
     "name": "stderr",
     "output_type": "stream",
     "text": [
      "INFO:httpx:HTTP Request: POST http://localhost:8000/v1/chat/completions \"HTTP/1.1 200 OK\"\n",
      " 40%|████      | 4/10 [00:41<01:07, 11.18s/it]"
     ]
    },
    {
     "name": "stdout",
     "output_type": "stream",
     "text": [
      "--------------------------------\n",
      "Processed: (바) \"재사용\"이란 한 번 이상 사용한 것과 한 번도 사용하지 신품이라도 1년 이상 보관된 것을 말한다.\n",
      "\n",
      "(2) 그 밖의 용어의 뜻은 이 지침에서 규정하는 경우를 제외하고는 「산업안전보건법」같은 법 시행령, 같은 법 시행규칙, 안전보건규칙에서 정하는 바에 따른다.\n",
      "\n",
      "4. 파이프 서포트 동바리 안전작업 절차\n",
      "\n",
      "파이프 서포트 동바리 작업은 <그림 1>과 같이 작업절차를 준수하여야 한다.\n",
      "\n",
      "| 작업절차     | 준수사항 |\n",
      "|--------------|---------|\n",
      "| 안전 작업계획 | 5.1 일반안전 준수사항 |\n",
      "| 동바리 조립 작업 | 5.2 동바리 조립작업 준수사항 |\n",
      "| 콘크리트 타설작업 | 5.3 콘크리트 타설작업 준수사항 |\n",
      "| 동바리 해체 작업 | 5.4 동바리 해체 작업 준수사항 |\n",
      "| 동바리 재설치 | 5.5 동바리 재설치 작업 준수사항 |\n",
      "\n",
      "<그림 1>파이프 서포트 동바리 안전작업절차\n",
      "\n",
      "5. 파이프 서포트 동바리 조립·해체 안전작업\n",
      "\n",
      "5.1 일반안전사항\n",
      "\n",
      "(1) 파이프 서포트 동바리 재료는 고용노동부고시 제2020-33호(방호장치 안전인증 고시)에 적합한 것을 사용하여야 한다.\n",
      "\n",
      "(2) 재사용하는 파이프 서포트 동바리는 건설기술진흥법 제55조(건설공사의 품질관리)에 적합한 것을 사용하여야 한다.\n"
     ]
    },
    {
     "name": "stderr",
     "output_type": "stream",
     "text": [
      "INFO:httpx:HTTP Request: POST http://localhost:8000/v1/chat/completions \"HTTP/1.1 200 OK\"\n",
      " 50%|█████     | 5/10 [00:56<01:02, 12.41s/it]"
     ]
    },
    {
     "name": "stdout",
     "output_type": "stream",
     "text": [
      "--------------------------------\n",
      "Processed: (3) 파이프 서포트 동바리 재료는 변형ㆍ부식 또는 심하게 손상된 것을 사용해서는 아니 된다.\n",
      "\n",
      "(4) 거푸집 동바리에 사용하는 동바리ㆍ멍에 등 주요 부문의 강재는 산업안전보건 기준에관한 규칙 별표 10의 기준에 적합한 것을 사용하여야 한다.\n",
      "\n",
      "(5) 장선 및 멍에는 거푸집 널과 원활히 결합될 수 있는 재료나 결합방식을 고려하여 선정하여야 한다.\n",
      "\n",
      "(6) 장선 및 멍에로 사용하는 목재는 구조용 목재를 사용하여야 하며, 원형 강관은 KS D 3566, 각형 강관은 KS D 3568, 경량 형강은 KS D 3530, 기타의 강재는 KS D 3503 또는 KS D 3515에 적합하여야 한다.\n",
      "\n",
      "(7) 파이프 서포트 동바리는 구조를 검토한 후 조립도를 작성하고, 조립도에 따라 조립하여야 한다.\n",
      "\n",
      "(8) 높이 5 m 이상인 거푸집 동바리 및 발주자 또는 인허가기관의 장이 필요하다고 인정한 거푸집 동바리는 건설기술진흥법 시행령 제101조2에 따라 시공전 관계전문가(기술사법에 등록된 자로 수급인에게 고용되지 않은 구조기술사)로부터 구조적 안전성을 확인받아야 한다.\n",
      "\n",
      "(9) 조립도에는 동바리ㆍ멍에 등 부재의 재질ㆍ단면규격ㆍ설치간격 및 이음방법 등을 명시하여야 한다.\n",
      "\n",
      "(10) 재료, 기구 또는 공구 등을 올리거나 내리는 경우에는 건설장비 사용을 원칙으로 하며, 부치나 길이가 작은 재료, 기구 또는 공구 등은 양중함이나 달줄ㆍ달포대 등을 사용하도록 하여야 한다.\n",
      "\n",
      "(11) 거푸집 동바리 조립 및 해체작업 근로자는 산업안전보건법 제140조 및 유해위험작업의 취업 제한에 관한 규칙에 의하여 기능습득교육을 받은 자 또는 동등 이상의 자격을 갖춘 자 이어야 한다.\n",
      "\n",
      "5.2 동바리 조립작업 준수사항\n"
     ]
    },
    {
     "name": "stderr",
     "output_type": "stream",
     "text": [
      "INFO:httpx:HTTP Request: POST http://localhost:8000/v1/chat/completions \"HTTP/1.1 200 OK\"\n",
      " 60%|██████    | 6/10 [01:10<00:52, 13.03s/it]"
     ]
    },
    {
     "name": "stdout",
     "output_type": "stream",
     "text": [
      "--------------------------------\n",
      "Processed: (1) 거푸집 동바리는 시공전 조립·콘크리트 타설·해체 계획과 안전시공 절차 등 시공계획을 수립하여야 한다.\n",
      "\n",
      "(2) 동바리를 지반에 설치하는 경우에는 침하를 방지하기 위하여 콘크리트를 타설하거나, 두께 45 mm 이상의 깔목, 깔판, 전용 받침 철물, 받침판 등을 설치하여야 한다.\n",
      "\n",
      "(3) 지반에 설치하는 동바리는 강우로 인하여 토사가 씻겨나가지 않도록 보호하여야 한다.\n",
      "\n",
      "(4) 개구부 상부에 동바리를 설치하는 경우에는 상부하중을 견딜 수 있는 결고한 받침대를 설치하여야 한다.\n",
      "\n",
      "(5) 동바리의 상하 고정 및 미끄러짐 방지 조치를 하고, 하중의 지지 상태를 유지하여야 한다.\n",
      "\n",
      "(6) 강재와 강재의 접속부 및 교차부는 볼트·클램프 등 전용철물을 사용하여 연결할 것\n",
      "\n",
      "(7) 거푸집이 곡면인 경우에는 버팀대의 부착 및 그 거푸집의 부상(浮上)을 방지하기 위한 조치를 할 것\n",
      "\n",
      "(8) 강관 파이프 서포트 동바리로 대체하여 사용하는 경우에는 다음 사항을 준수하여야 한다.\n",
      "가. 높이 2미터 이내마다 수평연결재를 2개 방향으로 설치하고 수평연결재의 변위를 방지할 것\n",
      "나. 멍에 등을 상단에 올릴 경우에는 해당 상단에 강재의 단판을 붙여 멍에 등을 고정시킬 것\n",
      "다. 높이가 3.5미터를 초과하는 경우에는 높이 2미터 이내마다 비계용 강관을 사용\n",
      "\n",
      "(9) 파이프 서포트 동바리는 다음 사항을 준수하여야 한다.\n",
      "가. 파이프 서포트를 3개 이상 이어서 사용하지 않도록 할 것\n",
      "나. 파이프 서포트를 이어서 사용하는 경우에는 4개 이상의 볼트 또는 전용철물을 사용하여 이을 것\n",
      "다. 높이가 3.5미터를 초과하는 경우에는 높이 2미터 이내마다 비계용 강관을 사용\n"
     ]
    },
    {
     "name": "stderr",
     "output_type": "stream",
     "text": [
      "INFO:httpx:HTTP Request: POST http://localhost:8000/v1/chat/completions \"HTTP/1.1 200 OK\"\n",
      " 70%|███████   | 7/10 [01:26<00:41, 13.83s/it]"
     ]
    },
    {
     "name": "stdout",
     "output_type": "stream",
     "text": [
      "--------------------------------\n",
      "Processed: 하여 수평연결재를 2개 방향으로 설치하고 수평연결재의 변위를 방지하기 위하여 비계용 클램프로 체결할 것\n",
      "\n",
      "(10) 층고가 4미터를 초과(단, 안전인증을 받은 동바리는 제외)하는 경우 및 콘크리트 타설 두께가 1.0미터를 초과하여 파이프 서포트로 설치가 어려울 경우와 파이프서포트 조립 간격이 너무 좁아 작업이 어려운 경우에는 하중을 안전하게 지지할 수 있는 안전성을 확보할 수 있는 지지구조의 동바리 구조로 변경하여야 한다.\n",
      "\n",
      "(11) 경사면 하부에 조립하는 거푸집 동바리는 다음 사항을 준수하여야 한다.\n",
      "가. 거푸집의 형상에 따른 부득이한 경우를 제외하고는 깔판ㆍ깔목 등을 2단 이상 깔아야 하도록 하며 사용하는 경우에는 깔판ㆍ깔목은 단단히 연결할 것\n",
      "나. 깔판ㆍ깔목 등을 이어서 사용하는 경우에는 깔판ㆍ깔목은 단단히 연결할 것\n",
      "다. 경사면에 설치하는 동바리는 연직도를 유지하도록 깔판ㆍ깔목 등으로 고정할 것\n",
      "라. 연직하게 설치되는 동바리는 경사면방향 분력으로 인하여 미끄러짐 및 전도가 발생할 수 있으므로 모든 동바리에 가새를 설치하는 등 안전조치할 것.\n",
      "\n",
      "5.3 콘크리트 타설작업 준수사항\n",
      "\n",
      "(1) 콘크리트 타설작업은 콘크리트 타설순서 등 타설계획을 수립하여야 한다.\n",
      "\n",
      "(2) 콘크리트 타설작업은 작업전 청소 실시하고 조립도 준수 여부를 확인하여야 한다.\n",
      "\n",
      "(3) 동절기 및 해빙기에 콘크리트 타설하는 경우에는 동바리가 동결된 지반 상부에 직접 설치되어졌는지를 확인하여 침하 등의 우려가 있는 경우 보수하여야 한다.\n",
      "\n",
      "(4) 콘크리트 타설작업 중에는 거푸집 동바리 등의 변형ㆍ변위 및 침하 유무 등을 점검하고 이상이 있으면 보수하여야 한다.\n",
      "\n",
      "(5) 콘크리트 타설작업 중에는 거푸집 동바리 등의 변형ㆍ변위 및 침하 유무 등을 감시할 수 있는 감시자를 배치하여야 한다.\n"
     ]
    },
    {
     "name": "stderr",
     "output_type": "stream",
     "text": [
      "INFO:httpx:HTTP Request: POST http://localhost:8000/v1/chat/completions \"HTTP/1.1 200 OK\"\n",
      " 80%|████████  | 8/10 [01:40<00:28, 14.04s/it]"
     ]
    },
    {
     "name": "stdout",
     "output_type": "stream",
     "text": [
      "--------------------------------\n",
      "Processed: 감시자는 콘크리트 타설작업 중에 비정상적인 처짐이나 거푸집의 이탈이나 분리, 모르타르의 누출, 이동, 경사, 접합부의 느슨해짐 등이 발생하는 경우 즉시 관리감독자에게 알려야 한다.\n",
      "\n",
      "관리감독자는 거푸집 동바리의 이상 정후를 보고 받은 경우 작업을 즉시 작업을 중지하고 근로자를 대피시킨 다음 충분히 보강 조치하여 안전을 확인한 다음 작업을 재개하여야 한다.\n",
      "\n",
      "콘크리트를 타설은 편심이 발생하지 않도록 골고루 분산하여 타설하여야 한다.\n",
      "\n",
      "콘크리트 펌프 또는 콘크리트 펌프카를 사용하는 경우에는 다음 사항을 준수하여야 한다.\n",
      "\n",
      "가. 작업 전 콘크리트 펌프용 비계 등 펌프 장비를 점검하고 이상을 발견하면 즉시 보수할 것\n",
      "나. 작업하는 근로자가 호스의 요동·선회로 인하여 벗어지는 위험을 방지하기 위하여 안전난간 설치 또는 안전대 착용 등 벗어짐 방지 등 필요한 조치를 할 것\n",
      "다. 콘크리트 펌프카의 봉을 조정하는 경우에는 주변의 전선 등에 의한 위험을 예방하기 위한 적절한 조치를 할 것\n",
      "라. 작업 중에 지반의 침하, 아웃트리거의 손상 등에 의하여 콘크리트 펌프카가 넘어질 우려가 있는 경우에는 이를 방지하기 위한 적절한 조치를 할 것\n",
      "\n",
      "5.4 동바리 해체작업 준수사항\n",
      "\n",
      "(1) 거푸집 동바리 해체작업은 작업전 해체 시기 순서 등 해체작업 안전계획을 수립하여야 한다.\n",
      "(2) 거푸집 동바리의 해체 시기는 설계도서상의 거푸집 존재기간이나 거푸집 해체 가능 강도를 준수하여 해체하여야 한다.\n",
      "(3) 해체 시기・범위 및 절차 등의 해체작업 안전계획은 해체작업 근로자에게 교육하여야 한다.\n",
      "(4) 해체 작업 구역에는 당해 작업에 종사하는 근로자 및 관련자 이외에는 출입을\n"
     ]
    },
    {
     "name": "stderr",
     "output_type": "stream",
     "text": [
      "INFO:httpx:HTTP Request: POST http://localhost:8000/v1/chat/completions \"HTTP/1.1 200 OK\"\n",
      " 90%|█████████ | 9/10 [01:52<00:13, 13.24s/it]"
     ]
    },
    {
     "name": "stdout",
     "output_type": "stream",
     "text": [
      "--------------------------------\n",
      "Processed: 금지를 위하여 출입금지 안전표지를 부착하여야 한다.\n",
      "\n",
      "(5) 비, 눈, 그 밖의 기상상태의 불안정으로 날씨가 몹시 나쁜 경우에는 그 작업을 중지하여야 한다.\n",
      "\n",
      "(6) 재료, 기구 또는 공구 등을 옮기거나 내리는 소운반 작업은 근로자로 하여금 달줄, 달포대 등을 사용하도록 하여야 한다.\n",
      "\n",
      "(7) 해체한 자재는 신속하게 반출하여 작업공간을 확보하고, 안전한 장소에 적재적재하여야 한다.\n",
      "\n",
      "(8) 해체 자재를 슬래브 위에 쌓아 놓는 경우에는 콘크리트 재령에 따른 허용하중을 추정하여 분산 적치하여야 한다.\n",
      "\n",
      "5.5 동바리 재설치 작업 준수사항\n",
      "\n",
      "(1) 동바리를 해체한 다음 하중이 재하되는 경우에는 동바리를 재설치하여야 하며, 고층 건물의 경우 최소 3개층에 걸쳐 동바리를 재설치하여야 한다.\n",
      "\n",
      "(2) 각 층에 재설치되는 동바리는 동일한 위치에 놓이게 하는 것을 원칙으로 하며, 구조 계산에 의하여 그 안전성을 확인한 경우에는 예외로 한다.\n",
      "\n",
      "(3) 동바리 재설치는 지지하는 구조물에 변형이 없도록 밀착하되, 이로 인해 재설치된 동바리에 별도의 하중이 재하되지 않도록 하여야 한다.\n",
      "\n",
      "6. 기타 안전작업 준수사항\n",
      "\n",
      "그 밖의 이 지침에서 규정하는 경우를 제외하고는 거푸집 동바리 등의 안전작업은 「가설공사표준시방서」에서 정하는 바에 따른다.\n"
     ]
    },
    {
     "name": "stderr",
     "output_type": "stream",
     "text": [
      "INFO:httpx:HTTP Request: POST http://localhost:8000/v1/chat/completions \"HTTP/1.1 200 OK\"\n",
      "100%|██████████| 10/10 [02:01<00:00, 12.16s/it]\n"
     ]
    },
    {
     "name": "stdout",
     "output_type": "stream",
     "text": [
      "--------------------------------\n",
      "Processed: 거푸집 동바리 점검기준\n",
      "\n",
      "| 점검 항목 | 중점 사항 |\n",
      "|----------|----------|\n",
      "| (가) 조립도는 작성되어 있는가? | ① 구조검토의 적정 여부  \n",
      "② 조립도 적정 여부(재료, 단면규격, 배치간격, 연결방법 등) |\n",
      "| (나) 거푸집 동바리의 재료가 변형, 부식 및 손상되지 않았는가? | ① 불량재료의 사용금지  \n",
      "② 해체, 운반방법 및 보관방법에 주의 |\n",
      "| (다) 거푸집 동바리 조립도 준수여부 및 조립에 결함사항은 없는가? | ① 침하방지, 활동방지 구조  \n",
      "② 지주의 종류별 조치사항 누락 여부  \n",
      "③ 거푸집이 곡면인 경우 버팀대 부착 등 거푸집의 부상방지 조치  \n",
      "④ 거푸집 동바리 결속의 풀림여부 |\n",
      "| (라) 조립 및 해체작업 시 관리감독자를 지정하여 작업을 지도 감독 하는가? | ① 작업방법의 결정  \n",
      "② 재료의 결함 유무  \n",
      "③ 기구 및 공구의 점검  \n",
      "④ 안전대, 안전모 등 보호구 착용 상황의 감시 |\n",
      "---End---\n",
      "Processing 철탑공사 안전보건기술지침\n"
     ]
    },
    {
     "name": "stderr",
     "output_type": "stream",
     "text": [
      "  0%|          | 0/29 [00:00<?, ?it/s]INFO:httpx:HTTP Request: POST http://localhost:8000/v1/chat/completions \"HTTP/1.1 200 OK\"\n",
      "  3%|▎         | 1/29 [00:02<01:02,  2.24s/it]"
     ]
    },
    {
     "name": "stdout",
     "output_type": "stream",
     "text": [
      "--------------------------------\n",
      "Processed: 철탑공사 안전보건기술지침\n",
      "\n",
      "2014. 11.\n",
      "\n",
      "한국산업안전보건공단\n"
     ]
    },
    {
     "name": "stderr",
     "output_type": "stream",
     "text": [
      "INFO:httpx:HTTP Request: POST http://localhost:8000/v1/chat/completions \"HTTP/1.1 200 OK\"\n",
      "  7%|▋         | 2/29 [00:13<03:19,  7.38s/it]"
     ]
    },
    {
     "name": "stdout",
     "output_type": "stream",
     "text": [
      "--------------------------------\n",
      "Processed: 안전보건기술지침의 개요\n",
      "\n",
      "○ 작성자 : 한국안전학회 최명기\n",
      "\n",
      "○ 제정 경과\n",
      "- 2014년 8월 건설안전분야 제정위원회 심의(제정)\n",
      "\n",
      "○ 관련규격 및 자료\n",
      "- 유해·위험방지계획서(765kV울진-신태백 가공송전선로 ○ ○ 건설현장등)\n",
      "- 345kV 이하 가공송전선로공사 표준 시공요령(한국전기공사협회)\n",
      "- 송전분야 시공기준(한국전력공사)\n",
      "- 765kV 송전선로 일반 시방서(한국전력공사 전력계통 건설처)\n",
      "- KEC 154kV 송전선공사(공사시방서, 특기시방서)\n",
      "- 송변전분야 위험성 Check List\n",
      "\n",
      "○ 관련법규·규칙·고시 등\n",
      "- 산업안전보건법 제23조(안전조치) ～ 제27조(기술상의 지침 및 작업환경의 표준)\n",
      "- 가공송전선로 철탑 심형기초공사 안전보건작업지침(KOSHA GUIDE C-54-2012)\n",
      "\n",
      "○ 기술지침의 적용 및 문의\n",
      "\n",
      "이 기술지침에 대한 의견 또는 문의는 한국산업안전보건공단 홈페이지 안전보건기술지침 소관 분야별 문의처 안내를 참고하시기 바랍니다.\n",
      "\n",
      "공표일자 : 2014년 11월 24일\n",
      "제 정 자 : 한국산업안전보건공단 이사장\n"
     ]
    },
    {
     "name": "stderr",
     "output_type": "stream",
     "text": [
      "INFO:httpx:HTTP Request: POST http://localhost:8000/v1/chat/completions \"HTTP/1.1 200 OK\"\n",
      " 10%|█         | 3/29 [00:21<03:22,  7.77s/it]"
     ]
    },
    {
     "name": "stdout",
     "output_type": "stream",
     "text": [
      "--------------------------------\n",
      "Processed: 1. 목 적\n",
      "\n",
      "이 지침은 가공 송전선로를 위한 철탑공사의 자재운반, 철탑 기초공사, 철탑 조립공사, 가선공사 및 이에 수반되는 기타공사 과정에서 발생하는 재해를 예방하기 위하여 필요한 작업 단계별 안전사항 및 안전시설에 관한 기술적 사항 등의 정함을 목적으로 한다.\n",
      "\n",
      "2. 적용범위\n",
      "\n",
      "이 지침은 154kV 이상 초고압 가공 송전선로를 위한 철탑공사의 철탑 기초, 철탑 조립, 가선 및 이에 수반되는 기타공사를 수행하는 작업에 적용한다.\n",
      "\n",
      "3. 용어의 정의\n",
      "\n",
      "(1) 이 지침에서 사용되는 용어의 뜻은 다음과 같다.\n",
      "\n",
      "(가) “가공 송전선로”라 함은 발전소에서 생산된 전기를 배전사업자에게 송전하는 선로로서 공중에 설치된 송전선로를 말한다.\n",
      "\n",
      "(나) “철탑”이라 함은 각철(Angle)이나 철주(지지가 1개인 강관주 포함)를 소\n"
     ]
    },
    {
     "name": "stderr",
     "output_type": "stream",
     "text": [
      "INFO:httpx:HTTP Request: POST http://localhost:8000/v1/chat/completions \"HTTP/1.1 200 OK\"\n",
      " 14%|█▍        | 4/29 [00:25<02:34,  6.18s/it]"
     ]
    },
    {
     "name": "stdout",
     "output_type": "stream",
     "text": [
      "--------------------------------\n",
      "Processed: 재료 하여 높이 세운 구조물을 말한다. 주로 송전선의 지지물로 사용되는 데, 그 형태는 선로의 송전전력·전압·지형 등에 따라 다르다.\n",
      "\n",
      "(다) “철탑 부재명칭”은 다음 <그림 2>와 같다.\n",
      "\n",
      "![철탑 부재명칭](attachment:그림_2.png)\n"
     ]
    },
    {
     "name": "stderr",
     "output_type": "stream",
     "text": [
      "INFO:httpx:HTTP Request: POST http://localhost:8000/v1/chat/completions \"HTTP/1.1 200 OK\"\n",
      " 17%|█▋        | 5/29 [00:37<03:19,  8.30s/it]"
     ]
    },
    {
     "name": "stdout",
     "output_type": "stream",
     "text": [
      "--------------------------------\n",
      "Processed: (라) “헬기장(Heliport)”이라 함은 회전익항공기(헬기)의 도착, 출발 또는 이동을 위해 사용되는 비행장 또는 구조물 위에 지정된 지역을 말한다.\n",
      "\n",
      "(마) “하강장”이라 함은 회전익항공기가 지면 또는 구조물의 표면에 접지 또는 부양할 수 있는 구역인 헬기 전용 이·착륙장을 말한다.\n",
      "\n",
      "(바) “키락(Key Lock)방식 안전로프”라 함은 안전대에 부착한 Key-Lock본체에 미리 칠탑위에 설치한 안전로프를 차례로 연결하여 이동 및 작업을 하는 방식으로, 이동 작업 간에 심리적인 실수에 의해 오 조작이 일어나더라도 항상 1개 이상의 안전로프로 근로자를 보호·지지 할 수 있는 떨어짐 재해방지용구를 말한다.\n",
      "\n",
      "(사) “각입”이라 함은 칠탑의 기초작업에서 굴착 다음공정으로 네 곳의 기초에 콘크리트를 타설하기 전에 칠탑의 앵커재 및 주각재 또는 주주재를 설치하는 공정을 말한다.\n",
      "\n",
      "(2) 그 밖의 이 지침에서 사용하는 용어의 정의는 이 지침에 특별히 규정하는 경우를 제외하고는 산업안전보건법, 같은 법 시행령, 같은 법 시행규칙, 안전보건규칙 및 고용노동부 고시에서 정하는 바에 따른다.\n",
      "\n",
      "4. 철탑 조립공법의 종류\n",
      "\n",
      "(1) 현재 국내에서 적용되고 있는 철탑 조립 작업 공법은 조립봉 공법, 이동식 크레인 공법, 철탑 크레인 공법, 헬기공법 등 4가지 방식이 주로 사용되고 있다.\n"
     ]
    },
    {
     "name": "stderr",
     "output_type": "stream",
     "text": [
      "INFO:httpx:HTTP Request: POST http://localhost:8000/v1/chat/completions \"HTTP/1.1 200 OK\"\n",
      " 21%|██        | 6/29 [00:43<02:54,  7.58s/it]"
     ]
    },
    {
     "name": "stdout",
     "output_type": "stream",
     "text": [
      "--------------------------------\n",
      "Processed: (가) 조립봉 공법\n",
      " 철탑의 주주 1각(Single Pier)에 목재 혹은 강재 조립봉을 부착하고 부재를 들어 올려 조립하는 공법으로서 비교적 소형 철탑에 적합\n",
      "\n",
      "(나) 이동식 크레인 공법\n",
      " 이동 가능한 트럭 크레인, 크롤러 크레인을 사용하여 철탑을 조립하는 공법\n",
      "\n",
      "(다) 철탑 크레인 공법\n",
      " 철탑 중심부에 철주를 구축하고 그 꼭대기에 360° 선회가 가능한 철탑크레인을 장착하여 철탑을 조립하는 공법\n",
      "\n",
      "(라) 헬기 조립 공법\n",
      " 지상 조립한 부재를 헬기를 이용해서 조립하는 공법\n"
     ]
    },
    {
     "name": "stderr",
     "output_type": "stream",
     "text": [
      "INFO:httpx:HTTP Request: POST http://localhost:8000/v1/chat/completions \"HTTP/1.1 200 OK\"\n",
      " 24%|██▍       | 7/29 [00:59<03:45, 10.23s/it]"
     ]
    },
    {
     "name": "stdout",
     "output_type": "stream",
     "text": [
      "--------------------------------\n",
      "Processed: (2) 가공 송전선로공사의 종류와 내용은 일반적으로 다음과 같다.\n",
      "\n",
      "(가) 철탑 기초 공사\n",
      "   ① 역T형 기초\n",
      "   ② 심형 기초\n",
      "   ③ 곽형 기초\n",
      "   ④ 우물통 기초\n",
      "   ⑤ Rock anchor기초\n",
      "\n",
      "(나) 철탑조립 공사\n",
      "   ① 조립 공통공사\n",
      "      · 조립 준비 작업, 볼트채움 및 조임작업, 철탑 도장 작업, 항공 장애등 작업, 마무리 작업\n",
      "   ② 조립봉 공법\n",
      "      · 시공계획 작성, 조립봉 설치작업, 철탑 조립작업, 암 조립작업, 안전장치 작업, 조립봉 철거작업, 대변재, 대각재 부착작업, 부속설비 작업\n",
      "   ③ 이동식 크레인 공법\n",
      "      · 시공계획 작성, 이동식크레인 설치작업, 철탑 조립작업, 암 조립작업, 안전장치 작업\n",
      "   ④ 철탑 크레인 공법\n",
      "      · 시공계획 작성, 철탑 크레인 설치작업, 철탑 조립작업, 암 조립작업, 철탑 크레인 해체작업, 대각재 부착작업, 부속설비 작업\n",
      "   ⑤ 헬기 공법\n",
      "      · 시공계획 작성, 헬기의 철탑 조립작업\n",
      "\n",
      "(다) 전선설치공사(가선공사)\n",
      "   ① 전선설치 공통공사\n",
      "      · 드럼장 및 엔진장 설치작업, 방호 발받침 작업, 철탑 보강작업, 환자의 설치작업, 통신설비의 설치작업, 감시・유도방지대책 작업\n",
      "   ② 전선 폐기작업(연선작업)\n",
      "      · 왜이어 폐기 작업, 전력선 폐기 작업, 조금자 공법, 가공지선・전력선의 가접속 작업, 가공지선・전력선의 본접속 작업, 조인트 프로텍터의 부착 작업\n",
      "   ③ 전선 당기기작업(긴선작업)\n",
      "      · 애자장치 설치 작업, 이도자 부착 및 전선처짐 측정작업, 가공지선의 당기 작업, 전력선의 당기기 작업, 스페이서 및 스페이서댐퍼 설치작업,\n"
     ]
    },
    {
     "name": "stderr",
     "output_type": "stream",
     "text": [
      "INFO:httpx:HTTP Request: POST http://localhost:8000/v1/chat/completions \"HTTP/1.1 200 OK\"\n",
      " 28%|██▊       | 8/29 [01:05<03:09,  9.01s/it]"
     ]
    },
    {
     "name": "stdout",
     "output_type": "stream",
     "text": [
      "--------------------------------\n",
      "Processed: 5. 철탑 시공순서\n",
      "\n",
      "점퍼(Jumper)장치 부착작업, 부속품 부착작업\n",
      "\n",
      "④ 프리패브(Prefab) 가선공법\n",
      "· 전선설치 준비작업, 전선 펴기 작업, 전선 당기기 작업\n",
      "\n",
      " 철탑 시공순서\n",
      "\n",
      "(1) 철탑기초공사\n",
      "(가) 기초공사를 위한 진입로 공사\n",
      "(나) 철탑 부지조성공사\n",
      "(다) 철탑 기초 굴착공사(각입작업 포함)\n",
      "(라) 철탑 기초 콘크리트 타설\n",
      "\n",
      "<그림 8> 철탑공사 시공순서도\n",
      "\n",
      "<그림 9> 철탑 진입로 공사\n",
      "<그림 10> 기초 콘크리트 타설\n"
     ]
    },
    {
     "name": "stderr",
     "output_type": "stream",
     "text": [
      "INFO:httpx:HTTP Request: POST http://localhost:8000/v1/chat/completions \"HTTP/1.1 200 OK\"\n",
      " 31%|███       | 9/29 [01:10<02:35,  7.76s/it]"
     ]
    },
    {
     "name": "stdout",
     "output_type": "stream",
     "text": [
      "--------------------------------\n",
      "Processed: (2) 철탑 조립 공사\n",
      "\n",
      "(가) 바디(Body) 및 커먼(Common) 조립\n",
      "(나) 휴게소, 사다리통로, 통로 조립\n",
      "(다) 암 조립\n",
      "(라) 내부 보조재 부착\n",
      "\n",
      "<그림 11> 주주재와 사재 지상조립 및 암 지상조림\n",
      "\n",
      "<그림 12> 전력선암 조립 및 지선암 조립\n",
      "\n",
      "<그림 13> 철탑 상부조립\n",
      "\n",
      "<그림 14> 중간암조립\n"
     ]
    },
    {
     "name": "stderr",
     "output_type": "stream",
     "text": [
      "INFO:httpx:HTTP Request: POST http://localhost:8000/v1/chat/completions \"HTTP/1.1 200 OK\"\n",
      " 34%|███▍      | 10/29 [01:21<02:47,  8.83s/it]"
     ]
    },
    {
     "name": "stdout",
     "output_type": "stream",
     "text": [
      "--------------------------------\n",
      "Processed: KOSHA GUIDE\n",
      "C - 98 - 2014\n",
      "\n",
      "(3) 전선설치공사(가선공사)\n",
      "\n",
      "(4) 전선긴선공사(전선 당기기공사)\n",
      "\n",
      "6. 철탑 기초공사 작업안전\n",
      "\n",
      "(1) 철탑 기초공사를 위한 산악지형의 진입로 공사 시에는 다음과 같은 안전조치사항을 준수하여야 한다.\n",
      "(가) 차량계 건설기계를 사용할 경우 해당 기계의 넘어짐, 지반 무너짐 등에 관한 사전조사를 실시한 후 보강조치를 실시하여야 한다.\n",
      "(나) 가설도로는 배수를 양호하게 하여 노면의 유실 등을 방지하여야 한다.\n",
      "(다) 성토면은 충분한 다짐을 통해 비탈면 무너짐 요인을 제거하고, 절토면은 고르기를 하여 낙석 및 우수로 인한 법면유실 방지조치를 강구하여야 한다.\n",
      "(라) 차량계 건설기계를 사용할 때는 기계가 넘어지거나 굴러 떨어질 위험에 대비하여 도로 폭을 넓게 유지하는 등 필요한 조치를 취하여야 한다.\n",
      "(마) 자재의 임시 적치 시 또는 공사차량 주차 시 통행로를 확보하여야 한다.\n",
      "(바) 굴곡이 심하고 차량출입이 빈번한 장소에는 반사경을 설치하는 등 안전조치를 하여야 한다.\n",
      "(사) 공사 중 주의를 환기시키기 위하여 산업안전보건표지를 필요한 장소에 설치하여야 한다.\n",
      "\n",
      "(2) 철탑 부지조성 공사 시에는 다음과 같은 안전조치사항을 준수하여야 한다.\n"
     ]
    },
    {
     "name": "stderr",
     "output_type": "stream",
     "text": [
      "INFO:httpx:HTTP Request: POST http://localhost:8000/v1/chat/completions \"HTTP/1.1 200 OK\"\n",
      " 38%|███▊      | 11/29 [01:35<03:08, 10.47s/it]"
     ]
    },
    {
     "name": "stdout",
     "output_type": "stream",
     "text": [
      "--------------------------------\n",
      "Processed: (가) 나무를 넘어뜨릴 때에는 안전을 확보하고 충분히 안정된 자세로 작업하며 주위에 사람이 없는 것을 확인 후 시행하여야 한다.\n",
      "\n",
      "(나) 경사면은 배수로 등을 설치하여 사면붕괴와 법면유실을 예방하고 성토면은 다짐을 철저히 하여 침하를 방지하여야 한다.\n",
      "\n",
      "(다) 작업구획 표시물은 운전원의 착각으로 인한 차량 전복을 예방하기 위하여 철탑부지 경사면 안쪽에 설치하여야 한다.\n",
      "\n",
      "(3) 철탑 기초 굴착공사 시에는 다음과 같은 안전조치사항을 준수하여야 한다.\n",
      "\n",
      "(가) 굴착면 형성 시 안정된 경사면을 유지하도록 굴착하고, 강우에 의해 경사면이 유실되지 않도록 적절한 방호조치를 하여야 한다.\n",
      "\n",
      "(나) 굴착 내부로 출입 시에는 안전계단식 사다리를 굴착 저면까지 설치토록 하여야 하고, 출입하는 근로자는 개인보호구를 착용하여야 한다.\n",
      "\n",
      "(다) 임시로 쌓아둔 굴착토에 시트(천막 등) 등을 덮어 빗물에 의한 토사 유출을 방지하여야 한다.\n",
      "\n",
      "(라) 굴착면 상부에는 적절한 유실방지용 홀 마대를 봉아 굴착공 안으로 토사가 유입되는 것을 방지토록 하여야 한다.\n",
      "\n",
      "(마) 용수가 여러 장소에서 나오거나, 용수량이 많은 경우 감리 등 전문가와 협의하거나 자문을 받아 필요한 경우 굴착공법을 변경하는 등 안전한 공법으로 굴착하여야 한다.\n",
      "\n",
      "(바) 철근을 높게 설치할 경우 무게의 중심이 높아지므로 약간의 편하중에 의해서도 쉽게 넘어지므로 수직철근은 가능한 짧게 조립하여야 한다. 이때 결속은 매 이음 개소마다 철저히 하고, 조립되는 철근은 장척이므로 강관파이프 등의 버팀대나 와이어로프 등으로 넘어지지 않도록 안전하게 고정을 실시하여야 한다.\n"
     ]
    },
    {
     "name": "stderr",
     "output_type": "stream",
     "text": [
      "INFO:httpx:HTTP Request: POST http://localhost:8000/v1/chat/completions \"HTTP/1.1 200 OK\"\n",
      " 41%|████▏     | 12/29 [01:46<02:56, 10.39s/it]"
     ]
    },
    {
     "name": "stdout",
     "output_type": "stream",
     "text": [
      "--------------------------------\n",
      "Processed: (사) 각업 작업 전 설계도서의 내용을 점검하고, 다음 순서에 따라 설치하여야 한다.\n",
      "① 기초 중심점 확인\n",
      "② 중심점을 기준하여 각업재의 기초판(Setting plate) 설치\n",
      "③ 각업재의 기초판 상부에 주각재의 위치 표시\n",
      "④ 각업재 설치\n",
      "⑤ 고정용 지지대 설치\n",
      "(아) 각업 작업 시에는 굴착공 내로 출입을 금지토록 하여야 하고, 중장비 운전 중에는 유도자를 배치하여 근로자의 안전을 확보토록 하여야 한다.\n",
      "(자) 각업 검측 시에는 작업발판을 설치하고, 안전로프를 사용하여 근로자의 떨어짐을 방지하여야 한다.\n",
      "(차) 경사면에 철탑이 설치되어 기초콘크리트의 문합깊이가 다를 경우 반드시 전도에 대한 안전성 검토를 한다.\n",
      "(카) 굴착 공사 시 압력이 노출되더라도 기초 콘크리트의 저면 지반에 단차가 발생하지 않도록 한다.\n",
      "\n",
      "(4) 철탑 기초 콘크리트 타설 시에는 다음과 같은 안전조치사항을 준수하여야 한다.\n",
      "(가) 레미콘으로 철탑 기초를 타설할 경우에는 유도자를 배치하여 차량안전을 확보하여야 한다.\n",
      "(나) 타설시 근로자가 철근사이로 실족하는 것을 방지하기 위한 작업발판을 설치하고 작업토록 하여야 한다.\n"
     ]
    },
    {
     "name": "stderr",
     "output_type": "stream",
     "text": [
      "INFO:httpx:HTTP Request: POST http://localhost:8000/v1/chat/completions \"HTTP/1.1 200 OK\"\n",
      " 45%|████▍     | 13/29 [01:57<02:52, 10.80s/it]"
     ]
    },
    {
     "name": "stdout",
     "output_type": "stream",
     "text": [
      "--------------------------------\n",
      "Processed: (다) 기타 철탑 기초 콘크리트 타설 등에 대한 내용은 콘크리트공사의 안전보건작업 지침(KOSHA GUIDE C-43-2012)에 따른다.\n",
      "\n",
      "<그림 18> 철탑 기초콘크리트 타설 전경\n",
      "\n",
      "(5) 철탑기초 설치장소의 지반상태 확인하고 지내력을 검토하며, 지내력 미달 시에는 감리 등 전문가와 협의하거나 자문을 받아 필요한 경우 기초보강을 하여야 한다.\n",
      "\n",
      "(6) 기타 심형기초 굴착 시 안전작업 사항 등에 대한 내용은 가공송전선로 철탑 심형기초공사 안전보건작업지침(KOSHA GUIDE C-54-2012)에 따른다.\n",
      "\n",
      "7. 철탑 조립 공사 작업안전\n",
      "\n",
      "(1) 철탑을 조립하기 전에 관리감독자는 철탑 기초의 되메우기 상태 및 작업 가능여부를 확인한 후 작업에 착수토록 하여야 한다. 또한 공사착수에 앞서 작업공정에 대한 설명과 안전확보 및 안전 유의사항을 교육한 후 작업에 임하도록 하여야 한다.\n",
      "\n",
      "(2) 철탑 조립 시 볼트, 너트 등의 낙하물에 의한 사고를 방지하기 위하여 승탑 근로자 뿐 아니라 지상 근로자도 반드시 안전모, 안전화 등 개인보호구를 착용토록 하여야 한다.\n",
      "\n",
      "(3) 작업장 출입구에는 위험요소에 대한 안내간판, 안전표지판 등을 미리 설치하여 근로자 및 일반인에게 주의를 환기시키도록 하여야 한다.\n"
     ]
    },
    {
     "name": "stderr",
     "output_type": "stream",
     "text": [
      "INFO:httpx:HTTP Request: POST http://localhost:8000/v1/chat/completions \"HTTP/1.1 200 OK\"\n",
      " 48%|████▊     | 14/29 [02:16<03:15, 13.01s/it]"
     ]
    },
    {
     "name": "stdout",
     "output_type": "stream",
     "text": [
      "--------------------------------\n",
      "Processed: (4) 조립용 장비, 공구 및 로프 등은 충분한 강도를 갖는 것을 사용하여야 하며 사전에 철저히 점검하여 안전사고 예방에 만전을 기하여야 한다.\n",
      "(5) 공사 중 강풍, 폭우 등과 같은 악천우 시에는 작업을 중지하여야 하며, 특히 강풍 시에는 높은 곳에 있는 부재나 공구류가 떨어지지 않도록 조치하여야 한다. 이때 작업을 중지해야 하는 경우는 다음 각목의 경우를 말한다.\n",
      "(가) 풍 속 : 초당 10미터 이상\n",
      "(나) 강우량 : 1시간당 1밀리미터 이상\n",
      "(다) 강설량 : 1시간당 1센티미터 이상\n",
      "(6) 자재·기구나 근로자가 철탑 구조물, 발판 사다리 또는 기중기, 데릭 등의 일부분을 이용하지 않으면 안됨 때는 이동 가능성 여부 및 그 강도를 확인 후 시행하여야 한다.\n",
      "(가) 발판은 그 위에 놓일 중량의 4배를 지지할 수 있어야 한다.\n",
      "(나) 금속성 작업발판·사다리 등 안전지지물은 안전거리 및 활선작업거리를 검토하여 위험하지 않다고 판단할 경우에는 제한적으로 사용할 수 있으며 안전지지물의 넘어짐 등으로 전력시설물에 피해를 주지 않도록 조치하여야 한다.\n",
      "(7) 산림지역 및 위험물 취급장소 내에서는 흡연 및 모닥불을 피우지 않도록 하여야 한다.\n",
      "(8) 높은 곳에서 작업할 때 알코올 중독증 등 심신이 불안정한 자는 작업에 종사시키지 말아야 하며, 고혈압, 저혈압, 당뇨병 증세가 없는 자는 증세가 가볍고 고소작업에 지장이 없는 것으로 판단될 경우에 한하여 작업에 종사시켜야 한다.\n",
      "(9) 철탑 크레인이나 이동식 크레인 등을 사용하여 철탑을 조립할 경우에는 아래사항을 준수하여야 한다.\n",
      "(가) 크레인 설치 장소가 충분한 지지력을 갖도록 바닥면을 다짐하고 성토면은 안전한 경사각을 유지하여야 한다.\n"
     ]
    },
    {
     "name": "stderr",
     "output_type": "stream",
     "text": [
      "INFO:httpx:HTTP Request: POST http://localhost:8000/v1/chat/completions \"HTTP/1.1 200 OK\"\n",
      " 52%|█████▏    | 15/29 [02:31<03:13, 13.81s/it]"
     ]
    },
    {
     "name": "stdout",
     "output_type": "stream",
     "text": [
      "--------------------------------\n",
      "Processed: 선도 장소나 지반이 불량한 경우에는 침목, 복공판, 철판 등으로 보강하여 지반 무너짐이 없도록 안전하게 조성해야 한다.\n",
      "\n",
      "(나) 부재 등을 들어 올리는 장소의 지상 근로자는 직하로부터 대피하여 떨어짐 등의 재해를 방지하도록 하여야 한다.\n",
      "\n",
      "(라) 공구 등을 철탑 상부로 운반 시에는 공구 운반함을 사용토록 하여야 한다.\n",
      "\n",
      "(마) 크레인 운전시 경력하중을 초과하는 중량물을 운반해서는 안 되며, 정격 경사각 범위 내에서 운전하도록 하여야 한다.\n",
      "\n",
      "(바) 운전자는 정해진 신호에 따라 행동하여야 하고, 중량물을 매단채로 운전 위치를 이탈하여서는 안 된다.\n",
      "\n",
      "(사) 상부재의 집 결기는 반드시 슬링 등을 적절한 기구를 사용하여 결어야 하고, 작업 시작 전에 슬링 등의 이상무상 상태를 점검하여야 한다.\n",
      "\n",
      "(아) 철재류 등은 지상으로 끌거나 던지는 경우가 없도록 운반하고, 훅(Hook) 및 운반기구에 의한 손상이 발생하지 않도록 적절한 방호조치를 하여야 한다.\n",
      "\n",
      "(자) 기상악화 등으로 철탑 조립작업 중지 시에는 지브는 철탑 주주재 등의 사이에 가능한 한 높이 놓고, 훅은 최고 위치에 감아놓아야 한다.\n",
      "\n",
      "(10) 철탑 조립작업 중 근로자 떨어짐 방지와 공구, 부재 등의 떨어짐으로 인한 재해를 방지하기 위하여 제 1 수평재 완성 후에는 안전망을 설치하여야 한다. 안전망망의 설치기준 및 관리기준은 추락망망 설치지침(KOSHA GUIDE C-31-2011)에 따른다.\n"
     ]
    },
    {
     "name": "stderr",
     "output_type": "stream",
     "text": [
      "INFO:httpx:HTTP Request: POST http://localhost:8000/v1/chat/completions \"HTTP/1.1 200 OK\"\n",
      " 55%|█████▌    | 16/29 [02:46<03:04, 14.20s/it]"
     ]
    },
    {
     "name": "stdout",
     "output_type": "stream",
     "text": [
      "--------------------------------\n",
      "Processed: (11) 철탑 승탑 시에는 떨어짐 예방을 위하여 다음과 같은 안전조치사항을 준수하여야 한다.\n",
      "\n",
      "(가) 근로자는 승탑 전 작업내용 및 작업위치를 숙지하고 작업장 주변상황을 조사 확인하여야 한다.\n",
      "\n",
      "(나) 승탑 근로자는 안전모, 안전대 등 개인보호구를 가지고 있어야 하며, 안전한 상태에서 이를 사용하여야 한다.\n",
      "\n",
      "(다) 승탑 작업 시는 반드시 안전대를 사용하여야 한다.\n",
      "\n",
      "(라) 승탑하는 철탑에 활선이 있을 때에는 전압이 얼마이며 어느 회선이 활선인가를 완전히 파악하기 전까지는 승탑하여서는 안 된다.\n",
      "\n",
      "(마) 철탑의 부재에 빙설이 쌓여 있으면 이를 제거한 후 승탑하여야 한다.\n",
      "\n",
      "(바) 다른 사람이 승탑하고 있는 바로 위나 바로 밑에서는 동시에 승강하지 말아야 한다.\n",
      "\n",
      "(사) 철탑 승강 시 안전대 로프는 지지물에 맞는 적당한 길이의 것을 사용하여야 한다.\n",
      "\n",
      "(아) 작업성격상 부득이 승탑작업과 지상 작업을 동시에 시행할 때는 하부에 방호선반을 설치하거나 출입금지구역을 설정하는 등 조치를 하고 긴밀한 연락 하에 실시하되 작업지시는 단계적으로 명확히 하여야 한다.\n",
      "\n",
      "(자) 철탑을 오르기 전에 안전화에 진흙, 기타 미끄러운 물질이 묻어있지 않은 가를 살펴보아야 한다.\n",
      "\n",
      "(12) 철탑 조립 시에는 떨어짐에 주의하여야 하고 다음과 같은 안전장구를 사용하여 근로자의 안전을 확보하여야 한다.\n",
      "\n",
      "(가) 키락\n"
     ]
    },
    {
     "name": "stderr",
     "output_type": "stream",
     "text": [
      "INFO:httpx:HTTP Request: POST http://localhost:8000/v1/chat/completions \"HTTP/1.1 200 OK\"\n",
      " 59%|█████▊    | 17/29 [03:03<02:58, 14.88s/it]"
     ]
    },
    {
     "name": "stdout",
     "output_type": "stream",
     "text": [
      "--------------------------------\n",
      "Processed: ① 키락 본체는 안전대에 장착하고, 안전로프의 락 레버(Lock Lever)와 연결하여야 한다.\n",
      "② 키락 방식에서는 이동과 작업에 앞서 이동경로와 작업장소 두부근에 각종 로프를 설치하지 않은 상태에서는 이동과 작업을 할 수 없으므로 각종 로프를용도에 맞게 미리 설치하여야 한다.\n",
      "③ 근로자는 키락이 확실하게 잠겨있는지 확인하여야 한다.\n",
      "\n",
      "(나) 수직로프\n",
      "- 수직로프는 주주재의 꼭대기와 지면 간에 미리 설치하여 근로자가 주주재를 승강할 경우 사용하도록 하여야 한다.\n",
      "\n",
      "![수직로프 설치](image1)  ![수직로프를 이용한 이동](image2)  \n",
      "<그림 21> 수직로프\n",
      "\n",
      "(다) 승강안전기\n",
      "① 근로자는 주주재로 승강할 경우 승강안전기를 수직로프에 부착한 후 안전대의 키락 본체에 연결하고 주주재에 승강하도록 하여야 한다.\n",
      "② 승강안전기는 수직로프에 부착하면 자동으로 잠기므로 승강안전기를 억지로 분리하려고 해서는 안 되며, 수직로프에서 분리할 경우가 발생하면 승강안전기 열쇠로 해제하도록 하여야 한다.\n",
      "\n",
      "(라) 수평로프\n",
      "① 수평로프는 철탑 부재간 등에 미리 설치하여야 하며, 근로자는 수평재 위를 이동할 경우 수평로프를 이용하여야 한다.\n",
      "② 2줄걸이 안전대를 사용하여야 하고, 죄임줄은 2줄 걸이로 사용해서 동시에 풀리지 않도록 하여야 한다.\n",
      "\n",
      "(마) 수평 이동 로프\n",
      "① 수평 이동 로프는 수평로프에 미리 설치하여야 한다.\n",
      "② 근로자는 수평이동 시 반드시 키락 본체와 연결하여 사용하여야 한다.\n"
     ]
    },
    {
     "name": "stderr",
     "output_type": "stream",
     "text": [
      "INFO:httpx:HTTP Request: POST http://localhost:8000/v1/chat/completions \"HTTP/1.1 200 OK\"\n",
      " 62%|██████▏   | 18/29 [03:08<02:11, 11.96s/it]"
     ]
    },
    {
     "name": "stdout",
     "output_type": "stream",
     "text": [
      "--------------------------------\n",
      "Processed: (바) 철탑 승강기\n",
      "① 철탑 승강기는 수시로 점검하여 안전하게 운행될 수 있도록 하여야 한다.\n",
      "② 승강 중 동력을 상실하였을 경우에 아래로 떨어지지 않는 구조여야 한다.\n",
      "(사) 철탑 조립 시에는 작업장소에 따른 적절한 떨어짐 방지장치를 아래 <그림 23, 24>과 같이 설치하여야 한다.\n"
     ]
    },
    {
     "name": "stderr",
     "output_type": "stream",
     "text": [
      "INFO:httpx:HTTP Request: POST http://localhost:8000/v1/chat/completions \"HTTP/1.1 200 OK\"\n",
      " 66%|██████▌   | 19/29 [03:10<01:31,  9.12s/it]"
     ]
    },
    {
     "name": "stdout",
     "output_type": "stream",
     "text": [
      "--------------------------------\n",
      "Processed: <그림 24> 철탑의 떨어짐 방지장치 설치 예\n"
     ]
    },
    {
     "name": "stderr",
     "output_type": "stream",
     "text": [
      "INFO:httpx:HTTP Request: POST http://localhost:8000/v1/chat/completions \"HTTP/1.1 200 OK\"\n",
      " 69%|██████▉   | 20/29 [03:32<01:56, 13.00s/it]"
     ]
    },
    {
     "name": "stdout",
     "output_type": "stream",
     "text": [
      "--------------------------------\n",
      "Processed: (13) 헬기 운반에 앞서 조사비행을 실시하여 사전에 비행경로 및 타공작물의 횡단개소 등을 확인하여야 한다.\n",
      "\n",
      "(14) 헬기 운반 및 조립 작업 시에는 다음과 같은 안전조치사항을 준수하여야 한다.\n",
      "\n",
      "(가) 다음의 기상조건 시에는 운반을 하지 않는 것을 원칙으로 하여야 한다.\n",
      "   ① 순간풍속이 초당 10미터를 초과하는 경우\n",
      "   ② 시계거리 1,000미터 이내인 경우\n",
      "   ③ 강우량 : 1시간당 1밀리미터 이상\n",
      "   ④ 강설량 : 1시간당 1센티미터 이상\n",
      "(나) 비행이 부적합한 경우는 아래의 기준에 따르되, 비행여부는 기장이 결정하여야 한다.\n",
      "   ① 강풍이 불거나 풍선통인 경우\n",
      "   ② 난기류의 발생이 심한 경우\n",
      "   ③ 기상의 급변이 예측되는 경우\n",
      "   ④ 엔진 등 기체의 상태가 이상이 있는 경우\n",
      "   ⑤ 화물의 모양이나 매달기 공구 등이 불량한 경우\n",
      "   ⑥ 운반중량을 초과한 경우\n",
      "   ⑦ 기타 기장이 비행 부적합하다고 판단되는 경우\n",
      "(다) 헬기장, 하강장 및 그 주변에 헬기의 풍압으로 날아갈 우려가 있는 물건은 제거하거나 단단히 묶어 넘어지지 않도록 하고 그대로 방치하지 않도록 하여야 한다.\n",
      "(라) 헬기장, 하강장 및 그 주변에서는 일절 화기를 사용하여서는 안된다.\n",
      "(마) 헬기의 진입 및 진출방향 바로 아래에서 작업을 하거나 기자재를 쌓아두지 않도록 하여야 한다.\n",
      "(바) 지상 근로자는 경사지에서 헬기의 주회전 날개, 뒷부분 회전날개에 접촉하지 않도록 주의하여야 한다.\n",
      "(사) 화물의 운반을 위한 연락방법은 아래와 같은 방법을 준수하여야 한다.\n",
      "   ① 헬기장과 헬기간 : 항공무전기 또는 휴대용 무전기\n",
      "   ② 헬기장과 하강장간 : 휴대용 무전기 또는 유선전화기\n",
      "   ③ 하강장과 헬기간 : 수신호 또는 휴대용 무전문\n",
      "(아) 하강장과 헬기간의 수신호는 다음과 같은 요령에 의하여야 한다.\n",
      "   ① 신호자는 하강장에 진입하는 헬기의 기장 또는 헬기상 유도자가 확실하게 보이는 장소에서 신호를 하여야 한다.\n"
     ]
    },
    {
     "name": "stderr",
     "output_type": "stream",
     "text": [
      "INFO:httpx:HTTP Request: POST http://localhost:8000/v1/chat/completions \"HTTP/1.1 200 OK\"\n",
      " 72%|███████▏  | 21/29 [03:50<01:55, 14.42s/it]"
     ]
    },
    {
     "name": "stdout",
     "output_type": "stream",
     "text": [
      "--------------------------------\n",
      "Processed: ② 수신호는 헬기에서 확인할 수 있도록 확실한 동작을 취하여야 한다.\n",
      "\n",
      "③ 신호자는 보안경(방진용)을 착용하여야 한다.\n",
      "\n",
      "(자) 헬기로 부재를 운반하는 작업 시에는 아래 사항을 준수하여야 한다.\n",
      "\n",
      "① 상부재를 헬기로 운반 시 장착물을 반드시 2점지지로, 기타 부재는 버켓이나 포대 등에 넣어 운반하도록 하여 탈선이나 떨어짐에 의한 재해를 방지하여야 한다.\n",
      "\n",
      "② 헬기는 기중에 맞는 중량을 운반해야 하며, 장착물의 중심점이 헬기의 인하 직하에 오도록 하여야 한다.\n",
      "\n",
      "③ 헬기장 주변에는 일반인의 출입을 금하는 표지판을 설치하고, 이·착륙 시 먼지가 발생할 우려가 있는 장소는 살수 또는 방진대책을 강구하여야 한다.\n",
      "\n",
      "④ 근로자는 헬기의 바람에 지장을 받지 않도록 복장을 단정히 하고 안전모와 방진안경을 착용하여 비산된 먼지가 눈에 들어가지 않도록 하여야 한다.\n",
      "\n",
      "⑤ 작업책임자는 헬기를 이용하여 작업을 하기 전에 비행경로, 작업방법, 안전사항 등을 근로자에게 교육하여야 한다.\n",
      "\n",
      "<그림 25> 헬기 이용 자재운반\n",
      "\n",
      "(차) 헬기장은 설치기준에 적합하도록 필요한 설비를 배치하고 안전대책을 수립하여야 한다. 헬기장에 필요한 설비는 아래와 같다.\n",
      "\n",
      "① 헬기 계류장, 이·착륙대\n",
      "② 자재하치장 및 화물달기장\n",
      "③ 연료저장소, 사무실, 통신설비, 화장실, 창고, 주차장\n",
      "④ 풍향·풍속계, 살수설비\n",
      "\n",
      "(카) 하강장의 구비조건은 아래의 기준을 준수하여야 한다.\n",
      "\n",
      "① 하강장은 헬기장의 설치기준에 준하여 설치하며, 선로 밑을 피한 장소로\n"
     ]
    },
    {
     "name": "stderr",
     "output_type": "stream",
     "text": [
      "INFO:httpx:HTTP Request: POST http://localhost:8000/v1/chat/completions \"HTTP/1.1 200 OK\"\n",
      " 76%|███████▌  | 22/29 [04:09<01:49, 15.71s/it]"
     ]
    },
    {
     "name": "stdout",
     "output_type": "stream",
     "text": [
      "--------------------------------\n",
      "Processed: 하여야 한다.\n",
      "\n",
      "② 반입하는 기자재에 적합한 넓이의 평탄한 장소로 주위가 열려 있는 장소로 하여야 한다.\n",
      "③ 온전에 장치가 되는 수목은 벌채를 하여야 한다.\n",
      "④ 거푸집, 시트, 도포용 비닐 등의 풍압으로 낡아가기 쉬운 물건은 정리 및 결속하여 이를 방지하여야 한다.\n",
      "⑤ 하강장은 철탑 부근 또는 철탑 부지 내부에 설치하여야 한다.\n",
      "⑥ 하강장에 필요한 설비로서는 하강장이 경사지인 경우에는 가설작업대와 통신설비, 풍향 풍속계를 구비하여야 한다.\n",
      "\n",
      "(15) 철탑 조립시 낙하물 우려가 있는 장소에는 접근금지표지 및 구획을 하여야 하고, 작업 종료 후에는 반드시 작업장 부지 내에 일반인이 출입하지 않도록 조치를 하여야 한다.\n",
      "\n",
      "8. 전선 설치공사 작업안전\n",
      "\n",
      "(1) 전선 설치를 위한 준비작업 시에는 다음과 같은 안전조치사항을 준수하여야 한다.\n",
      "\n",
      "(가) 아래와 같은 중요작업은 숙련공을 배치하여 작업하도록 하여야 한다.\n",
      "   ① 드럼장 전선설치 차의 조작\n",
      "   ② 연선작업(전선 펴기 작업)\n",
      "   ③ 긴선작업(전선 당기기 작업)\n",
      "   ④ 전선설치 엔진의 운전\n",
      "   ⑤ 황선접근작업 및 기타 필요개소 등\n",
      "(나) 윈치 등 동력기계를 사용할 경우 설치장소, 조립도, 용량 등을 고려한 작업계획서를 작성하여야 한다.\n",
      "(다) 엔진장, 드럼장에는 주위의 낙뢰 등을 유도하기 위하여 38㎟이상 동연선을 사용하여 접지를 하도록 한다.\n",
      "(라) 엔진장 설치 시에는 충분한 깊이에 근가 목을 매설 후 충분한 허를 건널 수 있는 지의 여부와 주변지반의 이상 유무를 확인토록 하여야 한다.\n",
      "(마) 발받침, 활차개소, 수목접촉 우려개소, 인상・인하 수평각이 큰 개소 등에는 관리감독자를 배치하여야 한다.\n"
     ]
    },
    {
     "name": "stderr",
     "output_type": "stream",
     "text": [
      "INFO:httpx:HTTP Request: POST http://localhost:8000/v1/chat/completions \"HTTP/1.1 200 OK\"\n",
      " 79%|███████▉  | 23/29 [04:26<01:37, 16.23s/it]"
     ]
    },
    {
     "name": "stdout",
     "output_type": "stream",
     "text": [
      "--------------------------------\n",
      "Processed: (바) 횡단공작물이 전력선인 경우 활선작업, 정전작업을 구분하여 관계기관과 충분한 협의를 하고 연락체계를 수립하여야 한다.\n",
      "\n",
      "(사) 지장철탑 이설, 철탑의 지지물인 애자교체, 송전선의 거리조정, 송전선의 파손교체 등과 같은 휴전작업장소 발생 시에는 휴전관계자 회의를 작업 전에 실시하며 안전사항을 점검하여야 한다.\n",
      "\n",
      "(그림 26) 드럼장 용지조성 및 연선차 앵커, 고정와이어 설치\n",
      "\n",
      "(2) 전선설치 작업 시에는 아래와 같은 일반적인 공통 안전조치사항을 준수하여야 한다.\n",
      "\n",
      "(가) 근로자는 장력이 걸린 전선이나 와이어가 만든 각도 밖에서 작업하여야 한다.\n",
      "\n",
      "(나) 전선설치작업이 높은 곳에서 이루어질 때는 관리감독자를 임명하여 감시토록 하여야 한다.\n",
      "\n",
      "(다) 매신저 와이어를 사용하여 가선할 때는 충분한 강도의 와이어로프를 사용하고 전선이 늘어져 지면에 닿지 않도록 조치하여야 한다.\n",
      "\n",
      "(라) 지지물 위에서 작업원이 애자련 끝으로 나갈 경우나 이동할 때는 반드시 안전대를 사용하여야 한다.\n",
      "\n",
      "(마) 전선을 설치하거나 철거시에는 한쪽 암의 전선만 설치 또는 철거하여 불평형 장력으로 인하여 철탑이 회전·굴절, 넘어지지 않도록 하여야 한다.\n",
      "\n",
      "(바) 전선을 설치하거나 철거시 다른 모든 설비는 접지하여야 하고 접지가 되지 않았으면 충전된 도체로 취급하여야 한다.\n",
      "\n",
      "(사) 설치되거나 철거되는 전선은 항상 감시 하에 두어 전선설치장력의 급격한 변화를 방지하여야 하며, 장력변화로 인하여 인접설비나 근로자가 손상되지 않도록 이격거리의 충분하게 유지하여야 한다.\n"
     ]
    },
    {
     "name": "stderr",
     "output_type": "stream",
     "text": [
      "INFO:httpx:HTTP Request: POST http://localhost:8000/v1/chat/completions \"HTTP/1.1 200 OK\"\n",
      " 83%|████████▎ | 24/29 [04:39<01:15, 15.16s/it]"
     ]
    },
    {
     "name": "stdout",
     "output_type": "stream",
     "text": [
      "--------------------------------\n",
      "Processed: (3) 전선 펴기작업 시에는 다음과 같은 안전조치사항을 준수하여야 한다.\n",
      "\n",
      "(가) 전선드럼 또는 엔진을 설치한 장소에서는 연선구간 배치도를 비치하고 전선펴기구간의 전선 1조당 길이 및 전선접속위치, 엔진장소 구간내의 철탑 각도 및 고저차, 작업원의 배치상황을 명확히 구분하여 이로 인한 사고를 예방하여야 한다.\n",
      "\n",
      "<그림 27> 인양 윈치 설치 및 예인 로프 이동\n",
      "\n",
      "<그림 28> 드럼장의 설치전경 및 전선 드럼배치\n",
      "\n",
      "(나) 통신설비를 드럼, 엔진, 철탑, 기타 중요장소에 배치하고 아래사항을 준수하여야 한다.\n",
      "\n",
      "① 전선 와이어의 상태와 활차의 회전에 유의하여 상호연락하면서 연선 작업을 실시하여야 한다.\n",
      "\n",
      "② 연선 구간 내에서는 항상 연락이 확실하고 신속하게 되도록 유선 또는 무선전화 설비를 전선설치장비, 철탑, 기타 중요장소에 설치하여야 한다.\n",
      "\n",
      "③ 관리감독자는 유, 무선 전화기를 병용하여 드럼장, 엔진장 장소와의 연락을 긴밀히 하여야 한다.\n",
      "\n",
      "④ 전기적인 유도가 예상되는 장소의 유선전화설비는 위험방지 조치를 하여야 한다.\n"
     ]
    },
    {
     "name": "stderr",
     "output_type": "stream",
     "text": [
      "INFO:httpx:HTTP Request: POST http://localhost:8000/v1/chat/completions \"HTTP/1.1 200 OK\"\n",
      " 86%|████████▌ | 25/29 [04:54<01:00, 15.18s/it]"
     ]
    },
    {
     "name": "stdout",
     "output_type": "stream",
     "text": [
      "--------------------------------\n",
      "Processed: (다) 철탑에 설치하는 가지선은 아래의 사항을 준수하여야 한다.\n",
      "① 가지선의 굵기 및 조수는 철연선 38㎟ 2조 이상 또는 동등 이상의 강연선으로 하고 각 암마다 개별로 매설된 근가에 고정하여야 한다.\n",
      "② 가지선의 회전방지를 위하여 턴버클에는 통나무나 각재를 기워야 하며 외부인의 접근을 방지하기 위하여 구획로프나 표지를 설치하여야 한다.\n",
      "③ 철탑 암에 부착하는 가지선은 수평각도 30˚이하로 하여 암이 수직하중 증가로 인한 굴절을 방지하여야 한다.\n",
      "④ 전선처리 경계철탑은 원칙적으로 가지선을 설치하여야 한다.\n",
      "⑤ 가지선은 주주재와 암주재의 교점 또는 암의 끝부분에 부착하여야 한다.\n",
      "⑥ 연선경계철탑을 보강하는 가지선의 부착방향은 원칙적으로 선로중심 방향과 평행으로 하고 부착각도는 수평지면과 가지선이 이루는 각이 45˚이하가 되도록 하여야 한다.\n",
      "\n",
      "(라) 활차 사용시 활차결이에 걸리는 힘은 연선와이어가 형성하는 각도 및 와이어 장력에 의하여 크게 변하므로 충분한 강도가 있는 것을 사용하여야 한다.\n",
      "\n",
      "(마) 기설 송전선과 접근 또는 교차하는 경우에는 전차유도 작용에 의해 전선 등에 고전압이 유기될 수 있으므로 유도방지장치(접지로라 등)를 설치하여야 한다.\n",
      "\n",
      "(바) 전선설치용 블록은 홈이 마모, 손상되었거나 회전이 불량한 것을 사용해서는 안되며, 사용 전에 홈을 깨끗이 청소하여야 한다.\n"
     ]
    },
    {
     "name": "stderr",
     "output_type": "stream",
     "text": [
      "INFO:httpx:HTTP Request: POST http://localhost:8000/v1/chat/completions \"HTTP/1.1 200 OK\"\n",
      " 90%|████████▉ | 26/29 [05:01<00:37, 12.56s/it]"
     ]
    },
    {
     "name": "stdout",
     "output_type": "stream",
     "text": [
      "--------------------------------\n",
      "Processed: (4) 전선설치 장비 사용 시에는 다음과 같은 안전조치사항을 준수하여야 한다.\n",
      "\n",
      "(가) 전선입기 차는 드럼대와의 거리를 10미터 이상으로 하고 충격에 의하여 위치변동이 없도록 견고하게 고정하여야 한다.\n",
      "\n",
      "(나) 전선입기 차의 제동장치는 특히 방습에 유의, 정상상태에서만 사용토록 시험을 하여야 한다.\n",
      "\n",
      "<그림 30> 가선공사 개념도\n",
      "\n",
      "<그림 31> 풀러텐서너(Puller Tensioners) 연선작업 및 전력선 요크 부착\n"
     ]
    },
    {
     "name": "stderr",
     "output_type": "stream",
     "text": [
      "INFO:httpx:HTTP Request: POST http://localhost:8000/v1/chat/completions \"HTTP/1.1 200 OK\"\n",
      " 93%|█████████▎| 27/29 [05:18<00:28, 14.01s/it]"
     ]
    },
    {
     "name": "stdout",
     "output_type": "stream",
     "text": [
      "--------------------------------\n",
      "Processed: (다) 운반 시는 그 기능이 손상되지 않도록 특히 주의해야 하며 사용 중 또는 사용 후 점검 및 손질을 철저히 하여야 한다.\n",
      "(라) 장시간 연선을 중지할 경우는 감아등 등으로 연선차 앞에 전선을 묶어 놓아 전선이 미끄러져 풀리는 것을 방지하여야 한다.\n",
      "(마) 전선설치장비의 시동, 정지, 속도조정은 각 작업개소와 긴밀하게 연락하면서 행하도록 하여야 한다.\n",
      "(바) 전선당기 작업을 원활하게 행하고 사고를 방지하기 위하여 다음 장소에는 반드시 관리감독자를 배치하여야 한다.\n",
      "\n",
      "① 발받침 설치개소\n",
      "② 인하 블록 및 연선롤러(Roller) 설치개소\n",
      "③ 인·출입 각도가 큰 칠탑(수평각도, 인상 및 인하각)\n",
      "④ 연선 중 메신저와이어나 전선이 수목에 접촉할 우려가 있는 곳\n",
      "⑤ 공공에 위해를 미칠 우려가 있는 곳\n",
      "\n",
      "(5) 전선 당기기 작업 시에는 다음과 같은 안전조치사항을 준수하여야 한다.\n",
      "(가) 애자 금구류를 인상작업 시 심부름 바를 직하에서 당기는 것은 피해야 한다.\n",
      "(나) 불트, 너트 및 공구류는 전용가방이나 건고한 주머니 등을 사용하여 떨어지는 일이 없도록 하여야 한다.\n",
      "(다) 권상용 윈치가 작업 중 주재, 부재, 발판볼트 등에 접촉되지 않도록 확인 후 작업하도록 하여야 한다.\n",
      "(라) 와이어, 접속공구 등은 사전에 점검하여 이상 유무를 확인하여야 한다.\n",
      "(마) 전선당기기 작업을 할 때에는 철탑 안의 가지선, 활차걸이 부착점을 점검하고 활차의 회전, 전선의 이탈, 전선당기기의 원활상태 등에 대하여 긴밀한 연락을 취할 수 있도록 근로자를 배치하여야 한다.\n",
      "\n",
      "<그림 32> 풀러텐셔너(Puller Tensioners)\n"
     ]
    },
    {
     "name": "stderr",
     "output_type": "stream",
     "text": [
      "INFO:httpx:HTTP Request: POST http://localhost:8000/v1/chat/completions \"HTTP/1.1 200 OK\"\n",
      " 97%|█████████▋| 28/29 [05:35<00:14, 14.77s/it]"
     ]
    },
    {
     "name": "stdout",
     "output_type": "stream",
     "text": [
      "--------------------------------\n",
      "Processed: (바) 충전된 선로가 근접하여 있고 유도전압이 발생될 가능성이 있는 곳에서 전선을 설치하거나 철거 시는 휴전작업에 관한 사항을 준수하여야 한다.\n",
      "(사) 철탑 앞의 에자 끝에서 작업하는 근로자의 안전을 확보하기 위하여 안전 대를 착용하도록 관리감독 하여야 한다.\n",
      "\n",
      "(6) 발반침 작업 시에는 다음과 같은 안전조치사항을 준수하여야 한다.\n",
      "\n",
      "(가) 발반침을 나무로 시공할 때는 연결하는 부분을 1미터 이상 겹쳐 2개소 이상에서 묶어야 한다.\n",
      "(나) 기둥의 간격은 띠장 방향에서는 1.8미터 이하, 장선 방향에서는 1.5미터 이하로 하여야 한다.\n",
      "(다) 발반침 고정용 지선은 강연철선 혹은 와이어를 사용하여야 하며 발반침 형태에 따라 넘어지지 않도록 하여야 한다.\n",
      "(라) 보호받을 공작물이 15미터 이상의 높이일 경우 또는 폭이 8미터이상인 도로・궤도상에 설치할 경우에는 발반침용 철주를 사용하도록 하여야 한다.\n",
      "(마) 배전설로를 보호하기 위한 발반침은 설치 전에 관계자와 협의, 전선에 절연 방호관을 설치한 후 시공하여야 한다.\n",
      "(바) 발반침이 도로상 또는 도로에 걸쳐 설치될 때는 적색기, 위험표지, 다용도 안전경보기, 조명등 등을 발반침으로부터 최소한 100미터 전・후방에 설치하여 위험을 경고하여야 한다.\n",
      "(사) 철제 발반침을 전기설비 보호용으로 설치할 때는 임시 접지를 시행하여야 한다.\n",
      "(아) 강풍 등의 일기예보가 있을 때는 발반침들의 강도를 재검토하여야 하며 부족시는 지선 등으로 보강하여 피해를 받지 않도록 하여야 한다.\n"
     ]
    },
    {
     "name": "stderr",
     "output_type": "stream",
     "text": [
      "INFO:httpx:HTTP Request: POST http://localhost:8000/v1/chat/completions \"HTTP/1.1 200 OK\"\n",
      "100%|██████████| 29/29 [05:49<00:00, 12.05s/it]\n"
     ]
    },
    {
     "name": "stdout",
     "output_type": "stream",
     "text": [
      "--------------------------------\n",
      "Processed: (7) 헬기를 이용한 전선펴기·전선당기기 작업 시에는 다음과 같은 안전조치사항을 준수하여야 한다.\n",
      "\n",
      "(가) 와이어로프 전선 펴기에 앞서 전선펴기 구간의 조사비행을 실시하여 풍향, 풍속, 횡단물, 가이드봉의 부착상황, 와이어로프의 고정개소, 작업원의 배치상황, 긴급시 착륙장소, 철탑번호 등을 확인하여야 한다.\n",
      "(나) 전선 펴기 중 특고압선로, 철도, 도로 등 중요 횡단개소에는 보선원을 배치하여야 한다.\n",
      "(다) 탑상 유휴직, 관리감독자는 안전대 등의 개인보호구를 완벽하게 착용하고 작업에 임하여야 한다.\n",
      "(라) 와이어로프를 철탑에 결박 시에는 헬기에 의한 풍압이 강하므로 주의를 하여야 한다.\n",
      "(마) 와이어로프가 헝클어져 로프가 풀리지 않는 등 긴급사태가 발생시 지상에서 와이어로프를 자르든가 전선 펴기용 기기를 분리하여야 한다.\n",
      "(바) 헬기가 철탑부근을 통과할 때는 탑상작업원은 철탑부재 내측에 들어가 있어야 하며 절대로 낙뢰 차폐선 암 위로 머리를 내밀어서는 안 된다.\n",
      "\n",
      "(8) 철탑공사가 끝났다 하더라도 개폐기를 투입하기 전에 모든 작업원이 충전부에 접근치 못하도록 조치하고 현장 뒷정리 확인 후 송전하여야 한다.\n",
      "---End---\n",
      "Processing 흙막이공사(Soil Nailing 공법) 안전보건작업 지침\n"
     ]
    },
    {
     "name": "stderr",
     "output_type": "stream",
     "text": [
      "  0%|          | 0/15 [00:00<?, ?it/s]INFO:httpx:HTTP Request: POST http://localhost:8000/v1/chat/completions \"HTTP/1.1 200 OK\"\n",
      "  7%|▋         | 1/15 [00:02<00:40,  2.91s/it]"
     ]
    },
    {
     "name": "stdout",
     "output_type": "stream",
     "text": [
      "--------------------------------\n",
      "Processed: 흙막이공사(Soil Nailing 공법)\n",
      "안전보건작업 지침\n",
      "\n",
      "2012. 8.\n",
      "\n",
      "한국산업안전보건공단\n"
     ]
    },
    {
     "name": "stderr",
     "output_type": "stream",
     "text": [
      "INFO:httpx:HTTP Request: POST http://localhost:8000/v1/chat/completions \"HTTP/1.1 200 OK\"\n",
      " 13%|█▎        | 2/15 [00:16<02:03,  9.48s/it]"
     ]
    },
    {
     "name": "stdout",
     "output_type": "stream",
     "text": [
      "--------------------------------\n",
      "Processed: 안전보건기술지침의 개요\n",
      "\n",
      "○ 작성자: 한국안전학회 이명구\n",
      "\n",
      "○ 제·개정 경과\n",
      "\n",
      "- 2011년 6월 건설안전분야 제정위원회 심의(제정)\n",
      "- 2012년 7월 건설안전분야 제정위원회 심의(개정)\n",
      "\n",
      "○ 관련규격 및 자료\n",
      "- 건축공사 표준시방서(국토해양부)\n",
      "- KOSHA GDIDE-39-2011 굴착공사 안전작업 지침\n",
      "- KOSHA GUIDE-63-2012 흙막이공사(C.I.P.공법) 안전작업에 관한 기술지침\n",
      "- KOSHA GUIDE-C-4-2012 흙막이공사(엄지말뚝 공법) 안전작업지침\n",
      "- 산업안전보건작업지침(한국산업안전보건공단, 2006년)\n",
      "- 흙막이공사 작업안전기술자료(한국산업안전보건공단, 2006년)\n",
      "\n",
      "○ 관련법규・규칙・고시 등\n",
      "- 산업안전보건기준에 관한 규칙 제2편 안전기준 제4장 건설작업 등에 의한 위험예방 제2절 굴착작업 등의 위험\n",
      "\n",
      "○ 기술지침의 적용 및 문의\n",
      "이 기술지침에 대한 의견 또는 문의는 한국산업안전보건공단 홈 페이지 안전보건기술지침 소관 분야별 문의처 안내를 참고하시기 바랍니다.\n",
      "\n",
      "공표일자: 2012년 8월 27일\n",
      "제 정 자: 한국산업안전보건공단 이사장\n"
     ]
    },
    {
     "name": "stderr",
     "output_type": "stream",
     "text": [
      "INFO:httpx:HTTP Request: POST http://localhost:8000/v1/chat/completions \"HTTP/1.1 200 OK\"\n",
      " 20%|██        | 3/15 [00:30<02:13, 11.10s/it]"
     ]
    },
    {
     "name": "stdout",
     "output_type": "stream",
     "text": [
      "--------------------------------\n",
      "Processed: 흙막이공사(Soil Nailing 공법) 안전보건작업 지침\n",
      "\n",
      "1. 목 적\n",
      "\n",
      "이 지침은 산업안전보건기준에 관한 규칙(이하 \"안전보건규칙\"이라 한다) 제2편(안전기준) 제4장(건설작업 등에 의한 위험예방) 제2절(굴착작업 등의 위험) 제1관(노천굴착작업) 및 제1편(총칙) 제6장(추락 또는 붕괴에 의한 위험 방지) 제2절(붕괴 등에 의한 위험방지) 규정에 의거 흙막이공사 중 소일네일링 공법을 시행함에 있어 산업재해 예방을 위해 준수하여야 할 안전보건지침을 정함을 목적으로 한다.\n",
      "\n",
      "2. 적용범위\n",
      "\n",
      "이 지침은 소일네일링공법으로 흙막이공사를 시행하는 공사에 적용한다.\n",
      "\n",
      "3. 용어의 정의\n",
      "\n",
      "(1) 네일(Nail) : 굴착 배면의 지반을 보강하기 위하여 지반에 근입하는 철근을 말하며 주로 HD25(SD40) 표준이형철근을 사용한다.\n",
      "\n",
      "(2) 와이어메쉬 : 굴착표면에 뿜어붙이기 콘크리트(Shotcrete)의 부착력을 증진시키기 위한 철망을 말한다.\n",
      "(3) 연결철근 : 네일에 작용되는 인발력을 인근의 네일로 하중분배를 시키기 위한 철근을 말한다.\n"
     ]
    },
    {
     "name": "stderr",
     "output_type": "stream",
     "text": [
      "INFO:httpx:HTTP Request: POST http://localhost:8000/v1/chat/completions \"HTTP/1.1 200 OK\"\n",
      " 27%|██▋       | 4/15 [00:45<02:22, 12.98s/it]"
     ]
    },
    {
     "name": "stdout",
     "output_type": "stream",
     "text": [
      "--------------------------------\n",
      "Processed: (4) 지압판 : 굴착면의 토사가 붕괴되려는 힘을 네일로 전달시키기 위한 부재를 말하며, 주로 150x150x9T의 강판을 사용하여 네일의 두부에 설치한다.\n",
      "\n",
      "![그림 2] 네일 설치 평면도\n",
      "\n",
      "(5) 너트(Nut) : 지압판을 네일에 고정하여 지압판이 네일에서 이탈되려는 것을 방지하는 기능을 하는 부재를 말한다.\n",
      "\n",
      "(6) 스페이서(Spacer) : 네일이 친공 홀(hole) 단면의 중앙에 위치할 수 있도록 하는 부재로서 주로 1.5m 이내의 간격으로 설치하며, 네일이 주입재(Grouting재)의 중앙에 위치하도록 하여 주입재와 지반과의 부착강도를 충분히 발휘하게 하여야 한다.\n",
      "\n",
      "(7) 주입용관 : 주입재를 주입하기 위한 관으로서 친공 홀 바닥에서부터 주입될 수 있도록 설치한다.\n",
      "\n",
      "4. 건설주체별 의무\n",
      "\n",
      "4.1 설계자의 의무\n",
      "\n",
      "(1) 대상 지반에 대한 지질조사, 가스관・통신선로・상수관・하수관・인근 구조물의 기초 등 지하매설물 조사, 인근 구조물・고압전선로 등 지상 장애물 조사, 장비의 운행경로 등 현황조사를 실시하여야 한다.\n",
      "\n",
      "(2) 정착부의 지반에 대한 토질정수를 결정하기 위한 지질조사・토질시험 등을 실시하고 그 결과를 이용한 설계를 하여야 한다.\n",
      "\n",
      "(3) 정착부는 지하구조물 또는 지표면의 역방향 경사 등으로 인하여 마찰저항이 부족한지의 여부를 판단하고 충분한 설계 정착력이 확보될 수 있도록 설계하여야 한다.\n"
     ]
    },
    {
     "name": "stderr",
     "output_type": "stream",
     "text": [
      "INFO:httpx:HTTP Request: POST http://localhost:8000/v1/chat/completions \"HTTP/1.1 200 OK\"\n",
      " 33%|███▎      | 5/15 [01:03<02:27, 14.75s/it]"
     ]
    },
    {
     "name": "stdout",
     "output_type": "stream",
     "text": [
      "--------------------------------\n",
      "Processed: (4) 대상 현장에 대한 현황조사, 구조해석결과, 구조도면, 특기시방 등의 설계도서를 공사관계자가 판독하기 용이하게 제작하여야 한다.\n",
      "\n",
      "(5) 구조해석 결과에는 지하수위, 토층의 두께, 토질의 단위중량, 흙의 내부마찰각, 지반의 전단강도 등 토압계산에 반영된 제반 토질정수를 기록하여야 한다.\n",
      "\n",
      "(6) 구조도면에는 재료의 종류 및 치수, 배치간격, 시공순서, 시공방법 등을 기록하여야 한다.\n",
      "\n",
      "(7) 뒤펄을 설치하기 위하여 노출되어 있는 굴착면의 높이와 시공성을 고려하여 굴착 단계별 토압으로 인한 붕괴의 위험성 유무를 검토하여야 한다.\n",
      "\n",
      "(8) 굴착작업 중 지하수위의 변화, 지반의 변위, 이상토압의 증가 등으로 인한 재해를 예방하기 위하여 필요한 계층항목을 정하여야 한다.\n",
      "\n",
      "(9) 시공자가 특별히 주의하여야 시공할 필요가 있는 사항에 대해서는 특기시방서를 작성하거나 설계도면에 별도로 명기하여 시공자가 안전한 시공을 수행할 수 있도록 하여야 한다.\n",
      "\n",
      "4.2 감독자 및 감리자의 의무\n",
      "\n",
      "(1) 설계도서의 내용이 대상 현장의 지형, 지상 및 지하 장애물 등을 반영하였는지 여부에 대하여 판단하여야 하며, 이상여부가 발견된 때에는 설계자에게 절의하여 이를 조정하여야 한다.\n",
      "\n",
      "(2) 시공자로부터 시공계획서를 제출 받아 이를 검토하고 필요한 경우에는 보완 요청 및 시정지시를 하여야 하며, 지반의 붕괴 또는 토석의 낙하 등으로부터 안전한 시공계획서일 경우 이를 승인하여야 한다.\n",
      "\n",
      "(3) 시공 중에는 설계도서와 일치여부를 확인·감독하여야 하며, 현장조건이 설계도서와 상이하여 설계내용을 변경하여야 할 경우에는 책임있는 기술자의 의견을 들어 안전한 방법을 선정하고 이를 지시하여야 한다.\n"
     ]
    },
    {
     "name": "stderr",
     "output_type": "stream",
     "text": [
      "INFO:httpx:HTTP Request: POST http://localhost:8000/v1/chat/completions \"HTTP/1.1 200 OK\"\n",
      " 40%|████      | 6/15 [01:23<02:27, 16.35s/it]"
     ]
    },
    {
     "name": "stdout",
     "output_type": "stream",
     "text": [
      "--------------------------------\n",
      "Processed: (4) 설계도서에서 정한 계측의 결과를 검토하여 이상이 발견된 때에는 조치방안을 강구하고 이를 지시한 후 이행여부를 확인하여야 한다.\n",
      "\n",
      "(5) 자재를 반입할 경우에는 설계도서와의 부합여부를 검수하여야 하며, 검수 도중 불량 자재 및 부적격 자재는 즉시 현장 밖으로 반출하도록 지시하여야 한다.\n",
      "\n",
      "(6) 근로자의 안전을 위하여 작업장의 안전시설의 설치, 근로자의 보호구 착용상태 등을 점검하고 불안전한 상태를 제거하도록 노력하여야 한다.\n",
      "\n",
      "4.3 시공자의 의무\n",
      "\n",
      "(1) 작업 시작 전 현장조건이 설계도서와 일치하는지의 여부를 확인하고 상이하다고 판단된 때에는 감독 및 감리자에게 이를 보고하고 대처방안을 상호협의하여야 한다.\n",
      "\n",
      "(2) 시공계획서를 작성하여 감독 및 감리자에게 제출하고 그의 승인을 얻은 후 작업을 시행하여야 하며, 시공계획서에는 다음과 같은 사항을 반드시 포함하여 작성하여야 한다.\n",
      "\n",
      "(가) 네일, 연결철근, 지압판, 너트 등 사용되는 자재의 종류, 성능(강도), 치수, 제작사\n",
      "(나) 천공장비 등 사용장비의 종류, 성능, 운행경로\n",
      "(다) 지반의 변위, 정착력의 변화, 지하수위의 변화 등을 확인할 수 있는 계측의 방법(종류, 위치, 수량, 측정주기, 평가방법 등)\n",
      "(라) 품질시험의 종류, 횟수 및 방법\n",
      "(마) 그라우팅재의 배합설계, 양성기간 및 뿜어붙이기 콘크리트 타설 시기 등\n",
      "(바) 뿜어붙이기 콘크리트(shotcrete)의 강도\n",
      "(사) 기타 안전성 확보를 위하여 필요한 주요사항\n",
      "\n",
      "(3) 작업 시작 전 근로자에게 안전한 작업방법을 교육하고 이를 지휘하여야 한다.\n",
      "\n",
      "(4) 설계도서와 시공계획서에 준하여 시공하여야 하며, 공사 도중 지반조건이 설계도서와 상이하거나 지하수 유출이 지반의 안전상에 심대한 영향을 미칠 우려가 있는 때에는 이를 감독 및 감리자에게 보고하고 이에 대한 대처방안을 협의하여야 한다.\n"
     ]
    },
    {
     "name": "stderr",
     "output_type": "stream",
     "text": [
      "INFO:httpx:HTTP Request: POST http://localhost:8000/v1/chat/completions \"HTTP/1.1 200 OK\"\n",
      " 47%|████▋     | 7/15 [01:39<02:10, 16.26s/it]"
     ]
    },
    {
     "name": "stdout",
     "output_type": "stream",
     "text": [
      "--------------------------------\n",
      "Processed: (5) 자재를 반입할 경우에는 사전에 설계도서에서 정한 성능 이상의 자재로서 그의 종류, 규격, 수량, 제작사 등을 명기한 자재승인요청서를 감독 및 감리 자에게 제출하여 이를 승인 받은 후 반입하고 반입된 자재는 자체적으로 검수하고 감독 및 감리자의 검수를 받아야 한다. 이때 부적격한 자재는 즉 시 현장 밖으로 반출하여야 한다.\n",
      "\n",
      "(6) 자재는 가능한 한 즉시 사용이 가능하도록 필요한 양 만큼 순차적으로 반 입하되 일정기간 동안 보관하여야 할 경우에는 양호한 상태로 보관하여야 하며, 부식, 마모, 변형 등이 발생되지 않도록 하여야 한다.\n",
      "\n",
      "(7) 근로자의 안전을 위하여 작업장의 안전시설의 설치, 보호구의 착용상태 감 시, 안전후 시에는 작업의 종지, 관계근로자 이외의 자의 출입통제 등의 업 무를 수행하여야 하며, 붕괴의 위험이 있다고 판단된 경우에는 즉시 근로자 를 안전한 장소로 대피시켜야 한다.\n",
      "\n",
      "(8) 감독 및 감리자가 없는 현장인 경우에는 현장조건이 설계도서와 상이한 경 우 책임있는 외부전문가의 의견을 청취한 후 시행하여야 하며, 작업계획서 는 자체적으로 수립하고 이를 보존하여 두어야 한다.\n",
      "\n",
      "4.4 근로자의 의무\n",
      "\n",
      "(1) 관리감독자가 지휘하는 안전한 작업방법을 준수하여야 한다.\n",
      "\n",
      "(2) 작업 도중 불안전한 행위를 하여서는 아니 된다.\n",
      "\n",
      "(3) 작업 중에는 반드시 필요한 보호구를 착용하여야 하며, 작업 후에는 보호구 를 양호하게 관리하여야 한다.\n",
      "\n",
      "(4) 작업 중 이상 현상 또는 위험한 요인을 발견한 때에는 즉시 관리감독자에 게 이를 알려야 하며, 그의 지시를 받아서 작업하여야 한다.\n"
     ]
    },
    {
     "name": "stderr",
     "output_type": "stream",
     "text": [
      "INFO:httpx:HTTP Request: POST http://localhost:8000/v1/chat/completions \"HTTP/1.1 200 OK\"\n",
      " 53%|█████▎    | 8/15 [01:43<01:26, 12.33s/it]"
     ]
    },
    {
     "name": "stdout",
     "output_type": "stream",
     "text": [
      "--------------------------------\n",
      "Processed: 5. 안전작업절차\n",
      "\n",
      "5.1 작업내용 및 순서\n",
      "\n",
      "소일네일링공사의 시공순서는 <그림 3> 및 <그림 4>와 같다.\n",
      "\n",
      "<그림 3> 영구식 소일네일링 공사의 작업내용 및 순서\n"
     ]
    },
    {
     "name": "stderr",
     "output_type": "stream",
     "text": [
      "INFO:httpx:HTTP Request: POST http://localhost:8000/v1/chat/completions \"HTTP/1.1 200 OK\"\n",
      " 60%|██████    | 9/15 [01:49<01:03, 10.57s/it]"
     ]
    },
    {
     "name": "stdout",
     "output_type": "stream",
     "text": [
      "--------------------------------\n",
      "Processed: 군착면 형성\n",
      "\n",
      "원주 뿜어붙이기\n",
      "콘크리트 타설\n",
      "\n",
      "지하매설물 확인\n",
      "\n",
      "천공\n",
      "\n",
      "네일 삽입 및 1차 그라우팅\n",
      "\n",
      "와이어메쉬 설치\n",
      "\n",
      "네일체의 제작 주입재의 배합\n",
      "\n",
      "2차 그라우팅 주입재의 배합\n",
      "\n",
      "2차 뿜어붙이기\n",
      "콘크리트 타설\n",
      "\n",
      "연결철근 조립\n",
      "\n",
      "지압판 설치 및 너트 체결\n",
      "\n",
      "계측 및 유지관리\n",
      "\n",
      "네일 제거\n",
      "\n",
      "홀 채움 그라우팅\n",
      "\n",
      "<그림 4> 제거식 소일네일링 공사의 작업내용 및 순서\n"
     ]
    },
    {
     "name": "stderr",
     "output_type": "stream",
     "text": [
      "INFO:httpx:HTTP Request: POST http://localhost:8000/v1/chat/completions \"HTTP/1.1 200 OK\"\n",
      " 67%|██████▋   | 10/15 [01:52<00:41,  8.21s/it]"
     ]
    },
    {
     "name": "stdout",
     "output_type": "stream",
     "text": [
      "--------------------------------\n",
      "Processed: 5.2 천공작업\n",
      "\n",
      "(1) 천공장비의 운전원은 자격을 갖춘 자로 하여야 한다.\n"
     ]
    },
    {
     "name": "stderr",
     "output_type": "stream",
     "text": [
      "INFO:httpx:HTTP Request: POST http://localhost:8000/v1/chat/completions \"HTTP/1.1 200 OK\"\n",
      " 73%|███████▎  | 11/15 [02:10<00:44, 11.15s/it]"
     ]
    },
    {
     "name": "stdout",
     "output_type": "stream",
     "text": [
      "--------------------------------\n",
      "Processed: 천공장비를 이동할 경우에는 장비의 전도·전락을 방지하기 위하여 이동통로의 안전성을 확보하여야 하며, 근로자의 충돌 및 협착 재해를 방지하기 위하여 이동경로에는 출입통로를 하여야 한다.\n",
      "\n",
      "천공의 지점은 설계도서에 준하여 미리 측량하여 표식하여 두어야 한다. 이 때 수직높이의 오차가 최소가 되도록 주의하여야 하며, 천공작업 전에는 가스관, 상하수도관, 인근 구조물의 기초 등 지하매설물의 유무를 반드시 확인하여야 한다.\n",
      "\n",
      "수직으로 굴착하여 천공지점이 노출된 후 장기간 방치하여 흙막이구조에 과대응력이 발생되지 않도록 후속 공정을 조속히 진행하여야 한다.\n",
      "\n",
      "천공장비는 천공작업 중 혼들림, 이동 등이 없도록 설치 지반을 정지하여야 한다.\n",
      "\n",
      "설계된 천공각도 및 천공깊이를 확인하고 장비를 설치하여야 하며, 천공 도중에는 설계각도를 유지하고 이를 확인할 수 있도록 하여야 하고, 천공이 완료된 때에는 천공깊이를 확인하여야 한다.\n",
      "\n",
      "주입재와 주변지반과의 마찰력이 충분히 발현될 수 있도록 천공의 직경은 설계에서 정한 치수 이상을 확보하여야 한다.\n",
      "\n",
      "천공 지점은 수평열이 일직선이 되도록 천공지점 높이의 오차를 최소화 하여야 한다. 이는 연결철근을 설치할 때 일직선을 유지할 필요가 있기 때문이다.\n",
      "\n",
      "천공 중에는 공벽의 붕괴를 방지하기 위하여 케이싱을 설치한다. 공벽 붕괴의 우려가 없는 경우에는 예외로 한다.\n",
      "\n",
      "동절기에 천공하는 경우에는 이수의 동결을 방지하기 위하여 온수를 사용하여야 한다.\n",
      "\n",
      "천공 중에는 비산 먼지 및 소음이 심하므로 근로자에게는 방진마스크 및 귀마개를 착용하도록 하고, 천공 입구에는 비산먼지를 최소화할 수 있도록 집진장치 또는 분진 방지책을 설치하여야 한다.\n"
     ]
    },
    {
     "name": "stderr",
     "output_type": "stream",
     "text": [
      "INFO:httpx:HTTP Request: POST http://localhost:8000/v1/chat/completions \"HTTP/1.1 200 OK\"\n",
      " 80%|████████  | 12/15 [02:25<00:36, 12.26s/it]"
     ]
    },
    {
     "name": "stdout",
     "output_type": "stream",
     "text": [
      "--------------------------------\n",
      "Processed: (12) 천공 홀 바닥의 굴착토사를 완전히 제거하여야 하며 설계심도까지의 천공 여부를 확인하여야 한다.\n",
      "\n",
      "5.3 네일체의 제작 및 삽입\n",
      "\n",
      "(1) 네일의 절단은 기계적 방식에 의하여 절단하며 절단으로 인한 재료의 국부적 성질의 변화가 없도록 하여야 한다.\n",
      "\n",
      "(2) 설계도서에서 정한 네일의 길이가 확보되도록 제작되어야 하며, 지압판 및 너트를 체결할 수 있는 여유길이를 두어야 한다.\n",
      "\n",
      "(3) 제작된 네일체를 검수할 때에는 다음과 같은 항목을 중점적으로 확인하여야 한다.\n",
      "\n",
      "(가) 네일의 소요길이\n",
      "(나) 네일의 손상, 부식, 변형 등 이상유무\n",
      "(다) 스페이서(Spacer)의 설치상태 및 이물질 부착유무\n",
      "(라) 주입재의 주입을 위한 주입용 관의 설치 상태\n",
      "\n",
      "(4) 네일을 삽입하기 전에는 네일에 부착된 먼지, 기름 등 이물질을 제거하여야 한다.\n",
      "\n",
      "(5) 네일을 삽입할 때에는 공벽이 붕괴되거나 네일체가 손상되지 않도록 서서히 하여야 한다.\n",
      "\n",
      "5.4 주입재의 배합 및 주입\n",
      "\n",
      "(1) 시멘트는 보통포틀랜드시멘트 또는 조강포틀랜드시멘트를 사용한다.\n",
      "\n",
      "(2) 배합강도는 주변토질과 인장재가 부착하여 소요강도를 발현할 수 있도록 배합되어야 하며, 주입 후 공시체를 제작하여 현장 및 실내 양생하여 발현 강도를 확인하여야 한다.\n"
     ]
    },
    {
     "name": "stderr",
     "output_type": "stream",
     "text": [
      "INFO:httpx:HTTP Request: POST http://localhost:8000/v1/chat/completions \"HTTP/1.1 200 OK\"\n",
      " 87%|████████▋ | 13/15 [02:43<00:28, 14.07s/it]"
     ]
    },
    {
     "name": "stdout",
     "output_type": "stream",
     "text": [
      "--------------------------------\n",
      "Processed: (3) 공벽의 붕괴 등을 방지하기 위하여 천공 후 장기간 방치하지 않으며, 네일 삽입 후 즉시 주입하여야 한다.\n",
      "\n",
      "(4) 주입은 천공 홈 바닥에서 공내부의 물과 공기를 밀어내면서 주입되도록 하고 주입재 내부에 공극이 발생되지 않도록 하여야 한다.\n",
      "\n",
      "(5) 주입재의 주입은 천공 홈 선단부에 슬라임이 완전 배출될 때 까지 1차 주입하고 케이싱을 제거한 후 공벽을 완전히 채우도록 2차 주입을 수행한다.\n",
      "\n",
      "(6) 주입재의 주입이 종료되면 소요강도를 얻기 위한 양생기간이 필요하며 이 기간 까지는 네일이 충격을 받거나 이동되지 않도록 주의하여야 한다.\n",
      "\n",
      "(7) 주입재는 연결철근 등의 작업을 수행하기에 필요한 충분한 강도를 발현할 때 까지 양생하여야 한다.\n",
      "\n",
      "(8) 교반기는 감전재해를 방지하기 위하여 KOSHA GUIDE E-106-2011(건설현장 전기설비설치 및 관리에 관한 기술지침)을 준용하여야 한다.\n",
      "\n",
      "5.5 연결철근의 설치\n",
      "\n",
      "(1) 연결철근은 네일끼리 횡방향으로 하중을 분배하기 위한 철근으로서 그 성능을 충분히 발현할 수 있도록 설치하여야 한다.\n",
      "\n",
      "(2) 연결철근을 이을 때에는 인장철근의 이음길이를 확보하여야 한다.\n",
      "\n",
      "(4) 연결철근은 D16 이상의 철근을 사용하여 설계에서 정한 규격을 준수하여야 한다.\n",
      "\n",
      "(5) 연결철근은 지압판 내면에 네일을 기준으로 상하부에 2열로 설치하고 토압으로 인하여 지압판 밖으로 이탈되지 않도록 철선으로 서로 건고히 묶어두어야 한다.\n",
      "\n",
      "5.6 지압판의 설치\n",
      "\n",
      "(1) 지압판은 뻗어붙이기 콘크리트 면에 작용하는 토압을 네일로 전달하는 역할을 담당하는 부재로서 그 성능을 충분히 발현할 수 있도록 설치하여야 한다.\n"
     ]
    },
    {
     "name": "stderr",
     "output_type": "stream",
     "text": [
      "INFO:httpx:HTTP Request: POST http://localhost:8000/v1/chat/completions \"HTTP/1.1 200 OK\"\n",
      " 93%|█████████▎| 14/15 [03:00<00:15, 15.03s/it]"
     ]
    },
    {
     "name": "stdout",
     "output_type": "stream",
     "text": [
      "--------------------------------\n",
      "Processed: 제거식 네일인 경우에는 뿜어붙이기 콘크리트를 타설한 후 지압판을 설치하고 영구식 네일인 경우에는 지압판을 설치한 후 뿜어붙이기 콘크리트를 타설한다.\n",
      "\n",
      "지압판은 너트와 와셔에 의하여 네일의 두부에 부착하며 너트는 랜치 (wrench)를 이용하여 견고하게 조여주어야 한다.\n",
      "\n",
      "5.7 뿜어붙이기 콘크리트의 타설\n",
      "\n",
      "(1) 타설장비 및 레미콘 트럭의 전도, 전락 등의 사고가 발생되지 않도록 안전한 이동경로를 확보하여야 한다.\n",
      "\n",
      "(2) 타설장비는 뿜어붙이기 콘크리트를 타설하는 때에는 지반의 침하를 방지하기 위하여 아웃리거를 설치하고 그 아래에 갈판 또는 갈목을 설치하여야 한다.\n",
      "\n",
      "(3) 장비가 이동하는 경로에서 근로자의 협착 또는 뿜어붙이기 콘크리트의 비산 등으로 인하여 재해가 발생되지 않도록 신호수를 배치하고 관계근로자 이외의 자의 출입을 통제하여야 한다.\n",
      "\n",
      "5.8 계측\n",
      "\n",
      "(1) 설계도서 또는 시공계획서에서 정한 각 계측기를 설치하고 초기 측정값을 기록 보존하여야 하며, 계측센서의 유실을 방지하기 위한 보호조치를 하여야 한다.\n",
      "\n",
      "(2) 계측은 최소한 하중계, 경사계, 지하수위계를 1개조로 하여 설치하며 그 개수 및 항목은 현장 여건에 따라 적합하게 설치하여야 한다.\n",
      "\n",
      "(3) 계측의 주기는 현장의 여건에 따라 정하되 1주일 이내를 원칙으로 하며, 이상토압의 발견 또는 불안전한 변위 등이 발견된 때에는 그 주기를 단축하고 위험여부를 확인하여야 한다.\n",
      "\n",
      "(4) 계측항목별 판단기준을 정하고 위험수위별 대처방안을 수립하여 두어야 한다.\n"
     ]
    },
    {
     "name": "stderr",
     "output_type": "stream",
     "text": [
      "INFO:httpx:HTTP Request: POST http://localhost:8000/v1/chat/completions \"HTTP/1.1 200 OK\"\n",
      "100%|██████████| 15/15 [03:12<00:00, 12.86s/it]\n"
     ]
    },
    {
     "name": "stdout",
     "output_type": "stream",
     "text": [
      "--------------------------------\n",
      "Processed: (5) 계측결과는 계측 즉시 감독 및 감리자에게 구두 또는 간략 보고하여야 하며, 보고서 작성 시간으로 인하여 위험단계의 대응시기를 놓치지 않아야 한다.\n",
      "\n",
      "(6) 흙막이 구조의 변형 등을 상시 육안 조사하고 해빙기 또는 장마기에는 특 별점검을 실시하여야 한다.\n",
      "\n",
      "(7) 굴착 선단부에는 낙하의 위험이 있는 토사를 제거하여야 한다.\n",
      "\n",
      "(8) 굴착 선단부에는 중량물을 적재하는 등 상재하중을 가하지 않는 것을 원칙으 로 하며, 현장 여건 상 필요한 경우에는 구조적 안전성을 확인하여야 한다.\n",
      "\n",
      "5.8 벤일의 해체\n",
      "\n",
      "(1) 제거식 벤일인 경우에는 해체계획을 수립하고 이에 따라 작업을 수행하여 야 한다. 해체계획에는 기시공된 구조물의 변형 등을 고려하여 구조물공사 와 연계된 안전한 작업순서가 반영되어야 한다.\n",
      "\n",
      "6. 기타 안전조치사항\n",
      "\n",
      "기타 흙막이공사에 관한 안전작업은 KOSHA GUIDE C-39-2011 굴착공사 안전작 업 지침 및 KOSHA GUIDE C-4-2012 흙막이공사(엄지말뚝) 안전보건작업 지침의 규정에 따른다.\n",
      "---End---\n",
      "Processing 흙막이공사(엄지말뚝 공법) 안전보건작업 지침\n"
     ]
    },
    {
     "name": "stderr",
     "output_type": "stream",
     "text": [
      "  0%|          | 0/16 [00:00<?, ?it/s]INFO:httpx:HTTP Request: POST http://localhost:8000/v1/chat/completions \"HTTP/1.1 200 OK\"\n",
      "  6%|▋         | 1/16 [00:02<00:43,  2.93s/it]"
     ]
    },
    {
     "name": "stdout",
     "output_type": "stream",
     "text": [
      "--------------------------------\n",
      "Processed: 흙막이공사(엄지말뚝 공법)\n",
      "안전보건작업 지침\n",
      "\n",
      "2012. 8.\n",
      "\n",
      "한국산업안전보건공단\n"
     ]
    },
    {
     "name": "stderr",
     "output_type": "stream",
     "text": [
      "INFO:httpx:HTTP Request: POST http://localhost:8000/v1/chat/completions \"HTTP/1.1 200 OK\"\n",
      " 12%|█▎        | 2/16 [00:16<02:04,  8.91s/it]"
     ]
    },
    {
     "name": "stdout",
     "output_type": "stream",
     "text": [
      "--------------------------------\n",
      "Processed: 안전보건기술지침의 개요\n",
      "\n",
      "○ 작성자 : 한국산업안전보건공단 산업안전보건연구원 최돈홍\n",
      "\n",
      "○ 제정경과\n",
      "\n",
      "- 2010년 10월 건설안전분야 제정위원회 심의(제정)\n",
      "- 2012년 7월 건설안전분야 제정위원회 심의(개정)\n",
      "\n",
      "○ 관련규격 및 자료\n",
      "\n",
      "- 건축공사 표준시방서(국토해양부)\n",
      "- KOSHA GUIDE C-39-2011 굴착공사 안전작업 지침\n",
      "- KOSHA GUIDE C-63-2012 흙막이공사(C.I.P.공법) 안전보건작업 지침\n",
      "- 산업안전보건용어사전(한국산업안전보건공단, 2006년)\n",
      "- 흙막이공사 작업안전 기술자료(한국산업안전보건공단, 2006년)\n",
      "\n",
      "○ 관련법규・규칙・고시 등\n",
      "\n",
      "- 산업안전보건기준에 관한 규칙 제2편 제4장 제2절 굴착작업 등의 위험 방지\n",
      "\n",
      "○ 기술지침의 적용 및 문의\n",
      "\n",
      "이 기술지침에 대한 의견 또는 문의는 한국산업안전보건공단 홈페이지 안전보건 기술지침 소관 분야별 문의처 안내를 참고하시기 바랍니다.\n",
      "\n",
      "공표일자 : 2012년 8월 27일\n",
      "제 정 자 : 한국산업안전보건공단 이사장\n"
     ]
    },
    {
     "name": "stderr",
     "output_type": "stream",
     "text": [
      "INFO:httpx:HTTP Request: POST http://localhost:8000/v1/chat/completions \"HTTP/1.1 200 OK\"\n",
      " 19%|█▉        | 3/16 [00:27<02:10, 10.07s/it]"
     ]
    },
    {
     "name": "stdout",
     "output_type": "stream",
     "text": [
      "--------------------------------\n",
      "Processed: 1. 목 적\n",
      "\n",
      "이 지침은 산업안전보건기준에 관한 규칙(이하 “안전보건규칙”이라 한다) 제2편 제4장 제2절 굴착작업 등의 위험 방지 규정에 의거 엄지말뚝 흙막이공사 작업 시 준수하여야 할 안전보건작업에 관한 기술적인 사항을 정함을 목적으로 한다.\n",
      "\n",
      "2. 적용범위\n",
      "\n",
      "이 지침은 건설현장의 엄지말뚝 흙막이 공사에 적용한다.\n",
      "\n",
      "3. 용어의 정의\n",
      "\n",
      "(1) 이 지침에서 사용하는 용어의 정의는 다음과 같다.\n",
      "\n",
      "(가) “엄지말뚝 흙막이 공법”이란 굴착 전에 엄지말뚝(H-pile)을 일정한 간격으로 근입한 후 굴착하면서 토류판(흙막이판)을 엄지말뚝 사이에 끼어 넣어 흙막이벽을 지지하는 공법을 말한다.\n",
      "\n",
      "(나) “엄지말뚝”이란 굴착 경계면에 일정한 간격으로 수직으로 설치되는 강재 말뚝(H-pile)으로써 토류판과 더불어 흙막이벽을 이루며 배면의 토압 및 수압을 지지하는 수직부재를 말한다.\n"
     ]
    },
    {
     "name": "stderr",
     "output_type": "stream",
     "text": [
      "INFO:httpx:HTTP Request: POST http://localhost:8000/v1/chat/completions \"HTTP/1.1 200 OK\"\n",
      " 25%|██▌       | 4/16 [00:38<02:05, 10.42s/it]"
     ]
    },
    {
     "name": "stdout",
     "output_type": "stream",
     "text": [
      "--------------------------------\n",
      "Processed: 다) “토류판(土留板)”이란 벽면의 토압 및 수압을 지지하는 부재로서 일명 흙막이판이라고 한다.\n",
      "\n",
      "라) “지반앵커(Earth anchor)”란 흙막이벽 등의 구조물을 지지하기 위하여 선단부를 양질지반에 정착시킨 인장부재로서 앵커체, 인장부, 앵커두부로 구성된다.\n",
      "\n",
      "[그림 2] 지반앵커(Earth anchor) 지지 공법\n",
      "\n",
      "마) “긴장”이란 앵커의 인장부재에 인장력을 주는 것을 말한다.\n",
      "\n",
      "바) “앵커두부”란 흙막이구조물에 작용된 힘을 인장부에 전달하기 위한 부분을 말한다.\n",
      "\n",
      "사) “인장부”란 앵커두부로부터 전달된 인장력을 앵커체에 전달하는 부분을 말한다.\n",
      "\n",
      "아) “앵커체”란 인장력을 지반에 전달하기 위하여 지중에 설치되는 시멘트 등의 경화물로 형성된 부분을 말한다.\n",
      "\n",
      "자) “잭킹(Jacking)”이란 흙막이벽에 버팀대를 설치하고 흙막이의 변형을 감소시키기 위하여 버팀대에 미리 압축력을 가하는 것을 말한다.\n",
      "\n",
      "차) “중간말뚝”이란 흙막이벽의 안정성을 확보하기 위하여 굴착저면의 중앙부를 먼저 굴착하고 흙막이 벽면 주위를 굴착하지 않고 남기게 되는 동안 굴착하지 않은 흙막이 벽면 주위의 수평진 부분을 말한다.\n"
     ]
    },
    {
     "name": "stderr",
     "output_type": "stream",
     "text": [
      "INFO:httpx:HTTP Request: POST http://localhost:8000/v1/chat/completions \"HTTP/1.1 200 OK\"\n",
      " 31%|███▏      | 5/16 [00:54<02:16, 12.42s/it]"
     ]
    },
    {
     "name": "stdout",
     "output_type": "stream",
     "text": [
      "--------------------------------\n",
      "Processed: (타) \"버팀대(Strut or Raker)\"란 흙막이 벽에 작용하는 수평력을 지지하기 위하여 수평 또는 경사로 설치하는 부재를 말한다.\n",
      "\n",
      "(파) \"띠장(Wale)\"이란 흙막이 벽에 작용하는 토압에 의한 휨모멘트와 전단력에 저항하도록 설치하는 부재로써 흙막이벽에 가해지는 토압을 버팀대등에 전달하기 위하여 흙막이벽에 수평으로 설치하는 부재를 말한다.\n",
      "\n",
      "(2) 그 밖에 이 지침에서 사용하는 용어의 정의는 이 지침에 특별한 규정이 있는 경우를 제외하고는 산업안전보건법, 같은 법 시행령, 같은 법 시행규칙 및 안전보건규칙에서 정하는 바에 의한다.\n",
      "\n",
      "4. 흙막이공사 전 안전조치 사항\n",
      "\n",
      "(1) 흙막이가시설 설계내용이 현장조건과 부합되는지 여부에 대하여 공사중에 설계자로 하여금 확인토록 하여야 하고 이상이 있을 경우에는 적합한 대책을 수립하여야 한다.\n",
      "\n",
      "(2) 시공 전에 엄지말뚝, 토류판, 버팀대, 중간말뚝, 귀잡이, 띠장 등 흙막이의 각 부재가 설계도서에 명시한 규격 및 재질과 부합여부, 단면손상여부, 구부러짐 정도 등을 점검하고 이상 유무를 확인하여야 한다.\n",
      "\n",
      "(3) 엄지말뚝 설치 위치에 가스관, 상·하수도관 등 장애물의 유무를 유관기관의 설계도서 등으로 조사한 후 인력굴착으로 확인하여야 하며 필요시 이설 등 대책을 수립하여야 한다.\n",
      "\n",
      "(4) 흙막이가시설 설치 작업장 주변에 고압전주가 위치하여 크레인작업 시 크레인 붐대와 고압전주의 근접에 의한 감전사고 위험이 있을 때에는 방호관, 방책 설치 및 신호수 배치 등 감전사고 발생방지에 필요한 대책을 수립하여야 한다.\n",
      "\n",
      "(5) 인접하여 지하 굴착 및 흙막이 공사현장이 있을 경우 당해 흙막이 공사에 미칠 영향에 대하여 조사 후 대책을 수립하여야 한다.\n",
      "\n",
      "(6) 흙막이가시설 배면부의 흙막이 높이에 해당하는 범위 내에서는 각종 차량과 토사 및\n"
     ]
    },
    {
     "name": "stderr",
     "output_type": "stream",
     "text": [
      "INFO:httpx:HTTP Request: POST http://localhost:8000/v1/chat/completions \"HTTP/1.1 200 OK\"\n",
      " 38%|███▊      | 6/16 [01:07<02:07, 12.71s/it]"
     ]
    },
    {
     "name": "stdout",
     "output_type": "stream",
     "text": [
      "--------------------------------\n",
      "Processed: 재료가 적치되지 않도록 계획을 수립하고 부득이 적재 시는 별도의 하중 점토 등 안전성을 확인하여야 한다.\n",
      "\n",
      "(7) 작업 전에 지상에서 지하 작업장까지 통행 할 수 있는 가설계단 등 안전통로 계획을 수립하여야 한다.\n",
      "\n",
      "(8) 굴착 및 양중 장비 사용 시 장비 특성, 작업내용, 장비 사용방법, 주변환경, 운행경로 등을 고려한 장비사용 계획을 수립하여야 한다.\n",
      "\n",
      "(9) 용접기, 절단기, 가설전등, 고압살수기, 양수기 등 전기 기계·기구에 대한 자동전격 방지기, 접지, 누전차단기, 분전판, 전등보호망, 가공배선 등 감전방지조치를 포함한 전기이용계획을 수립하여야 한다.\n",
      "\n",
      "5. 흙막이공사 시 안전조치 사항\n",
      "\n",
      "5.1 공통사항\n",
      "\n",
      "(1) 장비의 운행 및 작업구간에 지반상태를 확인하고 침하의 우려가 있을 때에는 침하방지조치를 실시하고 천공장비 작업 시 아우트리거 설치여부를 확인하는 등 장비의 도괴 사고 방지에 필요한 조치를 하여야 한다.\n",
      "\n",
      "(2) 장비의 달줄에 사용되는 와이어로프는 수시로 점검하여 손상 및 변형된 것은 즉시 교체하여야 한다.\n",
      "\n",
      "(3) 이동식크레인, 굴삭기 등 장비반입 시 브레이크, 와이어로프, 버킷 연결부, 후크 등 사전 안전점검을 실시하고 운전원의 자격유무를 확인하여야 한다.\n",
      "\n",
      "5.2 엄지말뚝 설치\n",
      "\n",
      "(1) 엄지말뚝 설치 시 설계도서에서 명시한 간격을 준수하고 수직도를 확인하여야 한다.\n",
      "\n",
      "(2) 엄지말뚝 천공 시 주변지반 침하 발생 등 주변지반에 피해가 예상되는 경우에는 케\n"
     ]
    },
    {
     "name": "stderr",
     "output_type": "stream",
     "text": [
      "INFO:httpx:HTTP Request: POST http://localhost:8000/v1/chat/completions \"HTTP/1.1 200 OK\"\n",
      " 44%|████▍     | 7/16 [01:22<01:59, 13.27s/it]"
     ]
    },
    {
     "name": "stdout",
     "output_type": "stream",
     "text": [
      "--------------------------------\n",
      "Processed: 이상 설치 등의 방법으로 시공하고 천공 즉시 엄지말뚝을 근입하여야 하며 천공구멍은 덮개 등으로 방호조치를 하여야 한다.\n",
      "\n",
      "(3) 엄지말뚝은 흙막이 배면부 지반 높이 보다 약 0.2m 높게 시공하고 동 위치에 발끝 막이관을 설치하는 등 흙막이 상단부의 지표수 유입방지, 낙석, 낙하 발생방지 위한 필요한 조치를 하여야 한다.\n",
      "\n",
      "(4) 흙막이 가시설과 시공되는 구조물 사이에는 충분한 작업공간을 확보하여야 한다.\n",
      "\n",
      "(5) 엄지말뚝을 이용 할 경우에는 응력이 최소가 되는 곳으로써 지중에서 동일 높이를 피하여야 한다.\n",
      "\n",
      "(6) 엄지말뚝의 이용은 흙, 녹 등 액체물을 제거한 후 용접을 실시하여야 하며 용접이용부는 모재의 응력 부담능력 이상이 되도록 하여야 한다.\n",
      "\n",
      "(7) 엄지말뚝을 설치 후 천공 구멍은 암길의 토사, 모래, 소일 시멘트(soil cement) 등으로 완전히 총진시간 후에 후속공정을 시행하여야 한다.\n",
      "\n",
      "(8) 엄지말뚝의 선단은 설계도서에 의거 충분한 근입깊이를 확보하여야 한다.\n",
      "\n",
      "(9) 기타 엄지말뚝 작업에 관한 안전지침은 KOSHA GUIDE C-39-2011 굴착공사 안전작업 지침 및 KOSHA GUIDE C-63-2012 흙막이공사(C.I.P공법) 안전보건작업 지침에 따른다.\n",
      "\n",
      "5.3 토류판 설치\n",
      "\n",
      "(1) 토류판 부재는 최종 굴착깊이에서의 최대측압강도로 계산된 판의 두께 이상의 것으로 전 흙막이벽에 사용하여야 한다.\n",
      "\n",
      "(2) 토류판은 굴착작업이 진행됨에 따라 굴착높이가 0.5m를 넘지 않은 범위 내에서 최대한 신속하게 설치하여야 한다.\n"
     ]
    },
    {
     "name": "stderr",
     "output_type": "stream",
     "text": [
      "INFO:httpx:HTTP Request: POST http://localhost:8000/v1/chat/completions \"HTTP/1.1 200 OK\"\n",
      " 50%|█████     | 8/16 [01:34<01:43, 13.00s/it]"
     ]
    },
    {
     "name": "stdout",
     "output_type": "stream",
     "text": [
      "--------------------------------\n",
      "Processed: KOSHA GUIDE\n",
      "C - 4 - 2012\n",
      "\n",
      "(3) 토류판은 흙막이 벽면과 밀착되게 하고 각 토류판 사이에 틈새가 발생되지 않도록 설치하여야 한다.\n",
      "\n",
      "(4) 토류판을 설치한 후 토류판 배면에는 공극이 발생되지 않도록 신속히 양착 토사, 소일 시멘트 등으로 뒷채움하여 흙막이벽의 안전성을 확보하여야 한다.\n",
      "\n",
      "(5) 재사용 토류판과 이음처리가 된 토류판은 사용치 말아야 한다.\n",
      "\n",
      "(6) 토류판의 양끝단은 설계기준 이상으로써 판 두께 이상이 엄지말뚝(H-pile)의 플랜지(Flange)에 지지되도록 하고 그 후면이 굴착 지반면에 밀착되도록 하며 토류판 상호 간을 연결재로 연결하는 등 굴착부의 침수, 흙막이 배면 지반의 국부적 이완 등의 경우에 토류판이 부상, 이완과 엄지말뚝에서 탈락되지 않도록 하여야 한다.\n",
      "\n",
      "5.4 띠장 설치\n",
      "\n",
      "(1) 띠장은 끊어짐이 없이 연속해서 설치하고 띠장의 이음은 원칙적으로 엄지말뚝을 중심으로 전단력과 휨모멘트가 작은 곳에서 설치하여야 한다.\n",
      "\n",
      "(2) 띠장 설치 즉시 설치된 띠장을 따라 띠장 위 약 1.5m 높이에 안전대 부착설비를 설치하고 띠장 위에서 작업시 안전대를 걸도록 하여야 한다.\n",
      "\n",
      "(3) 띠장의 자중 및 적재하중에 대하여 충분히 견딜 수 있도록 보걸이(Bracket)를 설치하여야 한다.\n"
     ]
    },
    {
     "name": "stderr",
     "output_type": "stream",
     "text": [
      "INFO:httpx:HTTP Request: POST http://localhost:8000/v1/chat/completions \"HTTP/1.1 200 OK\"\n",
      " 56%|█████▋    | 9/16 [01:41<01:16, 10.98s/it]"
     ]
    },
    {
     "name": "stdout",
     "output_type": "stream",
     "text": [
      "--------------------------------\n",
      "Processed: 보걸이 (Bracket)\n",
      "\n",
      "(4) 띠장에 전달된 측압이 지반앵커 또는 버팀대에 충분히 전달되도록 엄지말뚝과 띠장 사이의 틈을 철판 용접 등을 실시하여 엄지말뚝과 띠장이 밀착되도록 하여야 하며 띠장과 버팀대 연결부에는 국부좌굴을 방지하기 위하여 스티프너 (Stiffener)를 설치하여야 한다.\n",
      "\n",
      "(5) 보걸이는 띠장 1개당 2개 이상으로 설치하고 띠장보다 약 5cm 정도의 여유폭이 되도록 하며 4m 이내의 간격으로 설치하여야 한다.\n",
      "\n",
      "(6) 흙막이 모서리 부분의 띠장은 모서리 쐐기를 이용하여 보강하여야 한다.\n"
     ]
    },
    {
     "name": "stderr",
     "output_type": "stream",
     "text": [
      "INFO:httpx:HTTP Request: POST http://localhost:8000/v1/chat/completions \"HTTP/1.1 200 OK\"\n",
      " 62%|██████▎   | 10/16 [01:49<01:00, 10.10s/it]"
     ]
    },
    {
     "name": "stdout",
     "output_type": "stream",
     "text": [
      "--------------------------------\n",
      "Processed: 5.5 버팀대 설치\n",
      "\n",
      "(1) 볼트 구멍이 발생된 재사용 강재를 버팀대로 사용시 결손구멍을 철판으로 용접하고 안전상태를 확인하여야 한다.\n",
      "\n",
      "(2) 버팀대는 좌우 흙막이의 토압이 균형을 이룬 상태에서 실시하고 정확히 수평이 되도록 정밀하게 설치하여야 한다.\n",
      "\n",
      "(3) 흙막이가시설의 변위는 버팀대 끝부분의 잭을 이용하여 정밀하게 조정하여야 한다.\n",
      "\n",
      "(4) 버팀대를 이음할 경우에는 중간말뚝 부근에 위치하도록 하여야 한다.\n",
      "\n",
      "(5) 코너버팀대와 흙막의 연결부는 밀림을 방지하기 위하여 스토퍼(Stopper)를 설치하여야 한다.\n",
      "\n",
      "(6) 버팀대의 이음 시 상부 및 하부 커버플레이트, 볼트, 스티프너 등 부속재의 누락이 없도록 시공하여 응력이 충분히 전달되게 하고, 좌굴이 발생되지 않도록 확실히 결속하여야 한다.\n"
     ]
    },
    {
     "name": "stderr",
     "output_type": "stream",
     "text": [
      "INFO:httpx:HTTP Request: POST http://localhost:8000/v1/chat/completions \"HTTP/1.1 200 OK\"\n",
      " 69%|██████▉   | 11/16 [01:59<00:50, 10.19s/it]"
     ]
    },
    {
     "name": "stdout",
     "output_type": "stream",
     "text": [
      "--------------------------------\n",
      "Processed: (7) 버팀대에 소정의 축력이 작용하도록 충분한 잭킹(Jacking)을 하고 가압 중 흙막이, 띠장, 버팀대 등 부재에 미치는 영향을 검토하여야 하며 잭은 엇갈리게 배치하여야 한다.\n",
      "\n",
      "<그림 8> 버팀대와 잭(Jack)\n",
      "\n",
      "(8) 동일 높이에 있는 버팀대에는 축력이 균일하게 작용되도록 잭킹(Jacking)을 하여야 한다.\n",
      "\n",
      "(9) 버팀대 위에는 가설창고 등 가설구조물과 각종 재료, 공구 등을 적재하지 않도록 하여야 하며 부득이 적재할 경우에는 별도의 안전성 검토 후 보강 등 필요한 조치를 하여야 한다.\n",
      "\n",
      "(10) 장비통로, 작업구 설치로 버팀대의 수평간격을 넓게 할 경우에는 사전에 구조안전 검토를 하고 동 검토 결과에 따라 사보강재 등을 설치하여야 한다.\n",
      "\n",
      "(11) 사보강재의 길이가 길 경우에는 중간에 중간말뚝을 설치하여 사보강재의 좌굴을 방지하여야 한다.\n",
      "\n",
      "(12) 접속부의 볼트 이완 상태를 수시로 점검하여 이상 유무를 확인하여야 한다.\n",
      "\n",
      "(13) 버팀대는 축력으로 인하여 좌굴되지 않도록 하고 축 직각 방향으로 어긋나지 않도록 버팀대의 교차부, 중간말뚝과의 교차부 등과 견고히 결속하여야 한다.\n"
     ]
    },
    {
     "name": "stderr",
     "output_type": "stream",
     "text": [
      "INFO:httpx:HTTP Request: POST http://localhost:8000/v1/chat/completions \"HTTP/1.1 200 OK\"\n",
      " 75%|███████▌  | 12/16 [02:09<00:40, 10.03s/it]"
     ]
    },
    {
     "name": "stdout",
     "output_type": "stream",
     "text": [
      "--------------------------------\n",
      "Processed: (14) 버팀대를 설치한 후 즉시 버팀대 상부 약 1.5m 높이에 안전대 부착설비를 설치하여 작업자가 버팀대 상부에서 작업 및 이동시 안전대를 안전대 부착설비에 걸도록 하여야 한다.\n",
      "\n",
      "5.6 중간말뚝 설치\n",
      "\n",
      "(1) 중간말뚝은 자중, 적재하중 및 연직분력 등의 하중에 대하여 충분한 강도와 지지력을 갖도록 계획, 시공하고 중간말뚝에 인발력이 작용하는 경우를 충분히 고려하여야 한다.\n",
      "\n",
      "(2) 중간말뚝은 버팀대의 교차부마다 설치하는 것을 원칙으로 하며 그렇지 않은 경우에는 별도의 안전성 검토 후 필요한 조치를 하여야 한다.\n",
      "\n",
      "(3) 중간 말뚝은 버팀대의 좌굴이 발생되지 않도록 배치하여야 한다.\n",
      "\n",
      "5.7 지반앵커 설치\n",
      "\n",
      "(1) 지반앵커는 설계도서에서 명시한 간격으로 설치하되 앵커 상호간의 영향을 고려하여 설치하여야 한다.\n",
      "\n",
      "(2) 작업 전에 지하 매설물의 유무와 위치를 확인하여야 한다.\n",
      "\n",
      "(3) 앵커체는 안정성을 고려하여 수평에서 하향 10~45도 범위의 경사각으로 설치하되 설계도서에 명시된 각도를 정확히 유지하여야 한다.\n"
     ]
    },
    {
     "name": "stderr",
     "output_type": "stream",
     "text": [
      "INFO:httpx:HTTP Request: POST http://localhost:8000/v1/chat/completions \"HTTP/1.1 200 OK\"\n",
      " 81%|████████▏ | 13/16 [02:23<00:34, 11.40s/it]"
     ]
    },
    {
     "name": "stdout",
     "output_type": "stream",
     "text": [
      "--------------------------------\n",
      "Processed: (4) 앵커설치 시 설계도면과 시방서에서 규정하고 있는 인장시험, 인발시험, 확인시험 등 을 실시하여야 한다.\n",
      "\n",
      "(5) 긴장 시 띠장의 국부좌굴을 방지하기 위하여 앵커가 설치된 띠장에 스티프너를 설치 하여야 한다.\n",
      "\n",
      "(6) 기타 지반앵커 작업에 관한 안전지침은 KOSHA GUIDE C-39-2011 굴착공사 안전작 업 지침의 규정에 따른다.\n",
      "\n",
      "5.8 흙막이 계측\n",
      "\n",
      "(1) 흙막이 설치 전에 수립된 계측계획에 의한 각 계측기를 적기에 설치하고 계측초기 측정값을 기록 보존하여야 한다.\n",
      "\n",
      "(2) 일정간격으로 계측실시 후 계측결과 토압의 증가 및 이상이 발생 할 때에는 즉시 안전대책 수립과 보강조치를 하여야 하며 실시한 계측기록은 흙막이 해체 시 까지 보존하여야 한다.\n",
      "\n",
      "(3) 일일 작업 전과 작업 후에 흙막이 상부지반의 균열 발생, 흙막이 접합부의 용접 상태, 버팀대와 띠장 이음부의 볼트 풀림 등에 대하여 일상점검을 실시하여 이상여부 발생 시 즉시 대책수립 및 보강 등 필요한 조치를 하여야 한다.\n",
      "\n",
      "6. 굴착작업 시 안전조치 사항\n",
      "\n",
      "(1) 지반의 붕괴, 매설물의 손괴 등으로부터 근로자를 보호하기 위하여 지질, 매설물, 지 하수위 등의 상태를 조사하고 굴착시기, 작업순서, 작업방법 등을 정하여야 한다.\n",
      "\n",
      "(2) 굴착작업 전에 각 업지말뚝에 표준안전난간을 미리 설치하는 등 흙막이 상단부의 추 락방지에 필요한 조치를 하여야 한다.\n",
      "\n",
      "(3) 굴착작업 전 과정에 걸쳐 근로자가 지상에서 굴착지면까지 안전하게 통행할 수 있는 가설계단 형식의 안전통로를 확보하고 가설계단 끝에는 표준안전난간, 가설계단 하\n"
     ]
    },
    {
     "name": "stderr",
     "output_type": "stream",
     "text": [
      "INFO:httpx:HTTP Request: POST http://localhost:8000/v1/chat/completions \"HTTP/1.1 200 OK\"\n",
      " 88%|████████▊ | 14/16 [02:36<00:23, 11.88s/it]"
     ]
    },
    {
     "name": "stdout",
     "output_type": "stream",
     "text": [
      "--------------------------------\n",
      "Processed: 부에는 낙하물방지망을 설치하는 등 추락 및 낙하 방지를 위한 필요한 조치를 하여야 한다.\n",
      "\n",
      "(4) 가설계단과 굴착지면의 사이에 사다리를 설치할 경우 다음 사항을 준수하여야 한다.\n",
      "\n",
      "(가) 발판 간격은 동일하게 할 것\n",
      "(나) 발판과 벽과의 사이는 15cm이상을 유지할 것\n",
      "(다) 사다리 상부와 하부를 견고히 고정할 것\n",
      "(라) 사다리 기울기는 80도 이내로 할 것\n",
      "(마) 사다리 상단의 내린길이는 1m이상으로 할 것\n",
      "(바) 사다리에 수직구멍줄을 설치하고 통행시 안전대를 착용하고 동 수직구멍줄에 걸도록 할 것\n",
      "\n",
      "(5) 굴착은 굴착순서도에 따라 단계별로 실시하되 중앙부에서 흙막이 벽면 방향으로 실시하고 벌집대의 좌우 흙막이 벽체에 작용하는 토압이 균형을 이루도록 좌우 깊이를 동일하게 유지하면서 굴착하는 등 토사 및 흙막이 붕괴 방지에 필요한 조치를 하여야 한다.\n",
      "\n",
      "(6) 흙막이 벽면 주위에 소단을 남기고 중앙부를 굴착할 경우에 소단길이는 굴착고의 3배 이상을 유지하여 흙막이벽의 안정성을 확보하여야 한다.\n",
      "\n",
      "<그림 10> 흙막이 벽 소단\n",
      "\n",
      "(7) 굴착지면 및 지상에 장비 및 덤프트럭의 작업구간과 분리하여 근로자의 안전통로를 확보하여야 한다.\n",
      "\n",
      "(8) 흙막이 벽에서 토사와 함께 물이 유출될 우려가 있는 경우에는 흙주머니 채운, 약액 주입 등을 지수방법으로 토사유출을 방지하여야 한다.\n"
     ]
    },
    {
     "name": "stderr",
     "output_type": "stream",
     "text": [
      "INFO:httpx:HTTP Request: POST http://localhost:8000/v1/chat/completions \"HTTP/1.1 200 OK\"\n",
      " 94%|█████████▍| 15/16 [02:53<00:13, 13.41s/it]"
     ]
    },
    {
     "name": "stdout",
     "output_type": "stream",
     "text": [
      "--------------------------------\n",
      "Processed: (9) 우수 등 지표수 유입에 의한 이상 수압 등으로 흙막이 붕괴 사고가 발생치 않도록 흙막이 상부 지표면에 콘크리트 타설, 비닐 등의 설치와 배수로를 확보하여야 한다.\n",
      "\n",
      "(10) 흙막이 가시설 최상단에 굴착토사 및 버러 반출구를 지정한 후 동 반출구를 제외한 다른 부분에는 수평방향으로 낙하물방지망을 설치하는 등 낙석 및 낙하 사고 발생 방지에 필요한 조치를 하여야 한다.\n",
      "\n",
      "(11) 굴착토사 및 버러는 버킷(Bucket)의 높이 이하로 담아서 양중·운반하고 버팀대와 떠장 위에 있는 버러과 작업부산물 등은 수시로 제거하는 등 낙석과 낙하 사고 발생 방지에 필요한 조치를 하여야 한다.\n",
      "\n",
      "(12) 굴착토사·버러의 반출과 재료의 반입·반출시 굴착지면과 지상에 각각의 신호수를 배치하고 양중, 상차, 하차 등의 작업이 신호수의 신호에 의하여 실시되도록 하는 등 충돌, 협착, 낙하사고 방지에 필요한 조치를 하여야 한다.\n",
      "\n",
      "(13) 기타 굴착 작업에 관한 안전지침은 KOSHA GUIDE C-39-2011 굴착공사 안전작업 지침 및 KOSHA GUIDE C-63-2012 흙막이공사(C.I.P공법) 안전보건작업 지침에 따른다.\n",
      "\n",
      "7. 흙막이 가시설 해체 시 안전조치 사항\n",
      "\n",
      "(1) 흙막이 가시설 해체 전에 장비의 특성, 현장 주변상황, 작업내용 등을 고려하여 해체 시기, 해체 방법, 각 단계별 해체 순서, 안전조치사항 등의 내용이 포함된 흙막이 해체계획을 수립하고 동 내용을 준수하는 등 흙막이 해체시 추락, 낙하, 충돌 등 사고 발생 방지에 필요한 조치를 하여야 한다.\n",
      "\n",
      "(2) 흙막이 가시설 해체는 조립의 역순으로 하부로부터 순차적으로 실시하여야 한다.\n",
      "\n",
      "(3) 떠장, 버팀대 등의 해체 작업 시 반드시 안전대를 착용한 후 안전대 무착실비에 거는 등 추락방지조치를 하여야 한다.\n",
      "\n",
      "(4) 해체된 흙막이 재료의 양중은 달줄, 달포대를 이용하여 지상 야적장으로 안전하게 운반하여야 한다.\n"
     ]
    },
    {
     "name": "stderr",
     "output_type": "stream",
     "text": [
      "INFO:httpx:HTTP Request: POST http://localhost:8000/v1/chat/completions \"HTTP/1.1 200 OK\"\n",
      "100%|██████████| 16/16 [02:59<00:00, 11.20s/it]\n"
     ]
    },
    {
     "name": "stdout",
     "output_type": "stream",
     "text": [
      "--------------------------------\n",
      "Processed: (5) 띠장, 버팀대 해체 시 주변 지반 및 구조물에 영향이 미치지 않도록 흙막이와 축조물 사이에 되메우기와 충분한 다짐을 하여야 한다.\n",
      "\n",
      "(6) 엄지말뚝 인발과 버팀보, 띠장 등의 해체작업 시 근로자의 접근을 통제 하는 등 충돌, 협착, 낙하사고 발생 방지에 필요한 조치를 하여야 한다.\n",
      "\n",
      "(7) 기타 흙막이해체에 관한 안전작업은 KOSHA GUIDE C-39-2011 굴착공사 안전작업침의 규정에 따른다.\n",
      "---End---\n",
      "Processing 조경공사(수목식재작업) 안전보건작업지침\n"
     ]
    },
    {
     "name": "stderr",
     "output_type": "stream",
     "text": [
      "  0%|          | 0/14 [00:00<?, ?it/s]INFO:httpx:HTTP Request: POST http://localhost:8000/v1/chat/completions \"HTTP/1.1 200 OK\"\n"
     ]
    },
    {
     "name": "stdout",
     "output_type": "stream",
     "text": [
      "--------------------------------\n",
      "Processed: None\n",
      "페이지 1의 텍스트가 없습니다. 재시도합니다.\n"
     ]
    },
    {
     "name": "stderr",
     "output_type": "stream",
     "text": [
      "INFO:httpx:HTTP Request: POST http://localhost:8000/v1/chat/completions \"HTTP/1.1 200 OK\"\n",
      "  7%|▋         | 1/14 [00:04<01:03,  4.91s/it]"
     ]
    },
    {
     "name": "stdout",
     "output_type": "stream",
     "text": [
      "--------------------------------\n",
      "Processed: 조경공사(수목식재작업)의\n",
      "안전보건작업지침\n",
      "\n",
      "2013. 7.\n",
      "\n",
      "한국산업안전보건공단\n"
     ]
    },
    {
     "name": "stderr",
     "output_type": "stream",
     "text": [
      "INFO:httpx:HTTP Request: POST http://localhost:8000/v1/chat/completions \"HTTP/1.1 200 OK\"\n",
      " 14%|█▍        | 2/14 [00:13<01:25,  7.09s/it]"
     ]
    },
    {
     "name": "stdout",
     "output_type": "stream",
     "text": [
      "--------------------------------\n",
      "Processed: 안전보건기술지침의 개요\n",
      "\n",
      "○ 작성자 : 한국안전학회 박종근\n",
      "\n",
      "○ 제·개정 경과\n",
      "  - 2013년 7월 건설안전분야 제정위원회 심의(제정)\n",
      "\n",
      "○ 관련규격 및 자료\n",
      "  - KOSHA GUIDE C-48-2012 건설기계 안전보건작업 지침\n",
      "  - KOSHA GUIDE C-58-2012 사다리 안전보건작업 지침\n",
      "  - Safe use of ladders and stepladders(HSE)\n",
      "  - Stairways and ladders(OSHA)\n",
      "\n",
      "○ 관련법규 · 규칙 · 고시 등\n",
      "  - 산업안전보건기준에 관한 규칙 제24조, 제35조, 제38조, 제39조, 제40조, 제196조 ∼ 203조\n",
      "\n",
      "○ 기술지침의 적용 및 문의\n",
      "\n",
      "이 기술지침에 대한 의견 또는 문의는 한국산업안전보건공단 홈페이지 안전보건기술지침 소관 분야별 문의처 안내를 참고하시기 바랍니다.\n",
      "\n",
      "공표일자 : 2013년 8월 30일\n",
      "제 정 자 : 한국산업안전보건공단 이사장\n"
     ]
    },
    {
     "name": "stderr",
     "output_type": "stream",
     "text": [
      "INFO:httpx:HTTP Request: POST http://localhost:8000/v1/chat/completions \"HTTP/1.1 200 OK\"\n",
      " 21%|██▏       | 3/14 [00:24<01:37,  8.82s/it]"
     ]
    },
    {
     "name": "stdout",
     "output_type": "stream",
     "text": [
      "--------------------------------\n",
      "Processed: 조경공사(수목식재작업)의 안전보건작업지침\n",
      "\n",
      "1. 목 적\n",
      "\n",
      "이 지침은 조경공사의 수목식재작업 중 발생할 수 있는 장비에 의한 끼임, 자재 양중시 맞음, 근로자의 떨어짐 등의 재해를 예방할 수 있는 작업별 안전보건작업지침을 정함을 목적으로 한다.\n",
      "\n",
      "2. 적용범위\n",
      "\n",
      "이 지침은 조경공사의 수목식재작업을 위해 일반적으로 행해지는 모든 작업에 적용한다.\n",
      "\n",
      "3. 용어의 정의\n",
      "\n",
      "(1) 이 지침에서 사용되는 용어의 뜻은 다음과 같다.\n",
      "\n",
      "(가) “조경공사”라 함은 건축물 주변 대지에 수목식재, 조형물 등을 설치하는 것을 말한다.\n",
      "\n",
      "(나) “수목식재작업”이라 함은 나무를 심거나 잔디 등 지표식물을 입히는 작업을 말하며, 지표식물은 지표를 낮게 덮는 식물을 이르는 것을 말한다.\n",
      "\n",
      "(다) “수목정치”라 함은 수목을 식재목적에 맞도록 나무의 가지나 줄기 및 잎의 일부를 잘라내는 작업을 말한다.\n",
      "\n",
      "(라) “가이식”이라 함은 수목의 향후 본 이식을 목적으로 임시로 보관하는 것을 말한다.\n",
      "\n",
      "(마) “수목굴취”라 함은 산림 안에 살아 있는 나무를 다른 장소로 옮겨 심을 목적으로 나무의 뿌리까지 캐내는 행위를 말한다.\n"
     ]
    },
    {
     "name": "stderr",
     "output_type": "stream",
     "text": [
      "INFO:httpx:HTTP Request: POST http://localhost:8000/v1/chat/completions \"HTTP/1.1 200 OK\"\n",
      " 29%|██▊       | 4/14 [00:34<01:31,  9.15s/it]"
     ]
    },
    {
     "name": "stdout",
     "output_type": "stream",
     "text": [
      "--------------------------------\n",
      "Processed: (바) “수관”이라 함은 나무의 줄기와 잎이 많이 달려있는 줄기의 윗부분을 말한다.\n",
      "\n",
      "(사) “근원직경”이라 함은 수목의 규격을 표시할 때 지표면 부위의 나무줄기의 직경을 말한다.\n",
      "\n",
      "(아) “지주”이라 함은 식재한 나무가 바람에 흔들리는 것을 막고, 기계적인 장해로부터 보호하기 위해 인위적으로 나무를 지탱시키는 보조 장치를 말한다.\n",
      "\n",
      "(2) 그 밖의 이 지침에서 사용하는 용어의 정의는 이 지침에서 특별히 규정하는 경우를 제외하고는 산업안전보건법, 같은 법 시행령, 같은 법 시행규칙, 산업안전보건규칙 및 고시에서 정하는 바에 따른다.\n",
      "\n",
      "4. 조경공사의 식재작업별 안전사항\n",
      "\n",
      "조경공사의 식재작업 시에 <그림 1>과 같은 순서에 준하여 안전작업절차를 준수하여야 한다.\n",
      "\n",
      "설계도서 및 관련법규 검토\n",
      "↓\n",
      "수목정지작업\n",
      "↓\n",
      "수목굴취 및 운반작업\n",
      "↓\n",
      "기반조성작업\n",
      "↓\n",
      "식재작업/지주설치\n",
      "↓\n",
      "유지관리\n",
      "\n",
      "<그림 1> 조경공사의 식재작업 안전절차\n"
     ]
    },
    {
     "name": "stderr",
     "output_type": "stream",
     "text": [
      "INFO:httpx:HTTP Request: POST http://localhost:8000/v1/chat/completions \"HTTP/1.1 200 OK\"\n",
      " 36%|███▌      | 5/14 [00:44<01:26,  9.63s/it]"
     ]
    },
    {
     "name": "stdout",
     "output_type": "stream",
     "text": [
      "--------------------------------\n",
      "Processed: 4.1 일반안전사항\n",
      "\n",
      "(1) 조경공사는 현장여건과 설계도서(도면 및 시방서 등)를 검토하여 안전한 작업계획을 수립하여야 한다.\n",
      "\n",
      "(2) 모든 작업은 사전 위험성평가를 실시하여 잠재적 위험요인에 대한 안전대책을 수립하여야 한다.\n",
      "\n",
      "(3) 산업안전보건기준에 관한 규칙 별표 3에서 정하는 바에 따라 작업을 시작하기 전에 관리감독자로 하여금 필요한 사항을 점검하도록 하여야 한다.\n",
      "\n",
      "(4) 작업장의 지형, 지반 및 지층상태 등에 대한 사전조사를 실시하여 산업안전 보건기준에 관한 규칙 별표4의 구분에 따른 사항을 포함한 작업계획서를 작성하고, 그 내용을 근로자에게 주지시켜야 한다.\n",
      "\n",
      "(5) 차량계 하역운반기계, 차량계 건설기계, 중량물 취급 작업의 작업계획서를 작성하고, 작업지휘자를 지정하여 작업계획서에 따라 작업을 지휘하도록 하여야 한다.\n",
      "\n",
      "(6) 차량계 건설기계 사용 시 작업반경내 관계 근로자외의 사람을 출입금지 조치 또는 <그림 2>와 같이 유도자 배치 등 차량계 건설기계 접촉방지 조치를 철저히 하여야 한다. 또한 장비 운행시 승차석외 근로자 탑승을 금지하여야 한다.\n",
      "\n",
      "<그림 2> 장비의 유도자 배치\n"
     ]
    },
    {
     "name": "stderr",
     "output_type": "stream",
     "text": [
      "INFO:httpx:HTTP Request: POST http://localhost:8000/v1/chat/completions \"HTTP/1.1 200 OK\"\n",
      " 43%|████▎     | 6/14 [00:56<01:24, 10.53s/it]"
     ]
    },
    {
     "name": "stdout",
     "output_type": "stream",
     "text": [
      "--------------------------------\n",
      "Processed: 장비 작업 전에 브레이크, 후진경보등, 후방감지기 등 안전장치의 설치상태 및 과부하방지장치, 권과방지장치 등 방호장치에 대하여 검정기관의 검정 합격 여부, 운전원의 자격여부를 확인하여야 한다.\n",
      "\n",
      "강풍(10m/s이상) 등의 악천후 시 식재작업으로 인하여 근로자에게 위험을 미칠 우려가 있는 경우에는 작업을 중지해야 하며, 비, 눈, 그 밖의 기상상태의 불안정으로 날씨가 염습한 경우에는 산업안전보건기준에 관한 규칙 제37조 악천후 및 강풍시 작업중지 또는 제38조 철골장치 중지를 준용하여 작업을 중지하여야 한다.\n",
      "\n",
      "충전전로의 인근에서 작업 시에는 충전부로부터 300센티미터 이상 이격하거나 산업안전보건기준에 관한 규칙 제32조의 충전전로 인근에서 차량·기계장치 작업을 준수하여야 한다.\n",
      "\n",
      "수목정지작업\n",
      "\n",
      "수목식재 전 수목의 가지를 다듬어 주어야 하고, 지엽이 무성한 것은 속가지를 수형에 부합되게 정지해야하며, 근로자의 찔림 및 인양작업 시 옷 걸림사고를 예방하여야 한다.\n",
      "\n",
      "수목을 굽취하여 뿌리분 및 수관을 잘 포장해야 하며, 뿌리분 등의 포장은 새끼, 마대, 짚 등으로 싸매주어 뿌리 및 수피에 손상이 없도록 반드시 근로자 2인 이상 공동 작업을 실시하여야 한다.\n",
      "\n",
      "특수한 수목에 대하여 필요한 경우 굽취 전에 가지주를 세우고 수목굴취에 착수하여 수목의 넘어짐을 방지하여야 한다.\n"
     ]
    },
    {
     "name": "stderr",
     "output_type": "stream",
     "text": [
      "INFO:httpx:HTTP Request: POST http://localhost:8000/v1/chat/completions \"HTTP/1.1 200 OK\"\n",
      " 50%|█████     | 7/14 [01:11<01:22, 11.82s/it]"
     ]
    },
    {
     "name": "stdout",
     "output_type": "stream",
     "text": [
      "--------------------------------\n",
      "Processed: (4) 수목식재 전 수목의 가지치기 작업 시에 이동식 사다리를 사용할 때 뒤 집합 방지 조치를 실시하고 반드시 근로자 2인1조로 작업을 실시하여야 한다.\n",
      "\n",
      "(5) 계단식 사다리에서 작업 시에는 최상부 발판으로부터 상부 3개 발판에서의 작업은 금지하여야 한다.\n",
      "\n",
      "4.3 수목굴취 및 운반작업\n",
      "\n",
      "(1) 수목굴취에서 식재까지의 시간은 짧을수록 좋으며 운반 경로를 사전에 검토하여야 한다.\n",
      "\n",
      "(2) 수목의 굴취는 수직으로 파내려 가지 말고 주변의 상황에 따라 계단식으로 수목을 굴취 하여야 한다. 근원부의 잡초를 제거하고 근원직경의 3~5배 이상 크기로 뿌리분을 떠야 하며, 분의 흙이 떨어지지 않도록 새끼, 가마니, 철사, 보호재료로 결박시켜야 한다. 또한 수목 굴취시 수목이 넘어지는 것을 방지 하기 위하여 수목에 지주를 설치하여 고정해야 한다.\n",
      "\n",
      "(3) 수목의 운반에 지장이 되는 비교적 큰 가지를 제거하여야 하며 가지는 운반에 지장이 없도록 간편하게 결박하여야 한다. 또한 비포장 도로 운반 시에 충격을 받지 않도록 완충재를 이용하여야 한다.\n",
      "\n",
      "(4) 근로자작업과 장비작업 시 동시작업을 금지하여야 하며, 다만, 근로자와 장비가 동시작업을 하는 경우에는 신호수를 배치하고 작업하여야 한다.\n",
      "\n",
      "(5) 곡괭이 작업시 곡괭이의 상태를 점검하고, 2인이 한구덩이 안에서 동시 작업을 하지 못하도록 주지하거나 통제하여야 한다.\n",
      "\n",
      "(6) 인양용 공구를 이용한 중량의 수목 운반 작업 전에 와이어로프, 슬링벨트, 혹 안전고리, 샤크의 손상, 체결방법 등의 적합 여부를 점검해야하며, 주기적인 교체로 작업 중 와이어로프의 탈락 및 파단의 원인을 제거하여야 한다.\n"
     ]
    },
    {
     "name": "stderr",
     "output_type": "stream",
     "text": [
      "INFO:httpx:HTTP Request: POST http://localhost:8000/v1/chat/completions \"HTTP/1.1 200 OK\"\n",
      " 57%|█████▋    | 8/14 [01:21<01:08, 11.38s/it]"
     ]
    },
    {
     "name": "stdout",
     "output_type": "stream",
     "text": [
      "--------------------------------\n",
      "Processed: (7) 수목은 반입 당일에 식재하는 것이 원칙이나 부득이한 경우에는 가이식하여 수목을 보호하여야 한다.\n",
      "\n",
      "(8) 장비 작업구간에는 반드시 유도자 및 작업지휘자를 배치하여 정해진 운행 경로를 확보해야 하며, 화물자동차의 적재함에 근로자를 탑승시켜서는 안된다.\n",
      "\n",
      "(9) 운반 시에는 차량의 용량에 따라 적정 수량만을 적재하고 이중적재를 금지 시켜야 한다.\n",
      "\n",
      "(10) 수목을 운반 시에는 2개소 이상에 걸박하여 떨어짐을 방지하고, 수목식별 표지를 별도로 설치하여 이동시 부딪힘을 예방하여야 한다.\n",
      "\n",
      "(11) 장비를 이용하여 수목을 인양, 하차시 및 운반 장소의 작업반경내 관계 근로자외의 사람이 출입하지 못하도록 통제한 상태에서 작업해야 한다.\n",
      "\n",
      "(12) 수목의 운반 및 상·하차 시에는 <그림 3>과 같이 헝겊을 싸서 수목의 손상을 방지하고 대형목인 경우에는 체인 블럭이나 이동식 크레인을 사용하여야 한다. 이동식 크레인을 이용하여 상, 하차시 수목이 회전하지 않도록 걸이를 하여야 하며, 크레인 설치시에 넘어짐을 방지하기 위하여 지형 및 주변 상황에 맞게 장비위치를 선정하여야 한다.\n",
      "\n",
      "![그림 3] 수목 인양작업\n"
     ]
    },
    {
     "name": "stderr",
     "output_type": "stream",
     "text": [
      "INFO:httpx:HTTP Request: POST http://localhost:8000/v1/chat/completions \"HTTP/1.1 200 OK\"\n",
      " 64%|██████▍   | 9/14 [01:31<00:54, 10.83s/it]"
     ]
    },
    {
     "name": "stdout",
     "output_type": "stream",
     "text": [
      "--------------------------------\n",
      "Processed: (13) 줄걸이 용구의 안전유의 사항은 운반하역 표준안전 작업지침 및 KOSHA GUIDE C-48-2012 (건설기계 안전보건작업 지침)을 따른다.\n",
      "\n",
      "(14) 목도운반 등 인력 운반 시에는 허리에 재해가 발생할 수 있으므로 준비 운동을 실시하고, 가급적 높낮이 차이가 나지 않도록 키가 비슷한 근로자가 인양하도록 하여야 한다. 또한 근골계질환을 예방하기 위해서 KOSHA GUIDE H-65-2012 (사업장 근골계질환 예방 관리 프로그램)을 따른다.\n",
      "\n",
      "4.4 기반조성작업\n",
      "\n",
      "(1) 기반을 조성하는 공사 시에는 작업반경내 관계 근로자외의 사람이 출입하지 못하도록 통제한 상태에서 작업을 실시하여야 한다.\n",
      "\n",
      "(2) 지반이 평탄하지 않을 경우, 장비의 넘어짐 위험이 있으므로 장비 운반로는 고르게 정리하여야 한다.\n",
      "\n",
      "(3) 백호 버켓의 탈장착과 관련한 작업방법을 사전에 운전원에게 교육시키고, <그림 4>와 같이 이탈방지용 안전핀을 체결하는 등의 조치를 하여야 한다.\n",
      "\n",
      "<그림 4> 버켓 이탈방지핀 설치\n"
     ]
    },
    {
     "name": "stderr",
     "output_type": "stream",
     "text": [
      "INFO:httpx:HTTP Request: POST http://localhost:8000/v1/chat/completions \"HTTP/1.1 200 OK\"\n",
      " 71%|███████▏  | 10/14 [01:45<00:47, 11.76s/it]"
     ]
    },
    {
     "name": "stdout",
     "output_type": "stream",
     "text": [
      "--------------------------------\n",
      "Processed: (4) 조경 부지정리 작업 시 토사의 무너짐 위험 등이 없는지 주변 지반상태를 확인하여야 한다.\n",
      "\n",
      "(5) 차량계 건설기계를 이용한 고르기 작업 및 수목규격에 맞는 구덩이 파기 작업 시에는 유도자를 배치하여 신호에 따라 작업 및 이동 하여야 한다.\n",
      "\n",
      "4.5 식재작업\n",
      "\n",
      "(1) 식재 전 주변 홍 정리와 경관을 고려한 식재작업을 위한 홍쌓기(마운딩) 조형을 선행하고 주변 홍 레벨보다 약간 높게 심어야 한다.\n",
      "\n",
      "(2) 식재를 위한 구덩이는 근로자 2명 이상 작업을 금지하여 파고, 설계도서에 의한 수종 및 규격에 따라 지정된 소정의 비료 또는 퇴비를 넣은 후 양질토로 5cm 정도 덮고, 그 위에 수목을 앉혀서 식재하여야 하며 근로자와 장비가 동시작업 시 근로자의 식별이 용이한 장소에서 작업을 실시하여야 한다.\n",
      "\n",
      "(3) 차량계 건설기계를 주용도 외의 용도로 사용하여서는 아니 되며 수목을 인양하여 식재하는 때에는 이동식크레인을 사용하여 작업을 진행하여야 한다.\n",
      "\n",
      "(4) 이동식 크레인은 아웃트리거를 설치하고, 와이어로프, 슬링벨트, 혹 안전 고리, 샤크의 상태, 혹 해지장치의 상태 등을 수시 점검해야 한다.\n",
      "\n",
      "(5) 이동식 크레인의 아웃트리거 설치시 받침 등 메트나 미끄럼 방지장치를 준비하여 지지를 확보한 건고한 받침판을 걸고 설치하여야 한다.\n",
      "\n",
      "(6) 수목 하역 및 식재장소로는 굴착 면에서 충분히 이격된 평탄하고 다짐이 잘 되어 있는 안전한 장소를 선정하고, 수목이 움직이지 않도록 받침목을 설치하는 등 적절한 조치를 하여야 한다.\n"
     ]
    },
    {
     "name": "stderr",
     "output_type": "stream",
     "text": [
      "INFO:httpx:HTTP Request: POST http://localhost:8000/v1/chat/completions \"HTTP/1.1 200 OK\"\n",
      " 79%|███████▊  | 11/14 [01:58<00:36, 12.19s/it]"
     ]
    },
    {
     "name": "stdout",
     "output_type": "stream",
     "text": [
      "--------------------------------\n",
      "Processed: (7) 중량 80kg이상의 수목을 근로자 2명 이상이 목도 운반하는 때에는 준비 운동 및 일정한 신호방법을 정하고, 신호방법에 따라 작업을 실시하여야 한다.\n",
      "\n",
      "(8) 인양작업 시 가지치기 작업으로 나뭇가지에 옷 등이 걸리지 않도록 하고, 와이어로프, 섬유로프 등으로 2줄 걸이 하는 등의 혼들리지 않도록 균형을 유지하는 방법으로 수목이 탈락되지 않도록 조치를 하여야 한다.\n",
      "\n",
      "(9) 수목 인양로프는 끊어지지 않도록 견고한 것을 사용하고 허용중량이상의 강도를 가진 로프를 사용하여야 한다.\n",
      "\n",
      "(10) 식재는 설계 위치에 뿌리분 크기의 약 1.5배 이상으로 여유있게 구덩이를 파고 식물생육에 유해한 자갈, 불순물 등을 제거한 다음, 좋은 흙을 넣고 바닥을 부드럽게 하여야 한다.\n",
      "\n",
      "(11) 식재를 위하여 뿌리 절단 시 삼납이나 곡괭이를 이용하여 자르지 않도록 해야 하고, 가위나 톱을 이용하여 잘라야 한다.\n",
      "\n",
      "(12) 식재 작업 시에 수목이 넘어지지 않도록 보조 지주을 설치하고 필요시 장비를 이용하여 고정 시까지 지지조치를 하여야 한다.\n",
      "\n",
      "(13) 삽이나 곡괭이 사용에 의한 인력굴착 작업 시 좁은 공간에서 다수의 인원의 작업을 금지해야 하며, 근로자 상호간 사고를 방지하기 위해 작업 중에 2m이상의 충분한 거리를 유지하여야 한다.\n",
      "\n",
      "(14) 근로자 작업과 차량계 건설기계작업 시 동시작업을 금지해야 하며, 다만, 근로자와 장비가 동시작업을 하게 되는 경우에는 신호수를 배치하고 작업하여야 한다.\n"
     ]
    },
    {
     "name": "stderr",
     "output_type": "stream",
     "text": [
      "INFO:httpx:HTTP Request: POST http://localhost:8000/v1/chat/completions \"HTTP/1.1 200 OK\"\n",
      " 86%|████████▌ | 12/14 [02:09<00:24, 12.01s/it]"
     ]
    },
    {
     "name": "stdout",
     "output_type": "stream",
     "text": [
      "--------------------------------\n",
      "Processed: (15) 경사면 식재작업 시 근로자가 떨어지지 않도록 안전대 부착설비를 설치하고, 안전대를 착용하고 작업을 하여야 한다.\n",
      "\n",
      "(16) 강풍 시 사고 위험성이 있으므로 풍속의 크기를 측정하여 확인하고, 풍속이 초당 10미터를 초과하는 경우에는 작업을 중지하여야 한다.\n",
      "\n",
      "(17) 충전전로에 인근 작업 시 크레인 등은 충전전로의 충전부로부터 300센티미터 이상 이격하거나 산업안전보건기준에 관한 규칙 제322조의 충전전로 인근에서 차량·기계장치 작업을 준수하고 신호수를 배치하여 고압선에 접촉하지 않도록 하여야 한다.\n",
      "\n",
      "4.6 지주설치작업\n",
      "\n",
      "(1) 지주목 설치 및 가지치기 작업은 발판을 설치하거나 고소작업대 사용을 원칙으로 하여야 한다.\n",
      "\n",
      "(2) 지주는 못 박기, 철선 결박 등을 튼튼히 하여 혼들림이 없도록 하여야 하며, 결박하는 부위의 철선은 완충재를 대어 수목에 직접 닿지 않도록 고무판을 대주고 끈으로 묶음으로써 수목의 손상을 방지하여야 한다.\n",
      "\n",
      "(3) 삼각형 지주 등은 수목의 교착하는 부분에 2곳 이상 결속하여야 한다. 또한 강풍에 의한 혼들림을 방지하여 수목 활착이 원활히 이루어지도록 하여야 한다.\n",
      "\n",
      "(4) 지주 적재 시에는 근로자가 걸려 넘어지지 않도록 자재를 정리하고, 통로를 확보 하여야 한다.\n"
     ]
    },
    {
     "name": "stderr",
     "output_type": "stream",
     "text": [
      "INFO:httpx:HTTP Request: POST http://localhost:8000/v1/chat/completions \"HTTP/1.1 200 OK\"\n",
      " 93%|█████████▎| 13/14 [02:18<00:10, 10.91s/it]"
     ]
    },
    {
     "name": "stdout",
     "output_type": "stream",
     "text": [
      "--------------------------------\n",
      "Processed: (5) 식재지역에 지반침하가 우려되는 경우에는 지주가 유동하지 않도록 조치하여야 한다.\n",
      "\n",
      "(6) 지주 설치 시에는 결박작업 시 키임 사고가 발생하지 않도록 가급적 근로자 2인 1조 작업을 실시하여야 한다.\n",
      "\n",
      "(7) 사다리를 이용한 수목에 지주 연결 작업 시에는 보조로프를 사용하여 사다리가 넘어지지 않도록 <그림 5>와 같이 수목과 결속을 실시하여야 한다.\n",
      "\n",
      "(8) 근로자가 떨어지는 것을 방지하기 위하여 <그림 6>과 같이 안전대 부착 설비를 설치하고, 안전대를 착용하여 승하강을 하여야 한다.\n",
      "\n",
      "(9) 지주 운반 시에는 적정한 중량을 초과하지 않도록 하여 근골격계에 무리한 부담을 주지 아니하여야 하며, 신체에 부담을 감소시킬 수 있는 자세를 근로자에게 추시시켜야 한다. 중량물 취급 작업 시에는 KOSHA GUIDE H-66-2012 (근골계질환 예방을 위한 작업환경개선 지침)을 따른다.\n"
     ]
    },
    {
     "name": "stderr",
     "output_type": "stream",
     "text": [
      "INFO:httpx:HTTP Request: POST http://localhost:8000/v1/chat/completions \"HTTP/1.1 200 OK\"\n",
      "100%|██████████| 14/14 [02:28<00:00, 10.57s/it]\n"
     ]
    },
    {
     "name": "stdout",
     "output_type": "stream",
     "text": [
      "--------------------------------\n",
      "Processed: 4.7 유지관리\n",
      "\n",
      "(1) 가지치기 작업 시에는 근로자가 떨어지지 않도록 안전대 부착설비 설치 및 안전대를 착용후 작업을 실시해야 하며, 작업 종료시에 주변 정리정돈을 하여야 한다.\n",
      "\n",
      "(2) 비료 등 운반 시에 25kg이상 초과하여 운반하지 않도록 주의하며 운반시에는 올바른 자세를 유지하여 무리한 작업을 금지하여야 한다. 중량물 취급 작업 시에는 KOSHA GUIDE H-66-2012 (근골계질환 예방을 위한 작업환경개선 지침)을 따른다.\n",
      "\n",
      "(3) 가지치기를 할 경우 수형이 파괴되지 않는 범위 내에서 실시하며 이동식 사다리 사용시 근로자 2인 1조로 작업하여야 한다. 이동식 사다리를 사용하는 작업은 KOSHA-GUIDE C-48-2012 (사다리 안전보건작업 지침)을 따른다.\n",
      "\n",
      "(4) 지속적인 물주기 및 병충해 방제 작업을 하여야 하며, 방제 작업 시에는 방독마스크 등 개인보호구를 착용하여야 한다.\n",
      "\n",
      "(5) 약제 살포 작업 시에는 유해·위험 물질에 대한 물질안전보건자료(MSDS)를 파악하여 취급시의 주의사항 등을 근로자에게 교육시켜야 한다.\n",
      "---End---\n",
      "Processing 갱폼(Gang form) 제작 및 사용안전 지침\n"
     ]
    },
    {
     "name": "stderr",
     "output_type": "stream",
     "text": [
      "  0%|          | 0/15 [00:00<?, ?it/s]INFO:httpx:HTTP Request: POST http://localhost:8000/v1/chat/completions \"HTTP/1.1 200 OK\"\n",
      "  7%|▋         | 1/15 [00:02<00:32,  2.30s/it]"
     ]
    },
    {
     "name": "stdout",
     "output_type": "stream",
     "text": [
      "--------------------------------\n",
      "Processed: 갱폼(Gang form) 제작 및 사용안전 지침\n",
      "\n",
      "2011. 12\n",
      "\n",
      "한국산업안전보건공단\n"
     ]
    },
    {
     "name": "stderr",
     "output_type": "stream",
     "text": [
      "INFO:httpx:HTTP Request: POST http://localhost:8000/v1/chat/completions \"HTTP/1.1 200 OK\"\n",
      " 13%|█▎        | 2/15 [00:12<01:32,  7.14s/it]"
     ]
    },
    {
     "name": "stdout",
     "output_type": "stream",
     "text": [
      "--------------------------------\n",
      "Processed: 안전보건기술지침 개요\n",
      "\n",
      "- 작성자: 안전보건공단 유일렬\n",
      "- 개정자: 안전보건공단 건설업재해예방실\n",
      "\n",
      "- 제·개정경과\n",
      "  - 1999년 11월 건설안전분야 기준제정위원회 심의\n",
      "  - 1999년 12월 총괄 기준제정위원회 심의\n",
      "  - 2005년 11월 건설안전분야 기준제정위원회 심의\n",
      "  - 2005년 12월 총괄 기준제정위원회 심의\n",
      "  - 2011년 12월 건설안전분야 제정위원회 심의(개정, 법규개정조항 반영)\n",
      "\n",
      "- 관련규격 및 자료\n",
      "  - 갱폼(Gang form) 제작사 시방서\n",
      "\n",
      "- 관련 법규, 규칙, 고시 등\n",
      "  - 산업안전보건기준에 관한 규칙 제1편 제6장 제1절(추락에 의한 위험방지)\n",
      "  - 산업안전보건기준에 관한 규칙 제2편 제4장 제1절(거푸집동바리 및 거푸집)\n",
      "\n",
      "- 기술지침의 적용 및 문의\n",
      "  이 기술지침에 대한 의견 또는 문의는 한국산업안전보건공단 홈페이지 안전보건기술지침 소관 문의처 안내를 참고하시기 바랍니다.\n",
      "\n",
      "공표일자: 2011년 12월 29일\n",
      "제 정 자: 한국산업안전보건공단 이사장\n"
     ]
    },
    {
     "name": "stderr",
     "output_type": "stream",
     "text": [
      "INFO:httpx:HTTP Request: POST http://localhost:8000/v1/chat/completions \"HTTP/1.1 200 OK\"\n",
      " 20%|██        | 3/15 [00:23<01:44,  8.71s/it]"
     ]
    },
    {
     "name": "stdout",
     "output_type": "stream",
     "text": [
      "--------------------------------\n",
      "Processed: 갱폼(Gang form) 제작 및 사용안전 지침\n",
      "\n",
      "1. 목적\n",
      "\n",
      "이 지침은 산업안전보건에 관한 규칙(이하 ‘산업보건규칙’이라 한다) 제330조(거푸집 동바리 등의 구조)와 관련하여 아파트 공사에서 외부벽체 거푸집과 작업발판 겸용으로 사용하는 갱폼에 대한 제작 및 구비하여야 할 안전상의 설비기준과 사용 시의 안전작업 기준을 정하여 작업과정에서 발생할 수 있는 재해의 예방을 목적으로 한다.\n",
      "\n",
      "2. 적용범위\n",
      "\n",
      "이 지침은 갱폼의 공장제작 및 현장에서의 조립, 사용시에 적용한다.\n",
      "\n",
      "3. 용어의 정의\n",
      "\n",
      "(1) 이 지침에서 사용되는 용어의 정의는 다음과 같다.\n",
      "\n",
      "(가) \"갱폼(Gang form)\"이라 함은 주로 고층 아파트에서의 평면상 상, 하부 동일 단면 구조물에서 외부벽체 거푸집과 거푸집 설치, 해체작업 및 미장, 치장(견출) 작업발판용 케이지(Cage)를 일체로 제작하여 사용하는 대형 거푸집을 말한다.\n",
      "\n",
      "(나) \"케이지(Cage)\"라 함은 갱폼에서 외부벽체 거푸집 부분을 제외한 부분으로 거푸집 설치, 해체작업, 후속 미장, 치장(견출) 등 작업을 안전하게 수행하는데 필요한 작업발판, 안전난간 등으로 구성되어 갱폼 거푸집에 결합된 부분을 말한다.\n"
     ]
    },
    {
     "name": "stderr",
     "output_type": "stream",
     "text": [
      "INFO:httpx:HTTP Request: POST http://localhost:8000/v1/chat/completions \"HTTP/1.1 200 OK\"\n",
      " 27%|██▋       | 4/15 [00:34<01:46,  9.72s/it]"
     ]
    },
    {
     "name": "stdout",
     "output_type": "stream",
     "text": [
      "--------------------------------\n",
      "Processed: (다) “상부 케이지”라 함은 갱폼 케이지의 4단 작업발판 중 거푸집 설치·해체 작업 용으로 사용되는 상부 2단 작업발판 구성 부분을 말한다.\n",
      "\n",
      "(라) “하부 케이지”라 함은 미장·치장(건출) 작업용으로 사용되는 하부 2단 작업발판 구성 부분을 말한다.\n",
      "\n",
      "(2) 기타 이 지침에서 사용하는 용어의 정의는 특별한 규정이 있는 경우를 제외하고는 산업안전보건법, 같은 법 시행령, 같은 법 시행규칙, 안전보건규칙 및 기타 고시에서 정하는 바에 따른다.\n",
      "\n",
      "4. 갱폼의 제작\n",
      "\n",
      "4.1 제작원칙\n",
      "\n",
      "(1) 갱폼은 외부벽체 콘크리트 거푸집으로서의 기능과 외부벽체에서의 위험작업들을 안전하게 수행할 수 있는 작업발판으로서의 기능을 동시에 만족할 수 있도록 그 구조적·설비상의 안전성을 확보하여야 한다.\n",
      "\n",
      "(2) 갱폼은 공장에서 제작되어 일단 현장에 투입되면 사용과정에서 변형·수정하기 어려우므로 제작 계획시 사용과정에서 발생될 수 있는 문제점을 면밀히 검토·반영하여야 한다.\n",
      "\n",
      "4.2 갱폼제작시의 안전설비 기준\n",
      "\n",
      "4.2.1 인양고리(Lifting bar)\n",
      "\n",
      "(1) 갱폼 인양고리는 갱폼의 전하중을 안전하게 인양할 수 있는 안전율 5이상의 부재를 사용하여 인양시 갱폼에 변형을 주지 않는 구조로 하여야 한다.\n"
     ]
    },
    {
     "name": "stderr",
     "output_type": "stream",
     "text": [
      "INFO:httpx:HTTP Request: POST http://localhost:8000/v1/chat/completions \"HTTP/1.1 200 OK\"\n",
      " 33%|███▎      | 5/15 [00:42<01:30,  9.02s/it]"
     ]
    },
    {
     "name": "stdout",
     "output_type": "stream",
     "text": [
      "--------------------------------\n",
      "Processed: (2) 냉간 압연의 $\\Phi 22$ mm 환봉(Round steel bar)을 U-베타(Bending) 하여 거푸집 상부 수평재(C-channel) 뒷면에 용접 고정한다. 환봉 벤딩시의 최소반경(R)은 1500 mm 이상으로 한다.\n",
      "\n",
      "(3) 갱폼의 길이 및 하중에 따른 인양고리의 수량과 길이를 예시하면 다음 <표 1> 및 <그림 1>과 같다.\n",
      "\n",
      "<표 1> 인양고리의 수량 및 길이\n",
      "\n",
      "| 거푸집의 길이(m) | 인양고리 수량(개) | 인양고리의 길이(전장, cm) |\n",
      "|------------------|------------------|--------------------------|\n",
      "| 1.5 이하         | 2                | 70                       |\n",
      "| 1.5 ~ 6         | 2                | 150                      |\n",
      "| 6 이상          | 2                | 200                      |\n",
      "\n",
      "<그림 1> 갱폼 인양고리 설치예\n"
     ]
    },
    {
     "name": "stderr",
     "output_type": "stream",
     "text": [
      "INFO:httpx:HTTP Request: POST http://localhost:8000/v1/chat/completions \"HTTP/1.1 200 OK\"\n",
      " 40%|████      | 6/15 [00:55<01:34, 10.51s/it]"
     ]
    },
    {
     "name": "stdout",
     "output_type": "stream",
     "text": [
      "--------------------------------\n",
      "Processed: 4.2.2 안전난간\n",
      "\n",
      "갱폼에서 작업용 발판이 설치되는 지점(위치)의 상부 케이지 외측과 하부 케이지 내·외측에는 발판 바닥면으로부터 각각 45 cm ~ 60 cm 높이에 중간난간대, 90 cm ~ 120 cm 높이에 상부난간대를 바닥면과 평행으로 설치하여야 한다. 다만, 근로자의 작업발판 연결통로로 사용되는 하부 케이지 내측 부분에는 안전난간을 설치하지 아니한다.\n",
      "\n",
      "4.2.3 추락방호대\n",
      "\n",
      "상부 케이지 외측 수직재(각파이프)는 거푸집 상단 높이보다 1.2 m 이상 높게 설치하고 그 상단과 중앙에 안전난간대를 2줄로 설치하여 슬라브 상부, 단부 작업자의 갱폼 외부로의 추락 및 낙하물을 방호한다.\n",
      "\n",
      "4.2.4 갱폼 케이지간의 간격\n",
      "\n",
      "갱폼 거푸집을 연결, 조립하는 결속 브라켓(Joint bracket) 부분의 케이지 수직재 및 발판재간의 간격은 갱폼 인양시 케이지간의 충돌을 방지하는 데 필요한 최소한의 간격 20 cm를 초과하지 않도록 제작·설치하여 근로자의 브라켓 결속작업 또는 작업발판 이동시 추락을 방호하여야 한다.\n",
      "\n",
      "4.2.5 케이지 코너 마무리\n",
      "\n",
      "갱폼 거푸집과 거푸집이 90°로 만나는 건물 코너부 케이지는 4.2.4항의 케이지 및 작업발판 간격을 유지할 수 있도록 <그림 2> 에시도와 같이 케이지 및 작업발판의 외측부재를 내측보다 45° 각도로 길게 제작하여 사다리꼴로 코너 마무리 하여야 한다.\n"
     ]
    },
    {
     "name": "stderr",
     "output_type": "stream",
     "text": [
      "INFO:httpx:HTTP Request: POST http://localhost:8000/v1/chat/completions \"HTTP/1.1 200 OK\"\n",
      " 47%|████▋     | 7/15 [01:03<01:16,  9.59s/it]"
     ]
    },
    {
     "name": "stdout",
     "output_type": "stream",
     "text": [
      "--------------------------------\n",
      "Processed: 4.2.6 작업발판의 설치\n",
      "\n",
      "(1) 케이지 내부 작업발판 중 상부 3단은 50 cm 폭으로, 하부 1단은 60 cm 폭으로 케이지 중앙부에 설치하되, 발판 띠장재 각파이프를 발판의(폭) 양단에 2줄 또는 3줄로 케이지 가로재에 용접 고정하여 케이지 내에서 작업발판 양쪽의 틈이 10 cm 이내가 되도록 한다.\n",
      "\n",
      "(2) 발판재로는 유공 아연도 강판 또는 익스텐디드 메탈(Extended metal)을 발판폭에 맞추어 발판 띠장재에 조립․용접한다.\n",
      "\n",
      "(3) 작업발판 내·외측 단부에는 자재, 공구 등의 낙하를 방지하기 위하여 높이 10 cm 이상의 발 끝막이판을 설치한다.\n",
      " 단, 작업발판 외부에 수직보호망을 설치하는 등 예방조치를 한 경우에는 제외한다.\n"
     ]
    },
    {
     "name": "stderr",
     "output_type": "stream",
     "text": [
      "INFO:httpx:HTTP Request: POST http://localhost:8000/v1/chat/completions \"HTTP/1.1 200 OK\"\n",
      " 53%|█████▎    | 8/15 [01:11<01:04,  9.19s/it]"
     ]
    },
    {
     "name": "stdout",
     "output_type": "stream",
     "text": [
      "--------------------------------\n",
      "Processed: 4.2.7 작업발판 연결통로\n",
      "\n",
      "갱폼에는 근로자가 안전하게 구조물 내부에서 작업발판으로 출입・이동할 수 있도록 작업발판의 연결, 이동 통로를 설치하여야 한다.\n",
      "\n",
      "(1) 갱폼을 측벽에만 설치하는 경우\n",
      "\n",
      "(가) 갱폼을 건물의 측벽에만 설치하는 경우에는 평면상과 구조적으로 건물의 전・후면 발코니측에서 측벽 갱폼의 작업발판으로 안전하게 이동할 수 있는 연결 통로를 설치하기가 어려우므로, <그림 3>과 같이 근로자가 슬라브 콘크리트 최근 타설층에서 작업발판으로 이동할 수 있는 수직형 승강사다리를 갱폼 내 측에 견고하게 설치하고 사다리가 위치하는 작업발판 부분은 정첩을 이용하여 여닫이 문(뚜껑)을 설치하여야 한다.\n",
      "\n",
      "(나) 동일 갱폼내에서 승강사다리의 위치는 작업발판의 각 단에서 서로 엇갈리게 설치하고 갱폼의 양측면에는 안전난간과 안전망을 설치하여 폐쇄한다.\n"
     ]
    },
    {
     "name": "stderr",
     "output_type": "stream",
     "text": [
      "INFO:httpx:HTTP Request: POST http://localhost:8000/v1/chat/completions \"HTTP/1.1 200 OK\"\n",
      " 60%|██████    | 9/15 [01:24<01:02, 10.34s/it]"
     ]
    },
    {
     "name": "stdout",
     "output_type": "stream",
     "text": [
      "--------------------------------\n",
      "Processed: (2) 갯폼을 측벽과 전·후면에 모두 설치하는 경우\n",
      "\n",
      "(가) 측벽 갯폼의 작업발판과 전·후면 갯폼의 작업발판이 같은 높이가 되도록 설계·제작하여 전체 또는 일정구간의 작업발판이 연결통로가 되도록 하여야 한다.\n",
      "\n",
      "(나) 필요에 따라 구조물 내부에 1~2 개소를 작업발판 연결통로로 지정하고 그 위치에는 작업자가 슬라브 바닥에서 안전하게 갯폼의 작업발판으로 출입할 수 있는 일정높이의 이동식 계단을 제작·설치하여야 한다.\n",
      "\n",
      "(다) 구조물 평면상의 형태에 요철이 있는 경우에는 작업발판 연결, 이동통로 확보를 위하여 작업발판을 40㎝이상 넓게 설치하거나 겹쳐서 설치하여야 한다.\n",
      "\n",
      "(라) 갯폼 작업발판을 관통하여 콘크리트 압송관을 설치하는 경우에는 근로자가 작업발판에서 이동시 추락재해가 발생하지 않도록 작업발판 내측(구조물측) 일부만따내어 콘크리트 압송관을 설치한다.\n",
      "\n",
      "5. 갯폼 사용시의 작업안전\n",
      "\n",
      "5.1 조립자재의 반입과 관리\n",
      "\n",
      "(1) 현장에 조립용으로 입고되는 자재(케이지, 발판재 등)는 변형되거나, 비에 맞아 녹슬지 않도록 평평한 바닥에 침목 등을 깔아 보관한다.\n",
      "\n",
      "(2) 갯폼자재가 입고되기전 아적장, 조립작업장 등을 준비하고 갯폼 조립 안전작업계획을 수립하여 용접·볼팅 등 조립작업과 인양설비 등을 점검한다.\n",
      "\n",
      "(3) 반입차량의 진출입로를 점검한다.\n",
      "\n",
      "(4) 하차시 장비, 인양설비 등을 점검하고 안전사고에 주의한다.\n"
     ]
    },
    {
     "name": "stderr",
     "output_type": "stream",
     "text": [
      "INFO:httpx:HTTP Request: POST http://localhost:8000/v1/chat/completions \"HTTP/1.1 200 OK\"\n",
      " 67%|██████▋   | 10/15 [01:38<00:57, 11.51s/it]"
     ]
    },
    {
     "name": "stdout",
     "output_type": "stream",
     "text": [
      "--------------------------------\n",
      "Processed: 5.2 현장 조립작업\n",
      "\n",
      "(1) 거푸집을 도면에 따라 부위별로 정확하게 설치한다. 콘크리트 타설시의 진동이나 충격으로 변형되거나 움직이지 않도록 조립하고, 거푸집 상호 이음부는 볼트를 사용하여 조립부위에 결합이 생기지 않도록 정확하게 설치한다.\n",
      "\n",
      "(2) 거푸집의 철판이 도장된 상태에서 외관상 휘이나 변형이 없는지, 설계도면의 첫수와 잘 맞는지 점검한 후 정확히 조립한다.\n",
      "\n",
      "(3) 현장여건에 따라 콘크리트 타설전 잔여자재(각재, 전기배관재, 형틀부속자재 등)를 올려 놓을 수 있는 자재보관대를 갱폼 상단에 설치하여 낙하물 사고를 예방한다. 이때 중량물을 올려 놓아서는 안된다.\n",
      "\n",
      "(4) 케이지 외부 수직보호망은 안전성 및 내구성을 갖춘 제품으로써 가설기자재 성능 검정 규격 승인 제품을 사용하여 확실히 고정한다.\n",
      "\n",
      "(5) 동절기에는 매립볼트와 철선을 동시에 사용하여 볼트의 빠짐에 대비한다.\n",
      "\n",
      "5.3 갱폼 설치·해체작업\n",
      "\n",
      "5.3.1 갱폼 작업안전 일반사항\n",
      "\n",
      "(1) 갱폼 설치·해체작업은 사전 작업방법, 작업순서, 점검항목, 점검기준 등에 관한 안전작업 계획을 수립하고, 작업시 관리감독자를 지정하여 전 작업과정을 지휘·감독 하도록 하여야 한다.\n",
      "\n",
      "(2) 작업진 해당 근로자에게 안전작업 계획의 내용을 주지시키고, 특별안전교육을 실시하여야 한다.\n",
      "\n",
      "(3) 갱폼작업에는 가능한 경험이 많은 숙련공을 고정 투입하여야 한다.\n",
      "\n",
      "(4) 갱폼 작업자는 지정된 설비를 갖춘 작업발판 연결통로를 이용하여 갱폼 내부로 출입하여야 한다.\n"
     ]
    },
    {
     "name": "stderr",
     "output_type": "stream",
     "text": [
      "INFO:httpx:HTTP Request: POST http://localhost:8000/v1/chat/completions \"HTTP/1.1 200 OK\"\n",
      " 73%|███████▎  | 11/15 [01:53<00:49, 12.42s/it]"
     ]
    },
    {
     "name": "stdout",
     "output_type": "stream",
     "text": [
      "--------------------------------\n",
      "Processed: 5.3.2 갱폼 설치작업\n",
      "\n",
      "(1) 폼타이 볼트는 내부 유로폼과의 간격을 유지할 수 있도록 정확하게 설치하여야 한다. 폼타이 볼트는 정해진 규격의 것을 사용하고 볼트의 길이가 갱폼 거푸집 밖으로 10 cm 이상 튀어나오지 않는 것으로 소요수량 전량을 확인·간결하여야 한다.\n",
      "\n",
      "(2) 설치후 거푸집 설치상태의 견고성과 뒤틀림 및 변형여부, 부속철물의 위치와 간격, 접합정도와 용접부의 이상유무를 확인하여야 한다.\n",
      "\n",
      "(3) 갱폼 인양시 충돌한 부분은 반드시 용접부위 등을 확인·점검하고 수리·보강하여야 한다.\n",
      "\n",
      "(4) 갱폼이 미끄러질 우려가 있는 경우에는 안쪽 콘크리트 슬라브에 고정용 앵커(타설시 매입)를 설치하여 와이어로프로 2개소 이상 고정하여야 한다.\n",
      "\n",
      "(5) 피로 하중으로 인한 갱폼의 낙하를 방지하기 위하여 하부 앵커볼트는 5개층 사용시마다 점검하여 상태에 따라 교체하여야 한다.\n",
      "\n",
      "(6) <그림 4>와 같이 건설용리프트 운행구간 상부에 설치된 갱폼의 하부케이지가 리프트의 마스트에 접촉되어 접촉구간에 갱폼 하부케이지를 설치하지 않을 경우에는 리프트 설치 위치의 좌·우측 작업자 이동통로 단부에 안전난간을 설치하고 또한, 슬래브 거푸집 해체 시 낙하·비례예방을 위하여 상부케이지 내측 수직부재와 결속하여 수직으로 가설기자재 성능검정규격 승인제품의 수직보호망을 설치한다.\n",
      "\n",
      "5.3.3 갱폼 해체·인양작업\n",
      "\n",
      "(1) 갱폼 해체작업은 콘크리트 타설후 충분한 양생기간이 지난 후 행하여야 한다.\n",
      "\n",
      "(2) 동별, 부위별, 부재별 해체순서를 정하고 해체된 갱폼자재 적치계획을 수립하여야 한다.\n"
     ]
    },
    {
     "name": "stderr",
     "output_type": "stream",
     "text": [
      "INFO:httpx:HTTP Request: POST http://localhost:8000/v1/chat/completions \"HTTP/1.1 200 OK\"\n",
      " 80%|████████  | 12/15 [02:01<00:33, 11.10s/it]"
     ]
    },
    {
     "name": "stdout",
     "output_type": "stream",
     "text": [
      "--------------------------------\n",
      "Processed: (3) 해체·인양장비(타워크레인 또는 데릭과 체인블록)를 점검하고 작업자를 배치한다.\n",
      "\n",
      "(4) 갱폼 해체작업은 갱폼을 인양장비에 매단 상태에서 실시하여야 하고, 하부 엠커 볼트 부위에 “해체 작업전 인양장비에 결속확인” 등 안전표지판을 부착하여 관리한다.\n",
      "\n",
      "(5) 해체작업중인 갱폼에는 “해체중”임을 표시하는 표지판을 게시하고 하부에 출입금지 구역을 설정하여 작업자의 접근을 금지토록 감시자를 배치한다.\n",
      "\n",
      "(6) 갱폼 인양작업은 폼타이 볼트해체 등 해체작업 완료상태와 해체작업자 철수여부를 확인한 후 실시한다.(갱폼인양시 케이지에 작업자의 탑승은 절대금지)\n",
      "\n",
      "(7) 타워크레인으로 갱폼을 인양하는 경우 보조 로프를 사용하여 갱폼의 출렁임을 최소화 한다.\n"
     ]
    },
    {
     "name": "stderr",
     "output_type": "stream",
     "text": [
      "INFO:httpx:HTTP Request: POST http://localhost:8000/v1/chat/completions \"HTTP/1.1 200 OK\"\n",
      " 87%|████████▋ | 13/15 [02:17<00:24, 12.48s/it]"
     ]
    },
    {
     "name": "stdout",
     "output_type": "stream",
     "text": [
      "--------------------------------\n",
      "Processed: (8) 데릭(Derrick)으로 갱폼을 인양하는 경우\n",
      "\n",
      "(가) 작업전 체인블록(Chain block) 혹 해지장치 및 체인(Chain) 상태를 반드시 점검한다.\n",
      "(나) 데릭 2 개를 이용하여 인양시 갱폼 좌·우 수평이 맞도록 출림입이 최소가 되도록 서서히 인양한다.\n",
      "(다) 데릭 후면에는 Φ 9 mm 이상 와이어로프와 턴 버클(Turn buckle)을 사용하여 로프를 평평하게 당긴 상태에서 인양한다.\n",
      "(라) 와이어로프 고정용 앵커는 콘크리트 구조물에 매입하여 고정하되 고정시킨다.\n",
      "(마) 데릭은 정확히 수직상태로 세우고 슬리브(Sleeve) 주위를 고임목으로 단단히 고정한다. (안전성이 확인되지 않은 삼발이 등을 갱폼 인양에 사용해서는 안된다)\n",
      "\n",
      "(9) 갱폼 인양작업 후 슬라브 단부가 개방된 상태로 방치되지 않도록 사전에 슬라브 단부에 안전난간을 설치한 후 갱폼을 인양한다.\n",
      "\n",
      "(10) 작업발판의 잔재물은 발생 즉시 제거한다.\n",
      "\n",
      "5.4 미장·치장(견출), 기타작업\n",
      "\n",
      "5.4.1 미장·치장(견출)작업\n",
      "\n",
      "갱폼의 설치·해체·인양의 제반작업은 콘크리트 타설을 위한 거푸집 작업공정이므로 하부 케이지에서의 미장·치장(견출) 등 작업은 상부에서의 거푸집 설치·해체작업 공정에 맞추어 갱폼이 설치되어 있는 기간에 해당부분의 미장·치장(견출) 등 작업을 마무리 하여야 한다. 기타 케이지내에서의 작업안전 사항은 갱폼 설치·해체작업에 준한다.\n",
      "\n",
      "5.4.2 발코니 안전난간 설치 등 작업\n",
      "\n",
      "미장·치장(견출)외에도 구조물 각층 슬라브 단부에서의 낮은 발코니부 안전난간 설치등 구조물 외벽층 작업을 갱폼이 설치되어 있는 기간에 완료할 수 있도록 작업계획을 조정하면 별도의 가설 작업발판, 안전난간 등의 설치비용을 절감할 수 있는 경제적 효과가 있다.\n"
     ]
    },
    {
     "name": "stderr",
     "output_type": "stream",
     "text": [
      "INFO:httpx:HTTP Request: POST http://localhost:8000/v1/chat/completions \"HTTP/1.1 200 OK\"\n",
      " 93%|█████████▎| 14/15 [02:19<00:09,  9.41s/it]"
     ]
    },
    {
     "name": "stdout",
     "output_type": "stream",
     "text": [
      "--------------------------------\n",
      "Processed: 1. 갱폼 표준단면\n",
      "\n",
      "![ 붙임 그림 1 > 측벽 갱폼 표준단면도 ]\n"
     ]
    },
    {
     "name": "stderr",
     "output_type": "stream",
     "text": [
      "INFO:httpx:HTTP Request: POST http://localhost:8000/v1/chat/completions \"HTTP/1.1 200 OK\"\n",
      "100%|██████████| 15/15 [02:36<00:00, 10.45s/it]\n"
     ]
    },
    {
     "name": "stdout",
     "output_type": "stream",
     "text": [
      "--------------------------------\n",
      "Processed: 2. 갱폼 구성부재의 규격 표준\n",
      "\n",
      "갱폼 구성부재의 규격 표준은 제작자의 특성 및 기술을 고려하여야 하며, 갱폼을 구성하는 부위별 부재의 규격을 특정 품목으로 제한하고자 하는 것은 아니다. 다만, 지금까지 사용하는 과정에서 안전성이 검증된 갱폼구성 부재의 규격 표준을 참고로 제시하면 다음과 같다.\n",
      "\n",
      "<붙임 표 1> 갱폼구성 부재의 규격 표준\n",
      "\n",
      "| 구분               | 규격                                                                 | 비고                        |\n",
      "|--------------------|----------------------------------------------------------------------|-----------------------------|\n",
      "| 거푸집             | 측벽용 Rib철판 2.0t Rib 철판 (D16-50mm 볼트조립)                            | KS D 3503-SS41, Hot rolled  |\n",
      "|                   | 평철판 3.2t 평철판 (용접, 볼트 접합)                                        | KS D 3503-SS41, Hot rolled  |\n",
      "|                   | 수평(띠장)재 상단 Φ114.6mmx4.5t Steel Pipe                              | KS D 3566-SS41              |\n",
      "|                   | 중간 2C Channel 100x50x5x7t                                            | KS D 3530-SS41              |\n",
      "|                   | 하단 C-Channel 75x45x15x2.3t                                            | KS D 3530-SS41              |\n",
      "|                   | 수직(띠장)재 2C-Channel 75x45x15x2.3t                                    | KS D 3530-SS41              |\n",
      "|                   | 인양고리 Φ22mm 환봉 (Round bar)                                        | KS D 3561-SS41, Cold drawn  |\n",
      "| 케이지 (Cage)      | 수직재 40x40x2.0t~2.3t 각파이프                                        | KS D 3568-SS41              |\n",
      "|                   | 가로재 40x40x1.4t~1.6t 각파이프                                        | KS D 3568-SS41              |\n",
      "|                   | 수평재 40x20x1.6t 각파이프                                             | KS D 3568-SS41              |\n",
      "|                   | 안전난간재 40x20x1.6t 각파이프                                         | KS D 3568-SS41              |\n",
      "|                   | 작업발판 Extended metal SG-362, SS-342 Type                           | KS D 3568-SS41              |\n",
      "|                   | 발판띠장 40x20x1.6t 각파이프                                           | KS D 3568-SS41              |\n",
      "---End---\n",
      "Processing 건설공사 안전보건 설계 지침\n"
     ]
    },
    {
     "name": "stderr",
     "output_type": "stream",
     "text": [
      "  0%|          | 0/13 [00:00<?, ?it/s]INFO:httpx:HTTP Request: POST http://localhost:8000/v1/chat/completions \"HTTP/1.1 200 OK\"\n",
      "  8%|▊         | 1/13 [00:02<00:26,  2.24s/it]"
     ]
    },
    {
     "name": "stdout",
     "output_type": "stream",
     "text": [
      "--------------------------------\n",
      "Processed: 건설공사 안전·보건 설계 지침\n",
      "\n",
      "2015. 11\n",
      "\n",
      "한국산업안전보건공단\n"
     ]
    },
    {
     "name": "stderr",
     "output_type": "stream",
     "text": [
      "INFO:httpx:HTTP Request: POST http://localhost:8000/v1/chat/completions \"HTTP/1.1 200 OK\"\n",
      " 15%|█▌        | 2/13 [00:14<01:32,  8.37s/it]"
     ]
    },
    {
     "name": "stdout",
     "output_type": "stream",
     "text": [
      "--------------------------------\n",
      "Processed: 안전보건기술지침 개요\n",
      "\n",
      "○ 작성자 : 한국산업안전보건공단 건설업재해예방실 박용규\n",
      "○ 개정자 : 산업안전보건연구원 안전연구실 박용규\n",
      "\n",
      "○ 제·개정 경과\n",
      "\n",
      "- 2011년 11월 건설안전분야 제정위원회 심의(제정)\n",
      "- 2015년 11월 건설안전분야 제정위원회 심의(개정)\n",
      "\n",
      "○ 관련규격 및 자료\n",
      "\n",
      "- KOSHA GUIDE C-47-2012, 해체공사 안전보건작업 지침\n",
      "- KOSHA GUIDE C-39-2011, 굴착공사 안전작업 지침\n",
      "- KOSHA GUIDE C-37-2011, 지하매설물 굴착공사 안전작업 지침\n",
      "- KOSHA GUIDE C-4-2012, 흙막이공사(엄지말뚝공법) 안전보건작업 지침\n",
      "- KOSHA GUIDE C-14-2012, 밀폐공간의 방수공사 안전보건작업 지침\n",
      "\n",
      "○ 관련법규 및 고시 등\n",
      "\n",
      "- 산업안전보건법 제5조(사업주의 의무) 및 제9조(협조의 요청 등)\n",
      "- 산업안전보건기준에 관한 규칙\n",
      "\n",
      "○ 기술지침의 적용 및 문의\n",
      "\n",
      "- 이 기술지침에 대한 의견 또는 문의는 한국산업안전보건공단 홈페이지 (www.kosha.or.kr) 안전보건기술지침 소관 분야별 문의처 안내를 참고 하시기 바랍니다.\n",
      "- 동 지침 내에서 인용된 관련 규격 및 자료 등에 관하여 최근 개정 내용이 있는 경우 동 지침에 우선하여 참고하시기 바랍니다.\n",
      "\n",
      "공표일자 : 2015년 12월 7일\n",
      "재 정 자 : 한국산업안전보건공단 이사장\n"
     ]
    },
    {
     "name": "stderr",
     "output_type": "stream",
     "text": [
      "INFO:httpx:HTTP Request: POST http://localhost:8000/v1/chat/completions \"HTTP/1.1 200 OK\"\n",
      " 23%|██▎       | 3/13 [00:25<01:33,  9.38s/it]"
     ]
    },
    {
     "name": "stdout",
     "output_type": "stream",
     "text": [
      "--------------------------------\n",
      "Processed: 건설공사 안전·보건 설계 지침\n",
      "\n",
      "1. 목 적\n",
      "\n",
      "이 지침은 건설공사의 계획 및 설계 단계에 발주자, 설계자, 건설사업관리자 (CMr) 및 감리자 등 공사관계자가 건설현장 근로자의 안전·보건 확보를 위한 역할과 업무범위를 체계적으로 정립하여 건설공사에서 산업재해예방을 위한 설계 지침 마련을 목적으로 한다.\n",
      "\n",
      "2. 적용범위\n",
      "\n",
      "이 지침은 국내에서 산업안전보건법령에 따라 건설공사를 수행하는 과정에서 근로자의 안전·보건을 확보하기 위하여 발주자, 설계자, 건설사업관리자(CMr) 및 감리자 등 공사관계자가 건설공사의 계획 및 설계, 안전관리대책 등을 수립하는 경우에 적용한다.\n",
      "\n",
      "3. 용어의 정의\n",
      "\n",
      "(1) 이 지침에서 사용되는 용어의 정의는 다음과 같다.\n",
      "\n",
      "(가) “건설공사”라 함은 산업재해보상보험법에서 정하는 산업분류중 건설업으로 분류된 건설공사로서 건설산업기본법, 전기공사업법, 정보통신공사업법 등에서 정하고 있는 공사를 모두 포함한다.\n",
      "\n",
      "(나) “공사관계자”라 함은 건설공사의 계획에서부터 준공에 이르기까지 근로자의 안전·보건관련 계획수립 및 업무를 수행하는 발주자, 설계자, 건설사업관리자(CMr), 감리자 등을 말한다.\n"
     ]
    },
    {
     "name": "stderr",
     "output_type": "stream",
     "text": [
      "INFO:httpx:HTTP Request: POST http://localhost:8000/v1/chat/completions \"HTTP/1.1 200 OK\"\n",
      " 31%|███       | 4/13 [00:41<01:48, 12.11s/it]"
     ]
    },
    {
     "name": "stdout",
     "output_type": "stream",
     "text": [
      "--------------------------------\n",
      "Processed: (다) “발주자”라 함은 (가) “건설공사”에서 정의한 건설공사를 건설업주에게 도급하는 자를 말한다.\n",
      "\n",
      "(라) “설계자”라 함은 「엔지니어링산업진흥법」 제2조 2호에 따라 엔지니어링활동 주체, 「건축사법」 제23조 제2항에 따라 건축사사무소개설자 및 「기술사법」 제6조에 따라 사무소를 등록한 기술사중 설계용역을 영업의 목적으로 하는 자를 말한다.\n",
      "\n",
      "(마) “건설사업관리자(CMr ; Construction Manager)”라 함은 「건설산업기본법」 제2조제8호에 따라 건설공사에 관한 기획·타당성조사·분석·설계·조달·계약·시설관리·감리·평가·사후관리등에 관한 관리업무의 전부 또는 일부를 수행하는 자를 말한다.\n",
      "\n",
      "(바) “시공자”라 함은 (가) “건설공사”에서 정의한 건설공사를 수행하는 자를 말한다.\n",
      "\n",
      "(사) “감리자”라 함은 「건설기술진흥법」 제2조제5호에 따라 감리전문회사에 소속되어 검측감리, 시공감리 또는 책임감리를 수행하는 자(건축사법 제2조 제4호에 따른 공사감리 수행자 포함)를 말한다.\n",
      "\n",
      "(아) “유해·위험 요인”이라 함은 건설공사 수행 중 근로자의 안전·보건을 저해할 수 있는 물질, 환경, 작업방법 등의 잠재요소를 말한다.\n",
      "\n",
      "(자) “설계도서”라 함은 건설공사를 수행하기 위하여 건설공사 관계자가 사용하는 설계도, 내역서(일위대가 포함), 수량산출서, 시방서, 구조계산서 등을 말한다.\n",
      "\n",
      "(차) “물질안전보건자료”라 함은 화학물질의 명칭·성분 및 함유량, 안전·보건상의 취급주의사항, 인체에 미치는 영향 등을 작성하여 화학물질을 취급하는 자에게 당해 화학물질에 관한 정보를 제공하기 위하여 작성된 자료를 말하며, MSDS(Material Safety Data Sheet)라고도 한다.\n",
      "\n",
      "(2) 기타 이 지침에서 사용하는 용어의 정의는 특별한 규정이 있는 경우를 제외하고는 산업안전보건법, 동법시행령, 동법시행규칙, 산업안전보건기준에 관한 규칙, 관련 고시, KOSHA GUIDE에서 정하는 바에 의한다.\n"
     ]
    },
    {
     "name": "stderr",
     "output_type": "stream",
     "text": [
      "INFO:httpx:HTTP Request: POST http://localhost:8000/v1/chat/completions \"HTTP/1.1 200 OK\"\n",
      " 38%|███▊      | 5/13 [00:56<01:44, 13.12s/it]"
     ]
    },
    {
     "name": "stdout",
     "output_type": "stream",
     "text": [
      "--------------------------------\n",
      "Processed: 4. 설계 시 고려할 안전·보건 기준\n",
      "\n",
      "4.1 일반사항\n",
      "\n",
      "(1) 공사조건 검토\n",
      "\n",
      "(가) 발주자·설계자·건설산업관리자는 건설공사를 계획하고 설계함에 있어 근로자의 안전·보건 확보가 가능한 작업환경이 되도록 설계에 반영한다.\n",
      "\n",
      "(나) 발주자·설계자·건설산업관리자가 건설공사의 계획 또는 설계시 안전·보건 확보를 위하여 고려한 사항들은 아래와 같다.\n",
      "\n",
      "① 현장 주변의 기존 칠도(지상 및 지하), 도로 등 교통환경\n",
      "② 전기, 통신, 가스, 난방, 상·하수도 등의 지하 매설물과 전기·통신 등의 가공선로 등 지장물 상황\n",
      "③ 굴착공사와 관련된 지하수 유출여부\n",
      "④ 인접 건물·구조물·시설물 등 시공중 상호 영향 여부\n",
      "⑤ 가설구조물 설치 및 건설기계 운용과 관련한 지반지지력, 공간확보 여부\n",
      "⑥ 현장 내 설비나 장비설치의 장애요인 등에 관한 사항\n",
      "⑦ 도시가스사업이 허가된 지역에서 굴착공사를 하는 경우 굴착공사전 「도시가스사업법」제30조의3에 의거 도시가스배관 매설상황에 관한 사항\n",
      "\n",
      "(2) 근로자의 안전·보건을 고려한 설계\n",
      "\n",
      "(가) 발주자·설계자·건설산업관리자는 근로자의 안전·보건 확보와 공사 목적물의 안전 시공을 유지하기 위하여 공중·공정 상 유해·위험요인에 대하여 다음과 같은 안전관리 방법에 근거하여 설계에 반영한다.\n",
      "\n",
      "① 제거(계획 또는 시공법 변경을 통한 유해·위험요인의 제거)\n",
      "② 차단(유해·위험요인과 근로자와 차단)\n",
      "③ 격리(유해·위험요인을 근로자로부터 격리, 공중 간 간섭 회피)\n",
      "④ 방호(유해·위험요인에 대한 방호조치)\n",
      "⑤ 보호(유해·위험요인에 대한 조치 곤란시 근로자에 대한 예방조치)\n"
     ]
    },
    {
     "name": "stderr",
     "output_type": "stream",
     "text": [
      "INFO:httpx:HTTP Request: POST http://localhost:8000/v1/chat/completions \"HTTP/1.1 200 OK\"\n",
      " 46%|████▌     | 6/13 [01:13<01:39, 14.28s/it]"
     ]
    },
    {
     "name": "stdout",
     "output_type": "stream",
     "text": [
      "--------------------------------\n",
      "Processed: (다) 발주자·설계자·건설사업관리자는 공사 목적물의 건설공사에서 발생하는 유해·위험요인의 제거 또는 최소화할 수 있는 공사방법이 적용될 수 있도록 설계에 반영한다.\n",
      "\n",
      "(라) 발주자·설계자·건설사업관리자는 공사 목적물의 완성을 위하여 임시 또는 일정기간 사용하는 흙막이 지보공, 거푸집·동바리, 비계 등 가설 구조물의 안전한 설치·해체·유지를 위하여 설계단계에 안전성 검토와 시공방법, 조립도 등을 설계에 반영한다.\n",
      "\n",
      "4.2 안전·보건 설계 절차\n",
      "\n",
      "(1) 설계단계의 검토 조건\n",
      "\n",
      "(가) 안전·보건을 고려한 설계는 다음과 같은 사항을 우선 반영한다.\n",
      "\n",
      "1. 설계 시 유해·위험요인이 제거 또는 최소화할 수 있는 시공법 및 작업방법을 반영한다.\n",
      "2. 현장작업에 따른 위험요인을 최소화하기 위해 기성품 또는 공장제작 자재 선정을 반영한다.\n",
      "3. 석면 및 석면이 함유된 자재 사용이 설계에 반영되지 않도록 유의한다.\n",
      "4. 사용 중 파손, 절단 등 손상 발생으로 인한 재해예방을 위하여 자재 선정에 유의한다.\n",
      "5. 인력으로 운반이나 취급이 어려운 무거운 자재는 가능한 기계화 작업방법으로 시공할 수 있도록 설계에 반영한다.\n",
      "6. 시설물의 유지관리가 용이하도록 개·보수 및 정소를 위한 전용통로, 설비의 설치 및 제거가 용이한 반입구 등을 설계에 반영한다.\n",
      "7. 장마철, 해빙기에 굴착공사를 수행할 경우에 대비하여 빗물유입, 지반연약화 등 붕괴위험 요인을 고려하여 안전성검토를 실시한다.\n",
      "8. 해체 및 개·보수 공사 시에는 기존 구조물의 균열, 붕괴사고 예방을 고려한 시공법을 검토하여 설계에 반영한다.\n",
      "\n",
      "(나) 설계자는 산업안전보건법령 및 KOSHA GUIDE 등을 활용하여 공사수행 과정에서 유해·위험 요인을 최소화할 수 있도록 설계한다.\n",
      "\n",
      "(다) 근로자의 안전·보건 확보를 위한 전문성이 부족한 경우 건설안전 전문가의 자문이나 참여를 통하여 설계단계에서 유해·위험요인을 제거하거나 최소화할 수 있도록 한다.\n"
     ]
    },
    {
     "name": "stderr",
     "output_type": "stream",
     "text": [
      "INFO:httpx:HTTP Request: POST http://localhost:8000/v1/chat/completions \"HTTP/1.1 200 OK\"\n",
      " 54%|█████▍    | 7/13 [01:28<01:27, 14.65s/it]"
     ]
    },
    {
     "name": "stdout",
     "output_type": "stream",
     "text": [
      "--------------------------------\n",
      "Processed: (2) 복합 공종의 설계\n",
      "\n",
      "(가) 발주자는 공종별 설계의 불일치 또는 간섭을 최소화하기 위하여 건설공사의 설계기준을 공종별 설계자에게 전달한다.\n",
      "\n",
      "(나) 여러 공종이 복합된 건설공사의 경우 각 공종별 설계자는 공사 중 간섭 또는 중첩요인을 파악하여 공사 시작 전 사전 협의를 통하여 수정 또는 보완되어야 한다.\n",
      "\n",
      "(3) 안전관리계획 수립\n",
      "\n",
      "(가) 설계자는 시공자의 안전관리계획 수립 시 설계단계에 반영된 다음과 같은 안전·보건 정보를 제공하여 안전하고 원활한 공사관리가 가능하도록 협조한다.\n",
      "\n",
      "① 설계과정 중에 실시한 건설 안전·보건에 관한 위험성 평가결과에 관한 사항\n",
      "② 설계과정 중에 도출된 유해·위험요인과 안전대책에 관한 사항\n",
      "③ 설계에 반영된 시공범과 절차에 관한 사항\n",
      "④ 설계단계에 제거하지 못한 유해·위험요인 관련 사항\n",
      "⑤ 시공 시 유의사항 및 유해·위험요인에 대한 대처방안 등\n",
      "\n",
      "(나) 설계자는 산업안전보건법 제48조에 따라 시공자가 작성하여야 하는 유해·위험예방계획서에 설계도서상 기 반영한 유해·위험요인 및 안전대책이 포함될 수 있도록 한다.\n",
      "\n",
      "(4) 가설구조물의 설계변경\n",
      "\n",
      "(가) 시공자는 건설공사 중에 가설구조물의 붕괴 등 재해발생 위험이 높다고 판단되는 경우에는 전문가의 의견을 들어 건설공사 발주자에게 설계변경을 요청할 수 있다.\n",
      "\n",
      "(나) 설계변경 요청 대상 가설구조물은 다음과 같다.\n",
      "① 높이 31미터 이상인 비계(飛階)\n",
      "② 작업발판 일체형 거푸집 또는 높이 6미터 이상인 거푸집 동바리\n",
      "③ 터널의 지보공(支保工) 또는 높이 2미터 이상인 환벽이 지보공\n",
      "④ 동력을 이용하여 움직이는 가설구조물\n",
      "\n",
      "(다) 설계변경 요청시 의견을 들어야 하는 전문가의 범위는 산업안전보건법에 따라 결정한다.\n"
     ]
    },
    {
     "name": "stderr",
     "output_type": "stream",
     "text": [
      "INFO:httpx:HTTP Request: POST http://localhost:8000/v1/chat/completions \"HTTP/1.1 200 OK\"\n",
      " 62%|██████▏   | 8/13 [01:41<01:09, 13.95s/it]"
     ]
    },
    {
     "name": "stdout",
     "output_type": "stream",
     "text": [
      "--------------------------------\n",
      "Processed: 시행령 제26조의5, 설계변경 요청 방법 및 절차에 관한 세부적인 사항은 산업안전보건법 시행규칙 제31조의2에 따른다.\n",
      "\n",
      "5. 공사단계별 안전·보건 설계기준\n",
      "\n",
      "5.1 가설공사\n",
      "\n",
      "(1) 가설 울타리\n",
      "\n",
      "(가) 설계자는 건설현장 관리, 주변 지역민원(소음, 분진 등) 및 외부인 출입 통제 등을 고려하여 가설울타리 종류 및 규격을 설계에 반영한다.\n",
      "\n",
      "(나) 가설울타리 설치 시 집중호우, 강풍 등 악천후 영향을 고려하여 자재 및 규격을 선정하고 안전성이 확보될 수 있도록 설계에 반영한다.\n",
      "\n",
      "(2) 가설전기\n",
      "\n",
      "(가) 설계자는 수전설비에서 사용 예정인 전기 기계·기구 등의 사용용량과 위치를 감안하여 감전재해 예방을 위한 가설전선 경로 및 거치계획 등을 설계도서에 반영한다.\n",
      "\n",
      "(나) 설계자는 가설전기 접지시설은 사용전력별 기준 접지저항이 지속적으로 유지 가능하도록 설치계획을 설계에 반영한다.\n",
      "\n",
      "5.2 굴착공사\n",
      "\n",
      "(1) 현장조사와 설계\n",
      "\n",
      "(가) 설계자는 사전 현장조사를 실시하여 굴착공사를 수행하여야 할 장소 주변의 시설물과 지하매설물 등 공사 수행 시 장해요인을 파악하여 붕괴·훼손 등 위험을 예방하기 위한 조치를 설계에 반영한다.\n",
      "\n",
      "(나) 설계 시 장차물에 대한 대책은 위험요인이 근본적으로 제거될 수 있는 방법을 우선 반영하고 곤란하거나 불가능할 경우 방호, 보호 조치 등 차선책을 반영한다.\n",
      "\n",
      "(2) 굴착공사\n"
     ]
    },
    {
     "name": "stderr",
     "output_type": "stream",
     "text": [
      "INFO:httpx:HTTP Request: POST http://localhost:8000/v1/chat/completions \"HTTP/1.1 200 OK\"\n",
      " 69%|██████▉   | 9/13 [01:58<01:00, 15.16s/it]"
     ]
    },
    {
     "name": "stdout",
     "output_type": "stream",
     "text": [
      "--------------------------------\n",
      "Processed: (가) 굴착공사 시 주변 건축물 또는 시설물, 지반조건 등 사전조사 내용을 충분히 검토하여 물적피해 또는 민원발생을 방지하거나 최소화할 수 있 는 공법을 설계에 반영한다.\n",
      "\n",
      "(나) 굴착공사에 흙막이 지보공 설계시 지하구조물의 안전성 확보와 더불어 시공 중 근로자의 안전보건을 저해하지 않는 시공방법을 설계에 반영한다.\n",
      "\n",
      "(다) 합쳐구조물 제외한 흙막이 지보공 설계 시 지하구조물의 안전성 확보를 위하여 흙막이 지보공과 구조물간 이격거리 확보할 수 있도록 설계에 반영한다.\n",
      "\n",
      "(라) 향후 배립되는 구조물 시공을 위한 굴착공사 시 토질조건병 안전한 경사면 기울기를 설계에 반영하거나 콘란한 경우 흙막이 지보공을 설계에 반영한다.\n",
      "\n",
      "(마) 굴착공사와 되메우기 공사를 설계에 반영할 경우 설계수량을 최소화하기 위하여 시공 후 안전보건을 저해하는 설계조건이 포함되지 않도록 한다.\n",
      "\n",
      "(바) 공사과정에서 초래할 수 있는 과굴착, 주요 구조용 부재 지연설치, 구조용 부 재 위에 자재적치, 노후 또는 불량 자재 사용 등 불안정 요인을 고려하여 설계 에 충분한 안전력을 확보하거나 설계조건에 상기 요인들이 발생하지 않도록 금지하는 내용을 설계도서에 반영한다.\n",
      "\n",
      "(사) 흙막이 지보공 시공순서를 설계도서에 반영하여 시공자의 임의 판단에 의한 시공이 발생하지 않도록 한다.\n",
      "\n",
      "(3) 관로 굴착공사\n",
      "\n",
      "(가) 관로 굴착공사 설계 시 굴착대상 도로여건과 토질조건, 지하수위, 굴착 깊이 등 설계 조건을 반영하여 붕괴사고를 방지할 수 있는 굴착 경사면 기울기를 반영한다.\n",
      "\n",
      "(나) 관로 굴착공사중 굴착 토자를 굴착구간 배면상부에 가적치할 경우 토압 증가, 토사 흘러내림 등 붕괴 가중요인을 고려하여 설계에 반영한다.\n",
      "\n",
      "(다) 관로 굴착공사중 굴삭기 등 건설기계 사용에 따라 굴착면에 반복적으로 제하되는 작업하중을 굴착공사 안전성 검토 시 반드시 반영한다.\n",
      "\n",
      "(라) 도로사용 등 현장 여건상 충분한 굴착 경사면 기울기 준수가 곤란한 경우\n"
     ]
    },
    {
     "name": "stderr",
     "output_type": "stream",
     "text": [
      "INFO:httpx:HTTP Request: POST http://localhost:8000/v1/chat/completions \"HTTP/1.1 200 OK\"\n",
      " 77%|███████▋  | 10/13 [02:14<00:45, 15.18s/it]"
     ]
    },
    {
     "name": "stdout",
     "output_type": "stream",
     "text": [
      "--------------------------------\n",
      "Processed: 또는 기존 상·하수도관이 노출되거나 파손되어 불시 용수가 우려되는 경우에 봉괴위험 등을 고려하여 (간이)흙막이지보공을 설계에 반영한다.\n",
      "\n",
      "(마) 지하에 매설된 가스관, 난방배관, 상·하수도관, 전기·통신선로 등의 파손, 절단, 유실 등에 따른 재해를 방지하기 위한 방호 또는 보호대책을 설계에 반영한다.\n",
      "\n",
      "5.3 구조물공사\n",
      "\n",
      "(1) 가설구조 설계\n",
      "\n",
      "(가) 철근콘크리트 구조를 시공하기 위하여 거푸집등버리를 설계하는 경우 구조검토를 통하여 안전성을 확보하여야 하며 동바리 설치높이가 4m를 초과하는 경우 가능한 지주형식 동바리(시스템동바리) 등으로 설계에 반영한다.\n",
      "\n",
      "(나) 갯폼(Gang Form), RCS(Rail Climbing System), ACS(Auto Climbing System) 등 작업발판 일체형 거푸집을 설계에 반영할 경우 안전성 검토를 실시하여야 하며 안전성 검토는 고정 조건뿐만 아니라 이동 중 또는 상승・이동・운반과 같은 미고정 상태의 조건 등 지지력 확보가 충분하지 않은 상황을 모두 포함하여 검토한다.\n",
      "\n",
      "(다) 설계에 반영된 가설구조가 시공 중 일부 또는 전부의 변경이 발생할 경우 변경구조의 안정성 검토 관련사항을 설계에 명기한다.\n",
      "\n",
      "(라) 가설구조에 대한 설계 조건을 설계도서에 상세하게 명기하여 시공자가 적용하여야 하는 공사 조건이 정확하게 전달될 수 있도록 한다.\n",
      "\n",
      "특히, 파이프서포트 등 동바리 구조에 대하여 설계수량만 반영하여 2단구조의 동바리가 설계되지 않도록 유의한다.\n",
      "\n",
      "(마) 설계자・건설사업관리자는 설계조건과 다른 시공법으로 변경되는 경우를 고려하여 설계변경 시 유의사항을 설계도서에 반영한다.\n",
      "\n",
      "(2) 본 구조물 공사\n",
      "\n",
      "(가) 구조물 설계단계에서 시공 가능하고 안전한 공법을 고려하여 설계에 반영한다.\n",
      "\n",
      "(나) 구조물 설계에는 시공 중 설치하여야 하는 비계, 곤돌라 등 가설구조물의\n"
     ]
    },
    {
     "name": "stderr",
     "output_type": "stream",
     "text": [
      "INFO:httpx:HTTP Request: POST http://localhost:8000/v1/chat/completions \"HTTP/1.1 200 OK\"\n",
      " 85%|████████▍ | 11/13 [02:29<00:30, 15.19s/it]"
     ]
    },
    {
     "name": "stdout",
     "output_type": "stream",
     "text": [
      "--------------------------------\n",
      "Processed: 설치, 지지, 고정, 이동, 운반 등 시공안전성을 고려하여 앵커(Anchor), 고리, 슬리브(Sleeve) 등을 설계에 반영한다.\n",
      "\n",
      "(다) 설계자는 시공 난이도가 높은 디자인, 구조 등으로 설계하는 경우 공사과정에서 근로자의 안전·보건에 미치는 유해·위험 요인을 고려하여 설계에 반영한다.\n",
      "\n",
      "(라) 구조물 시공을 위하여 설치되는 홈박이 지보공, 거푸집둥바리, 비계 등 가설구조물에 대한 안전성 검토와 근로자의 안전·보건을 위한 설계시설이 설치될 수 있도록 설계서에 반영한다.\n",
      "\n",
      "(마) 구조물 공사 중 동시에 발생하는 다른 공종간의 중첩 또는 간섭으로 인한 위험요인을 고려하여 시공순서를 설계서에 반영한다.\n",
      "\n",
      "(바) 강구조물 설계 시 부재의 운반, 거치, 가조립 및 본조립 등 작업 절차상 위험요인을 고려하여 안전한 방법으로 작업이 이루어질 수 있도록 예방대책을 설계서에 반영한다.\n",
      "\n",
      "(사) 강구조물 부재의 운반, 거치, 가조립 작업용 러그(Lug), 볼트(Bolt) 등은 줄걸이 및 안전시설 설치 등을 고려하여 부재의 강성과 품질의 손상을 최소화하면서 줄걸이와 안전시설을 설치할 수 있도록 설계서에 반영한다.\n",
      "\n",
      "(아) 강구조물 부재의 가조립 단계에서 안전시설 및 작업대 등을 설치하여 설치하는 작업방법을 설계에 반영하기 곤란한 경우 근로자 추락 방지를 위한 추락 및 낙하물방지망 설치 등 2차 안전대책을 고려하여 설계서에 반영한다.\n",
      "\n",
      "5.4 마감공사\n",
      "\n",
      "(1) 마감공사\n",
      "\n",
      "(가) 설계자는 마감공사 진행 단계에서 여러 공정이 동시에 진행됨에 따라 공종 또는 공정간 간섭 및 중첩되는 사항을 설계서에 명시한다.\n",
      "\n",
      "(나) 마감공사 진행 단계에서 공중간 간섭이 발생하는 위치(또는 구간)의 시공절차, 방법 등을 제시하여 시공단계의 위험요인을 최소화하도록 설계서에 제시한다.\n"
     ]
    },
    {
     "name": "stderr",
     "output_type": "stream",
     "text": [
      "INFO:httpx:HTTP Request: POST http://localhost:8000/v1/chat/completions \"HTTP/1.1 200 OK\"\n",
      " 92%|█████████▏| 12/13 [02:45<00:15, 15.50s/it]"
     ]
    },
    {
     "name": "stdout",
     "output_type": "stream",
     "text": [
      "--------------------------------\n",
      "Processed: (다) 마감공사에 사용되는 도료, 유기용제, 방수제, 접착제, 보온·보냉재 등 물질 안전보건자료[MSDS(Material Safety Data Sheet)]를 참고하여 근로자의 안전·보건에 영향을 미칠 수 있는 물질의 사용을 지양하고 사용이 불가피한 경우 사용물질에 대한 유해·위험성에 대한 예방조치에 대한 안내. 경고사항을 설계도서에 반영한다.\n",
      "\n",
      "(라) 마감공종 또는 시공 중에 사용하는 인화성, 발화성물질 사용에 따른 화재·폭발위험 요인에 대한 예방대책을 설계에 반영한다. 특히, 용접·용단 작업이 수반되는 공종·공정의 경우 인화성·발화성·가연성 물질을 사용하였거나 사용 예정인 작업과 근접하여 작업하는지 여부를 설계도서에 명확하게 명시하여야 한다.\n",
      "\n",
      "(마) 외부 마감공사를 위하여 비계, 곤돌라 등 설치가 필요한 경우 가설시설물 설치에 필요한 지지, 고정 설비 설치 및 사용 후 마감계획을 설계에 반영 한다.\n",
      "\n",
      "5.5 유지·보수공사\n",
      "\n",
      "(1) 유지·보수공사 설계 시 기존 구조물, 시설물에 적용하는 공법 또는 작업방법에 따라 상호 미치는 영향을 사전에 조사 및 검토하여 화재·폭발, 붕괴 등 재해위험에 대한 대책을 설계에 반영한다.\n",
      "\n",
      "(2) 환기 또는 통풍이 원활하지 않은 밀폐공간 또는 유사한 구조의 내부에서 수행하는 유지·보수공사에 대한 설계 시 유해가스 또는 산소결핍에 따른 중독 또는 질식재해 예방을 위한 대책을 설계에 반영한다.\n",
      "\n",
      "(3) 유지·보수공사 대상 시설물에 보관 또는 사용 중이거나 공사를 위하여 사용하고자 하는 물질, 자재 등의 독성, 유해성 여부를 파악하여 근로자 건강장해를 유발 할 수 있는 물질, 자재 등이 설계에 포함되지 않도록 한다.\n",
      "\n",
      "5.6 해체공사\n",
      "\n",
      "(1) 기존 구조물 또는 시설물의 해체공사 시 대상 구조물의 사전 안전성 검토를 통하여 붕괴위험을 최소화할 수 있도록 해체 부재 또는 위치별 작업 순서를 설계에 반영한다.\n",
      "\n",
      "(2) 노후 구조물 또는 시설물의 해체공사 중 불시 붕괴사고의 위험이 높으므로\n"
     ]
    },
    {
     "name": "stderr",
     "output_type": "stream",
     "text": [
      "INFO:httpx:HTTP Request: POST http://localhost:8000/v1/chat/completions \"HTTP/1.1 200 OK\"\n",
      "100%|██████████| 13/13 [02:49<00:00, 13.03s/it]\n"
     ]
    },
    {
     "name": "stdout",
     "output_type": "stream",
     "text": [
      "--------------------------------\n",
      "Processed: 사전 안전성 검토를 통하여 작업방법을 선정하고 인력작업을 지양하고 기계화 작업을 설계에 반영한다.\n",
      "\n",
      "(3) 해체공사 시 주변 시설물 또는 구조물에 미치는 영향을 검토하여 기존 시설물 또는 구조물의 붕괴, 손상 등 피해를 방지하기 위한 방호, 보강 대책을 설계에 반영한다.\n",
      "---End---\n",
      "Processing 건설현장 용접용단 안전보건작업 기술지침\n"
     ]
    },
    {
     "name": "stderr",
     "output_type": "stream",
     "text": [
      "  0%|          | 0/11 [00:00<?, ?it/s]INFO:httpx:HTTP Request: POST http://localhost:8000/v1/chat/completions \"HTTP/1.1 200 OK\"\n",
      "  9%|▉         | 1/11 [00:02<00:24,  2.49s/it]"
     ]
    },
    {
     "name": "stdout",
     "output_type": "stream",
     "text": [
      "--------------------------------\n",
      "Processed: 건설현장 용접·용단 작업시\n",
      "안전보건작업 기술지침\n",
      "\n",
      "2017. 10.\n",
      "\n",
      "한국산업안전보건공단\n"
     ]
    },
    {
     "name": "stderr",
     "output_type": "stream",
     "text": [
      "INFO:httpx:HTTP Request: POST http://localhost:8000/v1/chat/completions \"HTTP/1.1 200 OK\"\n",
      " 18%|█▊        | 2/11 [00:13<01:07,  7.45s/it]"
     ]
    },
    {
     "name": "stdout",
     "output_type": "stream",
     "text": [
      "--------------------------------\n",
      "Processed: 안전보건기술지침의 개요\n",
      "\n",
      "○ 작성자 : 동아대학교 정지현\n",
      "\n",
      "○ 제·개정경과\n",
      "  - 2017년 9월 건설안전분야 제정위원회 심의(제정)\n",
      "\n",
      "○ 관련규격 및 자료\n",
      "  - KOSHA GUIDE G-7-2013(가스용접 및 절단작업에 관한 기술지침)\n",
      "  - KOSHA GUIDE H-73-2015(용접작업 보건 관리 지침)\n",
      "\n",
      "○ 관련 법규・규칙・고시 등\n",
      "  - 「산업안전보건기준에 관한 규칙」\n",
      "    제232조(폭발 또는 화재 등의 예방)\n",
      "    제233조(가스용접 등의 작업)\n",
      "    제239조(위험물 등이 있는 장소에서 화기 등의 사용 금지)\n",
      "    제240조(유류 등이 있는 배관이나 용기의 용접 등)\n",
      "    제241조(통풍 등이 충분하지 않은 장소에서의 용접 등)\n",
      "\n",
      "○ 기술지침의 적용 및 문의\n",
      "  - 이 기술지침에 대한 의견 또는 문의는 한국산업안전보건공단 홈페이지 (www.kosha.or.kr) 안전보건기술지침 소관 분야별 문의처 안내를 참고하시기 바랍니다.\n",
      "  - 동 지침 내에서 인용된 관련규격 및 자료, 법규 등에 관하여 최근 개정본이 있을 경우에는 해당 개정본의 내용을 참고하시기 바랍니다.\n",
      "\n",
      "공표일자 : 2017년 10월 31일\n",
      "제 정 자 : 한국산업안전보건공단 이사장\n"
     ]
    },
    {
     "name": "stderr",
     "output_type": "stream",
     "text": [
      "INFO:httpx:HTTP Request: POST http://localhost:8000/v1/chat/completions \"HTTP/1.1 200 OK\"\n",
      " 27%|██▋       | 3/11 [00:24<01:12,  9.07s/it]"
     ]
    },
    {
     "name": "stdout",
     "output_type": "stream",
     "text": [
      "--------------------------------\n",
      "Processed: 건설현장 용접·용단 작업시 안전보건작업 기술지침\n",
      "\n",
      "1. 목적\n",
      "\n",
      "이 지침은 건설현장에서 용접·용단 작업 시 근로자의 안전보건을 확보하기 위한 기술지침에 관한 사항을 정함을 그 목적으로 한다.\n",
      "\n",
      "2. 적용범위\n",
      "\n",
      "이 지침은 건설현장에서 다른 작업과 인접한 장소, 밀폐된 장소, 인화성·가연성 물질이 인접한 장소 등에서 수행하는 용접·용단 작업에 적용한다.\n",
      "\n",
      "3. 용어의 정의\n",
      "\n",
      "(1) 이 지침에서 사용되는 용어의 정의는 다음과 같다.\n",
      "\n",
      "가) “용접·용단”이라 함은 2개 이상의 고체금속을 하나로 접합시키는 금속 가공 기술수단과 전극봉과 모재금속 간에 아크열 등으로 용융시켜 금속을 자르거나 또는 제거하는 것을 말한다.\n",
      "\n",
      "나) “용접절차서(WPS : Welding Procedure Specification)”라 함은 용접이음부에서 설계대로 용접하기 위하여 요구되는 제반 용접조건을 상세히 제시하는 서류를 말한다. 통상 모재, 용접법, 이음형상, 용접자세, 용가재, 전류, 전압, 속도, 보호가스, 열처리 등에 대한 정보가 필요에 따라 포함된다.\n",
      "\n",
      "다) “화기작업”이라 함은 용접, 용단, 화염 또는 스파크를 발생시키는 작업으로 또는 인화성·가연성 물질의 점화원이 될 수 있는 작업을 말한다.\n"
     ]
    },
    {
     "name": "stderr",
     "output_type": "stream",
     "text": [
      "INFO:httpx:HTTP Request: POST http://localhost:8000/v1/chat/completions \"HTTP/1.1 200 OK\"\n",
      " 36%|███▋      | 4/11 [00:38<01:17, 11.07s/it]"
     ]
    },
    {
     "name": "stdout",
     "output_type": "stream",
     "text": [
      "--------------------------------\n",
      "Processed: (라) “밀폐공간”이라 함은 환기가 불충분한 상태에서 산소결핍이나 유해가스로 인한 중독·화재·폭발 등의 위험이 있는 장소로서 산업안전보건기준에 관한 규칙 〈별표18〉에서 정한 장소를 말하며 <부록 1>을 참조한다.\n",
      "\n",
      "(마) “역화”라 함은 노즐의 화염이 취관 쪽으로 되돌아오는 현상을 말한다.\n",
      "\n",
      "(바) “유해가스”라 함은 탄산가스, 일산화탄소, 황화수소 등 기체로서 인체에 유해한 영향을 미치는 물질을 말한다.\n",
      "\n",
      "(사) “용접 흃(Welding fume)”이라 함은 용접작업시 발생하는 금속의 증기가 응축되거나 산화되는 등의 화학반응에 의하여 형성된 고체상 미립자를 말한다.\n",
      "\n",
      "(2) 그 밖의 이 지침에서 사용하는 용어의 정의는 이 지침이 특별히 규정하는 경우를 제외하고는 산업안전보건법, 같은 법 시행령, 같은 법 시행규칙, 안전보건규칙 및 고시에서 정하는 바에 따른다.\n",
      "\n",
      "4. 유해·위험요인별 안전보건 조치\n",
      "\n",
      "4.1 화재예방\n",
      "\n",
      "건설현장에서의 용접·용단 작업 시 불꽃, 불티 등 점화원 발생과 작업장소에 근접한 인화성, 가연성 물질과 접촉에 따른 화재예방을 위하여 다음의 조치를 하여야 한다.\n",
      "\n",
      "4.1.1 일반사항\n",
      "\n",
      "(1) 용접·용단 작업 전 작업조건, 작업장소 주변에 인화성, 가연성 물질 여부 등을 조사하여 위험성 평가를 통한 작업 전 위험요인 제거, 방호조치 등을 하여야 한다.\n",
      "\n",
      "(2) 용접·용단 작업장소에 근접하여 다른 작업을 하거나 통행하는 근로자의 위험을 예방하기 위하여 작업구역 설정, 출입통제용 안전을 설치, 화기작업 경고표지 설치 등의 조치를 하여야 한다.\n"
     ]
    },
    {
     "name": "stderr",
     "output_type": "stream",
     "text": [
      "INFO:httpx:HTTP Request: POST http://localhost:8000/v1/chat/completions \"HTTP/1.1 200 OK\"\n",
      " 45%|████▌     | 5/11 [00:56<01:20, 13.43s/it]"
     ]
    },
    {
     "name": "stdout",
     "output_type": "stream",
     "text": [
      "--------------------------------\n",
      "Processed: (3) 용접·용단 불꽃, 충격마찰, 스파크, 정전기 등 점화원이 있는 장소에서는 인화성, 가연성 물질을 충분히 격리시키고, 같은 높이의 작업장소에서는 불티의 수평 비산 가능거리는 11m 이상 격리될 수 있도록 조치한다.\n",
      "\n",
      "(4) 화재 발생 위험요인을 근원적으로 제거하거나 방호하기 어려운 다음과 같은 작업조건에서 용접·용단 작업을 하는 경우 화재 감시인을 배치하여 위급상황에 적시 대처할 수 있도록 조치하여야 한다.\n",
      "\n",
      "(가) 인화성, 가연성 물질이 작업장소에서 반경 11m이상 떨어져 있지만 불티로 인하여 발화위험이 있는 경우\n",
      "(다) 작업장소에서 반경 11m이내 측면 또는 바닥 개구부를 폐쇄 또는 방호 조치하기 어려운 경우\n",
      "(라) 인화성, 가연성물질이 열전도성 칸막이, 벽, 바닥, 천장 또는 지붕의 반대쪽 면에 인접하여 열전도 또는 열복사에 의해 발화가능성이 있는 경우\n",
      "(마) 기타 화재발생의 위험이 높은 장소의 화재 위험요인에 대한 충분한 예방 조치를 적용하기 어려운 경우\n",
      "\n",
      "(5) 용접·용단 작업 근로자에게는 내열성능이 있는 장갑, 보호복, 안전모, 보안경 등의 보호구를 지급, 착용하도록 관리한다.\n",
      "\n",
      "(6) 작업장소와 가까운 위치에 경보용 설비 또는 도구를 설치 또는 비치하여 위급 상황시 신속하게 경고하고 전파될 수 있도록 조치한다.\n",
      "\n",
      "(7) 화재·폭발 발생 위험이 높은 경우 즉시 작업을 중단하고 용접·용단 장비의 가스 차단 또는 전원 차단 후 대피한다.\n",
      "\n",
      "(8) 절산염, 과산화수소, 과염소산, 산소, 불소 등 산화제는 가연성 물질과 혼합 시 폭발할 위험이 높으므로 내산성인 저장용기를 사용하고, 점화원 발생위험 장소로부터 안전한 거리 이상으로 격리시키고 관리하여야 한다.\n",
      "\n",
      "4.1.2 인화성, 가연성 물질 관리\n",
      "\n",
      "(1) 작업장소의 조건을 고려하여 가능한 모든 인화성, 가연성 물질은 용접·용단 작업장소로부터 수평거리 11m이상 격리시켜야 한다.\n",
      "\n",
      "(2) 인화성, 가연성 물질의 격리조치가 어려거나 고정되어 있는 경우 다음 사항에 유의하여 작업하여야 한다.\n"
     ]
    },
    {
     "name": "stderr",
     "output_type": "stream",
     "text": [
      "INFO:httpx:HTTP Request: POST http://localhost:8000/v1/chat/completions \"HTTP/1.1 200 OK\"\n",
      " 55%|█████▍    | 6/11 [01:12<01:12, 14.54s/it]"
     ]
    },
    {
     "name": "stdout",
     "output_type": "stream",
     "text": [
      "--------------------------------\n",
      "Processed: (가) 가연성 물질 및 불티 비산거리 내 벽, 바닥, 덱트 등의 개구부 또는 틈새에 불티가 들어가지 않도록 방염시트 등으로 빈틈없이 방호하여야 한다.\n",
      "(나) 배관 등의 보온재로 사용된 가연성 단열재는 가능한 한 제거한 후에 작업하여야 한다.\n",
      "(다) 높은 위치에서 실시하는 강구조물, 배관 보수 작업 시 불티받이포를 설치하여 아래 또는 측면으로 멀어지는(피지는) 불티가 비산하지 않도록 조치하여야 한다.\n",
      "(라) 폴리우레탄폼, 스티로폼, 센드위치 패널 등이 적재 또는 시공되어 있는 경우 용접·용단 작업시 불꽃, 불티 등 고열용품 등과 접촉되지 않도록 주의하여야 한다. 그 외의 사항은 KOSHA GUIDE F-3-2014(경질폴리우레탄폼 취급 시 화재예방에 관한 기술지침)을 참조한다.\n",
      "(마) 바람의 영향으로 용접·용단 불티가 운전 중인 설비근처로 비산할 가능성이 있을 때에는 작업을 중지하여야 한다.\n",
      "(바) 윤활유, 유류, 인화성 또는 가연성 물질이 덮여 있는 표면에서는 작업을 금지한다.\n",
      "(사) 가연성 벽, 칸막이, 천장 또는 지붕과 접촉하는 배관 또는 기타 금속에 대한 용접·용단작업을 계획한 경우 열전도에 의해 발화위험이 높으므로 방호조치를 취하거나 대체작업을 검토하여야 한다.\n",
      "\n",
      "4.1.3 전기용접 시 유의사항\n",
      "\n",
      "전기용접 시 화재 예방을 위해서는 전기용접기 및 관련 전기기기의 올바른 사용이 중요하므로 다음 사항에 유의하여 작업하여야 한다.\n",
      "\n",
      "(1) 다수의 용접기를 동시에 사용하는 경우 접지클램프를 한 곳에 접속시킨 상태에서 동시 작업을 금지한다.\n",
      "\n",
      "(2) 용접기의 전원개폐기는 작업의 종료·중단, 작업 위치변경 또는 사고 발생 시 전원을 신속하게 차단할 수 있도록 가까운 곳에 설치하며, 주변에는 인화성·가연성 물질이 없도록 조치한다.\n",
      "\n",
      "4.1.4 가스용접 시 유의사항\n",
      "\n",
      "가스 용접·용단 작업시 산소의 압력, 절단속도 및 절단방향에 따라 비산불티의 양과 크기가 달라지므로 다음 사항에 유의하여 작업하여야 한다.\n"
     ]
    },
    {
     "name": "stderr",
     "output_type": "stream",
     "text": [
      "INFO:httpx:HTTP Request: POST http://localhost:8000/v1/chat/completions \"HTTP/1.1 200 OK\"\n",
      " 64%|██████▎   | 7/11 [01:27<00:57, 14.49s/it]"
     ]
    },
    {
     "name": "stdout",
     "output_type": "stream",
     "text": [
      "--------------------------------\n",
      "Processed: (1) 가스 절단 시에는 불티가 광범위하게 비산하므로 차단막이나 방염시트 등을 비산 방지 조치를 하여야 한다.\n",
      "\n",
      "(2) 산소용기, 호스 및 밸브에 유지류가 묻어 있을 경우, 화재의 위험이 있으므로 취급 시 기름 등이 묻은 손이나 장갑으로 취급하지 않도록 유의하여야 한다.\n",
      "\n",
      "4.2 폭발 예방\n",
      "\n",
      "용접, 용단 시 아세틸렌, LPG 등 가스 사용 직후 가스 누출, 밀폐공간내 가스잔류 등 원인으로 점화원이 발생하는 경우 폭발 위험이 높으므로 다음 사항에 유의하여야 한다.\n",
      "\n",
      "4.2.1 가스누출 예방\n",
      "\n",
      "(1) 용접, 용단 직후 가스용기 연결부, 호스, 밸브 등의 손상, 풀림 등의 원인으로 인한 가스누출 여부를 항상 점검하고 잔류가스 유무를 확인한 후 작업을 시작하여야 한다.\n",
      "\n",
      "가스 용접, 용단 장비의 구성품별 주요 점검내용은 <표 1>과 같다.\n",
      "\n",
      "| 구성품   | 주요 점검 내용                                      |\n",
      "|----------|---------------------------------------------------|\n",
      "| 가스용기  | 충격, 부식 등으로 인한 손상 여부                    |\n",
      "| 압력 조절기| 정상 작동상태, 기밀시험, 접속부 누출 검사           |\n",
      "| 고무호스  | 외관검사, 접속부 누출 검사, 호스 균열 또는 열화 여부 |\n",
      "| 취관     | 외관검사, 기밀시험, 밸브누설 여부, 화염상태 확인   |\n",
      "\n",
      "(2) 호스의 연결부는 조임물을 이용하여 견고하게 연결하고 호스상태를 수시 점검하여 갈라진 부분이 있을 때는 즉시 교체하여 가스가 누출되지 않도록 관리하여야 한다.\n",
      "\n",
      "(3) 가스 용접, 용단 직후 사용되는 장비의 각 구성품간 기밀유지를 위해 사용되는 고무재질 부품은 열화하기 때문에 작업 전 일상점검을 통해 반드시 가스누출 여부를 파악하여야 한다.\n"
     ]
    },
    {
     "name": "stderr",
     "output_type": "stream",
     "text": [
      "INFO:httpx:HTTP Request: POST http://localhost:8000/v1/chat/completions \"HTTP/1.1 200 OK\"\n",
      " 73%|███████▎  | 8/11 [01:41<00:43, 14.43s/it]"
     ]
    },
    {
     "name": "stdout",
     "output_type": "stream",
     "text": [
      "--------------------------------\n",
      "Processed: (4) 가스누출감지기를 사용하여 점검하고 누출이 발견되면 점화원 발생 위험이 없는 개방된 장소로 옮겨 수리하거나 교체하여야 한다.\n",
      "\n",
      "(5) 가스용기는 반드시 세워 보관하고 충격에 유의해야 하므로 굴리거나 어깨에 매고 운반 또는 이동하는 행위를 금지하고 반드시 전용 운반장비를 사용하여야 한다.\n",
      "\n",
      "(6) 가스용기를 지상에 설치하여 사용하는 경우 호스를 당기거나 요철부위 위에 설치하여 가스용기가 전도되는 일이 발생하지 않도록 용기의 전도방지 조치를 하여야 한다.\n",
      "\n",
      "4.2.2 역화 방지\n",
      "\n",
      "(1) 작업 전 노즐, 취관, 압력조절기, 호스, 범브, 가스용기 등 장비의 손상이나 결함을 반드시 확인하고 작업하여야 한다.\n",
      "\n",
      "(2) 가스가 역화 되는 것을 효과적으로 차단할 수 있도록 압력조절기와 호스 사이에 역화방지용 안전기가 반드시 설치하고 상시 정상적으로 작동되는지 여부를 관리하여야 한다.\n",
      "\n",
      "가스 용접·용단 작업시 역화의 주요 원인별 대책은 <표 2>와 같다.\n",
      "\n",
      "| 원 인                                      | 대 책                                      |\n",
      "|--------------------------------------------|--------------------------------------------|\n",
      "| 노즐 끝 과열                                | 노즐 과열 시 물로 식힘                        |\n",
      "| 천소의 압력이 지나치게 높음                  | 역화방지기 설치                             |\n",
      "| 토치의 성능이 용접작업에 부적합              | 알맞은 노즐 사용                             |\n",
      "| 압력조절기 고장으로 압력의 불균형 발생      | 작업 시작 전 압력조절기의 성능 확인            |\n",
      "\n",
      "4.3 감전재해 예방조치\n",
      "\n",
      "용접 용단 작업 시 습도가 높고 피부나 의복이 젖어 있을 경우 감전재해 위험이 높으므로 감전예방을 위하여 다음 사항에 유의하여 작업하여야 한다.\n",
      "\n",
      "(1) 전선, 전극용 홀더, 용접봉 등의 전기용접 관련 기구는 항상 건조 상태를 유지할 수 있도록 관리하여야 한다.\n"
     ]
    },
    {
     "name": "stderr",
     "output_type": "stream",
     "text": [
      "INFO:httpx:HTTP Request: POST http://localhost:8000/v1/chat/completions \"HTTP/1.1 200 OK\"\n",
      " 82%|████████▏ | 9/11 [01:56<00:29, 14.72s/it]"
     ]
    },
    {
     "name": "stdout",
     "output_type": "stream",
     "text": [
      "--------------------------------\n",
      "Processed: (2) 용접봉에 접촉되거나 용접기의 2차측 배선이나 허더의 접연의 불량으로 인한 감전을 방지하기 위해 용접기의 무부하 전압을 안전전압인 30V 이하로 적절시키는 자동전격방지기 설치하고 작동여부를 수시로 확인하여야 한다.\n",
      "\n",
      "(3) 훼손되거나 과전류(열손상)에 의하여 피복이 손상된 용접케이블은 신규로 교체하거나 절연테이프로 보수하여 사용한다.\n",
      "\n",
      "(4) 절연용 허더를 사용하고 허더에 용접봉 끼운 채 방치하지 못하도록 관리하여야 한다.\n",
      "\n",
      "(5) 접지클램프는 용접대상물(모재)에 접지해야 하며, 모재가 아닌 주변 구조물 (철재빔 등)에 접지하지 않도록 한다.\n",
      "\n",
      "(6) 용접봉과 접지클램프를 가능한 가깝게 하여 외부로 전류가 누설되는 것을 방지하여야 한다.\n",
      "\n",
      "4.4 용접·용단 작업시 근로자 보호\n",
      "\n",
      "4.4.1 유해가스 중독 및 산소결핍 예방\n",
      "\n",
      "유독물이 저장되었던 장소의 내부 용접 시에는 잔류가스에 의한 중독, 열소각성, 이온화한 이산화물의 이송배관을 이용한 산소결핍으로 인한 질식 위험이 높으므로 다음과 같은 근로자 보호조치를 취하여야 한다.\n",
      "\n",
      "(1) 작업 전 유해가스 체류농도, 산소농도를 측정하여 안전한 상태임을 확인하여야 한다.\n",
      "\n",
      "(2) 유해가스 이송배관에 근접한 장소에서 작업하는 경우 유해가스 누출로 인한 중독, 산소결핍 등 위험을 높으므로 방독마스크, 송기마스크 등 호흡용 보호구를 비치하고 위급상황 발생시 즉시 사용 가능한 상태에서 작업하여야 한다.\n",
      "\n",
      "(3) 용접 환(fume)이 발생하는 용접작업 시 부분 및 전체 환기시설을 설치하여 유해가스를 외부로 배출시키고, 근로자에게 호흡용 보호구를 지급·착용하도록 하여야 한다.\n"
     ]
    },
    {
     "name": "stderr",
     "output_type": "stream",
     "text": [
      "INFO:httpx:HTTP Request: POST http://localhost:8000/v1/chat/completions \"HTTP/1.1 200 OK\"\n",
      " 91%|█████████ | 10/11 [02:10<00:14, 14.40s/it]"
     ]
    },
    {
     "name": "stdout",
     "output_type": "stream",
     "text": [
      "--------------------------------\n",
      "Processed: (4) 작업 중 유해가스 등의 누출, 유입, 발생 가능성이 있는 경우에는 주기적으로 가스 농도를 측정하여야 한다.\n",
      "\n",
      "(5) 실내에서 작업 시 환기와 배기가 중단되지 않고 균일하게 환기되도록 필요한 전원 등 동력공급이 중단되지 않도록 하여야 한다.\n",
      "\n",
      "(6) 맨홀 및 피트 등 통풍이 불충분한 곳에서 작업 시 위급상황에 대처할 수 있도록 외부와의 연락장치, 비상용사다리, 로프 등을 준비하고 작업하여야 한다.\n",
      "\n",
      "4.4.2 화상예방\n",
      "\n",
      "용접작업 시 아크광이나 불꽃, 불티, 폭발된 금속 및 레이저 등에 의하여 눈, 얼굴 및 신체의 화상재해 발생위험이 높으므로 화상을 방지하기 위하여 다음과 같은 근로자 보호조치를 하여야 한다.\n",
      "\n",
      "(1) 용접작업 근로자에게 안전장갑, 보안경, 보안면, 보호복 등 보호장구를 지급하고 착용하도록 하여야 한다.\n",
      "\n",
      "(2) 용접근로자의 작업복은 가급적 난연성 재질의 복장을 착용하도록 한다.\n",
      "\n",
      "4.4.3 유해광선, 소음 등 방호조치\n",
      "\n",
      "(1) 아크용접 시 강렬한 가시광선, 자외선 및 적외선을 포함한 아크광에 의한 안구과 피부 손상을 방지하기 위하여 근로자에게 안전인증을 받은 차량 및 비산물 위험방지용 보안경을 지급하여 착용하도록 한다.\n",
      "\n",
      "(2) 아크용접 작업장소에 인접한 작업을 하는 다른 근로자 보호를 위하여 아크광 차폐시설을 설치한다.\n",
      "\n",
      "(3) 용접, 용단 작업 방법에 따라 65~105 dB 수준의 소음이 발생하며 이는 일시적 및 영구적 난청을 유발할 수 있으므로 소음이 85 dB 이상인 경우 차음보호구 (귀마개)를 착용하여야 한다.\n"
     ]
    },
    {
     "name": "stderr",
     "output_type": "stream",
     "text": [
      "INFO:httpx:HTTP Request: POST http://localhost:8000/v1/chat/completions \"HTTP/1.1 200 OK\"\n",
      "100%|██████████| 11/11 [02:34<00:00, 14.08s/it]\n"
     ]
    },
    {
     "name": "stdout",
     "output_type": "stream",
     "text": [
      "--------------------------------\n",
      "Processed: 밀폐공간\n",
      "\n",
      "(산업안전보건기준에 관한 규칙 [별표 18], 산업안전보건기준에 관한 규칙 제618조 제1호 관련)\n",
      "1. 다음의 지층에 접하거나 통하는 우물·수직갱·터널·잠함·피트 또는 그밖에 이와 유사한 것의 내부\n",
      "   가. 상층에 물이 통과하지 않는 지층이 있는 역암층 중 함수 또는 용수가 없거나 적은 부분\n",
      "   나. 제1항 열과 또는 제1항 열을 포함하는 지층\n",
      "   라. 탄산수를 용출하고 있거나 용출할 우려가 있는 지층\n",
      "2. 장기간 사용하지 않은 우물 등의 내부\n",
      "3. 케이블·가스관 또는 지하에 부설되어 있는 매설물을 수용하기 위하여 지하에 부설한 암거·맨홀 또는 피트의 내부\n",
      "4. 빗물·하천의 유수 또는 용수가 있거나 있었던 통·암거·맨홀 또는 피트의 내부\n",
      "5. 바닷물이 있거나 있었던 열교환기·관·암거·맨홀·관 또는 피트의 내부\n",
      "6. 장기간 밀폐된 강재의 보일러·탱크·반응탑이나 그 밖에 그 내벽이 상화하기 쉬운 시설(그 내벽이 스테인리스강으로 된 것 또는 그 내벽의 상화를 방지하기 위하여 필요한 조치가 되어 있는 것은 제외한다)의 내부\n",
      "7. 석탄·석탄·황화광·강재·원목·건성유(乾性油)·어유(魚油) 또는 그 밖의 공기 중의 산소를 흡수하는 물질이 들어 있는 탱크 또는 톱indice의 내부\n",
      "8. 천장·바닥 또는 벽이 건성유를 함유하는 페인트로 도장되어 그 페인트가 건조되기 전에 밀폐된 지하실·창고 또는 펫크 등 통풍이 불충분한 시설의 내부\n",
      "9. 극물 또는 사료의 저장용 창고 또는 피트의 내부, 과일의 숙성용 창고 또는 피트의 내부, 증자의 발아용 창고 또는 피트의 내부, 버섯류의 재배를 위하여 사용하고 있는 사일로(silo), 그 밖에 곡물 또는 사료종자를 적재한 창고의 내부\n",
      "10. 간장·주류·효모가 밖에 발효하는 물품이 들어 있거나 들어 있었던 탱크·창고 또는 양조부의 내부\n",
      "11. 분뇨, 오염된 홍, 썩은 물, 흙, 오수, 그 밖에 부패하거나 분해되기 쉬운 물질이 들어 있는 정화조·침전조·집수조·탱크·암거·맨홀·관 또는 피트의 내부\n",
      "12. 드라이아이스를 사용하는 방장고·냉동고·냉동화물자동차 또는 냉동기차이나의 내부\n",
      "13. 헬륨·아르곤·순소·프레온·탄산가스 또는 그 밖의 불활성기가 들어 있거나 있었던 보일러·탱크 또는 반응탑 등 시설의 내부\n",
      "14. 산소농도가 18퍼센트 미만 또는 23.5퍼센트 이상, 탄산가스농도가 1.5퍼센트 이상, 일산화탄소농도가 30피피엠 이상 또는 함량수소농도가 10피피엠 이상인 장소의 내부\n",
      "15. 갈탄·목탄·연탄난로를 사용하는 콘크리트 양생장소(養生場所) 및 가설숙소 내부\n",
      "16. 화학물질이 들어있던 반응기 및 탱크의 내부\n",
      "17. 유해가스가 들어있던 배관이나 집진기의 내부\n",
      "18. 근로자가 상주(常住)하지 않는 공간으로서 출입이 제한되어 있는 장소의 내부\n",
      "---End---\n",
      "Processing 덤프트럭 및 화물자동차 안전작업지침\n"
     ]
    },
    {
     "name": "stderr",
     "output_type": "stream",
     "text": [
      "  0%|          | 0/19 [00:00<?, ?it/s]INFO:httpx:HTTP Request: POST http://localhost:8000/v1/chat/completions \"HTTP/1.1 200 OK\"\n",
      "  5%|▌         | 1/19 [00:02<00:42,  2.36s/it]"
     ]
    },
    {
     "name": "stdout",
     "output_type": "stream",
     "text": [
      "--------------------------------\n",
      "Processed: 덤프트럭 및 화물자동차 안전작업 지침\n",
      "\n",
      "2020. 12.\n",
      "\n",
      "한국산업안전보건공단\n"
     ]
    },
    {
     "name": "stderr",
     "output_type": "stream",
     "text": [
      "INFO:httpx:HTTP Request: POST http://localhost:8000/v1/chat/completions \"HTTP/1.1 200 OK\"\n",
      " 11%|█         | 2/19 [00:20<03:18, 11.68s/it]"
     ]
    },
    {
     "name": "stdout",
     "output_type": "stream",
     "text": [
      "--------------------------------\n",
      "Processed: 안전보건기술지침의 개요\n",
      "\n",
      "○ 작성자 : (사)한국건설안전협회 최순주\n",
      "\n",
      "○ 제·개정 경과\n",
      "   - 2020년 11월 건설안전분야 표준제정위원회 심의(통합제정, 중복제거)\n",
      "\n",
      "○ 관련규격 및 자료\n",
      "   - KOSHA GUIDE C-106-2016 덤프트럭안전보건작업 지침\n",
      "   - KOSHA GUIDE C-107-2016 일반 화물자동차 안전보건작업 지침\n",
      "   - KOSHA GUIDE C-48-2012 건설기계 안전보건작업 지침\n",
      "   - KS R 6003-1: 2001 토평기계-덤프트럭-제1부:용어 및 시범항목(한국표준협회)\n",
      "   - 건설기계 시공안전기준 제정에 관한 연구(한국건설기술연구원)\n",
      "\n",
      "○ 관련법규·규칙·고시 등\n",
      "   - 산업안전보건기준에관한규칙 제171조∼178조(차량계 하역운반기계 등), 제187조∼190조(화물자동차), 제196조∼206조(차량계 건설기계 등), 제385조∼386조(중량물 취급시의 안전조치), 제387조∼393조(화물취급 작업 등)\n",
      "   - 고용노동부고시 제2020-26호(운반하역 표준안전 작업지침)\n",
      "   - 고용노동부고시 제2020-53호(사업장 위험성 평가에 관한 지침)\n",
      "   - 자동차관리법 시행규칙 제2조(자동차의 종별 구분)\n",
      "   - 도로교통법 제49조(모든 운전자의 준수사항 등) 및 같은 법 시행령 제22조(운행상의 안전기준)\n",
      "   - 자동차 및 자동차부품의 기준에 관한 규칙 제8조(최대안전경사각도)\n",
      "   - 건설기계 안전기준에 관한 규칙(국토교통부령 제751호) 제29조∼제31조\n",
      "   - 건설기계관리법 제31조(건설기계조종사의 안전교육 등)\n",
      "\n",
      "○ 기술지침의 적용 및 문의\n",
      "   - 이 기술지침에 대한 의견 또는 문의는 한국산업안전보건공단 홈페이지(www.kosha.or.kr) 안전보건기술지침 소관 분야별 문의처 안내를 참고하시기 바랍니다.\n",
      "   - 동 지침 내에서 인용된 관련 규격 및 자료 등에 관한 최근 개정 내용이 있는 경우 동 지침에 우선하여 참고하시기 바랍니다.\n",
      "\n",
      "공표일자 : 2020년 12월\n",
      "제 정 자 : 한국산업안전보건공단 이사장\n"
     ]
    },
    {
     "name": "stderr",
     "output_type": "stream",
     "text": [
      "INFO:httpx:HTTP Request: POST http://localhost:8000/v1/chat/completions \"HTTP/1.1 200 OK\"\n",
      " 16%|█▌        | 3/19 [00:34<03:22, 12.65s/it]"
     ]
    },
    {
     "name": "stdout",
     "output_type": "stream",
     "text": [
      "--------------------------------\n",
      "Processed: 덤프트럭 및 화물자동차 안전보건 지침\n",
      "\n",
      "1. 목 적\n",
      "\n",
      "이 지침은 산업안전보건기준에관한규칙(이하“안전보건규칙”이라 한다) 제35조∼40조(관리감독자의 직무, 사용의 제한 등), 제171조∼178조(차량계 하역운반기계등), 제187조∼190조(화물자동차), 제196조∼206조(차량계 건설기계 등), 제385조∼386조(중량물 취급 시의 위험방지), 제387조∼393조(화물취급 작업 등)의 규정에 따라 덤프트럭과 화물자동차를 사용한 건설 자재의 적재, 운반, 싣거나 내리는 작업 등에서 발생할 수 있는 장비의 전도·전락·불시 이동과 근로자의 충돌·협착·추락 등의 재해를 방지하기 위하여 필요한 사항 등을 정함을 목적으로 한다.\n",
      "\n",
      "2. 적용범위\n",
      "\n",
      "이 지침은 건설현장에서 덤프트럭과 화물자동차를 이용한 건설용 자재의 적재, 운반, 싣거나 내리는 작업 등에서 발생할 수 있는 장비의 전도·전락·접촉·불시 이동과 근로자의 접촉·협착·추락 등의 재해 방지에 적용한다.\n",
      "\n",
      "3. 용어의 정의\n",
      "\n",
      "(1) 이 지침에서 사용하는 용어의 뜻은 다음과 같다\n",
      "\n",
      "(가) “덤프트럭”이란 차량계 건설기계로서 적재함을 자체적으로 기울여 화물을 하역할 수 있는 구조의 차량으로 기동성이 좋아 원거리 화물(토사, 모래, 자갈 등) 운반에 적합한 적재용량 12톤 이상인 건설기계를 말한다.\n",
      "\n",
      "(나) “화물자동차”란 합은 차량계 하역운반기계로서 화물을 운반하는 차량으로 적재함 바닥 면적이 최소 2m²이상인 화물 적재 공간을 갖춘 자동차를 말한다.\n"
     ]
    },
    {
     "name": "stderr",
     "output_type": "stream",
     "text": [
      "INFO:httpx:HTTP Request: POST http://localhost:8000/v1/chat/completions \"HTTP/1.1 200 OK\"\n",
      " 21%|██        | 4/19 [00:46<03:05, 12.34s/it]"
     ]
    },
    {
     "name": "stdout",
     "output_type": "stream",
     "text": [
      "--------------------------------\n",
      "Processed: (다) “적재 중량”이란 제조사가 제공하는 제품설명서에서 정한 허용 하중으로 승차 기준인원 및 차량 자체하중을 제외한 적재함의 최대적재량(Ton)을 말한다.\n",
      "\n",
      "(라) “십시오 내리는 작업”이란 차량에 화물을 싣거나 또는 내리는 작업으로 로프 걸이 및 풀기와 덮개 덮기 및 벗기기 작업을 포함하여 말한다.\n",
      "\n",
      "(2) 그 밖의 용어의 뜻은 이 지침에 특별한 규정이 없으면 「산업안전보건법」, 같은 법 시행령, 같은 법 시행규칙 및 산업안전보건기준에 관한 규칙에서 정하는 바에 의한다.\n",
      "\n",
      "4. 덤프트럭과 화물자동차의 종류\n",
      "\n",
      "4.1 덤프트럭의 종류\n",
      "\n",
      "국내 건설현장에서 주로 사용하는 덤프트럭은 하대 개방 방식, 구동 방식, 차축수에 따라 구분되며 그에 따른 분류는 다음과 같다.\n",
      "\n",
      "(1) 하대 개방방식에 의한 구분\n",
      "\n",
      " 덤프트럭은 하대 개방방식에 따라 후면과 하면 및 측면 개방식으로 분류한다.\n",
      "\n",
      " (가) 후면개방식(Rear Dump): 적재물을 <그림 1>과 같이 뒷쪽으로 내릴 수 있는 구조의 덤프트럭으로 건설현장에서 주로 사용한다.\n",
      "\n",
      " (나) 하면개방식(Bottom Dump): 적재물을 <그림 2>와 같이 아래로 내릴 수 있는 구조의 덤프트럭 이다.\n",
      "\n",
      " (다) 측면개방식(Side Dump): 적재물을 <그림 3>과 같이 옆으로 내릴 수 있는 구조의 덤프트럭 이다.\n"
     ]
    },
    {
     "name": "stderr",
     "output_type": "stream",
     "text": [
      "INFO:httpx:HTTP Request: POST http://localhost:8000/v1/chat/completions \"HTTP/1.1 200 OK\"\n",
      " 26%|██▋       | 5/19 [00:52<02:22, 10.20s/it]"
     ]
    },
    {
     "name": "stdout",
     "output_type": "stream",
     "text": [
      "--------------------------------\n",
      "Processed: (2) 구동 방식에 의한 구분\n",
      "\n",
      "던프트럭은 엔진의 동력을 전달하는 방식에 따라 후륜, 전륜, 4륜 구동방식으로 분류한다.\n",
      "\n",
      "(가) 후륜 구동식(Rear Wheel Drive): 동력이 <그림 4>와 같이 후륜으로 전달되어 구동되는 방식이다.\n",
      "\n",
      "(나) 전륜 구동식(Front Wheel Drive): 동력이 <그림 5>와 같이 전륜으로 전달되어 구동되는 방식이다.\n",
      "\n",
      "(다) 4륜 구동식(Four Wheel Drive): 동력이 <그림 6>과 같이 전륜과 후륜으로 전달되어 구동되는 방식이다.\n",
      "\n",
      "(3) 차축수에 의한 구분\n",
      "\n",
      "던프트럭은 차축수에 따라 2축, 3축, 다축식으로 분류한다.\n"
     ]
    },
    {
     "name": "stderr",
     "output_type": "stream",
     "text": [
      "INFO:httpx:HTTP Request: POST http://localhost:8000/v1/chat/completions \"HTTP/1.1 200 OK\"\n",
      " 32%|███▏      | 6/19 [01:03<02:14, 10.36s/it]"
     ]
    },
    {
     "name": "stdout",
     "output_type": "stream",
     "text": [
      "--------------------------------\n",
      "Processed: (가) 2축식: 휠(Wheel)을 회전시키는 축대(Axle)가 2개인 <그림 7>과 같은 덤프트럭을 말한다.\n",
      "\n",
      "(나) 3축식: 휠(Wheel)을 회전시키는 축대(Axle)가 3개인 <그림 8>과 같은 덤프트럭을 말한다.\n",
      "\n",
      "(다) 다축식: 휠(Wheel)을 회전시키는 축대(Axle)가 4개 이상인 <그림 9>와 같은 덤프트럭으로 건설현장에서 가장 많이 사용하고 있다.\n",
      "\n",
      "4.2 화물자동차의 종류\n",
      "\n",
      "국내 건설현장에서 주로 사용하는 화물자동차는 최대 적재중량, 유형, 업종에 따라 구분되며 그에 따른 화물자동차의 분류는 다음과 같다.\n",
      "\n",
      "(1) 최대 적재중량에 따른 분류\n",
      "\n",
      "(가) 소형: 최대 적재중량이 1톤 이하인 것으로서, 총중량이 3.5톤 이하인 <그림 10>과 같은 화물자동차를 말한다.\n",
      "\n",
      "(나) 중형: 최대 적재중량이 1톤 초과 5톤 미만이거나, 총중량이 3.5톤 초과 10톤 미만인 <그림 11>과 같은 화물자동차를 말한다.\n",
      "\n",
      "(다) 대형: 최대 적재중량이 5톤 이상이거나, 총 중량이 10톤 이상인 <그림 12>과 같은 화물자동차를 말한다.\n"
     ]
    },
    {
     "name": "stderr",
     "output_type": "stream",
     "text": [
      "INFO:httpx:HTTP Request: POST http://localhost:8000/v1/chat/completions \"HTTP/1.1 200 OK\"\n",
      " 37%|███▋      | 7/19 [01:09<01:49,  9.11s/it]"
     ]
    },
    {
     "name": "stdout",
     "output_type": "stream",
     "text": [
      "--------------------------------\n",
      "Processed: (2) 유형에 따른 분류\n",
      "\n",
      "(가) 일반형: 보통의 화물운송용인 자동차를 말한다.\n",
      "\n",
      "(나) 덤프형: 적재함을 원동기의 힘으로 기울여 적재물을 자체적으로 내릴 수 있는 <그림 12>와 같은 화물운송용 자동차를 말한다.\n",
      "\n",
      "(다) 밴형: 지붕구조의 덮개가 있는<그림 13>과 같은 화물운송용 자동차를 말한다.\n",
      "\n",
      "(라) 특수용도형: 특정한 용도를 위하여 특수한 구조 이거나 기구를 장착한 것으로서 특정 화물운송용 자동차를 말한다.\n",
      "\n",
      "① 운송형: 차량 등의 운송을 전용으로 하는<그림 14>과 같은 구조의 화물자동차를 말한다.\n"
     ]
    },
    {
     "name": "stderr",
     "output_type": "stream",
     "text": [
      "INFO:httpx:HTTP Request: POST http://localhost:8000/v1/chat/completions \"HTTP/1.1 200 OK\"\n",
      " 42%|████▏     | 8/19 [01:22<01:51, 10.11s/it]"
     ]
    },
    {
     "name": "stdout",
     "output_type": "stream",
     "text": [
      "--------------------------------\n",
      "Processed: ② 구난 및 견인형: 고장 및 사고 등으로 운행이 곤란한 자동차를 구난 및 견인할 수 있는 <그림 15>과 같은 구조의 화물자동차를 말한다.\n",
      "\n",
      "(3) 업종에 따른 분류(지방세법 시행령 제122조)\n",
      "\n",
      "(가) 영업용(일반, 개별, 용달): 「여객자동차 운수사업법」 또는 「화물자동차 운수사업법」에 따라 면허(등록을 포함한다)를 받거나 「건설기계관리법」에 따라 건설기계대여업으로 등록하고 일반의 수요에 제공하는 것\n",
      "\n",
      "(나) 비영업용: 개인 또는 법인이 영업용 외의 용도에 제공하거나 국가 또는 지방공공단체가 공용으로 제공하는 것\n",
      "\n",
      "5. 덤프트럭과 화물자동차 중점 위험요인 및 안전대책\n",
      "\n",
      " 덤프트럭과 화물자동차 작업의 중점 위험요인에 따른 안전대책은 <표. 1>과 같다.\n",
      "\n",
      "| 재해 유형 | 위험 요인 | 안전 대책 |\n",
      "|----------|----------|----------|\n",
      "| 충 돌 | 후진중 후진경보 장치 미작동으로 충돌 위험 | 후진경보장치 작동상태 확인 및 유도자 배치 |\n",
      "| | 운행중 휴대폰 사용이나 DMB 시청 등으로 충돌 위험 | 운행중 휴대폰 사용 및 DMB 시청 금지 |\n",
      "| | 덤프트럭에서 하역 작업 후 적재함이 올려진 상태에서 추행중 교량이나 지하차도 구조물에 부딪치는 충돌 위험 | 덤프트럭 적재함의 하강상태 및 교량이나 지하차도 등의 하부 통과시 통과높이 제한 표시와 도로면의 구배를 확인 후 통과 |\n"
     ]
    },
    {
     "name": "stderr",
     "output_type": "stream",
     "text": [
      "INFO:httpx:HTTP Request: POST http://localhost:8000/v1/chat/completions \"HTTP/1.1 200 OK\"\n",
      " 47%|████▋     | 9/19 [01:30<01:36,  9.70s/it]"
     ]
    },
    {
     "name": "stdout",
     "output_type": "stream",
     "text": [
      "--------------------------------\n",
      "Processed: 6. 덤프트럭과 화물자동차의 안전작업 절차\n",
      "\n",
      "덤프트럭과 화물자동차 작업 절차에 따른 준수사항은 [그림.16]과 같다.\n",
      "\n",
      "| 작업절차 | 준수사항 |\n",
      "|----------|---------|\n",
      "| 6.1 작업계획 수립 및 검토 | 6.1.1 일반 안전사항  \n",
      "6.1.2 작업시 고려사항 |\n",
      "| 6.2 작업 절차별 유해·위험 요인 | 6.2.1 작업 전 준수사항  \n",
      "6.2.2 작업 중 준수사항  \n",
      "6.2.3 작업 종료시 준수사항 |\n",
      "\n",
      "[그림. 16] 작업절차에 따른 준수사항\n",
      "\n",
      "6.1 작업계획 수립 및 검토\n",
      "\n",
      "(1) 관리감독자는 화물취급 작업에서 다음의 유해위험을 방지하는 업무를 수행하여야 한다.\n",
      "\n",
      "(가) 작업방법 및 순서 결정 및 작업의 지휘  \n",
      "(나) 기구 및 공구의 점검 및 불량품 제거  \n",
      "(다) 관계 근로자 이외의 사람 출입 금지  \n",
      "(라) 로프 등의 해체작업을 할 때 화물의 낙하위험 유·무 확인\n"
     ]
    },
    {
     "name": "stderr",
     "output_type": "stream",
     "text": [
      "INFO:httpx:HTTP Request: POST http://localhost:8000/v1/chat/completions \"HTTP/1.1 200 OK\"\n",
      " 53%|█████▎    | 10/19 [01:46<01:43, 11.50s/it]"
     ]
    },
    {
     "name": "stdout",
     "output_type": "stream",
     "text": [
      "--------------------------------\n",
      "Processed: (2) 관리감독자는 덤프와 화물자동차를 사용한 작업(도로 주행 작업은 제외한다)을 하는 경우 근로자의 위험 방지를 위하여 작업장의 지형·지반 및 지층 상태 등을 사전조사하고 다음 내용의 작업계획서를 작성하여 그 결과를 기록·보존하여야 한다.\n",
      "\n",
      "(가) 해당 기계의 굴리·떨어짐, 지반의 붕괴 위험 방지를 위한 해당 작업장소의 지형 및 지반상태에 대한 사전조사\n",
      "(나) 사용 장비의 종류와 성능, 운행경로 및 작업방법 등\n",
      "(다) 해당 작업에 따른 추락·낙하·전도·협착 및 붕괴 등의 위험 예방 등\n",
      "(라) 작업지휘자와 유도자의 지정 및 적정위치 여부 등\n",
      "\n",
      "(3) 관리감독자는 자동차 등록증 보유와 운전원의 자격 및 보험가입 여부를 확인하여야 한다.\n",
      "\n",
      "(4) 덤프 운전원 자격은 1종 대형면허, 화물자동차 운전원 자격은 12톤 미만 차량은 1종 보통면허와 화물운송자격증, 12톤 이상 차량은 1종 대형면허와 화물운송자격증, 트레일러 운전원은 1종 특수면허, 트레일러면허와 화물운송자격증을 소지하여야 한다.\n",
      "\n",
      "(5) 관리감독자는 덤프 및 화물자동차의 적재함 등이 출고시와 달리 구조변경 여부를 확인하여야 하며, 주된 용도 외의 사용(다른 차량의 견인 행위 등)을 금지하여야 한다.\n",
      "\n",
      "6.1.2 작업시 고려사항\n",
      "\n",
      "(1) 덤프 및 화물자동차 작업은 위험성평가를 실시하여 유해·위해 요인을 찾아내어 근로자의 부상 및 질병의 발생 가능성(빈도)과 중대성(강도)을 추정·결정하여 감소 대책을 수립하여야 한다.\n",
      "\n",
      "(2) 위험성평가는 「고용노동부고시 제2020-53호 「사업장 위험성 평가에 관한 지침」에 따라 실시하여야 한다.\n",
      "\n",
      "(3) 덤프트럭 및 화물자동차 선정시 고려사항.\n",
      "\n",
      "(가) 작업여건, 작업물량, 적재물의 부피와 중량, 싣거나 내리는 장비의 조합 등을\n"
     ]
    },
    {
     "name": "stderr",
     "output_type": "stream",
     "text": [
      "INFO:httpx:HTTP Request: POST http://localhost:8000/v1/chat/completions \"HTTP/1.1 200 OK\"\n",
      " 58%|█████▊    | 11/19 [01:59<01:35, 11.98s/it]"
     ]
    },
    {
     "name": "stdout",
     "output_type": "stream",
     "text": [
      "--------------------------------\n",
      "Processed: 고려하여 선정하여야 한다.\n",
      "(나) 운반물량, 운반거리, 장비 Cycle Time 등을 고려하여 선정하여야 한다.\n",
      "(다) 기동력과 제동장치 등의 성능이 우수한 장비를 선정하여야 한다.\n",
      "(라) 가동률, 경제성, 안정성 등을 고려하여 선정하여야 한다.\n",
      "(마) 덤프트럭은 안전지주(안전블록)가 장착된 장비를 선정하여야 한다.\n",
      "\n",
      "(4) 운전자는 건설현장 내에서는 안전모, 안전화 등 보호구를 올바르게 착용하여야 한다.\n",
      "(5) 운전자는 관리감독자 및 작업지휘자 또는 유도자의 유도에 따라 운행하여야 한다.\n",
      "\n",
      "6.2 작업 절차별 유해·위험 요인\n",
      "\n",
      "6.2.1 작업 전 준수사항\n",
      "\n",
      "(1) 관리감독자는 작업 전 제동 및 조종 장치와 하역 및 유압 장치 기능 및 바퀴의 이상 유무 등을 점검하여야 한다.\n",
      "(2) 관리감독자는 점검 결과 이상이 발견되면 즉시 수리하거나 그 밖에 필요한 조치를 하여야 한다.\n",
      "(3) 관리감독자는 이동경로와 진·출입로 및 화물을 싣거나 내리는 장소의 지반 부동침하와 갓길 붕괴방지 조치를 하여야 한다.\n",
      "(4) 관리감독자는 싣거나 내리는 작업장에 관계자 외의 출입을 금지하고, 근로자가 안전하게 이동할 수 있는 안전통로의 확보 및 화물의 전도 및 작업자가 넘어지지 않도록 정리정돈 하여야 한다.\n",
      "(5) 관리감독자는 싣거나 내리는 작업에서 추락의 우려가 있는 경우 안전난간의 설치 등 추락방지 조치를 하여야 한다.\n",
      "(6) 운전자는 조종장치, 클러치, 브레이크의 작동상태 및 운전석 안전벨트의 부착 여부를 확인하여야 한다.\n"
     ]
    },
    {
     "name": "stderr",
     "output_type": "stream",
     "text": [
      "INFO:httpx:HTTP Request: POST http://localhost:8000/v1/chat/completions \"HTTP/1.1 200 OK\"\n",
      " 63%|██████▎   | 12/19 [02:12<01:26, 12.34s/it]"
     ]
    },
    {
     "name": "stdout",
     "output_type": "stream",
     "text": [
      "--------------------------------\n",
      "Processed: (7) 운전자는 전조등, 후미등, 안개등, 차폭 등의 이상 유무를 확인하여야 한다.\n",
      "\n",
      "(8) 운전자는 후사경의 부착 및 후진 경보장치의 작동상태 등 이상 유무를 확인하여야 한다.\n",
      "\n",
      "(9) 운전자는 차륜(타이어)의 공기압, 균열, 변형, 파손 등 주행 장치의 이상 유무를 확인하여야 한다.\n",
      "\n",
      "(10) 운전자는 후방 감시 카메라의 전원 커짐과 모니터 작동상태 등 이상 유무를 확인하여야 한다.\n",
      "\n",
      "(11) 운전자는 유압모터, 실린더, 배관 등에 누유, 손상, 마모 상태 등을 확인하여야 한다.\n",
      "\n",
      "(12) 운전자는 적재함 덮개, 발판, 운전석 방호설비 등의 이상 유무를 확인하여야 한다.\n",
      "\n",
      "(12) 운전자는 운행 중 차량의 전도·전락 등의 위험이 발생하지 않도록 지반의 평탄성 등 지반의 안전 상태를 확인하며 운전하여야 한다.\n",
      "\n",
      "6.2.2 작업 중 준수 사항\n",
      "\n",
      "(1) 관리감독자는 주행로와 진·출입로의 안전을 확인하고, 화물을 싣거나 내리는 작업 장소에는 운전원이 확인할 수 있는 위치에 유도자 또는 신호수를 배치하여야 한다.\n",
      "\n",
      "(2) 관리감독자는 화물을 싣거나 내리는 작업 장소에는 화물이나 장비 등의 접촉으로 근로자가 위험을 우려가 있는 장소에는 관계자 외 근로자의 출입을 금지하여야 한다.\n",
      "\n",
      "(3) 화물의 적재작업은 다음 사항을 준수하여야 한다.\n",
      "\n",
      "   (가) 하중이 한쪽으로 치우치지 않도록 균등하게 적재할 것\n",
      "   (나) 구내운반 또는 화물자동차의 경우 화물의 붕괴 또는 낙하에 의한 위험을 방지하기 위하여 화물에 로프를 거는 등 필요한 조치를 할 것\n"
     ]
    },
    {
     "name": "stderr",
     "output_type": "stream",
     "text": [
      "INFO:httpx:HTTP Request: POST http://localhost:8000/v1/chat/completions \"HTTP/1.1 200 OK\"\n",
      " 68%|██████▊   | 13/19 [02:28<01:19, 13.31s/it]"
     ]
    },
    {
     "name": "stdout",
     "output_type": "stream",
     "text": [
      "--------------------------------\n",
      "Processed: (다) 화물은 해당 차량 제조사가 제공하는 제품설명서의 허용 적재하중을 준수하여 적재하여야 한다.\n",
      "\n",
      "(4) 차량계 운반기계 등의 이송작업을 위하여 화물자동차에 싣거나 내리는 작업을 위하여 발판을 설치하거나 성토하는 경우에는 해당 차량계 하역운반기계 등의 전도 또는 굴러 떨어짐에 의한 위험을 방지하기 위하여 다음 사항을 준수하여야 한다.\n",
      "\n",
      "(가) 싣거나 내리는 작업은 평탄하고 견고한 장소에서 할 것\n",
      "(나) 발판은 충분한 길이, 폭 및 강도를 가진 것을 사용하고 적당한 경사 유지를 위하여 견고하게 설치할 것\n",
      "(다) 가설대 등을 사용하는 경우에는 충분한 폭과 강도 및 적당한 경사를 확보할 것\n",
      "(라) 지정운전자의 성명, 연락처 등을 보기 쉬운 곳에 표시하고 지정운전자 외에는 운전하지 않도록 할 것\n",
      "\n",
      "(5) 차량계 하역운반기계 등은 화물의 적재, 하역 등 주된 용도에만 사용하여야 한다. 다만, 근로자가 위험해질 우려가 없는 경우에는 그러하지 아니하다.\n",
      "\n",
      "(6) 실거나 내리는 작업을 하는 경우 다음 사항을 준수하여야 한다.\n",
      "\n",
      "(가) 작업순서 및 그 순서마다 작업방법을 정하고 작업을 지휘할 것\n",
      "(나) 기구와 공구를 점검하고 불량품을 제거할 것\n",
      "(다) 작업 찬경 내에 관계 근로자가 아닌 사람의 출입을 금지할 것\n",
      "(라) 로프 풀기 또는 덮개 벗기기 작업은 적재함의 화물이 떨어질 위험을 없음을 확인한 다음 작업할 것\n",
      "(마) 로프의 체결과 풀기 및 덮개 작업은 섬유로프 등이 취약함 대책 및 로프의 손상상태를 점검, 확인할 것\n",
      "\n",
      "(7) 바닥으로부터 짐 윗면까지의 높이가 2미터 이상인 화물자동차에 짐을 싣거나 내리는 작업을 하는 경우, 근로자가 바닥과 적재함의 짐 윗면 간을 안전하게 오르내리기 위한 설비를 설치하여야 한다.\n",
      "\n",
      "(8) 화물자동차의 짐걸이는 다음의 어느 하나에 해당하는 섬유로프 등을 사용해서는 아니 된다.\n"
     ]
    },
    {
     "name": "stderr",
     "output_type": "stream",
     "text": [
      "INFO:httpx:HTTP Request: POST http://localhost:8000/v1/chat/completions \"HTTP/1.1 200 OK\"\n",
      " 74%|███████▎  | 14/19 [02:43<01:09, 13.85s/it]"
     ]
    },
    {
     "name": "stdout",
     "output_type": "stream",
     "text": [
      "--------------------------------\n",
      "Processed: (가) 꼬임이 끊어진 것\n",
      "(나) 심하게 손상되거나 부식된 것\n",
      "\n",
      "(9) 섬유로프 등을 점검이로 사용하는 경우 해당 작업을 시작하기 전에 다음의 조치를 하여야 한다.\n",
      "\n",
      "(가) 작업순서와 순서별 작업방법을 결정하고 작업을 직접 지휘할 것\n",
      "(나) 기구와 공구를 점검하고 불량품을 제거할 것\n",
      "(다) 해당 작업 장소에 관계 근로자가 아닌 사람의 출입을 금지시킬 것\n",
      "(라) 로프 풀기 작업 및 덮개 벗기기 작업을 하는 경우에는 적재함의 화물을 낙하위험이 없음을 확인한 후에 해당 작업의 착수를 지시할 것\n",
      "(마) 섬유로프 등에 대하여 이상 유무를 점검하고 이상이 발견된 섬유로프 등은 즉시 교체할 것\n",
      "\n",
      "(10) 화물을 내리는 작업을 하는 경우 그 작업을 하는 근로자에게 쌓여있는 화물의 중간에서 화물을 빼내도록 해서는 아니 된다.\n",
      "\n",
      "(11) 운전자는 운전중 다음의 안전수칙을 준수하여야 한다.\n",
      "\n",
      "(가) 안전벨트는 반드시 착용할 것\n",
      "(나) 앞차와 안전거리를 유지하며 방어운전을 할 것\n",
      "(다) 차선변경, 좌·우회전시 사전에 방향지시등을 작동할 것\n",
      "(라) 운전중 휴대폰 사용이나, DMB 시청을 금지할 것.\n",
      "(마) 경음기, 와이퍼, 전조등, 후미등, 차폭등 등의 작동상태를 확인할 것.\n",
      "(바) 브레이크 및 조향장치의 이상 유·무, 타이어 마모와 공기압 상태 등을 확인할 것.\n",
      "(사) 승차석이 아닌 위치에 근로자 탑승을 금지할 것\n",
      "\n",
      "(12) 운전자는 운행중 도로교통법 및 다음의 운행방법을 준수하여야 한다.\n",
      "\n",
      "(가) 신호등 및 경찰 공무원(의무경찰 포함)의 수신호를 준수하여 운행할 것\n",
      "(나) 도로와 현장 내에서의 제한속도를 준수하여 운행할 것\n",
      "(다) 차량과 차량 간의 안전거리 확보할 것\n"
     ]
    },
    {
     "name": "stderr",
     "output_type": "stream",
     "text": [
      "INFO:httpx:HTTP Request: POST http://localhost:8000/v1/chat/completions \"HTTP/1.1 200 OK\"\n",
      " 79%|███████▉  | 15/19 [02:56<00:54, 13.62s/it]"
     ]
    },
    {
     "name": "stdout",
     "output_type": "stream",
     "text": [
      "--------------------------------\n",
      "Processed: (라) 차량 운행 중 따라오는 차량보다 속도가 저속일 경우 우측 차선으로의 차선 변경 운행 및 긴급자동차의 원활한 운행이 가능하도록 진로를 변경하여 운행 할 것\n",
      "\n",
      "(마) 차량 운행 중 지정이 발생하지 않도록 관리할 것\n",
      "\n",
      "(바) 운전 상태에서 운전을 급지하여야 하며, 과로, 질병 또는 약물(마약, 대마 및 항정신성 의약품과 그 밖에 행정자치부령으로 정하는 것)의 영향이나 그 밖의 사유로 정상적으로 운전에 우려가 있는 상태에서의 운전을 급지 할 것\n",
      "\n",
      "(사) 기타 도로교통법 제 49조(모든 운전자의 준수사항 등)를 준수할 것\n",
      "\n",
      "(13) 운전자는 휴전하는 경우 운전석에서 차량의 후방을 확인 할 수 있는 장치가 있는 경우를 제외하고 유도자의 신호에 따라 휴전하여야 한다.\n",
      "\n",
      "(14) 운전자는 토사 등을 싣거나 내리는 작업하는 경우 변속레버를 정지위치에 놓고 주차 브레이크의 작동상태를 확인하여야 한다.\n",
      "\n",
      "(15) 차량의 하부 수리, 점검, 부속장치의 장착 및 교체작업을 하는 경우 작업지휘자를 지정하여 다음 사항을 준수하도록 하여야 한다.\n",
      "\n",
      "(가) 작업순서를 결정하고 작업을 지휘할 것.\n",
      "(나) 협착재해 방지를 위하여 <그림 17>과 같은 안전지지대 또는 안전블럭 등의 사용 상황 등을 점검할 것\n",
      "\n",
      "(16) 운전자는 주차시에는 <그림 18>과 같이 바퀴구름 방지조치(고임목 등)를 하여야 한다. 경사지에 정차하는 경우 운전석을 이탈하여서는 아니 된다.\n",
      "\n",
      "(17) 운전자는 적재물을 하역하는 경우 싣거나 내리는 동시 작업을 급지하고, 적재\n"
     ]
    },
    {
     "name": "stderr",
     "output_type": "stream",
     "text": [
      "INFO:httpx:HTTP Request: POST http://localhost:8000/v1/chat/completions \"HTTP/1.1 200 OK\"\n",
      " 84%|████████▍ | 16/19 [03:06<00:37, 12.43s/it]"
     ]
    },
    {
     "name": "stdout",
     "output_type": "stream",
     "text": [
      "--------------------------------\n",
      "Processed: 함의 상승과 하역 작업 이전에 적재함 덮개 개방을 금지하여야 한다.\n",
      "\n",
      "(18) 운전자는 적재물을 하역한 다음 적재함을 올린 상태 및 적재함 문짝을 개방한 상태에서의 운행을 금지하여야 한다.\n",
      "\n",
      "(19) 운전자와 유도자는 고용노동부 고시 제 2001-8호(크레인작업 표준신호지침)의 신호방법을 숙지하여 신호하여야 한다.\n",
      "\n",
      "6.2.3 작업 종료 시 준수사항\n",
      "\n",
      "(1) 운전자는 차량을 주차 시 주변작업자 및 차량의 통행에 불편을 주어 주차 차량이 불필요한 위험요소가 되어서는 아니 된다.\n",
      "\n",
      "(2) 운전자는 경사면을 주차를 피하고, 부득이 경사면에 주차하는 경우 밀림방지 조치(고임목 등)를 하여야 한다.\n",
      "\n",
      "(3) 운전자는 주차한 다음 차량의 엔진의 시동을 정지하고 운전석 이탈시 주차 브레이크를 확인하고 키를 가지고 운전석에서 하차하여야 한다.\n",
      "\n",
      "(4) 운전자는 일일점검을 통해 차량의 이상유무를 확인하여야 한다.\n",
      "\n",
      "부록 1: 덤프트럭 및 화물자동차 자체검사 결과표\n",
      "부록 2: 덤프트럭 주요 점검사항\n"
     ]
    },
    {
     "name": "stderr",
     "output_type": "stream",
     "text": [
      "INFO:httpx:HTTP Request: POST http://localhost:8000/v1/chat/completions \"HTTP/1.1 200 OK\"\n",
      " 89%|████████▉ | 17/19 [03:18<00:25, 12.51s/it]"
     ]
    },
    {
     "name": "stdout",
     "output_type": "stream",
     "text": [
      "--------------------------------\n",
      "Processed: ### 부록 1. 덤프트럭 및 화물자동차 자제검사 결과표\n",
      "\n",
      "| 차량명 | 등록번호 | 주행거리 |\n",
      "|--------|----------|----------|\n",
      "| 연식 | 검사유효 기간 | . . . ~ . . . |\n",
      "\n",
      "| 최초등록일 | 변속기종류 | □ 자동 □ 수동 |\n",
      "|------------|------------|---------------|\n",
      "| 원동기형식 | 보험가입여부 | |\n",
      "| 차대번호 | 운전사면허 적정여부 |\n",
      "| 불법구조 변경여부 |\n",
      "\n",
      "| 주요장치 | 항목 | 해당부품 | 검 사 결 과 | 조치할 사항 |\n",
      "|----------|------|----------|------------|------------|\n",
      "\n",
      "| 원동기 (엔진) | | 작동상태(공회전) | □ 양호 □ 소음 □ 정비요 |\n",
      "| | | 오일유량 및 누유 | □ 적정 □ 부족 □ 누유 □ 보충요 |\n",
      "| | | 방각수руж수(라디에이터) | □ 정상 □ 누수 □ 정비요 |\n",
      "| | | 방각수량 및 누수 | □ 적정 □ 부족 □ 누수 □ 보충요 |\n",
      "| | | 방각수량 및 누수 | □ 적정 □ 부족 □ 누수 □ 보충요 |\n",
      "\n",
      "| 변속기 | | 오일누유 | □ 정상 □ 누유 □ 보충요 |\n",
      "| | | 오일유량 및 상태 | □ 적정 □ 부족 □ 누유 □ 보충요 |\n",
      "| | | 작동상태(공회전) | □ 양호 □ 소음 □ 정비요 |\n",
      "\n",
      "| 조항 및 타이어 | | 조항장치 작동 오일 누유 | □ 정상 □ 누유 □ 보충요 |\n",
      "| | | 타이어상태 및 공기압 상태 | □ 양호 □ 교환 □ 보충요 |\n"
     ]
    },
    {
     "name": "stderr",
     "output_type": "stream",
     "text": [
      "INFO:httpx:HTTP Request: POST http://localhost:8000/v1/chat/completions \"HTTP/1.1 200 OK\"\n",
      " 95%|█████████▍| 18/19 [03:28<00:11, 11.75s/it]"
     ]
    },
    {
     "name": "stdout",
     "output_type": "stream",
     "text": [
      "--------------------------------\n",
      "Processed: | 주요 장치 | 항 목 | 해당부품 | 점 사 결 과 | 조치할 사항 |\n",
      "|---------|-------|-----------|-------------|-------------|\n",
      "| 제동   |       | 브레이크 오일 유량상태 | □ 적정 □ 부족 □ 교환요 |            |\n",
      "|         |       | 브레이크 오일 누유 | □ 정상 □ 누유 □ 보충요 |            |\n",
      "|         |       | 경음기 작동상태 | □ 양호 □ 정비요 |            |\n",
      "|         |       | 방향 표시기 작동상태 | □ 양호 □ 정비요 |            |\n",
      "|         |       | 제동 등 작동상태 | □ 양호 □ 정비요 |            |\n",
      "|         |       | 고장차량 표시기 보관상태 | □ 양호 □ 정상품 보관요 |            |\n",
      "|         |       | 설치 및 정상작동 여부 | □ 양호 □ 수리 □ 교체요 |            |\n",
      "| 전기   |       | 와이퍼 작동상태 | □ 양호 □ 정비요 |            |\n",
      "\n",
      "자동차의 상태 표기\n",
      "불량부위 표시: X (교환), W (판금/용접)\n",
      "\n",
      "특이사항 및 점검자의 의견\n",
      "\n",
      "| 점검자 | 소 속 : |\n",
      "|--------|---------|\n",
      "|        | 직 책 :  |\n",
      "|        | 성 명 : (인) |\n",
      "\n",
      "특이사항\n"
     ]
    },
    {
     "name": "stderr",
     "output_type": "stream",
     "text": [
      "INFO:httpx:HTTP Request: POST http://localhost:8000/v1/chat/completions \"HTTP/1.1 200 OK\"\n",
      "100%|██████████| 19/19 [03:35<00:00, 11.36s/it]\n"
     ]
    },
    {
     "name": "stdout",
     "output_type": "stream",
     "text": [
      "--------------------------------\n",
      "Processed: <부록 2> 덤프트럭 주요 점검사항\n",
      "\n",
      "■ 점검사항 <주요안전장치>\n",
      "- 고임목을 설치하여 브레이크 이상으로 인한 차량 밀림을 예방\n",
      "- 안전지주(안전블럭)를 설치하여 실린더 이상으로 인한 적재함 하강 방지\n",
      "- 후방 경음기(Back Horn) 작동상태 확인\n",
      "\n",
      "■ 점검사항 <주요기계장치>\n",
      "- 유압펌프 고정상태 및 누유 여부 확인\n",
      "- 유압 계통의 유압호스 피복 상태 및 연결부 누유 여부 확인\n",
      "- 유압 실린더 누유 확인 및 피스톤 로드 표면 손상 여부 확인\n",
      "- 적재함의 개폐 장치 작동 상태 확인\n",
      "- 브레이크 및 주차 브레이크 작동 상태 확인\n",
      "- 차량 등화 장치 확인(전조등, 방향지시등, 비상등, 브레이크 등)\n",
      "---End---\n",
      "Processing 발파공사 안전보건작업 지침\n"
     ]
    },
    {
     "name": "stderr",
     "output_type": "stream",
     "text": [
      "  0%|          | 0/24 [00:00<?, ?it/s]INFO:httpx:HTTP Request: POST http://localhost:8000/v1/chat/completions \"HTTP/1.1 200 OK\"\n",
      "  4%|▍         | 1/24 [00:02<00:52,  2.28s/it]"
     ]
    },
    {
     "name": "stdout",
     "output_type": "stream",
     "text": [
      "--------------------------------\n",
      "Processed: 발파공사 안전보건작업 지침\n",
      "\n",
      "2023. 8.\n",
      "\n",
      "한국산업안전보건공단\n"
     ]
    },
    {
     "name": "stderr",
     "output_type": "stream",
     "text": [
      "INFO:httpx:HTTP Request: POST http://localhost:8000/v1/chat/completions \"HTTP/1.1 200 OK\"\n",
      "  8%|▊         | 2/24 [00:14<03:04,  8.40s/it]"
     ]
    },
    {
     "name": "stdout",
     "output_type": "stream",
     "text": [
      "--------------------------------\n",
      "Processed: 안전보건기술지침의 개요\n",
      "\n",
      "○ 작성자 : 정 기 택\n",
      "○ 개정자 : 한국산업안전보건공단 건설안전실 박주호\n",
      "\n",
      "○ 제정경과 및 관련규격\n",
      "  - 1998년 10월 건설안전분야 제정위원회 심의\n",
      "  - 1998년 11월 총괄 제정위원회 심의\n",
      "  - 2001년 11월 건설안전분야 제정위원회 심의\n",
      "  - 2002년 3월 총괄 제정위원회 심의\n",
      "  - 2012년 7월 건설안전분야 제정위원회 심의(개정)\n",
      "  - 2016년 9월 건설안전분야 제정위원회 심의(개정)\n",
      "  - 2023년 7월 건설안전분야 표준제정위원회 심의(개정)\n",
      "\n",
      "○ 관련규격 및 자료\n",
      "  - 고용노동부고시 제2023-34호(발파 표준안전 작업지침)\n",
      "  - 총포·도검·화약류 등의 안전관리에 관한 법률\n",
      "\n",
      "○ 관련법규·규칙·고시 등\n",
      "  - 산업안전보건기준에 관한 규칙 제2편 제4장 제2절 제2관(발파작업의 위험방지)\n",
      "\n",
      "○ 기술지침의 적용 및 문의\n",
      "  - 이 기술지침에 대한 의견 또는 문의는 한국산업안전보건공단 홈페이지(www.kosha.or.kr)의 안전보건기술지침 소관 분야별 문의처 안내를 참고하시기 바랍니다.\n",
      "  - 동 지침 내에서 인용된 관련 규격 및 자료 등에 관하여 최근 개정본이 있을 경우에는 해당 개정본의 내용을 참고하시기 바랍니다.\n",
      "\n",
      "공표일자 : 2023년 8월 24일\n",
      "제 정 자 : 한국산업안전보건공단 이사장\n"
     ]
    },
    {
     "name": "stderr",
     "output_type": "stream",
     "text": [
      "INFO:httpx:HTTP Request: POST http://localhost:8000/v1/chat/completions \"HTTP/1.1 200 OK\"\n",
      " 12%|█▎        | 3/24 [00:20<02:27,  7.00s/it]"
     ]
    },
    {
     "name": "stdout",
     "output_type": "stream",
     "text": [
      "--------------------------------\n",
      "Processed: 목 차\n",
      "\n",
      "1. 목적 .................................................................................................................. 1\n",
      "2. 적용범위 ......................................................................................................... 1\n",
      "3. 용어의 정의 ..................................................................................................... 1\n",
      "4. 화약류의 취급 .................................................................................................. 3\n",
      "   4.1 발파작업 일반 ......................................................................................... 3\n",
      "   4.2 화약류 운반 ............................................................................................. 5\n",
      "   4.3 화약류 관리 ............................................................................................. 7\n",
      "5. 전기 및 비전기발파 ......................................................................................... 11\n",
      "   5.1 발파의 준비 ............................................................................................. 11\n",
      "   5.2 발파 .......................................................................................................... 14\n",
      "   5.3 발파 후 처리 ............................................................................................. 16\n"
     ]
    },
    {
     "name": "stderr",
     "output_type": "stream",
     "text": [
      "INFO:httpx:HTTP Request: POST http://localhost:8000/v1/chat/completions \"HTTP/1.1 200 OK\"\n",
      " 17%|█▋        | 4/24 [00:33<03:11,  9.56s/it]"
     ]
    },
    {
     "name": "stdout",
     "output_type": "stream",
     "text": [
      "--------------------------------\n",
      "Processed: 발파공사 안전보건작업 지침\n",
      "\n",
      "1. 목적\n",
      "\n",
      "이 지침은 산업안전보건기준에 관한 규칙(이하 “안전보건규칙”이라 한다) 제2편 제4장 제2절 제2관(발파작업의 위험방지)의 규정에 의거 건설현장에서 발파작업중 발생되는 재해를 예방하기 위하여, 화약류의 취급, 운반, 저장, 사용 및 작업시 주의사항에 관한 기술적 사항을 정함을 목적으로 한다.\n",
      "\n",
      "2. 적용범위\n",
      "\n",
      "이 지침은 화약류를 사용하여 발파작업을 시행하는 모든 건설공사에 대하여 적용한다.\n",
      "\n",
      "3. 용어의 정의\n",
      "\n",
      "(1) 이 지침에서 사용하는 용어의 정의는 다음과 같다.\n",
      "\n",
      "(가) “화약류”란 화약, 폭약 및 화공품으로, 「총포·도검·화약류 등의 안전관리에 관한 법률」(이하 「총포화약법」이라 한다) 제2조제3항에 따른 화약류를 말한다.\n",
      "\n",
      "(나) “폭발”이란 맹렬한 발열반응과 충격파를 동반하는 화학반응을 말한다.\n",
      "\n",
      "(다) “화약”이란 추진적 폭발의 용도로 사용하는 것으로 「총포화약법」제2조제3항 제1호에 따른 화약을 말한다.\n",
      "\n",
      "(라) “폭약”이란 파괴적 폭발의 용도로 사용하는 것으로 「총포화약법」제2조제3항 제2호에 따른 폭약을 말한다.\n",
      "\n",
      "(마) “화공품”이란 화약 및 폭약을 사용목적에 맞도록 섬유나 플라스틱으로 피복하거나, 통이나 관에 재우는 방법 등으로 가공한 공작물로 「총포화약법」제2조제3항제3호에 따른 화공품을 말한다.\n",
      "\n",
      "(바) “최소저항선”이란 피 폭파물의 자유면에서 장약의 중심에 이르는 최단거리를 말한다.\n"
     ]
    },
    {
     "name": "stderr",
     "output_type": "stream",
     "text": [
      "INFO:httpx:HTTP Request: POST http://localhost:8000/v1/chat/completions \"HTTP/1.1 200 OK\"\n",
      " 21%|██        | 5/24 [00:46<03:20, 10.57s/it]"
     ]
    },
    {
     "name": "stdout",
     "output_type": "stream",
     "text": [
      "--------------------------------\n",
      "Processed: (사) “도폭선”이란 폭약을 심약으로 하여 섬유, 플라스틱, 금속판으로 피복한 것을 말한다.\n",
      "\n",
      "(아) “전기뇌관”이라 금속재의 관체에 기폭약과 점약약을 채워 넣고, 전기점화 장치를 장착한 것을 말한다.\n",
      "\n",
      "(자) “비전기식 뇌관”이라 낙뢰나 고주파 전압 등에 의한 발화를 방지하기 위해 개발된 것으로 전기의 사용 없이 시그널튜브에 의한 불꽃 등을 이용하여 기폭되는 뇌관을 말한다.\n",
      "\n",
      "(차) “시그널튜브(signal tube)”란 비전기식 발화기로부터 충격을 받아 폭발하고 이를 통해 공내뇌관을 폭발시키는 기재를 말한다. 시그널튜브는 통상 직경 약 3mm의 플라스틱 튜브내에 얇은 층의 폭약이 코팅되어 있는 구조이다. <그림 1 참조>\n",
      "\n",
      "(카) “표면연결뇌관(surface delay connector)”이란 비전기뇌관의 시그널튜브 다발을 동시에 기폭시키기 위해 만들어진 화공품으로 번치커넥터에 비해 상대적으로 적은 수(통상 5개 내외로 구성)의 시그널튜브 다발을 형성한다. <그림 1 참조>\n",
      "\n",
      "(타) “번치 커넥터(bunch connector)”란 비전기뇌관의 시그널튜브 다발을 동시에 기폭시키기 위해 만들어진 화공품으로 비전기뇌관의 일부제품이며 보통 1개의 번치 커넥터로 통상 약 20개정도 시그널튜브 다발을 형성한다. <그림 1 참조>\n",
      "\n",
      "비전기 발화용 기재 상세도 < 그림1 >\n"
     ]
    },
    {
     "name": "stderr",
     "output_type": "stream",
     "text": [
      "INFO:httpx:HTTP Request: POST http://localhost:8000/v1/chat/completions \"HTTP/1.1 200 OK\"\n",
      " 25%|██▌       | 6/24 [00:59<03:28, 11.58s/it]"
     ]
    },
    {
     "name": "stdout",
     "output_type": "stream",
     "text": [
      "--------------------------------\n",
      "Processed: (2) 그 밖의 이 지침에서 사용하는 용어의 정의는 특별한 규정이 있는 경우를 제외하고는 산업안전보건법, 같은 법 시행령, 같은 법 시행규칙, 안전보건규칙 및 관련 고시에서 정하는 바에 의한다.\n",
      "\n",
      "4. 화약류의 취급\n",
      "\n",
      "4.1 발파작업 일반\n",
      "\n",
      "4.1.1 작업시 안전수칙 및 주의사항\n",
      "\n",
      "(1) 화약류나 발파기재의 수송, 취급, 저장 및 사용은 발파작업에 충분한 경험이 자격을 갖춘 사람이 지휘, 감독하여야 한다.\n",
      "\n",
      "(2) 화약류나 발파기재를 작업장에 반입, 사용할 때에는 사전에 총포, 도검, 화약류 등 단속법령의 규정에 의하여 관계기관의 허가를 받아야 한다.\n",
      "\n",
      "(3) 발파기는 제조업자의 지시대로 유지, 관리 및 사용하여야 하며 사용 전, 후에 주기적으로 시험, 검정을 하여야 한다.\n",
      "\n",
      "(4) 발파구역 입구에는 경고판을 부착하여야 한다.\n",
      "\n",
      "(5) 화약이나 폭약은 실대로 방치하여서는 아니 된다.\n",
      "\n",
      "(6) 빈 화약류 용기 등 쓰레기에는 재사용을 엄금하며 지정된 장소에서 폐기하여야 한다.\n",
      "\n",
      "(7) 동력기계(소형 브레이커, 쌍커 등)는 장전공으로부터 15m 이내에서 사용하여야 한다.\n",
      "\n",
      "(8) 18세 미만인 자는 취업을 금지하여야 한다.\n",
      "\n",
      "(9) 전기뇌관을 사용하는 발파는 전기발파기나 지정된 동력장치에 의해 점화되어야 한다. 비전기식 뇌관을 사용하는 발파는 발파기나 제작회사가 규정한 점화장비에 의해 점화되어야 한다.\n",
      "\n",
      "(10) 레이다, 무선송수신 시설 또는 실험결과 누설전류가 전기발파 작업에 위험을 미한다.\n"
     ]
    },
    {
     "name": "stderr",
     "output_type": "stream",
     "text": [
      "INFO:httpx:HTTP Request: POST http://localhost:8000/v1/chat/completions \"HTTP/1.1 200 OK\"\n",
      " 29%|██▉       | 7/24 [01:17<03:49, 13.51s/it]"
     ]
    },
    {
     "name": "stdout",
     "output_type": "stream",
     "text": [
      "--------------------------------\n",
      "Processed: 칠 우려가 있을 경우 비전기식 뇌관을 사용하되, 전기뇌관을 사용할 때에는 모선을 회로에 연결시킬 때까지 단락해 두어야 한다.\n",
      "\n",
      "(11) 모든 지발식 발파작업에는 지발식 전기뇌관, 비전기식 지발뇌관 또는 도폭선 연결기구를 사용하여야 하며 시간 고려가 잘 되어 있는지 점검하여야 한다.\n",
      "\n",
      "(12) 낙뢰의 위험이 있는 때에는 화약류 취급이나 사용 등의 모든 작업을 중지시키고 작업자들을 안전한 장소로 대피시키켜야 한다. 또한, 외부에서 발생하는 전기 에 의해 전기뇌관이 점화되는 것을 방지하기 위한 제어조치를 하여야 한다.\n",
      "\n",
      "(13) 발파 후 즉시 발파기의 두 스위치 사이의 전선을 분리시키고 스위치는 폐쇄위치에 두고 봉쇄하여야 한다.\n",
      "\n",
      "(14) 동력선, 통신망, 편의시설 및 기타 구조물 부근에서 발파작업을 할 때에는 그 시설의 소유자가 사용자에게 통고하여 안전한 통제조치를 취한 후 발파작업을 하여야 한다.\n",
      "\n",
      "(15) 발파기는 발파작업책임자만 취급할 수 있도록 보관하여야 하며, 발파기에 모선의 연결은 발파작업책임자의 지휘에 따라야 한다.\n",
      "\n",
      "(16) 발파 스위치 열쇠는 항상 발파작업책임자가 소지하여야 한다.\n",
      "\n",
      "(17) 발파를 위하여 동력 회로선에서 전력을 공급할 경우 전압이 550V를 초과하지 말아야 한다.\n",
      "\n",
      "(18) 발파모선은 적당한 치수 및 용량의 절연된 도전선을 사용하여야 한다.\n",
      "\n",
      "(19) 전기누전과 정전기를 탐지 및 측정하여야 하며 전기발파를 할 때에는 5.3.5의 정전기 대책을 참조하여 정전기로 인한 폭발재해방지 대책을 수립·시행하여야 한다.\n",
      "\n",
      "4.1.2 진동 및 파손\n",
      "\n",
      "(1) 수중구조물, 건물 및 기타 시설내 또는 인근에서 발파작업을 할 때에는 주변상태와 발파위력을 충분히 고려하여 주변에 피해가 없도록 신중하게 계획하여야 하며 작업을 시작하기 전에 작업계획을 수립하여야 한다.\n",
      "\n",
      "(2) 도심지 발파 등 발파에 주의를 요하는 곳은 실제 발파전 공인기관 또는 이에 상응하는 자의 입회로 시험발파를 실시하여 안전성을 검토하여야 한다.\n",
      "\n",
      "(3) (1)호의 경우, 필요할 때에는 소유자, 점유자 및 그 주위에 작업내용과 통제조치\n"
     ]
    },
    {
     "name": "stderr",
     "output_type": "stream",
     "text": [
      "INFO:httpx:HTTP Request: POST http://localhost:8000/v1/chat/completions \"HTTP/1.1 200 OK\"\n",
      " 33%|███▎      | 8/24 [01:30<03:34, 13.44s/it]"
     ]
    },
    {
     "name": "stdout",
     "output_type": "stream",
     "text": [
      "--------------------------------\n",
      "Processed: (4) 진동의 검사, 기록 및 해석은 발파작업 책임자가 하여야 한다.\n",
      "\n",
      "(5) 발파진동의 경감을 위해 발파효과가 좋은 지발뇌관을 사용하고 발파효과의 상관 관계를 고려하여 저폭속 화약류를 사용하도록 하여야 한다.\n",
      "\n",
      "(6) 폭발음을 경감시키기 위해 토제 등을 쌓거나, 풍향 및 풍속을 고려하고 지발뇌관을 사용토록 하여야 한다.\n",
      "\n",
      "(7) 진동과 소음을 줄이기 위해 경상적인 약량보다 적게 할 때에는 고압가스의 분출 등 이상현상을 유발할 수 있으므로 주의하여야 한다.\n",
      "\n",
      "4.2 화약류 운반\n",
      "\n",
      "4.2.1 운반책임자\n",
      "\n",
      "(1) 화약류를 운송하는 운송인은 관련규정(총포·도검·화약류 등 단속법)에 의하여 관계기관에 신고하여야 한다.\n",
      "\n",
      "(2) 화약류를 운송하는 운송인은 화약류의 종류에 따라 적재, 운반 및 취급에 있어서 특히 유의해야 할 제반 규정을 운반책임자에게 미리 알려주어야 한다.\n",
      "\n",
      "(3) 운반책임자는 출발하기 전에 차량 및 화약류의 적재상황을 점검·확인하여야 하고 운반책임자는 운전기술이 능숙한 사람으로 하여금 화약류 운반차량을 운전하게 하여야 한다.\n",
      "\n",
      "4.2.2 표지\n",
      "\n",
      "화약류를 운반하는 차량은 화약류의 운반중임을 나타내기 위하여 보기 쉬운 곳에 표지를 부착하고 경광등을 차량의 앞뒤에 설치하여야 한다.\n",
      "\n",
      "4.2.3 통로\n",
      "\n",
      "화약류를 운반할 때에 사용하는 통로는 화기를 취급하는 장소 또는 발화성이나 인화성이 있는 물질을 쌓아둔 장소에 근접하지 않는 곳이어야 한다.\n",
      "\n",
      "4.2.4 운반기구에 적재\n"
     ]
    },
    {
     "name": "stderr",
     "output_type": "stream",
     "text": [
      "INFO:httpx:HTTP Request: POST http://localhost:8000/v1/chat/completions \"HTTP/1.1 200 OK\"\n",
      " 38%|███▊      | 9/24 [01:43<03:19, 13.27s/it]"
     ]
    },
    {
     "name": "stdout",
     "output_type": "stream",
     "text": [
      "--------------------------------\n",
      "Processed: (1) 운반중에 마찰 또는 혼들리거나 굴러 떨어지지 아니하도록 적재하여야 한다.\n",
      "\n",
      "(2) 화약류는 방수 또는 내화성이 있는 덮개로 덮어야 한다.\n",
      "\n",
      "(3) 화약류는 적재차량 적재정량의 80%에 상당하는 중량을 초과하여 적재하여서는 아니된다.\n",
      "\n",
      "(4) 화약류를 다음 각목에 규정한 물건과 동일한 차량에 함께 적재하여서는 아니된다.\n",
      "\n",
      "(가) 발화성 또는 인화성 물질\n",
      "\n",
      "(나) 외장이 불안전하여 화약류에 마찰 또는 충격을 줄 염려가 있는 물건\n",
      "\n",
      "(다) 철강재, 기계류, 광석류 및 기타 이에 준하는 물건\n",
      "\n",
      "(라) 독극물, 방사성물질 및 기타 유해성물질\n",
      "\n",
      "(5) 종류가 다른 화약류는 관계법령으로 규정한 것 이외에는 원칙적으로 동일한 차량에 적재할 수 없다.\n",
      "\n",
      "(6) 화약류를 차량에 적재 및 하역할 때에는 차량의 엔진을 정지시키고 제동장치를 확실하게 걸어 움직이지 않도록 하여야 한다.\n",
      "\n",
      "(7) 화약류의 적재 전후에는 그 장소를 깨끗하게 청소하여야 한다.\n",
      "\n",
      "(8) 화약류를 적재할 때에는 철물류로 된 신발을 착용하지 않도록 하여야 한다.\n",
      "\n",
      "4.2.5 운반\n",
      "\n",
      "(1) 자동차로 운반할 때에는 운송인은 당해 차량에 안전요원을 탑승시켜야 한다.\n",
      "\n",
      "(2) 주차는 위험하지 않은 장소를 선정하여 주차하여야 한다.\n",
      "\n",
      "(3) 야간이나 앞을 분간하기 힘든 상태에서 주차하고자 할 때에는 차량의 전·후방에 적색의 경고등을 설치하여야 한다.\n"
     ]
    },
    {
     "name": "stderr",
     "output_type": "stream",
     "text": [
      "INFO:httpx:HTTP Request: POST http://localhost:8000/v1/chat/completions \"HTTP/1.1 200 OK\"\n",
      " 42%|████▏     | 10/24 [01:55<03:00, 12.91s/it]"
     ]
    },
    {
     "name": "stdout",
     "output_type": "stream",
     "text": [
      "--------------------------------\n",
      "Processed: (4) 변화가 빈번한 사람들이 많이 모이는 곳을 피하여 운반하여야 한다.\n",
      "\n",
      "(5) 화약류는 특별히 사정이 없는 한 야간에 운반하지 말아야 한다.\n",
      "\n",
      "(6) 기타 운반상의 위험을 방지하기 위하여 습기가 있는 상태로 운반할 필요가 있다고 인정되는 화약은 그 화약의 성질에 따라 안전성을 확보할 수 있는 수분을 함유한 상태에서 운반하여야 한다.\n",
      "\n",
      "4.3 화약류 관리\n",
      "\n",
      "4.3.1 화약류 저장소\n",
      "\n",
      "(1) 저장소의 경계울타리 내에는 관계자 이외의 출입을 금지하여야 한다.\n",
      "\n",
      "(2) 저장소의 경계울타리 내에는 폭발 또는 발화하거나 연소하기 쉬운 물건을 적치하지 않도록 하여야 한다.\n",
      "\n",
      "(3) 저장소 내에서는 당해 저장소 내에서만 사용하는 안전화를 착용하도록 하여야 한다.\n",
      "\n",
      "(4) 저장소 내에 들어갈 때는 철물류 또는 철물로 만든 기구는 휴대하지 않도록 하여야 한다.\n",
      "\n",
      "(5) 저장소 내에서는 물건을 포장하거나, 상자의 훼손을 여는 등의 작업을 하지 않도록 하여야 한다.\n",
      "\n",
      "(6) 저장소의 내부는 환기에 유의하고 동·하절기의 계절적 영향과 온도의 변화를 최소화하거나 또는 다이너마이트를 저장할 때에는 최고 최저온도계를 비치하여야 한다.\n",
      "\n",
      "(7) 저장소에서 화약류를 출고하고자 할 때에는 저장기간이 오래된 것부터 먼저 출고하여야 한다.\n",
      "\n",
      "(8) 저장소에서 제조일로부터 1년이상 경과한 화약류가 남아있을 때에는 이상유무에 특히 주의하여야 한다.\n"
     ]
    },
    {
     "name": "stderr",
     "output_type": "stream",
     "text": [
      "INFO:httpx:HTTP Request: POST http://localhost:8000/v1/chat/completions \"HTTP/1.1 200 OK\"\n",
      " 46%|████▌     | 11/24 [02:09<02:51, 13.22s/it]"
     ]
    },
    {
     "name": "stdout",
     "output_type": "stream",
     "text": [
      "--------------------------------\n",
      "Processed: (9) 상자 표면에 니트로글리세린이 삼출되거나 흡습액이 유출된 때에는 당해 화약류를 검사하여 지체없이 폐기하는 등의 조치를 하여야 한다.\n",
      "\n",
      "4.3.2 화약류 취급소\n",
      "\n",
      "(1) 취급소는 화약류 사용장소마다 설치하여야 한다.\n",
      "\n",
      "(2) 취급소의 위치는 통로 및 통로로 이용되고 있는 경도, 동력선, 다른 화약취급소, 저장소, 화기 취급장소 및 사람이 출입하는 건물로부터 안전하고 습기가 적은 장소에 설치하여야 한다.\n",
      "\n",
      "(3) 취급소는 단층건물로서 철근콘크리트조, 콘크리트블록조 또는 이와 동등이상의 건고한 재료를 사용하여 도난이나 화재를 방지할 수 있는 구조로 설치하여야 한다.\n",
      "\n",
      "(4) 건물은 바닥부위에 철물류가 노출되지 않도록 하여야 하며, 도난을 방지할 수 있는 장치와 일광의 직사 및 비와 이슬을 방지하는 조치를 취하여 안전하게 작업할 수 있도록 하여야 한다.\n",
      "\n",
      "(5) 경계선 내에서는 흡연 또는 기타의 화기사용을 금하고, 폭발 또는 발화하거나 연소하기 쉬운 것을 적시하지 말아야 한다.\n",
      "\n",
      "(6) 취급소 및 부근에서는 약포에 공업뇌관 또는 전기뇌관을 장치하거나 이를 장치한 약포를 취급하지 말아야 한다.\n",
      "\n",
      "(7) 취급소에는 필요한 자 이외의 출입을 금지하여야 한다.\n",
      "\n",
      "(8) 취급소에 저장할 수 있는 화약류의 수량은 1일 사용예정량 이하로 하여야 한다.\n",
      "\n",
      "(9) 취급소에는 화약류 수불대장을 비치하고 책임자를 정하여 화약류의 수불 및 사용, 잔류수량을 명확히 기록하여야 한다.\n",
      "\n",
      "(10) 취급소의 내부는 정결하게 정리정돈하고, 내부작업에 필요한 기구 이외의 물건은 두지 않아야 한다.\n"
     ]
    },
    {
     "name": "stderr",
     "output_type": "stream",
     "text": [
      "INFO:httpx:HTTP Request: POST http://localhost:8000/v1/chat/completions \"HTTP/1.1 200 OK\"\n",
      " 50%|█████     | 12/24 [02:23<02:40, 13.35s/it]"
     ]
    },
    {
     "name": "stdout",
     "output_type": "stream",
     "text": [
      "--------------------------------\n",
      "Processed: (11) 화약류 취급상 필요한 안전수칙을 내부 또는 외부의 보기 쉬운 곳에 게시하여야 한다.\n",
      "\n",
      "(12) 취급소의 건물내 조명설비를 설치할 때에는 화약류취급소의 내부벽체와 완전히 격리하여야 하며, 안전한 장치가 설치된 전등을 사용하고, 배선은 절연금속관 또는 외장 케이블 등을 사용하여야 한다.\n",
      "\n",
      "(13) 난방설비를 설치할 때에는 온수, 증기 이외의 것을 사용하지 않도록 하여야 한다.\n",
      "\n",
      "(14) 기타 취급소에 대한 재해예방규정을 준수하고, 화약류 취급 보안책임자의 지시에 따라야 한다.\n",
      "\n",
      "4.3.3 화약류 취급\n",
      "\n",
      "(1) 화약류에는 충격을 주어서는 아니되며 두드리거나, 던지거나, 떨어뜨리지 않도록 항상 주의하여야 한다.\n",
      "\n",
      "(2) 화약류를 취급할 때에 갈고리를 사용하여서는 안된다.\n",
      "\n",
      "(3) 화약류는 화기의 사용 또는 불꽃을 발생시키는 작업을 하는 장소의 부근이나 누전의 위험이 있는 장소에서는 취급하지 말아야 한다.\n",
      "\n",
      "(4) 화약류 주변에서는 흡연 및 화기를 사용하여야 한다.\n",
      "\n",
      "(5) 화약류가 들어있는 상자를 열 때에는 철제기구 등으로 두드리거나 충격을 주어 억지로 열지 않도록 하여야 한다.\n",
      "\n",
      "(6) 전기뇌관은 전지, 전선, 모터, 기타 전기설비, 레일, 철제류 등에 닿지 않도록 하여야 한다.\n",
      "\n",
      "(7) 방수처리를 하지 않은 화약류는 습기가 있는 곳에 두지 않도록 하여야 한다.\n",
      "\n",
      "(8) 화약류를 수납하는 용기는 나무 기타 전기의 부도체로 만든 견고한 구조로 하고 내면에는 철물류가 드러나지 않도록 하여야 한다.\n"
     ]
    },
    {
     "name": "stderr",
     "output_type": "stream",
     "text": [
      "INFO:httpx:HTTP Request: POST http://localhost:8000/v1/chat/completions \"HTTP/1.1 200 OK\"\n",
      " 54%|█████▍    | 13/24 [02:38<02:33, 13.97s/it]"
     ]
    },
    {
     "name": "stdout",
     "output_type": "stream",
     "text": [
      "--------------------------------\n",
      "Processed: (9) 화약, 폭약 또는 도폭선과 화공품은 각각 다른 용기에 수납하여야 한다.\n",
      "\n",
      "(10) 굳어진 폭약은 반드시 깨끗한 것을 부드럽게 풀고난 후 사용하여야 한다.\n",
      "\n",
      "(11) 발파현장에는 여분의 화약류를 들고 들어가지 않도록 하여야 한다.\n",
      "\n",
      "(12) 사용하고 남은 화약류는 발파현장에 남겨두지 말고 밀폐하여 신속하게 화약류 취급소에 반납하여야 한다.\n",
      "\n",
      "(13) 화약류 취급중에는 향시 도난에 주의하고 과부족이 발생하지 않도록 유의하여야 한다.\n",
      "\n",
      "(14) 얼어서 굳어진 다이너마이트는 50℃ 이하의 온장속 용해기 또는 30℃ 이하의 온도를 유지하는 실내에서 풀어주어야 하며, 난로나 증기관 그 밖의 높은 열원에 직접 접근시키거나 무리하게 타격을 가하지 않도록 하여야 한다.\n",
      "\n",
      "4.3.4 현장내 운반\n",
      "\n",
      "(1) 화약류를 깨내 또는 멀리 떨어진 발파현장에 운반할 때에는 정해진 포장 및 상자를 사용하여 운반하여야 한다.\n",
      "\n",
      "(2) 화약, 폭약 및 도폭선과 공업뇌관 또는 전기뇌관은 1인이 동시에 운반하여야 한다. 부득이 1인에게 운반시킬 때에는 별개의 용기에 넣어 운반하도록 하여야 한다.\n",
      "\n",
      "(3) 전기뇌관을 운반할 때에는 각선이 벗겨지지 않도록 용기에 넣고 전선 및 전선이 벗겨진 전기기구를 휴대하지 않도록 하여야 하며 전등선, 동력선 기타 누전의 우려가 있는 곳에 접근시키지 않도록 하여야 한다.\n",
      "\n",
      "(4) 화약류는 운반하는 자의 체력에 적당하도록 소량을 운반하도록 하여야 한다.\n",
      "\n",
      "(5) 화약류를 운반할 때에는 화기가 피하고, 넘어지거나 떨어뜨리거나 부딪히지 않도록 주의하여야 한다.\n",
      "\n",
      "(6) 빈 화약류 용기를 및 포장제료는 제조 사양서에 명기된 지시에 따라 처분하여야 한다.\n",
      "\n",
      "4.3.5 검사\n"
     ]
    },
    {
     "name": "stderr",
     "output_type": "stream",
     "text": [
      "INFO:httpx:HTTP Request: POST http://localhost:8000/v1/chat/completions \"HTTP/1.1 200 OK\"\n",
      " 58%|█████▊    | 14/24 [02:51<02:18, 13.82s/it]"
     ]
    },
    {
     "name": "stdout",
     "output_type": "stream",
     "text": [
      "--------------------------------\n",
      "Processed: (1) 질산암모늄을 다량 포함한 폭약은 굳어지기 쉽고, 굳어서면 불발과 잔류약이 발생하거나 폭력도 악화될 우려가 있으므로 부드럽게 풀어주어야 한다.\n",
      "\n",
      "(2) 폭약이 흡습하면 성질이 변하는 경우가 있으므로 양끝이 유연하게 되어있지 않는지, 액으로 되어 흘러나와 있지 않는지 여부를 확인하여야 한다.\n",
      "\n",
      "(3) 공업뇌관은 관체에 흠이 없는지, 흡습되어 있지 않는지 여부를 점검하여야 한다.\n",
      "\n",
      "(4) 전기뇌관에 대해서는 각선의 상처, 도통의 유무 또는 전기저항을 확인하고 미리 시험전류를 측정하여 0.01A를 초과하지 않는 것을 사용하여야 한다. 이 때 전지식 도통시험기를는 미리 전류전류를 측정하고 0.1mA를 넘지 않는 것을 사용하며 측정 후에는 반드시 단락해 두어야 한다.\n",
      "\n",
      "(5) 도화선 및 도폭선에 대해서는 물에 젖거나 흡습되어 있는 것은 없는가, 피복의 상처, 헐거움은 없는가 등을 조사하여야 한다.\n",
      "\n",
      "4.3.6 불량 화약류의 처리\n",
      "\n",
      "(1) 흡습되거나 단단하게 굳어 성능의 변화가 우려되는 것은 무리하게 사용하지 말아야 한다.\n",
      "\n",
      "(2) 불량 화약류는 표시를 하여 구별하고, 화약류취급 책임자에게 보고하여 지시에 따라 처리하여야 한다.\n",
      "\n",
      "5. 전기 및 비전기발파\n",
      "\n",
      "5.1 발파의 준비\n",
      "\n",
      "5.1.1 발파용 기재\n",
      "\n",
      "(1) 전기발파용 기재\n",
      "전기발파를 할 경우에 필요한 기재는 발파기, 도통시험기, 저항측정기, 발파모선, 발파보조모선, 전기뇌관 등이며 기타 필요에 따라 누설전류 검지기도 준비해 두어야 한다.\n",
      "\n",
      "(2) 비전기발파용 기재\n"
     ]
    },
    {
     "name": "stderr",
     "output_type": "stream",
     "text": [
      "INFO:httpx:HTTP Request: POST http://localhost:8000/v1/chat/completions \"HTTP/1.1 200 OK\"\n",
      " 62%|██████▎   | 15/24 [03:09<02:14, 14.89s/it]"
     ]
    },
    {
     "name": "stdout",
     "output_type": "stream",
     "text": [
      "--------------------------------\n",
      "Processed: 비전기발파를 할 경우에 필요한 기재는 비전기식 발파기, 공내뇌관(MS뇌관, LP 뇌관), 표면연결뇌관(TLD), 번치 커넥터(Bunch Connector)등이 있다.\n",
      "\n",
      "5.1.2 작업시 주의사항\n",
      "\n",
      "(1) 발파전원을 동력선 또는 전등선으로 할 때에는 잘못 조작할 우려가 있으므로 발파기 사용을 원칙으로 한다.\n",
      "\n",
      "(2) 부득이 동력선 또는 전등선을 전원으로 할 때에는 전로의 개폐를 확실하게 하고, 발파작업자 외에는 개폐할 수 없도록 하며, 또한 전로에는 1A 이상의 적당한 전류가 흐르도록 하여야 한다.\n",
      "\n",
      "(3) 다양발과시에는 전압 및 전원, 발파모선, 전기뇌관의 전저항을 고려하여 전기뇌관에 소요전류를 통하게 하여야 한다.\n",
      "\n",
      "(4) 전기발파기의 손잡이는 점화할 때를 제외하고는 고정식 사전장치를 하고, 이탈식은 발파작업 책임자가 직접 휴대하여야 한다.\n",
      "\n",
      "(5) 발파기 및 전선지는 건조한 곳에 두고 사용전에 기동력을 확인하여야 한다.\n",
      "\n",
      "(6) 발파모선의 한쪽 끝은 점화할 때까지 발파기(점화기)에서 떼어놓고 전기뇌관의 각선에 연결하는 다른 끝의 심선은 단락을 막도록 하여야 한다.\n",
      "\n",
      "(7) 발파보조 모선은 가능한 한 굵고, 피복이 안전하며 절연도가 높은 것을 사용하고, 몇 개의 선을 이은 것 또는 지나치게 긴 것은 저항이 크게 되므로 사용하지 않도록 하여야 한다.\n",
      "\n",
      "(8) 수중발과에 사용하는 전기뇌관의 각선은 미리 그 필요한 길이를 산정하고 수중에서 결선하는 개소를 가능한 한 적게 하여야 한다.\n",
      "\n",
      "(9) 장약작업시 전기발과는 낙뢰에 의한 폭발력이 일어날 가능성이 매우 높으나 비전기 발과는 상대적으로 가능성이 매우 낮다. 그러나 비전기발과 또한 낙뢰에 의한 폭발력이 일어날 가능성은 있으므로 일기상황을 철저히 파악하고 낙뢰의 발생가능성이 있는 날에는 작업을 중지하여야 한다.\n",
      "\n",
      "(10) 비전기발과는 결선여부를 기계적으로 확인하는 것이 불가능하므로 결선여부의 육안확인을 철저히 확인하여야 한다.\n",
      "\n",
      "(11) 비전기발과용 기재 중 시그널튜브(도폭선)는 고온이나 습도에 의해 제기능을\n"
     ]
    },
    {
     "name": "stderr",
     "output_type": "stream",
     "text": [
      "INFO:httpx:HTTP Request: POST http://localhost:8000/v1/chat/completions \"HTTP/1.1 200 OK\"\n",
      " 67%|██████▋   | 16/24 [03:21<01:52, 14.04s/it]"
     ]
    },
    {
     "name": "stdout",
     "output_type": "stream",
     "text": [
      "--------------------------------\n",
      "Processed: 발휘하지 못할 우려가 있으므로 진공상태의 백(베리어 백)에 보관하여야 한다.\n",
      "\n",
      "(12) 지발식 발파작업 시 비산파편에 의해서 인접한 비전기발파용 기재가 손상되지 않도록 형질이나 비닐 등으로 싸는 등 필요한 조치를 취하여야 한다.\n",
      "\n",
      "5.1.3 발파방법의 결정\n",
      "\n",
      "(1) 비전기발파는 전기발파에 비교 해 매우 안전한 발파방법이다.\n",
      "\n",
      "(2) 비전기발파용 기재(비전기식 발파기, 스타터튜브)가 전기발파에 비해 상대적으로 고가이기는 하나, 모선의 배치에 따라 무한단차를 구성하면 경제적인 작업이 가능하고 진동이나 소음 절감이 가능하다. 따라서 터널내부 등에서는 되도록 비전기발파 방식을 준수하여야 한다.\n",
      "\n",
      "(3) 사전에 누설전류가 있는 장소에서 전기발파를 할 경우에는 폭발의 위험성이 높으므로 비전기발파 방식이 적절하다. 또한 이 때, 비전기식 발파기 사용을 준수하여야 한다.\n",
      "\n",
      "(4) 전기발파에는 단발발파, 지발발파(MS발파, LP발파)와 이들을 병용한 단발발파 등 여러가지 방법이 있으므로 충분한 검토를 거쳐 가장 효과적인 발파방법을 채택하여야 한다.\n",
      "\n",
      "※ 비전기발파의 발파순서\n",
      "비전기식 발파기(스타터) → 스타터튜브(도폭선) → 번치 커넥터 / 표면연결뇌관 → 시그널튜브(도폭선) → 공내뇌관 → 발파 < 그림 2 참조 >\n",
      "\n",
      "5.1.4 발파기재의 검사\n"
     ]
    },
    {
     "name": "stderr",
     "output_type": "stream",
     "text": [
      "INFO:httpx:HTTP Request: POST http://localhost:8000/v1/chat/completions \"HTTP/1.1 200 OK\"\n",
      " 71%|███████   | 17/24 [03:38<01:44, 14.90s/it]"
     ]
    },
    {
     "name": "stdout",
     "output_type": "stream",
     "text": [
      "--------------------------------\n",
      "Processed: 발파기, 건전지, 저항측정기, 도통시험기 등의 기구류는 건조한 곳에 두고, 사용전에는 그 기능, 안전성능 등에 대하여 <표 1>에서와 같이 확인하여야 한다.\n",
      "\n",
      "| 순서 | 내용                                           | 비고 |\n",
      "|------|------------------------------------------------|------|\n",
      "| 발파기 점검 | 사용하고자 하는 발파기의 능력을 측정하여 이상유무를 확인하여야 한다. |      |\n",
      "| 발파모선 점검 | 발파모선의 저항이 크면 뇌관회로에 전달되는 전류는 작아지므로 신중히 선택하여야 하며 절연저항과 피복파손 여부를 확인하여야 한다. |      |\n",
      "| 뇌관저항 측정 | 모든 접선부위는 전류누설이나 전선의 단락을 방지하기 위하여 절연테이프로 감아주거나 공중이나 나무상자 위에 결선부를 고정시켜 지면과 이격시켜야 한다. |      |\n",
      "| 발파회로 점검 | 발파모선과 뇌관회로를 연결하기 전에 모선의 단선이나 단락여부를 확인하여야 한다. |      |\n",
      "| | 발파모선의 양쪽 끝을 저항측정기로 측정하여 규정 저항이 나타나는지 확인하여 모선 분리시 무한대 저항이 나타나지 않으면 모선의 손상, 절연불량, 파손 등 불량원인을 조사 및 보수 후 사용하여야 한다. |      |\n",
      "\n",
      "5.2 발파\n",
      "\n",
      "5.2.1 천공\n",
      "천공작업은 KOSHA GUIDE C-45-2012 터널공사(NATM공법)의 안전보건작업 지침에 따른다.\n",
      "\n",
      "5.2.2 뇌관설치\n",
      "전기뇌관은 1개씩 저항을 측정하고, 소정의 저항치(오차±0.1Ω)를 확인한 다음 약포에 설치하여야 하며 작업중에는 항상 각선의 양단을 단락해 두어야 한다. 이들의 작업은 발파작업 현장에서 하고, 화약류취급소 등에서 미리 수행하여서는 아니된다.\n",
      "\n",
      "5.2.3 발파모선의 배선\n",
      "(1) 점화장소(발파기 조작장소)는 발파현장에서 충분한 안전거리를 유지하고 동시에 물기가 있는 장소와 철관, 레일 등이 있는 장소를 피하며 상부로부터의 낙석 등 위험이 없는 장소를 선정하여야 한다.\n",
      "\n",
      "(2) 점화장소에서 발파현장까지의 주 통로에는 철제기재 등 장애물을 두지 않도록\n"
     ]
    },
    {
     "name": "stderr",
     "output_type": "stream",
     "text": [
      "INFO:httpx:HTTP Request: POST http://localhost:8000/v1/chat/completions \"HTTP/1.1 200 OK\"\n"
     ]
    },
    {
     "name": "stdout",
     "output_type": "stream",
     "text": [
      "--------------------------------\n",
      "Error: JSONDecodeError\n",
      "페이지 18의 텍스트가 없습니다. 재시도합니다.\n"
     ]
    },
    {
     "name": "stderr",
     "output_type": "stream",
     "text": [
      "INFO:httpx:HTTP Request: POST http://localhost:8000/v1/chat/completions \"HTTP/1.1 200 OK\"\n",
      " 75%|███████▌  | 18/24 [05:03<03:35, 35.96s/it]"
     ]
    },
    {
     "name": "stdout",
     "output_type": "stream",
     "text": [
      "--------------------------------\n",
      "Processed: 하고, 통행에 방해가 되지 않도록 배선하여야 하며 갱내의 측벽에 달아매는 등 안전조치를 하여야 한다.\n",
      "\n",
      "(3) 발포모선이 촉발로의 절연재에 깔끔하게 기록되어 두어야 한다.\n",
      "\n",
      "5.2.4 저항측정 및 소요전압 산정\n",
      "\n",
      "5.2.4.1 저항측정\n",
      "\n",
      "결선작업이 끝나면 모든 회로의 전기저항을 측정하여 소정의 저항이 있는지 여부를 확인하여야 한다. 이때의 회로 전저항 \\( R \\)은 식(1), 식(2), 식(3)을 기준으로 한다.\n",
      "\n",
      "(1) 전저항 \\( R \\) 산정기준\n",
      "\n",
      "(가) 직렬결선인 경우\n",
      "\\[\n",
      "R = n \\times r_1 + \\ell_1 + r_2 \\times \\ell_2 + r_i + r_c \\quad \\ldots \\quad (1)\n",
      "\\]\n",
      "\n",
      "(나) 병렬결선인 경우\n",
      "\\[\n",
      "R = \\frac{r_1 + \\ell_1}{n} + \\ell_2 + r_1 + r_2 + r_i + r_c \\quad \\ldots \\quad (2)\n",
      "\\]\n",
      "\n",
      "(다) 직·병렬결선인 경우\n",
      "\\[\n",
      "R = \\frac{a \\times r_1 + \\ell_1}{b} + \\ell_2 + r_1 + r_2 + r_i + r_c \\quad \\ldots \\quad (3)\n",
      "\\]\n",
      "\n",
      "(2) 소정의 저항치 \\( R_0 \\) 산정기준\n",
      "\n",
      "\\[\n",
      "R_0 = (1 \\pm 0.02) \\times R \\quad \\ldots \\quad (4)\n",
      "\\]\n",
      "\n",
      "(여기서, 0.02는 저항치 \\( R \\)의 허용오차)\n",
      "\n",
      "위의 산정기준에 의한 계산치와 실측치를 비교하고, 허용오차의 ±10% 이내를 확인한 다음 모션을 발파전 단자에 접속하여야 한다. 도통시험 또는 저항측정은 화약류를 장전한 장소로부터 30m 이상 떨어진 안전한 장소에서 실시하여야 한다.\n",
      "\n",
      "5.2.4.2 소요전압 \\( V \\) 산정\n",
      "\n",
      "위 방법에 의하여 저항을 구하고 실제 발파에 필요한 소요전압은 식(5), 식(6), 식(7)에 의해 산출하여야 한다.\n",
      "\n",
      "(가) 직렬결선인 경우\n"
     ]
    },
    {
     "name": "stderr",
     "output_type": "stream",
     "text": [
      "INFO:httpx:HTTP Request: POST http://localhost:8000/v1/chat/completions \"HTTP/1.1 200 OK\"\n",
      " 79%|███████▉  | 19/24 [05:20<02:31, 30.25s/it]"
     ]
    },
    {
     "name": "stdout",
     "output_type": "stream",
     "text": [
      "--------------------------------\n",
      "Processed: \\[ V = \\frac{n \\cdot I \\cdot (r_d + \\ell_1 \\cdot r_{\\ell_1} + \\ell_2 \\cdot r_{\\ell_2} + r_i + r_c)}{n} \\]  \n",
      "\\[ V = n \\cdot I \\left( \\frac{r \\cdot d + \\ell_1 \\cdot r_{\\ell_1} + \\ell_2 \\cdot r_{\\ell_2} + r_i + r_c}{n} \\right) \\]\n",
      "\n",
      "(나) 병렬결선인 경우\n",
      "\\[ V = n \\cdot I \\left( \\frac{r \\cdot d + \\ell_1 \\cdot r_{\\ell_1} + \\ell_2 \\cdot r_{\\ell_2} + r_i + r_c}{n} \\right) \\]\n",
      "\n",
      "(다) 직·병렬결선인 경우\n",
      "\\[ V = b \\cdot I \\left( \\frac{(a \\cdot r \\cdot d + \\ell_1 \\cdot r_{\\ell_1})}{b} + \\ell_2 \\cdot r_{\\ell_2} + r_i + r_c \\right) \\]\n",
      "\n",
      "여기서,\n",
      "\\[ I \\] : 전류\n",
      "\\[ r_d \\] : 전기뇌관 1개의 저항\n",
      "\\[ r_{\\ell_1} \\] : 보조모선 1미터당 저항\n",
      "\\[ r_{\\ell_2} \\] : 발파모선 1미터당 저항\n",
      "\\[ r_i \\] : 발파기의 내부저항\n",
      "\\[ n \\] : 전기뇌관 수\n",
      "\\[ a \\] : 직렬결선 전기뇌관 수\n",
      "\\[ b \\] : 병렬결선 수\n",
      "\\[ \\ell_1 \\] : 보조모선에 사용된 단선의 길이\n",
      "\\[ \\ell_2 \\] : 발파모선에 사용된 단선의 길이\n",
      "\n",
      "5.2.5 저항불량\n",
      "저항측정에서 소정의 저항치가 나타나지 않는 경우에 그대로 다음 작업에 들여가서는 안된다. 불량개소가 발견되지 않으면 소정의 광전자식 도통시험기로 개개의 전기뇌관의 도통시험을 실시하여야 한다.\n",
      "\n",
      "5.2.6 장전 및 점화\n",
      "장전 및 점화작업은 5.1의 발파의 준비 및 5.2의 발파 규정에 따른다.\n",
      "\n",
      "5.3 발파 후 처리\n",
      "\n",
      "5.3.1 발파 후 처리\n",
      "\n",
      "(1) 발파 후 즉시 발파모선을 발파기에서 분리하여 단락시켜 두고 재 점화가 되지 않도록 조치하여야 한다.\n",
      "(2) 장전된 화약류를 점화하여도 그 화약류가 폭발되지 아니하거나 폭발여부의 확인이\n"
     ]
    },
    {
     "name": "stderr",
     "output_type": "stream",
     "text": [
      "INFO:httpx:HTTP Request: POST http://localhost:8000/v1/chat/completions \"HTTP/1.1 200 OK\"\n",
      " 83%|████████▎ | 20/24 [05:37<01:45, 26.39s/it]"
     ]
    },
    {
     "name": "stdout",
     "output_type": "stream",
     "text": [
      "--------------------------------\n",
      "Processed: 곤란한 때에는 점화후 15분 이상(전기발파에 있어서는 발파모선을 점화기로부터 떠어서 다시 점화가 되지 아니하도록 한 후 5분 이상, 대발파시는 30분 이상)을 경과한 후가 아니면 화약류를 장전한 곳에 사람의 출입이나 접근을 금지하여야 한다.\n",
      "\n",
      "(3) 불발시는 다음 사항을 준수하여야 한다.\n",
      "\n",
      "(가) 불발시는 불발공에서 60㎝ 이상 이격하여 수평천공하고 발파하여 처리하여야 한다.\n",
      "\n",
      "(나) 불발된 화약은 다음 교대시에 그대로 인계하여야 한다.(불가피한 상황에서 인계할 때에는 상세히 알려주고, 확실한 표식을 하여 작업의 위험이 없도록 하여야 한다.)\n",
      "\n",
      "(4) 전선 및 기타 기재는 확실하게 수납하여야 한다.\n",
      "\n",
      "5.3.2. 전기뇌관 불발의 원인 및 대책\n",
      "\n",
      "전기뇌관 작업시 뇌관발발의 원인에 대해 <표 2>의 대책에 따라 처리하여야 한다.\n",
      "\n",
      "| 원 인 | 대 책 |\n",
      "|-------|-------|\n",
      "| 발파회로의 뇌관이 1발도 발화하지 않음 (도통불량)  · 모선과의 결선 누락  · 기폭약포 장전시 각선의 단선  · 발파모선 또는 보조모선의 단선  · 각선의 단선 |  · 기폭약포 장전중 각선이 손상되지 않아야 한다.  · 발파모선과 뇌관회로를 연결하기 전에 모선의 단선이나 단락여부를 확인하여야 한다.  · 발파모선의 양쪽 끝을 점음측정기로 측정하여 규정 저항이 나타나지 않으면 모선 분리시 무한대 저항이 나타나지 않으면 모선의 손상, 접연불량, 파손 등 불량원인을 조사 및 보수 후 사용하여야 한다. |\n",
      "| 발파회로 전체 뇌관 중 1발 밖에 발화되지 않은  · 결선부의 벗김 또는 단락  · 발발된 뇌관의 결선 탈락  · 기폭약포 장전시 각선을 손상시켜 단락 |  · 사용하고자 하는 발파기의 능력을 측정하여 이상유무를 확인하여야 한다.  · 결선부에 비닐테이프를 감아야 한다.  · 타사 제품과 혼용해서 사용하지 않아야 한다. |\n",
      "| 발파기의 출력부족  · 발파기의 규격용량 이상으로 발파하였을 때  · 결선부가 녹슬어 있을 때  · 타사 제품의 뇌관과 혼용하였을 때 |\n"
     ]
    },
    {
     "name": "stderr",
     "output_type": "stream",
     "text": [
      "INFO:httpx:HTTP Request: POST http://localhost:8000/v1/chat/completions \"HTTP/1.1 200 OK\"\n",
      " 88%|████████▊ | 21/24 [05:57<01:13, 24.53s/it]"
     ]
    },
    {
     "name": "stdout",
     "output_type": "stream",
     "text": [
      "--------------------------------\n",
      "Processed: 5.3.3 비전기뇌관 불발의 원인 및 대책\n",
      "\n",
      "비전기뇌관 작업시 뇌관불발의 원인에 대해 <표 3>의 대책에 따라 처리하여야 한다.\n",
      "\n",
      "| 원 인                                      | 대 책                                                                 |\n",
      "|--------------------------------------------|----------------------------------------------------------------------|\n",
      "| 발파회로내 발파포선에 가까운 것은 발화하고 회로의 가운데에서 뇌관 불발  \n",
      "  - 결선부가 물에 잠기거나 특정모선의 뇌관 불발  \n",
      "  - 발파회로의 특정부분이 침수되었을 때  \n",
      "  - 결선 착오 | 결선부에 비닐테이프를 감아서 방수조치를 하여야 한다.  \n",
      "  - 결선이 착오된 부분이 없는지 확인 후 필요한 조치를 취해야 한다. |\n",
      "| 근접공 발과의 영향에 의해서 뇌관 불발  \n",
      "  - 친근공격이 비교적 가까울 때  \n",
      "  - 발파공 부근 압력에 굽어, 젊리, 단충이 있을때  \n",
      "  - 수중발파를 할 때 | 사전에 천공간격 및 암반조건을 고려한 발파계획 수립이 필요하다  \n",
      "  - 수중발과 시 결선부에 비닐테이프를 감아서 방수조치를 하여야 한다. |\n",
      "\n",
      "| 원 인                                      | 대 책                                                                 |\n",
      "|--------------------------------------------|----------------------------------------------------------------------|\n",
      "| 비전기발과 기재의 화약취급소 등에서의 보관불량으로 인한 불발 | 진공상태의 베리어 백을 개봉하고 약 30일 이상 된 제품 사용시 비전기뇌관의 수분흡수로 인한, 불발의 가능성이 높아짐  \n",
      "  - 장기간 햇볕에 노출되지 않도록 하고 불가피한 경우 열을 차단할 수 있는 것을 덮어두어야 한다. |\n",
      "| 시그널튜브의 길이가 60cm 이하로 짧아 수분 흡수 등의 원인으로 불발 | 시그널튜브 연결부위의 길이를 충분히 유지하여야 한다. |\n",
      "| 시그널튜브 과소로 인한 불발  \n",
      "  - 수평발파에서 단차발파 시 먼저 기폭된 번치커넥터파편에 의해 시그널튜브가 과소  \n",
      "  - 시그널튜브에서 비전기뇌관의 시그널튜브가 과량에 맞아 절단 또는 손상 | 번치커넥터 / 표면연결뇌관과 시그널튜브의 간격을 평행거리로 충분히 유지하면 과린으로 인한 시그널튜브 과소에 어느정도 방지할 수 있으나, 평평이나 비날등으로 섞어 과린이 근본적으로 비산되지 않도록 조치하는 것이 좋다. |\n",
      "| 발파모선 또는 보조모선의 연결상태 및 설치상태 불량으로 인한 불발  \n",
      "  - 시그널튜브가 커넥터에서 빠지거나 뇌관에 결합된 시그널튜브가 빠짐 | 시그널튜브가 빠지지 않도록 묶어주거나, 기폭된 뇌관이 공중으로 날아가지 못하도록 복도해야 한다. |\n"
     ]
    },
    {
     "name": "stderr",
     "output_type": "stream",
     "text": [
      "INFO:httpx:HTTP Request: POST http://localhost:8000/v1/chat/completions \"HTTP/1.1 200 OK\"\n",
      " 92%|█████████▏| 22/24 [06:17<00:45, 22.96s/it]"
     ]
    },
    {
     "name": "stdout",
     "output_type": "stream",
     "text": [
      "--------------------------------\n",
      "Processed: 5.3.4 불발공의 처리\n",
      "\n",
      "(1) 관련 법규나 규정을 준수하고 처리규정이 설정되어 있지 않을 때에는 적어도 한시간 이상 대기한 다음 처리한다.\n",
      "\n",
      "(2) 저항측정기를 사용하여 불발공의 회로를 점검하고 이상이 없으면 발파회로에 다시 연결하여 재발파한다. 불발공이 단락되어 있으면 압축공기나 물로 제거한 다음 기폭약포를 재장전하여 발파한다.\n",
      "\n",
      "(3) 불발공으로부터 회수한 뇌관이나 폭약은 모두 제조업자의 시방에 따라 처리하여야 하며 임의로 매립하거나 폐기하여서는 안된다.\n",
      "\n",
      "(4) 불발원인을 조사할 때에는 원인을 철저히 규명하여 이를 기록하고 불발방지 대책을 수립하여야 한다.\n",
      "\n",
      "5.3.5 정전기 대책\n",
      "전기발파를 할 때에는 정전기에 의한 폭발재해방지 대책으로서 <표 4>을 참조하여 작업하여야 한다.\n",
      "\n",
      "<표 4> 정전기에 의한 폭발재해방지 대책\n",
      "\n",
      "| 작업의 종류          | 대책 기준                                                                 |\n",
      "|---------------------|---------------------------------------------------------------------------|\n",
      "| 일반규정            | • 도전성 의류를 착용하도록 하여야 한다.                                    |\n",
      "|                     | • 도전성 정전기용 안전화를 착용하도록 한다.                                 |\n",
      "|                     | • 내정전기용 전기뇌관을 사용하도록 한다.                                   |\n",
      "| 천공작업            | • 천공장소에서 정기뇌관이나 기폭약포를 충분히 격리하여 두어야 한다.          |\n",
      "| 기폭약포 만드는 작업  | • AN-FO 장전장소, 고무호스나 비닐 파이프 등의 대전하기 쉬운 곳, 철관이나 레일 등의 대전하기 쉬운 곳에서 작업을 하지 않도록 하여야 한다. |\n",
      "|                     | • 작업전, 작업중에는 맨손을 가끔 지면에 대어서 신체의 정전기를 제거하도록 한다. |\n",
      "|                     | • 각선이나 보조모선을 홀지 않도록 하여야 한다.                              |\n",
      "| 초 유 폭약 (AN-FO)장전작업 | • 장전기는 사용전후에 잘 청소하고 접지장치의 접촉을 확실히 하여야 한다.       |\n",
      "|                     | • 장전호스는 필히 도전성을 갖는 것을 사용하여야 한다.                        |\n",
      "|                     | • 장전호스는 계속 연결한 호스를 사용하지 않도록 하여야 한다.                 |\n",
      "|                     | • 장전할 때는 장전기를 충분히 접지하여야 한다.                             |\n",
      "|                     | • 장전기의 접지선은 철판, 레일 등의 누설전류가 유입되기 쉬운 곳에 가까이하지 않도록 하여야 한다. |\n",
      "|                     | • 콘트롤 밸브는 가급적 급격한 개폐를 하지 않도록 한다.                        |\n",
      "|                     | • 장약중에는 발파공에서 AN-FO의 분출이 없도록 하여야 한다.                 |\n"
     ]
    },
    {
     "name": "stderr",
     "output_type": "stream",
     "text": [
      "INFO:httpx:HTTP Request: POST http://localhost:8000/v1/chat/completions \"HTTP/1.1 200 OK\"\n",
      " 96%|█████████▌| 23/24 [06:27<00:19, 19.28s/it]"
     ]
    },
    {
     "name": "stdout",
     "output_type": "stream",
     "text": [
      "--------------------------------\n",
      "Processed: | 작업의 종류               | 대책 기준                                                                                                                                                                                                                                                                                                                                 |\n",
      "|------------------------|-------------------------------------------------------------------------------------------------------------------------------------------------------------------------------------------------------------------------------------------------------------------------------------------------------------------------------------------|\n",
      "| 기폭약 포 장전 결선작업  | • 강내에서는 AN-FO의 부유분진이 제거된 후 기폭약 장전작업을 하여야 한다.  \n",
      "• 기폭약 장전 결선작업을 행하는 때에는 작업전, 작업중 가끔 맨손을 접지하여 신체의 정전기를 제거하여야 한다.  \n",
      "• 각선, 보조모선, 발과모선을 설치하거나 간추릴 때 홋지 않도록 하고 맨손으로 하여야 한다.  \n",
      "• 장전봉은 목재 또는 반도전성을 사용하여야 한다.  \n",
      "• 각선이나 보조모선 등의 결선위치에 나선부분이 없도록 하여야 한다.  \n",
      "| 잔류화약의 회수 작업    | • 기폭약 포 등을 회수하는 때에는 새로운 기폭약 포를 장전해서 순 폭시키거나 물로 녹여서 회수하여야 한다.                                                                                                                                                                                                                     |\n",
      "| 낙뢰의 대책             | • 일기상황 파악을 철저히 하여야 한다.  \n",
      "• 휘데라디오의 소리(잡음)로 빨리 탐지하고 대피해야 한다.  \n",
      "• 불가피하게 발파를 실시할 때에는 도화선 또는 도화선을 이용한 도폭선 발파를 하여야 한다.                                                                                                                                                                     |\n",
      "| 강풍시 등의 대책        | • 강풍으로 인해 정전기의 발생이 예상되는 경우 전기발파작업은 하지 않도록 하여야 한다.                                                                                                                                                                                                                                                  |\n"
     ]
    },
    {
     "name": "stderr",
     "output_type": "stream",
     "text": [
      "INFO:httpx:HTTP Request: POST http://localhost:8000/v1/chat/completions \"HTTP/1.1 200 OK\"\n",
      "100%|██████████| 24/24 [06:32<00:00, 16.34s/it]\n"
     ]
    },
    {
     "name": "stdout",
     "output_type": "stream",
     "text": [
      "--------------------------------\n",
      "Processed: 안전보건기술지침 개정 이력\n",
      "\n",
      "□ 개정일 : 2023. 8. 24.\n",
      "\n",
      "○ 개정자 : 안전보건공단 전문기술실 박주호\n",
      "\n",
      "○ 개정사유 : 관련 법령 및 기준 등을 반영하여 지침 현행화\n",
      "\n",
      "○ 주요 개정내용\n",
      "  - 관련규격 및 자료, 법규·규칙·고시 등 현행화, 용어의 정의 최신화, 낡은 기준 삭제 등\n",
      "---End---\n",
      "Processing 터널공사(NATM공법) 안전보건작업 지침\n"
     ]
    },
    {
     "name": "stderr",
     "output_type": "stream",
     "text": [
      "  0%|          | 0/32 [00:00<?, ?it/s]INFO:httpx:HTTP Request: POST http://localhost:8000/v1/chat/completions \"HTTP/1.1 200 OK\"\n"
     ]
    },
    {
     "name": "stdout",
     "output_type": "stream",
     "text": [
      "--------------------------------\n",
      "Processed: None\n",
      "페이지 1의 텍스트가 없습니다. 재시도합니다.\n"
     ]
    },
    {
     "name": "stderr",
     "output_type": "stream",
     "text": [
      "INFO:httpx:HTTP Request: POST http://localhost:8000/v1/chat/completions \"HTTP/1.1 200 OK\"\n",
      "  3%|▎         | 1/32 [00:04<02:21,  4.57s/it]"
     ]
    },
    {
     "name": "stdout",
     "output_type": "stream",
     "text": [
      "--------------------------------\n",
      "Processed: 터널공사(NATM공법) 안전보건작업 지침\n",
      "\n",
      "2012. 8.\n"
     ]
    },
    {
     "name": "stderr",
     "output_type": "stream",
     "text": [
      "INFO:httpx:HTTP Request: POST http://localhost:8000/v1/chat/completions \"HTTP/1.1 200 OK\"\n",
      "  6%|▋         | 2/32 [00:13<03:38,  7.27s/it]"
     ]
    },
    {
     "name": "stdout",
     "output_type": "stream",
     "text": [
      "--------------------------------\n",
      "Processed: 안전보건기술지침의 개요\n",
      "\n",
      "○ 작성자 : 이만호\n",
      "\n",
      "○ 제·개정경과\n",
      "- 1997년 11월 건설안전분야 제정위원회 심의\n",
      "- 1997년 12월 총괄 제정위원회 심의\n",
      "- 2003년 10월 건설분야 제정위원회 심의\n",
      "- 2003년 12월 총괄 제정위원회 심의\n",
      "- 2012년 7월 건설안전분야 제정위원회 심의(개정)\n",
      "\n",
      "○ 관련법규·규칙·고시 등\n",
      "- 산업안전보건법 제23조 제2항\n",
      "- 산업안전보건기준에 관한 규칙 제2편 제4장 제2절(굴착작업 등의 위험방지)\n",
      "- 노동부고시 제2009-44호(터널공사 표준안전작업지침-NATM 공법)\n",
      "\n",
      "○ 기술지침의 적용 및 문의\n",
      "이 기술지침에 대한 의견 또는 문의는 한국산업안전보건공단 홈페이지 안전보건기술지침 소관 분야별 문의처 안내를 참고하시기 바랍니다.\n",
      "\n",
      "공표일자 : 2012년 8월 27일\n",
      "제 정 자 : 한국산업안전보건공단 이사장\n"
     ]
    },
    {
     "name": "stderr",
     "output_type": "stream",
     "text": [
      "INFO:httpx:HTTP Request: POST http://localhost:8000/v1/chat/completions \"HTTP/1.1 200 OK\"\n",
      "  9%|▉         | 3/32 [00:23<04:01,  8.34s/it]"
     ]
    },
    {
     "name": "stdout",
     "output_type": "stream",
     "text": [
      "--------------------------------\n",
      "Processed: 터널공사(NATM공법) 안전보건작업 지침\n",
      "\n",
      "1. 목적\n",
      "\n",
      "이 지침은 산업안전보건기준에 관한 규칙(이하 “안전보건규칙”이라 한다) 제2편 제4장 제2절(굴착작업 등의 위험방지)의 규정에 의거 터널공사중 NATM(무지지보공 터널굴착)공사에 있어 사업주가 특별히 조치하여야할 작업상의 안전보건지침을 정함으로써 작업과정에서 발생하는 산업재해 예방을 목적으로 한다.\n",
      "\n",
      "2. 적용범위\n",
      "\n",
      "이 지침은 건설공사 현장의 터널공사(NATM 공법)에 대하여 적용한다.\n",
      "\n",
      "3. 용어의 정의\n",
      "\n",
      "이 지침에서 사용하는 용어의 정의는 이 지침에 특별한 규정이 있는 경우를 제외하고는 산업안전보건법, 같은 법 시행령, 같은 법 시행규칙, 안전보건규칙 및 관련 고시에서 정하는 바에 의한다.\n",
      "\n",
      "4. 지반의 조사\n",
      "\n",
      "(1) 지반조사의 확인 : 지질 및 지층에 관한 조사를 실시하고 다음 사항을 확인하여야 한다.\n",
      "\n",
      "(가) 시추(보링)위치\n",
      "(나) 토층분포상태\n",
      "(다) 투수계수\n",
      "(라) 지하수위\n",
      "(마) 지반의 지지력\n"
     ]
    },
    {
     "name": "stderr",
     "output_type": "stream",
     "text": [
      "INFO:httpx:HTTP Request: POST http://localhost:8000/v1/chat/completions \"HTTP/1.1 200 OK\"\n",
      " 12%|█▎        | 4/32 [00:36<04:43, 10.13s/it]"
     ]
    },
    {
     "name": "stdout",
     "output_type": "stream",
     "text": [
      "--------------------------------\n",
      "Processed: (2) 추가조사 : 설계도서의 시추결과표 및 주상도 등에 명시된 사후공의 이외에 중요구조물의 축조, 인접구조물의 지반상태 및 위험지정물 등 상세한 지반·지층 상황을 사전에 조사하여야 하며 필요시 발주자와 협의한 다음 추가시추를 실시하여야 한다.\n",
      "\n",
      "(3) 지반보강 : 작업구, 환기구 등 수직공 굴착계획구간의 연약지층·지반을 정밀조사하여야 하며 필요시 발주자와 협의한 다음 지반보강방법공법, 지반고결공법, 그라우팅 등의 보강조치를 취하여 굴착중 발생되는 붕괴에 대비하여 안전한 공법을 계획하여야 한다.\n",
      "\n",
      "5. 발파 및 굴착\n",
      "\n",
      "5.1 일반사항\n",
      "\n",
      "(1) 설계 및 시방에서 정한 발파기준(발파방식, 천공길이, 천공직경, 천공간격, 천공각도, 화약의 종류, 장약량 등)을 준수하여 과다발파에 의한 모암손실, 과다여굴, 부석에 의한 붕괴·붕괴를 예방하여야 한다.\n",
      "\n",
      "(2) 발파대상 구간의 막장 암반상태를 사전에 면밀히 확인하여 발파시방에 적합한 암질여부를 판단하여야 한다.\n",
      "\n",
      "(3) 연약암질 및 토사층인 경우에는 발파를 중지하고 다음 사항에 대한 검토를 하여야 한다.\n",
      "\n",
      "(가) 발파시방의 변경조치\n",
      "(나) 암반의 암질판별\n",
      "(다) 암반지층의 지지력 보강공법\n",
      "(라) 발파 및 굴착 공법변경\n",
      "(마) 시험발파실시\n",
      "\n",
      "(4) 암질판별 방식은 당해 공사의 설계도서 및 시방서에서 정하는 바에 따른다.\n"
     ]
    },
    {
     "name": "stderr",
     "output_type": "stream",
     "text": [
      "INFO:httpx:HTTP Request: POST http://localhost:8000/v1/chat/completions \"HTTP/1.1 200 OK\"\n",
      " 16%|█▌        | 5/32 [00:50<05:14, 11.65s/it]"
     ]
    },
    {
     "name": "stdout",
     "output_type": "stream",
     "text": [
      "--------------------------------\n",
      "Processed: (5) 발파구간 인접구조물에 대한 피해 및 손상을 예방하기 위한 발파허용 진동치는 당해 공사의 설계도서 및 시방서에서 정하는 바에 따른다.\n",
      "\n",
      "(6) 암질의 변화구간 및 발파시방 변경시에는 발파전 폭력, 폭속, 발파 영향력 등의 조사목적으로 시험발파를 실시하여야 하며 시험발파후 암질판별을 기준으로 하여 발파방식, 시방 등의 계획을 재수립하여야 한다.\n",
      "\n",
      "(7) 철도, 기존 지하철, 고속도로, 건축구조물 등 기존 구조물의 하부지반 통과구간의 굴착은 설계도서 및 시방서를 준수하여야 하며 다음 사항을 사전에 확인하여야 한다.\n",
      "\n",
      "(가) 발과의 경우 시험발과에 의한 진동영향력에 대하여 정밀검토를 하여야 하며 상부 구조물의 진동의 영향이 없는 범위내에서 발과를 시행하여야 한다.\n",
      "\n",
      "(나) 발과의 경우에는 발과시방을 준수하여야 하며 중화암반 등 연약암반 및 토층구간은 발과를 중지하고 수직·수평보링 등 정밀조사를 실시한 후 암질판별에 의한 굴착시방을 변경하여야 하며 다음 사항에 대한 보강공법을 검토한 후 발주처와 협의에 의한 시공계획을 수립하여야 한다.\n",
      "\n",
      "① 무진동 파쇄공법\n",
      "② 쉴드공법\n",
      "③ 언더피닝, 파이프루프 등 보강 및 보조공법\n",
      "④ 포아폴링공법\n",
      "⑤ 프리그라우팅공법\n",
      "⑥ 국부미진동 소 hak발파\n",
      "\n",
      "(다) 언더피닝, 파이프루프 등 보강 및 보조공법의 경우 다음 사항에 대하여 계획을 수립하여야 하며 시공중 안전상태를 확인하여야 한다.\n",
      "\n",
      "① 보강구간의 정밀지질조사, 지하매설물 등의 사전검토를 실시하여야 한다.\n",
      "② 지반저지력구조 계산시 통과차량, 지진 등에 대한 충분한 안전율을 적용하여야 한다.\n"
     ]
    },
    {
     "name": "stderr",
     "output_type": "stream",
     "text": [
      "INFO:httpx:HTTP Request: POST http://localhost:8000/v1/chat/completions \"HTTP/1.1 200 OK\"\n",
      " 19%|█▉        | 6/32 [01:04<05:20, 12.34s/it]"
     ]
    },
    {
     "name": "stdout",
     "output_type": "stream",
     "text": [
      "--------------------------------\n",
      "Processed: ③ 재키의 시험성과 합격품목 여부 및 마모, 작동 등의 이상유무를 확인하여야 한다.\n",
      "④ 언더피닝구간 등의 가설구조는 응력계, 침하계, 수위계에 의한 주기적 분석의 변위 허용기준을 설정하여야 한다.\n",
      "⑤ 언더피닝구간 등의 토사굴착은 사전에 단계별 순서와 토량을 정확하게 산정하여야 한다.\n",
      "⑥ 기계·장비 굴착에 의한 진동을 최소화하여야 한다.\n",
      "⑦ 굴착중 용출수 및 누수 발생시 급결제 등의 방수 및 배출수 유도시설을 강구한 후 굴착 및 기타 작업을 실시하여야 한다.\n",
      "\n",
      "(8) 터널내에는 화약이나 유류를 보관하지 않아야 하며 인화물질의 반입을 금지하여야 한다.\n",
      "\n",
      "(9) 작업에 직접적으로 연관되지 않는 차량 및 기타 장비는 터널 입구로부터 먼 곳에 주차 및 배치시켜 두어야 한다.\n",
      "\n",
      "(10) 터널 입구에는 안전수칙 표지판을 설치하여야 한다.\n",
      "\n",
      "5.2 화약류의 운반 및 처리\n",
      "\n",
      "(1) 화약류는 관계기관에서 일일 수령하여야 하며 사용후 잔량은 반납하여야 한다.\n",
      "(2) 화약류 관리대장을 비치하고 불출 및 반납 상황을 기록 유지하여야 한다.\n",
      "(3) 화약류 임시보관소는 화기 및 누전 등으로부터 안전한 장소에 설치하고 시건 장치를 하여야 한다.\n",
      "(4) 화약류의 분실 및 손괴에 대한 방호조치를 하여야 한다.\n",
      "(5) 전기뇌관을 운반할 때에는 각선이 노출되지 않도록 절연용기에 분리하여 넣고 건전지 및 노출된 전기기구를 휴대하지 않도록 하여야 한다.\n",
      "(6) 전기뇌관을 운반할 때에는 전력선 등 누전의 우려가 있는 것에 접근하지 않도록 하여야 한다.\n"
     ]
    },
    {
     "name": "stderr",
     "output_type": "stream",
     "text": [
      "INFO:httpx:HTTP Request: POST http://localhost:8000/v1/chat/completions \"HTTP/1.1 200 OK\"\n",
      " 22%|██▏       | 7/32 [01:18<05:25, 13.04s/it]"
     ]
    },
    {
     "name": "stdout",
     "output_type": "stream",
     "text": [
      "--------------------------------\n",
      "Processed: (7) 화약류를 운반할 때에는 화기나 전력선 등에 접근하지 않도록 하여야 하며 넘어지거나 떨어뜨리 충격이 가지 않도록 주의하여야 한다.\n",
      "\n",
      "5.3 천공작업\n",
      "\n",
      "(1) 점보드릴, 레그햄머 등 착암기의 기계적 결함을 사전에 점검하여야 하며 파손, 이완, 성능저하 등의 장비는 교체하여야 한다.\n",
      "\n",
      "(2) 작업대 또는 대차는 구조적으로 안전하여야 하며 차륜, 지지구조, 발판, 사다리, 안전난간 등의 가시설 구조에 대하여는 안전성을 확인하여야 한다.\n",
      "\n",
      "(3) 천공작업자에게는 안전모, 마스크, 보안경, 안전장갑, 귀마개 등의 개인보호구를 지급하여야 하며 관리감독자는 이의 착용을 확인하여야 한다.\n",
      "\n",
      "(4) 천공작업전 부석, 절리, 용출수, 누수 등의 상태를 확인하여야 하며 필요시 모암 절리방향의 상세도면을 작성하여 그 기록을 정리 보관하여야 한다.\n",
      "\n",
      "(5) 천공작업중 이상 용출수의 다량 발생시 작업을 중지하고 긴급 방수대책을 실시하여야 하며 상부 수직시추 및 수평시추를 실시하여 체수대 여부를 확인 후 적절한 보강공법 및 공법변경 등의 조치를 취하여야 한다.\n",
      "\n",
      "(6) 설계, 시방기준에 의한 천공위치, 각도, 깊이 등을 준수하고 장약전에 이를 확인하여야 한다.\n",
      "\n",
      "(7) 천공시에는 전 발파시 불발화약류의 유무를 확인하고 이상 발견시 즉시 천공작업을 중단하고 이를 제거한 후 작업하여야 한다.\n",
      "\n",
      "(8) 천공시에는 전반의 발파공을 이용하여서는 안되며 최소 이격거리를 유지하여 평행굴착을 하여야 한다.\n",
      "\n",
      "(9) 천공의 지름은 폭약효과 및 폭력기준으로 가능한 한 작은 것이 좋으나 폭약을 장전할 때 무리하게 쏟아 넣으면 위험하므로 폭약 직경보다 크게 하여야 한다.\n"
     ]
    },
    {
     "name": "stderr",
     "output_type": "stream",
     "text": [
      "INFO:httpx:HTTP Request: POST http://localhost:8000/v1/chat/completions \"HTTP/1.1 200 OK\"\n",
      " 25%|██▌       | 8/32 [01:31<05:08, 12.87s/it]"
     ]
    },
    {
     "name": "stdout",
     "output_type": "stream",
     "text": [
      "--------------------------------\n",
      "Processed: 5.4 장약작업\n",
      "\n",
      "(1) 폭약을 장진할 때는 발과구멍을 잘 청소하며 이 때 공저까지 완전히 청소하여 작은 돌 등을 남기지 않아야 한다.\n",
      "\n",
      "(2) 천공작업이 완료된 후 장약작업을 실시하여야 하며 천공과 장약의 동시작업을 하지 않아야 한다.\n",
      "\n",
      "(3) 장약봉은 똑바르고 옹이가 없는 목재 등 부도체로 하고 장진구는 마찰, 정전기 등에 의한 폭발의 위험성이 없는 절연성의 것을 사용하여야 한다.\n",
      "\n",
      "(4) 약포는 1개씩 신중히 장약봉으로 집어넣고 사전에 측정한 폭약의 길이와 천공깊이의 차를 점검하면서 약포간의 빈틈이 없도록 하여야 한다.\n",
      "\n",
      "(5) 포장이 없는 화약이나 폭약을 장진할 때에는 화기의 사용을 금하고 근접한 곳에서 흡연하는 일이 없도록 하여야 한다.\n",
      "\n",
      "(6) 약포를 발과공 내에서 강하게 압착하지 않아야 한다.\n",
      "\n",
      "(7) 장진물에는 종이, 솜 등을 사용하지 않아야 한다.\n",
      "\n",
      "(8) 충진제는 점토, 모래 등을 비벼 사용하고 작은 돌을 사용지 않아야 하며 처음에는 느슨하게 하고 점차 단단하게 하여 구멍 입구부위까지 채워야 한다.\n",
      "\n",
      "(9) 전기뇌관을 사용할 때에는 전선, 모터 등에 접근하지 않도록 하여야 한다.\n",
      "\n",
      "5.5 발파작업\n",
      "\n",
      "(1) 발파는 선임된 발파책임자의 지휘에 따라 시행하여야 한다.\n",
      "\n",
      "(2) 굴착 경계면에는 모암에 손상을 주지 않도록 시방에 명기된 폭약을 사용하여야 한다.\n"
     ]
    },
    {
     "name": "stderr",
     "output_type": "stream",
     "text": [
      "INFO:httpx:HTTP Request: POST http://localhost:8000/v1/chat/completions \"HTTP/1.1 200 OK\"\n",
      " 28%|██▊       | 9/32 [01:47<05:20, 13.94s/it]"
     ]
    },
    {
     "name": "stdout",
     "output_type": "stream",
     "text": [
      "--------------------------------\n",
      "Processed: (3) 지질, 암의 절리 등에 따라 화약량을 충분히 검토하여야 하며 시방기준과 대비하여 안전조치를 하여야 한다.\n",
      "\n",
      "(4) 발파책임자는 모든 근로자의 대피를 확인하고 지보공 및 복공에 대하여 필 요한 방호조치를 한 후 발파하도록 하여야 한다.\n",
      "\n",
      "(5) 발파시 안전한 거리 및 위치에서의 대피가 어려울 때에는 전면과 상부를 견고하게 방호한 임시대피장소를 설치하여야 한다.\n",
      "\n",
      "(6) 화약류를 장전하기 전에 모든 동력선 및 활선은 장전기기로부터 분리시키 고 조명회선을 포함한 모든 동력선은 발전점으로부터 최소한 30m이상 후 방으로 옮겨 놓도록 하여야 한다.\n",
      "\n",
      "(7) 발파용 접화회선은 타동력선 및 조명회선으로부터 분리하여야 한다.\n",
      "\n",
      "(8) 발파전 도화선 연결상태, 저항치 조사 등의 목적으로 도통시험을 실시하여 야 하며 발파기 작동상태를 사전 점검하여야 한다.\n",
      "\n",
      "(9) 발파 후 30분이상 경과한 후 접근하도록 하여야 하며 다음 사항의 조치를 취한 후 다음 단계의 작업을 행하도록 하여야 한다.\n",
      "\n",
      "   (가) 분진 및 유해가스의 농도를 측정하고 노동부고시 화학물질 및 물리적인 자의 노출기준에서 정하는 노출기준(이하 “노출기준”이라 한다) 이하가 되도록 신속히 환풍기, 송풍기 등을 이용하여 환기시킨다.\n",
      "   (나) 발파책임자는 발파후 분진 및 유해가스 배출 완료 즉시 굴착면을 세밀히 조사하여 붕락 가능성의 뜬돌을 제거하여야 하며 용출수 유무를 동시에 확인하여야 한다.\n",
      "   (다) 발파단면을 세밀히 조사하여 필요에 따라 지보공, 록볼트, 철망, 뽑어볼이 기 콘크리트 등으로 보강하여야 한다.\n",
      "   (라) 발파공 및 벽면 속에 남아있는 불발화약류의 유무를 세밀히 조사하여야 하며 발견시 안전한 방법으로 잔류화약을 처리하여야 한다.\n",
      "\n",
      "(10) 화약류는 동결되지 않도록 보관하고 동결된 화약류는 상온에서 완전히 해 동한 후에 취급, 사용하여야 한다.\n"
     ]
    },
    {
     "name": "stderr",
     "output_type": "stream",
     "text": [
      "INFO:httpx:HTTP Request: POST http://localhost:8000/v1/chat/completions \"HTTP/1.1 200 OK\"\n",
      " 31%|███▏      | 10/32 [01:59<04:50, 13.22s/it]"
     ]
    },
    {
     "name": "stdout",
     "output_type": "stream",
     "text": [
      "--------------------------------\n",
      "Processed: 5.6 전기발파\n",
      "\n",
      "(1) 미주전류의 유무에 대하여 확인하고 미주전류가 0.01A이상일 때에는 전기발파를 하지 않아야 한다.\n",
      "\n",
      "(2) 전기발파기는 확실하게 기동이 되는지의 여부를 사전에 점검하여야 한다.\n",
      "\n",
      "(3) 도통시험기는 소정의 저항치에 대해 사전에 점검하여야 한다.\n",
      "\n",
      "(4) 약포에 뇌관을 장치할 때에는 반드시 전기뇌관의 저항을 측정하여 소정의 저항치에 대하여 오차가 ±0.1Ω이내에 있는가를 확인하여야 한다.\n",
      "\n",
      "(5) 점화장소는 발과현장에서 충분히 떨어져 있는 장소로 하고 물이나 철관, 궤도 등이 없는 장소를 택하여야 한다.\n",
      "\n",
      "(6) 점화장소는 발과현장이 잘 보이는 곳이어야 한다.\n",
      "\n",
      "(7) 전선은 점화하기 전에 화약류를 장전한 장소로부터 30m 이상 떨어진 안전한 장소에서 도통시험 및 저항시험을 하여야 한다.\n",
      "\n",
      "(8) 점화는 충분한 용량을 갖는 발과기를 사용하고 규정된 스위치를 반드시 사용하여야 한다.\n",
      "\n",
      "(9) 점화는 선임된 발과책임자가 행하고 발과기의 핸들은 점화할 때 이외는 시 건장치를 하거나 모선을 분리하여야 하며 발과책임자의 엄중한 관리하에 두어야 한다.\n",
      "\n",
      "(10) 발과후 즉시 발과모션을 발과기로부터 분리하고 그 단부를 절연시킨 후 재점화가 되지 않도록 하여야 한다.\n"
     ]
    },
    {
     "name": "stderr",
     "output_type": "stream",
     "text": [
      "INFO:httpx:HTTP Request: POST http://localhost:8000/v1/chat/completions \"HTTP/1.1 200 OK\"\n",
      " 34%|███▍      | 11/32 [02:11<04:32, 12.96s/it]"
     ]
    },
    {
     "name": "stdout",
     "output_type": "stream",
     "text": [
      "--------------------------------\n",
      "Processed: 5.7 도화선 발파\n",
      "\n",
      "(1) 도화선의 길이는 천공길이 및 연결 점화개수, 대피장소의 거리, 대피시간 등을 고려하여 충분한 길이로 하였으며 최소한 50cm 이상으로 하여야 한다.\n",
      "\n",
      "(2) 도화선의 절단은 도화선용 가위를 이용하여 직각으로 절단하여야 한다.\n",
      "\n",
      "(3) 뇌관 내부에 도화선을 삽입하고 뇌관을 조여 놓을 때는 반드시 규정된 뇌관 조이개를 사용하고 뇌관의 장약부를 조이지 않도록 하여야 한다.\n",
      "\n",
      "(4) 뇌관을 약포에 달 때에는 약포내에 충분히 삽입하여 약포지로 도화선 둘레를 싸고 뇌관이 빠지지 않게 곧이어매도록 하며 도화선으로 약포를 묶지 않아야 한다.\n",
      "\n",
      "(5) 점화는 반드시 발파책임자의 지시 및 신호 하에 수행하여야 하며 점화의 순서, 대피방법 등을 사전에 검토하고 교육을 실시하여야 한다.\n",
      "\n",
      "(6) 발파책임자는 점화신호를 확실히 하고 작업원에 대하여 신호방식의 숙지, 지시에 대한 순응상태 등을 확인하여야 한다.\n",
      "\n",
      "5.8 버력처리\n",
      "\n",
      "(1) 버력처리 장비는 다음 사항을 고려하여 선정하고 사토장거리, 운행속도 등의 작업계획을 수립한 후 작업하여야 한다.\n",
      "\n",
      "   (가) 굴착단면의 크기 및 단위발파 버력의 물량\n",
      "   (나) 터널의 경사도\n",
      "   (다) 굴착방식\n",
      "   (라) 버력의 성상 및 함수비\n",
      "   (마) 운반 통로의 노면상태\n"
     ]
    },
    {
     "name": "stderr",
     "output_type": "stream",
     "text": [
      "INFO:httpx:HTTP Request: POST http://localhost:8000/v1/chat/completions \"HTTP/1.1 200 OK\"\n",
      " 38%|███▊      | 12/32 [02:23<04:13, 12.69s/it]"
     ]
    },
    {
     "name": "stdout",
     "output_type": "stream",
     "text": [
      "--------------------------------\n",
      "Processed: (2) 버력의 적재 및 작업시에는 주변의 지보공 및 가시설물 등이 손상되지 않도록 하여야 하며 위험요소에는 운전자가 보기 쉽게 운행속도, 회전주의, 후진금지 등 안전표지판을 부착하여야 한다.\n",
      "\n",
      "(3) 상기 (1), (2)의 계획 및 안전조치를 취한 후 근로자에게 작업안전교육을 실시하여야 한다.\n",
      "\n",
      "(4) 작업장에는 관리감독자를 배치하고 작업자 이외에는 출입을 금지하도록 하여야 한다.\n",
      "\n",
      "(5) 버력의 적재 및 운반기계에는 경광등, 경음기 등 안전장치를 설치하여야 한다.\n",
      "\n",
      "(6) 버력처리에 있어 불발 화약류가 혼입되어 있을 경우가 있으므로 확인하여야 한다.\n",
      "\n",
      "(7) 버력운반중 버력이 깔어지는 일이 없도록 무리한 적재를 하지 않아야 한다.\n",
      "\n",
      "(8) 버력운반로는 항상 얕은 노면을 유지하도록 하여야 하며 배수로를 확보해 두어야 한다.\n",
      "\n",
      "(9) 객내 운반을 제외로 하는 경우에는 탈선 등으로 인한 재해를 일으키지 않도록 제도를 건고하게 부설하고 수시로 점검, 보수하여야 한다.\n",
      "\n",
      "(10) 버력반출용 수직구 아래에는 낙석의 위험이 있는 돌등 등의 유무를 확인하고 이를 제거한 후 작업하도록 하여야 한다.\n",
      "\n",
      "(11) 버력 적재장에서는 붕괴, 붕괴의 위험이 있는 뜬돌 등의 유무를 확인하고 이를 제거한 후 작업하도록 하여야 한다.\n",
      "\n",
      "(12) 차량계 운반장비는 작업시작전 다음 사항을 점검하고 이상이 발견된 때에는 즉시 보수 기타 필요한 조치를 하여야 한다.\n"
     ]
    },
    {
     "name": "stderr",
     "output_type": "stream",
     "text": [
      "INFO:httpx:HTTP Request: POST http://localhost:8000/v1/chat/completions \"HTTP/1.1 200 OK\"\n",
      " 41%|████      | 13/32 [02:35<03:58, 12.56s/it]"
     ]
    },
    {
     "name": "stdout",
     "output_type": "stream",
     "text": [
      "--------------------------------\n",
      "Processed: (가) 제동장치 및 조향장치 기능의 이상유무\n",
      "(나) 하역장치 및 유압장치 기능의 이상유무\n",
      "(다) 차륜의 이상유무\n",
      "(라) 경광, 경음장치의 이상유무\n",
      "\n",
      "(13) 버력을 반출하는 궤도차량에는 전방에서 작업중인 근로자에게 미리 접근 상황을 알려주는 통신 및 경보시설을 설치·운용하여야 한다.\n",
      "\n",
      "(14) 버력 반출용 궤도차량이 근로자가 작업하고 있는 장소를 통행할 경우에는 근로자가 안전하게 대피한 것을 확인한 후 서행하여야 한다.\n",
      "\n",
      "5.9 기계굴착\n",
      "\n",
      "(1) 로더 헤더(Load Header), 쉬일드 머쉰(Shield Machine), 터널보링머쉰(T.B.M)등 굴착기계는 다음 사항을 고려하여 선정하고 작업순서 등 작업안전계획을 수립한 후 작업하여야 한다.\n",
      "\n",
      "(가) 터널굴착단면의 크기 및 형상\n",
      "(나) 지질구성 및 암반의 강도\n",
      "(다) 작업공간\n",
      "(라) 용수상태 및 막장의 자립도\n",
      "(마) 굴진방향에 따른 지질단층의 변화정도\n",
      "\n",
      "(2) (1)의 수립된 작업안전계획에는 최소한 다음 사항이 포함되어야 한다.\n",
      "\n",
      "(가) 굴착기계 및 운반장비 선정\n",
      "(나) 굴착단면의 굴착순서 및 방법\n",
      "(다) 굴진작업 1싸이클의 공정순서 및 굴진단위길이\n",
      "(라) 버력적재 방법 및 운반경로\n",
      "(마) 배수 및 환기\n",
      "(바) 이상 지질 발견시 대처방안\n",
      "(사) 작업시작전 장비의 점검\n",
      "(아) 관리감독자 선임\n"
     ]
    },
    {
     "name": "stderr",
     "output_type": "stream",
     "text": [
      "INFO:httpx:HTTP Request: POST http://localhost:8000/v1/chat/completions \"HTTP/1.1 200 OK\"\n",
      " 44%|████▍     | 14/32 [02:45<03:29, 11.64s/it]"
     ]
    },
    {
     "name": "stdout",
     "output_type": "stream",
     "text": [
      "--------------------------------\n",
      "Processed: 사업주는 (1) 및 (2)에서 수립된 작업안전계획에 준하여 작업을 하여야 하며 이를 작업자에게 교육하고 확인하여야 한다.\n",
      "\n",
      "(4) 작업자는 지시 또는 교육받은 작업내용을 준수하여야 한다.\n",
      "\n",
      "5.10 연약지반의 굴착\n",
      "\n",
      "(1) 막장에 연약지반 발생시 포아폴링, 프리그라우팅 등 지반보강 조치를 한 후 굴착하여야 한다.\n",
      "\n",
      "(2) 굴착작업 시작전에 뿜어붓기 콘크리트를 비상시에 타설할 수 있도록 준비하여야 한다.\n",
      "\n",
      "(3) 성능이 좋은 급결재를 항상 준비해 두어야 한다.\n",
      "\n",
      "(4) 철망, 소철선, 마대, 강관 등을 갱내의 찾기 쉬운 곳에 준비하여 두어야 한다.\n",
      "\n",
      "(5) 막장에는 항상 작업자를 배치하여야 하며 주·야간 교대시에는 막장에서 교대하도록 하여야 한다.\n",
      "\n",
      "(6) 이상용수 발생 또는 막장 자립도에 이상이 있을 때에는 즉시 작업을 중단하고 이에 대한 조치를 한 후 작업하여야 한다.\n",
      "\n",
      "(7) 작업장에는 관리감독자를 배치하여야 한다.\n",
      "\n",
      "(8) 필요시 수평보링, 수직보링을 추가 실시하고 지층단면도를 정확하게 작성하여 굴착계획을 수립하여야 한다.\n"
     ]
    },
    {
     "name": "stderr",
     "output_type": "stream",
     "text": [
      "INFO:httpx:HTTP Request: POST http://localhost:8000/v1/chat/completions \"HTTP/1.1 200 OK\"\n",
      " 47%|████▋     | 15/32 [02:58<03:23, 11.99s/it]"
     ]
    },
    {
     "name": "stdout",
     "output_type": "stream",
     "text": [
      "--------------------------------\n",
      "Processed: 6. 뿜어 붙이기 콘크리트\n",
      "\n",
      "6.1 작업계획\n",
      "\n",
      "(1) 뿜어 붙이기 콘크리트 작업시에는 사전에 작업계획을 수립후 실시하여야 하며 작업계획에는 최소한 다음 사항이 포함되어야 한다.\n",
      "\n",
      "(가) 사용목적 및 투입장비\n",
      "(나) 건식공법, 습식공법 등 공법의 선택\n",
      "(다) 노즐의 분사출력기준\n",
      "(라) 압송거리\n",
      "(마) 분진방지대책\n",
      "(바) 재료의 혼입기준\n",
      "(사) 리바운드 방지대책\n",
      "(아) 작업의 안전수칙\n",
      "\n",
      "(2) 작업계획을 근로자에게 교육시켜야 한다.\n",
      "\n",
      "6.2 일반사항\n",
      "\n",
      "(1) 뿜어 붙이기 작업전 필히 대상암반면의 절리상태, 부석, 탈락, 붕락 등의 사전 조사를 실시하고 유동성 부석은 완전하게 정리하여야 한다.\n",
      "\n",
      "(2) 뿜어 붙이기 작업대상구간에 용수가 있을 경우에는 작업전 누수공 설치, 배수관 체결에 의한 누수유도 등의 방수처리를 하거나 급결성 모르터 등으로 지수하여 접착면의 누수에 의한 수막분리현상을 방지하여야 한다.\n",
      "\n",
      "(3) 뿜어 붙이기 콘크리트의 압축강도는 24시간 이내에 100kgf/㎠이상, 28일 강도 200kgf/㎠이상을 유지하여야 한다.\n",
      "\n",
      "(4) 철망 고정용 앵커는 10㎡당 2 본을 표준으로 한다.\n",
      "\n",
      "(5) 철망은 철선곡기 ø3mm~6mm 눈금간격 사방 100mm의 것을 사용하여야 하며, 이음부위는 20cm이상 겹치도록 하여야 한다.\n"
     ]
    },
    {
     "name": "stderr",
     "output_type": "stream",
     "text": [
      "INFO:httpx:HTTP Request: POST http://localhost:8000/v1/chat/completions \"HTTP/1.1 200 OK\"\n",
      " 50%|█████     | 16/32 [03:12<03:21, 12.56s/it]"
     ]
    },
    {
     "name": "stdout",
     "output_type": "stream",
     "text": [
      "--------------------------------\n",
      "Processed: (6) 철망은 원지반으로부터 1.0cm이상 이격거리를 유지하여야 한다.\n",
      "\n",
      "(7) 지반의 이완변형을 최소한으로 하기 위하여 굴착후 최단시간 내에 뿜어 붙이기 콘크리트 작업을 신속하게 시행하여야 한다.\n",
      "\n",
      "(8) 기계의 고장 등으로 작업이 중단되지 않도록 기계의 점검 및 유지 보수를 실시하여야 한다.\n",
      "\n",
      "(9) 작업진 근로자에게 분진마스크, 귀마개, 보안경 등 개인보호구를 지급하고 착용여부를 확인한 후 작업하여야 한다.\n",
      "\n",
      "(10) 뿜어붙이기 콘크리트 노즐분사압력은 2~3kgf/cm²를 표준으로 한다.\n",
      "\n",
      "(11) 물의 압력은 압축공기의 압력보다 1kgf/cm² 높게 유지하여야 한다.\n",
      "\n",
      "(12) 지반 및 암반의 상태에 따라 뿜어붙이기 콘크리트의 최소 두께는 다음 기준 이상이어야 한다.\n",
      "\n",
      "   (가) 약간 취약한 암반 : 2cm  \n",
      "   (나) 약간 파괴되기 쉬운 암반 : 3cm  \n",
      "   (다) 파괴되기 쉬운 암반 : 5cm  \n",
      "   (라) 매우 파괴되기 쉬운 암반 : 7cm(철망병용)  \n",
      "   (마) 팽창성의 암반 : 15cm(강재 지보공과 철망병용)\n",
      "\n",
      "(13) 뿜어붙이기 콘크리트 작업시에는 부근의 건조물 등의 오손을 방지하기 위하여 작업전 경계부위에 필요한 방호조치를 하여야 한다.\n",
      "\n",
      "(14) 접착불량, 혼합비율불량 등 불량한 뿜어붙이기 콘크리트가 발견되었을 시에는 신속히 양호한 뿜어붙이기 콘크리트로 대체하여 콘크리트 덩어리의 분리 낙하로 인한 재해를 예방하여야 한다.\n"
     ]
    },
    {
     "name": "stderr",
     "output_type": "stream",
     "text": [
      "INFO:httpx:HTTP Request: POST http://localhost:8000/v1/chat/completions \"HTTP/1.1 200 OK\"\n",
      " 53%|█████▎    | 17/32 [03:24<03:10, 12.68s/it]"
     ]
    },
    {
     "name": "stdout",
     "output_type": "stream",
     "text": [
      "--------------------------------\n",
      "Processed: 7. 강아치지보공\n",
      "\n",
      "7.1 일반사항\n",
      "\n",
      "(1) 강아치지보공을 조립할 때에는 설계, 시방에 부합하는 조립도를 작성하고 당해 조립도에 따라 조립하여야 하며 재질기준, 설치간격, 접합볼트체결 등\n",
      "의 기준을 준수하여야 한다.\n",
      "\n",
      "(2) 강아치지보공 조립시에는 부재운반, 부재전도, 협착 등 안전조치를 취한 후 조립작업을 하여야 한다.\n",
      "\n",
      "(3) 설계조건의 암반보다 구조적으로 불리한 경우에는 강아치지보공의 간격을 적절한 기준으로 축소하여야 한다.\n",
      "\n",
      "7.2 시공\n",
      "\n",
      "(1) 강아치지보공은 발파굴착면의 절리발달, 편암붕괴 등 원지반에 불리한 파괴\n",
      "용력이 발생하기전에 가능한 신속히 설치하여야 한다.\n",
      "\n",
      "(2) 강아치지보공은 정해진 위치에 정확히 설치하여야 하며 건립후 그의 위치\n",
      "중심, 고저차에 대하여 수시로 점검하여야 한다.\n",
      "\n",
      "(3) 강아치지보공의 설치에 있어서는 지질 및 지층의 특성에 따라 침하발생이 우려될 경우 쐐기, 앵커 등의 고정장치를 강구하여야 한다.\n",
      "\n",
      "(4) 강아치지보공의 상호연결볼트 및 연결재는 충분히 조여야 하며 용접을 금\n",
      "하고 덧댐판으로 볼트, 너트 구조의 접합을 실시하여야 한다.\n",
      "\n",
      "(5) 강아치지보공의 받침은 목재받침을 금하고 철근류 및 양질의 콘크리트 블록 등으로 고정하여야 한다.\n",
      "\n",
      "(6) 강아치지보공에 변형, 부재이완, 설치간격불량 등의 이상이 있다고 인정되\n",
      "는 경우에는 즉시 안전하고 확실한 방법으로 보강을 하여야 한다.\n"
     ]
    },
    {
     "name": "stderr",
     "output_type": "stream",
     "text": [
      "INFO:httpx:HTTP Request: POST http://localhost:8000/v1/chat/completions \"HTTP/1.1 200 OK\"\n",
      " 56%|█████▋    | 18/32 [03:37<02:55, 12.55s/it]"
     ]
    },
    {
     "name": "stdout",
     "output_type": "stream",
     "text": [
      "--------------------------------\n",
      "Processed: (7) 프리그라우팅 및 포아폴링 등의 보강작업시 사용되는 봉, 파이프 등에 의하여 강아치지보공이 이동하거나 뒤틀리는 것을 막아야 하며, 이 경우 설치공이 수평거리 10cm이내로 하여야 한다.\n",
      "\n",
      "(8) 예상치 못했던 막장의 구조적 불안정 등과 같은 비상의 상황에 대비하여 충분한 양의 비상용 통나무와 쐐기목, 급결재, 시멘트 등을 준비해 두어야 한다.\n",
      "\n",
      "8. 록 볼트\n",
      "\n",
      "8.1 일반사항\n",
      "\n",
      "(1) 록 볼트 공작업에 있어서는 작업전 다음 사항을 검토하여 실시하여야 한다.\n",
      "\n",
      "(가) 지반의 강도\n",
      "(나) 절리의 간격 및 방향\n",
      "(다) 균열의 상태\n",
      "(라) 용수상황\n",
      "(마) 친공직경의 확대유무 및 정도\n",
      "(바) 보아홀의 길이 및 자립여부\n",
      "(사) 뿜어붙이기 콘크리트 타설방향\n",
      "(아) 시공관리의 용이성\n",
      "(자) 정착의 확실성\n",
      "(차) 경제성\n",
      "\n",
      "(2) 록 볼트 설치작업의 분류기준은 선단정착형, 전면접착형, 병용형을 기준으로 하며 작업전 설계, 시방에 준하는 적정한 방식여부를 확인하여야 한다.\n",
      "\n",
      "(3) 록 볼트 선정에 있어서는 2~3종류의 록 볼트를 선정하여 현장부근의 조건이 동일한 장소에서 시험시공, 인발시험 등을 시행하여 록 볼트 강도를 사전확인함으로써 가장 적합한 종류의 록 볼트를 선정할 수 있도록 하여야 한다.\n"
     ]
    },
    {
     "name": "stderr",
     "output_type": "stream",
     "text": [
      "INFO:httpx:HTTP Request: POST http://localhost:8000/v1/chat/completions \"HTTP/1.1 200 OK\"\n",
      " 59%|█████▉    | 19/32 [03:50<02:45, 12.75s/it]"
     ]
    },
    {
     "name": "stdout",
     "output_type": "stream",
     "text": [
      "--------------------------------\n",
      "Processed: (4) 록 볼트 재질선정에 있어서는 암반조건, 설계시방 등을 고려하여 선정하여야 하며, 록 볼트의 직경은 25mm를 원칙으로 하여야 한다.\n",
      "\n",
      "(5) 록 볼트 접착제 선정에 있어서는 조기 접착력이 크고, 취급이 간단하여야 하며 내구성이 양호한 조건의 것을 선정하여야 한다.\n",
      "\n",
      "(6) 록 볼트 삽입간격 및 길이의 기준은 다음 사항을 고려하여 결정하여야 한다.\n",
      "\n",
      "(a) 원지반의 강도와 암반특성\n",
      "(b) 절리의 간격 및 방향\n",
      "(c) 터널의 단면규격\n",
      "(d) 사용 목적\n",
      "\n",
      "8.2 시공\n",
      "\n",
      "(1) 록 볼트 천공작업은 소정의 위치, 천공직경 및 천공깊이의 적정성을 확인하고 굴착면에 직각으로 천공하여야 하며, 볼트 삽입전에 유해한 녹·석분 등 이물질이 남지 않도록 청소하여야 한다.\n",
      "\n",
      "(2) 록 볼트의 조이기는 삽입후 즉시 록 볼트의 항복강도를 넘지 않는 범위에서 충분한 힘으로 조여야 한다.\n",
      "\n",
      "(3) 록 볼트의 다시 조이기는 시공후 1일정도 경과한 후 실시하여야 하며, 그 후에도 정기적으로 점검하여, 소정의 긴장력이 도입되어 있는지를 확인하고, 이완되어 있는 경우에는 다시 조이기를 하여야 한다.\n",
      "\n",
      "(4) 모든 형태의 지지판은 지반의 변형을 구속하는 효과를 발휘하고, 지반의 붕괴방지를 위하여 암석이나 뿜어붙이기 콘크리트 표면에 완전히 밀착 되도록 하여야 한다.\n",
      "\n",
      "(5) 록 볼트는 뿜어붙이기 콘크리트의 경화후 가능한 한 빠른시기에 시공하여야 한다.\n"
     ]
    },
    {
     "name": "stderr",
     "output_type": "stream",
     "text": [
      "INFO:httpx:HTTP Request: POST http://localhost:8000/v1/chat/completions \"HTTP/1.1 200 OK\"\n",
      " 62%|██████▎   | 20/32 [04:06<02:43, 13.65s/it]"
     ]
    },
    {
     "name": "stdout",
     "output_type": "stream",
     "text": [
      "--------------------------------\n",
      "Processed: (6) 록 볼트의 천공에 따라 용수가 발생한 경우에는 단위면적기준 중앙 집수유 도방식 및 각공별 차수방식 등에 의하여 용출수 유도 및 차수를 실시하여야 한다.\n",
      "\n",
      "(7) 경사방향 록 볼트의 시공에 있어서는 소정의 각도를 준수하여야 하며, 낙석으로 인한 근로자의 안전조치를 전달한 후에 시행하여야 한다.\n",
      "\n",
      "(8) 록 볼트 작업의 표준시공방식으로서 시스템 볼팅을 실시하여야 하며 인발시험, 내공변위측정, 천단침하측정, 지중변위측정 등의 계측결과로부터 다음 사항에 해당될 때에는 록 볼트의 추가시공을 하여야 한다.\n",
      "\n",
      "(가) 터널벽면의 변형이 록 볼트 길이의 약 6%이상으로 판단되는 경우\n",
      "(나) 록 볼트의 인발시험결과로부터 충분한 인발내력이 얻어지지 않는 경우\n",
      "(다) 록 볼트 길이의 약 반으로부터 지반 심부까지의 사이에 축력분포의 최대치가 존재하는 경우\n",
      "(라) 소성영역의 확대가 록 볼트 길이를 초과한 것으로 판단되는 경우\n",
      "\n",
      "(9) 암반상태, 지질의 상황과 계측결과에 따라 필요한 경우에는 록 볼트설치의 증가 등 보완조치를 신속하게 실시하여야 한다.\n",
      "\n",
      "(10) 록 볼트 시공시 천공장의 규격에 따라 싱커, 크롤라드릴 등 천공기를 선별하여야 하며, 사용하기 전 드릴의 마모, 동력전달상태 등 장비의 점검 및 유지보수를 실시하여야 한다.\n",
      "\n",
      "(11) 록 볼트의 삽입장비는 시방규격의 회전속도(r.p.m)를 확보할 수 있는 에어오거 등 표준모델의 장비이어야 한다.\n",
      "\n",
      "(12) 록 볼트는 시공후 정기적으로 인발시험을 실시하고 축력변화에 대한 기록을 정확히하여 암반거동의 기록을 분석, 안전에 유의하여야 한다.\n",
      "\n",
      "(13) 록 볼트 작업은 천공 및 볼트 삽입 작업시 근로자의 안전을 위하여 개인보호구를 착용하여야 하며 관리감독자는 이를 확인하여야 한다.\n"
     ]
    },
    {
     "name": "stderr",
     "output_type": "stream",
     "text": [
      "INFO:httpx:HTTP Request: POST http://localhost:8000/v1/chat/completions \"HTTP/1.1 200 OK\"\n",
      " 66%|██████▌   | 21/32 [04:17<02:20, 12.80s/it]"
     ]
    },
    {
     "name": "stdout",
     "output_type": "stream",
     "text": [
      "--------------------------------\n",
      "Processed: 9. 라이닝 콘크리트\n",
      "\n",
      "9.1 철근조립\n",
      "\n",
      "터널 천단부에 라이닝 철근을 조립하는 경우에는 조립된 라이닝 철근망이 자중에 의한 붕괴위험이 있는지를 구조검토하고 필요시 붕괴되지 않도록 철근망에 보강재를 삽입하거나 터널 굴착면에 철근망 고정용 앵커를 설치하여 철근망을 견고하게 고정하여야 한다.\n",
      "\n",
      "9.2 콘크리트 라이닝\n",
      "\n",
      "(1) 콘크리트 라이닝 공법 선정시 다음 사항을 검토하여 시공방식을 선정하여야 한다.\n",
      "\n",
      "(가) 지질, 암질상태\n",
      "(나) 단면형상\n",
      "(다) 라이닝의 작업능률\n",
      "(라) 굴착공법\n",
      "\n",
      "(2) 라이닝 콘크리트 배면과 뿜어붙인 콘크리트 사이의 공극이 생기지 않도록 하여야 한다.\n",
      "\n",
      "(3) 콘크리트 재료의 혼합후 타설 완료 때까지의 소요시간은 다음을 기준으로 한다.\n",
      "\n",
      "(가) 온난·건조시 1시간 이내\n",
      "(나) 저온·습윤시 2시간 이내\n",
      "\n",
      "(4) 콘크리트 운반중 재료의 분리, 손실, 이물의 혼입이 발생하지 않는 방법으로 운반하여야 한다.\n",
      "\n",
      "(5) 콘크리트 타설표면은 이물질이 없도록 사전에 제거하여야 한다.\n"
     ]
    },
    {
     "name": "stderr",
     "output_type": "stream",
     "text": [
      "INFO:httpx:HTTP Request: POST http://localhost:8000/v1/chat/completions \"HTTP/1.1 200 OK\"\n",
      " 69%|██████▉   | 22/32 [04:31<02:12, 13.23s/it]"
     ]
    },
    {
     "name": "stdout",
     "output_type": "stream",
     "text": [
      "--------------------------------\n",
      "Processed: (6) 콘크리트는 연속해서 타설하여야 하며, 좌우대칭으로 같은 높이로하여 거푸집에 편압이 작용하지 않도록 하여야 한다.\n",
      "\n",
      "(7) 타설슈트, 벨트컨베이어 등을 사용하는 경우에는 충격, 휘발림 등에 대하여 충분한 주의를 하여야 한다.\n",
      "\n",
      "(8) 굽지 않은 콘크리트의 층질 및 침하로 인하여 터널천정 부분에 공극이 생기는 위험을 방지하기 위해서 콘크리트가 경화된 후 시방에 의한 접착 그라우팅을 천정부에 시행하여야 한다.\n",
      "\n",
      "9.3 거푸집구조\n",
      "\n",
      "(1) 거푸집은 콘크리트의 타설 속도 등을 고려하여 타설된 콘크리트의 압력에 충분히 견디는 구조이어야 한다.\n",
      "\n",
      "(2) 이동식 거푸집에 있어서는 다음 사항을 준수하여야 한다.\n",
      "\n",
      "(가) 이동식 거푸집 제작시에는 근로자의 작업에 지장을 초래하지 않도록 작업공간을 확보할 수 있는 구조이어야 한다.\n",
      "\n",
      "(나) 이동식 거푸집에 있어서는 불트, 너트 등으로 이완되지 않도록 견고하게 고정하여야 하며 휘, 비틀림, 전단 등의 응력 발생에 대하여 점검하여야 한다.\n",
      "\n",
      "(다) 거푸집 이동용 궤도는 침하방지를 위하여 지반의 다짐, 편평도를 사전에 점검하고 침목설치상태, 레일의 간격 등을 사전점검 하여야 한다.\n",
      "\n",
      "(라) 이동식 거푸집의 경우 설치 후 장기간 방치시 사용된 재키류의 나선파손, 유압실린더, 플레이트 등의 파손 및 이완 유무를 재확인하여야 하며 교체, 보완, 보강 등의 조치를 하여야 한다.\n",
      "\n",
      "(마) 콘크리트 타설하중 및 타설충격에 의한 거푸집 변위 및 이동방지의 목적으로 가설앵커, 쁉기 등의 설치를 하여야 한다.\n"
     ]
    },
    {
     "name": "stderr",
     "output_type": "stream",
     "text": [
      "INFO:httpx:HTTP Request: POST http://localhost:8000/v1/chat/completions \"HTTP/1.1 200 OK\"\n",
      " 72%|███████▏  | 23/32 [04:45<02:01, 13.51s/it]"
     ]
    },
    {
     "name": "stdout",
     "output_type": "stream",
     "text": [
      "--------------------------------\n",
      "Processed: 9.4 거푸집 시공\n",
      "\n",
      "(1) 조립식 거푸집에 있어서는 다음 사항을 준수하여야 한다.\n",
      "\n",
      "(가) 조립식 거푸집은 제작사양 조립도의 조립순서를 준수하여야 하며 해체시의 순서는 조립순서의 역순을 원칙으로 하여야 한다.\n",
      "(나) 조립식 거푸집을 해체할 때에는 순서에 의해 부재를 정리 정돈하고 부착콘크리트, 유해물질 등을 제거하고 현지, 재키 등의 활성작동구간은 윤활유 등을 주입하여야 한다.\n",
      "(다) 조립과 해체의 반복작업에 의한 볼트, 너트의 손상율을 사전에 점검하고 충분한 여분을 준비하여야 한다.\n",
      "(라) 라이닝플레이트 등의 절단, 변형, 부재탈락시 용접 접합을 금하며 필요시 동일재질의 부재로 교체하여야 한다.\n",
      "(마) 벽체 및 천장부 작업시 작업대 설치를 요하며 사다리, 안전난간, 안전대 부착설비, 이동용바퀴 및 정지장치 등을 설치하여야 한다.\n",
      "\n",
      "(2) 거푸집 조립작업의 시행전 다음 사항을 고려하여 타설목적에 적당한 규격여부를 확인하여야 한다.\n",
      "\n",
      "(가) 콘크리트의 1회 타설량\n",
      "(나) 타설길이\n",
      "(다) 타설속도\n",
      "\n",
      "(3) 거푸집의 측면판은 콘크리트의 타설측압 및 압축력에 충분히 견디는 구조로 하여야 하며 모르터가 새어나가지 않도록 원지반에 밀착, 고정시켜야 한다.\n",
      "\n",
      "(4) 거푸집은 타설된 콘크리트가 필요한 강도에 달할 때까지 거푸집을 제거하지 않아야 하며 시방의 양생기준을 준수하여야 한다.\n",
      "\n",
      "(5) 거푸집을 조립할 때에는 철근의 앵커구조, 피복규격 등을 확인하고 철근의변위, 이동방지용 쐐기 설치 상태를 확인하여야 한다.\n"
     ]
    },
    {
     "name": "stderr",
     "output_type": "stream",
     "text": [
      "INFO:httpx:HTTP Request: POST http://localhost:8000/v1/chat/completions \"HTTP/1.1 200 OK\"\n",
      " 75%|███████▌  | 24/32 [04:56<01:42, 12.87s/it]"
     ]
    },
    {
     "name": "stdout",
     "output_type": "stream",
     "text": [
      "--------------------------------\n",
      "Processed: 10. 계측\n",
      "\n",
      "10.1 계측의 목적\n",
      "\n",
      "터널 계측은 굴착지반의 거동, 지보공 부재의 변위, 응력의 변화 등에 대한 정밀 측정을 실시함으로써 시공의 안전성을 사전에 확보하고 설계시의 조사치와 비교분석하여 현장조건에 적정하도록 수정, 보완하는데 그 목적이 있으며 다음을 기준으로 한다.\n",
      "\n",
      "(1) 터널내 변형관측\n",
      "(2) 내공변위 측정\n",
      "(3) 천단침하 측정\n",
      "(4) 지표면 침하측정\n",
      "(5) 지중변위 측정\n",
      "(6) 지중침하 측정\n",
      "(7) 지중수평변위 측정\n",
      "(8) 지하수위 측정\n",
      "(9) 록 볼트 축력측정\n",
      "(10) 뿌어붓기 콘크리트 응력측정\n",
      "(11) 터널내 탄성과 속도 측정\n",
      "(12) 주변 구조물의 변형상태 조사\n",
      "\n",
      "10.2 계측관리\n",
      "\n",
      "(1) 터널작업시 사전에 계측계획을 수립하고 그 계획에 따른 계측을 하여야 하며 계측 계획에는 다음 사항이 포함되어야 한다.\n",
      "\n",
      "(가) 측정위치 개소 및 측정의 기능 분류\n",
      "(나) 계측시 소요장비\n",
      "(다) 계측빈도\n",
      "(라) 계측결과 분석방법\n",
      "(마) 변위 허용치 기준\n",
      "(바) 이상 변위시 조치 및 보강대책\n",
      "(사) 계측 전담반 운영계획\n"
     ]
    },
    {
     "name": "stderr",
     "output_type": "stream",
     "text": [
      "INFO:httpx:HTTP Request: POST http://localhost:8000/v1/chat/completions \"HTTP/1.1 200 OK\"\n",
      " 78%|███████▊  | 25/32 [05:06<01:23, 11.96s/it]"
     ]
    },
    {
     "name": "stdout",
     "output_type": "stream",
     "text": [
      "--------------------------------\n",
      "Processed: (2) 계측결과를 설계 및 시공에 반영하여 공사의 안전성을 도모할 수 있도록 계측기준을 명확히 하여야 한다.\n",
      "\n",
      "(3) 계측관리의 구분은 일상계측과 대표계측으로 하며 계측빈도 기준은 측정 특성별로 별도 수립하여야 한다.\n",
      "\n",
      "10.3 계측결과 기록\n",
      "\n",
      "계측결과를 시공관리 및 장래계획에 반영할 수 있도록 그 기록을 보존하여야 한다.\n",
      "\n",
      "10.4 계측기의 관리\n",
      "\n",
      "계측의 인적 및 기계적 오차를 최소화하기 위하여 다음 사항을 준수하여야 한다.\n",
      "\n",
      "(1) 계측시행에 있어 전문교육을 받은 계측 전담원을 지정하여 지정된 자만이 계측할 수 있도록 하여야 한다.\n",
      "\n",
      "(2) 설치된 계측기 및 센서 등의 정밀기기는 관계자 이외에 취급을 금지하여야 한다.\n",
      "\n",
      "(3) 계측기록의 결과를 분석후 시공중 조치사항에 대하여는 충분한 기술자료 및 표준지침에 의거하여야 한다.\n",
      "\n",
      "11. 배수 및 방수\n",
      "\n",
      "11.1 배수 및 방수계획의 작성\n",
      "\n",
      "터널내의 누수로 인한 붕괴위험 및 근로자의 작업안전을 위하여 배수 및 방수 계획을 수립하여야 하며 그 계획에는 다음 사항이 포함되어야 한다.\n"
     ]
    },
    {
     "name": "stderr",
     "output_type": "stream",
     "text": [
      "INFO:httpx:HTTP Request: POST http://localhost:8000/v1/chat/completions \"HTTP/1.1 200 OK\"\n",
      " 81%|████████▏ | 26/32 [05:20<01:14, 12.42s/it]"
     ]
    },
    {
     "name": "stdout",
     "output_type": "stream",
     "text": [
      "--------------------------------\n",
      "Processed: (가) 지하수위 및 투수계수에 의한 예상 누수량 산출\n",
      "(나) 배수펌프 소요대수 및 용량\n",
      "(다) 배수방식의 선정 및 집수구 설치방식\n",
      "(라) 터널내부 누수개소 조사 및 점검 담당자 선임\n",
      "(마) 누수량 집수유도 계획 또는 방수계획\n",
      "(바) 굴착상부지반의 체수대 조사\n",
      "\n",
      "11.2 누수에 의한 위험방지\n",
      "\n",
      "누수에 의한 주변구조물 침하 또는 터널붕괴로 인한 근로자의 피해를 방지하기 위하여 다음 사항을 준수하여야 한다.\n",
      "\n",
      "(1) 터널내의 누수개소, 누수량 측정 등의 목적으로 담당자를 선임하여야 한다.\n",
      "\n",
      "(2) 누수개소를 발견한 때에는토사 유출로 인한 상부지반의 공극발생 여부를 확인하여야 하며 규정된 용기의 용기에 의한 분당 누출 누수량을 측정하여야 한다.\n",
      "\n",
      "(3) 뻗어붙이기 콘크리트 부위에 토사유출의 용수 발생시 즉시 작업을 중단하고 지중침하, 지표면 침하 등의 계측 결과를 확인하고 정밀지반 조사후 급결그라우팅 주입 등의 조치를 취하여야 한다.\n",
      "\n",
      "(4) 누수 및 용출수 처리에 있어서는 다음 사항을 확인후 집수유도로 설치 또는 방수의 조치를 하여야 한다.\n",
      "\n",
      "(가) 누수에 토사의 혼입정도 여부\n",
      "(나) 배면 또는 상부지층의 지하수위 및 지질상태\n",
      "(다) 누수를 위한 배수로 설치시 탈수 또는 토사유출로 인한 붕괴 위험성 검토\n",
      "(라) 방수로 인한 지수처리시 배면 과다 수압에 의한 붕괴의 임계한도\n",
      "(마) 용출수량의 단위시간 변화 및 증가량\n"
     ]
    },
    {
     "name": "stderr",
     "output_type": "stream",
     "text": [
      "INFO:httpx:HTTP Request: POST http://localhost:8000/v1/chat/completions \"HTTP/1.1 200 OK\"\n",
      " 84%|████████▍ | 27/32 [05:30<00:59, 11.87s/it]"
     ]
    },
    {
     "name": "stdout",
     "output_type": "stream",
     "text": [
      "--------------------------------\n",
      "Processed: (5) 상기 사항을 확인후 이에 대한 적절한 조치를 하여야 한다.\n",
      "\n",
      "11.3 아치 접합부 배수유도\n",
      "\n",
      "터널구조상 2중 아치, 3중 아치의 구조에 있어서 시공중 가설배수로 유도는 아치 접합부 상단에 임시배수 관로 등을 설치하여 배수 안전조치를 취하여야 한다.\n",
      "\n",
      "11.4 배수로\n",
      "\n",
      "계획에 따라 배수로를 설치하고 지반의 안정조건, 근로자의 양호한 작업조건을 유지하여야 한다.\n",
      "\n",
      "11.5 지반보강\n",
      "\n",
      "누수에 의한 붕괴위험이 있는 개소에는 약액주입공법 등 지반보강 조치를 하여야 하며 정밀지층조사, 체수대 여부, 투수성관단 등의 조치를 사전에 실시하여야 한다.\n",
      "\n",
      "11.6 감전위험방지\n",
      "\n",
      "(1) 수중배수 펌프 설치시에는 근로자의 감전재해를 방지하기 위하여 펌프 외 함에 접지를 하여야 하며 수시로 누전상태 등의 확인을 하여야 한다.\n",
      "\n",
      "(2) 터널내 각종 가설전기 안전상태를 확인하여야 하며 근로자가 접촉되지 않도록 충분한 높이의 측면에 가설하여 수중 배선이 되지 않도록 하여야 한다.\n",
      "\n",
      "(3) 갱내 조명등, 수중펌프 등에는 반드시 누전차단기 회로와 연결되어야 하며 표준방식의 접지를 실시하여야 한다.\n"
     ]
    },
    {
     "name": "stderr",
     "output_type": "stream",
     "text": [
      "INFO:httpx:HTTP Request: POST http://localhost:8000/v1/chat/completions \"HTTP/1.1 200 OK\"\n",
      " 88%|████████▊ | 28/32 [05:42<00:47, 11.94s/it]"
     ]
    },
    {
     "name": "stdout",
     "output_type": "stream",
     "text": [
      "--------------------------------\n",
      "Processed: 12. 조명 및 환기\n",
      "\n",
      "12.1 조명\n",
      "\n",
      "(1) 막장의 균열 및 지질상태 터널벽면의 요철정도, 부석의 유무, 누수상황 등\n",
      "을 확인할 수 있도록 충분한 조명시설을 하여야 한다.\n",
      "\n",
      "(2) 근로자의 안전을 위하여 터널 작업면에 대한 조명장치 및 설비를 확인하여\n",
      "야 하며 조도의 기준은 다음 <표 1>을 준용한다.\n",
      "\n",
      "| 작업구분                | 기준  |\n",
      "|------------------------|-------|\n",
      "| 막장구간               | 60 LUX 이상 |\n",
      "| 터널중간구간           | 50 LUX 이상 |\n",
      "| 터널 입출구, 수직구 구간 | 30 LUX 이상 |\n",
      "\n",
      "(3) 조명설비에 대하여 정기 및 수시 점검계획을 수립하고 단선, 단락, 과손, 누전 등에 대하여는 즉시 조치하여야 한다.\n",
      "\n",
      "(4) 작업중 분진이나 매연으로 인하여 조도가 떨어지지 않도록 유지·관리를\n",
      "하여야 한다.\n",
      "\n",
      "(5) 터널내부에 설치된 조명용 전선의 절단, 누전 등으로 전력공급이 차단되는\n",
      "경우를 대비하여 터널외부에 설치된 주 분전반에서 각각 별도의 분기회로에\n",
      "접속하는 2계통의 조명용 배선을 설치하되 각 배선별 조명등을 교대로\n",
      "설치하여야 한다.\n",
      "\n",
      "(6) 터널내부에서 외부전원의 단전으로 조명이 꺼질 때 자동적으로 점등되는\n",
      "충전식 배터리를 전원으로 하는 비상조명등을 터널길이 100m당 1개소이상\n",
      "설치하여야 한다.\n"
     ]
    },
    {
     "name": "stderr",
     "output_type": "stream",
     "text": [
      "INFO:httpx:HTTP Request: POST http://localhost:8000/v1/chat/completions \"HTTP/1.1 200 OK\"\n",
      " 91%|█████████ | 29/32 [05:59<00:39, 13.31s/it]"
     ]
    },
    {
     "name": "stdout",
     "output_type": "stream",
     "text": [
      "--------------------------------\n",
      "Processed: (7) 터널내부의 충전식 배터리를 전원으로 하는 비상조명등은 수시 및 정기적으로 작동상태를 점검하고 항상 정상적으로 작동하도록 관리하여야 한다.\n",
      "\n",
      "12.2 환기\n",
      "\n",
      "(1) 터널 전지역에 항상 신선한 공기를 공급할 수 있는 충분한 용량의 환기설비를 설치하여야 하며 환기용량의 산출은 다음을 기준으로 한다.\n",
      "\n",
      "(가) 발파후 가스 단위 배출량을 산출하고 이의 소요환기량\n",
      "(나) 근로자의 호흡에 필요한 소요환기량\n",
      "(다) 디젤기관의 유해가스에 대한 소요환기량\n",
      "(라) 뿜어붙이기 콘크리트의 분진에 대한 소요환기량\n",
      "(마) 암반 및 지반자체의 유독가스 발생량\n",
      "\n",
      "(2) 발파후 유해가스, 분진 및 내연기관의 배기가스 등을 신속히 터널외부로 배출되도록 환기시키어야 하며 발파후 30분 이내에 분진 및 유해가스의 농도가 노출기준 이하로 배출되도록 배기 및 송기를 하여야 한다.\n",
      "\n",
      "(3) 배기가스처리장치가 없는 디젤기관은 터널 내의 투입을 금하여야 한다.\n",
      "\n",
      "(4) 터널 내의 기온은 37℃이하가 되도록 신선한 공기로 환기시키켜야 하며 근로자의 작업조건에 해가하지 아니한 상태를 유지하여야 한다.\n",
      "\n",
      "(5) 소요환기량에 충분한 용량의 환기설비를 하여야 하며 중앙집중환기방식, 단열식 송풍방식, 병열식 송풍방식 등의 기준에 의하여 적정한 계획을 수립하여야 한다.\n",
      "\n",
      "(6) 환기설비에 대하여 정기점검을 실시하고, 파손, 파괴 및 용량 부족시 보수 또는 교체하여야 한다.\n",
      "\n",
      "(7) 터널길이가 200m이상인 경우 천공, 발파, 버력반출, 굽착 및 지보공 설치 등 작업이 진행되는 막장작업구간(막장으로부터 50m이내)에서 천공, 발파, 습크리트 타설시 발생하는 분진 및 유해가스와 각 종 장비의 내연기관 배기가스 등을 터널외부로 신속히 배출하도록 송·배기시설을 각각 독립적으로 설치하여야 한다.\n"
     ]
    },
    {
     "name": "stderr",
     "output_type": "stream",
     "text": [
      "INFO:httpx:HTTP Request: POST http://localhost:8000/v1/chat/completions \"HTTP/1.1 200 OK\"\n",
      " 94%|█████████▍| 30/32 [06:11<00:26, 13.06s/it]"
     ]
    },
    {
     "name": "stdout",
     "output_type": "stream",
     "text": [
      "--------------------------------\n",
      "Processed: (8) 터널길이가 200m이상인 경우 막장에서 친공, 발파, 콘크리트 타설시 발생하는 분진 및 유해가스와 각 종 장비의 내연기관 배기가스 등이 막장작업구 간이외의 터널 구간으로 확산되지 않도록 막장으로부터 50m이내에 차단막을 설치하여야 한다.\n",
      "\n",
      "(9) 터널내부에서 근로자가 작업하고 있는 경우에는 분진 및 유해가스의 농도를 수시 및 정기적으로 측정하여 노출기준 이하로 항상 유지되도록 환기 및 살수를 하여야 한다.\n",
      "\n",
      "13. 터널내부 근로자 대피소 및 차량 회차로\n",
      "\n",
      "(1) 터널길이가 200m이상인 경우 현장여건을 고려하여 적정한 간격으로 차량계건설기계의 회차로겸 근로자 대피소를 설치하여야 한다(단, 터널단면의 폭이 넓어서 회차가 가능한 경우에는 설치하지 않을 수 있으며, 최대 설치 간격은 150m를 초과할 수 없다).\n",
      "\n",
      "(2) 터널내부의 근로자 대피소에는 응급구호비품, 음료수를 비치하여야 한다.\n",
      "\n",
      "14. 터널내부 시계확보\n",
      "\n",
      "(1) 터널내부에서 근로자가 작업할 경우에는 항상 100m이상의 가시거리를 확보하여야 한다.\n",
      "\n",
      "(2) 터널내부에서 분진, 유해가스, 내연기관 배기가스, 수증기 등의 과다로 인하여 가시거리가 100m미만일 경우에는 작업차량에 근로자가 충돌, 협착하는 등의 위험을 방지하기 위하여 신속히 환기 및 살수를 하여야 한다.\n"
     ]
    },
    {
     "name": "stderr",
     "output_type": "stream",
     "text": [
      "INFO:httpx:HTTP Request: POST http://localhost:8000/v1/chat/completions \"HTTP/1.1 200 OK\"\n",
      " 97%|█████████▋| 31/32 [06:26<00:13, 13.45s/it]"
     ]
    },
    {
     "name": "stdout",
     "output_type": "stream",
     "text": [
      "--------------------------------\n",
      "Processed: 15. 라이닝 콘크리트 표면의 에폭시 방수 등 유해가스를 방출하는 작업\n",
      "\n",
      "(1) 배수지 터널 등의 터널라이닝 콘크리트 표면에 방수공사를 하는 경우에는 방수액 도포후 발생하는 유해가스를 터널외부로 신속히 배출할 수 있도록 환기시설을 설치하고 유해가스의 농도가 노출기준 이하로 유지되도록 연속 적으로 가동하여야 한다.\n",
      "\n",
      "(2) 배수지 터널 등의 터널라이닝 콘크리트 표면에 에폭시 방수공사를 하는 장소에는 화재발생위험을 예방하기 위하여 불씨가 되는 용접작업 등 점화원을 격리하고 소화기를 비치하여야 한다.\n",
      "\n",
      "(3) 배수지 터널 등의 터널라이닝 콘크리트 표면에 에폭시 방수공사를 하는 근로자는 유기가스용 방독마스크를 착용하여야 한다.\n",
      "\n",
      "16. 터널내·외부간 비상용 통신시설\n",
      "\n",
      "(1) 터널내부 근로자와 터널외부에 있는 현장사무실의 관리감독자간 재해발생 위험시 연락할 수 있는 인터폰 등 비상용 통신시설을 터널길이 100m당 1개소이상 설치하여야 한다.\n",
      "\n",
      "(2) 비상용 통신시설은 충전식 배터리를 전원으로 작동하는 것이어야 한다.\n",
      "\n",
      "(3) 비상용 통신시설은 수시 및 정기적으로 작동상태를 점검하고 항상 정상적으로 작동되도록 관리하여야 한다.\n",
      "\n",
      "17. 작업복 및 보호장구\n",
      "\n",
      "(1) 터널내부에서 작업하는 근로자는 어두운 곳에서 발광되는 야광표식이 부착된 안전모, 작업복, 안전조끼 등 보호복장을 착용하여야 한다.\n",
      "\n",
      "(2) 터널내부에서 작업하는 근로자는 터널내부의 분진 및 유해가스의 종류 및 농도에 따라 적합한 방진마스크 및 방독마스크를 착용하여야 한다.\n"
     ]
    },
    {
     "name": "stderr",
     "output_type": "stream",
     "text": [
      "INFO:httpx:HTTP Request: POST http://localhost:8000/v1/chat/completions \"HTTP/1.1 200 OK\"\n",
      "100%|██████████| 32/32 [06:30<00:00, 12.19s/it]\n"
     ]
    },
    {
     "name": "stdout",
     "output_type": "stream",
     "text": [
      "--------------------------------\n",
      "Processed: (3) 화약류를 운반, 취급하거나 발파공에 장진하는 근로자는 정전기를 발생시키지 않고 또한 난연성을 가지도록 방염처리가 된 면소재의 작업복을 착용해야 한다.\n",
      "\n",
      "(4) 터널내부에서 전기기계·기구를 사용하여 작업하는 근로자는 절연장갑 및 고무장화를 착용하여야 한다.\n",
      "---End---\n",
      "Processing 프리스트레스트 콘크리트(PSC) 교량공사 안전작업 지침\n"
     ]
    },
    {
     "name": "stderr",
     "output_type": "stream",
     "text": [
      "  0%|          | 0/12 [00:00<?, ?it/s]INFO:httpx:HTTP Request: POST http://localhost:8000/v1/chat/completions \"HTTP/1.1 200 OK\"\n",
      "  8%|▊         | 1/12 [00:02<00:28,  2.57s/it]"
     ]
    },
    {
     "name": "stdout",
     "output_type": "stream",
     "text": [
      "--------------------------------\n",
      "Processed: 프리스트레스트 콘크리트(PSC)\n",
      "교량공사 안전작업 지침\n",
      "\n",
      "2011. 12.\n",
      "\n",
      "한국산업안전보건공단\n"
     ]
    },
    {
     "name": "stderr",
     "output_type": "stream",
     "text": [
      "INFO:httpx:HTTP Request: POST http://localhost:8000/v1/chat/completions \"HTTP/1.1 200 OK\"\n",
      " 17%|█▋        | 2/12 [00:13<01:13,  7.40s/it]"
     ]
    },
    {
     "name": "stdout",
     "output_type": "stream",
     "text": [
      "--------------------------------\n",
      "Processed: 안전보건기술지침의 개요\n",
      "\n",
      "◦ 작성자 : 안전보건공단 김성일\n",
      "◦ 개정자 : 안전보건공단 건설산업재해예방실\n",
      "\n",
      "◦ 제·개정경과\n",
      "\n",
      "- 1999년 11월 건설안전분야 기준제정위원회 심의\n",
      "- 1999년 12월 총괄기준제정위원회 심의\n",
      "- 2004년 11월 건설안전분야 제정위원회 심의\n",
      "- 2004년 12월 총괄제정위원회 심의\n",
      "- 2011년 12월 건설안전분야 제정위원회 심의(개정, 법규개정조항 반영)\n",
      "\n",
      "◦ 관련규격 및 자료\n",
      "\n",
      "- 건설공사 특수작업대 편람(한국산업안전보건공단)\n",
      "- 프리스트레스트 콘크리트 가설공사에 대한 안전성평가 지침(일본건설업\n",
      " 노동재해방지협회)\n",
      "\n",
      "◦ 관련 법규·규칙·고시 등\n",
      "\n",
      "- 산업안전보건기준에 관한 규칙 제1편 제6장(추락 또는 붕괴에 의한 위험방지)\n",
      "\n",
      "◦ 기술지침의 적용 및 문의\n",
      "\n",
      "이 기술지침에 대한 의견 또는 문의는 한국산업안전보건공단 홈페이지\n",
      "안전보건기술지침 소관 분야별 문의처 안내를 참고하시기 바랍니다.\n",
      "\n",
      "공표일자 : 2011년 12월 29일\n",
      "제 정 자 : 한국산업안전보건공단 이사장\n"
     ]
    },
    {
     "name": "stderr",
     "output_type": "stream",
     "text": [
      "INFO:httpx:HTTP Request: POST http://localhost:8000/v1/chat/completions \"HTTP/1.1 200 OK\"\n",
      " 25%|██▌       | 3/12 [00:26<01:28,  9.83s/it]"
     ]
    },
    {
     "name": "stdout",
     "output_type": "stream",
     "text": [
      "--------------------------------\n",
      "Processed: 프리스트레스트 콘크리트(PSC) 교량공사 안전작업 지침\n",
      "\n",
      "1. 목 적\n",
      "\n",
      "이 지침은 산업안전보건기준에 관한 규칙(이하 “안전보건규칙”이라 한다) 제1편 제6장(추락 또는 붕괴에 의한 위험방지)의 규정에 의하여 프리스트레스트 콘크리트(이하 “PSC”라 한다) 교량공사 작업에 관한 안전지침을 정함을 목적으로 한다.\n",
      "\n",
      "2. 적용범위\n",
      "\n",
      "이 지침은 건설공사 현장의 PSC 교량공사의 PSC거더 제작, 운반, 가설작업에 적용한다.\n",
      "\n",
      "3. 용어의 정의\n",
      "\n",
      "(1) 이 지침에서 사용되는 용어의 정의는 다음과 같다.\n",
      "\n",
      "(가) “PSC거더(Prestressed concrete girder)”라 함은 외력에 의해 발생하는 부재내의 인장응력에 대응하여 PS강재를 사용하여 미리 부재내에 압축응력을 가하여 좁으로써 외력에 대응토록 하는 원리로 만든 콘크리트부재를 말한다.\n",
      "\n",
      "(나) “PS강재”라 함은 프리스트레스를 가하기 위한 고강도 강재를 말한다.\n",
      "\n",
      "(다) “쉬스(Sheath)관”이라 함은 포스트텐션 방식에 있어서 PS강재의 배치구멍을 만들기 위하여 콘크리트를 타설하기 전에 미리 배치된 관을 말한다.\n",
      "\n",
      "(라) “해체작업대”라 함은 PSC 교량공사 현장에서 슬래브 거푸집 해체를 안전하고 효율적으로 수행하기 위하여 제작·사용되는 건설장비의 일종으로서 달기기구를 사용하여 작업대를 매달아 근로자가 탑승하여 작업하는 설비를 말한다.\n"
     ]
    },
    {
     "name": "stderr",
     "output_type": "stream",
     "text": [
      "INFO:httpx:HTTP Request: POST http://localhost:8000/v1/chat/completions \"HTTP/1.1 200 OK\"\n",
      " 33%|███▎      | 4/12 [00:38<01:27, 10.98s/it]"
     ]
    },
    {
     "name": "stdout",
     "output_type": "stream",
     "text": [
      "--------------------------------\n",
      "Processed: (2) 기타 이 지침에 사용하는 용어의 정의는 이 지침에 특별히 규정하는 경우를 제외하고는 산업안전보건법, 같은 법 시행령, 같은 법 시행규칙, 안전보건규칙 및 고시에서 정하는 바에 따른다.\n",
      "\n",
      "4. PSC거더 제작장 선정 시 안전조치 사항\n",
      "\n",
      "(1) PSC거더 제작과 야적에 충분한 면적을 확보하여야 한다.\n",
      "\n",
      "(2) 제작장의 지반은 부등침하가 발생하지 않도록 충분한 지지력을 확보하여야 한다.\n",
      "\n",
      "(3) 제작된 PSC거더의 반출이 용이한 곳을 선정하여야 한다.\n",
      "\n",
      "(4) 홍수위(H.W.L) 이상의 안전한 곳에 위치하여야 한다.\n",
      "\n",
      "(5) 풍수해의 영향, 지하매설물의 유무, 공사에 의한 공해 등의 방지에 유의하여야 한다.\n",
      "\n",
      "5. PSC거더 제작대 설치시 안전조치 사항\n",
      "\n",
      "(1) 제작대는 기초콘크리트를 타설하여 평탄성을 유지하여야 한다.\n",
      "\n",
      "(2) 제작대는 지면 보다 높게 설치하여 작업중 또는 강우 등으로 인한 배수가 원활히 이루어지도록 하여야 한다.\n",
      "\n",
      "(3) 제작대 환방향 간격은 작업자가 충분히 통행할 수 있고 거푸집 조립 및 해체 시 장애가 되지 않도록 하여야 하며, 불의의 사고로 거더가 전도될 경우 인근 거더에 연속적인 피해를 주지 않도록 전도방지조치 또는 거더간에 충분한 간격을 유지하여야 한다.\n",
      "\n",
      "(4) 제작된 순서대로 운반하여 사용할 수 있도록 공간을 충분히 확보하여야 한다.\n"
     ]
    },
    {
     "name": "stderr",
     "output_type": "stream",
     "text": [
      "INFO:httpx:HTTP Request: POST http://localhost:8000/v1/chat/completions \"HTTP/1.1 200 OK\"\n",
      " 42%|████▏     | 5/12 [00:51<01:21, 11.66s/it]"
     ]
    },
    {
     "name": "stdout",
     "output_type": "stream",
     "text": [
      "--------------------------------\n",
      "Processed: (5) PS강재 긴장작업 시에는 침하현상이 일어나지 않도록 지반과 거푸집 지지대를 견고히 해야 하며 보의 자중과 철재 거푸집의 중량으로 인한 변형이 일어나지 않도록 하여야 한다.\n",
      "\n",
      "6. 철근조립\n",
      "\n",
      "KOSHA Code C-6-2004 콘크리트공사의 표준안전작업지침의 5. 철근공사에 따른다.\n",
      "\n",
      "7. 쉬스관 및 강재 배치\n",
      "\n",
      "(1) PS강재는 설계도서에 표시된 위치에 정확히 배치해야 하며 콘크리트 타설 및 양생중 움직이지 않도록 고정하여야 한다.\n",
      "\n",
      "(2) 모든 쉬스관 및 정착장치는 프리스트레스 도입 후 그라우트를 주입할 수 있도록 피이프 또는 적절한 기타 연결부를 갖추어 조립하고 이동이 없도록 안전하게 제자리에 정착하여야 한다.\n",
      "\n",
      "(3) 쉬스관과 거푸집과의 접촉방지를 위해 사용되는 간격재는 승인된 모양과 치수의 프리캐스트 모르터 블록이어야 하며, 쉬스관과 쉬스관 사이에는 모르터 블록이나 기타 적절한 방법으로 간격을 유지하여야 한다. 다만, 목재로 된 간격재를 사용해서는 아니 된다.\n",
      "\n",
      "(4) 포스트 텐션 부재를 제작하여 장기간 인장과 그라우팅 작업을 하지 못할 경우에는 PS강재에 녹이 발생하지 않도록 하여야 한다.\n",
      "\n",
      "(5) 가공선로에 대한 감전재해 방지조치를 하여야 한다.\n",
      "\n",
      "(6) 정착구의 지압면은 PS강재의 축선에 대해서 직각이 되도록 하여야 한다.\n"
     ]
    },
    {
     "name": "stderr",
     "output_type": "stream",
     "text": [
      "INFO:httpx:HTTP Request: POST http://localhost:8000/v1/chat/completions \"HTTP/1.1 200 OK\"\n",
      " 50%|█████     | 6/12 [01:02<01:07, 11.29s/it]"
     ]
    },
    {
     "name": "stdout",
     "output_type": "stream",
     "text": [
      "--------------------------------\n",
      "Processed: 8. 거푸집 설치 및 콘크리트 타설\n",
      "\n",
      "KOSHA Code C-6-2004 콘크리트공사의 표준안전작업지침의 4. 거푸집 및 거\n",
      "푸집동바리 공사 및 6. 콘크리트 타설공사에 따른다.\n",
      "\n",
      "9. 양생관리\n",
      "\n",
      "(1) 급열 양생 시에는 산소결핍증의 방지 및 일산화탄소 중독방지 등을 위해\n",
      "근로자가 양생쉬트 내로 들어가지 않도록 하며, 만약 들어가는 경우에는\n",
      "충분한 환기조치 후 들어가도록 하여야 한다.\n",
      "\n",
      "(2) 양생작업 시에는 화재예방을 위하여 인근에 소화기 등을 비치하여야 한다.\n",
      "\n",
      "10. PSC거더 긴장 시 주의사항\n",
      "\n",
      "(1) 인장장치 후방에는 인장력의 최대반력에 견딜 수 있는 방호벽을 설치하여야\n",
      "한다.\n",
      "\n",
      "(2) 프리스트레스 도입에 의한 PSC거더의 전도방지조치를 하여야 한다.\n",
      "\n",
      "(3) 긴장 작업 시에는 작업지휘자를 선임하여야 한다.\n",
      "\n",
      "(4) 긴장장치 배면에서의 작업을 금지하여야 한다.\n",
      "\n",
      "(5) 긴장 작업 시 관계자 이외의 접근을 금지시켜야 한다.\n",
      "\n",
      "(6) 우천 시 작업할 경우에는 쉬트 등으로 덮거나 지붕을 설치하여 직접 비에 젖\n",
      "지 않도록 하여야 한다.\n",
      "\n",
      "11. 운반 및 보관 시 주의사항\n"
     ]
    },
    {
     "name": "stderr",
     "output_type": "stream",
     "text": [
      "INFO:httpx:HTTP Request: POST http://localhost:8000/v1/chat/completions \"HTTP/1.1 200 OK\"\n",
      " 58%|█████▊    | 7/12 [01:06<00:45,  9.14s/it]"
     ]
    },
    {
     "name": "stdout",
     "output_type": "stream",
     "text": [
      "--------------------------------\n",
      "Processed: 12. PSC거더 가설 시 안전조치사항\n",
      "\n",
      "12.1 공통사항\n",
      "\n",
      "(1) 작업시작 전에 관리감독자를 지정하여 작업을 지휘하도록 하여야 한다.\n",
      "\n",
      "(2) 작업장 내 고압 송전선로, 전기·통신케이블 등 장애물 현황을 사전에 조사하여 이설하거나 방호시설을 갖추는 등의 안전조치를 하여야 한다.\n",
      "\n",
      "(3) 근로자의 건강상태를 작업 전에 확인하여 작업배치 적정여부를 결정하여야 한다.\n"
     ]
    },
    {
     "name": "stderr",
     "output_type": "stream",
     "text": [
      "INFO:httpx:HTTP Request: POST http://localhost:8000/v1/chat/completions \"HTTP/1.1 200 OK\"\n",
      " 67%|██████▋   | 8/12 [01:20<00:41, 10.44s/it]"
     ]
    },
    {
     "name": "stdout",
     "output_type": "stream",
     "text": [
      "--------------------------------\n",
      "Processed: (4) 안전모, 안전대 등 근로자의 개인보호구를 점검하고 작업 전에 보호구의 착\n",
      "용방법에 대한 교육을 실시한 다음 작업 중에 착용여부 및 상태를 확인하\n",
      "여야 한다.\n",
      "\n",
      "(5) 사용예정 장비는 안전점검을 실시하여 이상이 발견된 때에는 정상적인 장비로\n",
      "교체하거나 정비하여 이상이 없음을 확인한 후 사용하도록 한다.\n",
      "\n",
      "(6) 위험지기 및 기기의 방호장치의 이상 유무를 확인하여야 한다.\n",
      "\n",
      "(7) 관리감독자는 당해 작업의 위험요인과 이에 대한 안전수칙을 근로자에게\n",
      "주지시키고 이행여부를 확인하여야 한다.\n",
      "\n",
      "(8) 공사차량의 출입로를 확보하고 차량유도계획을 수립하여 제3자에게 피해를\n",
      "주지 않도록 하여야 한다.\n",
      "\n",
      "(9) 작업장 내 공구 및 자재를 정리정돈하여 낙하·비래 등의 재해를 예방하여야\n",
      "한다.\n",
      "\n",
      "(10) 중량물 부품을 운반하여 지면에 임시적재할 때에는 반드시 받침목을 꺴\n",
      "고 균형을 맞추어 적재하여야 한다.\n",
      "\n",
      "12.2 거치 작업전 준비사항\n",
      "\n",
      "(1) 작업반경, 안전한 인장 하중범위 등을 고려하여 양중기를 선정하여야 한다.\n",
      "\n",
      "(2) 크레인 2대로 동시에 인양할 때에는 크레인의 정격용량 및 설치위치, 인양\n",
      "방법 등을 고려한 작업계획서를 작성하여야 한다.\n",
      "\n",
      "(3) PSC거더 위에 안전난간은 거치하기 전에 지상에서 조립하여야 한다.\n",
      "\n",
      "(4) PSC거더 상부에 통로용 발판을 고정 설치한다.\n",
      "\n",
      "(5) 양중기 작업장 및 통로는 평탄성과 다짐상태를 확인하고 연약지반의 경우 치\n",
      "환 후 충분한 다짐을 하거나 철판 등을 설치하여 침하에 대비하여야 한다.\n"
     ]
    },
    {
     "name": "stderr",
     "output_type": "stream",
     "text": [
      "INFO:httpx:HTTP Request: POST http://localhost:8000/v1/chat/completions \"HTTP/1.1 200 OK\"\n",
      " 75%|███████▌  | 9/12 [01:31<00:31, 10.58s/it]"
     ]
    },
    {
     "name": "stdout",
     "output_type": "stream",
     "text": [
      "--------------------------------\n",
      "Processed: 12.3 PSC거더 거치 시 안전조치사항\n",
      "\n",
      "(1) 하부 작업범위 내에는 관계근로자 외 출입을 금지하고 경계구역을 설정하여야 한다.\n",
      "\n",
      "(2) 작업순서, 작업방법, 신호방법 등에 대하여 해당작업 양중기 운전원 및 근로자에 대한 안전교육을 실시하여야 한다.\n",
      "\n",
      "(3) 거치 작업 전 아래내용이 포함된 양중기 상태를 확인하여야 한다.\n",
      "\n",
      "(가) 훅 해지장치, 권과 방지장치, 과부하 방지장치의 손상유무\n",
      "(나) 경보장치, 브레이크 작동상태\n",
      "(다) 와이어로프 결손상태, 클립체결상태 등\n",
      "\n",
      "(4) 양중기의 전도방지를 위하여 부착된 모멘트 리미트(Moment limit)의 작동 유무를 확인하여야 한다.\n",
      "\n",
      "(5) 제작장에서 트레일러 위에 PSC거더를 상차하는 경우 운전원은 트레일러에 고정완료 될 때까지 운전석을 이탈하여서는 아니 된다.\n",
      "\n",
      "(6) 운반용 트레일러 위의 PSC거더 고정조치는 양중기의 인양로프를 결속한 후에 해제하여야 한다.\n",
      "\n",
      "(7) PSC거더의 인양시 <그림 1>과 같이 PSC거더의 리프팅 홀에 강봉을 삽입하고 상부 모서리에 패드 등으로 보호조치 후 와이어로프로 인양하여야 한다.\n",
      "\n",
      "<그림 1> PSC거더 인양 예\n"
     ]
    },
    {
     "name": "stderr",
     "output_type": "stream",
     "text": [
      "INFO:httpx:HTTP Request: POST http://localhost:8000/v1/chat/completions \"HTTP/1.1 200 OK\"\n",
      " 83%|████████▎ | 10/12 [01:39<00:20, 10.00s/it]"
     ]
    },
    {
     "name": "stdout",
     "output_type": "stream",
     "text": [
      "--------------------------------\n",
      "Processed: (8) 두 대의 양중기를 이용하여 PSC거더 인양시 수평을 유지하며 서서히 인양 하여야 한다.\n",
      "\n",
      "(9) 양중기 운전은 면허 소지자가 하여야 하며 자재를 매단체 운전석을 이탈하여서는 아니 된다.\n",
      "\n",
      "(10) 양중작업은 신호수의 신호에 따라 실시하여야 한다.\n",
      "\n",
      "(11) 풍속이 10분간 계속하여 10m/sec 이상인 경우에는 작업을 중지하여야 한다.\n",
      "\n",
      "12.4 PSC거더 거치 후 안전조치사항\n",
      "\n",
      "(1) 각각의 PSC거더 거치 즉시 <그림 2>와 같이 코핑상부에 매립된 고리에 턴버클로 와이어로프를 긴장하여 고정하고 삼각 프레임과 받침써기 등을 설치하여 PSC거더가 전도되지 않도록 하여야 한다.\n",
      "\n",
      "(2) 한경간의 PSC거더 설치완료 후 PSC거더 하부에는 <그림 3>, <그림 4>와 같이 낙하 및 추락방지망을 설치하여 재해를 예방하여야 한다.\n",
      "\n",
      "<그림 2> PSC거더 전도방지 설치 예(단면도)\n"
     ]
    },
    {
     "name": "stderr",
     "output_type": "stream",
     "text": [
      "INFO:httpx:HTTP Request: POST http://localhost:8000/v1/chat/completions \"HTTP/1.1 200 OK\"\n",
      " 92%|█████████▏| 11/12 [01:44<00:08,  8.42s/it]"
     ]
    },
    {
     "name": "stdout",
     "output_type": "stream",
     "text": [
      "--------------------------------\n",
      "Processed: (3) PSC거더 상부의 돌출철근에 철근(ø25)을 5m간격으로 지그재그로 용접하여 고정 하여야 한다.\n",
      "\n",
      "(4) PSC거더 위의 작업자는 안전난간에 반드시 안전대를 걸고 작업하여야 한다.\n",
      "\n",
      "(5) PSC거더 간 연결통로를 설치하고 움직임이 없도록 철저하게 고정하여야 한다.\n",
      "\n",
      "(6) PSC거더 하부가 도로나 작업장일 경우 낙하물방지망 또는 방호선반을 설치하여야 한다.\n"
     ]
    },
    {
     "name": "stderr",
     "output_type": "stream",
     "text": [
      "INFO:httpx:HTTP Request: POST http://localhost:8000/v1/chat/completions \"HTTP/1.1 200 OK\"\n",
      "100%|██████████| 12/12 [01:55<00:00,  9.60s/it]\n"
     ]
    },
    {
     "name": "stdout",
     "output_type": "stream",
     "text": [
      "--------------------------------\n",
      "Processed: (7) PSC거더 전체가 결속된 상태로 설치된 후 거더 하부에 고정시킨 쐐기와 버팀목을 빼고 슈(Shoe) 용접을 하여야 한다.\n",
      "\n",
      "13. 해체작업대를 이용한 PSC교량 슬래브 거푸집 해체 작업 시 안전조치사항\n",
      "\n",
      "(1) 작업 중에는 관리감독자를 배치하여 관리감독 하도록 한다.\n",
      "\n",
      "(2) 부재 변형여부 및 연결부, 접속부 이상 유무상태를 확인하여야 한다.\n",
      "\n",
      "(3) 턴테이블 회전 베어링의 이상 유무를 확인하여야 한다.\n",
      "\n",
      "(4) 작업대 연결볼트 및 각 연결부위의 이상 유무를 확인하고 특히 턴테이블 체결볼트가 설계도서와 일치하는지 확인하여야 한다.\n",
      "\n",
      "(5) 하부 작업발판 단부에 안전난간을 설치하여야 한다.\n",
      "\n",
      "(6) 상・하 이동용 사다리 및 등받이를 설치하고 적정여부를 확인하여야 한다.\n",
      "\n",
      "(7) 레일 클램프(Rail clamp) 고정상태를 확인하고 이격발생시 교체하여야 한다.\n",
      "\n",
      "(8) 작업대 사용 전 시험작동을 실시하고 안전시설의 작동상태를 확인하여야 한다.\n",
      "\n",
      "(9) 지브(Jib) 크레인 사용 전 시험작동하여 정상상태를 확인하여야 한다.\n",
      "\n",
      "(10) 작업시작 전에 작업대의 작업방법, 이용방법, 작업순서 및 안전조치 사항에 대하여 근로자에게 주지시켜야 한다.\n",
      "---End---\n",
      "Processing 작업발판 설치 및 사용안전 지침\n"
     ]
    },
    {
     "name": "stderr",
     "output_type": "stream",
     "text": [
      "  0%|          | 0/18 [00:00<?, ?it/s]INFO:httpx:HTTP Request: POST http://localhost:8000/v1/chat/completions \"HTTP/1.1 200 OK\"\n"
     ]
    },
    {
     "name": "stdout",
     "output_type": "stream",
     "text": [
      "--------------------------------\n",
      "Processed: None\n",
      "페이지 1의 텍스트가 없습니다. 재시도합니다.\n"
     ]
    },
    {
     "name": "stderr",
     "output_type": "stream",
     "text": [
      "INFO:httpx:HTTP Request: POST http://localhost:8000/v1/chat/completions \"HTTP/1.1 200 OK\"\n",
      "  6%|▌         | 1/18 [00:04<01:19,  4.68s/it]"
     ]
    },
    {
     "name": "stdout",
     "output_type": "stream",
     "text": [
      "--------------------------------\n",
      "Processed: 작업발판 설치 및 사용 안전 지침\n",
      "\n",
      "2015. 11\n",
      "\n",
      "한국산업안전보건공단\n"
     ]
    },
    {
     "name": "stderr",
     "output_type": "stream",
     "text": [
      "INFO:httpx:HTTP Request: POST http://localhost:8000/v1/chat/completions \"HTTP/1.1 200 OK\"\n",
      " 11%|█         | 2/18 [00:22<03:16, 12.29s/it]"
     ]
    },
    {
     "name": "stdout",
     "output_type": "stream",
     "text": [
      "--------------------------------\n",
      "Processed: 안전보건기술지침의 개요\n",
      "\n",
      "○ 작성자 : 안전보건공단 이덕재\n",
      "○ 개정자 : 산업안전보건연구원 안전연구실 정성춘\n",
      "\n",
      "○ 제·개정 경과\n",
      "  - 1999년 11월 건설안전분야 제정위원회 심의\n",
      "  - 1999년 12월 중관제정위원회 심의\n",
      "  - 2006년 7월 건설안전분야 제정위원회 심의\n",
      "  - 2006년 9월 중관제정위원회 심의\n",
      "  - 2011년 6월 건설안전분야 제정위원회 심의(개정)\n",
      "  - 2011년 12월 건설안전분야 제정위원회 심의(개정, 법규개정조항 반영)\n",
      "  - 2015년 11월 건설안전분야 제정위원회 심의(개정)\n",
      "\n",
      "○ 관련규격 및 자료\n",
      "  - 고용노동부고시 제2006-29호 (가설공사 표준안전 작업지침)\n",
      "  - 재사용 가설기자재 성능기준에 관한 지침(KOSHA GUIDE C-25-2011)\n",
      "  - 건설현장 작업발판 사용실태 조사 연구(안전보건공단, 2010)\n",
      "  - 건설현장 작업발판에서 넘어짐에 의한 떨어짐 예방 연구(안전보건공단, 2014)\n",
      "\n",
      "○ 관련법규·규칙·고시 등\n",
      "  - 산업안전보건법 제27조\n",
      "  - 산업안전보건기준에 관한 규칙 제9조, 제13조, 제42조, 제45조, 제55조 제1항, 제56조, 제63조, 제67조, 제337조\n",
      "  - 고용노동부고시 제2006-29호(가설공사 표준안전 작업지침)\n",
      "  - 고용노동부고시 제2010-36호 방호장치 의무안전인증 고시\n",
      "  - 노동부고시 제2009-32호 방호장치 자율안전확인 고시\n",
      "\n",
      "○ 기술지침의 적용 및 문의\n",
      "  - 이 기술지침에 대한 의견 또는 문의는 한국산업안전보건공단 홈페이지 (www.kosha.or.kr) 안전보건기술지침 소관 분야별 문의처 안내를 참고하시기 바랍니다.\n",
      "  - 동 지침 내에서 인용된 관련 규격 및 자료 등에 관하여 최근 개정 내용이 있는 경우 동 지침에 우선하여 참고하시기 바랍니다.\n",
      "\n",
      "공표일자 : 2015년 12월 7일\n",
      "제정자 : 한국산업안전보건공단 이사장\n"
     ]
    },
    {
     "name": "stderr",
     "output_type": "stream",
     "text": [
      "INFO:httpx:HTTP Request: POST http://localhost:8000/v1/chat/completions \"HTTP/1.1 200 OK\"\n",
      " 17%|█▋        | 3/18 [00:34<03:00, 12.05s/it]"
     ]
    },
    {
     "name": "stdout",
     "output_type": "stream",
     "text": [
      "--------------------------------\n",
      "Processed: 작업발판 설치 및 사용 안전지침\n",
      "\n",
      "1. 목적\n",
      "\n",
      "이 지침은 산업안전보건기준에 관한 규칙(이하 “안전보건규칙”이라 한다)에\n",
      "제9조(작업발판 등), 제13조(안전난간의 구조 및 설치요건), 제42조(추락의 방지),\n",
      "제45조(지붕 위에서의 위험 방지), 제55조 제1항(작업발판의 최대 적재량\n",
      "중), 제56조(작업발판의 구조), 제63조(달비계의 구조), 및 제67조(말비계)에 의\n",
      "하여 근로자의 추락위험의 우려가 있는 장소에 설치하는 작업발판의 재료,\n",
      "구조, 설치 및 사용에 필요한 안전지침을 정함을 목적으로 한다.\n",
      "\n",
      "2. 적용범위\n",
      "\n",
      "이 지침은 건설현장의 고소작업에서 근로자가 추락할 위험이 있는 장소에 설치\n",
      "하는 작업발판에 대하여 적용한다.\n",
      "\n",
      "3. 용어의 정의\n",
      "\n",
      "(1) 이 지침에서 사용하는 용어의 정의는 다음과 같다.\n",
      "\n",
      "(가) “작업발판”이라 함은 높은 곳에서 추락이나 발이 빠질 위험이 있는 장소\n",
      "에 근로자가 안전하게 작업할 수 있는 공간과 자재운반 등 안전하게 이동\n",
      "할 수 있는 공간을 확보하기 위해 설치해 놓은 발판을 말한다.\n",
      "\n",
      "(나) “수평재”라 함은 작업발판의 긴 방향으로 걸쳐 바닥재를 지지하는 부재를\n",
      "말한다.\n",
      "\n",
      "(다) “보재”라 함은 작업발판의 짧은 방향으로 걸쳐 바닥재를 지지하는 부재를\n",
      "말한다.\n"
     ]
    },
    {
     "name": "stderr",
     "output_type": "stream",
     "text": [
      "INFO:httpx:HTTP Request: POST http://localhost:8000/v1/chat/completions \"HTTP/1.1 200 OK\"\n",
      " 22%|██▏       | 4/18 [00:46<02:49, 12.09s/it]"
     ]
    },
    {
     "name": "stdout",
     "output_type": "stream",
     "text": [
      "--------------------------------\n",
      "Processed: (라) \"바닥재\"라 함은 수평재와 보재 위에 놓여진 바닥판을 형성하는 부재를 말한다.\n",
      "\n",
      "(마) \" 걸침고리 \"이라 함은 수평재 또는 보재를 지지물에 고정시킬 수 있게 만들어 지고리형 철물을 말한다.\n",
      "\n",
      "(바) \"선반지주\"라 함은 외줄비계에 설치한 작업발판을 지지하기 위한 삼각틀을 말한다.\n",
      "\n",
      "(사) \"발끝막이판\"이라 함은 이탈된 부품이나 작업 중인 공구 등이 발끝에 차여 아래로 떨어지는 것을 막기 위하여 바닥면 주변을 따라 수직으로 둘러쳐진 판을 말한다.\n",
      "\n",
      "(아) \"작업대\"란 비계용 강관에 설치할 수 있는 걸침고리가 용접 또는 리벳 등에 의하여 발판에 일체화되어 제작된 작업발판을 말한다.\n",
      "\n",
      "(자) \"통로용 작업발판\"이란 작업대와 달리 걸침고리가 없는 작업발판을 말한다.\n",
      "\n",
      "(차) \"작업계단\"이란 지지대, 계단 발판 및 걸침고리로 구성된 계단형 작업발판을 말한다.\n",
      "\n",
      "이 지침에서 사용하는 용어의 정의는 특별한 규정이 있는 경우를 제외하고는 산업안전보건법, 같은 법 시행령, 같은 법 시행규칙 및 안전보건규칙 및 관련 고시에서 정하는 바에 의한다.\n",
      "\n",
      "4. 작업발판의 구조 및 설치기준\n",
      "\n",
      "4.1 목재 작업발판\n",
      "\n",
      "작업장의 작업발판은 고용노동부고시 제2013-54호(방호장치 의무안전인증 고시)에 맞는 제품을 사용하여야 하나, 부득이 목재 작업발판을 사용하여야 할 경우에는 다음의 규정에 적합하여야 한다.\n"
     ]
    },
    {
     "name": "stderr",
     "output_type": "stream",
     "text": [
      "INFO:httpx:HTTP Request: POST http://localhost:8000/v1/chat/completions \"HTTP/1.1 200 OK\"\n",
      " 28%|██▊       | 5/18 [00:55<02:26, 11.25s/it]"
     ]
    },
    {
     "name": "stdout",
     "output_type": "stream",
     "text": [
      "--------------------------------\n",
      "Processed: (1) 작업발판으로 사용할 판재의 치수는 폭이 두께의 5~6배 이상 되어야 하고 작업 발판의 폭은 40㎝ 이상, 두께는 3.5㎝ 이상, 길이는 3.6m 이내 이어야 한다.\n",
      "\n",
      "(2) 2개의 바닥재를 평행으로 사용할 경우 바닥재 사이의 틈은 3㎝ 이하 이어야 한다.\n",
      "\n",
      "(3) 작업발판의 장방향 이음은 맞댄이음으로 해야 한다.\n",
      "\n",
      "(4) 건물벽체와 작업발판과의 간격은 30㎝ 이내로 한다.\n",
      "\n",
      "(5) 작업발판에 설치하는 발끝막이판은 높이 10㎝ 이상이 되도록 해야 한다.\n",
      "\n",
      "(6) 작업발판 1개당 최소 3개소 이상 장선에 지지하여 전위하거나 탈락하지 않도록 철선 등으로 고정하여야 한다.\n",
      "\n",
      "(7) 발판 끝부분의 돌출길이는 10㎝ 이상 20㎝ 이하가 되도록 한다.\n",
      "\n",
      "(8) 작업발판은 재료가 놓여있더라도 통행을 위하여 최소 20㎝ 이상의 공간이 확보되어야 한다.\n",
      "\n",
      "(9) 작업발판은 사용할 때 하중과 장선의 지지간격에 따라서 응력의 상태가 달라 지므로 〈표1〉에 의한 허용응력을 초과하지 않도록 한다.\n"
     ]
    },
    {
     "name": "stderr",
     "output_type": "stream",
     "text": [
      "INFO:httpx:HTTP Request: POST http://localhost:8000/v1/chat/completions \"HTTP/1.1 200 OK\"\n",
      " 33%|███▎      | 6/18 [01:06<02:11, 10.93s/it]"
     ]
    },
    {
     "name": "stdout",
     "output_type": "stream",
     "text": [
      "--------------------------------\n",
      "Processed: 4.2 강재 작업발판\n",
      "\n",
      "강재 작업발판은 작업대, 통로용 작업발판 및 작업계단으로 구분되며 작업자의 통로 및 작업공간으로 사용되는 발판이다.\n",
      "\n",
      "4.2.1 작업대\n",
      "\n",
      "작업대는 〈그림2〉와 같이 바닥재, 수평재, 보재 및 걸침고리로 구성되며 다음 각 호의 규정에 적합하여야 한다.\n",
      "\n",
      "(1) 작업대는 바닥재를 수평재와 보재에 용접하거나, 절판가공 등에 의하여 일체화된 바닥재 및 수평재에 보재를 용접한 것이어야 한다.\n",
      "\n",
      "(2) 걸침고리 중앙 간의 길이는 185cm 이하 이어야 한다.\n",
      "\n",
      "(3) 바닥재의 폭은 24cm 이상 이어야 한다.\n",
      "\n",
      "(4) 2개 이상의 바닥재를 평행으로 설치할 경우에 바닥재간의 간격은 3cm 이하 이어야 한다.\n",
      "\n",
      "(5) 걸침고리는 수평재 또는 보재에 용접 또는 렌켓 등으로 접합하여야 한다.\n",
      "\n",
      "(6) 바닥재의 바닥판(디딤판)에는 미끄럼방지조치를 하여야 한다.\n",
      "\n",
      "(7) 작업대는 재료가 놓여 있더라도 통행을 위하여 최소 20cm 이상의 공간을 확보하여야 한다.\n"
     ]
    },
    {
     "name": "stderr",
     "output_type": "stream",
     "text": [
      "INFO:httpx:HTTP Request: POST http://localhost:8000/v1/chat/completions \"HTTP/1.1 200 OK\"\n",
      " 39%|███▉      | 7/18 [01:13<01:47,  9.73s/it]"
     ]
    },
    {
     "name": "stdout",
     "output_type": "stream",
     "text": [
      "--------------------------------\n",
      "Processed: (8) 작업대에 설치하는 발끝막이판은 높이 10㎝ 이상이 되도록 한다.\n",
      "\n",
      "(9) 작업대 또는 통로용 작업발판을 경사지게 설치할 경우에는 30° 이내로 설치하여야 한다.\n",
      "\n",
      "4.2.2 통로용 작업발판\n",
      "\n",
      "통로용 작업발판은 〈그림3〉과 같이 바닥재, 수평재 및 보재로 구성되며 다음 각 호의 규정에 적합하여야 한다.\n",
      "\n",
      "(1) 강재 통로용 작업발판은 바닥재와 수평재 및 보재를 용접 또는 절곡 가공 등 기계적 접합에 의한 일체식 구조이어야 한다.\n",
      "\n",
      "(2) 알루미늄 합금재 통로용 작업발판은 바닥재와 수평재 및 보재를 압출 성형이나 용접 또는 기계적 접합에 의한 일체식 구조이어야 한다.\n",
      "\n",
      "(3) 통로용 작업발판의 너비는 20㎝ 이상이어야 한다.\n"
     ]
    },
    {
     "name": "stderr",
     "output_type": "stream",
     "text": [
      "INFO:httpx:HTTP Request: POST http://localhost:8000/v1/chat/completions \"HTTP/1.1 200 OK\"\n",
      " 44%|████▍     | 8/18 [01:23<01:37,  9.75s/it]"
     ]
    },
    {
     "name": "stdout",
     "output_type": "stream",
     "text": [
      "--------------------------------\n",
      "Processed: (4) 바닥재가 2개 이상으로 구성된 것은 바닥재 사이의 틈 간격이 3cm 이하여야 한다.\n",
      "\n",
      "(5) 바닥재의 바닥판에는 미끄러짐 방지 조치를 하여야 한다.\n",
      "\n",
      "(6) 통로용 작업발판은 설치조건에 따라 다음과 같이 1종과 2종으로 구분하며, 제조자는 제품에 1종 또는 2종임을 확인할 수 있는 추가 표시를 하여야 한다.\n",
      "\n",
      "   (가) 지점거리를 180±5cm로 설치하는 제품을 1종이라 한다.\n",
      "   (나) 지점거리를 1종과 다르게 설치하는 제품을 2종이라 한다.\n",
      "\n",
      "4.2.3 작업 계단\n",
      "\n",
      "작업 계단은 〈그림4〉와 지지대, 계단발판 및 길림고리로 구성되며 다음 각 호의 규정에 적합하여야 한다.\n",
      "\n",
      "   〈그림 4〉작업 계단\n",
      "\n",
      "(1) 지지대, 계단발판 또는 길림고리는 용접 또는 절곡 가공 등 기계적 접합에 의한 일체식 구조이어야 한다.\n",
      "\n",
      "(2) 단 높이는 24cm 이하여야 하고, 일정한 간격으로 부착 고정된 구조이어야 한다.\n",
      "\n",
      "(3) 계단의 단 너비는 35cm 이상이어야 하며, 일정한 간격으로 부착 고정된 구조이어야 한다.\n"
     ]
    },
    {
     "name": "stderr",
     "output_type": "stream",
     "text": [
      "INFO:httpx:HTTP Request: POST http://localhost:8000/v1/chat/completions \"HTTP/1.1 200 OK\"\n",
      " 50%|█████     | 9/18 [01:32<01:27,  9.67s/it]"
     ]
    },
    {
     "name": "stdout",
     "output_type": "stream",
     "text": [
      "--------------------------------\n",
      "Processed: (4) 계단의 지지대는 비계 등에 견고하게 고정되어야 한다.\n",
      "\n",
      "(5) 계단발판은 항상 건조상태를 유지하고 미끄러짐 방지효과가 있는 것이어야 하며, 물건을 적치하거나 방치하지 않아야 한다.\n",
      "\n",
      "(6) 계단의 끝단과 만나는 통로나 작업발판의 측면이 개방될 경우에는 안전난간을 설치하여야 한다.\n",
      "\n",
      "4.3 기타 작업발판\n",
      "\n",
      "4.3.1 달(달대)비계용 발판\n",
      "\n",
      "(1) 작업발판은 폭을 40㎝ 이상으로 하고 틈새가 없도록 한다.\n",
      "\n",
      "(2) 작업발판의 재료는 뒤집히거나 떨어지지 않도록 비계의 보 등에 연결하거나 고정하여야 하고, 난간의 설치가 가능한 구조의 경우에는 안전난간을 설치한다.\n",
      "\n",
      "(3) 달기와이어로프ㆍ달기체인ㆍ달기강선 또는 달기섬유로프는 한 쪽 끝을 비계의 보 등에 연결하거나 다른 쪽 끝을 내민보ㆍ앵커볼트 또는 건축물의 보 등에 풀리지 않도록 설치한다.\n",
      "\n",
      "4.3.2 말비계형 발판\n",
      "\n",
      "(1) 작업발판은 충분히 넓이를 확보하고 3점 이상 고정하여야 한다.\n"
     ]
    },
    {
     "name": "stderr",
     "output_type": "stream",
     "text": [
      "INFO:httpx:HTTP Request: POST http://localhost:8000/v1/chat/completions \"HTTP/1.1 200 OK\"\n",
      " 56%|█████▌    | 10/18 [01:39<01:10,  8.87s/it]"
     ]
    },
    {
     "name": "stdout",
     "output_type": "stream",
     "text": [
      "--------------------------------\n",
      "Processed: (2) 작업발판 설치 높이는 수직고 1.2m 미만 이어야 한다.\n",
      "\n",
      "(3) 작업발판의 돌출길이는 5~10cm 이내로 하며 각각의 각주 사다리는 벌어짐을 방지하기 위한 활동방지조치를 하여야 한다.\n",
      "\n",
      "(4) 지주 부재와 수평면과의 기울기를 75° 이하로 하고, 지주 부재와 지주 부재 사이를 고정시키는 보조 부재를 설치하여야 한다.\n",
      "\n",
      "(5) 말비계에 사용되는 작업발판은 KS F 8012 또는 방호장치 의무안전인증기준에 적합하여야 한다.\n",
      "\n",
      "5. 작업발판의 재료\n",
      "\n",
      "5.1 목재 작업발판\n",
      "\n",
      "(1) 작업발판으로 사용하는 체재목은 나뭇결이 곧은 장섬유질의 것으로써 경사가 〈그림 7〉과 같이 1 : 15 이하이어야 한다.\n"
     ]
    },
    {
     "name": "stderr",
     "output_type": "stream",
     "text": [
      "INFO:httpx:HTTP Request: POST http://localhost:8000/v1/chat/completions \"HTTP/1.1 200 OK\"\n",
      " 61%|██████    | 11/18 [01:50<01:04,  9.26s/it]"
     ]
    },
    {
     "name": "stdout",
     "output_type": "stream",
     "text": [
      "--------------------------------\n",
      "Processed: (2) 작업발판으로 사용하는 목재는 옥외에서 충분히 건조시킨 함수율이 15~20% 정도의 것을 사용해야 한다.\n",
      "\n",
      "(3) 작업발판으로 사용하는 목재는 옹이, 갈라짐, 부식 및 변형 등이 없는 것으로 강도상의 결점이 적어야 하며 허용한도는 다음 조건이 충족되어야 한다.\n",
      "\n",
      "가) 결점이 판면의 중앙에 있을 경우에는 개개의 크기가 발판 폭의 1/5을 초과하지 않아야 한다.\n",
      "\n",
      "나) 결점이 발판의 갖면에 있을 경우에는 발판 두께의 1/2을 초과하지 않아야 한다.\n",
      "\n",
      "다) 결점이 발판의 폭과 동일한 길이 내에 있는 결점치수의 총합이 발판 폭의 1/4을 초과하지 않아야 한다.\n",
      "\n",
      "라) 발판단부의 갈라진 길이는 〈그림 8〉의 (D)와 같이 발판 폭의 1/2을 초과하여서는 아니 되며 갈라진 부분이 1/2이하인 경우에는 철선 또는 띠철로 감아 사용해야 한다.\n",
      "\n",
      "〈그림 8〉 목재 작업발판 재료의 사용가능 한도\n",
      "\n",
      "5.2 강재 작업발판\n",
      "\n",
      "(1) 작업발판의 각부는 현저한 손상, 변형 또는 부식이 없어야 한다.\n"
     ]
    },
    {
     "name": "stderr",
     "output_type": "stream",
     "text": [
      "INFO:httpx:HTTP Request: POST http://localhost:8000/v1/chat/completions \"HTTP/1.1 200 OK\"\n",
      " 67%|██████▋   | 12/18 [01:59<00:56,  9.45s/it]"
     ]
    },
    {
     "name": "stdout",
     "output_type": "stream",
     "text": [
      "--------------------------------\n",
      "Processed: 6. 작업발판 설치 및 해체 시 주의사항\n",
      "\n",
      "(1) 작업발판의 지지물은 하중에 의하여 파괴될 우려가 없는 것을 사용하여야 한다.\n",
      "\n",
      "(2) 근로자가 작업발판 고정용 못, 철선 및 볼트 등에 걸려 넘어지지 않도록 조치하여야 한다.\n",
      "\n",
      "(3) 작업발판을 작업에 따라 이동시킬 때에는 위험방지에 필요한 조치를 하여야 한다.\n",
      "\n",
      "(4) 작업발판을 해체 시 그 주변에는 관계자 외 출입을 금지시킨다.\n",
      "\n",
      "(5) 추락의 위험이 있는 장소에는 안전난간을 설치하여야 한다. 다만 작업이 건설장 안전난간을 설치하는 것이 곤란하거나 임시로 손잡이를 해체하는 경우에 방망을 치거나 근로자에게 안전대를 사용하게 하는 등 추락에 의한 위험방지조치를 할 때에는 그러하지 아니하다.\n",
      "\n",
      "(6) 안전난간에 관련된 제반 규정은 안전보건규칙에 준한다.\n",
      "\n",
      "7. 작업발판 사용 시 준수사항\n",
      "\n",
      "(1) 작업발판 사용 시 『작업발판 점검계획』을 수립하여 당해 작업 시작 전에 작업발판에 대한 점검을 실시한 후 〈부록 4〉과 같이 “작업발판 점검 결과표”를 당해 작업장에 게시하고 작업발판 주변에 지적된 내용을 표시하여 작업\n"
     ]
    },
    {
     "name": "stderr",
     "output_type": "stream",
     "text": [
      "INFO:httpx:HTTP Request: POST http://localhost:8000/v1/chat/completions \"HTTP/1.1 200 OK\"\n",
      " 72%|███████▏  | 13/18 [02:09<00:47,  9.40s/it]"
     ]
    },
    {
     "name": "stdout",
     "output_type": "stream",
     "text": [
      "--------------------------------\n",
      "Processed: 발판을 사용하는 근로자가 점검내용을 확인 할 수 있도록 하여야 한다.\n",
      "\n",
      "가) 점검일시\n",
      "나) 점검범위\n",
      "다) 각 항목별 점검내용\n",
      "라) 점검자 및 확인자 지정\n",
      "마) 이상 여부에 대한 조치 방법\n",
      "바) 기타 필요한 사항\n",
      "\n",
      "(2) “(1)”항에 따른 점검결과 설치된 작업발판이 안전기준에 부합되지 않을 때에는 근로자가 그 작업발판을 사용하기 전까지 개선하여야 한다.\n",
      "\n",
      "(3) 재사용 강재 작업발판 사용 시에는 작업장에 작업발판을 반입하는 시점에 KOSHA GUIDE C-25-2011(재사용 가설기자재 성능기준에 관한 지침)에 의거 작업발판의 재료 성능에 대한 점검을 실시하여 이상여부를 확인하여야 한다.\n",
      "\n",
      "(4) 작업발판의 최대적재하중 및 각 재료별 최대적재수량을 비계의 구조에 따라 정한 후 그 내용을 게시하여 근로자가 확인 할 수 있도록 하고 이를 초과하여 적재하여서는 아니 된다.\n",
      "\n",
      "(5) “작업발판 사용 시 준수해야 할 주요사항”을 〈부록 5〉와 같이 정한 후 그 내용을 게시하여 근로자로 하여금 준수토록 하여야 한다.\n"
     ]
    },
    {
     "name": "stderr",
     "output_type": "stream",
     "text": [
      "INFO:httpx:HTTP Request: POST http://localhost:8000/v1/chat/completions \"HTTP/1.1 200 OK\"\n",
      " 78%|███████▊  | 14/18 [02:12<00:30,  7.68s/it]"
     ]
    },
    {
     "name": "stdout",
     "output_type": "stream",
     "text": [
      "--------------------------------\n",
      "Processed: 강관틀비계용 작업발판 설치(예)\n",
      "\n",
      "주) ① 주틀\n",
      "② 교차 가새\n",
      "③ 조절형 받침철물\n",
      "④ 띠장틀\n",
      "⑤ 작업발판\n",
      "⑥ 통로용 발판\n",
      "⑦ 강관 틀비계용 주틀의 연결핀\n",
      "⑧ 강관 틀비계용 주틀의 암록\n"
     ]
    },
    {
     "name": "stderr",
     "output_type": "stream",
     "text": [
      "INFO:httpx:HTTP Request: POST http://localhost:8000/v1/chat/completions \"HTTP/1.1 200 OK\"\n",
      " 83%|████████▎ | 15/18 [02:14<00:17,  5.91s/it]"
     ]
    },
    {
     "name": "stdout",
     "output_type": "stream",
     "text": [
      "--------------------------------\n",
      "Processed: 쌍줄비계용 작업발판 설치(예)\n"
     ]
    },
    {
     "name": "stderr",
     "output_type": "stream",
     "text": [
      "INFO:httpx:HTTP Request: POST http://localhost:8000/v1/chat/completions \"HTTP/1.1 200 OK\"\n",
      " 89%|████████▉ | 16/18 [02:16<00:09,  4.73s/it]"
     ]
    },
    {
     "name": "stdout",
     "output_type": "stream",
     "text": [
      "--------------------------------\n",
      "Processed: 외줄비계(선반지주식)용 작업발판 설치(예)\n"
     ]
    },
    {
     "name": "stderr",
     "output_type": "stream",
     "text": [
      "INFO:httpx:HTTP Request: POST http://localhost:8000/v1/chat/completions \"HTTP/1.1 200 OK\"\n",
      " 94%|█████████▍| 17/18 [02:30<00:07,  7.55s/it]"
     ]
    },
    {
     "name": "stdout",
     "output_type": "stream",
     "text": [
      "--------------------------------\n",
      "Processed: ## 작업발판 점검결과표\n",
      "\n",
      "| 점검일 : 00. 00. 00. | 점검자 : (서명) | 확인자 : (서명) |\n",
      "|---------------------|----------------|----------------|\n",
      "\n",
      "| 번호 | 점검 내용(준수사항) | 점검범위(장소) | 이상 유무 | 조치 방법 |\n",
      "|------|------------------|----------------|----------|----------|\n",
      "| 1    | 작업발판 폭 40㎝ 이상 확보 |                |          |          |\n",
      "| 2    | 비계 등 구조물에 2점 이상 고정 |                |          |          |\n",
      "| 3    | 이동을 위한 가설통로 폭 20㎝ 이상 확보 |                |          |          |\n",
      "| 4    | 작업발판 끝에 안전난간 설치  \n",
      "- 상부난간대 높이(바닥에서 90~120㎝)  \n",
      "- 중간난간대 높이(상부난간대와 바닥의 중간) |                |          |          |\n",
      "| 5    | 발끝막이 판 설치 (10㎝이상) |                |          |          |\n",
      "| 6    | 외벽면과 작업발판과 떨어진 거리 30㎝ 이내 |                |          |          |\n",
      "| 7    | 작업발판 바닥재간 틈 3㎝ 이내 |                |          |          |\n",
      "| 8    | 작업발판 바닥 개구부 발생 |                |          |          |\n",
      "| 9    | 작업발판 바닥에 결립 턱 발생 |                |          |          |\n",
      "| 10   | 작업발판 바닥에 물, 기름 등 미끄러짐 위험 |                |          |          |\n",
      "| 11   | 작업발판 바닥에 재료·공구 방치 |                |          |          |\n",
      "| 12   | 강재작업발판(작업대) 안전인증 여부 확인 |                |          |          |\n",
      "| 13   | 강재작업발판(작업대) 사용 시 \"재사용 가설기자재 성능 기준에 관한 지침\"에 의한 점검 |                |          |          |\n",
      "| 14   | 기타 |                |          |          |\n"
     ]
    },
    {
     "name": "stderr",
     "output_type": "stream",
     "text": [
      "INFO:httpx:HTTP Request: POST http://localhost:8000/v1/chat/completions \"HTTP/1.1 200 OK\"\n",
      "100%|██████████| 18/18 [02:38<00:00,  8.79s/it]\n"
     ]
    },
    {
     "name": "stdout",
     "output_type": "stream",
     "text": [
      "--------------------------------\n",
      "Processed: 작업발판 안전표지(예)\n",
      "\n",
      "작업발판 사용 시 준수해야 할 주요사항\n",
      "\n",
      "1. 작업 전 “작업발판 점검표에 의한 안전점검” 실시 여부 확인\n",
      "2. 작업발판 위에서 안전대·안전모 착용 철저\n",
      "3. 최대적재중량·재료별 최대적재수량 준수\n",
      "   - 최대적재중량 : ㎏(작업자 몸무게 감안)\n",
      "   - 재료별 최대적재수량\n",
      "     (예) · 시멘트(40㎏) : 포, · 유로폼(규격별) : 매,\n",
      "     · 석재(규격별) : 장, · 벽돌 : 매 등\n",
      "4. 작업발판 바닥은 걸려 넘어지거나 미끄러지지 않도록 항상 청결하게 유지·관리\n",
      "   - 물, 기름, 흙, 모래, 톱밥 등 제거\n",
      "   - 재료, 공구 등 방치 금지\n",
      "5. 기타 주의사항\n",
      "   -\n",
      "---End---\n",
      "Processing 단순 슬래브 콘크리트 타설 안전보건작업 지침\n"
     ]
    },
    {
     "name": "stderr",
     "output_type": "stream",
     "text": [
      "  0%|          | 0/11 [00:00<?, ?it/s]INFO:httpx:HTTP Request: POST http://localhost:8000/v1/chat/completions \"HTTP/1.1 200 OK\"\n",
      "  9%|▉         | 1/11 [00:02<00:29,  2.95s/it]"
     ]
    },
    {
     "name": "stdout",
     "output_type": "stream",
     "text": [
      "--------------------------------\n",
      "Processed: 단순 슬래브 콘크리트 타설 안전보건작업 지침\n",
      "\n",
      "한국산업안전보건공단\n",
      "\n",
      "2011. 12.\n"
     ]
    },
    {
     "name": "stderr",
     "output_type": "stream",
     "text": [
      "INFO:httpx:HTTP Request: POST http://localhost:8000/v1/chat/completions \"HTTP/1.1 200 OK\"\n",
      " 18%|█▊        | 2/11 [00:12<01:00,  6.76s/it]"
     ]
    },
    {
     "name": "stdout",
     "output_type": "stream",
     "text": [
      "--------------------------------\n",
      "Processed: 안전보건기술지침의 개요\n",
      "\n",
      "○ 작성자: 한국안전학회 박종근\n",
      "\n",
      "○ 제·개정 경과\n",
      "- 2011년 11월 건설안전분야 제정위원회 심의(제정)\n",
      "\n",
      "○ 관련규격 및 자료\n",
      "- BS : 8110-1-1997 Structural use of concrete Code of practice for design and construction\n",
      "\n",
      "○ 관련법규・규칙・고시 등\n",
      "- 콘크리트공사의 표준안전작업지침(KOSHA CODE C-6-2004)\n",
      "- 콘크리트 표준시방서(국토해양부, 2009)\n",
      "- 가설공사 표준시방서(건설교통부, 2006)\n",
      "- 거푸집 동바리 구조검토 및 설치 안전작업에 관한 기술지침 (KOSHA CODE C-20-2009)\n",
      "- 산업안전보건기준에 관한 규칙 제334조, 335조\n",
      "\n",
      "○ 기술지침의 적용 및 문의\n",
      "\n",
      "이 기술지침에 대한 의견 또는 문의는 한국산업안전보건공단 홈페이지 안전보건기술지침 소관 분야별 문의처 안내를 참고하시기 바랍니다.\n",
      "\n",
      "공표일자: 2011년 12월 26일\n",
      "제 정 자: 한국산업안전보건공단 이사장\n"
     ]
    },
    {
     "name": "stderr",
     "output_type": "stream",
     "text": [
      "INFO:httpx:HTTP Request: POST http://localhost:8000/v1/chat/completions \"HTTP/1.1 200 OK\"\n",
      " 27%|██▋       | 3/11 [00:24<01:13,  9.18s/it]"
     ]
    },
    {
     "name": "stdout",
     "output_type": "stream",
     "text": [
      "--------------------------------\n",
      "Processed: 단순 슬래브 콘크리트 타설 안전보건작업 지침\n",
      "\n",
      "1. 목 적\n",
      "\n",
      "이 지침은 현장에서 시공하는 단순 슬래브 콘크리트 타설 공사의 안전작업방법, 지침 등을 규정함으로써 추락, 붕괴, 감전사고 등의 재해를 예방할 수 있는 안전보건 작업지침을 정함을 목적으로 한다.\n",
      "\n",
      "2. 적용범위\n",
      "\n",
      "이 지침은 현장에서 시공하는 단순 슬래브 콘크리트 타설의 공사계획 수립, 타설, 양생 작업을 위해 일반적으로 행해지는 모든 작업에 적용한다.\n",
      "\n",
      "3. 용어의 정의\n",
      "\n",
      "(1) 이 지침에서 사용되는 용어의 뜻은 다음과 같다.\n",
      "\n",
      "(가) “단순슬래브”라 함은 건설공사에서 구조물의 바닥이나 천정을 구성하고 있는 판 형상의 구조 부재로 두께가 비교적 얇고, 두께와 형상의 변화가 없는 형태의 슬래브를 말한다.\n",
      "\n",
      "(나) “콘크리트 타설”이라 함은 철근콘크리트조의 철근조립 및 거푸집 설치완료 상태에서 적절한 장비를 이용하여 굽지 않은 콘크리트를 타설함을 말한다.\n",
      "\n",
      "(다) “콘크리트 양생”이라 함은 콘크리트 자체물성 및 설계 소요강도가 발현 될 수 있는 기간까지의 보양 및 보온조치를 말한다.\n",
      "\n",
      "(라) “시공이음”이라 함은 콘크리트가 굽은 뒤 콘크리트를 이어 칠 경우 구속에 의한 인장력으로 균열이 발생함을 방지하기 위하여 설치되는 일종의 이어치기 공법을 말한다.\n"
     ]
    },
    {
     "name": "stderr",
     "output_type": "stream",
     "text": [
      "INFO:httpx:HTTP Request: POST http://localhost:8000/v1/chat/completions \"HTTP/1.1 200 OK\"\n",
      " 36%|███▋      | 4/11 [00:31<00:57,  8.28s/it]"
     ]
    },
    {
     "name": "stdout",
     "output_type": "stream",
     "text": [
      "--------------------------------\n",
      "Processed: (사) \"플렉시블 호스(Flexible hose)\"이라 함은 고무호스의 총칭이며 특히 펌프카의 호스중 굽히기 쉽게 만든 주름 호스를 말한다.\n",
      "\n",
      "(2) 기타 이 지침에서 사용하는 용어의 정의는 특별한 규정이 있는 경우를 제외하고는 산업안전보건법, 동법 시행령, 동법 시행규칙, 산업안전보건기준에 관한 규칙에서 정하는 바에 의한다.\n",
      "\n",
      "4. 단순 슬래브 콘크리트 타설 작업 시 안전작업 절차\n",
      "\n",
      "단순 슬래브 콘크리트 타설 작업시 <그림 1>과 같은 순서에 준하여 안전작업절차를 준수하여야 한다.\n",
      "\n",
      "![도면 및 시방서 검토](<그림 1> 단순 슬래브 콘크리트 타설 작업 절차)\n"
     ]
    },
    {
     "name": "stderr",
     "output_type": "stream",
     "text": [
      "INFO:httpx:HTTP Request: POST http://localhost:8000/v1/chat/completions \"HTTP/1.1 200 OK\"\n",
      " 45%|████▌     | 5/11 [00:42<00:56,  9.41s/it]"
     ]
    },
    {
     "name": "stdout",
     "output_type": "stream",
     "text": [
      "--------------------------------\n",
      "Processed: 5. 공사계획 수립 시 검토사항\n",
      "\n",
      "콘크리트 타설 작업 전 공정관리, 안전관리 등을 위해서 설계도서 및 시방서, 주변 여건 등을 검토하여 안전작업계획서를 작성하여야 한다.\n",
      "\n",
      "(1) 설계도서의 검토\n",
      "\n",
      "(가) 콘크리트 강도 및 배합 사항을 검토하여야 한다.\n",
      "\n",
      "(나) 건축물의 연면적 및 층고, 입면도를 충분히 검토하여 타설 공법의 선정을 검토하여야 한다.\n",
      "\n",
      "(다) 슬래브 시공이음 부분을 확인하여야 한다.\n",
      "\n",
      "(라) 1회 타설량을 결정하여 무리한 작업을 금지하여야 한다.\n",
      "\n",
      "(마) 추락, 붕괴, 감전사고 등의 위험요인을 파악하여 그에 적합한 안전시설 설치계획을 수립하여야 한다.\n",
      "\n",
      "(2) 콘크리트의 타설 방법 검토\n",
      "\n",
      "(가) 콘크리트의 운반 방법을 검토하여야 한다.\n",
      "\n",
      "(나) 콘크리트 타설 기계 및 설비를 검토하여야 한다.\n",
      "\n",
      "(다) 수직, 수평 분리타설 등 타설 공법을 검토하여야 한다.\n",
      "\n",
      "(라) 타설 높이, 슈트의 이동간격 등 타설 방법을 검토하여야 한다.\n",
      "\n",
      "(마) 다짐 방법 및 인원, 장비의 배치계획을 검토하여야 한다.\n",
      "\n",
      "(바) 콘크리트 펌프카의 전도방지조치, 펌프카 또는 압송관의 안전조치계획을 검토하여야 한다.\n"
     ]
    },
    {
     "name": "stderr",
     "output_type": "stream",
     "text": [
      "INFO:httpx:HTTP Request: POST http://localhost:8000/v1/chat/completions \"HTTP/1.1 200 OK\"\n",
      " 55%|█████▍    | 6/11 [00:53<00:49,  9.97s/it]"
     ]
    },
    {
     "name": "stdout",
     "output_type": "stream",
     "text": [
      "--------------------------------\n",
      "Processed: (3) 콘크리트의 타설 순서 검토\n",
      "\n",
      "(가) 층고 및 평면을 고려하여 일체 타설 및 분리 타설을 검토하여야 한다.\n",
      "(나) 시공이음의 위치를 검토하여야 한다.\n",
      "\n",
      "① 이음의 위치는 구조적으로 전단력이 가능한 작게 작용하는 위치, 시공적으로 콘크리트 타설량, 거푸집·동바리 강도, 철근배근 상황을 고려하여 끊어치기 가 용이한 곳이어야 한다.\n",
      "\n",
      "② 슬래브의 이음은 스팬(Span)의 중앙부에서 수직으로 처리하여야 한다.\n",
      "\n",
      "(다) 각 개소의 타설량을 검토하여야 한다.\n",
      "(라) 타설 소요시간을 검토하여야 한다.\n",
      "(마) 타설 순서 및 끊어 치기 부위 등을 검토하여야 한다.\n",
      "(바) 철근 배근 상부에 통로용 작업발판 설치에 대하여 검토하여야 한다.\n",
      "(사) 기타 콘크리트 및 타설에 관한 사항은 관련 시방서에 따른다.\n",
      "\n",
      "6. 콘크리트 타설 시 준수사항\n",
      "\n",
      "콘크리트 타설 시 준비 사항, 콘크리트 타설 일반사항, 타설 장비 및 기계기구 안전 준수 사항을 고려하여 작업하여야 한다.\n",
      "\n",
      "(1) 콘크리트 타설시 준비 사항\n",
      "\n",
      "(가) 거푸집 및 동바리 조립도 상태의 이상 유무를 점검하여야 한다.\n",
      "(나) 타설 방법 및 타설 구획을 결정하여야 한다.\n"
     ]
    },
    {
     "name": "stderr",
     "output_type": "stream",
     "text": [
      "INFO:httpx:HTTP Request: POST http://localhost:8000/v1/chat/completions \"HTTP/1.1 200 OK\"\n",
      " 64%|██████▎   | 7/11 [01:07<00:44, 11.09s/it]"
     ]
    },
    {
     "name": "stdout",
     "output_type": "stream",
     "text": [
      "--------------------------------\n",
      "Processed: (다) 타설 장비 및 운반 장비 등의 투입계획을 사전 점검하여야 한다.\n",
      "\n",
      "(라) 콘크리트 펌프카가 위치 할 곳은 작업이 가능할지 확인하고, 1층 바닥 슬래브에 탑재시에는 하부에 구조검토를 통한 보강을 실시하여야 한다.\n",
      "\n",
      "(마) 콘크리트 타워를 설치할 경우에 근로자에게 작업 기준을 지시하고, 작업 책임자를 지정하여 설치 작업 중에는 상주하여 현장에서 지휘하도록 하여야 한다.\n",
      "\n",
      "(바) 충분한 작업인원을 확보하여 배치하여야 한다.\n",
      "\n",
      "(사) 근로자에게 안전한 타설 방법 등을 주지시켜야 한다.\n",
      "\n",
      "(아) 작업구역 내 접근 방지 옷을 설치하여 관계근로자의 출입을 제한하여야 한다.\n",
      "\n",
      "(자) 콘크리트 펌프카의 붐 연결부의 탈락 위험성에 대한 사전점검을 실시하여야 한다.\n",
      "\n",
      "(차) 안전가시설(작업발판, 승강설비, 개구부 방호조치, 안전단계, 추락방지망, 안전대 부착설비)을 점검하여야 한다.\n",
      "\n",
      "(카) 거푸집 및 동바리의 전반적인 내용은 KOSHA Code C-6-2004 (콘크리트 표준안전작업 지침), KOSHA Code C-20-2009 (거푸집동바리 구조검토 및 설치 안전작업에 관한 기술지침)의 규정에 따른다.\n",
      "\n",
      "(2) 콘크리트 타설 일반사항\n",
      "\n",
      "(가) 콘크리트 타설은 정해진 타실 순서에 의거 실시하여야 한다.\n",
      "\n",
      "(나) 콘크리트를 타설하는 중에 거푸집, 동바리 등의 이상 유무를 확인하여야 하고, 감시자를 배치하여 이상이 발생한 때에는 관리감독자에게 보고 및 근로자 대피 등 안전조치를 하여야 한다.\n"
     ]
    },
    {
     "name": "stderr",
     "output_type": "stream",
     "text": [
      "INFO:httpx:HTTP Request: POST http://localhost:8000/v1/chat/completions \"HTTP/1.1 200 OK\"\n",
      " 73%|███████▎  | 8/11 [01:25<00:39, 13.31s/it]"
     ]
    },
    {
     "name": "stdout",
     "output_type": "stream",
     "text": [
      "--------------------------------\n",
      "Processed: (다) 콘크리트 타설시 스팬(Span) 중앙부에 콘크리트, 장비, 작업자 등 편심 하중 작용에 의한 붕괴 위험이 있으므로 집중 타설을 금지하여야 한다.\n",
      "\n",
      "(라) 다짐봉에 의한 수평이동 거리가 길면 재료분리가 발생하기 때문에 콘크리트 슈트(Chute)의 이동 간격은 3미터 이하로 하여야 한다.\n",
      "\n",
      "(마) 타설 높이가 높으면 재료 분리가 발생하므로 콘크리트 슈트(Chute)하 면으로부터 최대 1.5미터이하로 제한하여야 한다.\n",
      "\n",
      "(바) 넓은 슬래브 타설시 펌프카로부터 먼 곳에서 가까운 쪽으로 타설하여야 한다.\n",
      "\n",
      "(사) 타설 속도는 콘크리트의 수평이동으로 거푸짐 구석이나 철근 주위에 충분한 다짐을 시공할 수 있을 정도로 하여야 한다.\n",
      "\n",
      "(아) 콘크리트를 한 곳에만 치우쳐서 타설할 경우 거푸짐의 변형 및 탈락에 의한 붕괴사고가 발생되므로 타설 순서를 준수하여야 한다.\n",
      "\n",
      "(자) 콘크리트 강도 차이에 따른 타설은 다음과 같은 방법으로 하여야 한다.\n",
      "\n",
      "① 수직부재와 수평부재의 강도 차이가 작을 경우에는 모두 수평재 강도로 시공한다.\n",
      "\n",
      "\\[\n",
      "\\frac{\\text{수직부재(기둥,내력벽)의 콘크리트강도}}{\\text{수평부재(보,슬래브)의 콘크리트강도}} \\leq 1.4 \\quad \\ldots \\quad \\text{<수식 1>}\n",
      "\\]\n",
      "\n",
      "② 수직부재와 수평부재의 강도 차이가 클 경우, 수직·수평을 분리 타설을 하며 강도가 높은 콘크리트를 먼저 타설한 후에 소성 성질을 보이는 동안에 낮은 강도의 콘크리트를 타설하여 두 콘크리트가 일체가 되도록 충분히 진동다짐한다.\n",
      "\n",
      "\\[\n",
      "\\frac{\\text{수직부재(기둥,내력벽)의 콘크리트강도}}{\\text{수평부재(보,슬래브)의 콘크리트강도}} > 1.4 \\quad \\ldots \\quad \\text{<수식 2>}\n",
      "\\]\n",
      "\n",
      "(차) 슬래브 단부 타설시 추락의 위험이 있으므로 안전난간, 안전대 부착설 비등 추락방지 조치를 하여야 한다.\n"
     ]
    },
    {
     "name": "stderr",
     "output_type": "stream",
     "text": [
      "INFO:httpx:HTTP Request: POST http://localhost:8000/v1/chat/completions \"HTTP/1.1 200 OK\"\n",
      " 82%|████████▏ | 9/11 [01:38<00:26, 13.39s/it]"
     ]
    },
    {
     "name": "stdout",
     "output_type": "stream",
     "text": [
      "--------------------------------\n",
      "Processed: (카) 바닥 개구부 주위 타설시 개구부 덮개, 안전난간, 추락방망, 안전대 부착설비 등 추락방지 조치를 하여야 한다.\n",
      "\n",
      "(타) 야간에 콘크리트 타설시 적합한 조명을 설치하여야 한다.\n",
      "\n",
      "(파) 철근 배근 상부에 근로자 이동시 전도 방지를 위한 통로용 작업발판을 설치하여야 한다.\n",
      "\n",
      "(하) 고소에 있는 개구부 단부 주변에 추락의 위험 있는 경우 안전난간을 설치하고, 설치하기 곤란한 경우에는 근로자에게 안전대를 착용하도록 하는 등 추락위험을 방지하기 위하여 필요한 조치를 하여야 한다.\n",
      "\n",
      "(거) 작업자는 적절한 휴식시간으로 근골격계질환 예방을 위한 적절한 조치를 하여야 한다.\n",
      "\n",
      "(3) 타설 장비 및 기계기구 안전 준수 사항\n",
      "\n",
      "(가) 진동기(Vibrator), 콘크리트 펌프, 압송관 등 타설 기계기구의 안전점검을 실시하여야 한다.\n",
      "\n",
      "(나) 진동기는 대지 저항이 100Ω이하(3종 접지)가 되도록 접지를 하고 분전반에서 인출하여야 하며, 분전반의 외함접지 및 누전차단기 작동 여부를 점검하여야 한다.\n",
      "\n",
      "(다) 진동기의 지나친 진동은 측압이 증가하여 거푸집 붕괴의 원인이 될 수 있으므로 주의하여야 한다.\n",
      "\n",
      "(라) 타설 장비는 시공 장소에 근접하게 설치하되, 평탄하고 바닥이 단단하여 장비 전도의 위험이 없는 곳에 설치하여야 한다.\n",
      "\n",
      "(마) 콘크리트 펌프카 작업 시 붐대의 급격한 이동 및 조작을 금지하여야 한다.\n",
      "\n",
      "(바) 콘크리트 펌프카 작업 시 고압 가공전선에 대한 감전예방 조치를 실시하여야 한다.\n"
     ]
    },
    {
     "name": "stderr",
     "output_type": "stream",
     "text": [
      "INFO:httpx:HTTP Request: POST http://localhost:8000/v1/chat/completions \"HTTP/1.1 200 OK\"\n",
      " 91%|█████████ | 10/11 [01:52<00:13, 13.45s/it]"
     ]
    },
    {
     "name": "stdout",
     "output_type": "stream",
     "text": [
      "--------------------------------\n",
      "Processed: (사) 콘크리트 펌프카의 전도방지를 위해 건고한 지반위에 아웃트리거 (Outrigger) 설치 등 침하 방지 조치를 하여야 한다.\n",
      "\n",
      "(아) 콘크리트 펌프카 설치지반의 상태가 연약지반인 경우에는 연약토사를 제거하고 콘크리트를 타설·양생한 후 설치하거나, 충분한 강도와 접지 면적이 확보되는 철판 등을 지면에 깔아야 한다.\n",
      "\n",
      "(자) 콘크리트 펌프카 작업반경 위험구역 내에 근로자의 출입을 제한하여야 한다.\n",
      "\n",
      "(차) 콘크리트 펌프카의 플렉시블 호스(Flexible hose)는 이상 압력 발생방지를 위해 반경 1미터 이내로 구부리지 않아야 한다.\n",
      "\n",
      "(카) 호스는 슬래브 단부 등 구조물의 끝에서 요동치지 않도록 손잡이를 설치하여 확실히 붙잡고 타설하여야 한다.\n",
      "\n",
      "(타) 호스 손잡이는 호스에서 빠지지 않도록 견고하게 결속하여야 한다.\n",
      "\n",
      "(하) 레미콘 트럭 상부에서 작업 시 작업자는 안전대, 안전모 등 개인보호구를 착용하여야 한다.\n",
      "\n",
      "(거) 가설전선은 침수되지 않도록 바닥에서 띄어 설치하거나 보호 조치를 하고, 방수형 콘센트를 사용하여야 한다.\n",
      "\n",
      "(너) C.P.B(Concrete placing boom)의 설치, 인상 작업을 하는 때에는 위험성 평가 기법에 의해 구체적으로 작업계획서를 작성하고 준수하여야 한다. 또한 작업지휘자를 지정하고 안전작업방법을 근로자에 주지시켜야 한다.\n",
      "\n",
      "7. 콘크리트 양생 시 준수사항\n",
      "\n",
      "콘크리트 양생 작업 시 다음과 같이 콘크리트 양생 일반사항, 콘크리트 양생용 열풍기 등 사용 시 준수 사항을 고려하여 작업하여야 한다.\n"
     ]
    },
    {
     "name": "stderr",
     "output_type": "stream",
     "text": [
      "INFO:httpx:HTTP Request: POST http://localhost:8000/v1/chat/completions \"HTTP/1.1 200 OK\"\n",
      "100%|██████████| 11/11 [02:05<00:00, 11.43s/it]\n"
     ]
    },
    {
     "name": "stdout",
     "output_type": "stream",
     "text": [
      "--------------------------------\n",
      "Processed: (1) 콘크리트 양생 일반사항\n",
      "\n",
      "(가) 거푸집 동바리 존치기간을 준수하여야 한다.\n",
      "\n",
      "(나) 콘크리트 경화 중 충격, 진동, 온·습도 변화, 일조, 풍우 등으로부터 보호하고, 일정기간 동안 상온(5~20℃)하에서 습윤 상태를 유지하여 강도, 내구성, 수밀성 등을 확보하여야 한다.\n",
      "\n",
      "(다) 초기 24시간 동안 습윤 상태를 유지하여 강도 및 내구성을 증가시킬 수 있도록 하여야 한다.\n",
      "\n",
      "(라) 가마니, 부직포 등을 물에 적신 양생포를 덮어야 한다.\n",
      "\n",
      "(마) 양생장소 주변의 개구부에는 덮개를 설치하고 슬래브 단부에는 안전난간을 설치하여야 한다.\n",
      "\n",
      "(2) 콘크리트 양생용 열풍기 등 사용 시 준수 사항\n",
      "\n",
      "(가) 질식 위험이 있는 장소에는 관리감독자 입회하여 안전성을 확인 후 출입하고, 갈탄, 열풍기 등을 사용하는 콘크리트 양생 장소에는 관리감독자의 지휘 감독에 따라 근로자를 출입시켜야 한다.\n",
      "\n",
      "(나) 동절기에 밀폐공간에서 갈탄 등으로 양생 작업 시 적절한 환기실시, 산소농도 측정기, 가스농도 측정기 등을 사용하여 안전성을 확인 후에 출입하여야 한다.\n",
      "\n",
      "(다) 동절기에 밀폐공간에서 갈탄 등으로 양생 작업 시 호흡용 보호구 등 개인 보호구 착용을 철저히 하여야 한다.\n",
      "\n",
      "(라) 열풍기 등 전기 기계기구 접지 및 누전차단기 등의 기능 점검으로 감전 방지 조치를 하여야 한다.\n",
      "\n",
      "(마) 콘크리트 양생 장소에 갈탄 등을 사용 시 화재 예방조치를 하고, 소화기를 비치하여야 한다.\n",
      "---End---\n",
      "Processing 굴착공사 안전작업 지침\n"
     ]
    },
    {
     "name": "stderr",
     "output_type": "stream",
     "text": [
      "  0%|          | 0/22 [00:00<?, ?it/s]INFO:httpx:HTTP Request: POST http://localhost:8000/v1/chat/completions \"HTTP/1.1 200 OK\"\n",
      "  5%|▍         | 1/22 [00:03<01:16,  3.66s/it]"
     ]
    },
    {
     "name": "stdout",
     "output_type": "stream",
     "text": [
      "--------------------------------\n",
      "Processed: 굴착공사 안전작업 지침\n",
      "\n",
      "2023. 8.\n",
      "\n",
      "한국산업안전보건공단\n",
      "\n",
      "안전보건기술지침은 산업안전보건기준에 관한 규칙 등 산업안전보건법령의 요구사항을\n",
      "이행하는데 참고하거나 사업장 안전·보건 수준향상에 필요한 기술적 권고 지침임\n"
     ]
    },
    {
     "name": "stderr",
     "output_type": "stream",
     "text": [
      "INFO:httpx:HTTP Request: POST http://localhost:8000/v1/chat/completions \"HTTP/1.1 200 OK\"\n",
      "  9%|▉         | 2/22 [00:18<03:28, 10.44s/it]"
     ]
    },
    {
     "name": "stdout",
     "output_type": "stream",
     "text": [
      "--------------------------------\n",
      "Processed: 안전보건기술지침의 개요\n",
      "\n",
      "○ 작성자 : 안전보건공단 홍경표\n",
      "○ 개정자 : 한국산업안전보건공단 건설안전실 박주호\n",
      "\n",
      "○ 제·개정경과\n",
      "- 1997년 11월 건설안전분야 기준제정위원회 심의\n",
      "- 1997년 12월 총괄기준제정위원회 심의\n",
      "- 2004년 8월 건설안전분야 제정위원회 심의\n",
      "- 2004년 9월 총괄제정위원회 심의\n",
      "- 2011년 12월 건설안전분야 제정위원회 심의(개정, 법규개정조항 반영)\n",
      "- 2023년 7월 건설안전분야 표준제정위원회 심의(개정)\n",
      "\n",
      "○ 관련규격 및 자료\n",
      "- 실무규정(Code of practice) : 굴착공사(서호주 산업안전위원회)\n",
      "- 지하매설물 안전관리 요령(국토해양부)\n",
      "- 가설공사 표준시방서(KCS 21 00 00, 국토교통부)\n",
      "- 지반 설계기준(KDS 11 00 00, 국토교통부)\n",
      "- 지반공사 표준시방서(KCS 11 00 00, 국토교통부)\n",
      "- 흙막이지보공 안전교육(산업안전교육원)\n",
      "\n",
      "○ 관련 법규·규칙·고시 등\n",
      "- 산업안전보건기준에 관한 규칙 제2편 제4장 제2절(굴착작업 등의 위험방지)\n",
      "- 고용노동부고시 제2023-35호(굴착공사 표준안전 작업지침)\n",
      "\n",
      "○ 안전보건기술지침의 적용 및 문의\n",
      "- 이 기술지침에 대한 의견 또는 문의는 한국산업안전보건공단 홈페이지\n",
      "  (www.kosha.or.kr)의 안전보건기술지침 소관 분야별 문의처 안내를 참고 하시기 바랍니다.\n",
      "- 동 지침 내에서 인용된 관련규격 및 자료, 법규 등에 관한 개정이 있을 경우에는 해당 개정본의 내용을 참고하시기 바랍니다.\n",
      "\n",
      "공표일자 : 2023년 8월 24일\n",
      "제 정 자 : 한국산업안전보건공단 이사장\n"
     ]
    },
    {
     "name": "stderr",
     "output_type": "stream",
     "text": [
      "INFO:httpx:HTTP Request: POST http://localhost:8000/v1/chat/completions \"HTTP/1.1 200 OK\"\n",
      " 14%|█▎        | 3/22 [00:29<03:18, 10.47s/it]"
     ]
    },
    {
     "name": "stdout",
     "output_type": "stream",
     "text": [
      "--------------------------------\n",
      "Processed: 목  차\n",
      "\n",
      "1. 목적 .......................................................................................... 1\n",
      "2. 적용범위 .................................................................................. 1\n",
      "3. 용어의 정의 ................................................................................ 1\n",
      "4. 조사 ............................................................................................ 2\n",
      "  4.1 사전조사 사항 ........................................................................ 2\n",
      "  4.2 시공 중 조사 사항 .................................................................... 2\n",
      "5. 굴착작업 안전기준 ..................................................................... 2\n",
      "6. 굴착작업계획 수립 및 준비 ...................................................... 3\n",
      "  6.1 계획수립 ................................................................................ 3\n",
      "  6.2 준비 ....................................................................................... 3\n",
      "7. 굴착작업 안전 ............................................................................ 5\n",
      "  7.1 공통사항 ................................................................................ 5\n",
      "  7.2 인력굴착 ................................................................................ 6\n",
      "    7.2.1 일반사항 ........................................................................ 6\n",
      "    7.2.2 트렌치 굴착 .................................................................... 7\n",
      "  7.3 기계굴착 ................................................................................ 8\n",
      "    7.3.1 일반사항 ........................................................................ 8\n",
      "    7.3.2 깎기작업 ........................................................................ 10\n",
      "    7.3.3 지하굴착작업 .................................................................. 10\n",
      "    7.3.4 지하매설물에 인접한 굴착 .............................................. 14\n",
      "    7.3.5 기존구조물에 인접한 굴착 .............................................. 14\n",
      "    7.3.6 굴착토사의 처리 .............................................................. 15\n",
      "  7.4 발파에 의한 굴착 ................................................................... 16\n",
      "8. 붕괴재해예방 ............................................................................ 18\n"
     ]
    },
    {
     "name": "stderr",
     "output_type": "stream",
     "text": [
      "INFO:httpx:HTTP Request: POST http://localhost:8000/v1/chat/completions \"HTTP/1.1 200 OK\"\n",
      " 18%|█▊        | 4/22 [00:41<03:18, 11.02s/it]"
     ]
    },
    {
     "name": "stdout",
     "output_type": "stream",
     "text": [
      "--------------------------------\n",
      "Processed: 굴착공사 안전작업 지침\n",
      "\n",
      "1. 목적\n",
      "\n",
      "이 지침은 산업안전보건기준에관한규칙(이하 “안전보건규칙”이라 한다) 제2편 제4장 제2절(굴착작업 등의 위험방지)의 규정에 의하여 굴착공사 작업에 관한 안전지침을 정함을 목적으로 한다.\n",
      "\n",
      "2. 적용범위\n",
      "\n",
      "이 지침은 건설공사 현장의 굴착공사에 대하여 적용한다.\n",
      "\n",
      "3. 용어의 정의\n",
      "\n",
      "(1) 이 지침에서 사용하는 용어의 정의는 다음과 같다.\n",
      "\n",
      "가) 소단(berm)이라 함은 비탈면의 안정성을 높이기 위해 비탈면 중간에 설치된 수평면을 말한다.\n",
      "\n",
      "나) “히빙(Heaving)”이라 함은 연약점토 지반에서 굴착에 의한 흙막이 내·외면의 흙의 중량차이로 인해 굴착저면이 부풀어 올라오는 현상을 말한다.\n",
      "\n",
      "다) “보일링(Boiling)”이라 함은 사질토 지반에서 굴착지면과 흙막이 배면과의 수위차이로 인해 굴착지면의 흙과 물이 함께 움직여 수면과 오르는 현상을 말한다.\n",
      "\n",
      "라) “파이핑(Piping)”이라 함은 보일링(Boiling) 현상으로 인하여 지반내에서 물의 통로가 생기면서 흙이 세균되는 현상을 말한다.\n",
      "\n",
      "(2) 기타 이 지침에서 사용되는 용어의 정의는 이 지침에 특별한 규정이 있는 경우를 제외하고는 산업안전보건법, 같은 법 시행령, 같은 법 시행규칙, 안전보건규칙 및 고시에서 정하는 바에 의한다.\n"
     ]
    },
    {
     "name": "stderr",
     "output_type": "stream",
     "text": [
      "INFO:httpx:HTTP Request: POST http://localhost:8000/v1/chat/completions \"HTTP/1.1 200 OK\"\n",
      " 23%|██▎       | 5/22 [00:52<03:08, 11.10s/it]"
     ]
    },
    {
     "name": "stdout",
     "output_type": "stream",
     "text": [
      "--------------------------------\n",
      "Processed: 4. 조 사\n",
      "\n",
      "4.1 사전조사 사항\n",
      "\n",
      "(1) 굴착작업계획 수립 전에 굴착장소 및 그 주변지반에 대하여 아래 사항을 조사하여야 한다.\n",
      "\n",
      "(가) 지반 형상・지질 및 지층의 상태\n",
      "\n",
      "(나) 균열・함수・용수 및 동결의 유무 또는 상태\n",
      "\n",
      "(다) 지하매설물 도면 확인 및 매설물 등의 유무 또는 상태\n",
      "\n",
      "(라) 지반의 지하수위 상태\n",
      "\n",
      "4.2 시공 중 조사 사항\n",
      "\n",
      "공사진행 중 사전조사 된 결과와 상이한 상태가 발생한 경우 보완을 위한 정밀 조사를 실시하여야 하며 결과에 따라 작업계획을 재검토해야 할 필요가 있을 때에는 공법이 결정될 때까지 공사를 중지하여야 한다.\n",
      "\n",
      "5. 굴착작업 안전기준\n",
      "\n",
      "(1) 굴착면의 기울기 및 높이의 기준은 안전보건규칙 제338조(지반 등의 굴착 시 위험방지) 제1항 별표 11(굴착면의 기울기 기준)에 의한다.\n",
      "\n",
      "(2) 사질지반(점토질을 포함하지 않은 것)은 굴착면의 기울기를 1:1.5 이상으로 완만하게 하고 높이는 5m 미만으로 하여야 한다.\n",
      "\n",
      "(3) 굴착·깎기 비탈면에는 「건설기술진흥법」 제44조에 따른 건설공사 설계기준 및 표준시방서 등 관계 법령・규칙에서 정하는 기준에 따라 소단을 설치하며, 소단의 위치와 폭은 시공여건과 사용목적을 고려하여 결정하여야 한다.\n"
     ]
    },
    {
     "name": "stderr",
     "output_type": "stream",
     "text": [
      "INFO:httpx:HTTP Request: POST http://localhost:8000/v1/chat/completions \"HTTP/1.1 200 OK\"\n",
      " 27%|██▋       | 6/22 [01:04<03:00, 11.29s/it]"
     ]
    },
    {
     "name": "stdout",
     "output_type": "stream",
     "text": [
      "--------------------------------\n",
      "Processed: 6. 굴착작업계획 수립 및 준비\n",
      "\n",
      "6.1 계획수립\n",
      "\n",
      "(1) 공사 전에 반드시 안전작업 계획을 수립하여야 하며 계획에 포함하여야 할 사항은 다음과 같다.\n",
      "\n",
      "(가) 지반형상, 지층상태, 지하수위 등 사전조사 결과를 바탕으로 굴착공법 및 순서, 토사반출 방법\n",
      "\n",
      "(나) 공사물량에 따른 소요인원 및 장비 투입 운영계획\n",
      "\n",
      "(다) 굴착예정지의 주변 및 지하매설물 조사결과에 따라 작업에 지장을 주는 가스관, 상·하수도관, 통신케이블 등 장애물이 있는 경우 이설·제거·거치 보전 대책\n",
      "\n",
      "(라) 우수 및 용출수에 대비한 배수(배수장비, 배수경로)처리\n",
      "\n",
      "(마) 굴착기계, 운반기계 등의 운전자와 작업자 또는 책임자 상호간 수기신호, 무선통신 등의 연락 신호체계\n",
      "\n",
      "(바) 흙막이지보공 설치 시 계측 종류를 포함한 계측 계획\n",
      "\n",
      "(사) 굴착장비별 사용 시 안전대책\n",
      "\n",
      "(아) 굴착작업 과정에서 발생되는 작업자 재해요인별 안전시설물 설치 방법\n",
      "\n",
      "(자) 유해가스가 발생될 수 있는 굴착 작업장소인 경우 유해가스 측정 및 환기계획\n",
      "\n",
      "(차) 토사반출을 목적으로 복공구조의 시설을 필요로 할 경우 적재하중 조건을 고려하여 구조계산에 의한 복공판 설치계획\n",
      "\n",
      "6.2 준비\n",
      "\n",
      "(1) 굴착작업 전 준비사항은 다음과 같다.\n"
     ]
    },
    {
     "name": "stderr",
     "output_type": "stream",
     "text": [
      "INFO:httpx:HTTP Request: POST http://localhost:8000/v1/chat/completions \"HTTP/1.1 200 OK\"\n",
      " 32%|███▏      | 7/22 [01:17<02:58, 11.90s/it]"
     ]
    },
    {
     "name": "stdout",
     "output_type": "stream",
     "text": [
      "--------------------------------\n",
      "Processed: (가) 관리감독자는 작업계획, 작업내용을 이해하고 숙지하여야 한다.\n",
      "\n",
      "(나) 작업장소의 불안전한 상태 유무를 점검하고, 미비점이 있을 경우 즉시 보완하여야 한다.\n",
      "\n",
      "(다) 지하매설물 주위 굴착시에는 유관기관과 반드시 협의하여야 한다.\n",
      "\n",
      "(라) 사용하는 기기·공구 등의 이상유 무를 작업자에게 확인시켜야 하며 위험 요인과 안전한 사용방법을 교육시켜야 한다.\n",
      "\n",
      "(마) 작업자의 안전모 착용 및 복장상태, 추락의 위험이 있는 고소작업자에게 안전대 지급여부를 확인하여야 한다.\n",
      "\n",
      "(바) 작업자에게 당일의 작업량, 작업방법을 숙지시키고 작업 단계별로 안전상 유의사항을 교육시켜야 한다.\n",
      "\n",
      "(사) 야간작업시 작업장소의 조명설비 이상유 무를 확인하여야 한다.\n",
      "\n",
      "(아) 작업장소에 관계자 이외의 자가 출입하지 않도록 출입금지조치를 하여야 한다.\n",
      "\n",
      "(2) 기계를 이용한 굴착시 작업전 준비사항은 6.2 (1)항에서 정하는 사항 이외에는 다음과 같은 사항이 추가되어야 한다.\n",
      "\n",
      "(가) 굴착장소, 주변환경, 토질상태 등의 조건을 고려하여 안전하게 작업할 수 있는 기계를 선정하여야 한다.\n",
      "\n",
      "(나) 작업전에 기계의 정비 상태를 정비기록표 등에 의해 확인하고 다음 사항을 점검하여야 한다.\n",
      "\n",
      "① 낙석, 낙하물 등의 위험이 예상되는 작업시 견고한 헤드가드 설치상태\n",
      "② 브레이크 및 클러치의 작동상태\n",
      "③ 타이어 및 궤도차륜 상태\n",
      "④ 경보장치의 작동상태\n",
      "⑤ 부속장치의 상태\n",
      "\n",
      "(다) 정비 상태가 불량한 기계를 투입해서는 아니된다.\n"
     ]
    },
    {
     "name": "stderr",
     "output_type": "stream",
     "text": [
      "INFO:httpx:HTTP Request: POST http://localhost:8000/v1/chat/completions \"HTTP/1.1 200 OK\"\n",
      " 36%|███▋      | 8/22 [01:30<02:50, 12.17s/it]"
     ]
    },
    {
     "name": "stdout",
     "output_type": "stream",
     "text": [
      "--------------------------------\n",
      "Processed: (라) 장비의 진입로와 작업장에서의 주행로를 확보하고, 다짐도, 노폭, 경사도 등의 상태를 점검하여야 한다.\n",
      "\n",
      "(마) 굴착된 토사의 운반통로, 노면의 상태, 노폭, 기울기, 회전반경 및 교차점, 장비의 운행 시 근로자의 비상대피장소 등에 대해 조사하여 대책을 강구하여야 한다.\n",
      "\n",
      "(바) 인력굴착과 기계굴착을 병행할 경우 각각의 작업범위와 작업방향을 명확히 하고 기계의 작업관경내에 근로자가 출입하지 않도록 방호설비를 하거나 감시인을 배치하여야 한다.\n",
      "\n",
      "(사) 장비 연료 및 정비용 기구·공구 등의 보관 장소가 적절한지 확인하여야 한다.\n",
      "\n",
      "(아) 운전자가 적정자격을 갖추었는지 확인하여야 한다.\n",
      "\n",
      "(자) 굴착된 토사를 덤프트럭 등을 이용하여 운반할 경우에는 운행로를 확보하고 유도자와 교통 정리원을 배치하여야 하며 굴착기계 운전자와 차량 운전자 간의 상호 연락을 위해 신호체계를 갖추어야 한다.\n",
      "\n",
      "7. 굴착작업 안전\n",
      "\n",
      "7.1 공통사항\n",
      "\n",
      "(1) 굴착은 계획된 순서에 의해 작업을 실시하여야 한다.\n",
      "\n",
      "(2) 관리감독자의 지휘하에 작업하여야 한다.\n",
      "\n",
      "(3) 지반의 종류에 따라 굴착면의 기울기를 준수하여야 한다.\n",
      "\n",
      "(4) 굴착토사나 자재 등을 경사면 및 굴착부 배면에 쌓아두어서는 안 된다.\n",
      "\n",
      "(5) 매설물, 장애물 등에 항상 주의하고 매설물이 손상되지 않도록 보호하여야 한다.\n",
      "\n",
      "(6) 용수가 발생한 때에는 작업을 중단하고 신속하게 배수하여야 하며 흙막이\n"
     ]
    },
    {
     "name": "stderr",
     "output_type": "stream",
     "text": [
      "INFO:httpx:HTTP Request: POST http://localhost:8000/v1/chat/completions \"HTTP/1.1 200 OK\"\n",
      " 41%|████      | 9/22 [01:42<02:40, 12.37s/it]"
     ]
    },
    {
     "name": "stdout",
     "output_type": "stream",
     "text": [
      "--------------------------------\n",
      "Processed: 지보공의 배면에 우수 등이 유입되지 않도록 차수시설을 하여야 한다.\n",
      "\n",
      "(7) 배수를 위해 수중펌프를 설치·사용하는 경우에는 외합접지를 실시함을 물론 누전차단기를 설치하고 이의 작동 여부를 확인하여야 한다.\n",
      "\n",
      "(8) 산소결핍의 우려가 있는 작업 장소는 안전보건규칙 제3편 보건기준 제10장 (밀폐공간작업으로 인한 건강장해의 예방)의 규정을 준수하여야 한다.\n",
      "\n",
      "(9) 도시가스의 누출, 메탄가스 등의 발생이 우려되는 경우에는 화기를 사용하여서는 아니 된다. 또한 이들 유해가스에 대해서는 7.1 (8)항을 참고한다.\n",
      "\n",
      "(10) 위험 장소에는 작업자 이외의 자가 접근하지 못하도록 표지판을 설치하거나 감시인을 배치하여야 한다.\n",
      "\n",
      "(11) 토사 붕괴의 발생을 예방하기 위하여 다음 사항을 점검하여야 하며 점검 시기는 작업 전·중·후, 비온 후, 인접 작업구역에서 발파한 경우에 실시 하여야 한다.\n",
      "\n",
      "(가) 전 지표면의 답사\n",
      "(나) 경사면의 지층 변화무 상황 확인\n",
      "(다) 부석의 상황 변화의 확인\n",
      "(라) 용수의 발생 유·무와 용수량의 변화 확인\n",
      "(마) 결빙과 해빙에 대한 상황의 확인\n",
      "(바) 각종 경사면 보호공의 변위, 탈락 유·무\n",
      "\n",
      "7.2 인력굴착\n",
      "\n",
      "7.2.1 일반사항\n",
      "\n",
      "(1) 인력굴착 작업은 가급적 단독작업을 피하고 2인 이상이 함께 작업하도록 한다.\n",
      "(2) 인력굴착 작업 시 삼이나 곡괭이 사용으로 인한 작업자 상호간 사고를 방지하기 위해 작업 중에는 충분한 거리(삼이나 곡괭이 사용 시 2m이상)를 유지해야 한다.\n"
     ]
    },
    {
     "name": "stderr",
     "output_type": "stream",
     "text": [
      "INFO:httpx:HTTP Request: POST http://localhost:8000/v1/chat/completions \"HTTP/1.1 200 OK\"\n",
      " 45%|████▌     | 10/22 [01:56<02:31, 12.66s/it]"
     ]
    },
    {
     "name": "stdout",
     "output_type": "stream",
     "text": [
      "--------------------------------\n",
      "Processed: (3) 작업도중 굴착된 상태로 작업을 종료할 경우에는 방호울, 위험표지판을 설치하여 제3자의 출입을 금지시켜야 한다.\n",
      "\n",
      "(4) 상·하부 동시작업은 원칙적으로 금지하여야 하나 부득이한 경우 다음 조치를 실시한 후 작업하여야 한다.\n",
      "\n",
      "(가) 견고한 낙하물 방호시설 설치\n",
      "\n",
      "(나) 부석제거\n",
      "\n",
      "(다) 작업장소에 불필요한 기계 등의 방치금지\n",
      "\n",
      "(라) 관리감독자 및 신호수 배치\n",
      "\n",
      "(5) 굴착면의 기울기가 1:1이하로서 급경사이고 높이가 2m 이상인 굴착비탈면에서 부석제거 등 인력작업이 필요한 경우에는 다음 사항을 준수하여야 한다.\n",
      "\n",
      "(가) 작업자의 추락방지를 위한 안전대 부착설비를 설치하고 안전대를 착용하여야 한다.\n",
      "\n",
      "(나) 안전대 부착 설비는 굴착비탈면 상단에 견고하게 설치하되 그 구조는 엩커 및 일정 간격의 매듭이 형성된 양호한 섬유로프 등을 이용하여야 한다.\n",
      "\n",
      "(다) 작업자의 승강용 통로를 설치하여야 하며 통로는 이탈되지 않도록 견고히 고정하여야 한다.\n",
      "\n",
      "7.2.2 트렌치 굴착\n",
      "\n",
      "(1) 통행자가 많은 장소에서 굴착하는 경우 굴착장소에 방호울 등을 사용하여 접근을 금지시키고 안전표지판을 식별이 용이한 장소에 설치하여야 한다.\n",
      "\n",
      "(2) 야간에는 KOSHA GUIDE C-52(야간 건설공사 안전보건작업 지침)에서 정하는 최소 조도기준을 확보할 수 있도록 작업장에 충분한 조명시설을 하여야 하며 임시로 설치 사용하는 시설물에는 형광벨트, 경광등 등을 설치하여야 한다.\n",
      "\n",
      "(3) 바닥면의 굴착 깊이를 확인하면서 작업하여야 한다.\n"
     ]
    },
    {
     "name": "stderr",
     "output_type": "stream",
     "text": [
      "INFO:httpx:HTTP Request: POST http://localhost:8000/v1/chat/completions \"HTTP/1.1 200 OK\"\n",
      " 50%|█████     | 11/22 [02:08<02:19, 12.70s/it]"
     ]
    },
    {
     "name": "stdout",
     "output_type": "stream",
     "text": [
      "--------------------------------\n",
      "Processed: (4) 토사지반으로서 흙막이지보공을 설치하지 않는 경우 굴착 깊이는 1.5m 이하로 하여야 한다.\n",
      "\n",
      "(5) 수분을 많이 함유한 지반의 경우나 뒷채움 지반인 경우 또는 차량의 통행 등으로 붕괴되기 쉬운 경우에는 반드시 흙막이지보공을 설치하여야 한다.\n",
      "\n",
      "(6) 굴착 폭은 작업 및 대피가 용이하도록 충분한 넓이를 확보하여야 하며 굴착 깊이가 2m 이상일 경우에는 1m 이상 폭으로 한다.\n",
      "\n",
      "(7) 흙막이널판을 사용할 경우에는 널판길이 1/3이상의 근입장을 확보하여야 한다.\n",
      "\n",
      "(8) 굴착토사는 굴착바닥에서 45°이상 경사선 밖에 적치하도록 하고 건설기계가 통행하는 장소에는 별도의 통행로를 설치하여야 한다.\n",
      "\n",
      "(9) 핸드브레이커를 이용하여 건고한 지반을 굴착할 경우에는 보호장갑, 보안경 등의 보호구를 착용하여야 한다.\n",
      "\n",
      "(10) 핸드브레이커 사용을 위한 공기압축기는 작업이나 통행에 지장이 없는 장소에 설치하여야 한다.\n",
      "\n",
      "(11) 굴착 깊이가 1.5m 이상인 경우 적어도 30m 간격 이내로 사다리, 계단 등 승강설비를 설치하여야 한다.\n",
      "\n",
      "(12) 굴착 지면에서 휴식을 취하여서는 안 된다.\n",
      "\n",
      "7.3 기계굴착\n",
      "\n",
      "7.3.1 일반사항\n",
      "\n",
      "(1) 운전자의 해당 면허소지 여부 및 건강상태를 확인하여야 하며 과로시키지 않아야 한다.\n",
      "\n",
      "(2) 작업반은 가급적 숙련자로 구성하여야 하며 신호수를 지정하여 표준 신호 방법에 의하여 신호하여야 한다.\n"
     ]
    },
    {
     "name": "stderr",
     "output_type": "stream",
     "text": [
      "INFO:httpx:HTTP Request: POST http://localhost:8000/v1/chat/completions \"HTTP/1.1 200 OK\"\n",
      " 55%|█████▍    | 12/22 [02:23<02:11, 13.14s/it]"
     ]
    },
    {
     "name": "stdout",
     "output_type": "stream",
     "text": [
      "--------------------------------\n",
      "Processed: (3) 운전자 외에는 승차를 금지시켜야 한다.\n",
      "\n",
      "(4) 통행인이나 근로자에게 위험에 미칠 우려가 있는 경우에는 유도자의 신호에 따라 운전하여야 한다.\n",
      "\n",
      "(5) 규정된 속도를 준수하여야 한다.\n",
      "\n",
      "(6) 용량을 초과하는 가동은 금지하여야 하며 연약지반의 노면, 경사면 등의 위험장소에는 반드시 유도자를 배치하여야 한다.\n",
      "\n",
      "(7) 차량계 건설기계의 주행로는 충분한 노폭확보와 침하방지 및 배수조치를 하여야 한다.\n",
      "\n",
      "(8) 전선이나 구조물 등에 인접하여 봉을 선회하여 작업할 때는 사전에 회전반경, 높이 제한 등 방호조치를 하여야 한다.\n",
      "\n",
      "(9) 작업의 종료나 중단 시에는 장비를 평탄한 장소에 두고 버켓 등을 지면에 내려놓아야 하며 바퀴에 고임목 등으로 받침 전락 및 구동을 방지하여야 한다.\n",
      "\n",
      "(10) 장비는 당해 작업목적 이외의 용도로 사용하여서는 안 된다.\n",
      "\n",
      "(11) 장비에 이상이 발견되면 즉시 부속장치를 교환하거나 수리하여야 한다.\n",
      "\n",
      "(12) 장비의 수리 시에는 봉, 압 등이 불식에 하강함으로서 발생하는 위험 방지를 위하여 안전지주, 안전블록 등을 사용하여야 한다.\n",
      "\n",
      "(13) 작업종료 시에는 장비관리 책임자가 열쇠를 보관하여야 한다.\n",
      "\n",
      "(14) 낙석 등의 위험이 있는 장소에서 작업할 경우에는 장비에 헤드가드 등 견고한 방호조치를 설치하여야 하며 전조등, 경보장치 등이 부착되지 않은 기계를 운전시켜서는 안 된다.\n",
      "\n",
      "(15) 장비를 차량으로 운반해야 될 경우에는 전용 트레일러를 사용하여야 하며, 전용발판을 이용하여 적재할 경우에는 장비가 전도되지 않도록 안전한 강도와 기울기, 폭 및 두께를 확보하여야 하며 발판위에서 방향을 바꾸어서는 안된다.\n"
     ]
    },
    {
     "name": "stderr",
     "output_type": "stream",
     "text": [
      "INFO:httpx:HTTP Request: POST http://localhost:8000/v1/chat/completions \"HTTP/1.1 200 OK\"\n",
      " 59%|█████▉    | 13/22 [02:38<02:03, 13.69s/it]"
     ]
    },
    {
     "name": "stdout",
     "output_type": "stream",
     "text": [
      "--------------------------------\n",
      "Processed: 7.3.2 깎기작업\n",
      "\n",
      "(1) 붕략위험이 있는 장소에서의 작업은 금지하여야 한다.\n",
      "\n",
      "(2) 깎기면 최상부에는 산마루 측구 등 배수시설을 설치하여야 한다.\n",
      "\n",
      "(3) 깎기면이 높은 경우는 계단식으로 굴착하고 충분한 폭의 소단을 설치하여야 하며, 깎기면으로 우수 등이 홀려내리지 않도록 소단은 깎기면 방향으로 적정한 기울기를 두어 형성하고 필요시 배수로를 설치하여야 한다.\n",
      "\n",
      "(4) 깎기면을 장기간 방치할 경우는 경사면에 비닐덮기 등 적절한 보호조치를 하여야 하고, 깎기면이 약반으로서 압활이 불량한 경우는 록볼트, 넷트 설치 등의 방호시설을 하여야 한다.\n",
      "\n",
      "(5) 깎기면이 높은 경우에는 굴착장비가 안전하게 이동할 수 있는 등반용 가설도로를 설치하되 적정 노폭을 유지토록하고 침하 우려가 없어야 한다.\n",
      "\n",
      "(6) 굴착작업 시 장비의 전도 및 전락방지를 위하여 지반이 평탄하고 다짐이 양호한 위치에 경치시킨 후 작업하여야 한다.\n",
      "\n",
      "(7) 불안전한 급경사면에 옹벽설치를 위한 굴착작업 시에는 다음 사항을 준수하여야 한다.\n",
      "\n",
      "(가) 비탈면의 지질, 지층 상태가 불량한 경우에는 흙막이지보공을 설치하여야 한다.\n",
      "\n",
      "(나) 굴착부분에 대해서는 변형이 발생되기 전에 기초 및 벽체 구조물을 축조하고 배면에는 배수가 잘 되는 재료로 뒷채움을 하여야 한다.\n",
      "\n",
      "(다) 깎기 비탈면에 낙석의 우려가 있거나 장기간 방치할 경우에는 록볼트, 숛크리트, 넷트 등의 비탈면 보호공을 실시하여야 한다.\n",
      "\n",
      "7.3.3 지하굴착작업\n",
      "\n",
      "(1) 굴착부지의 여유가 없어 지층상태에 따른 굴착기울기를 준수할 수 없는 경우 또는 지층, 지질 상태가 연약지반인 경우에는 흙막이지보공을 설치하여야 한다.\n"
     ]
    },
    {
     "name": "stderr",
     "output_type": "stream",
     "text": [
      "INFO:httpx:HTTP Request: POST http://localhost:8000/v1/chat/completions \"HTTP/1.1 200 OK\"\n",
      " 64%|██████▎   | 14/22 [02:52<01:52, 14.01s/it]"
     ]
    },
    {
     "name": "stdout",
     "output_type": "stream",
     "text": [
      "--------------------------------\n",
      "Processed: (2) 흙막이지보공 설치시 지보공 부재의 설치순서에 맞도록 굴착을 진행하여야 한다.\n",
      "\n",
      "(3) 흙막이지보공을 설치하는 장소에는 아래 각목의 계측기를 설치하여 흙막이 구조의 안전을 예측하여야 하며 설치가 곤란할 경우 데오도라이트, 트랜싯 및 레벨 측량기 등으로 수직, 수평변위 발생여부를 측정하여야 한다.\n",
      "\n",
      "(가) 지하수위계\n",
      "\n",
      "(나) 경사계\n",
      "\n",
      "(다) 하중 및 침하계\n",
      "\n",
      "(라) 응력계 등\n",
      "\n",
      "(4) 계측기기 관독 및 측량 결과 수직, 수평 변위량이 허용범위를 초과한 경우에는 즉시 작업을 중단하고 장비 및 자재의 이동, 배면토압의 경감 조치, 가설지보공 구조의 보완 등 조치를 취하여야 한다.\n",
      "\n",
      "(5) 히빙(Heaving), 파이핑(Piping) 및 보일링(Boiling) 현상 발생에 대비하여 흙막이지보공 하단부 굴착 시 이상유무를 정밀하게 관측하여야 한다.\n",
      "\n",
      "(6) 흙막이벽 배면 단부에는 추락이나 낙하물에 대비한 방호시설을 설치하여야 한다.\n",
      "\n",
      "(7) 시가지 등 인구밀집지역에서 굴착작업을 하는 경우에는 매설물의 손괴방지 를 위하여 줄파기 등 인력굴착을 선행한 후 기계굴착을 실시하여야 하며 또한 매설물이 손상을 입은 경우는 즉시 작업 책임자에게 보고하고 복구방 법을 신속히 강구하여 조치하여야 한다.\n",
      "\n",
      "(8) 흙막이 벽을 지지하기 위해 버팀보(Strut)를 설치할 경우에는 다음 사항을 준수하여야 한다.\n",
      "\n",
      "(가) 작업시 흙막이지보공의 설계도면과 시방을 준수하여 정밀 시공하여야 한다.\n",
      "\n",
      "(나) 버팀부재로서 버팀보, 띠장, 사보강재 등을 설치하고 하부작업을 하여야 한다.\n",
      "\n",
      "(다) 띠장의 이음위치는 가능한 응력이 크게 작용하는 위치를 피하여 버팀대와\n"
     ]
    },
    {
     "name": "stderr",
     "output_type": "stream",
     "text": [
      "INFO:httpx:HTTP Request: POST http://localhost:8000/v1/chat/completions \"HTTP/1.1 200 OK\"\n",
      " 68%|██████▊   | 15/22 [03:08<01:41, 14.48s/it]"
     ]
    },
    {
     "name": "stdout",
     "output_type": "stream",
     "text": [
      "--------------------------------\n",
      "Processed: 사보강재의 지점에 가까운 곳을 선택하여 설치하여야 하며 각단의 띠장\n",
      "이음 위치가 동일선상에 있어서는 안 된다.\n",
      "\n",
      "(라) 버팀보와 띠장은 터파가 예정 깊이에 도달하면 신속히 설치하여 이음\n",
      "및 맞춤부분을 완성하되 버팀보 설치지점으로부터 0.5m 이상 과굴착하지\n",
      "않도록 하여야 한다.\n",
      "\n",
      "(마) 작업중 버팀보 또는 흙막이벽의 이상 변위에 주의하며 이상토압이 발생\n",
      "하여 흙막이지보공에 이상 변형이 발생되면 작업을 중지하고 보강대책을\n",
      "강구하여야 한다.\n",
      "\n",
      "(바) 작업장의 벽에 대하여 교류아크용접을 할 경우 반드시 자동전격방지장치를\n",
      "설치하고 외압은 점지하여야 한다.\n",
      "\n",
      "(사) 버팀보, 사보강재 위로 통행을 해서는 안되며, 부득이 통행할 경우에는\n",
      "안전통로를 설치하고 통로에는 안전난간을 설치하거나 안전대 부착설비\n",
      "를 설치한 후 안전대를 착용하여야 한다.\n",
      "\n",
      "(아) 버팀보 위에는 중량물을 적재하여서는 안되며 부득이한 경우에는 지보공으로\n",
      "충분히 보강하여야 한다.\n",
      "\n",
      "(자) 합벽식이 아닌 경우에는 버팀부재 철거시 버팀목 설치와 되매우기 등으\n",
      "로 배면토압과 균형을 유지하여야 한다.\n",
      "\n",
      "(차) 조립 부재의 가설강재 등의 반입, 반출 시에는 낙하하지 않도록 확실하게\n",
      "매달고 훅에는 해지장치를 이용하여 이탈을 방지하여야 한다.\n",
      "\n",
      "(카) 강재접합부의 볼트 구멍은 드릴로 친공하고 용접기를 사용하여 친공하여\n",
      "서는 안 된다.\n",
      "\n",
      "(9) 차수를 목적으로 쉬트파일(Sheet pile)을 설치하는 경우에는 다음 사항을\n",
      "준수하여야 한다.\n",
      "\n",
      "(가) 쉬트파일의 수직도 확보를 위해 최초 항타 시에는 반드시 트랜싯 측량기\n",
      "를 이용하여 기울어지지 않도록 확인하여야 한다.\n",
      "\n",
      "(나) 쉬트파일 설치 시 수직도 관리를 위하여 안내보(Guide beam)를 설치한\n",
      "후 타입하고 수직도는 1/100이내 이어야 하며 타입진행 방향으로 기울어\n"
     ]
    },
    {
     "name": "stderr",
     "output_type": "stream",
     "text": [
      "INFO:httpx:HTTP Request: POST http://localhost:8000/v1/chat/completions \"HTTP/1.1 200 OK\"\n",
      " 73%|███████▎  | 16/22 [03:23<01:27, 14.64s/it]"
     ]
    },
    {
     "name": "stdout",
     "output_type": "stream",
     "text": [
      "--------------------------------\n",
      "Processed: 짐이 발생될 때에는 경사보장을 위한 방법으로 쐐기형 쉬트 파일을 타입 하는 등의 조치를 하여야 한다.\n",
      "\n",
      "(다) 연결고리 구조의 쉬트파일 또는 라이너플레이트를 설치한 경우 틈새가 생기지 않도록 정확히 하여야 한다.\n",
      "\n",
      "(라) 쉬트파일의 이음은 인접한 쉬트파일의 이음 위치와 동일하게 설치하여서는 안되며 이음방식은 전단면 맞대기 용접 이음으로 하여야 한다.\n",
      "\n",
      "(마) 링은 쉬트파일에 소정의 볼트를 긴 결하여 확실하게 설치하여야 한다.\n",
      "\n",
      "(바) 도압이 커서 링이 변형될 우려가 있는 경우 버팀보 등으로 보강하여야 한다.\n",
      "\n",
      "(사) 라이너플레이트의 이음은 상하 교합이 잘 되도록 하여야 한다.\n",
      "\n",
      "(아) 굴착 및 링의 설치와 동시에 철저히 췌사다리를 설치 연장하여야 하며 철사다리는 굴착 바닥면과 접근높이가 30cm 이내가 되게 하고 버켓의 경로, 전선, 닷트 등이 배치되지 않는 곳에 설치하여야 한다.\n",
      "\n",
      "(자) 쉬트파일을 인양할 경우 크레인 혹은 배달기 로프가 벗겨지지 않도록 조치하여야 한다.\n",
      "\n",
      "(10) 흙막이벽에 작용하는 외력을 받도록 어스앵커(Earth anchor)를 설치할 경우에는 다음 사항을 준수하여야 한다.\n",
      "\n",
      "(가) 앵커 천공시에는 천공구멍이 휘거나 붕괴 등이 발생치 않도록 유의하여야 한다.\n",
      "\n",
      "(나) 앵커체는 띠장 부근에서 꺽이지 않도록 띠장의 각도를 인장강선과 직각 이 되도록 설치하여야 한다.\n",
      "\n",
      "(다) 앵커 설치 시 앵커체의 정착층이 사전 조사한 토층과 상이하거나 양질의 지반이 아닌 경우에는 즉시 앵커 정착부를 재검토하여야 한다.\n",
      "\n",
      "(라) 앵커체의 인장은 동시 인장을 실시하여 재킹력(Jacking force)의 손실을 줄여야 하며 인장기는 충분한 재킹력을 가할 수 있는 규격품을 사용하여야\n"
     ]
    },
    {
     "name": "stderr",
     "output_type": "stream",
     "text": [
      "INFO:httpx:HTTP Request: POST http://localhost:8000/v1/chat/completions \"HTTP/1.1 200 OK\"\n",
      " 77%|███████▋  | 17/22 [03:38<01:14, 14.82s/it]"
     ]
    },
    {
     "name": "stdout",
     "output_type": "stream",
     "text": [
      "--------------------------------\n",
      "Processed: 한다.\n",
      "\n",
      "(마) 앵커체의 인장강선은 추후 제안장에 대비하여 여유를 두고 절단하여야 한다.\n",
      "\n",
      "(바) 주입재를 주입할 때 팩커 바깥쪽으로 주입제가 누출되지 않도록 하며 적정한 주입압력을 유지하여야 한다.\n",
      "\n",
      "7.3.4 지하매설물에 인접한 굴착\n",
      "\n",
      "(1) 시가지 굴착 등을 할 경우에는 도면 및 관리자의 조언에 의하여 매설물의 위치를 파악한 후 줄파기작업 등을 시작하여야 한다.\n",
      "\n",
      "(2) 굴착에 의하여 매설물이 노출되면 반드시 관계기관, 소유자 및 관리자에게 확인시키고 상호 협조하여 지주나 지보공 등을 이용하여 방호조치를 하여야 하며 지하매설물 위치에서 50cm 이내는 인력으로 굴착하여야 한다.\n",
      "\n",
      "(3) 매설물의 이설 및 위치변경, 교체 등은 관계기관(자)과 협의하여 실시하여야 한다.\n",
      "\n",
      "(4) 최소 1일 1회 이상은 순회 점검하여야 하며 점검에는 와이어로프의 인장상태, 거치구조의 안전상태, 특히 접합부분을 중점적으로 확인하여야 한다.\n",
      "\n",
      "(5) 매설물에 인접하여 작업할 경우에는 주변지반의 지하수위가 저하되어 압밀침하될 가능성이 많고 매설물이 파손될 우려가 있으므로 곡관부의 보강, 매설물 벽체 누수 등 매설물의 관계기관(자)과 충분히 합의하여 방지대책을 강구하여야 한다.\n",
      "\n",
      "(6) 가스관과 송유관 등이 매설된 경우에는 화기사용을 금하여야 하며 부득이 용접 기 등을 사용해야 할 경우에는 폭발방지 조치를 위한 후 작업을 하여야 한다.\n",
      "\n",
      "(7) 노출된 매설물을 되طرف하기 할 경우에는 매설물의 방호를 실시하고 양질의 토사를 이용하여 충분한 다짐을 하여야 한다.\n",
      "\n",
      "7.3.5 기존구조물에 인접한 굴착\n",
      "\n",
      "(1) 기존구조물의 기초상태와 지질조건 및 구조형태 등에 대하여 조사하고 작업방식, 공법 등 충분한 대책과 작업상의 안전계획을 확인한 후 작업하여야 한다.\n"
     ]
    },
    {
     "name": "stderr",
     "output_type": "stream",
     "text": [
      "INFO:httpx:HTTP Request: POST http://localhost:8000/v1/chat/completions \"HTTP/1.1 200 OK\"\n",
      " 82%|████████▏ | 18/22 [03:52<00:58, 14.69s/it]"
     ]
    },
    {
     "name": "stdout",
     "output_type": "stream",
     "text": [
      "--------------------------------\n",
      "Processed: (2) 기존구조물과 인접하여 굴착하거나 기존구조물의 하부를 굴착하여야 할 경우에는 그 크기, 높이, 하중 등을 충분히 조사하고 굴착에 의한 진동, 침하, 진도 등 외력에 대해서 충분히 안전한가를 확인하여야 한다.\n",
      "\n",
      "(3) 기존구조물 지지를 위한 보강 작업시 다음 사항을 준수하여야 한다.\n",
      "\n",
      "(가) 기존구조물의 하부에 파일, 가설슬래브 구조 및 언더피닝공법 등의 대책을 강구하여야 한다.\n",
      "\n",
      "(나) 붕괴방지 파일 등에 브라켓을 설치하여 기존구조물을 방호하고 기존구조물과의 사이에는 모래, 자갈, 콘크리트, 지반보강 약액제 등을 충진하여 지반의 침하를 방지하여야 한다.\n",
      "\n",
      "(다) 기존구조물의 합하기 예상되는 경우에는 토질, 토층 등을 정밀조사하고 유효한 혼합시멘트, 약액 주입공법, 수평·수직보강 말뚝공법 등으로 대책을 강구하여야 한다.\n",
      "\n",
      "(라) 웰 포인트 공법 등이 행하여지는 경우 기존구조물의 합기에 충분히 주의하고 침하가 될 경우에는 그라우팅, 화학적 고결방법 등으로 대책을 강구하여야 한다.\n",
      "\n",
      "(마) 지속적으로 기존구조물의 상태에 주의하고 작업장 주위에는 비상 투입용 보강재 등을 준비하여야 한다.\n",
      "\n",
      "(바) 맨홀 등 소규모 구조물이 있는 경우에는 굴착 전에 파일 및 가설가대 등을 설치한 후 매달아 보강하여야 한다.\n",
      "\n",
      "(사) 옹벽, 블록벽 등이 있는 경우에는 철거 또는 버팀목 등으로 보강한 후에 굴착작업을 하여야 한다.\n",
      "\n",
      "7.3.6 굴착토사의 처리\n",
      "\n",
      "(1) 굴착깊이에 따라 버켓을 이용한 굴착토사 처리 시에는 다음 사항을 준수하여야 한다.\n",
      "\n",
      "(가) 버켓은 흙에 정확히 걸고 상·하작업시 이탈하지 않도록 하여야 한다.\n"
     ]
    },
    {
     "name": "stderr",
     "output_type": "stream",
     "text": [
      "INFO:httpx:HTTP Request: POST http://localhost:8000/v1/chat/completions \"HTTP/1.1 200 OK\"\n",
      " 86%|████████▋ | 19/22 [04:06<00:43, 14.40s/it]"
     ]
    },
    {
     "name": "stdout",
     "output_type": "stream",
     "text": [
      "--------------------------------\n",
      "Processed: (나) 버켓에 부착된 토사는 반드시 제거하고 상·하작업을 하여야 한다.\n",
      "\n",
      "(다) 버켓을 인양하는 작업구 하부에는 경광등, 안전표지판 등을 설치하고 인양 작업중에는 근로자의 출입을 통제하여야 한다.\n",
      "\n",
      "(라) 작업구 등 개구부에서 인양물을 확인할 경우에는 반드시 안전대 등을 착용하여야 한다.\n",
      "\n",
      "(마) 조립된 부채에 장비의 버켓 등이 닿지 않도록 신호자의 신호에 의해 운전하여야 한다.\n",
      "\n",
      "(2) 토사반출을 고정식 크레인 및 호이스트 등을 조립하여 사용할 경우에는 다음 사항을 준수하여야 한다.\n",
      "\n",
      "(가) 토사 단위운반용량에 적합한 버켓이어야 하며, 기계의 제원은 안전율을 고려한 것이어야 한다.\n",
      "\n",
      "(나) 기초를 틀튼히 하고 각부는 과일에 고정하여야 한다.\n",
      "\n",
      "(다) 윈치는 이동, 침하하지 않도록 설치하여야 하고 와이어로프는 설비 등에 접촉하여 마모하지 않도록 주의하여야 한다.\n",
      "\n",
      "(라) 토사반출용 작업구에는 견고한 철책, 난간 등을 설치하고 안전표지판을 설치하여야 한다.\n",
      "\n",
      "(마) 개구부는 버켓의 출입에 장치가 없는 가능한 한 작은 것으로 하여야 한다.\n",
      "\n",
      "7.4 발파에 의한 굴착\n",
      "\n",
      "(1) 발파작업 시 장전, 결선, 점화, 불발 잔약의 처리 등은 선임된 발파책임자가 관리하여야 한다.\n",
      "\n",
      "(2) 발과 면허를 소지한 발과책임자의 작업지휘하에 발과작업을 하여야 한다.\n",
      "\n",
      "(3) 발과 시에는 반드시 발과시방에 의한 장약량, 천공장, 천공구경, 천공 각도, 화약종류, 발과방식을 준수하여야 한다.\n",
      "\n",
      "(4) 암반변화 구간의 발과는 반드시 시험발과를 선행하여 실시하고 암질에 따른 발과\n"
     ]
    },
    {
     "name": "stderr",
     "output_type": "stream",
     "text": [
      "INFO:httpx:HTTP Request: POST http://localhost:8000/v1/chat/completions \"HTTP/1.1 200 OK\"\n",
      " 91%|█████████ | 20/22 [04:20<00:28, 14.14s/it]"
     ]
    },
    {
     "name": "stdout",
     "output_type": "stream",
     "text": [
      "--------------------------------\n",
      "Processed: (5) 암반변화 구간 및 이상암질의 출현시 반드시 암질판별을 실시하고 그에 따라 필요한 조치를 하여야 한다.\n",
      "\n",
      "(6) 발파시방을 변경하는 경우에는 반드시 시험발파를 실시하여야 하며 진동속도, 폭력, 폭속 등의 조건에 의한 적정한 발파시방이어야 한다.\n",
      "\n",
      "(7) 주변 구조물 및 인가 등 피해 대상물이 인접한 장소에서의 발파는 당해 공사의 설계도서와 시방서에서 명하는 바에 따라야 한다.\n",
      "\n",
      "(8) 화약 양도양수 허가증을 정기적으로 확인하여 사용기간, 사용량 등을 확인하여야 한다.\n",
      "\n",
      "(9) 작업책임자는 발파작업 지휘자와 발파시방, 대피장소, 경로, 방호의 방법에 대하여 충분히 협의하여 작업자의 안전을 도모하여야 한다.\n",
      "\n",
      "(10) 낙반, 부석의 제거가 불가능한 경우 부면 재발파, 록볼트, 포폴링 등의 붕괴방지를 실시하여야 한다.\n",
      "\n",
      "(11) 발파는 적절한 경보 및 근로자와 제3자의 대피 등의 조치를 취한 후에 실시하여야 하며, 발파 후에는 불발 잔약의 확인과 진동에 의한 2차 붕괴 여부를 확인하고 낙반, 부석처리를 완료한 후 작업을 재개하여야 한다.\n",
      "\n",
      "(12) 환기가 잘되지 않는 장소에서의 발파작업 시에는 환기설비를 갖추어 가스 배출을 시킨 후 작업하여야 한다.\n",
      "\n",
      "(13) 화약류 운반 시 다음 사항을 준수하여야 한다.\n",
      "\n",
      "(가) 화약류는 반드시 화약류 취급책임자로부터 수령하여야 한다.\n",
      "\n",
      "(나) 화약류의 운반은 반드시 운반대나 상자를 이용하여 소량으로 분할하여 운반하여야 한다.\n",
      "\n",
      "(다) 화약류, 뇌관 등은 충격을 주지 않도록 신중하게 분리 취급하고 화기에\n"
     ]
    },
    {
     "name": "stderr",
     "output_type": "stream",
     "text": [
      "INFO:httpx:HTTP Request: POST http://localhost:8000/v1/chat/completions \"HTTP/1.1 200 OK\"\n",
      " 95%|█████████▌| 21/22 [04:30<00:12, 12.86s/it]"
     ]
    },
    {
     "name": "stdout",
     "output_type": "stream",
     "text": [
      "--------------------------------\n",
      "Processed: 가까이 해서는 안 된다.\n",
      "\n",
      "(14) 발파 후 굴착작업을 할 때는 불발잔약의 유무를 반드시 확인하고 작업하여야 한다.\n",
      "\n",
      "(15) 흙막이공법을 적용한 지반의 경질암반에 대한 발파는 반드시 시험발파에 의한 발파시방을 준수하여야 하며 엄지말뚝, 중간말뚝, 흙막이지보공 벽체의 진동영향력이 최소가 되게 하여야 한다. 경우에 따라 무진동 파쇄방식의 계획을 수립하여 진동을 억제하여야 한다.\n",
      "\n",
      "8. 붕괴재해예방\n",
      "\n",
      "(1) 붕괴토석의 최대 도달거리 범위내에서 굴착공사, 배수관의 매설, 콘크리트 타설작업 등을 할 경우에는 적합한 방호대책을 강구하여야 하며 원칙적으로 2개 이상 공종의 동시작업을 금지하여야 한다.\n",
      "\n",
      "(2) 붕괴의 속도는 높이와 비례하므로 수평방향의 활동에 대비하여 작업장 좌우에 피난통로 등을 확보하여야 한다.\n",
      "\n",
      "(3) 작은 규모의 붕괴가 발생되어 인명구출 등 구조작업 도중에 2차 대형붕괴를 방지하기 위하여 붕괴면의 주변상황을 충분히 확인하고 안전조치를 강구한 후 복구작업에 임하여야 한다.\n"
     ]
    },
    {
     "name": "stderr",
     "output_type": "stream",
     "text": [
      "INFO:httpx:HTTP Request: POST http://localhost:8000/v1/chat/completions \"HTTP/1.1 200 OK\"\n",
      "100%|██████████| 22/22 [04:34<00:00, 12.47s/it]\n"
     ]
    },
    {
     "name": "stdout",
     "output_type": "stream",
     "text": [
      "--------------------------------\n",
      "Processed: 안전보건기술지침 개정 이력\n",
      "\n",
      "개정일 : 2023. 8. 24.\n",
      "\n",
      "○ 개정자 : 안전보건공단 전문기술실 박주호\n",
      "\n",
      "○ 개정사유 : 관련 법령 및 기준 등을 반영하여 지침 현행화\n",
      "\n",
      "○ 주요 개정내용\n",
      "  - 관련규격 및 자료, 법규·규칙·고시 등 현행화, 용어의 정의 추가, 소단 설치 기준 최신화 등\n",
      "---End---\n",
      "Processing 중소규모 관로공사의 안전보건작업지침\n"
     ]
    },
    {
     "name": "stderr",
     "output_type": "stream",
     "text": [
      "  0%|          | 0/15 [00:00<?, ?it/s]INFO:httpx:HTTP Request: POST http://localhost:8000/v1/chat/completions \"HTTP/1.1 200 OK\"\n"
     ]
    },
    {
     "name": "stdout",
     "output_type": "stream",
     "text": [
      "--------------------------------\n",
      "Processed: None\n",
      "페이지 1의 텍스트가 없습니다. 재시도합니다.\n"
     ]
    },
    {
     "name": "stderr",
     "output_type": "stream",
     "text": [
      "INFO:httpx:HTTP Request: POST http://localhost:8000/v1/chat/completions \"HTTP/1.1 200 OK\"\n",
      "  7%|▋         | 1/15 [00:04<01:08,  4.87s/it]"
     ]
    },
    {
     "name": "stdout",
     "output_type": "stream",
     "text": [
      "--------------------------------\n",
      "Processed: 중소규모 관로공사의\n",
      "안전보건작업지침\n",
      "\n",
      "2013. 10.\n",
      "\n",
      "한국산업안전보건공단\n"
     ]
    },
    {
     "name": "stderr",
     "output_type": "stream",
     "text": [
      "INFO:httpx:HTTP Request: POST http://localhost:8000/v1/chat/completions \"HTTP/1.1 200 OK\"\n",
      " 13%|█▎        | 2/15 [00:17<02:00,  9.29s/it]"
     ]
    },
    {
     "name": "stdout",
     "output_type": "stream",
     "text": [
      "--------------------------------\n",
      "Processed: 안전보건기술지침의 개요\n",
      "\n",
      "○ 작성자 : 한국안전학회 최명기\n",
      "\n",
      "○ 제·개정 경과\n",
      "- 2013년 10월 건설안전분야 제정위원회 심의(제정)\n",
      "\n",
      "○ 관련규격 및 자료\n",
      "- 굴착공사 표준안전작업 지침(고용노동부 고시 2009-52호)\n",
      "- 굴착공사 안전작업 지침(KOSH GUIDE C-39-2011)\n",
      "- 지하 매설물 굴착공사 안전작업 지침(KOSHA GUIDE C-37-2011)\n",
      "- 실무규정(Code of practice) : 굴착공사(서호주 산업안전위원회)\n",
      "- 지하매설물 안전관리 요령(국토해양부)\n",
      "- 가설공사 표준시방서(국토해양부)\n",
      "- OSHA § 1926.651(C) Subpart P - Excavations\n",
      "\n",
      "○ 관련법규・규칙・고시 등\n",
      "- 산업안전보건기준에 관한 규칙 제2편 제4장 제2절(굴착작업등의 위험방지)\n",
      "- 산업안전보건기준에 관한 규칙 제2장 작업장의 안전기준\n",
      "- 산업안전보건기준에 관한 규칙 제4장 건설작업에 의한 위험예방\n",
      "- 산업안전보건기준에 관한 규칙 제10장 밀폐공간 작업으로 인한 건강장해의 예방\n",
      "\n",
      "○ 기술지침의 적용 및 문의\n",
      "\n",
      "이 기술지침에 대한 의견 또는 문의는 한국산업안전보건공단 홈페이지 안전보건기술지침 소관 분야별 문의처 안내를 참고하시기 바랍니다.\n",
      "\n",
      "공표일자 : 2013년 11월 6일\n",
      "제 정 자 : 한국산업안전보건공단 이사장\n"
     ]
    },
    {
     "name": "stderr",
     "output_type": "stream",
     "text": [
      "INFO:httpx:HTTP Request: POST http://localhost:8000/v1/chat/completions \"HTTP/1.1 200 OK\"\n",
      " 20%|██        | 3/15 [00:29<02:05, 10.49s/it]"
     ]
    },
    {
     "name": "stdout",
     "output_type": "stream",
     "text": [
      "--------------------------------\n",
      "Processed: 중소규모 관로공사의 안전보건작업지침\n",
      "\n",
      "1. 목 적\n",
      "\n",
      "이 지침은 중소규모 관로공사 중 발생할 수 있는 토사 무너짐, 키임, 떨어짐, 부딪힘, 산소결핍, 직업성질병 등의 재해를 예방하기 위하여 준수하여야 할 안전보건작업지침을 정함을 목적으로 한다.\n",
      "\n",
      "2. 적용범위\n",
      "\n",
      "이 지침은 산업안전보건법상 안전관리자가 선임되지 않은 총공사금액 3억원 이상 120억원(토목공사는 150억원)미만인 상·하수도관, 가스관, 전기통신관 등을 지중에 매설하는 중소규모 관로공사에 적용한다.\n",
      "\n",
      "3. 용어의 정의\n",
      "\n",
      "(1) 이 지침에서 사용되는 용어의 뜻은 다음과 같다.\n",
      "\n",
      "가) “관로공사”라 함은 상·하수도관, 가스관, 전기통신관 등을 지중에 매설하는 공사로서 정해진 깊이까지 굴착을 완료하고 관을 설치한 후 되메우기 를 하는 것을 말한다.\n",
      "\n",
      "나) “굴착”라 함은 관로매설공사에서 맨홀 등 지하구조물을 축조하거나 관로 등을 매설하기 위하여 지반을 파는 것을 말한다.\n",
      "\n",
      "다) “흙막이지보공”라 함은 굴착작업에 있어서 토사의 무너짐 또는 토석의 맞음에 의하여 근로자에게 위험을 미칠 우려가 있을 때 굴착면이 무너지지 않도록 설치하는 가시설물을 말한다.\n",
      "\n",
      "라) “굴착면”이라 함은 지반의 굴착에 의하여 생긴 수직 또는 경사면을 말한다.\n"
     ]
    },
    {
     "name": "stderr",
     "output_type": "stream",
     "text": [
      "INFO:httpx:HTTP Request: POST http://localhost:8000/v1/chat/completions \"HTTP/1.1 200 OK\"\n",
      " 27%|██▋       | 4/15 [00:36<01:40,  9.11s/it]"
     ]
    },
    {
     "name": "stdout",
     "output_type": "stream",
     "text": [
      "--------------------------------\n",
      "Processed: (2) 그 밖의 이 지침에서 사용하는 용어의 정의는 이 지침에 특별히 규정하는 경우를 제외하고는 산업안전보건법, 같은 법 시행령, 같은 법 시행규칙, 안전보건규칙 및 고시에서 정하는 바에 따른다.\n",
      "\n",
      "4. 중소규모 관로공사에서 발생하는 중대재해사례\n",
      "\n",
      "중소규모 건설현장의 관로공사에서 발생하였던 대표적인 중대재해 사례는 다음과 같다.\n",
      "\n",
      "(가) 관로 굴착 후 관로 매설작업 중 토사의 무너짐\n",
      "\n",
      "(나) 관거 연결작업을 진행하던 중 기존에 매립된 상하수도관의 파열로 누수가 발생하여 불안정해진 굴착경사면이 무너짐\n",
      "\n",
      "(다) 되메우기 작업을 위해 후진하던 굴삭기(백호우)에 부딪침\n"
     ]
    },
    {
     "name": "stderr",
     "output_type": "stream",
     "text": [
      "INFO:httpx:HTTP Request: POST http://localhost:8000/v1/chat/completions \"HTTP/1.1 200 OK\"\n",
      " 33%|███▎      | 5/15 [00:43<01:22,  8.29s/it]"
     ]
    },
    {
     "name": "stdout",
     "output_type": "stream",
     "text": [
      "--------------------------------\n",
      "Processed: 5. 관로공사의 시공순서\n",
      "\n",
      "지하매설물 조사 → 흉관 등 매설자재 반입 → 인력, 기계 굴착\n",
      "\n",
      "흙막이지보공 설치 → 맨홀 및 관로 부설작업\n",
      "\n",
      "포장복구 → 맨홀 및 관내 청소작업\n",
      "\n",
      "6. 작업전 검토 및 준비사항\n",
      "\n",
      "(1) 각 세부공정별로 위험성평가를 실시하고 관리 대상 위험요인에 대한 재해 예방 대책을 시행하고 작업하여야 한다.\n",
      "\n",
      "(2) 위험성평가를 실시할 때에는 설계서, 현장 및 작업 조건, 투입되는 근로자 및 건설장비 등을 종합적으로 검토하여야 하며 허용할 수 없는 위험요인에 대해서는 위험요인의 제거 또는 위험수준을 낮출 수 있도록 재해 예방 대책을 시행하여야 한다.\n"
     ]
    },
    {
     "name": "stderr",
     "output_type": "stream",
     "text": [
      "INFO:httpx:HTTP Request: POST http://localhost:8000/v1/chat/completions \"HTTP/1.1 200 OK\"\n",
      " 40%|████      | 6/15 [00:55<01:27,  9.76s/it]"
     ]
    },
    {
     "name": "stdout",
     "output_type": "stream",
     "text": [
      "--------------------------------\n",
      "Processed: 책을 수립하여야 한다.\n",
      "\n",
      "(3) 전체 공정에서 안전한 작업이 될 수 있도록 안전작업계획서를 작성하고 시행하여야 하며, 안전작업계획서에는 다음과 같은 사항이 포함되어야 한다.\n",
      "\n",
      "- 작업개요, 공사기간\n",
      "- 자재 반입계획\n",
      "- 인원 투입계획\n",
      "- 장비 투입계획(굴삭기, 이동식크레인, 로울러 등)\n",
      "- 지하매설물도 확인 : 상·하수도관, 가스관, 전기통신관 등\n",
      "- 흙막이지보공 설치계획\n",
      "- 안전 가시설 계획\n",
      "- 차량 통행 계획\n",
      "- 배수계획\n",
      "- 코사 반출 계획\n",
      "- 다짐 작업 계획\n",
      "- 감전재해 방지계획 : 교류아크용접기, 분전반, 전선관리 등\n",
      "- 산소결핍 재해예방계획\n",
      "- 근로자 안전보건관리계획\n",
      "  - 신규채용자교육 등 근로자 교육계획 등\n",
      "  - 근로자 신체검사 실시계획\n",
      "  - 안전보호구 착용방법 및 지급계획\n",
      "\n",
      "(4) 굴착위치에 상·하수도관, 가스관, 전기통신관, 고압케이블 등 기존의 지하매설물이 설치되어 있는지의 여부를 관계기관 지하매설물 현황도를 확인하고 줄파기를 통하여 매설물을 노출시켜야 하며 필요시 이설 또는 보호조치를 하여야 한다. 또한 지상의 장애물에 대한 상황을 조사하여 시공에 차질이 없도록 조치하여야 한다.\n",
      "\n",
      "(5) 굴삭기, 이동식크레인, 차량계 건설기계 등을 현장에 반입할 경우에는 해당 장비이력카드를 확인하여 관련 법령에 의한 정기검사 등 이력을 확인하고, 작업 시작 전에 브레이크, 클러치 및 운전장치의 기능 등을 점검하여야 한다.\n"
     ]
    },
    {
     "name": "stderr",
     "output_type": "stream",
     "text": [
      "INFO:httpx:HTTP Request: POST http://localhost:8000/v1/chat/completions \"HTTP/1.1 200 OK\"\n",
      " 47%|████▋     | 7/15 [01:10<01:30, 11.29s/it]"
     ]
    },
    {
     "name": "stdout",
     "output_type": "stream",
     "text": [
      "--------------------------------\n",
      "Processed: (6) 굴착면의 높이 2m 이상 작업, 랜돌작업, 1톤 이상의 크레인작업 등은 유해·위험공종별 작업지휘자를 지정하고 작업전 특별안전교육을 실시하여야 한다.\n",
      "\n",
      "(7) 안전작업계획서를 활용하여 안전에 만전을 기해야 하며 필요 장소에 안전표지판, 경고등, 차단막 등 안전사고방지를 위한 안전시설물을 설치하여야 한다.\n",
      "\n",
      "(8) 전기 기계·기구의 누전여부, 접지선의 접속 확인, 케이블의 손상여부에 대해 점검을 실시하고, 와이어로프의 이상유무 확인 등 닫기구를 사용하기 전에 점검을 실시하여야 한다.\n",
      "\n",
      "(9) 굴착장소의 장해물, 굴착장도 적치장, 작업구역 내 가설기자재 등의 임시적치상태, 산소결핍과 유해가스의 위험이 있는 장소, 지반의 상태 등 굴착위치를 사전에 확인하여야 한다.\n",
      "\n",
      "(10) 그 밖의 사항은 굴착공사 안전작업 지침(KOSH GUIDE C-39-2011), 지하매설물 굴착공사 안전작업 지침(KOSHA GUIDE C-37-2011), 흙막이공사(지하연속벽) 안전보건작업 지침(KOSHA GUIDE C-72-2012)에 따른다.\n",
      "\n",
      "7. 각 공정별 안전보건작업 기준\n",
      "\n",
      "7.1 지하 매설물 조사\n",
      "\n",
      "(1) 인력 등으로 줄파기를 실시하여 지하 매설물(상·하수도관, 도시가스관, 전력구, 송유관 등)의 위치를 재확인하고 위치표시를 점검하여야 한다.\n",
      "\n",
      "(2) 가스관 등 화재·폭발물의 위험이 있는 경우에는 방호방법을 검토하여야 한다.\n",
      "\n",
      "7.2 흙관 등 중량자재 반입\n",
      "\n",
      "(1) 흙관 등 중량자재의 하역, 운반 시에는 반드시 2줄결어를 실시하고 인양장비를 사용하여 다음과 같이 작업을 실시하여야 한다.\n"
     ]
    },
    {
     "name": "stderr",
     "output_type": "stream",
     "text": [
      "INFO:httpx:HTTP Request: POST http://localhost:8000/v1/chat/completions \"HTTP/1.1 200 OK\"\n",
      " 53%|█████▎    | 8/15 [01:16<01:08,  9.80s/it]"
     ]
    },
    {
     "name": "stdout",
     "output_type": "stream",
     "text": [
      "--------------------------------\n",
      "Processed: (가) 정격하중을 초과하여 인양금지\n",
      "(나) 인양작업시 서서히 감아 올려 지상 약 10cm 지점에서 정지하고 확인(이 경우에 매달린 물체에 접근금지)\n",
      "(다) 와이어로프 등은 크레인의 후크중심에 설치\n",
      "(라) 매다는 각도는 60° 내\n",
      "(마) 인양물체 위에 근로자 탑승금지\n",
      "(바) 와이어로프를 주기적으로 점검하고 불량품을 제거\n",
      "\n",
      "(2) 떨어짐 위험구역 내에는 출입금지 조치를 하고 감시인을 배치하여야 하며, 아래 그림과 같은 사항을 점검하여 조치를 취하여야 한다.\n",
      "\n",
      "<그림 1> 흉관 등 중량자재 반입시 안전점검 항목\n"
     ]
    },
    {
     "name": "stderr",
     "output_type": "stream",
     "text": [
      "INFO:httpx:HTTP Request: POST http://localhost:8000/v1/chat/completions \"HTTP/1.1 200 OK\"\n",
      " 60%|██████    | 9/15 [01:31<01:08, 11.41s/it]"
     ]
    },
    {
     "name": "stdout",
     "output_type": "stream",
     "text": [
      "--------------------------------\n",
      "Processed: (3) 부딪힘, 끼임 등 재해를 예방하기 위하여 흄관, 주철관, PE관 등의 인양 시에는 중량물 작업범위 내에 근로자의 접근을 통제하도록 하여야 한다.\n",
      "\n",
      "(4) 건설기계 및 자재반입 시 준수하여야 할 안전조치사항은 다음과 같다.\n",
      "\n",
      "(가) 하역장비의 적정성 및 운전원 자격 확인\n",
      "(나) 차량별 건설기계 후진경보기 부착\n",
      "(다) 크레인 아웃리거 인출 및 와이어로프 상태, 후크해지장치 부착\n",
      "(라) 장비 유도자 배치 및 신호체계 수립\n",
      "(마) 하역작업 반경 내 근로자 출입통제\n",
      "(바) 자재 적치장소의 안전성 확보\n",
      "\n",
      "(5) 그 밖의 사항은 건설기계 안전보건작업지침(KOSHA GUIDE C-48-2012)에 따른다.\n",
      "\n",
      "7.3 인력굴착\n",
      "\n",
      "(1) 지반의 형상, 지질, 균열, 매설물의 상태 등을 사전 조사하고 굴착시기 및 순서를 정하여야 한다.\n",
      "\n",
      "(2) 관 이음부 작업을 위해 굴착 하부의 단면을 넓히는 경우 역구배를 이루게 되어 이음작업이나 접합작업시 토사 무너짐에 의한 사망재해가 발생되고 있으므로 이음부의 토사붕괴 방지를 위해 굴착구배 확보 또는 흙막 이지보공을 설치하여야 한다.\n",
      "\n",
      "(3) 수분을 많이 포함한 지반의 경우나 뒷채움 지반인 경우 또는 차량이 통행하여 붕괴하기 쉬운 경우에는 반드시 흙막이 지보공을 설치하여야 하고, 설치방법은 흙막이공사 안전보건작업 지침(KOSHA GUIDE C-78-2013, C-72-2012, C-13-2012, C-22-2012)에 따른다.\n",
      "\n",
      "(4) 굴착폭은 작업 및 대피가 용이하도록 충분한 넓이 이상을 확보하여야 하며, 굴착깊이는 1.5m 이상인 경우는 15m 이내마다 1개소 이상 사다리, 계단 등 승강설비를 설치하여야 한다.\n"
     ]
    },
    {
     "name": "stderr",
     "output_type": "stream",
     "text": [
      "INFO:httpx:HTTP Request: POST http://localhost:8000/v1/chat/completions \"HTTP/1.1 200 OK\"\n",
      " 67%|██████▋   | 10/15 [01:38<00:50, 10.10s/it]"
     ]
    },
    {
     "name": "stdout",
     "output_type": "stream",
     "text": [
      "--------------------------------\n",
      "Processed: (5) 작업도중 굴착된 상태로 작업을 종료할 경우에는 방호울, 위험 표지판을 설치하여 제3자의 출입을 금지시켜야 한다.\n",
      "\n",
      "(6) 견고한 지반을 브레이커 등을 이용하여 파쇄하거나 분쇄할 경우에는 진동을 방지할 수 있는 장갑을 착용하도록 하여야 한다.\n",
      "\n",
      "(7) 토사 및 자재 중량물을 굴착선단부에 두지 않아야 하며, 아스팔트나 콘크리트 포장판의 강도를 과신하지 않아야 한다.\n",
      "\n",
      "7.4 기계굴착\n",
      "\n",
      "(1) 굴삭기를 사용하여 토사 반출작업을 하는 때에는 버켓 하부에 근로자가 출입하지 못하도록 안전 헛스를 치는 등 출입금지조치를 실시하여야 하고 안전교육 등을 통해 근로자에게 현장의 위험요인을 사전에 주지시켜야 한다.\n"
     ]
    },
    {
     "name": "stderr",
     "output_type": "stream",
     "text": [
      "INFO:httpx:HTTP Request: POST http://localhost:8000/v1/chat/completions \"HTTP/1.1 200 OK\"\n",
      " 73%|███████▎  | 11/15 [01:54<00:47, 11.79s/it]"
     ]
    },
    {
     "name": "stdout",
     "output_type": "stream",
     "text": [
      "--------------------------------\n",
      "Processed: (2) 작업시작전 사용기계의 취급 사용설명서를 숙지하고 신호방법 및 전달체계를 유도원과 장비운전원이 충분히 인지하고 숙달할 수 있도록 하여야 한다.\n",
      "\n",
      "(3) 굴착선단부에는 굴착토를 적치하지 않으며, 굴착토는 최소 굴착깊이 만큼 이격시키서 적치하도록 하여야 한다.\n",
      "\n",
      "(4) 굴착범위의 하루 작업량을 정하고 계획에 기초하여 굴착토록 하여야 한다.\n",
      "\n",
      "(5) 용수발생시 원인을 조사하고 배수 등의 조치를 취하여야 한다.\n",
      "\n",
      "7.5 조립식 간이 흙막이지보공 설치 및 해체작업\n",
      "\n",
      "(1) 흙막이지보공 조립도를 작성하여 조립도에 의해 작업하여야 하며, 흙막이관은 손상, 변형 및 부식이 없어야 하고 지질에 적합한 재료를 사용토록 하여야 한다. 특히, 세사의 지반에는 쉬트파일(Sheet Pile)과 같이 틈새가 없는 흙막이벽을 형성하도록 하여야 한다.\n",
      "\n",
      "(2) 흙막이관과 버팀대 사이에는 틈이 없고 흙막이관 사이에서 토사가 새지 않도록 하여야 한다.\n",
      "\n",
      "(3) 흙막이관, 버팀대 등은 굴착 즉시 설치하며 흙막이관 뒷면에는 다짐을 철저히 하여 공극이 없어야 하고 누수나 토사의 유출이 없도록 하여야 한다.\n",
      "\n",
      "(4) 버팀대는 작용하는 토압에 충분히 견딜 수 있도록 하여야 하고 압축재의 이음은 맞댄 이음으로 하여야 한다. 또한 버팀대의 접속부 및 교차부는 확실하게 연결조치를 취하도록 하여야 한다.\n",
      "\n",
      "(5) 해체순서를 근로자에게 인지시켜야 하고, 운반작업 중에는 멀어짐 위험구역 내 작업자의 출입을 금지하도록 하여야 한다.\n",
      "\n",
      "(6) 자재, 기구 등을 운반 시에는 달줄이나 달포대를 사용하고 유도원의 신호에 따라 작업을 실시하여야 한다.\n",
      "\n",
      "(7) 그 밖의 사항은 조립식 간이 흙막이지보공 설치·해체방법은 흙막이공사\n"
     ]
    },
    {
     "name": "stderr",
     "output_type": "stream",
     "text": [
      "INFO:httpx:HTTP Request: POST http://localhost:8000/v1/chat/completions \"HTTP/1.1 200 OK\"\n",
      " 80%|████████  | 12/15 [02:02<00:32, 10.79s/it]"
     ]
    },
    {
     "name": "stdout",
     "output_type": "stream",
     "text": [
      "--------------------------------\n",
      "Processed: 7.6 맨홀 설치작업\n",
      "\n",
      "(1) 시공도를 확인하고 맨홀 치수 등을 고려하여 필요한 경우 흙막이지보공을 설치하여야 한다.\n",
      "\n",
      "(2) 기성제품의 맨홀을 인양, 운반시에는 중량물 취급 안전에 적합하도록 인양물 아래에는 출입금지조치, 신호수 배치, 달기구 점검 등의 안전조치를 하여야 한다.\n",
      "\n",
      "(3) 보행자 추락방지를 위하여 공사구간에는 방책을 설치하여야 한다.\n",
      "\n",
      "7.7 관로 부설작업\n",
      "\n",
      "(1) 트렌치 굴착 바닥 정지작업시 굴착면의 붕괴위험 요소를 사전에 점검하고, 굴착면 선단부에는 관을 적재하지 않도록 하여야 한다.\n",
      "\n",
      "(2) 관을 들어올리고 내려놓을 때에는 작업자가 아래로 출입하지 않도록 하여야 한다.\n",
      "\n",
      "(3) 관 연결작업시 손 껍질을 방지하기 위해서 관을 로우프로 잡고 있는 상태에서 시공하도록 하여야 한다.\n",
      "\n",
      "(4) 버킷 굴삭기를 크레인 대용으로 사용하지 않도록 하여야 한다.\n"
     ]
    },
    {
     "name": "stderr",
     "output_type": "stream",
     "text": [
      "INFO:httpx:HTTP Request: POST http://localhost:8000/v1/chat/completions \"HTTP/1.1 200 OK\"\n",
      " 87%|████████▋ | 13/15 [02:08<00:18,  9.17s/it]"
     ]
    },
    {
     "name": "stdout",
     "output_type": "stream",
     "text": [
      "--------------------------------\n",
      "Processed: 7.8 포장 복구작업\n",
      "\n",
      "(1) 복구작업 시 장비 넘어짐, 부딪힘 등의 재해를 예방하기 위하여 다짐 및 포장장비의 운행경로 등 포장 복구작업에 대한 작업계획과 교통처리 계획을 수립하여 작업을 실시하도록 하여야 한다.\n",
      "\n",
      "(2) 다짐기계인 로울러를 운전할 때에는 후진주행시 후진경보기 및 후사경 등을 설치하여 부딪힘, 깨임 등의 재해를 예방하도록 하여야 한다.\n",
      "\n",
      "(3) 건설기계를 사용하는 작업구역에는 근로자 및 일반인이 출입하지 않도록\n"
     ]
    },
    {
     "name": "stderr",
     "output_type": "stream",
     "text": [
      "INFO:httpx:HTTP Request: POST http://localhost:8000/v1/chat/completions \"HTTP/1.1 200 OK\"\n",
      " 93%|█████████▎| 14/15 [02:12<00:07,  7.73s/it]"
     ]
    },
    {
     "name": "stdout",
     "output_type": "stream",
     "text": [
      "--------------------------------\n",
      "Processed: 통제하여야 하고, 유도자를 배치하도록 하여야 한다.\n",
      "\n",
      "(4) 복구작업 시 고열의 아스팔트 취급 시에는 주의하도록 하여야 하고, 개인보호구 착용 상태를 확인하여야 한다.\n",
      "\n",
      "(5) 그 밖의 사항은 건설기계 안전보건작업지침(KOSHA GUIDE C-48-2012)에 따른다.\n",
      "\n",
      "<그림 4> 포장 복구작업시 안전점검 항목\n"
     ]
    },
    {
     "name": "stderr",
     "output_type": "stream",
     "text": [
      "INFO:httpx:HTTP Request: POST http://localhost:8000/v1/chat/completions \"HTTP/1.1 200 OK\"\n",
      "100%|██████████| 15/15 [02:24<00:00,  9.61s/it]\n"
     ]
    },
    {
     "name": "stdout",
     "output_type": "stream",
     "text": [
      "--------------------------------\n",
      "Processed: 7.9 맨홀 및 관내 청소작업\n",
      "\n",
      "(1) 작업 전 산소농도(18% 이상)를 측정하고 유해공기의 농도가 기준농도를 넘어가지 않도록 환기설비를 설치하여 충분한 환기를 실시하여야 한다. 또한, 작업장소에서 메탄가스, 황화수소 등의 가스가 발생할 가능성이 있을 경우에는 계속 환기를 실시하고 출입하지 않아야 한다.\n",
      "\n",
      "(2) 맨홀 내에서는 엔진양수기의 사용을 금하도록 하여야 하고 맨홀 내부로 침수방지조치를 하여야 한다.\n",
      "\n",
      "(3) 수중양수기는 사용 전에 절연저항 측정, 접지상태 확인, 누전차단기 설치 여부 등을 확인하도록 하여야 한다. 또한, 수중양수기 인양로프는 마닐라로프로 사용하도록 하여야 한다.\n",
      "\n",
      "(4) 맨홀공간 내에서 응급사태 발생 시에는 외부에 환기설비를 설치하고 환기를 실시하여야 한다.\n",
      "\n",
      "- 구조요청(환기 전 투입금지) 및 환기실시 → 구조장비활용 구조 → 인공호흡 → 의료처치 → 사고장소 폐쇄(2차 재해방지)\n",
      "\n",
      "(5) 재해자 구조시에는 반드시 공기호흡기, 송기마스크 등 호흡용 보호구를 착용한 후 밀폐공간 내로 들어가도록 하여야 한다.\n",
      "\n",
      "(6) 그 밖의 사항은 밀폐공간의 방수공사 안전보건작업 지침((KOSHA GUIDE C-14-2012)에 따른다.\n",
      "---End---\n",
      "Processing 해체공사 안전보건작업 기술지침\n"
     ]
    },
    {
     "name": "stderr",
     "output_type": "stream",
     "text": [
      "  0%|          | 0/25 [00:00<?, ?it/s]INFO:httpx:HTTP Request: POST http://localhost:8000/v1/chat/completions \"HTTP/1.1 200 OK\"\n",
      "  4%|▍         | 1/25 [00:03<01:31,  3.80s/it]"
     ]
    },
    {
     "name": "stdout",
     "output_type": "stream",
     "text": [
      "--------------------------------\n",
      "Processed: 해체공사 안전보건작업 기술지침\n",
      "\n",
      "2023. 8.\n",
      "\n",
      "한국 산업안전보건공단\n",
      "\n",
      "안전보건기술지침은 산업안전보건기준에 관한 규칙 등 산업안전보건법령의 요구사항을 이행하는데 참고하거나 사업장 안전·보건 수준향상에 필요한 기술적 권고 지침임\n"
     ]
    },
    {
     "name": "stderr",
     "output_type": "stream",
     "text": [
      "INFO:httpx:HTTP Request: POST http://localhost:8000/v1/chat/completions \"HTTP/1.1 200 OK\"\n",
      "  8%|▊         | 2/25 [00:17<03:41,  9.63s/it]"
     ]
    },
    {
     "name": "stdout",
     "output_type": "stream",
     "text": [
      "--------------------------------\n",
      "Processed: 안전보건기술지침의 개요\n",
      "\n",
      "○ 작성자 : 김정국\n",
      "○ 개정자 : 한국산업안전보건공단 건설안전실 박주호\n",
      "\n",
      "○ 제・개정경과\n",
      "- 1998년 10월 건설안전 제정위원회 심의\n",
      "- 1998년 11월 총괄 제정위원회 심의\n",
      "- 2003년 10월 건설분야 제정위원회 심의\n",
      "- 2003년 12월 총괄 제정위원회 심의\n",
      "- 2012년 7월 건설안전분야 제정위원회 심의(개정)\n",
      "- 2017년 10월 건설안전분야 제정위원회 심의(개정)\n",
      "- 2023년 7월 건설안전분야 표준제정위원회 심의(개정)\n",
      "\n",
      "○ 관련규격 및 자료\n",
      "- 바우슈타인(독일)\n",
      "- 구조물 해체작업 안전지침(일본)\n",
      "\n",
      "○ 관련법규・규칙・고시 등\n",
      "- 산업안전보건법 제28조(안전조치)\n",
      "- 산업안전보건기준에 관한 규칙 제38조(사전조사 및 작업계획서의 작성 등) 1항 10호\n",
      "- 고용노동부고시 제2020-11호(해체공사 표준안전 작업지침)\n",
      "- 고용노동부고시 제2023-19호(사업장 위험성평가에 관한 지침)\n",
      "\n",
      "○ 안전보건기술지침의 적용 및 문의\n",
      "- 이 기술지침에 대한 의견 또는 문의는 한국산업안전보건공단 홈페이지 (www.kosha.or.kr) 안전보건기술지침 소관 분야별 문의처 안내를 참고하시기 바랍니다.\n",
      "- 동 지침 내에서 인용된 관련규격 및 자료, 법규 등에 관하여 최근 개정본이 있을 경우에는 해당 개정본의 내용을 참고하시기 바랍니다.\n",
      "\n",
      "공표일자 : 2023년 8월 24일\n",
      "제 정 자 : 한국산업안전보건공단 이사장\n"
     ]
    },
    {
     "name": "stderr",
     "output_type": "stream",
     "text": [
      "INFO:httpx:HTTP Request: POST http://localhost:8000/v1/chat/completions \"HTTP/1.1 200 OK\"\n",
      " 12%|█▏        | 3/25 [00:32<04:24, 12.02s/it]"
     ]
    },
    {
     "name": "stdout",
     "output_type": "stream",
     "text": [
      "--------------------------------\n",
      "Processed: 목 차\n",
      "\n",
      "1. 목적 ................................................................. 1\n",
      "2. 적용범위 .......................................................... 1\n",
      "3. 용어의 정의 ..................................................... 1\n",
      "4. 해체공사전 확인사항 ........................................... 2\n",
      "   4.1 해체대상 구조물의 조사 ................................... 2\n",
      "   4.2 부지상황 조사 ................................................ 3\n",
      "5. 해체공사 안전작업 ............................................... 4\n",
      "   5.1 안전일반 ..................................................... 4\n",
      "   5.2 해체공법별 안전작업 ....................................... 7\n",
      "      5.2.1 압쇄기에 의한 해체작업 ................................ 7\n",
      "      5.2.2 대형 브레이커에 의한 해체작업 ...................... 8\n",
      "      5.2.3 철제해머에 의한 방법 .................................. 9\n",
      "      5.2.4 핸드 브레이커에 의한 해체작업 ..................... 9\n",
      "      5.2.5 팽창제에 의한 해체작업 ............................... 10\n",
      "      5.2.6 절단줄에 의한 해체작업 ............................. 11\n",
      "      5.2.7 하이드로잭(Hydro jack)에 의한 해체작업 .......... 11\n",
      "      5.2.8 쐐기 타입기에 의한 해체작업 ........................ 12\n",
      "      5.2.9 화염방사기에 의한 해체작업 .......................... 13\n",
      "      5.2.10 절단줄톱에 의한 해체작업 ......................... 13\n",
      "      5.2.11 압쇄공법과 대형 브레이커 공법 병용 .............. 14\n",
      "      5.2.12 대형브레이커 공법과 전도공법 병용 ............. 15\n",
      "      5.2.13 강구공법과 전도공법 병용 .......................... 17\n",
      "      5.2.14 발과 해체작업 ....................................... 19\n",
      "   6. 해체작업에 따른 공해방지 .................................. 20\n",
      "      6.1 소음 및 진동 ............................................... 20\n",
      "      6.2 분진 ....................................................... 20\n",
      "      6.3 지반침하 ................................................ 20\n",
      "      6.4 폐기물 ................................................... 21\n"
     ]
    },
    {
     "name": "stderr",
     "output_type": "stream",
     "text": [
      "INFO:httpx:HTTP Request: POST http://localhost:8000/v1/chat/completions \"HTTP/1.1 200 OK\"\n",
      " 16%|█▌        | 4/25 [00:44<04:09, 11.90s/it]"
     ]
    },
    {
     "name": "stdout",
     "output_type": "stream",
     "text": [
      "--------------------------------\n",
      "Processed: 해체공사 안전보건작업 기술지침\n",
      "\n",
      "1. 목적\n",
      "\n",
      "이 지침은 해체공사 작업과정에서 발생하는 산업재해를 예방하기 위하여 구조물 해체 작업용 기계·기구, 안전보건작업방법 등에 대한 기술지침을 정함을 목적으로 한다.\n",
      "\n",
      "2. 적용범위\n",
      "\n",
      "이 지침은 해체공사 시 작업용 기계·기구 및 물질 등을 이용하여 구조물을 해체 하는 건설공사에 대하여 적용한다.\n",
      "\n",
      "3. 용어의 정의\n",
      "\n",
      "(1) 이 지침에서 사용하는 용어의 정의는 다음과 같다.\n",
      "\n",
      "(가) “브레이커”라 함은 압축공기 또는 유압에 의한 급격한 충격력으로 구조물을 파쇄할 때 사용하는 기구로 통상 쇼벨계 건설기계에 설치하여 사용한다.\n",
      "\n",
      "(나) “강구”라 함은 쇼봉식 크레인 등에 부착하여 구조물을 충격을 주어 파쇄 하는 기구를 말한다.\n",
      "\n",
      "(다) “화약류”란 화약, 폭약 및 화공품으로, 「총포·도검·화약류 등의 안전관리에 관한 법률」(이하 「총포화약법」이라 한다) 제2조제3항에 따른 화약류를 말한다.\n",
      "\n",
      "(라) “팽창제”라 함은 광물의 수화반응에 의한 팽창압을 이용하여 구조체 등을 파괴할 때 사용하는 물질을 말한다.\n",
      "\n",
      "(마) “절단톱”이라 함은 회전날 끝에 다이아몬드 입자를 혼합, 경화하여 제조된 것으로 기둥, 보, 바닥, 벽체를 적당한 크기로 절단하는 기구를 말한다.\n"
     ]
    },
    {
     "name": "stderr",
     "output_type": "stream",
     "text": [
      "INFO:httpx:HTTP Request: POST http://localhost:8000/v1/chat/completions \"HTTP/1.1 200 OK\"\n",
      " 20%|██        | 5/25 [00:59<04:19, 13.00s/it]"
     ]
    },
    {
     "name": "stdout",
     "output_type": "stream",
     "text": [
      "--------------------------------\n",
      "Processed: (바) “하이드로잭(Hydro jack)”이라 함은 구조물의 국소부에 압력을 가해 해체할 때 사용하는 것으로 구조물의 부재 사이에 설치하는 기구를 말한다.\n",
      "\n",
      "(사) “.False Name 기”라 함은 직경 30 내지 40mm 정도의 구멍 속에 췌기류 박아 넣어 구멍을 확대하여 구조체를 해체할 때 사용하는 기구를 말한다.\n",
      "\n",
      "(아) “화염방사기”라 함은 구조체를 고온으로 용융시키면서 구조체를 해체할 때 사용하는 기구를 말한다.\n",
      "\n",
      "(자) “절단줄톱”이라 함은 와이어에 다이아몬드 절삭날을 부착하여 고속회전 시켜 구조체를 절단, 해체할 때 사용하는 기구를 말한다.\n",
      "\n",
      "(차) “사전 취약화(Preweakening)”란 발파해체 시 대상 구조물의 붕괴 및 전도를 계획대로 유도하기 위해 구조물 일부를 파쇄하는 등 임의로 취약화하는 것을 말한다.\n",
      "\n",
      "(2) 그 밖의 이 지침에서 사용하는 용어의 정의는 이 지침에 특별한 규정이 없는 경우를 제외하고는 산업안전보건법, 같은 법 시행령, 시행규칙, 안전보건규칙 및 관련 고시에서 정하는 바에 의한다.\n",
      "\n",
      "4. 해체공사 전 확인사항\n",
      "\n",
      "4.1 해체대상 구조물의 조사\n",
      "\n",
      "(1) 해체대상 구조물의 특성 파악을 위한 설계도서, 공사기록, 유지관리 서류 등 관련자료 입수(입수가 곤란한 때에는 구조도, 마감도 등의 도면 작성)\n",
      "\n",
      "(2) 대상 구조물의 구조, 마감상태, 노후정도 등을 파악하기 위한 현장조사 및 기록\n",
      "\n",
      "(가) 구조(철근콘크리트, 철골철근콘크리트조 등)의 특성, 치수, 층수, 건물높이, 기준층 면적, 연면적 등\n",
      "\n",
      "(나) 평면 구성 상태, 폭, 층고, 벽 등의 배치상태\n",
      "\n",
      "(다) 부재별 치수, 배근상태, 해체 시 주의하여야 할 구조적으로 약한 부분\n"
     ]
    },
    {
     "name": "stderr",
     "output_type": "stream",
     "text": [
      "INFO:httpx:HTTP Request: POST http://localhost:8000/v1/chat/completions \"HTTP/1.1 200 OK\"\n",
      " 24%|██▍       | 6/25 [01:10<03:58, 12.53s/it]"
     ]
    },
    {
     "name": "stdout",
     "output_type": "stream",
     "text": [
      "--------------------------------\n",
      "Processed: (라) 해체 시 떨어지거나 넘어질 우려가 있는 내·외장재의 유무\n",
      "\n",
      "(마) 설비기구, 전기배선, 배관설비 계통의 상세 확인\n",
      "\n",
      "(바) 구조물의 건립연도 및 사용목적\n",
      "\n",
      "(사) 구조물의 노후정도, 화재 및 동해의 유무\n",
      "\n",
      "(아) 증설, 개축, 보강 등의 구조변경 현황\n",
      "\n",
      "(자) 밀폐구조(이중슬래브 등)와 피트 등의 내부 침전물 및 유해·위험 가스·증기 유무\n",
      "\n",
      "(차) 화재·폭발·누출 우려가 있는 잔재 위험물, 가연물 등의 사전확인\n",
      "\n",
      "(3) 해체공법의 특성에 의한 낙하물의 비산각도, 낙하범위 등의 사전확인\n",
      "\n",
      "(4) 진동, 소음, 분진의 예상치 측정 및 대책\n",
      "\n",
      "(5) 해체물의 집적, 운반방법\n",
      "\n",
      "(6) 재이용 또는 이설을 요하는 부재현황\n",
      "\n",
      "(7) 주변 구조물 또는 시설물에 근접하여 대상 구조물을 해체할 때에는 인접구조물 등의 구조, 설비 등에 대한 상태 조사\n",
      "\n",
      "(8) 건축물이나 설비, 자재 등에 석면 함유 유무\n",
      "\n",
      "(9) 기타 당해 구조물 특성에 따른 내용 및 조건\n",
      "\n",
      "4.2 부지상황 조사\n",
      "\n",
      "(1) 부지 내 공지유무, 해체용 기계설비의 위치, 해체물 임시 보관장소\n",
      "\n",
      "(2) 해체공사 착수에 앞서 철거, 이설, 보호해야 할 필요가 있는 공사장애물 현황\n"
     ]
    },
    {
     "name": "stderr",
     "output_type": "stream",
     "text": [
      "INFO:httpx:HTTP Request: POST http://localhost:8000/v1/chat/completions \"HTTP/1.1 200 OK\"\n",
      " 28%|██▊       | 7/25 [01:23<03:47, 12.64s/it]"
     ]
    },
    {
     "name": "stdout",
     "output_type": "stream",
     "text": [
      "--------------------------------\n",
      "Processed: (3) 접속도로의 폭, 출입구 갯수와 매설물의 종류 및 위치\n",
      "\n",
      "(4) 인근 건물동수 및 거주자 현황\n",
      "\n",
      "(5) 도로 상황조사, 가공 고압선 유무\n",
      "\n",
      "(6) 차량대기 장소, 유무 및 교통량(통행인 포함)\n",
      "\n",
      "(7) 진동, 소음, 분진발생 영향권 조사\n",
      "\n",
      "5. 해체공사 안전작업\n",
      "\n",
      "5.1 안전일반\n",
      "\n",
      "해체공사는 해체 대상물 조건에 따라 여러 가지 방법을 병용하게 되므로 작업계획 수립 시 유해·위험요인 파악 및 관리·개선 등의 필요한 조치를 위한 위험성 평가를 실시하여야 하며, 다음 각 호의 사항을 준수하여야 한다.\n",
      "\n",
      "(1) 구조물을 해체할 때는 해체물이 날아오거나 예상치 않은 구조물의 넘어짐 등의 위험이 없도록 작업 시 주의하여야 하며, 작업구역 내와 해체물의 맞음 등이 예상되는 위험지역에는 작업 관계자 이외의 자에 대하여 출입을 금지하여야 한다.\n",
      "\n",
      "(2) 강풍, 폭우, 폭설 등 악천후 시에는 작업을 중지하여야 한다.\n",
      "\n",
      "(3) 중기를 구조물에 옮기거나 해체한 중량물을 내리는 등의 작업 시 사전에 작업 장소·조건 조사, 양중기 선정 및 작업방법 결정 등 양중작업 안전성을 확인하여야 하며, 소형 기계·기구 등을 인양하거나 내릴 때에는 그물망이나 그물포대 등을 사용하도록 하여야 한다.\n",
      "\n",
      "(4) 외벽, 기둥 등을 무너뜨리는 작업을 할 경우에는 <그림 1> 해체작업의 예와 같이 전도 위치와 파편 비산거리 등을 예측하여 작업 반경을 설정하여야 한다.\n",
      "\n",
      "(5) 무너뜨리는 작업을 할 때에는 작업자 이외에는 모두 대피시키는 뒤 작업을 하여야 한다.\n"
     ]
    },
    {
     "name": "stderr",
     "output_type": "stream",
     "text": [
      "INFO:httpx:HTTP Request: POST http://localhost:8000/v1/chat/completions \"HTTP/1.1 200 OK\"\n",
      " 32%|███▏      | 8/25 [01:32<03:15, 11.49s/it]"
     ]
    },
    {
     "name": "stdout",
     "output_type": "stream",
     "text": [
      "--------------------------------\n",
      "Processed: (6) 해체구조물 외곽에 방호용 울타리를 설치하고 해체물의 넘어짐, 떨어짐 등에 대비하여 안전거리를 유지하여야 한다.\n",
      "\n",
      "(7) 파쇄공법의 특성에 따라 방진벽, 비산차단벽 및 분진억제 살수시설을 설치하여야 한다.\n",
      "\n",
      "(8) 작업자가 작업방법, 작업순서, 상호간 연락방법 및 신호기기 사용법 등을 숙지하도록 사전에 교육을 실시하고, 건설기계, 양중 등의 작업 장소에는 넘어지거나 부딪치는 등의 위험이 없도록 유도자나 신호업무를 수행하는 자를 배치하여야 한다.\n",
      "\n",
      "(9) 떨어질 위험이 있는 장소에서 작업할 때에는 안전대부착설비를 설치하고 항상 안전대를 걸고 작업 또는 이동하여야 한다.\n",
      "\n",
      "(10) 중기 투입 시 지반 등에 대한 조사결과를 반영하여 사전에 지반 지지력 확인, 안전한 운행경로 확보 등 필요한 조치를 하여야 한다.\n",
      "\n",
      "(11) 중기 운전자는 경험이 풍부하고 작업에 적합한 자격 소유자이어야 한다.\n",
      "\n",
      "<그림 1> 해체작업의 예(큰 장비로 하는 해체)\n"
     ]
    },
    {
     "name": "stderr",
     "output_type": "stream",
     "text": [
      "INFO:httpx:HTTP Request: POST http://localhost:8000/v1/chat/completions \"HTTP/1.1 200 OK\"\n",
      " 36%|███▌      | 9/25 [01:49<03:31, 13.20s/it]"
     ]
    },
    {
     "name": "stdout",
     "output_type": "stream",
     "text": [
      "--------------------------------\n",
      "Processed: (12) 중기를 사용한 해체작업 중 발생되는 분진의 비산을 막기 위해 살수한 경우에는 살수 작업자와 중기 운전자가 서로 상황을 확인하여야 한다.\n",
      "\n",
      "(13) 쇼벨계 건설기에는 해체물 비산 등에 의한 전면창 파손을 방지하기 위해 방호판 설치 등 필요한 조치를 하여야 한다.\n",
      "\n",
      "(14) 철근 용단 등의 작업을 위해 화기를 사용할 경우에는 용접방화포 등 불꽃, 불터 등의 비산방지조치를 하여야 한다.\n",
      "\n",
      "(15) 해체 구조물 구조규격, 노후정도 등의 조사결과를 반영하여 사전에 중기, 해체작업 시 발생 폐기물 등으로 인한 작업 및 충격하중, 적재하중 등에 대한 구조적 안전성을 확인하고 임시 버팀 설치 등 보강조치를 하여야 한다.\n",
      "\n",
      "(16) 중기 이동용 램프 조성 등 중기가 해체물을 깔고 옮가 작업 또는 이동하는 상황이 발생할 때에는 중기의 사고가 발생하지 않도록 사전에 구조 안전성을 확인하고 보강조치를 하여야 한다.\n",
      "\n",
      "(17) 파쇄작업은 상층에서 하층 방향으로 슬래브, 보, 벽체, 기둥의 순으로 하는 등 구조물 구조특성을 고려하여 무너짐, 넘어짐 등의 위험이 없는 순서로 작업하여야 한다.\n",
      "\n",
      "(18) 절단 등의 방법으로 블록 단위로 구조물을 해체하여 들어낼 때에는 넘어짐, 맞음 등의 위험이 없도록 사전에 작업순서 결정 및 걸이설비, 양중작업 등의 안전성을 검토하여야 한다.\n",
      "\n",
      "(19) 흙에 접한 구조물을 흙막이 지보공 부재로 활용할 경우에는 토압에 대한 지지력 검토 등 해체 대상 구조물 또는 인접 시설물의 무너짐, 중기 넘어짐 등의 위험이 없도록 안전성을 확인하여야 한다.\n",
      "\n",
      "(20) 해체 구조물 내·외부의 화재, 폭발, 중독 등의 유해·위험물질은 산업안전 보건법, 대기환경보전법, 폐기물관리법 등의 관계 법령에 따른 기준을 준수하여 사전에 제거 또는 격리하는 등의 조치를 하여야 한다.\n",
      "\n",
      "(21) 구조물을 부분 해체 또는 주변 구조물 또는 시설물에 근접하여 해체할 때에는 구조물의 남은 부분 또는 인접 구조물 등이 해체공사 진동, 충격 등에 안전하도록 사전에 구조보강, 보호시설 설치 등의 필요한 조치를 하여야 한다.\n"
     ]
    },
    {
     "name": "stderr",
     "output_type": "stream",
     "text": [
      "INFO:httpx:HTTP Request: POST http://localhost:8000/v1/chat/completions \"HTTP/1.1 200 OK\"\n",
      " 40%|████      | 10/25 [02:02<03:15, 13.01s/it]"
     ]
    },
    {
     "name": "stdout",
     "output_type": "stream",
     "text": [
      "--------------------------------\n",
      "Processed: (22) 외벽을 해체할 때에는 비계 등의 가시설물 철거 작업자와 서로 긴밀히 연락 하여야 하며, 벽과 연결된 비계 등 가시설물은 외벽해체 직전에 철거하여야 한다.\n",
      "\n",
      "(23) 적정한 위치에 대피소를 설치하여야 한다.\n",
      "\n",
      "5.2 해체공법별 안전작업\n",
      "\n",
      "해체작업 시에는 해체공법 특성과 이 지침의 “4. 해체공사 전 확인사항” 및 “5.1 안전일반”에 따른 작업계획서를 사전에 작성하고 준수하여야 한다.\n",
      "\n",
      "5.2.1 압쇄기에 의한 해체작업\n",
      "\n",
      "유압식 파워쇼벨에 압쇄기를 부착하여 콘크리트 등에 강력한 압축력을 가해 파쇄하는 것으로 다음 각 호의 사항을 준수하여야 한다.\n",
      "\n",
      "(1) 압쇄기의 중량, 작업충격을 사전에 고려하고, 차체 지지력을 초과하는 중량의 압쇄기 부착을 금지하여야 한다.\n",
      "\n",
      "(2) 압쇄기 부착과 제거에는 경험이 많은 자를 선임하여 작업을 하여야 한다.\n",
      "\n",
      "(3) 압쇄기 연결구조부는 윤활유를 칠해주는 등 보수점검을 수시로 하여야 한다.\n",
      "\n",
      "(4) 배관 접속부의 핀, 볼트 등 연결구조부의 안전 여부를 점검하여야 한다.\n",
      "\n",
      "(5) 압쇄기의 날은 마모가 심하기 때문에 적기에 교환하여야 한다.\n",
      "\n",
      "(6) 이 작업은 대형 압쇄기를 사용하는 경우가 많으므로 사전에 압쇄기가 설치 되는 지반 또는 구조물 슬래브에 대한 안전성을 확인하고, 위험이 예상되는 경우 침하로 인한 중기의 넘어짐 방지 또는 무너짐 위험요인을 사전에 제거 토록 조치하여야 한다.\n"
     ]
    },
    {
     "name": "stderr",
     "output_type": "stream",
     "text": [
      "INFO:httpx:HTTP Request: POST http://localhost:8000/v1/chat/completions \"HTTP/1.1 200 OK\"\n",
      " 44%|████▍     | 11/25 [02:07<02:28, 10.60s/it]"
     ]
    },
    {
     "name": "stdout",
     "output_type": "stream",
     "text": [
      "--------------------------------\n",
      "Processed: 5.2.2 대형 브레이커에 의한 해체작업\n",
      "\n",
      "보통 쇼벨계열 건설기계에 대형 브레이커를 부착하여 구조물에 충격을 주어 파쇄하는 것으로 다음 각 호의 사항을 준수하여야 한다.\n",
      "\n",
      "(1) 대형 브레이커는 중량, 작업 충격력을 고려하여 차체 지지력을 초과하는 중량의 브레이커 부착은 금지하여야 한다.\n",
      "\n",
      "(2) 대형 브레이커의 부착과 해체에는 경험이 많은 자를 선임하여 작업을 하여야 한다.\n"
     ]
    },
    {
     "name": "stderr",
     "output_type": "stream",
     "text": [
      "INFO:httpx:HTTP Request: POST http://localhost:8000/v1/chat/completions \"HTTP/1.1 200 OK\"\n",
      " 48%|████▊     | 12/25 [02:18<02:22, 10.95s/it]"
     ]
    },
    {
     "name": "stdout",
     "output_type": "stream",
     "text": [
      "--------------------------------\n",
      "Processed: 유압 작동구조, 연결구조 등의 주요 구조는 보수점검을 수시로 하여야 한다.\n",
      "\n",
      "유압식의 경우에는 유압이 높기 때문에 수시로 유압호스가 새거나 막힌 것이 없는가를 점검하여야 한다.\n",
      "\n",
      "해체대상물에 따라 적합한 형상의 브레이커를 사용하여야 한다.\n",
      "\n",
      "해체대상물에 따라 적합한 형상의 브레이커를 사용하여야 한다.\n",
      "\n",
      "<그림 5> 대형 브레이커의 장착도 예\n",
      "\n",
      "5.2.3 철제해머에 의한 방법\n",
      "\n",
      "1톤 전후의 해머를 크롤리크레인 등에 부착하여 구조물에 충격을 주어 파쇄하는 것으로 다음 각 호의 사항을 준수하여야 한다.\n",
      "\n",
      "(1) 강구는 해체대상물에 적합한 형상과 중량의 것을 선정하여야 한다.\n",
      "\n",
      "(2) 강구는 중량과 작업반경을 고려하여 차체의 붐, 후레임 및 차체 지지력을 초과하지 않도록 설치하여야 한다.\n",
      "\n",
      "(3) 강구를 매단 와이어로프의 종류와 직경 등은 적절한 것을 사용하여야 한다.\n",
      "\n",
      "(4) 강구와 와이어로프의 결속은 경험이 많은 자를 선임하여 작업을 하여야 한다.\n",
      "\n",
      "(5) 킹크, 소선절단, 단면이 감소된 와이어로프는 즉시 교체하여야 하며 결속부는 사용전후 항상 점검하여야 한다.\n",
      "\n",
      "5.2.4 핸드 브레이커에 의한 해체작업\n",
      "\n",
      "압축공기, 유압의 급속한 충격력으로 콘크리트 등을 해체할 때 사용하는 것으로 다음 각 호의 사항을 준수하여야 한다.\n"
     ]
    },
    {
     "name": "stderr",
     "output_type": "stream",
     "text": [
      "INFO:httpx:HTTP Request: POST http://localhost:8000/v1/chat/completions \"HTTP/1.1 200 OK\"\n",
      " 52%|█████▏    | 13/25 [02:29<02:09, 10.82s/it]"
     ]
    },
    {
     "name": "stdout",
     "output_type": "stream",
     "text": [
      "--------------------------------\n",
      "Processed: (1) 브레이커 끌의 부러짐을 방지하기 위하여 작업자세는 하향 수직 방향으로 유지하도록 하여야 한다.\n",
      "\n",
      "(2) 작업자는 기계를 항상 점검하고, 호스의 꼬임·교차 및 손상 여부를 점검하여야 한다.\n",
      "\n",
      "(3) 핸드 브레이커는 중량이 245~392N(25~40kgf)으로 무겁기 때문에 작업자가 안전하게 작업할 수 있도록 지반을 잘 정리하여야 한다.\n",
      "\n",
      "5.2.5 팽창제에 의한 해체작업\n",
      "\n",
      "광물의 수화반응에 의한 팽창압을 이용하여 파괴하는 것으로 다음 각 호의 사항을 준수하여야 한다.\n",
      "\n",
      "(1) 팽창제와 물과의 혼합비율 및 시방을 확인하여야 한다.\n",
      "\n",
      "(2) 천공직경이 너무 작거나 크면 팽창력이 작아 비효율적이므로, 천공직경은 30 ~ 50mm 정도를 유지하여야 한다.\n",
      "\n",
      "(3) 천공간격은 콘크리트 강도에 의하여 결정되나 30 ~ 70cm 정도를 유지하도록 한다.\n",
      "\n",
      "(4) 팽창제를 저장하는 경우에는 건조한 장소에 보관하되 직접 바닥에 두지 말고 습기를 피하여야 한다.\n",
      "\n",
      "(5) 팽창제는 개봉 즉시 사용하여야 하며 쓰다 남은 팽창제의 처리에 유의하여야 한다.\n",
      "\n",
      "<그림 6> 핸드 브레이커의 예\n"
     ]
    },
    {
     "name": "stderr",
     "output_type": "stream",
     "text": [
      "INFO:httpx:HTTP Request: POST http://localhost:8000/v1/chat/completions \"HTTP/1.1 200 OK\"\n",
      " 56%|█████▌    | 14/25 [02:40<01:58, 10.77s/it]"
     ]
    },
    {
     "name": "stdout",
     "output_type": "stream",
     "text": [
      "--------------------------------\n",
      "Processed: 5.2.6 절단톱에 의한 해체작업\n",
      "\n",
      "다이몬드 날로 된 둥근톱으로서 기둥, 보, 바닥, 벽체를 적당한 크기로 절단하여 현장 밖으로 반출하는 것으로 다음 각 호의 사항을 준수하여야 한다.\n",
      "\n",
      "(1) 작업현장은 정리정돈이 잘 되어야 한다.\n",
      "\n",
      "(2) 절단기에 사용되는 전기 및 급·배수설비를 수시로 정비·점검하여야 한다.\n",
      "\n",
      "(3) 회전톱날에는 접촉방지 커버를 부착하여야 한다.\n",
      "\n",
      "(4) 회전톱날의 조임 상태는 안전한지를 작업 전에 점검하여야 한다.\n",
      "\n",
      "(5) 절단 중 회전톱날을 냉각시키는 냉각수는 충분한지 점검하고 불꽃이 많이 비산되거나 수증기가 등이 발생되면 과열의 위험이 있으므로 절단력을 약하게 하거나 작업을 일시 중단한 뒤 다시 작업을 실시하여야 한다.\n",
      "\n",
      "(6) 절단 진행방향은 직선으로 하고 지향이 큰 자재는 최소단면으로 절단하여야 한다.\n",
      "\n",
      "(7) 절단기는 사용 전·후 점검하고 정비해 두어야 한다.\n",
      "\n",
      "5.2.7 하이드로잭(Hydro jack)에 의한 해체작업\n",
      "\n",
      "구조물의 부재 사이에 하이드로잭(Hydro jack, 일명 재키)를 설치한 후 국소부에 압력을 가해 해체할 때 사용하는 것으로 다음 각 호의 사항을 준수하여야 한다.\n"
     ]
    },
    {
     "name": "stderr",
     "output_type": "stream",
     "text": [
      "INFO:httpx:HTTP Request: POST http://localhost:8000/v1/chat/completions \"HTTP/1.1 200 OK\"\n",
      " 60%|██████    | 15/25 [02:51<01:49, 10.94s/it]"
     ]
    },
    {
     "name": "stdout",
     "output_type": "stream",
     "text": [
      "--------------------------------\n",
      "Processed: (1) 하이드로잭을 설치하거나 제거할 때에는 경험이 많은 자를 선임하여 작업을 하여야 한다.\n",
      "\n",
      "(2) 유압호스 부분에서 기름이 새거나, 접속부에 이상이 없는지를 확인하여야 한다.\n",
      "\n",
      "(3) 장시간 작업의 경우에는 호스의 커플링과 고무가 연결된 곳에 균열이 발생될 우려가 있으므로 마모율과 균열에 따라 적정한 시기에 교환하여야 한다.\n",
      "\n",
      "(4) 정기점검을 실시하고 결합사항은 즉시 보수, 교체하여야 한다.\n",
      "\n",
      "(5) 하이드로잭 등의 해체기계·기구를 지지하는 부위에 대하여는 구조 안전성을 확인한 후 필요 시 보강조치를 하여야 한다.\n",
      "\n",
      "(6) 해체 계획부분 외에는 불시 탈락 등의 위험이 없도록 해체순서 결정, 보강 등 필요한 조치를 하여야 한다.\n",
      "\n",
      "![그림 8] 하이드로잭 사용 예\n",
      "\n",
      "5.2.8 쐐기 타입기에 의한 해체작업\n",
      "\n",
      "직경 30 내지 40mm 정도의 구멍 속에 쐐기를 박아 넣어 구멍을 확대하여 해체하는 것으로 다음 각 호의 사항을 준수하여야 한다.\n",
      "\n",
      "(1) 구멍에 굴곡이 있으면 타입기 자체에 큰 응력이 발생하여 쐐기가 휠 우려가 있으므로 굴곡이 없도록 천공하여야 한다.\n",
      "\n",
      "(2) 천공구멍은 타입기 삽입부분의 직경과 거의 같도록 하여야 한다.\n",
      "\n",
      "(3) 쐐기가 절단 및 변형된 경우는 즉시 교체하여야 한다.\n"
     ]
    },
    {
     "name": "stderr",
     "output_type": "stream",
     "text": [
      "INFO:httpx:HTTP Request: POST http://localhost:8000/v1/chat/completions \"HTTP/1.1 200 OK\"\n",
      " 64%|██████▍   | 16/25 [03:01<01:36, 10.72s/it]"
     ]
    },
    {
     "name": "stdout",
     "output_type": "stream",
     "text": [
      "--------------------------------\n",
      "Processed: (4) 보수점검은 수시로 하여야 한다.\n",
      "\n",
      "5.2.9 화염방사기에 의한 해체작업\n",
      "\n",
      "구조체를 고온으로 용융시키면서 해체하는 것으로 다음 각 호의 사항을 준수하여야 한다.\n",
      "\n",
      "(1) 화염방사기 사용 시 고온의 용융물이 비산하고 연기가 많이 발생되므로 화재 발생에 주의하여야 한다.\n",
      "\n",
      "(2) 소화기를 준비하여 블롯비산에 의한 인접부분의 발화에 대비하여야 한다.\n",
      "\n",
      "(3) 작업자는 방열복, 마스크, 장갑 등의 보호구를 착용하여야 한다.\n",
      "\n",
      "(4) 산소용기가 넘어지지 않도록 밑받침 등으로 고정시키고 빈 용기와 채워진 용기를 분리하여 저장하여야 한다.\n",
      "\n",
      "(5) 용기 내 압력은 온도에 의해 상승하기 때문에 항상 섭씨 40도 이하로 보존하여야 한다.\n",
      "\n",
      "(6) 호스는 결속철물로 확실하게 결속하고, 균열되어 있거나 노후된 것은 사용하지 말아야 한다.\n",
      "\n",
      "(7) 게이지의 작동을 확인하고 고장 및 작동 불량품은 교체하여야 한다.\n",
      "\n",
      "5.2.10 절단줄톱에 의한 해체작업\n",
      "\n",
      "와이어에 다이아몬드 절삭날을 부착하여 고속회전시켜 절단 해체할 때 사용하는 기구로써 다음 각 호의 사항을 준수하여야 한다.\n"
     ]
    },
    {
     "name": "stderr",
     "output_type": "stream",
     "text": [
      "INFO:httpx:HTTP Request: POST http://localhost:8000/v1/chat/completions \"HTTP/1.1 200 OK\"\n",
      " 68%|██████▊   | 17/25 [03:09<01:19,  9.93s/it]"
     ]
    },
    {
     "name": "stdout",
     "output_type": "stream",
     "text": [
      "--------------------------------\n",
      "Processed: (1) 절단 작업 중 줄톱이 끊어지거나, 수명이 다할 경우에는 줄톱의 교체가 어려우므로 작업 전에 줄톱 왜이어를 점검하여야 한다.\n",
      "\n",
      "(2) 절단 대상물의 절단면적을 고려하여 줄톱의 크기와 규격을 결정하여야 한다.\n",
      "\n",
      "(3) 절단면에 고온이 발생하므로 냉각수 공급을 적절히 하여야 한다.\n",
      "\n",
      "(4) 구동축에는 접촉방지 커버를 부착하도록 하여야 한다.\n",
      "\n",
      "5.2.11 압쇄공법과 대형 브레이커 공법 병용\n",
      "\n",
      "(1) 압쇄기로 슬래브, 보, 내력벽 등을 해체하고 대형 브레이커로 기둥을 해체할 때에는 장비간의 안전거리를 충분히 확보하여야 한다.\n",
      "\n",
      "(2) 대형 브레이커와 엔진으로 인한 소음을 최대한 줄일 수 있는 수단을 강구하여야 하며 소음진동기준은 관계법에서 정하는 바에 따라 처리하도록 하여야 한다.\n"
     ]
    },
    {
     "name": "stderr",
     "output_type": "stream",
     "text": [
      "INFO:httpx:HTTP Request: POST http://localhost:8000/v1/chat/completions \"HTTP/1.1 200 OK\"\n",
      " 72%|███████▏  | 18/25 [03:13<00:55,  7.97s/it]"
     ]
    },
    {
     "name": "stdout",
     "output_type": "stream",
     "text": [
      "--------------------------------\n",
      "Processed: 5.2.12 대형브레이커 공법과 전도공법 병용\n",
      "\n",
      "(1) 전도 작업은 작업순서가 임의로 변경될 경우 대형재해의 위험을 초래하므로 사전 작업계획에 따라 작업하여야 하며 순서에 의한 단계별 작업을 확인하여야 한다.\n"
     ]
    },
    {
     "name": "stderr",
     "output_type": "stream",
     "text": [
      "INFO:httpx:HTTP Request: POST http://localhost:8000/v1/chat/completions \"HTTP/1.1 200 OK\"\n",
      " 76%|███████▌  | 19/25 [03:25<00:56,  9.38s/it]"
     ]
    },
    {
     "name": "stdout",
     "output_type": "stream",
     "text": [
      "--------------------------------\n",
      "Processed: (2) 전도 작업 시에는 미리 일정신호를 정하여 작업자에게 주지시켜야 하며 안전한 거리에 대피소를 설치하여야 한다.\n",
      "\n",
      "(3) 전도를 목적으로 절삭할 부분은 시공계획 수립 시 결정하고 절삭되지 않는 단면은 안전하게 유지되도록 하여 계획과 반대방향의 전도를 방지하여야 한다.\n",
      "\n",
      "(4) 기둥철근 절단 순서는 전도방향의 전면 그리고 양측면, 마지막으로 잔여부분 철근을 절단하도록 하고, 반대방향 전도를 방지하기 위해 전도방향 전면 철근을 2분 이상 남겨 두어야 한다.\n",
      "\n",
      "(5) 벽체의 절삭 부분 절단 시는 가로철근은 아래에서 위쪽으로, 세로 철근은 중앙에서 양단방향으로 차례로 절단하여야 한다.\n",
      "\n",
      "(6) 인양 와이어로프는 2분 이상이어야 하며 대상 구조물의 규격에 따라 적절한 위치를 선정하여야 한다.\n",
      "\n",
      "(7) 와이어로프를 끌어당길 때에는 서서히 하중을 가하도록 하고 구조체가 넘어지지 않도록 하는데 반동을 주어 당겨서는 안되며, 예정 하중으로 넘어지지 않을 때는 가력을 중지하고 절삭부분을 더 깎아 내어 자중에 의하여 전도 되게 유도하여야 한다.\n",
      "\n",
      "(8) 대상물의 전도 시 분진발생을 억제하기 위해 전도물과 완충재에는 충분한 물을 뿌려야 한다. 또한 전도 작업은 반드시 연속해서 실시하고, 그날 종료로 종료시키도록 하며 절삭한 상태로 방지해서는 안된다.\n",
      "\n",
      "(9) 전도 작업 전에 비계의 벽이음재는 철거되었는지를 확인하고 방호시트 및 기타 가설물을 작업진행에 따라 해체하도록 하여야 한다.\n"
     ]
    },
    {
     "name": "stderr",
     "output_type": "stream",
     "text": [
      "INFO:httpx:HTTP Request: POST http://localhost:8000/v1/chat/completions \"HTTP/1.1 200 OK\"\n",
      " 80%|████████  | 20/25 [03:29<00:37,  7.52s/it]"
     ]
    },
    {
     "name": "stdout",
     "output_type": "stream",
     "text": [
      "--------------------------------\n",
      "Processed: 5.2.13 강구공법과 전도공법 병용\n",
      "\n",
      "<그림 12> 대형 브레이커 공법과 전도공법의 병용 예\n"
     ]
    },
    {
     "name": "stderr",
     "output_type": "stream",
     "text": [
      "INFO:httpx:HTTP Request: POST http://localhost:8000/v1/chat/completions \"HTTP/1.1 200 OK\"\n",
      " 84%|████████▍ | 21/25 [03:39<00:33,  8.28s/it]"
     ]
    },
    {
     "name": "stdout",
     "output_type": "stream",
     "text": [
      "--------------------------------\n",
      "Processed: (1) 크레인 설치위치의 적정여부를 확인하여야 하며 붐 회전반경 및 강구 사양을 사전에 확인하여야 한다.\n",
      "\n",
      "(2) 강구를 매단 와이어로프는 작업 전에 반드시 점검하도록 하고 작업 중에도 와이어로프가 손상되지 않도록 주의하여야 한다.\n",
      "\n",
      "(3) 강구 작업반경 내와 해체물이 떨어짐, 넘어짐 또는 비산하는 구간을 설정하고, 통행인의 출입을 통제하여야 한다.\n",
      "\n",
      "(4) 슬래브와 보 등과 같은 수평재는 강구를 수직으로 낙하시켜 해체하고, 벽, 기둥 등은 수평으로 선화시켜 탐력에 의해 해체하도록 한다. 수직으로 탐력을 때에는 특히 벽과 기둥의 상단을 탐력하지 않도록 하여야 한다.\n",
      "\n",
      "(5) 기둥과 벽은 강구를 수평으로 선화시켜 원심력에 의한 탐력으로 해체하며, 이때 선화거리와 속도 등의 조건을 사전에 검토하여야 한다.\n",
      "\n",
      "(6) 분진발생 방지 조치를 하며, 방진벽, 비산폐면방지망 등을 설치하여야 한다.\n",
      "\n",
      "(7) 강구공법에 의한 해체작업은 작업방식이 복합적이어서 현장의 혼란과 위험을 초래하게 되므로 정리정돈에 노력하여야 하며, 위험작업구간에는 관리감독자를 배치하여야 한다.\n"
     ]
    },
    {
     "name": "stderr",
     "output_type": "stream",
     "text": [
      "INFO:httpx:HTTP Request: POST http://localhost:8000/v1/chat/completions \"HTTP/1.1 200 OK\"\n",
      " 88%|████████▊ | 22/25 [03:51<00:28,  9.47s/it]"
     ]
    },
    {
     "name": "stdout",
     "output_type": "stream",
     "text": [
      "--------------------------------\n",
      "Processed: 5.2.14 발파 해체작업\n",
      "\n",
      "(1) 화약류에 의한 발파 해체시에는 사전에 시험발파에 의한 폭력, 폭속, 진동치 속도 등의 파쇄능력과 진동, 소음의 영향력을 검토하여야 한다.\n",
      "\n",
      "(2) 소음, 분진, 진동으로 인한 공해대책, 파편에 대한 예방대책을 수립하여야 한다.\n",
      "\n",
      "(3) 화약류 취급에 대하여는 산업안전보건법과 「총포화약법」에서 규정하는 바에 의하여 취급하여야 한다.\n",
      "\n",
      "(4) 해체대상 구조물의 구조도면을 입수하여 검토하여야 한다. 다만, 도면이 없는 경우에는 철근배근상태 등에 대한 도면을 재작성하여 검토하여야 한다.\n",
      "\n",
      "(5) 구조도면 분석 및 기술적 검토를 거쳐 다음 사항이 포함된 설계도면 및 작업 계획을 작성하여야 한다.\n",
      "\n",
      "(가) 구조물의 천공위치 및 방법\n",
      "\n",
      "(나) 화약류의 종류 및 장약량\n",
      "\n",
      "(다) 사전 취약화 작업 위치\n",
      "\n",
      "(라) 뇌관의 시간차 배열 및 지발당 최대 허용장약량\n",
      "\n",
      "(마) 위험구역, 경계구역의 설정\n",
      "\n",
      "(6) 화약류 취급 및 화약발파는 KOSHA GUIDE C-46-2016 (발파공사 안전보건 작업 지침)의 규정에 따른다.\n",
      "\n",
      "(7) 폭파 시 인접구조물 및 주변의 영향을 최소화하기 위하여 적정량의 폭약과 정확한 시간차를 계산하여야 한다.\n",
      "\n",
      "(8) 폭파해체 시 발생되는 분진에 유해물질이 함유되지 않도록 배관보온재 등 유해물질을 미리 제거하여야 한다.\n"
     ]
    },
    {
     "name": "stderr",
     "output_type": "stream",
     "text": [
      "INFO:httpx:HTTP Request: POST http://localhost:8000/v1/chat/completions \"HTTP/1.1 200 OK\"\n",
      " 92%|█████████▏| 23/25 [04:02<00:20, 10.06s/it]"
     ]
    },
    {
     "name": "stdout",
     "output_type": "stream",
     "text": [
      "--------------------------------\n",
      "Processed: (9) 폭파해체 작업 시에는 해체물의 빔산과 폭풍압 방지를 위하여 장약부위 및\n",
      "외부로 통하는 개구부에는 철망이나 부직포 등을 이용하여 방호막을 설치\n",
      "하여야 한다.\n",
      "\n",
      "(10) 폭파작업 시에는 위험구역을 설정하여 주민과 차량통행을 통제하고 대피를\n",
      "확인한 후 점화하여야 한다.\n",
      "\n",
      "6. 해체작업에 따른 공해방지\n",
      "\n",
      "6.1 소음 및 진동\n",
      "\n",
      "(1) 공기압축기 등은 적당한 장소에 설치하여야 하며 장비의 소음, 진동기준은\n",
      "관계법에서 정하는 바에 따라야 한다.\n",
      "\n",
      "(2) 전도공법의 경우 전도물 규모를 작게 하여 중량을 최소화하고 전도대상물의\n",
      "높이는 되도록 작게 하여야 한다.\n",
      "\n",
      "(3) 강구공법의 경우 강구의 중량과 낙하높이를 가능한 한 낮게 하여야 한다.\n",
      "\n",
      "(4) 현장 내에서는 큰 부재로 해체하고 장외에서 잘게 파쇄 한다.\n",
      "\n",
      "(5) 인접건물의 피해를 줄이기 위해 방음, 방진 목적의 가시설을 설치하여야 한다.\n",
      "\n",
      "6.2 분진\n",
      "\n",
      "분진 발생을 억제하기 위하여 직접 발생 부분에 물을 뿌리거나 간접적으로 방진\n",
      "시트, 분진차단막 등의 방진벽을 설치하여야 한다.\n",
      "\n",
      "6.3 지반침하\n",
      "\n",
      "지하실 등을 해체할 경우에는 해체작업 전에 대상건물의 깊이, 토질, 주변상황\n",
      "등과 사용하는 중기 및 운행 시 수반되는 진동 등을 고려하여 지반침하에 대비\n",
      "하여야 한다.\n"
     ]
    },
    {
     "name": "stderr",
     "output_type": "stream",
     "text": [
      "INFO:httpx:HTTP Request: POST http://localhost:8000/v1/chat/completions \"HTTP/1.1 200 OK\"\n",
      " 96%|█████████▌| 24/25 [04:08<00:08,  8.65s/it]"
     ]
    },
    {
     "name": "stdout",
     "output_type": "stream",
     "text": [
      "--------------------------------\n",
      "Processed: 6.4 폐기물\n",
      "\n",
      "(1) 해체작업 과정에서 발생하는 폐기물은 관계법에서 정하는 바에 따라 처리하여야 한다.\n",
      "\n",
      "(2) 건축물이나 설비, 자재 등에 석면이 함유된 경우에는 근로자의 건강장해를 예방하기 위해 산업안전보건법, 석면안전관리법, 고용노동부 고시 제2020-09호 (석면조사 및 안전성 평가 등에 관한 고시), KOSHA GUIDE H-70-2020 (석면 해체‧제거 작업 지침)에서 정하는 바에 따라 조사를 실시하고 해체‧제거하여야 한다.\n"
     ]
    },
    {
     "name": "stderr",
     "output_type": "stream",
     "text": [
      "INFO:httpx:HTTP Request: POST http://localhost:8000/v1/chat/completions \"HTTP/1.1 200 OK\"\n",
      "100%|██████████| 25/25 [04:12<00:00, 10.09s/it]\n"
     ]
    },
    {
     "name": "stdout",
     "output_type": "stream",
     "text": [
      "--------------------------------\n",
      "Processed: 안전보건기술지침 개정 이력\n",
      "\n",
      "개정일: 2023. 8. 24.\n",
      "\n",
      "개정자: 안전보건공단 전문기술실 박주호\n",
      "\n",
      "개정사유: 관련 법령 및 기준 등을 반영하여 지침 현행화\n",
      "\n",
      "주요 개정내용\n",
      "- 관련규격 및 자료, 법규·규칙·고시 등 현행화, 용어의 정의 최신화 등\n",
      "---End---\n",
      "Processing 리모델링 안전보건작업 기술지침\n"
     ]
    },
    {
     "name": "stderr",
     "output_type": "stream",
     "text": [
      "  0%|          | 0/13 [00:00<?, ?it/s]INFO:httpx:HTTP Request: POST http://localhost:8000/v1/chat/completions \"HTTP/1.1 200 OK\"\n",
      "  8%|▊         | 1/13 [00:02<00:27,  2.32s/it]"
     ]
    },
    {
     "name": "stdout",
     "output_type": "stream",
     "text": [
      "--------------------------------\n",
      "Processed: 리모델링 안전보건작업 기술지침\n",
      "\n",
      "2017. 11.\n",
      "\n",
      "한국산업안전보건공단\n"
     ]
    },
    {
     "name": "stderr",
     "output_type": "stream",
     "text": [
      "INFO:httpx:HTTP Request: POST http://localhost:8000/v1/chat/completions \"HTTP/1.1 200 OK\"\n",
      " 15%|█▌        | 2/13 [00:12<01:18,  7.14s/it]"
     ]
    },
    {
     "name": "stdout",
     "output_type": "stream",
     "text": [
      "--------------------------------\n",
      "Processed: 안전보건기술지침의 개요\n",
      "\n",
      "○ 제정자 : 안전보건공단 정세균\n",
      "○ 개정자 : 안전보건공단 산업안전보건연구원 정성춘\n",
      "\n",
      "○ 제·개정경과\n",
      "\n",
      "- 2007년 7월 건설안전분야 제정위원회 심의\n",
      "- 2007년 11월 총괄제정위원회 심의\n",
      "- 2012년 7월 건설안전분야 제정위원회 심의(개정)\n",
      "- 2017년 10월 건설안전분야 제정위원회 심의(개정)\n",
      "\n",
      "○ 관련법규·규칙·고시 등\n",
      "\n",
      "- 건축법 제2조 제1항(건축물의 노후화 억제 또는 기능향상 등을 위하여 증축 또는 대수선하는 행위)\n",
      "- 산업안전보건기준에 관한 규칙 제2편 제4장 제4절(해체작업시의 위험방지)\n",
      "\n",
      "○ 기술지침의 적용 및 문의\n",
      "\n",
      "- 이 기술지침에 대한 의견 또는 문의는 한국산업안전보건공단 홈페이지(www.kosha.or.kr) 안전보건기술지침 소관 분야별 문의처 안내를 참고하시기 바랍니다.\n",
      "- 동 지침 내에서 인용된 관련규격 및 자료, 법규 등에 관하여 최근 개정본이 있을 경우에는 해당 개정본의 내용을 참고하시기 바랍니다.\n",
      "\n",
      "공표일자 : 2017년 11월 27일\n",
      "\n",
      "제 정 자 : 한국산업안전보건공단 이사장\n"
     ]
    },
    {
     "name": "stderr",
     "output_type": "stream",
     "text": [
      "INFO:httpx:HTTP Request: POST http://localhost:8000/v1/chat/completions \"HTTP/1.1 200 OK\"\n",
      " 23%|██▎       | 3/13 [00:25<01:37,  9.72s/it]"
     ]
    },
    {
     "name": "stdout",
     "output_type": "stream",
     "text": [
      "--------------------------------\n",
      "Processed: 리모델링 안전보건작업 기술지침\n",
      "\n",
      "1. 목적\n",
      "\n",
      "이 지침은 건축물의 리모델링 작동과정에서 준수하여야 할 안전보건 기술지침을 정함을 목적으로 한다.\n",
      "\n",
      "2. 적용범위\n",
      "\n",
      "이 지침은 건축물의 리모델링작업 중에서 해체작업, 보수, 보강작업, 인테리어 및 외장 작업에 대하여 적용한다.\n",
      "\n",
      "3. 정의\n",
      "\n",
      "(1) 이 지침에서 사용하는 용어의 정의는 다음과 같다.\n",
      "\n",
      "(가) “리모델링(Remodeling)”이라 함은 건축물의 노후화 억제 또는 기능향상 등을 위하여 증축 또는 대수선하는 행위를 말한다.\n",
      "1) “증축”이라 함은 기존 건축물이 있는 대지 안에서 건축물의 건축면적, 연면적, 층수 또는 높이를 증가시키는 것을 말한다.\n",
      "2) “대수선”이라 함은 건축물의 주요 구조부에 대한 수선 또는 변경이나 건축물의 외부형태를 변경하는 것으로 다음에 해당하는 것을 말한다.\n",
      "  - 내력벽을 증설·해체하거나 내력벽의 면적을 30㎡ 이상 수선 또는 변경하는 것\n",
      "  - 기둥을 증설·해체하거나 기둥을 3개 이상 수선 또는 변경하는 것\n",
      "  - 보를 증설·해체하거나 보를 3개 이상 수선 또는 변경하는 것\n",
      "  - 지붕틀을 증설·해체하거나 지붕틀을 3개 이상 수선 또는 변경하는 것\n",
      "  - 방화벽 또는 방화구획을 위한 바닥 또는 벽을 증설·해체하거나 수선·변경하는 것\n",
      "  - 주계단, 피난계단 또는 특별 피난계단을 증설·해체하거나 수선·변경하는 것\n",
      "  - 미관지구 안에서 건축물의 외부형태(담장포함)를 수선·변경하는 것\n"
     ]
    },
    {
     "name": "stderr",
     "output_type": "stream",
     "text": [
      "INFO:httpx:HTTP Request: POST http://localhost:8000/v1/chat/completions \"HTTP/1.1 200 OK\"\n",
      " 31%|███       | 4/13 [00:42<01:53, 12.57s/it]"
     ]
    },
    {
     "name": "stdout",
     "output_type": "stream",
     "text": [
      "--------------------------------\n",
      "Processed: (나) “절단톱”이라 함은 원형철판 또는 강철 와이어(Wire)에 공업용 다이아몬드 입자를 부착하여 고속으로 회전시켜 슬래브(Slab), 기둥, 벽체 등 해체하고자 하는 구조물을 적당한 크기로 절단하는 기구를 말한다.\n",
      "\n",
      "(다) “압쇄공법”이라 함은 유압식 파워 쇼벨(Power shovel)에 압쇄기를 부착한 후 강력한 압축력을 이용하여 구조물을 해체하는 공법을 말한다.\n",
      "\n",
      "(라) “워터제트(Water jet) 공법”이라 함은 초고압, 초고속의 분사수에 의한 충격 에너지로 대상 구조물을 해체하는 공법을 말한다.\n",
      "\n",
      "(마) “탄소섬유시트(Sheet)”라 함은 역청에서 추출한 신소재로 노후화된 구조물을 부착시켜 내구성, 내식성, 내열성 등을 보강하는 재료를 말한다.\n",
      "\n",
      "(바) “프리스트레스(Prestress) 공법”이라 함은 슬래브(Slab), 보 등의 구조물에 기계적 장치에 의하여 콘크리트에 압축응력을 도입함으로써 구조물의 내력을 증진 시키는 공법을 말한다.\n",
      "\n",
      "(사) “언더피닝(Under Pinning) 공법”이라 함은 구조물의 허용하중을 높이기 위해 상부 구조를 그대로 유지하는 상태에서 기초 하부구조를 교체하거나 보강을 위해 하부를 추가 시공하는 공법을 말한다.\n",
      "\n",
      "(아) “적정한 공기”라 함은 산소농도의 범위가 18 % 이상 23.5 % 미만, 탄산가스의 농도가 1.5 % 미만, 황화수소의 농도가 10 ppm 미만, 일산화탄소 25ppm 미만인 수준의 공기를 말한다.\n",
      "\n",
      "(자) “석면”이라 함은 자연에서 생산되는 섬유상 형태를 갖고 있는 규산염 광물로서 백석면, 갈석면, 청석면, 안소필라이트석면, 트레모라이트석면, 악티노라이트석면 등 여섯 종의 광물을 말한다.\n",
      "\n",
      "(2) 그 밖의 용어의 정의는 이 지침에서 특별한 규정이 있는 경우를 제외하고는 산업안전보건법, 같은 법 시행령, 시행규칙, 안전보건규칙 및 관련 고시에서 정하는 바에 따른다.\n",
      "\n",
      "4. 사전조사\n",
      "\n",
      "4.1 대상 구조물 조사\n"
     ]
    },
    {
     "name": "stderr",
     "output_type": "stream",
     "text": [
      "INFO:httpx:HTTP Request: POST http://localhost:8000/v1/chat/completions \"HTTP/1.1 200 OK\"\n",
      " 38%|███▊      | 5/13 [00:56<01:43, 12.93s/it]"
     ]
    },
    {
     "name": "stdout",
     "output_type": "stream",
     "text": [
      "--------------------------------\n",
      "Processed: 리모델링공사계획 수립에 앞서 대상 구조물에 대하여 다음과 같은 조치를 하여야 한다.\n",
      "(1) 설계도서 등을 검토하여 구조형식, 기초형식, 면적, 층고, 내·외장재, 평면 및 입면 형상의 특징 등 대상구조물의 개요를 파악하여야 한다.\n",
      "(2) 증·개축의 유·무, 노후화 정도, 피해의 유·무 등 대상구조물의 이력을 조사하여야 한다.\n",
      "(3) 대상 구조물의 압축강도, 인장강도, 부착강도 등 성능과 중성화 및 부식정도 등을 파악하여야 한다.\n",
      "(4) 대상구조물에 발생한 균열, 부등침하, 변형 및 변위의 유·무 등을 조사하여야 한다.\n",
      "\n",
      "4.2 부대사항 조사\n",
      "리모델링공사 작업계획서 작성 전 부지상황 및 환경조사 등 다음과 같은 조치를 하여야 한다.\n",
      "(1) 인접구조물, 지반의 종류, 지하수상태, 수목 등 부지 및 주변 환경을 조사하여야 한다.\n",
      "(2) 기계 또는 장비의 작업계획, 자재 및 부재의 야적 및 운반계획, 폐기물의 운반 및 반출계획 가설도로 등을 조사하여야 한다.\n",
      "(3) 공사현장 및 주변 지하매설물(상하수도, 가스관, 전기·전화선, 가공고압선 등) 등의 유·무를 조사하여야 한다.\n",
      "(4) 소음, 진동, 분진 등의 공해에 대한 발생여부와 그 영향권을 조사하여야 한다.\n",
      "\n",
      "5. 리모델링 작업별 안전 준수사항\n",
      "5.1 해체작업\n",
      "가. 공통사항\n",
      "(1) 해체작업 시 다음 사항이 포함된 작업계획서를 작성하여야 한다.\n",
      "(가) 해체방법 및 해체순서 도면\n",
      "(나) 가설설비, 방호설비, 환기설비, 살수설비 및 방화설비 등의 설치방법\n",
      "(다) 사업장내 연락방법\n"
     ]
    },
    {
     "name": "stderr",
     "output_type": "stream",
     "text": [
      "INFO:httpx:HTTP Request: POST http://localhost:8000/v1/chat/completions \"HTTP/1.1 200 OK\"\n",
      " 46%|████▌     | 6/13 [01:10<01:34, 13.53s/it]"
     ]
    },
    {
     "name": "stdout",
     "output_type": "stream",
     "text": [
      "--------------------------------\n",
      "Processed: (라) 해체물의 처리계획\n",
      "(마) 해체작업용 기계·기구 등의 작업계획\n",
      "(바) 기타 안전·보건에 관련된 사항\n",
      "\n",
      "(2) 소음, 진동, 분진에 의한 재해가 발생하지 않도록 해체작업현장 주변에 방음막, 방진막, 살수설비 등을 설치하여야 한다.\n",
      "\n",
      "(3) 해체작업현장과 사무실 간의 연락, 해체작업중의 신호 등을 위하여 연락설비를 설치하고 신호수를 배치한 후 위험구역 내에 공사관계자 및 외부인의 출입을 금지하여야 한다.\n",
      "\n",
      "(4) 리모델링 대상구조물에서 부분적으로 슬래브, 보, 기둥, 벽체 등의 부재를 해체할 때에는 구조기술사의 구조검토를 실시하고 부재신설공법 등 보강공법을 적용하여 구조물의 붕괴재해를 예방하여야 한다.\n",
      "\n",
      "(5) 해체된 잔재물을 비계, 작업발판 등에 적재하중을 초과하여 적재하는 것을 금지하고 리프트, 승강기 등 양중기를 사용하여 지상으로 반출하여야 한다.\n",
      "\n",
      "(6) 구조물의 해체작업에 의한 개구부 발생시 덮개, 안전난간, 안전방망 등 안전시설을 설치하고 안전모, 안전화, 안전대 등 보호구를 착용하여야 한다.\n",
      "\n",
      "(7) 사전조사 사항을 근거로 하여 공사기간, 시공성, 안전성, 경제성, 공해 등에 대한 법적 규제 및 주변현황 등을 충분히 검토한 후 적절한 해체공법을 선정하여야 한다.\n",
      "\n",
      "나. 해체공법에 따른 안전사항\n",
      "\n",
      "(1) 강구공법에 의한 해체작업 시 강구가 크레인으로부터 이탈하지 않도록 접속부위 및 와이어로프의 상태를 수시로 점검하여야 한다.\n",
      "\n",
      "(2) 브레이커 공법에 의한 해체작업 시 파편이 비산하지 않도록 주의하고 소음, 진동에 의한 소음성 난청, 진동장애 등의 재해를 예방하기 위하여 귀마개, 방진장갑 등 보호구를 착용하여야 한다.\n"
     ]
    },
    {
     "name": "stderr",
     "output_type": "stream",
     "text": [
      "INFO:httpx:HTTP Request: POST http://localhost:8000/v1/chat/completions \"HTTP/1.1 200 OK\"\n",
      " 54%|█████▍    | 7/13 [01:25<01:24, 14.02s/it]"
     ]
    },
    {
     "name": "stdout",
     "output_type": "stream",
     "text": [
      "--------------------------------\n",
      "Processed: (3) 해체작업에 사용되는 강구, 브레이커 등의 기계·기구를 양중 할 때에는 낙하·비래의 위험이 없도록 예방조치를 하여야 한다.\n",
      "\n",
      "(4) 절단톱 공법에 의한 해체작업 시 톱날 주위에는 접촉방지 커버(Cover)를 설치하고 급·배수설비의 배선상태를 점검하여 감전재해를 예방하여야 한다.\n",
      "\n",
      "(5) 전도공법에 의한 해체작업 시 빔, 기둥 등 해체부재의 전도위치와 과편의 비산거리 등을 검토하여 위험구역을 설정하고 감란비계, 점균 등으로 가설 방호벽을 설치하여야 한다.\n",
      "\n",
      "(6) 압쇄공법에 의한 해체작업 시 과워쇼벨에 적합한 중량의 압쇄기를 부착하고 핀, 볼트 등 연결구조부의 접속 상태를 수시로 점검하여야 한다.\n",
      "\n",
      "(7) 워터제트공법 및 레이저공법에 의한 해체작업 시 분출되는 분사수, 레이저 광선 등에 접촉되지 않도록 보호커버를 설치하여야 한다.\n",
      "\n",
      "다. 석면해체 안전사항\n",
      "\n",
      "(1) 석면이 함유된 건축물이나 설비를 해체할 때에는 근로자의 건강장해를 예방하기 위하여 작업절차, 작업방법, 근로자 보호조치 등이 포함된 석면해체 작업계획서를 작성하여야 한다.\n",
      "\n",
      "(2) 작업장소를 밀폐시킨 후 습식작업, 음압(陰壓)상태 유지 등 석면분진이 흩날리지 않도록 조치 후 작업하여야 한다.\n",
      "\n",
      "(3) 석면해체 작업장은 노출기준인 0.1 개/㎤ 이하로 관리하고 근로자는 방진마스크, 보호의 등의 보호구를 착용하여야 한다.\n",
      "\n",
      "(4) 석면이 함유된 폐기물은 불침투성 용기 또는 자루에 넣어 밀봉한 후 처리하여야 한다.\n",
      "\n",
      "라. 기타 해체공사 안전작업에 관한 사항은 KOSHA GUIDE C-47-2017(해체공사 안전보건 작업 기술지침)의 규정에 따른다.\n"
     ]
    },
    {
     "name": "stderr",
     "output_type": "stream",
     "text": [
      "INFO:httpx:HTTP Request: POST http://localhost:8000/v1/chat/completions \"HTTP/1.1 200 OK\"\n",
      " 62%|██████▏   | 8/13 [01:37<01:06, 13.31s/it]"
     ]
    },
    {
     "name": "stdout",
     "output_type": "stream",
     "text": [
      "--------------------------------\n",
      "Processed: 5.2 보수·보강작업 안전준수 사항\n",
      "\n",
      "가. 공통사항\n",
      "\n",
      "(1) 비계조립 등의 방법에 의하여 작업발판, 안전난간, 승강설비 등 안전시설을 설치하고 안전모, 안전화, 안전대 등 보호구를 착용하여야 한다.\n",
      "\n",
      "(2) 기타 보수·보강작업 시 비계와 관련한 안전·보건조치 사항은 KOSHA GUIDE C-20-2015(비계 안전설계 지침), KOSHA GUIDE C-30-2011(강관비계 설치 및 사용 안전 지침), KOSHA GUIDE C-32-2011(시스템비계 안전작업 지침), KOSHA GUIDE C-28-2011(이동식비계 구조기준 및 사용 지침), KOSHA GUIDE C-33-2016(달비계 안전작업 지침)등의 기준에 따른다.\n",
      "\n",
      "(3) 철근, 철골, 목재 등의 자재는 낙하·비래를 예방하기 위하여 2점 이상 지지하여 양중 시 이탈되어 낙하되지 않도록하고, 단ечен 자재·부재인 경우 전용 운반구를 사용하여 양중하여야 한다. 또한 신호수를 배치하여 위험구역 내에 근로자의 출입을 금지시켜야 한다.\n",
      "\n",
      "나. 보수·보강공법에 따른 안전사항\n",
      "\n",
      "(1) 충전·충진공법, 단면복구공법 등의 보수작업 시 그라인더, 절단기 등 전동 기계·기구의 회전체 주위에는 보호커버를 설치하고 보안경, 방진마스크 등 보호구를 착용하여야 한다.\n",
      "\n",
      "<그림 2> 충전공법\n"
     ]
    },
    {
     "name": "stderr",
     "output_type": "stream",
     "text": [
      "INFO:httpx:HTTP Request: POST http://localhost:8000/v1/chat/completions \"HTTP/1.1 200 OK\"\n",
      " 69%|██████▉   | 9/13 [01:44<00:45, 11.35s/it]"
     ]
    },
    {
     "name": "stdout",
     "output_type": "stream",
     "text": [
      "--------------------------------\n",
      "Processed: (2) 부재신설공법에 의한 보강작업 시 기존 구조물과의 일체화를 위하여 앵커용 볼트, 철근을 견고히 설치하고 모르타르, 에폭시 등에 의한 그라우팅을 밀실하게 하여야 한다.\n",
      "\n",
      "(3) 단면증대공법에 의한 보강작업 시 거푸집동바리에 대한 구조검토를 실시하고 기존 구조물과의 부착력을 높이기 위하여 다웰바(Dowel Bar) 및 보강철근을 설치하여야 한다.\n",
      "\n",
      "(4) 탄소섬유시트, 강판 부착공법 등의 보강작업 시 구조물의 습기 제거, 평활도 유지, 코너부위 곡면처리, 에폭시 그라우팅 등의 방법으로 기존 구조물과의 부착력을 증가시키고 비파괴검사에 의하여 기존 구조물의 손상여부를 조사하여야 한다.\n"
     ]
    },
    {
     "name": "stderr",
     "output_type": "stream",
     "text": [
      "INFO:httpx:HTTP Request: POST http://localhost:8000/v1/chat/completions \"HTTP/1.1 200 OK\"\n",
      " 77%|███████▋  | 10/13 [01:49<00:28,  9.35s/it]"
     ]
    },
    {
     "name": "stdout",
     "output_type": "stream",
     "text": [
      "--------------------------------\n",
      "Processed: 5.3. 인테리어 및 외장작업 안전 준수사항\n",
      "\n",
      "(1) 시멘트, 벽돌, 석고보드 등의 자재는 가급적 지게차로 안전하게 운반하고 적재물의 상부에 올라서 포장재를 제거하는 등의 불안전 행동을 금지하여야 한다.\n",
      "\n",
      "(2) 프라이머(Primer), 본드(Bond), 신나 등 인화성 물질을 사용할 경우에는 용접불꽃, 토치(Torch) 등의 점화원 관리를 철저히 하여야 한다.\n"
     ]
    },
    {
     "name": "stderr",
     "output_type": "stream",
     "text": [
      "INFO:httpx:HTTP Request: POST http://localhost:8000/v1/chat/completions \"HTTP/1.1 200 OK\"\n",
      " 85%|████████▍ | 11/13 [02:05<00:22, 11.37s/it]"
     ]
    },
    {
     "name": "stdout",
     "output_type": "stream",
     "text": [
      "--------------------------------\n",
      "Processed: (3) 목재가공용 둥근톱은 날접촉 예방장치를 설치한 후 사용하고 면장갑을 착용한 채로 작업하는 것을 금지하여야 한다.\n",
      "\n",
      "(4) 천장, 벽체의 마감작업에 타정총, 타카(Tacker) 등을 사용할 때에는 작업의 편리성을 위하여 안전장치를 해지하는 것을 금지하고 보안경, 귀마개 등의 보호구를 착용하여야 한다.\n",
      "\n",
      "(5) 타일 절단작업에 그라인더, 핸드커터(Hand cutter)기 등 다른 용도의 전동 기계·기구의 사용을 금지하고 타일 전용의 절단기를 사용하여야 한다.\n",
      "\n",
      "(6) 실내에서 뿜칠에 의한 도장작업 시 적정한 공기상태 유지를 위한 환기설비를 설치하고 보안경, 방진마스크 등의 보호구를 착용하여야 한다.\n",
      "\n",
      "(7) 작업장소를 이동하기 위하여 이동식사다리를 사용할 때에는 심한 손상, 부식이 없고 발판 폭이 30 cm 이상인 것을 사용하여야 한다. 또한 다리부위에 미끄럼 방지장치를 설치하여 미끄러지거나 넘어지는 것을 방지하여야 한다.\n",
      "\n",
      "(8) 도배작업 등에 말비계를 사용할 때에는 지주부재와 수평면과의 기울기를 75° 이하로 하고 지주부재의 하단부에 미끄럼방지장치를 설치하여야 한다.\n",
      "\n",
      "(9) 석재, 유리 등 중량물 양중작업 시 적정한 용량의 원치(Winch)를 사용하고 견고한 구조의 앵커(Anchor)를 설치하여야 한다.\n",
      "\n",
      "(10) 코킹, 외벽 도장작업 등에 사용되는 말비계의 작업용 로프는 옥상의 견고한 앵커, 구조물 등에 풀리지 않도록 설치하고 별도의 구명줄을 설치하여야 한다. 또한 근로자는 안전대를 구명줄에 설치하고 작업하여야 한다.\n",
      "\n",
      "(11) 기계식 고소작업대(차량탑재형, 시저형 고소작업대 포함)를 사용할 때에는 작업 투입전에 정기검사증 확인 후 아웃트리거(Outrigger)를 견고하고 평탄한 지반에 설치하고, 작업반경에 따른 정격하중을 준수하여 고소작업대의 전도에 의한 재해를 예방하여야 한다.\n"
     ]
    },
    {
     "name": "stderr",
     "output_type": "stream",
     "text": [
      "INFO:httpx:HTTP Request: POST http://localhost:8000/v1/chat/completions \"HTTP/1.1 200 OK\"\n",
      " 92%|█████████▏| 12/13 [02:21<00:12, 12.64s/it]"
     ]
    },
    {
     "name": "stdout",
     "output_type": "stream",
     "text": [
      "--------------------------------\n",
      "Processed: (12) 기타 조적작업, 용접작업, 목재가공작업, 타일작업, 도장작업, 도배작업, 중량물 취급작업, 달비계 사용작업, 고소작업대 사용 작업 등 인테리어와 외장작업과 관련된 안전조치 사항은 한국산업안전보건공단 해당 기술지침(KOSHA GUIDE)의 기준에 따른다.\n",
      "\n",
      "6. 기타 안전 준수사항\n",
      "\n",
      "(1) 리모델링 작업 중 주민이 거주할 경우에는 중량물의 낙하·비래에 의한 재해를 예방할 수 있는 안전한 통행로를 확보하고 작업장 주변에 출입금지 구역설정 및 건고한 방호벽을 설치하여야 한다.\n",
      "\n",
      "(2) 크레인, 리프트, 곤돌라, 승강기 등의 양중기는 안전기준 후 정기적으로 안전검사를 실시하여야 하며, 유효하게 작동되도록 조치 후 작업하여야 한다.\n",
      "\n",
      "(3) 해체된 잔재물, 건설자재, 건설장비 등 중량물 양중작업에 사용되는 와이어로프, 체인 등은 안전기준에 적합한 것을 사용하고 최대허용하중이 표시된 제품을 사용하여야 한다.\n",
      "\n",
      "(4) 강관비계 조립 및 해체작업 시에는 KOSHA GUIDE C-30-2011(강관비계 설치 및 사용안전 지침)의 규정에 따른다.\n",
      "\n",
      "(5) 이동식비계 작업 시 비계의 최상부에는 작업발판 및 안전난간을 설치하고, 비계는 아웃트리거(outrigger)를 설치하는 등 전도방지조치를 하여야 한다. 또한 하단부의 바퀴는 브레이크를 고정시킨 후 작업하여야 한다.\n",
      "\n",
      "(6) 탱크, 맨홀, 피트(Pit) 등 환기가 불량한 장소에서 작업 시 환기설비를 설치하여 적정한 공기상태를 유지하고 송기마스크 등 호흡용 보호구를 착용하여야 한다.\n",
      "\n",
      "(7) 용접 또는 용단작업 시 용접불꽃의 비산에 의한 화재, 화상 등의 재해를 예방하기 위하여 작업장 주위의 인화성 물질을 제거하고 불꽃 비산방지포를 설치하여야 한다. 또한 작업장에 소화기를 비치한 후 소화기 사용법에 대한 안전교육을 실시하여야 한다.\n"
     ]
    },
    {
     "name": "stderr",
     "output_type": "stream",
     "text": [
      "INFO:httpx:HTTP Request: POST http://localhost:8000/v1/chat/completions \"HTTP/1.1 200 OK\"\n",
      "100%|██████████| 13/13 [02:37<00:00, 12.12s/it]\n"
     ]
    },
    {
     "name": "stdout",
     "output_type": "stream",
     "text": [
      "--------------------------------\n",
      "Processed: (8) 산소, LPG 등 가스통은 전도방지조치 후 사용하고 용기의 온도를 40 도 이하로 유지하여야 한다. 또한 환기가 충분한 장소에 보관하고 화약류 또는 가연성 물질, 화기 등을 취급하는 장소에는 저장 및 사용을 금지하여야 한다.\n",
      "\n",
      "(9) 드릴(Drill), 그라인더 등 진동 기계·기구는 누전차단기를 설치하고 접지한 후 사용하여야 한다. 또한 전선은 피복이 잘 벗겨지지 않는 캡타이어 케이블(Cab tyre cable)을 사용하여야 한다.\n",
      "\n",
      "(10) 굴삭기, 로더(Loader), 지게차 등 건설기계는 감김·끼임, 낙하·비래 등의 재해를 예방하기 위하여 헤드가드(Head guard)를 부착한 상태로 작업하여야 한다.\n",
      "\n",
      "(11) 건설자재, 장비, 폐기물을 등 중량물을 인력으로 운반할 때에는 아래 <표 1>을 참조하여 작업하여야 한다. 또한 무게중심을 낮추고 대상물에 몸을 밀착하는 등 근골격계 부담작업에 의한 건강장해를 예방하여야 한다.\n",
      "\n",
      "| 작업형태 | 성별 | 연령별 |\n",
      "|----------|------|--------|\n",
      "| 일시작업 (시간당 2회 이하) | 남 | 25 | 30 | 27 | 25 |\n",
      "| | 여 | 17 | 20 | 17 | 15 |\n",
      "| 계속작업 (시간당 3회 이상) | 남 | 12 | 15 | 13 | 10 |\n",
      "| | 여 | 8 | 10 | 8 | 5 |\n",
      "\n",
      "* 참고자료 : KOSHA GUIDE G-75-2011(인력운반 안전작업에 관한 지침)\n",
      "\n",
      "(12) 작업발판, 파이프서포트(Pipe support), 이동식비계 등의 가설기자재는 심하게 변형, 손상되지 않고 안전인증기준 등에 적합한 제품을 사용하여야 한다.\n",
      "\n",
      "(13) 기타 크레인, 리프트, 곤돌라 등 양중작업과 관련된 안전조치 사항은 이동식 크레인 안전보건작업 지침(KOSHA GUIDE C-69-2012), 트럭 탑재형 크레인(Cargo Crane) 안전보건작업지침(KOSHA GUIDE C-85-2013), 양중기에 관한 일반 지침(KOSHA GUIDE M-162-2013) 등의 기준에 따라 정한다.\n",
      "---End---\n",
      "Processing 강박스거더 교량공사 안전보건작업 지침\n"
     ]
    },
    {
     "name": "stderr",
     "output_type": "stream",
     "text": [
      "  0%|          | 0/19 [00:00<?, ?it/s]INFO:httpx:HTTP Request: POST http://localhost:8000/v1/chat/completions \"HTTP/1.1 200 OK\"\n",
      "  5%|▌         | 1/19 [00:02<00:43,  2.39s/it]"
     ]
    },
    {
     "name": "stdout",
     "output_type": "stream",
     "text": [
      "--------------------------------\n",
      "Processed: 강박스 거더 교량공사 안전보건작업 지침\n",
      "\n",
      "2012. 11.\n",
      "\n",
      "한국산업안전보건공단\n"
     ]
    },
    {
     "name": "stderr",
     "output_type": "stream",
     "text": [
      "INFO:httpx:HTTP Request: POST http://localhost:8000/v1/chat/completions \"HTTP/1.1 200 OK\"\n",
      " 11%|█         | 2/19 [00:11<01:52,  6.60s/it]"
     ]
    },
    {
     "name": "stdout",
     "output_type": "stream",
     "text": [
      "--------------------------------\n",
      "Processed: 안전보건기술지침의 개요\n",
      "\n",
      "○ 작성자: 한국안전학회 백신원\n",
      "\n",
      "○ 제정 경과\n",
      "- 2012년 11월 건설안전분야 제정위원회 심의(제정)\n",
      "\n",
      "○ 관련규격 및 자료\n",
      "- 최신 교량공학(동명사, 황학주)\n",
      "- 도로교 표준시방서(대한토목학회)\n",
      "- 교량공사 시공자료\n",
      "- 교량공사 안전점검 Check Lisk : 한국산업안전보건공단 건설안전기술자료\n",
      "\n",
      "○ 관련법규・규칙・고시 등\n",
      "- 산업안전보건기술기준에 관한 규칙 제42조~제49조(추락에 의한 위험방지)\n",
      "- 산업안전보건기술기준에 관한 규칙 제136조~제146조(크레인)\n",
      "- 산업안전보건기술기준에 관한 규칙 제369조(교량작업)\n",
      "\n",
      "○ 기술지침의 적용 및 문의\n",
      "\n",
      "이 기술지침에 대한 의문 또는 문의는 한국산업안전보건공단 홈페이지 안전보건기술지침 소관 분야별 문의처 안내를 참고하시기 바랍니다.\n",
      "\n",
      "공표일자 : 2012년 11월 29일\n",
      "제 정 자 : 한국산업안전보건공단 이사장\n"
     ]
    },
    {
     "name": "stderr",
     "output_type": "stream",
     "text": [
      "INFO:httpx:HTTP Request: POST http://localhost:8000/v1/chat/completions \"HTTP/1.1 200 OK\"\n",
      " 16%|█▌        | 3/19 [00:21<02:09,  8.12s/it]"
     ]
    },
    {
     "name": "stdout",
     "output_type": "stream",
     "text": [
      "--------------------------------\n",
      "Processed: 강박스 거더 교량공사 안전보건작업 지침\n",
      "\n",
      "1. 목 적\n",
      "\n",
      "이 지침은 강박스(Steel Box) 거더 구조의 교량공사에 적용하며 산업안전보건 기준에 관한 규칙(이하 “안전보건규칙”이라 한다.) 제42조~제49조(추락에 의한 위험방지), 제136조~제146조(크레인), 제369조(교량작업)의 규정에 의거 안전한 작업방법 및 추락, 낙하, 봉괴, 감전 등의 재해를 예방하기 위하여 필요한 작업 단계별 안전사항 및 안전시설에 관한 기술적 사항 등을 정함을 목적으로 한다.\n",
      "\n",
      "2. 적용범위\n",
      "\n",
      "이 지침은 강박스를 인양장비를 이용하여 교각위에 거치하고, 거푸집을 설치한 후 상부 슬래브를 콘크리트로 타설하여 교량을 완성하는 <그림 1>과 같은 강박스 거더 교량공사에 적용한다.\n",
      "\n",
      "3. 용어의 정의\n",
      "\n",
      "(1) 이 지침에서 사용되는 용어의 정의는 다음과 같다.\n",
      "\n",
      "(가) “강박스 거더교(Steel box girder bridge)”라 함은 철판으로 제작된 박스 형태의 거더를 현장에서 고장력볼트, 릴벳이나 용접이음으로 조립하고 크\n"
     ]
    },
    {
     "name": "stderr",
     "output_type": "stream",
     "text": [
      "INFO:httpx:HTTP Request: POST http://localhost:8000/v1/chat/completions \"HTTP/1.1 200 OK\"\n",
      " 21%|██        | 4/19 [00:30<02:04,  8.30s/it]"
     ]
    },
    {
     "name": "stdout",
     "output_type": "stream",
     "text": [
      "--------------------------------\n",
      "Processed: 레인 등 인양장비를 이용하여 교각위에 거치한 후 거푸집을 설치하고 상부 슬래브를 콘크리트로 타설하여 완성하는 교량을 말한다. 강박스 거더교는 스틸박스 거더교 또는 강합성 상형교라고도 부르며, 강교 중 가장 많이 사용되는 교량형식으로 곡선형 교량 및 지간 30m 이상의 직선형 교량에 주로 적용된다.\n",
      "\n",
      "(나) “강박스 거더(Steel box girder)”라 함은 철판을 절단하여 볼트나 용접이 음으로 박스형태로 조립한 후 교량의 상부에 설치된 거더를 말하며, 일반적으로 단면 형상에 따라 직사각형 박스 및 사다리꼴형 박스로 나눌 수 있고, 단면의 구성에 따라 단실박스(Single cell box), 다실박스(Multi cell box), 다중박스(Multiple single cell box)로 나눌 수 있으며, 교폭이 좁은 경우에는 주로 단실박스가 사용되고, 교폭이 넓은 경우에는 다실박스나 단실박스 2개 이상 병렬로 연결한 다중박스가 사용된다.\n"
     ]
    },
    {
     "name": "stderr",
     "output_type": "stream",
     "text": [
      "INFO:httpx:HTTP Request: POST http://localhost:8000/v1/chat/completions \"HTTP/1.1 200 OK\"\n",
      " 26%|██▋       | 5/19 [00:39<01:59,  8.52s/it]"
     ]
    },
    {
     "name": "stdout",
     "output_type": "stream",
     "text": [
      "--------------------------------\n",
      "Processed: (다) “다이아프레임(Diaphragm)”이라 함은 강박스에서 폐단면 부재의 형상을 유지하고 힘을 받는 강박스 부재의 좌굴방지 및 비틀림에 대한 강성을 높이기 위해 강박스 내부에 부재축에 직각으로 배치된 판 모양의 격벽을 말한다.\n",
      "\n",
      "(라) “고장력 볼트(High tension bolt)”라 함은 보통 볼트에 비하여 훨씬 높은 인장강도를 지닌 볼트를 말하며, 주로 철골구조 부재의 마찰접합에 사용되고, 릿넷에 비해 소음이 적고, 용접에 의한 화재의 위험성도 적으며 불량부분을 쉽게 보수할 수 있는 장점을 가지고 있다.\n",
      "\n",
      "(마) “덧판 이음(Spliced joint)”이라 함은 두 모재를 서로 맞대어 놓고 덧판을 써서 용접이나 볼트로 체결하여 이어 주는 것을 말한다.\n",
      "\n",
      "(바) “가조립(Temporary assembly)”이라 함은 강구조물의 각 부재가 완성되면 제작 공장이나 현장에서 본조립에 앞서 구조물의 전부 또는 일부를\n"
     ]
    },
    {
     "name": "stderr",
     "output_type": "stream",
     "text": [
      "INFO:httpx:HTTP Request: POST http://localhost:8000/v1/chat/completions \"HTTP/1.1 200 OK\"\n",
      " 32%|███▏      | 6/19 [00:48<01:52,  8.63s/it]"
     ]
    },
    {
     "name": "stdout",
     "output_type": "stream",
     "text": [
      "--------------------------------\n",
      "Processed: 볼트 및 드리프트 핀(Drift pin)으로 조립하는 것을 말하며, 이때 볼트 구명 확대, 휘 수정, 검사 등을 실시한다.\n",
      "\n",
      "사) “드리프트 핀(Drift pin)”이라 함은 철골부재를 조립할 때 접합부의 구멍이 일치하지 않는 경우 두 부재를 당겨서 일치시키기 위해 사용되는 강철재 핀을 말한다.\n",
      "\n",
      "아) “가로보(Cross beam)”라 함은 메인 거더(Main girder)에 대해 가로 방향으로 만들어진 보를 말하고, 거더 바닥에서 바닥보와 같은 작용을 하며, 가로방향의 강성을 증가시키기 위해 설치하게 된다.\n",
      "\n",
      "(2) 그 밖의 이 지침에서 사용하는 용어의 정의는 특별한 규정이 있는 경우를 제외하고는 산업안전보건법, 같은 법 시행령, 같은 법 시행규칙 및 산업안전보건기준에 관한 규칙에서 정하는 바에 의한다.\n",
      "\n",
      "4. 강박스 거더 교량공사 작업절차\n",
      "\n",
      "강박스 거더를 현장에서 설치하는 시공순서는 <그림 6>과 같다.\n",
      "\n",
      "<그림 6> 강박스 거더 교량 시공순서\n"
     ]
    },
    {
     "name": "stderr",
     "output_type": "stream",
     "text": [
      "INFO:httpx:HTTP Request: POST http://localhost:8000/v1/chat/completions \"HTTP/1.1 200 OK\"\n",
      " 37%|███▋      | 7/19 [01:02<02:07, 10.63s/it]"
     ]
    },
    {
     "name": "stdout",
     "output_type": "stream",
     "text": [
      "--------------------------------\n",
      "Processed: 5. 일반적인 안전조치사항\n",
      "\n",
      "(1) 안전보건총괄책임자는 각 세부공정별로 위험성평가를 실시하고 위험등급에 따른 관리대상 위험요인을 정하여 제예방대책을 수립하고 작업하여야 한다.\n",
      "\n",
      "(2) 위험성평가를 실시할 때에는 설계도서, 현장조건, 시행하고자 하는 안전조치사항, 투입되는 근로자 및 건설장비 등을 종합적으로 검토하여 위험요인을 제거하거나 위험수준을 낮출 수 있도록 제예방대책을 수립한 후 작업을 시작하여야 한다.\n",
      "\n",
      "(3) 시공자는 고소작업에 따른 근로자들의 안전을 고려하여 추락 및 낙하물 방지시설을 설치하여야 한다.\n",
      "\n",
      "(4) 추락의 위험이 있는 고소작업의 경우에는 근로자가 안전하게 승강할 수 있는 승강장비와 안전단계 설치 등 추락 예방 조치를 하여야 한다.\n",
      "\n",
      "(5) 관리감독자는 작업계획을 수립하고 작업 시작 전 및 작업 중에 다음 사항을 준수하여야 한다.\n",
      "   (가) 재료, 기구의 결함 유무를 점검하고 불량품을 제거\n",
      "   (나) 올바른 작업 방법 및 순서를 근로자들에게 교육 실시\n",
      "   (다) 작업을 지휘하고 근로자의 보호구 착용상태 확인\n",
      "\n",
      "(6) 충전선로의 근접 작업시에는 고압선 등 전력선과 산업안전보건기준에 관한 규칙 제321조의 접근 한계거리의 준수하여 설치하고, 신호수를 배치하여 고압선에 접촉하지 않도록 하여야 한다.\n",
      "\n",
      "(7) 화재의 위험이 있는 장소에서 용접 및 용단 작업 시 소화기, 방화수 등을 비치하여 화재를 예방하여야 한다.\n",
      "\n",
      "(8) 절단, 절삭, 용접작업 시 감전방지를 위해 접지 및 누전차단기가 설치된 분전반의 전원을 사용하고, 전선의 피복손상 유무를 확인하여야 한다.\n",
      "\n",
      "(9) 강풍 시 고소에 있는 상부 자재 등이 낙하 및 비래가 발생하지 않도록 조치하여야 한다.\n"
     ]
    },
    {
     "name": "stderr",
     "output_type": "stream",
     "text": [
      "INFO:httpx:HTTP Request: POST http://localhost:8000/v1/chat/completions \"HTTP/1.1 200 OK\"\n",
      " 42%|████▏     | 8/19 [01:14<01:59, 10.89s/it]"
     ]
    },
    {
     "name": "stdout",
     "output_type": "stream",
     "text": [
      "--------------------------------\n",
      "Processed: (10) 작업에 사용할 장비, 기계, 기구, 공구 등은 해당 공법에 적합 여부를 확인하고 사용 중 문제가 발생하지 않도록 점검하여야 한다.\n",
      "\n",
      "(11) 작업에 사용할 기계, 기구, 공구 등의 불량 여부를 작업 전에 확인, 점검하여야 한다.\n",
      "\n",
      "(12) 부재의 반입 및 반출, 가조립을 위한 작업 시 작업지휘자의 지시를 준수하여 작업을 직접 지휘하는, 교량 부재에 손상을 주지 않도록 취급하여야 한다.\n",
      "\n",
      "(13) 작업 후 작업장 주변을 정리, 정돈하여야 한다.\n",
      "\n",
      "6. 강박스 거더 설치 시 안전작업\n",
      "\n",
      "6.1 강박스 거더 반입\n",
      "\n",
      "(1) 강박스 거더 반입시 신호수를 배치하고, 일정한 표준방법을 정하여 신호하여야 한다.\n",
      "\n",
      "(2) 작업구역 내 출입금지 구역을 지정하여 작업 관계자의 출입을 금지시켜야 한다.\n",
      "\n",
      "(3) 제작된 부재 취급 시에는 균열이나 파손을 입지 않도록 하여야 한다.\n",
      "\n",
      "(4) 바람 등에 전도되지 않도록 지지대를 설치하여야 한다.\n",
      "\n",
      "(5) 운반차량은 정격하중, 적재길이 및 선회반경 등의 현장 및 작업 조건을 고려하여 선정하여야 한다.\n",
      "\n",
      "(6) 운반로는 충분한 지내력을 갖도록 정비하여야 하며, 적절한 폭을 확보하여야 한다.\n",
      "\n",
      "(7) 이음판, 연결판, 수평 브레이싱, 엠플, 엠플 볼트, 반침, 외셔 등 부속품을\n"
     ]
    },
    {
     "name": "stderr",
     "output_type": "stream",
     "text": [
      "INFO:httpx:HTTP Request: POST http://localhost:8000/v1/chat/completions \"HTTP/1.1 200 OK\"\n",
      " 47%|████▋     | 9/19 [01:26<01:52, 11.23s/it]"
     ]
    },
    {
     "name": "stdout",
     "output_type": "stream",
     "text": [
      "--------------------------------\n",
      "Processed: 같은 것끼리 모아 철선 등으로 결속하여 운반 및 관리하여 낙하, 도괴 등의 재해를 예방하여야 한다.\n",
      "\n",
      "(8) 현장조립에 사용할 일반 볼트, 너트, 리벳 및 외셔 등은 종류별로 구분해서 보관하여야 한다.\n",
      "\n",
      "(9) 부재운반 차량의 주정차시 사이드 브레이크를 확인하여야 하고, 비탈면인 경우 바퀴에 구름방지용 밴기를 반드시 설치하여야 한다.\n",
      "\n",
      "6.2 강박스 거더 검사\n",
      "\n",
      "(1) 강박스 거더 반입 및 운반 시 변형이나 괴손이 있는지 확인하여야 한다.\n",
      "\n",
      "(2) 볼트가 제작 후 6개월 이상 된 경우에는 현장 예비시험을 통해 토크를 측정하여 기준치 이상의 것을 사용하여야 한다.\n",
      "\n",
      "(3) 설계상의 볼트 체결상태를 확인하고, 볼트에 체결이 완료되었음을 확인할 수 있도록 식별표시가 되어 있는지를 확인하여야 한다.\n",
      "\n",
      "(4) 볼트 체결력이 부족한 경우에는 더 조이고, 초과 시에는 볼트·너트를 교환하여야 한다.\n",
      "\n",
      "6.3 강박스 거더 및 부재 야적\n",
      "\n",
      "(1) 부재는 건고한 지반 및 평탄한 곳에 야적 하여야 한다.\n",
      "\n",
      "(2) 받침 등의 손상 및 불량 여부를 확인한 후에 부재를 야적하여야 한다.\n",
      "\n",
      "(3) 부재는 지정한 장소에 조립작업 순서에를 고려하여 보관하여야 한다.\n",
      "\n",
      "(4) 받침목을 사용하여 단단으로 부재 야적 시, 3단 이하 적재하고 도괴 예방 조치를 하여야 한다.\n"
     ]
    },
    {
     "name": "stderr",
     "output_type": "stream",
     "text": [
      "INFO:httpx:HTTP Request: POST http://localhost:8000/v1/chat/completions \"HTTP/1.1 200 OK\"\n",
      " 53%|█████▎    | 10/19 [01:34<01:32, 10.33s/it]"
     ]
    },
    {
     "name": "stdout",
     "output_type": "stream",
     "text": [
      "--------------------------------\n",
      "Processed: (5) 현장에 부재를 약착할 경우 부재의 접합면이 지면에 접하여 부식되지 않도록 받침 등을 사용하여야 하고, 장기간 약착할 경우에는 손상 및 부식을 방지할 수 있도록 조치를 취하여야 한다.\n",
      "\n",
      "(6) 약착작업 중 전도하거나 낙하, 부재 간 접촉으로 부재가 손상되지 않도록 하여야 한다.\n",
      "\n",
      "(7) 약착 중 부재 및 거더의 자중에 의해 손상되지 않도록 받침의 형상과 간격 등을 정하여야 한다.\n",
      "\n",
      "(8) 약착된 강박스 거더 하부에는 출입금지 표시를 설치하고 근로자들의 출입을 금지시켜야 한다.\n",
      "\n",
      "(9) 볼트 보관시 녹 발생, 나사부의 파손에 주의하여야 하며, 습기없는 창고에 보관하여야 한다.\n",
      "\n",
      "6.3 현장조립\n",
      "\n",
      "(1) 부재의 접합면은 조립 전에 깨끗하게 청소하여야 한다.\n",
      "\n",
      "(2) 조립 중 부재의 손상이 발생하지 않도록 유의하여 조립하여야 한다.\n"
     ]
    },
    {
     "name": "stderr",
     "output_type": "stream",
     "text": [
      "INFO:httpx:HTTP Request: POST http://localhost:8000/v1/chat/completions \"HTTP/1.1 200 OK\"\n",
      " 58%|█████▊    | 11/19 [01:44<01:20, 10.10s/it]"
     ]
    },
    {
     "name": "stdout",
     "output_type": "stream",
     "text": [
      "--------------------------------\n",
      "Processed: (3) 부재와 이음판 또는 연결판 등은 조립에 의하여 밀착하도록 하여야 한다.\n",
      "\n",
      "(4) 지상 조립에서 고소 작업이 필요한 경우 이동식비계나 계단식 발판을 사용 하여야 하고, 사다리 이용하여 승하강 하는 경우에는 사다리를 고정하거나 2인 1조 작업을 실시하는 등의 전도 예방 조치를 취하여 한다.\n",
      "\n",
      "<그림 8> 강박스 거더 지상조립\n",
      "\n",
      "(5) 가조립은 정리된 장소에 실시하고 부재는 건고한 지지재로 전도되지 않도록 고정하여야 한다.\n",
      "\n",
      "6.4 교량받침(Shoe) 설치\n",
      "\n",
      "(1) 교량받침(SHoe)은 설치 전에 품질을 확인한 후 현장에 운반하여 정위치에 설치하여야 한다.\n",
      "\n",
      "(2) 교량받침은 설계서를 검토하여 적정한 기능을 발휘할 수 있도록 정확하게 설치하여야 한다.\n",
      "\n",
      "(3) 교량받침은 강박스 거더 인양 전에 먼저 임시로 설치하고 거더 설치 후 재 조정하여 고정시켜야 한다.\n",
      "\n",
      "(4) 교량받침 조정은 설치 시 온도 보정, 설치 후 사하중에 의한 거더의 이동량을 확인하고 보정하여야 한다.\n"
     ]
    },
    {
     "name": "stderr",
     "output_type": "stream",
     "text": [
      "INFO:httpx:HTTP Request: POST http://localhost:8000/v1/chat/completions \"HTTP/1.1 200 OK\"\n",
      " 63%|██████▎   | 12/19 [01:57<01:17, 11.12s/it]"
     ]
    },
    {
     "name": "stdout",
     "output_type": "stream",
     "text": [
      "--------------------------------\n",
      "Processed: 6.5 이동식 크레인 작업\n",
      "\n",
      "(1) 사용하는 장비의 종류 및 성능, 운행경로, 작업방법, 안전점검 사항 등을 확인하고 작업계획서를 작성하여야 한다.\n",
      "\n",
      "(2) 이동식 크레인 2대로 함께 인양할 때에는 하중의 전용을 고려하여 크레인의 사양 및 설치 위치, 인양 방법 등을 포함한 작업계획서를 작성하여야 한다.\n",
      "\n",
      "(3) 이동식 크레인의 봉 끝단 부착금구 및 도르레, 차체 등의 노후 및 부식상태 등의 이상유무를 확인하여야 한다.\n",
      "\n",
      "(4) 작업 시작 전에 과부하방지장치, 진격방지장치 등의 작동여부를 확인하여야 한다.\n",
      "\n",
      "(5) 크롤러 크레인의 경우 충분한 지지력이 확보된 건고한 지반위에 설치하여야 한다.\n",
      "\n",
      "(6) 트럭 크레인의 경우 아웃트리거는 충분한 지지력이 확보된 건고한 지반위에 받침판을 깔고 설치하여야 한다.\n",
      "\n",
      "(7) 크레인 인양 작업시 신호수를 배치하고, 운전자가 신호수가 서로 신호를 확인할 수 있는 장소에서 일정한 표준방법을 정하여 신호할 수 있도록 하여야 한다.\n",
      "\n",
      "(8) 이동식 크레인의 신호방법은 크레인 작업표준 신호지침 및 KOSHA GUIDE C-48-2012(건설기계 안전보건작업지침)을 따른다.\n",
      "\n",
      "(9) 크레인의 회전반경내에 안전체크, 출입금지 표지판 설치 등 관계자의 출입금지 조치를 취하여야 한다.\n",
      "\n",
      "(10) 이동식 크레인의 정격하중은 설계기준, 장비 매뉴얼과 제원표, 인양능력표 등을 확인하여 정하여야 한다.\n",
      "\n",
      "(11) 이동식 크레인에는 운전자 및 근로자들에게 잘 보이는 위치에 정격하중 표지를 부착하여야 한다.\n"
     ]
    },
    {
     "name": "stderr",
     "output_type": "stream",
     "text": [
      "INFO:httpx:HTTP Request: POST http://localhost:8000/v1/chat/completions \"HTTP/1.1 200 OK\"\n",
      " 68%|██████▊   | 13/19 [02:11<01:11, 11.95s/it]"
     ]
    },
    {
     "name": "stdout",
     "output_type": "stream",
     "text": [
      "--------------------------------\n",
      "Processed: (12) 줄걸이 용구의 안전 유의사항은 운반역 표준안전 작업지침 및 KOSHA GUIDE C-48-2012(건설기계 안전보건작업 지침)을 따른다.\n",
      "\n",
      "(13) 강부재 적재 시 슬링(Sling)이나 혹(Hook)이 부재 틈에 걸리지 않도록 받침목의 위치와 높이를 선정하여야 한다.\n",
      "\n",
      "(14) 강부재 하역 시 반침블랑, 편심 등에 의한 유동이 있을 수 있으므로 인양물 하역 전 일반정지 후 인양물 반침상태 등을 확인하여야 한다.\n",
      "\n",
      "(15) 섬유체질의 슬링을 강부재를 감아 인양시 슬링의 파단을 방지하기 위해 강제모서리와 로프 접촉부에 보호대를 설치하여야 한다.\n",
      "\n",
      "(16) 부재 인양 시 이동식 크레인 지브의 경사각도를 고려한 최대허용하중을 준수하여야 한다.\n",
      "\n",
      "(17) 부재 인양 시 인양작업계획서에 따라 안전작업절차를 준수하여야 한다.\n",
      "\n",
      "(18) 인양작업 시 크레인의 전도방지를 위하여 아웃트리거 설치상태를 점검하여야 한다.\n",
      "\n",
      "(19) 이동식 크레인의 후진 작업시에는 유도자에 의해 작업해야 하며, 유도자는 운전자가 인식이 가능한 장소에서 유도하여야 한다.\n",
      "\n",
      "(20) 다음의 어느 하나에 해당하는 악천후 시에는 작업을 중지하여야 한다.\n",
      "(가) 풍속이 초당 10m이상의 경우\n",
      "(나) 강우량이 시간당 1mm 이상인 경우\n",
      "(다) 강설량이 시간당 1cm 이상인 경우\n",
      "\n",
      "6.6 강박스 거더 설치\n",
      "\n",
      "(1) 조립한 교량부재를 인양하기 위한 슬링은 정해진 위치에 걸고, 갈이 지거나 날카로운 부분에 슬링이 접하는 곳은 완충제를 설치하여 슬링이 손상되지 않도록 하여야 한다.\n"
     ]
    },
    {
     "name": "stderr",
     "output_type": "stream",
     "text": [
      "INFO:httpx:HTTP Request: POST http://localhost:8000/v1/chat/completions \"HTTP/1.1 200 OK\"\n",
      " 74%|███████▎  | 14/19 [02:21<00:56, 11.34s/it]"
     ]
    },
    {
     "name": "stdout",
     "output_type": "stream",
     "text": [
      "--------------------------------\n",
      "Processed: (2) 조립한 교량 부재를 도로에서 인양하는 경우에는 차량통제 계획을 수립하고, 이 통제계획에 따라 작업공간에 차량이나 근로자들의 출입을 금지한 후 작업하여야 한다.\n",
      "\n",
      "(3) 조립한 교량부재를 인양할 때 신호수의 추락방지를 위해 인양되는 강박스 거더 위에서 신호하는 것을 금지하여야 한다.\n",
      "\n",
      "(4) 빔을 매단 상태에서 결속 상태 및 와이어로프 설치 각도 등의 적정 여부를 확인하면서 작업을 진행하여야 한다.\n",
      "\n",
      "(5) 가체결 볼트는 볼트 체결 작업을 마친 후 제거하여야 한다.\n",
      "\n",
      "(6) 강박스 거더 거치 및 유도 시 유도로프 및 보조기구를 사용하여야 한다.\n",
      "\n",
      "(7) 강박스 거더 거치 후 반드시 전도방지조치를 하여야 한다.\n",
      "\n",
      "(8) 강박스거더 연결작업에 필요한 이동식 달비계는 견고한 구조여야 하며, 작업발판 및 안전난간이 설치되어 있어야 하고, 볼트등의 부재 낙하방지를 위해 바닥에 합판 등을 이용하여 틈이 발생하지 않도록 설치하여야 한다.\n",
      "\n",
      "(9) 가로보 연결작업에 필요한 이동식 달비계는 견고한 구조여야 하며, 작업발판 및 안전난간이 설치되어 있어야 한다.\n"
     ]
    },
    {
     "name": "stderr",
     "output_type": "stream",
     "text": [
      "INFO:httpx:HTTP Request: POST http://localhost:8000/v1/chat/completions \"HTTP/1.1 200 OK\"\n",
      " 79%|███████▉  | 15/19 [02:28<00:40, 10.05s/it]"
     ]
    },
    {
     "name": "stdout",
     "output_type": "stream",
     "text": [
      "--------------------------------\n",
      "Processed: 가로보 연결작업에 필요한 이동식 달비계\n",
      "\n",
      "(10) 강박스 거더 하부의 낙하물 방지망은 지상에서 미리 설치하고, 지상 설치가 불가할 경우 안전대걸이시설을 갖추고 안전대를 사용하는 등 추락 제해 예방조치를 하여야 한다.\n",
      "\n",
      "(11) 거더 상부에는 안전대 걸이시설, 안전난간, 추락방지망 등의 추락제해 예방시설을 설치하여야 한다.\n",
      "\n",
      "(12) 거더 상부에 안전대 걸이시설을 설치하는 경우 가능하면 지상에서 설치한 후 인양하여야 한다.\n",
      "\n",
      "(13) 거더 상부에서 작업 시 안전모, 안전대 등 개인보호구를 착용하고 작업 하여야 한다.\n",
      "\n",
      "(14) 인양 부재 거치시 미세조정은 손으로 해서는 안되며, 유도로프나 보조기구를 사용하여야 한다.\n"
     ]
    },
    {
     "name": "stderr",
     "output_type": "stream",
     "text": [
      "INFO:httpx:HTTP Request: POST http://localhost:8000/v1/chat/completions \"HTTP/1.1 200 OK\"\n",
      " 84%|████████▍ | 16/19 [02:38<00:30, 10.17s/it]"
     ]
    },
    {
     "name": "stdout",
     "output_type": "stream",
     "text": [
      "--------------------------------\n",
      "Processed: (15) 강거더 간의 이동시 별도의 이동통로를 설치하고 안전난간을 설치하여야 하며, 가로보를 통해 이동여서는 안된다.\n",
      "\n",
      "(16) 박스 내부에서 작업을 하는 경우 적정한 조도 유지를 위한 조명등을 설치하고 필요시 휴대용 조명기구를 지급하여야 한다.\n",
      "\n",
      "(17) 박스내부 용접 및 도장 작업중 질식방지를 위하여 환기설비를 설치하고, 공기호흡기 등의 개인보호구를 지급하고 착용하여야 한다.\n",
      "\n",
      "7. 슬래브 시공시 안전작업\n",
      "\n",
      "7.1 거푸집 설치\n",
      "\n",
      "(1) 슬래브는 통행차량에 노출되어 하중을 직접 받는 구조물로서 슬래브 시공 중 양호한 콘크리트 품질관리와 타설면의 평탄성 확보를 위하여 고도의 시공관리를 요하며, 슬래브 거푸집은 시공 전에 현장여건을 감안하여 면밀히 구조 검토를 실시한 후 시공하여야 한다.\n",
      "\n",
      "(2) 슬래브 거푸집은 설계서의 기준을 준수하여 콘크리트 타설에 따른 모든 하중에 대하여 충분히 지지할 수 있도록 설치하여야 한다.\n",
      "\n",
      "(3) 슬래브 거푸집을 설치한 후에는 콘크리트 타설시 모르타르 등이 틈으로 새나가지 않도록 하여야 한다.\n"
     ]
    },
    {
     "name": "stderr",
     "output_type": "stream",
     "text": [
      "INFO:httpx:HTTP Request: POST http://localhost:8000/v1/chat/completions \"HTTP/1.1 200 OK\"\n",
      " 89%|████████▉ | 17/19 [02:51<00:21, 11.00s/it]"
     ]
    },
    {
     "name": "stdout",
     "output_type": "stream",
     "text": [
      "--------------------------------\n",
      "Processed: (4) 슬래브 타설전 교량반침 고정을 철저히 하여 콘크리트 타설시 교량 반침 위치가 변경되지 않도록 하고 교량반침의 임시 잠금장치는 슬래브 타설 후 제거하도록 한다.\n",
      "\n",
      "(5) 슬래브가 곡선구간으로 편구배가 있을 경우에는 콘크리트 탈설시 교량 받침의 위치가 변 경되지 않도록 하여야 하며 불가피하게 변경될 경우 잠금장치 제거고 설치하여야 한다.\n",
      "\n",
      "(6) 데크 플레이트를 설치하는 경우 조립순서에 따라 순차적으로 조립 고정 및 미고정 데크 플레이트는 위험표시를 하고, 단계별 시공에서 데크 플레이트 설치 구간에 개구부가 발생하지 않도록 하여야 하며 불가피하게 개구부가 발생하는 경우 추락방지망 설치 등 재해 예방 조치를 취하여야 한다.\n",
      "\n",
      "(7) 이동식 크레인을 이용하여 추락 및 낙하물방지망을 설치하는 경우 장비의 전도방지를 위해 견고한 지반에 설치 및 정격하중을 준수하고, 근로자는 견 고한 안전대걸이시설에 안전대를 걸고 작업을 하여야 하며, 작업 반경 내에 는 근로자의 출입을 통제하여야 한다.\n",
      "\n",
      "(8) 거푸집 브라켓(Bracket), 장선재, 합판 설치시 작업발판 및 안전난간설치, 안전대 부착설비에 안전대를 걸고 작업 실시, 추락 및 낙하물 방지망을 설치 등 추락 및 낙하물에 의한 재해를 예방하여야 한다.\n",
      "\n",
      "(9) 차량 통행구간에는 슬래브 하부에 낙하물 방호선반을 설치하여야 한다.\n",
      "\n",
      "<그림 13> 낙하물 방호선반\n"
     ]
    },
    {
     "name": "stderr",
     "output_type": "stream",
     "text": [
      "INFO:httpx:HTTP Request: POST http://localhost:8000/v1/chat/completions \"HTTP/1.1 200 OK\"\n",
      " 95%|█████████▍| 18/19 [03:05<00:11, 11.84s/it]"
     ]
    },
    {
     "name": "stdout",
     "output_type": "stream",
     "text": [
      "--------------------------------\n",
      "Processed: (10) 슬래브의 양쪽에는 안전난간 설치 등 추락방지 조치를 하여야 한다.\n",
      "\n",
      "7.2 철근 배근 및 조립\n",
      "\n",
      "(1) 철근의 인양 및 운반, 조립 등의 작업 중에 발생할 수 있는 전도, 험착, 추락 등의 재해예방계획을 수립하여야 한다.\n",
      "\n",
      "(2) 철근 및 강선에 의한 부상을 예방할 수 있도록 노출된 철근 및 강선에는 보호캡을 써우고 위험표시를 하며, 운반시 낙하 등을 예방하여야 한다.\n",
      "\n",
      "(3)근로자의 이동시 배근된 바닥 철근에 걸려 넘어지는 것을 예방할 수 있도록 안전한 통로를 설치하여야 한다.\n",
      "\n",
      "(4) 철근 인양작업 시 2줄 걸이 등의 방법으로 낙하에 의한 재해를 예방하고 필요시 달줄·달포대 또는 인양용 박스를 사용하여야 한다.\n",
      "\n",
      "7.3 콘크리트 타설\n",
      "\n",
      "(1) 높은 장소에서 콘크리트 타설 시 안전난간 등 추락예방시설을 설치하고 근로자는 안전모, 안전대 등의 보호구를 항상 착용한 후 작업하여야 한다.\n",
      "\n",
      "(2) 전기기계·기구의 배선은 통로 바닥에 배선되지 않도록 하고, 가공 설치하거나 부득이 바닥에 배선할 때는 보호관 설치 등의 조치를 하여야 한다.\n",
      "\n",
      "(3) 콘크리트 타설 시 레미콘 차량의 안전 및 교통통제를 위해 차량 통제 요원을 배치하여야 한다.\n",
      "\n",
      "(4) 콘크리트 타설 방법 및 순서를 포함한 작업계획을 수립하여 준수하고, 구조물 전체가 기울어지거나 변형되어 붕괴되지 않도록 콘크리트를 한곳에 펼쳐 타설하여야 한다.\n",
      "\n",
      "(5) 콘크리트 컴프라를 이용하여 콘크리트를 타설 시 타설 위치 및 폭대의 적\n"
     ]
    },
    {
     "name": "stderr",
     "output_type": "stream",
     "text": [
      "INFO:httpx:HTTP Request: POST http://localhost:8000/v1/chat/completions \"HTTP/1.1 200 OK\"\n",
      "100%|██████████| 19/19 [03:12<00:00, 10.11s/it]\n"
     ]
    },
    {
     "name": "stdout",
     "output_type": "stream",
     "text": [
      "--------------------------------\n",
      "Processed: 정 각도를 사전에 검토하여야 한다.\n",
      "\n",
      "(6) 콘크리트 펌프카를 이용하여 콘크리트를 타설 시 배관단부에 부착된 호스를 직접 감고 움직여서는 안되며, 이동을 위한 안내줄(Guy rope)을 사용하여야 한다.\n",
      "\n",
      "<그림 14> 슬래브 콘크리트 타설\n",
      "\n",
      "(7) 콘크리트 타설 및 다짐 시 진동다짐기(Vibrator)가 기푸짐 및 철근에 직접 닿지 않도록 주의하여야 한다.\n",
      "\n",
      "(8) 진동다짐기의 감전방지를 위해 작업 전에 전선의 피복손상 여부를 점검한 후 접지 및 누전차단기가 설치된 분전반의 전원을 사용하여야 한다.\n",
      "---End---\n",
      "Processing 가설계단 설치 및 사용 안전보건작업 지침\n"
     ]
    },
    {
     "name": "stderr",
     "output_type": "stream",
     "text": [
      "  0%|          | 0/11 [00:00<?, ?it/s]INFO:httpx:HTTP Request: POST http://localhost:8000/v1/chat/completions \"HTTP/1.1 200 OK\"\n",
      "  9%|▉         | 1/11 [00:02<00:23,  2.34s/it]"
     ]
    },
    {
     "name": "stdout",
     "output_type": "stream",
     "text": [
      "--------------------------------\n",
      "Processed: 가설계단의 설치 및 사용\n",
      "안전보건작업 지침\n",
      "\n",
      "한국산업안전보건공단\n",
      "\n",
      "2012. 8.\n"
     ]
    },
    {
     "name": "stderr",
     "output_type": "stream",
     "text": [
      "INFO:httpx:HTTP Request: POST http://localhost:8000/v1/chat/completions \"HTTP/1.1 200 OK\"\n",
      " 18%|█▊        | 2/11 [00:17<01:30, 10.05s/it]"
     ]
    },
    {
     "name": "stdout",
     "output_type": "stream",
     "text": [
      "--------------------------------\n",
      "Processed: 안전보건지침의 개요\n",
      "\n",
      "○ 작성자 : 한국안전학회 이근석\n",
      "\n",
      "○ 제·개정 경과\n",
      "- 2011년 6월 건설안전분야 제정위원회 심의(제정)\n",
      "- 2012년 7월 건설안전분야 제정위원회 심의(개정)\n",
      "\n",
      "○ 관련 법규・고시・규격 및 자료\n",
      "1. 산업안전보건기준에 관한 규칙 제21∼30조(제1편 총칙 제3장 통로)\n",
      "2. 노동부고시, 제2009-38호(가설공사 표준안전 작업지침)\n",
      "3. KOSHA GUIDE G–85–2012(작업장의 통로 및 계단설치에 관한 기술지침)\n",
      "4. KOSHA GUIDE M–80–2011(기계 및 설비의 통로설치에 관한 기술지침)\n",
      "5. 가설공사 표준시방서(한국건설기술협회, 2006)\n",
      "6. 건설공사 가시설물 안전점검 편람(한국건설기술연구원, 1995)\n",
      "7. 건축기술지침(대한건축학회, 2006)\n",
      "8. KS : 작업발판, KS F 8012 : 2009\n",
      "9. BS : temporary works–equipment (BS EN 12811–1 : 2003)\n",
      "   part 1 : scaffolds–performance requirements & general design\n",
      "10. BS : safety of machinery – permanent means of access to machinery\n",
      "    (BS EN 14122–3 : 2001)\n",
      "    part 3 : stairways, stepladders and guard–rails\n",
      "11. OHSA : 1926.1052 stairways\n",
      "12. OHSA : 1910.24 fixed industrial stairs\n",
      "13. OHSA 3124–12R 2003, A guide to OHSA rules– stairways & ladders\n",
      "14. OHSA office of training & education. May 1996\n",
      "\n",
      "○ 기술지침의 적용 및 문의\n",
      "\n",
      "이 기술지침에 대한 의견 또는 문의는 한국산업안전보건공단 홈페이지 안전보건기술지침 소관 분야별 문의처 안내를 참고하시기 바랍니다.\n",
      "\n",
      "공표일자 : 2012년 8월 27일\n",
      "제 정 자 : 한국산업안전보건공단 이사장\n"
     ]
    },
    {
     "name": "stderr",
     "output_type": "stream",
     "text": [
      "INFO:httpx:HTTP Request: POST http://localhost:8000/v1/chat/completions \"HTTP/1.1 200 OK\"\n",
      " 27%|██▋       | 3/11 [00:28<01:23, 10.44s/it]"
     ]
    },
    {
     "name": "stdout",
     "output_type": "stream",
     "text": [
      "--------------------------------\n",
      "Processed: 가설계단의 설치 및 사용 안전보건작업 지침\n",
      "\n",
      "1. 목 적\n",
      "이 지침은 산업안전보건기준에 관한 규칙(이하 “안전보건규칙”이라 한다) 제1편(총칙) 제3장(통로) 제21조∼제30조의 규정에 따라 건설현장에서 가설계단의 설치, 사용 및 유지관리 하는데 필요한 안전보건기준을 정함을 목적으로 한다.\n",
      "\n",
      "2. 적용범위\n",
      "이 지침은 건설현장에서 높이가 다른 두 지점 간을 통행하기 위하여 가설계단을 설치할 때 적용한다.\n",
      "\n",
      "3. 용어의 정의\n",
      "(1) 이 지침에서 사용되는 용어의 정의는 다음과 같다.\n",
      "\n",
      "(가) “계단(Stairways)”이라 함은 30°부터 60° 까지의 경사각을 갖는 통로로서 수평부재는 판 모양이나 평면 발판으로 이루어진 것을 말한다.\n",
      "\n",
      "(나) “발판(Tread)”이라 함은 계단을 오르내리기 위해 한 발씩 내딛는 수평부재의 판 모양이나 평면 발판을 말한다.\n",
      "\n",
      "(다) “발판 폭(Width of Tread)”이라 함은 발판이 가로로 놓여있는 길이를 말한다.\n",
      "\n",
      "(라) “발판 높이(Rise)”라 함은 계단에 부착된 발판에서 위 발판과 아래 발판 사이의 수직 거리를 말한다.\n",
      "\n",
      "(바) “계단참(Landing)”이라 함은 계단의 끝부분에 위치한 수평면의 정지 지역을 말한다.\n"
     ]
    },
    {
     "name": "stderr",
     "output_type": "stream",
     "text": [
      "INFO:httpx:HTTP Request: POST http://localhost:8000/v1/chat/completions \"HTTP/1.1 200 OK\"\n",
      " 36%|███▋      | 4/11 [00:36<01:04,  9.24s/it]"
     ]
    },
    {
     "name": "stdout",
     "output_type": "stream",
     "text": [
      "--------------------------------\n",
      "Processed: 4. 이동통로 선정기준\n",
      "\n",
      "경사각에 따른 이동통로의 선정은 통상 다음과 같은 기준을 적용하며, 작업장 특성에 따라 약간의 조정은 가능하다.\n",
      "\n",
      "(1) 경사로는 경사각 30° 이내에서 설치하며, 경사각이 15°를 초과하는 때에는 미끄러지지 않는 구조로 하여야 한다.\n",
      "(2) 계단은 경사각 30°에서 60°까지의 구간에서 설치하여야 한다.\n",
      "(3) 사다리는 경사각 60°에서 90°까지 구간에서 설치하며, 이동식 사다리의 기울기는 75° 이하로 하여야 한다.\n",
      "\n",
      "5. 가설계단의 설치기준\n",
      "\n",
      "가설계단의 구조는 <그림. 1>와 같으며 아래의 요건을 만족하여야 한다.\n",
      "\n",
      "![그림. 1] 가설계단의 구조\n"
     ]
    },
    {
     "name": "stderr",
     "output_type": "stream",
     "text": [
      "INFO:httpx:HTTP Request: POST http://localhost:8000/v1/chat/completions \"HTTP/1.1 200 OK\"\n",
      " 45%|████▌     | 5/11 [00:51<01:09, 11.62s/it]"
     ]
    },
    {
     "name": "stdout",
     "output_type": "stream",
     "text": [
      "--------------------------------\n",
      "Processed: (1) 일반요건\n",
      "\n",
      "(가) 가설계단의 재료는 한국산업규격 \"KS F 8012 작업발판\"의 규정에 적합한 것이어야 하며, 다음의 규정에 적합하거나 이와 동등한 이상의 기계적 성질을 가진 것으로 사용하고, 주위 환경에 의해 발생되는 부식에 대해 저항성이 있어야 한다.\n",
      "\n",
      "| 재 질 | 구성 부분       | 재질 규정                     |\n",
      "|------|-----------------|------------------------------|\n",
      "| 강 재| 지지대           | KS D 3566에 규정하는 STK 400 또는 KS D 3568에 규정하는 SPSR 400 |\n",
      "|      | 계단발판 바닥재 | KS D 3566에 규정하는 STK 400 또는 KS D 3601에 규정하는 XS 42 |\n",
      "|      | 계단발판 보강재 | KS D 3501에 규정하는 SPHC     |\n",
      "|      | 걸침고리         | KS D 3503에 규정하는 SS 330   |\n",
      "| 알루미늄 합금 | 지지대, 계단발판 | KS D 6759에 규정하는 A 6063S |\n",
      "|      | 걸침고리         | KS D 6701에 규정하는 A 5052P 또는 KS D 6759에 규정하는 A 6063S |\n",
      "\n",
      "(나) 계단의 재료는 충분한 강도를 유지하여야 하며 사용 중에 안전성이 있어야 한다.\n",
      "\n",
      "(다) 발판을 구멍이 있는 재료로 만들 때에는 렌치, 기타 공구 등이 낙하할 위험이 없는 구조로 하여야 한다.\n",
      "\n",
      "(라) 발판은 이동시의 추락, 전도, 미끄러짐 등으로 인한 재해를 예방할 수 있는 구조로 설치되어야 한다.\n",
      "\n",
      "(마) 발판 끝부분과 계단참의 표면은 미끄럼방지 조치를 하여야 한다.\n",
      "\n",
      "(바) 계단 위와 주변에는 통행에 유해한 돌출된 못이나 철선 등이 없어야 한다.\n",
      "\n",
      "(사) 계단에는 자재나 공구 등을 적재하여서는 안된다.\n",
      "\n",
      "(2) 가설계단의 설계요건\n",
      "\n",
      "(가) 계단의 설계는 “가설공사표준시방서”에서 정하고 있는 허용응력 설계법을 활용하고, 강재 또는 알루미늄재 등과 같이 비교적 재사용이 많은 부재는 장기허용응력을 적용하여야 한다.\n"
     ]
    },
    {
     "name": "stderr",
     "output_type": "stream",
     "text": [
      "INFO:httpx:HTTP Request: POST http://localhost:8000/v1/chat/completions \"HTTP/1.1 200 OK\"\n",
      " 55%|█████▍    | 6/11 [01:08<01:07, 13.47s/it]"
     ]
    },
    {
     "name": "stdout",
     "output_type": "stream",
     "text": [
      "--------------------------------\n",
      "Processed: (나) 계단 및 계단참은 한국산업규격 “KS F 8012 작업발판”에서 규정하고 있는 통로의 역할을 하는 비계에 관한 하중을 적용하여 125㎏/㎡이상으로 하여야 한다.\n",
      "\n",
      "(다) 계단 발판 및 지지대의 처짐량 및 휨 하중에 관한 성능은 한국산업규격 “KS F 8012 작업발판”에서 규정하고 있는 다음과 같은 기준을 적용한다.\n",
      "\n",
      "| 항 목         | 규 정                  |\n",
      "|--------------|------------------------|\n",
      "| 계단 발판의 처짐량(cm) | 계단 발판 1.5이내      |\n",
      "| 지지대의 처짐량(cm)    | 전체 처짐(지지대 포함) 2.5이하 |\n",
      "| 지지대의 휨 하중(N)    | 5,390 이상              |\n",
      "\n",
      "(3) 가설계단의 안전요건\n",
      "가설계단의 구조에 관한 안전요건은 한국산업규격 “KS F 8012 작업발판”에서 규정하고 있는 건설공사 현장에서 근로자의 작업과 이동을 위해 사용되는 통로용 작업계단의 기준을 적용하여 다음과 같이 설정한다.\n",
      "\n",
      "(가) 발판의 폭(L)은 35cm 이상으로 하여야 한다.\n",
      "\n",
      "(나) 발판의 너비(g)는 18cm 이상으로 하고, 각각의 너비가 같은 크기이어야 한다.\n",
      "\n",
      "(다) 발판의 높이는 24cm 이하 이어야 하고, 동일한 계단에서의 발판 높이는 모두 일정하여야 한다. 단, 이 높이를 일정하게 하는 것이 불가능할 경우에는 출발지점 위치에서 첫 번째 발판에 국한하여 그 높이를 줄이거나 늘려야 한다.\n",
      "\n",
      "(라) 계단을 설치하려는 현장의 여건에 따라 발판의 폭, 너비 또는 높이를 변 경하고자 하는 경우에는 다음의 기준을 참고하여 응용하도록 한다.\n",
      "① 비계를 설치한 곳에 조립형 계단을 설치하는 경우에는 참고자료에 제시한 영국 규격 “BS EN 12811-1 : 2003”을 응용하도록 한다.\n",
      "② 기계 · 탱크 · 설비의 내·외부 계단이나 마루 · 난간 · 피트에 연결된 고정계단을 설치하는 경우에는 참고자료에 제시한 미국 규격 “OSHA 1910.24(e)”를 응용하도록 한다.\n",
      "\n",
      "(마) 발판의 겹침(r)은 평면상의 발판일 때는 0 이상(r≧0cm)이어야 하며, 판 모양의 발판일 때는 “r≧1cm”이상이 되어야 한다.\n"
     ]
    },
    {
     "name": "stderr",
     "output_type": "stream",
     "text": [
      "INFO:httpx:HTTP Request: POST http://localhost:8000/v1/chat/completions \"HTTP/1.1 200 OK\"\n",
      " 64%|██████▎   | 7/11 [01:22<00:53, 13.48s/it]"
     ]
    },
    {
     "name": "stdout",
     "output_type": "stream",
     "text": [
      "--------------------------------\n",
      "Processed: (바) 높이가 3m를 초과하는 계단에는 높이 3m 이내마다 너비 1.2m 이상의 계단참을 설치하여야 한다.\n",
      "\n",
      "(사) 계단을 설치하는 때에는 각각의 발판으로부터 높이 2m이내의 머리 공간에 장애물이 없도록 하여야 한다.\n",
      "\n",
      "(아) 최 상부의 발판은 계단참에 접하거나, 상부 발판과 계단참의 격차가 발판 높이와 같게 하여야 한다.\n",
      "\n",
      "6. 안전난간\n",
      "\n",
      "(1) 일반요건\n",
      "\n",
      "(가) 안전난간은 추락예방을 위한 장치로써 작업자가 추락위험이 있는 지역에 는 안전난간을 설치한다.\n",
      "\n",
      "(나) 높이 1m이상인 계단의 개방될 측면에는 안전난간을 설치하여야 한다.\n",
      "\n",
      "(다) 계단과 인접 구조물과의 사이가 20cm이내인 경우와 안전난간과 동등한 구조의 보호조치가 있는 경우에는 안전난간을 설치하지 않아도 된다.\n",
      "\n",
      "(라) 계단과 인접 구조물과의 사이가 3cm이상일 때에는 발끝막이판을 설치하여야 한다.\n",
      "\n",
      "(2) 안전난간\n",
      "\n",
      "안전난간의 구성요소는 상부 난간대, 중간 난간대, 난간기둥, 발끝막이판 등으로 구성된다.\n",
      "\n",
      "(가) 계단 발판에서 상부 난간대까지의 높이(H)는 0.9m이상 1.2m이하이어야 한다.\n",
      "\n",
      "(나) 중간 난간대는 상부 난간대와 발판의 중간지점에 설치하며, 그 공간의 폭 (B)은 60cm 이하이어야 한다.\n",
      "\n",
      "(다) 발끝막이판은 난간 바닥의 물체가 낙하 하는 것을 예방하기 위하여 계단 바닥면으로부터 10cm이상의 높이(h)를 유지토록 하고, 바닥면과의 틈새 가 없도록 하여야 한다.\n"
     ]
    },
    {
     "name": "stderr",
     "output_type": "stream",
     "text": [
      "INFO:httpx:HTTP Request: POST http://localhost:8000/v1/chat/completions \"HTTP/1.1 200 OK\"\n",
      " 73%|███████▎  | 8/11 [01:33<00:38, 12.71s/it]"
     ]
    },
    {
     "name": "stdout",
     "output_type": "stream",
     "text": [
      "--------------------------------\n",
      "Processed: (라) 계단 발판의 측면이 개방되어 있는 경우에는 폭 20cm 이상의 측면 보강재(w)를 설치하여야 한다.\n",
      "\n",
      "(마) 난간기둥 사이의 간격은 2m이내 이어야 하며, 만약 이 간격 이상이 되면 난간기둥을 보강하거나 고정 장치를 설치하여 임의의 방향으로 움직이는 100kg 이상의 하중에 견딜 수 있도록 하여야 한다.\n",
      "\n",
      "\\[\n",
      "H : \\text{난간 높이} \\quad h : \\text{발끝막이판 높이} \\\\\n",
      "B : \\text{난간사이 공간 폭} \\quad w : \\text{보강재 폭}\n",
      "\\]\n",
      "\n",
      "(그림. 2) 안전난간\n",
      "\n",
      "7. 기성품 가설계단의 응용\n",
      "\n",
      "(1) 일체형 가설계단\n",
      "일체형 가설계단은 <그림 3>과 같이 지지대, 계단발판 및 걸침 고리로 구성되고, 계단의 상단 및 하단에 발판 부착여부에 따라 I형과 Z형으로 구분한다. 일체형 가설계단은 다음 각 호의 규정에 적합하여야 하며 사용에 장려도 없어야 한다.\n",
      "\n",
      "(가) 지지대는 2본이 있어야 하며, 또한 각각 양 끝단에 걸침 고리를 가지고 있어야 한다.\n",
      "\n",
      "(나) 발판 폭은 35cm 이상으로 하고, 또한 그 바닥면은 미끄러짐 방지 기능을 가지고 있어야 한다.\n",
      "\n",
      "(다) 발판 너비는 18cm 이상으로 하고, 또한 각각의 너비가 같은 크기이어야 한다.\n"
     ]
    },
    {
     "name": "stderr",
     "output_type": "stream",
     "text": [
      "INFO:httpx:HTTP Request: POST http://localhost:8000/v1/chat/completions \"HTTP/1.1 200 OK\"\n",
      " 82%|████████▏ | 9/11 [01:43<00:23, 11.98s/it]"
     ]
    },
    {
     "name": "stdout",
     "output_type": "stream",
     "text": [
      "--------------------------------\n",
      "Processed: (라) 발판 높이는 24cm 이하이어야 하고, 일정한 간격으로 부착 고정된 구조 이어야 한다.\n",
      "\n",
      "(2) 조립형 가설계단\n",
      "조립형 가설계단은 그림 4와 같이 발판을 단관비계의 지지대에 크램프를 사용하여 작업장의 환경에 적합하게 조립한 것으로 다음 각 호의 규정에 적합하여야 하며 사용에 지장이 없어야 한다.\n",
      "\n",
      "(가) 가설계단의 경사각은 30°~60°를 유지하여 설치하도록 하여야 한다.\n",
      "\n",
      "(나) 발판 너비는 23cm 이상으로 하고, 또한 그 바닥면은 미끄럼 방지 기능을 가지고 있어야 한다.\n",
      "\n",
      "(다) 발판 높이는 23cm 이하이어야 하고, 일정한 간격으로 설치하여야 한다.\n",
      "\n",
      "(라) 단관비계와 크램프는 가설기자재 안전인증에 합격한 제품을 사용하여야한다.\n",
      "\n",
      "8. 가설계단 설치작업 중 안전 준수사항\n",
      "\n",
      "(1) 당해 작업의 관리감독자는 근로자에게 작업장소의 상황과 작업순서 등을 가능한 그림 등을 사용하여 정확하게 지시하여야 하며, 작업 중 예상되는 위험요인과 안전수칙을 충분히 설명하고 그 이행여부를 감독하여야 한다.\n",
      "\n",
      "(2) 근로자는 당해 작업에 적합한 개인보호구를 착용하여야 하며, 안전한 작업을 수행하도록 안전수칙을 준수하여야 한다.\n"
     ]
    },
    {
     "name": "stderr",
     "output_type": "stream",
     "text": [
      "INFO:httpx:HTTP Request: POST http://localhost:8000/v1/chat/completions \"HTTP/1.1 200 OK\"\n",
      " 91%|█████████ | 10/11 [01:58<00:12, 12.93s/it]"
     ]
    },
    {
     "name": "stdout",
     "output_type": "stream",
     "text": [
      "--------------------------------\n",
      "Processed: (3) 작업의 안전한 진행을 위하여 근로자의 경험 및 숙련여부를 고려하여 작업에 배치되도록 하여야 한다.\n",
      "\n",
      "(4) 작업구역 내에는 관계 근로자 외의 자의 출입을 금지시켜야 한다.\n",
      "\n",
      "(5) 출입금지 장소에는 울타리, 로프, 표지 등을 설치하여 작업장소에 접근할 수 없도록 하고, 필요에 따라 감시자를 배치하여야 한다.\n",
      "\n",
      "(6) 사용하는 기기, 공구 등은 정상적으로 작동할 수 있도록 작업전에 점검하고 불량공구는 사용을 금지하거나 정비한 다음에 사용하여야 한다.\n",
      "\n",
      "(7) 가설계단의 설치를 완료하면 설치상태를 점검한 후에 사용하도록 하여야 한다.\n",
      "\n",
      "9. 가설계단의 유지관리\n",
      "\n",
      "가설계단을 설치, 사용 및 유지관리를 위해 정기적으로 점검하고, 불량 혹은 이상이 발견되었을 경우에는 즉시 보수하도록 한다.\n",
      "\n",
      "(1) 설치 작업 중 점검\n",
      "\n",
      "(가) 재료가 규격에 적합한지 아닌지를 확인하여야 한다.\n",
      "\n",
      "(나) 재료에 녹, 변형 또는 손상 등에 의한 결함이 없는 지를 확인하여야 한다.\n",
      "\n",
      "(다) 발판이 설치기준에 따라 적합하게 되었는지를 확인하여야 한다.\n",
      "\n",
      "(2) 사용 및 유지관리 점검\n",
      "\n",
      "(가) 발판과 지지대의 접속이나 연결부의 이상 유무를 확인하여야 한다.\n",
      "\n",
      "(나) 발판의 변형 부식 또는 손상유무를 확인하여야 한다.\n",
      "\n",
      "(다) 발판위에 떨어져있는 자재나 공구 등의 유무를 확인하여야 한다.\n",
      "\n",
      "(라) 계단 주변의 통로 확보 및 정리정돈 상태를 확인하여야 한다.\n"
     ]
    },
    {
     "name": "stderr",
     "output_type": "stream",
     "text": [
      "INFO:httpx:HTTP Request: POST http://localhost:8000/v1/chat/completions \"HTTP/1.1 200 OK\"\n",
      "100%|██████████| 11/11 [02:18<00:00, 12.60s/it]"
     ]
    },
    {
     "name": "stdout",
     "output_type": "stream",
     "text": [
      "--------------------------------\n",
      "Processed: 부록: 참고자료\n",
      "\n",
      "1. 비계의 조립형 계단 설치기준 (출처: BS EN 12811-1 : 2003)\n",
      "\n",
      "*명칭: 1. 발판\n",
      "2. 계단참\n",
      "*기준(단위: cm)\n",
      "1) 발판높이: 17.5 ≤ u ≤ 22.5\n",
      "2) 겹침: -2.5 ≤ a ≤ 5.5\n",
      "3) 발판너비\n",
      "\n",
      "| 구분 | A형       | B형       |\n",
      "|------|-----------|-----------|\n",
      "| s    | 12.5 ≤ s < 16.5 | 16.5 ≤ s  |\n",
      "| g    | 15.0 ≤ g < 17.5 | 17.5 ≤ g  |\n",
      "\n",
      "2. 기계 · 탱크 · 설비의 내·외부 계단이나 마루 · 난간 · 피트에 연결된 고정 계단의 설치기준 (출처: OSHA 1910.24(e) Angle of stairway rise)\n",
      "\n",
      "| 경사각 | 발판 높이(cm) | 발판 너비(cm) |\n",
      "|--------|---------------|---------------|\n",
      "| 30°35' | 16.51         | 27.94         |\n",
      "| 32°08' | 17.15         | 27.31         |\n",
      "| 33°41' | 17.78         | 26.67         |\n",
      "| 35°16' | 18.42         | 26.04         |\n",
      "| 36°52' | 19.05         | 25.40         |\n",
      "| 38°29' | 19.69         | 24.77         |\n",
      "| 40°08' | 20.32         | 24.13         |\n",
      "| 41°44' | 20.96         | 23.50         |\n",
      "| 43°22' | 20.59         | 22.86         |\n",
      "| 45°00' | 22.23         | 22.23         |\n",
      "| 46°38' | 22.86         | 21.59         |\n",
      "| 48°16' | 23.50         | 20.96         |\n",
      "| 49°54' | 24.13         | 20.32         |\n",
      "---End---\n"
     ]
    },
    {
     "name": "stderr",
     "output_type": "stream",
     "text": [
      "\n"
     ]
    }
   ],
   "source": [
    "if __name__ == \"__main__\":\n",
    "    main()"
   ]
  },
  {
   "cell_type": "code",
   "execution_count": null,
   "metadata": {},
   "outputs": [],
   "source": []
  }
 ],
 "metadata": {
  "kernelspec": {
   "display_name": "olmocr",
   "language": "python",
   "name": "python3"
  },
  "language_info": {
   "codemirror_mode": {
    "name": "ipython",
    "version": 3
   },
   "file_extension": ".py",
   "mimetype": "text/x-python",
   "name": "python",
   "nbconvert_exporter": "python",
   "pygments_lexer": "ipython3",
   "version": "3.11.11"
  }
 },
 "nbformat": 4,
 "nbformat_minor": 2
}
